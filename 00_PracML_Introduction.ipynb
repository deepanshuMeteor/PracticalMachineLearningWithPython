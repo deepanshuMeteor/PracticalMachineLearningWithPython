{
 "cells": [
  {
   "cell_type": "markdown",
   "metadata": {},
   "source": [
    "# Practical Machine Learning"
   ]
  },
  {
   "cell_type": "markdown",
   "metadata": {},
   "source": [
    "## Introductions"
   ]
  },
  {
   "cell_type": "markdown",
   "metadata": {},
   "source": [
    "### Overview"
   ]
  },
  {
   "cell_type": "markdown",
   "metadata": {},
   "source": [
    "* Day 1: Introductions, Concepts & Examples\n",
    "    * AM: Whiteboarding & Group Discussion\n",
    "        * Intro to Data Science\n",
    "            * Business Outcomes\n",
    "        * Intro to ML & AI\n",
    "    * PM: Demos & Programming\n",
    "        * Intro to Python\n",
    "* Day 2: \n",
    "    * AM: Python Programming (for Data Science & ML)\n",
    "    * PM: Python Data Science Libraries\n",
    "* Day 3: Python Machine Learning\n",
    "    * AM: Whiteboarding \n",
    "        * Machine Learning Algorithms\n",
    "* Day 4: Python Data Analysis \n",
    "    * AM: Python Data Analysis & Visualization\n",
    "    * PM: Project \n",
    "* Day 5: Methodology of Machine Learning\n",
    "    * PM: Programming\n",
    "        * Machine Learning in Python"
   ]
  },
  {
   "cell_type": "markdown",
   "metadata": {},
   "source": [
    "## Admin\n",
    "\n",
    "* 9.30am to c. 4pm (END 4.30pm)\n",
    "* BREAK\n",
    "    * 20m finishing c. 11am \n",
    "    * c. 12pm - finishing 1pm\n",
    "    * 20m finishing c. 2.30pm \n",
    "    * + few more 5min breaks\n",
    "    \n",
    "* tools\n",
    "    * a single tool: Anaconda\n",
    "        * data science toolset + python\n",
    "    * https://repo.anaconda.com/archive/Anaconda3-2021.05-Windows-x86_64.exe\n",
    "    * second option\n",
    "        * connection to remote machine with anaconda installed\n",
    "* courseware\n",
    "    * released over a break\n",
    "    * you need anaconda to open/use/etc. the courseware"
   ]
  },
  {
   "cell_type": "markdown",
   "metadata": {},
   "source": [
    "## Steps to Using Anaconda\n",
    "\n",
    "1. OPEN \"Anaconda Navigator\" in Start Menu\n",
    "2. LAUNCH \"Jupyter Notebook\"\n",
    "3. GOTO  your downloads folder\n",
    "4. OPEN the courseware .zip file\n",
    "5. EXTRACT ALL to your downloads folder\n",
    "6. RETURN to Jupyter Notebook (browser window)\n",
    "7. BROWSE to your Downloads folder\n",
    "    * ie., click on the folder called Downloads\n",
    "8. OPEN the courseware folder"
   ]
  },
  {
   "cell_type": "markdown",
   "metadata": {},
   "source": [
    "## Michael Burgess"
   ]
  },
  {
   "cell_type": "markdown",
   "metadata": {},
   "source": [
    "* What's your name?\n",
    "* What's your Role?\n",
    "* What's your background in.. (anything relevant to course)\n",
    "    * stats, data, **python**\n",
    "* Why are you attending this course?\n",
    "    * What do you *expect* from this course?\n",
    "    * What are you *looking* to get out of this course?\n",
    "* Any hobbies/interests?"
   ]
  },
  {
   "cell_type": "markdown",
   "metadata": {},
   "source": [
    "* Michael Burgess\n",
    "    * michael.burgess@qa.com\n",
    "* Head of Capability - Data, Analytics & AI\n",
    "    * 6yr, defence,fintech,mobile, 5yr; Physics 7r\n",
    "* Arguing, Philosophy, Youtube, podcasts.... "
   ]
  },
  {
   "cell_type": "markdown",
   "metadata": {},
   "source": [
    "## Yukta \n",
    "\n",
    "* insurance company, software developer\n",
    "    * C#\n",
    "    * no prior knowledge in ML\n",
    "    * badminton, table tennis, friends"
   ]
  },
  {
   "cell_type": "markdown",
   "metadata": {},
   "source": [
    "## Steve, Stephen \n",
    "\n",
    "* Yodel, Business Intelligence & Data Viz\n",
    "    * python course (5d) at QA \n",
    "    * goal: expand python into ML\n",
    "    * sports: football, snooker,... ancestry"
   ]
  },
  {
   "cell_type": "markdown",
   "metadata": {},
   "source": [
    "## Kate \n",
    "\n",
    "* Teradata developer, Yodel\n",
    "    * background & knowledge in machine learning\n",
    "    * proof-of-concept ML project exists now\n",
    "        * wider-deployment to IT\n",
    "    * handle on ML in python & tools\n",
    "    * biking & sports\n",
    "    * unix data programming\n",
    "    "
   ]
  },
  {
   "cell_type": "markdown",
   "metadata": {},
   "source": [
    "## Rick\n",
    "\n",
    "* data architect, AJ. Bell, accenture\n",
    "    * (big) data architecture, data warehousing\n",
    "        * dabble in data science: some python, some tensorflow courses\n",
    "    * goal: which AI/ML techniques to apply to get specific business outcomes\n",
    "        * understanding how to implement\n",
    "    * hobby: mountain bikings"
   ]
  },
  {
   "cell_type": "markdown",
   "metadata": {},
   "source": [
    "---"
   ]
  }
 ],
 "metadata": {
  "kernelspec": {
   "display_name": "Python 3.9",
   "language": "python",
   "name": "python3"
  },
  "language_info": {
   "codemirror_mode": {
    "name": "ipython",
    "version": 3
   },
   "file_extension": ".py",
   "mimetype": "text/x-python",
   "name": "python",
   "nbconvert_exporter": "python",
   "pygments_lexer": "ipython3",
   "version": "3.9.6"
  }
 },
 "nbformat": 4,
 "nbformat_minor": 4
}
