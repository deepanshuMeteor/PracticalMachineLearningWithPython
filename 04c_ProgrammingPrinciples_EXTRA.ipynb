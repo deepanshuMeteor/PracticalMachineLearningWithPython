{
 "cells": [
  {
   "cell_type": "markdown",
   "id": "c809a8fc",
   "metadata": {
    "slideshow": {
     "slide_type": "slide"
    }
   },
   "source": [
    "## Data, Analytics &amp; AI \n",
    "# <font color=indigo> Programming Principles</font>\n",
    "\n",
    "\n",
    "---\n",
    "<small>QA Ltd. owns the copyright and other intellectual property rights of this material and asserts its moral rights as the author. All rights reserved.</small>"
   ]
  },
  {
   "cell_type": "markdown",
   "id": "f37210c5",
   "metadata": {
    "slideshow": {
     "slide_type": "slide"
    }
   },
   "source": [
    "### Overview: Programming Principles (2 hr)\n",
    "* How do you structure code for business applications?\n",
    "    * What is a Business Object?\n",
    "    * How do `class`es express business objects?\n",
    "    * How does inhertiance express business categories?\n",
    "    * How does polymorphism provide consistency of behaviour across objects?\n",
    "* How do you structure code for data applications?\n",
    "    * What is functional programming?\n",
    "    * How do functions express data transformations?\n",
    "    * What are the primitive functional operations?\n",
    "        * How do I write and use comprehensions?\n",
    "        * How do I use `map`, `filter`, `reduce`?\n",
    "        * How do I use generators and lazy data structures?\n",
    "* EXTRA: How do you write and profile algorithms?\n",
    "    * What is an algorithm and procedure?\n",
    "    * How do you state the performance of algorithms?\n",
    "        * What is time complexity?\n",
    "        * What is space complexity?\n",
    "* EXERCISE\n",
    "    * Compare and critique an object-oriented and functional program\n",
    "    * Extend both programs to include additional functionality\n",
    "    "
   ]
  },
  {
   "cell_type": "markdown",
   "id": "694a7884",
   "metadata": {
    "slideshow": {
     "slide_type": "slide"
    }
   },
   "source": [
    "#### Schedule\n",
    "* Overall time: 1.5 hr\n",
    "    * Lesson: 1 hr\n",
    "    * Lab: 0.5 hr \n",
    "    \n",
    "#### References & Next Steps\n",
    "* Books\n",
    "* Videos"
   ]
  },
  {
   "cell_type": "markdown",
   "id": "ffb716f3",
   "metadata": {
    "slideshow": {
     "slide_type": "slide"
    }
   },
   "source": [
    "## Lesson Plan\n",
    "\n",
    "* TODO"
   ]
  },
  {
   "cell_type": "markdown",
   "id": "378e82fe",
   "metadata": {
    "slideshow": {
     "slide_type": "slide"
    }
   },
   "source": [
    "---"
   ]
  },
  {
   "cell_type": "markdown",
   "id": "1ad64d86-64ff-4beb-84bf-6a23702dc941",
   "metadata": {
    "jp-MarkdownHeadingCollapsed": true,
    "slideshow": {
     "slide_type": "slide"
    },
    "tags": []
   },
   "source": [
    "## What are the limitations of basic functions?"
   ]
  },
  {
   "cell_type": "markdown",
   "id": "40bce417-2937-4411-83c3-4e6994286327",
   "metadata": {
    "slideshow": {
     "slide_type": "fragment"
    }
   },
   "source": [
    "All the functions below use the same datasets, and we keep track of the functions *separetely* from the data. "
   ]
  },
  {
   "cell_type": "code",
   "execution_count": 7,
   "id": "b0f392db-4094-4c41-bc1c-049d2a25b269",
   "metadata": {
    "slideshow": {
     "slide_type": "fragment"
    }
   },
   "outputs": [],
   "source": [
    "my_journal = \"I am feeling happy today!\"\n",
    "\n",
    "happy_words = ['happy', 'joyful']\n",
    "sad_words = ['sad', 'upset']\n",
    "ignore_characters = \"!\""
   ]
  },
  {
   "cell_type": "code",
   "execution_count": 8,
   "id": "63e377d4-5976-4985-a503-bb2e687fd9fa",
   "metadata": {
    "slideshow": {
     "slide_type": "slide"
    }
   },
   "outputs": [],
   "source": [
    "def journal_words(journal):\n",
    "    return journal.split()"
   ]
  },
  {
   "cell_type": "code",
   "execution_count": 9,
   "id": "0740e874-b017-4316-b2da-2ec873bda039",
   "metadata": {
    "slideshow": {
     "slide_type": "fragment"
    }
   },
   "outputs": [],
   "source": [
    "def journal_process(journal, ignore):\n",
    "    return journal.lower().replace(ignore, \"\")"
   ]
  },
  {
   "cell_type": "code",
   "execution_count": 10,
   "id": "1df45290-d8d8-4423-b007-8c7115e2d435",
   "metadata": {
    "slideshow": {
     "slide_type": "fragment"
    }
   },
   "outputs": [],
   "source": [
    "def journal_advice(journal, happy, sad):\n",
    "    emotion = 0\n",
    "\n",
    "    for word in journal:\n",
    "        if word in happy:\n",
    "            emotion += 1 # add 1 to emotion\n",
    "        elif word in sad:\n",
    "            emotion -= 1 # subtract 1 from emotion\n",
    "      \n",
    "    if emotion >= 0:\n",
    "        print(\"Well done!\")\n",
    "    else:\n",
    "        print(\"Sorry to hear that!\")\n",
    "        "
   ]
  },
  {
   "cell_type": "code",
   "execution_count": 11,
   "id": "57eb32dd-08e5-4238-bb81-d5a8370fda57",
   "metadata": {
    "slideshow": {
     "slide_type": "slide"
    }
   },
   "outputs": [
    {
     "name": "stdout",
     "output_type": "stream",
     "text": [
      "Well done!\n"
     ]
    }
   ],
   "source": [
    "j_processed = journal_process(my_journal, ignore_characters)\n",
    "j_words = journal_words(j_processed)\n",
    "\n",
    "journal_advice(j_words, happy_words, sad_words)"
   ]
  },
  {
   "cell_type": "code",
   "execution_count": 13,
   "id": "95dd8683-ef43-4405-bedc-17eacbd8af26",
   "metadata": {
    "slideshow": {
     "slide_type": "slide"
    }
   },
   "outputs": [
    {
     "name": "stdout",
     "output_type": "stream",
     "text": [
      "Well done!\n"
     ]
    }
   ],
   "source": [
    "## data set\n",
    "my_journal = \"I am feeling Happy! today!\"\n",
    "happy_words = ['happy', 'joyful']\n",
    "sad_words = ['sad', 'upset']\n",
    "ignore_words = ['i', 'am']\n",
    "\n",
    "## it possible to change the data above before they are used\n",
    "sad_words.append(\"happy\") # MISTAKE!\n",
    "\n",
    "## use the functions \n",
    "j_processed = journal_process(my_journal, ignore_characters)\n",
    "j_words     = journal_words(j_processed)\n",
    "\n",
    "journal_advice(j_words, happy_words, sad_words)"
   ]
  },
  {
   "cell_type": "markdown",
   "id": "4b3b0e3c-b3f4-4f9d-9f37-233242e7cfd0",
   "metadata": {
    "slideshow": {
     "slide_type": "fragment"
    }
   },
   "source": [
    "Using this system of grouping data and then grouping functions it is possible to modify the data, before the functions use it, in a way that breaks the functions. \n",
    "\n",
    "It's also not clear what all the data *required* is... this is spread out across all the functions. "
   ]
  },
  {
   "cell_type": "markdown",
   "id": "01ca4850-784c-45e4-bf67-c1be7f7d356e",
   "metadata": {
    "slideshow": {
     "slide_type": "slide"
    }
   },
   "source": [
    "## How does python solve this problem?"
   ]
  },
  {
   "cell_type": "markdown",
   "id": "7909a138-11d7-45ca-89b3-7d39e9c47946",
   "metadata": {
    "slideshow": {
     "slide_type": "fragment"
    }
   },
   "source": [
    "Notice that python has two conventions for running a function on data:\n",
    "\n",
    "* function convention\n",
    "* method convention"
   ]
  },
  {
   "cell_type": "code",
   "execution_count": 45,
   "id": "99da7b79-fe56-41cd-961b-2f1776eb177a",
   "metadata": {
    "slideshow": {
     "slide_type": "fragment"
    }
   },
   "outputs": [
    {
     "data": {
      "text/plain": [
       "7"
      ]
     },
     "execution_count": 45,
     "metadata": {},
     "output_type": "execute_result"
    }
   ],
   "source": [
    "len(\"Michael\")"
   ]
  },
  {
   "cell_type": "code",
   "execution_count": 46,
   "id": "266e04e4-5aad-42c0-9ffa-f8b6148a1b99",
   "metadata": {
    "slideshow": {
     "slide_type": "fragment"
    }
   },
   "outputs": [
    {
     "data": {
      "text/plain": [
       "'MICHAEL'"
      ]
     },
     "execution_count": 46,
     "metadata": {},
     "output_type": "execute_result"
    }
   ],
   "source": [
    "\"Michael\".upper()"
   ]
  },
  {
   "cell_type": "markdown",
   "id": "124e0cfe-e9e4-4fe4-935b-b7f014d2e797",
   "metadata": {
    "slideshow": {
     "slide_type": "slide"
    }
   },
   "source": [
    "...the situations for using the first kind are mostly historical/conventional. "
   ]
  },
  {
   "cell_type": "code",
   "execution_count": 47,
   "id": "585fa769-4203-404d-831c-9fcd09e0490b",
   "metadata": {
    "slideshow": {
     "slide_type": "fragment"
    }
   },
   "outputs": [
    {
     "data": {
      "text/plain": [
       "'MICHAEL'"
      ]
     },
     "execution_count": 47,
     "metadata": {},
     "output_type": "execute_result"
    }
   ],
   "source": [
    "\"Michael\".upper()"
   ]
  },
  {
   "cell_type": "code",
   "execution_count": 48,
   "id": "b9afcf7d-7dea-4ad0-a6d3-feebba8e3b8c",
   "metadata": {
    "slideshow": {
     "slide_type": "fragment"
    }
   },
   "outputs": [
    {
     "data": {
      "text/plain": [
       "'michael'"
      ]
     },
     "execution_count": 48,
     "metadata": {},
     "output_type": "execute_result"
    }
   ],
   "source": [
    "\"Michael\".lower()"
   ]
  },
  {
   "cell_type": "code",
   "execution_count": 50,
   "id": "836847cc-8d52-427c-af29-a1386dacf367",
   "metadata": {
    "slideshow": {
     "slide_type": "fragment"
    }
   },
   "outputs": [
    {
     "data": {
      "text/plain": [
       "'ichael'"
      ]
     },
     "execution_count": 50,
     "metadata": {},
     "output_type": "execute_result"
    }
   ],
   "source": [
    "\"Michael\".replace(\"M\", \"\")"
   ]
  },
  {
   "cell_type": "markdown",
   "id": "efc344f2-cd48-4807-8061-9b59f79c1bd7",
   "metadata": {
    "slideshow": {
     "slide_type": "fragment"
    }
   },
   "source": [
    "Notice here, \"Michael\" is like a library, "
   ]
  },
  {
   "cell_type": "code",
   "execution_count": 51,
   "id": "bddd4c86-79ea-44e1-a6ff-0ed418fc9405",
   "metadata": {
    "slideshow": {
     "slide_type": "fragment"
    }
   },
   "outputs": [
    {
     "data": {
      "text/plain": [
       "2"
      ]
     },
     "execution_count": 51,
     "metadata": {},
     "output_type": "execute_result"
    }
   ],
   "source": [
    "import statistics\n",
    "\n",
    "statistics.mean([1, 2, 3])"
   ]
  },
  {
   "cell_type": "markdown",
   "id": "13789b12-05c6-44ca-83fe-2d659231b60e",
   "metadata": {
    "slideshow": {
     "slide_type": "slide"
    }
   },
   "source": [
    "The data \"Michael\" works like a library in the sense that it \"provides\" different functions after the `.`, all of which *operate* on the same data, `\"Michael\"`."
   ]
  },
  {
   "cell_type": "code",
   "execution_count": 52,
   "id": "412ce224-6cc3-499a-a60b-2045ff36623c",
   "metadata": {
    "slideshow": {
     "slide_type": "fragment"
    }
   },
   "outputs": [
    {
     "data": {
      "text/plain": [
       "'MICHAEL'"
      ]
     },
     "execution_count": 52,
     "metadata": {},
     "output_type": "execute_result"
    }
   ],
   "source": [
    "# ask \"Michael\" to make itself UpperCase\n",
    "\"Michael\".upper()"
   ]
  },
  {
   "cell_type": "markdown",
   "id": "4ffb1ecb-6b40-4d48-8da8-548dfb146337",
   "metadata": {
    "slideshow": {
     "slide_type": "fragment"
    }
   },
   "source": [
    "This bundle combines data and behaviour together, and we can access parts of the bundle with `.`. \n",
    "\n",
    "This \"bundle\" is technically called **an object**. And it's behaviours, eg., `s.upper()`, are called **methods**. \n",
    "\n",
    "(NB., a method is basically just the same thing as a function, but we use a different term when we are using an objec, ie., `.`). "
   ]
  },
  {
   "cell_type": "markdown",
   "id": "5e3650e3-6b3c-42a3-82be-1b4a57d85523",
   "metadata": {
    "slideshow": {
     "slide_type": "slide"
    }
   },
   "source": [
    "## How do I group data and behaviour together?"
   ]
  },
  {
   "cell_type": "markdown",
   "id": "56681b07-e8c1-47e2-91eb-f1923fca1f29",
   "metadata": {
    "slideshow": {
     "slide_type": "fragment"
    }
   },
   "source": [
    "In the design of our programs so far, we have used the function style, ie., `len(x)`, `print(x)`... how do we bundle functions together so we could have `journal.get()`, `journal.advice()`, etc. "
   ]
  },
  {
   "cell_type": "markdown",
   "id": "59b8d5d6-4226-486e-bf26-c174c84a47a8",
   "metadata": {
    "slideshow": {
     "slide_type": "slide"
    }
   },
   "source": [
    "## What does an object-oriented program look like?"
   ]
  },
  {
   "cell_type": "code",
   "execution_count": 29,
   "id": "af84ae46-e1eb-4eee-a65b-bc935e2d585c",
   "metadata": {
    "slideshow": {
     "slide_type": "fragment"
    }
   },
   "outputs": [],
   "source": [
    "# the name of the kind (, type) of data we are dealing with\n",
    "class Journal:\n",
    "    # defining the data that we need\n",
    "    def __init__(self, message, positive_words, negative_words):\n",
    "        self.message = message \n",
    "        self.positive = positive_words\n",
    "        self.negative = negative_words\n",
    "        \n",
    "    # grouping together all the behaviour we need\n",
    "    def process(self):\n",
    "        print(\"process\")\n",
    "        \n",
    "    def words(self):\n",
    "        print(\"words\")\n",
    "        \n",
    "    def advice(self):\n",
    "        print(\"advice\")\n",
    "        \n",
    "        "
   ]
  },
  {
   "cell_type": "code",
   "execution_count": 30,
   "id": "974fe464-2b87-4607-989b-7942e645c777",
   "metadata": {
    "slideshow": {
     "slide_type": "slide"
    }
   },
   "outputs": [
    {
     "name": "stdout",
     "output_type": "stream",
     "text": [
      "process\n",
      "words\n",
      "advice\n"
     ]
    }
   ],
   "source": [
    "# my_thoughts <-   group all datasets together\n",
    "my_thoughts = Journal(\"I am feeling upset!\", [\"yay\", \"wow\"], [\"upset\", \"boo\"])\n",
    "\n",
    "# on dataset run process, ignore, advice\n",
    "my_thoughts.process()\n",
    "my_thoughts.words()\n",
    "my_thoughts.advice()"
   ]
  },
  {
   "cell_type": "markdown",
   "id": "9039b86a-b535-400b-bc74-6f8336fe1696",
   "metadata": {
    "slideshow": {
     "slide_type": "fragment"
    }
   },
   "source": [
    "Comparing the above with below, observe that below there are lots of variables; whereas above, we use one `my_thoughts` which groups everything together.\n",
    "\n",
    "And that each operation uses `my_thoughts` as the dataset, and we do not need to pass anything to each function (/method). And note that these behaviours are grouped after the `.`. "
   ]
  },
  {
   "cell_type": "code",
   "execution_count": 23,
   "id": "370546ba-473d-4be0-881f-233b93ce592f",
   "metadata": {
    "slideshow": {
     "slide_type": "fragment"
    }
   },
   "outputs": [
    {
     "name": "stdout",
     "output_type": "stream",
     "text": [
      "Well done!\n"
     ]
    }
   ],
   "source": [
    "j_processed = journal_process(my_journal, ignore_characters)\n",
    "j_words     = journal_words(j_processed)\n",
    "\n",
    "journal_advice(j_words, happy_words, sad_words)"
   ]
  },
  {
   "cell_type": "markdown",
   "id": "bf9246a8-9355-4c8e-b648-c42cfb98a3c3",
   "metadata": {
    "slideshow": {
     "slide_type": "fragment"
    }
   },
   "source": [
    "We call this `.`-heavy style of programming \"object-oriented\" because it is oriented around (an) object."
   ]
  },
  {
   "cell_type": "markdown",
   "id": "38e05337-6014-48ad-885f-1383c66962b8",
   "metadata": {
    "slideshow": {
     "slide_type": "slide"
    }
   },
   "source": [
    "## When is this style of programming relevant?"
   ]
  },
  {
   "cell_type": "markdown",
   "id": "8ee6ab25-5c3d-40f6-b0b4-f78ee5710ad7",
   "metadata": {
    "slideshow": {
     "slide_type": "fragment"
    }
   },
   "source": [
    "Certainly, on large projects, 10,000 lines and beyond. \n",
    "\n",
    "On a small data analysis project you probably do not need to be able to create your own objects, ie., to define classes. \n",
    "\n",
    "However as python is an object-oriented language, everything is provided in this \"grouped\" way... so you need to understand some minimal amount -- in order to understand documentation, work with libraries etc. \n",
    "\n",
    "Eg., imagine you were given `Journal` above: could you use it effectively?\n",
    "\n",
    "\n",
    "NB. This is really just a syntax for thinking about how to design a larger program. However it is very common because the syntax is quite helpful for thinking about design. "
   ]
  },
  {
   "cell_type": "code",
   "execution_count": null,
   "id": "6b66ebaa-085e-4445-8f3d-5ce9d2c17c59",
   "metadata": {
    "slideshow": {
     "slide_type": "slide"
    }
   },
   "outputs": [],
   "source": [
    "# the name of the kind (, type) of data we are dealing with\n",
    "class Journal:\n",
    "    # defining the data that we need\n",
    "    def __init__(self, message, positive_words, negative_words):\n",
    "        self.message = message \n",
    "        self.positive = positive_words\n",
    "        self.negative = negative_words\n",
    "        \n",
    "    # grouping together all the behaviour we need\n",
    "    def process(self):\n",
    "        print(\"processing\")\n",
    "        \n",
    "    def ignore(self):\n",
    "        print(\"ignoring\")\n",
    "        \n",
    "    def advice(self):\n",
    "        print(\"advicing\")\n",
    "        "
   ]
  },
  {
   "cell_type": "code",
   "execution_count": 1,
   "id": "84d132a8-516e-49a3-9994-c2137d1a1ffd",
   "metadata": {
    "slideshow": {
     "slide_type": "slide"
    }
   },
   "outputs": [
    {
     "name": "stdout",
     "output_type": "stream",
     "text": [
      "processing\n",
      "ignoring\n",
      "advicing\n"
     ]
    }
   ],
   "source": [
    "# my_thoughts <-   group all datasets together\n",
    "my_thoughts = Journal(\"I am feeling upset!\", [\"yay\", \"wow\"], [\"upset\", \"boo\"])\n",
    "\n",
    "# on dataset run process, ignore, advice\n",
    "my_thoughts.process()\n",
    "my_thoughts.ignore()\n",
    "my_thoughts.advice()"
   ]
  },
  {
   "cell_type": "markdown",
   "id": "f3358e0f-4212-40ba-8c2e-cf043c2cd0ba",
   "metadata": {
    "slideshow": {
     "slide_type": "slide"
    }
   },
   "source": [
    "The aim of this section is to understand *how* we get to an object-oriented program. "
   ]
  },
  {
   "cell_type": "markdown",
   "id": "af246049-f156-4677-b743-9ab472fa17e6",
   "metadata": {
    "slideshow": {
     "slide_type": "slide"
    }
   },
   "source": [
    "## What is a class definition?"
   ]
  },
  {
   "cell_type": "markdown",
   "id": "f26272a8-1ba7-471a-aabc-45f40a083479",
   "metadata": {
    "slideshow": {
     "slide_type": "fragment"
    }
   },
   "source": [
    "A class defintion defines a specification or \"template\" for creating an object. "
   ]
  },
  {
   "cell_type": "code",
   "execution_count": 2,
   "id": "138b68a2-afab-4cc2-85e7-1319aa2c4632",
   "metadata": {
    "slideshow": {
     "slide_type": "fragment"
    }
   },
   "outputs": [],
   "source": [
    "class Journal:\n",
    "    pass"
   ]
  },
  {
   "cell_type": "markdown",
   "id": "e707740e-6a04-4f04-8979-97895e670c17",
   "metadata": {
    "slideshow": {
     "slide_type": "slide"
    }
   },
   "source": [
    "## How does a class create objects?"
   ]
  },
  {
   "cell_type": "markdown",
   "id": "b6c84a8b-2f62-4311-adc0-a5c8d8ac84de",
   "metadata": {
    "slideshow": {
     "slide_type": "fragment"
    }
   },
   "source": [
    "Once a template is defined, we can use its name (eg., `Journal()`) to create a new object which matches that tempalte."
   ]
  },
  {
   "cell_type": "code",
   "execution_count": 3,
   "id": "0c4197d8-b438-4a35-a213-a68583a64250",
   "metadata": {
    "slideshow": {
     "slide_type": "fragment"
    }
   },
   "outputs": [],
   "source": [
    "j = Journal()"
   ]
  },
  {
   "cell_type": "markdown",
   "id": "4f50503e-e6d1-40eb-9811-35ccecd07dd4",
   "metadata": {
    "slideshow": {
     "slide_type": "slide"
    }
   },
   "source": [
    "## How do you set fields (attributes) on an object?"
   ]
  },
  {
   "cell_type": "code",
   "execution_count": 4,
   "id": "7b7e8940-d0d5-4073-b6c4-d51d0dfd797d",
   "metadata": {
    "slideshow": {
     "slide_type": "fragment"
    }
   },
   "outputs": [],
   "source": [
    "j1 = Journal()\n",
    "j2 = Journal()"
   ]
  },
  {
   "cell_type": "code",
   "execution_count": 7,
   "id": "2df44c8e-e942-4ffd-b521-1ac73a90ea65",
   "metadata": {
    "slideshow": {
     "slide_type": "fragment"
    }
   },
   "outputs": [],
   "source": [
    "j1.name = \"Michael's Journal\"\n",
    "j1.page = \"I am feeling happy!\"\n",
    "\n",
    "j2.name = \"Alice's Journal\""
   ]
  },
  {
   "cell_type": "code",
   "execution_count": 6,
   "id": "ebe6a56c-565a-4a33-ac99-7285fde69f2f",
   "metadata": {
    "slideshow": {
     "slide_type": "fragment"
    }
   },
   "outputs": [
    {
     "data": {
      "text/plain": [
       "\"Michael's Journal\""
      ]
     },
     "execution_count": 6,
     "metadata": {},
     "output_type": "execute_result"
    }
   ],
   "source": [
    "j1.name"
   ]
  },
  {
   "cell_type": "code",
   "execution_count": 8,
   "id": "2b644239-82a6-4e5c-a345-f5217f1afc41",
   "metadata": {
    "slideshow": {
     "slide_type": "fragment"
    }
   },
   "outputs": [
    {
     "data": {
      "text/plain": [
       "'I am feeling happy!'"
      ]
     },
     "execution_count": 8,
     "metadata": {},
     "output_type": "execute_result"
    }
   ],
   "source": [
    "j1.page"
   ]
  },
  {
   "cell_type": "markdown",
   "id": "64eea54b-b827-402e-bb96-5d68f2572f6a",
   "metadata": {
    "slideshow": {
     "slide_type": "slide"
    }
   },
   "source": [
    "## How do you define an automatic initializer?"
   ]
  },
  {
   "cell_type": "markdown",
   "id": "34851286-5c09-48c4-8d28-5ad6dc5cc515",
   "metadata": {
    "slideshow": {
     "slide_type": "fragment"
    }
   },
   "source": [
    "In general we almost always want every object of the same type to have the same fields.\n",
    "\n",
    "We can use an initializer (often called a \"constructor\") to do this for us:"
   ]
  },
  {
   "cell_type": "code",
   "execution_count": 15,
   "id": "a8b0080f-a760-4163-ac33-2272b2e484cb",
   "metadata": {
    "slideshow": {
     "slide_type": "fragment"
    }
   },
   "outputs": [],
   "source": [
    "class Journal:\n",
    "    def __init__(new_journal,  name_arg, page_arg):\n",
    "        new_journal.name = name_arg\n",
    "        new_journal.page = page_arg"
   ]
  },
  {
   "cell_type": "markdown",
   "id": "d7d15075-c5b2-450c-8bf1-55f98605ac12",
   "metadata": {
    "slideshow": {
     "slide_type": "slide"
    }
   },
   "source": [
    "When you create a new object (eg., using `Journal()`) python will automatically call the `__init__` for you. \n",
    "\n",
    "Python will pass each argument for you... the first argument is always passed implicitly by python, this is the new journal we are creating. Each additional argument corresponds to the arguments you give `Journal()`. "
   ]
  },
  {
   "cell_type": "code",
   "execution_count": 16,
   "id": "c82aaad5-a3fb-4091-8b06-8ae2dfd88ec5",
   "metadata": {
    "slideshow": {
     "slide_type": "fragment"
    }
   },
   "outputs": [],
   "source": [
    "j = Journal(\"Michael's Journal\", \"I'm feeling happy!\")"
   ]
  },
  {
   "cell_type": "code",
   "execution_count": 17,
   "id": "81d0a5b1-03e7-4b3d-98a9-7a1984499fc2",
   "metadata": {
    "slideshow": {
     "slide_type": "fragment"
    }
   },
   "outputs": [
    {
     "name": "stdout",
     "output_type": "stream",
     "text": [
      "Michael's Journal : I'm feeling happy!\n"
     ]
    }
   ],
   "source": [
    "print(j.name, ':', j.page)"
   ]
  },
  {
   "cell_type": "markdown",
   "id": "918ac08e-d2e7-4a8e-855f-36734776c474",
   "metadata": {
    "slideshow": {
     "slide_type": "slide"
    }
   },
   "source": [
    "## How do I think about designing a class using `init`?"
   ]
  },
  {
   "cell_type": "markdown",
   "id": "5877110e-e602-45c8-87d2-e5ad1a2a2802",
   "metadata": {
    "slideshow": {
     "slide_type": "fragment"
    }
   },
   "source": [
    "When you're thinking about some object your applicaiton needs to solve a problem, each *part* (or field) of that object is captured by the initializer method.\n",
    "\n",
    "eg., \n",
    "* Cat \n",
    "    * paws\n",
    "    * tail\n",
    "    \n",
    "```python\n",
    "\n",
    "class Cat:\n",
    "    def __init__(newcat, paws, tail):\n",
    "        newcat.paws = paws\n",
    "        newcat.tail = tail\n",
    "        \n",
    "```\n",
    "    \n",
    "    "
   ]
  },
  {
   "cell_type": "markdown",
   "id": "a0f5fea8-8180-4e2f-a1a7-dc89309a2bc3",
   "metadata": {
    "slideshow": {
     "slide_type": "slide"
    }
   },
   "source": [
    "### the `self` convention"
   ]
  },
  {
   "cell_type": "markdown",
   "id": "3c994813-18aa-465c-88e6-def487d73f19",
   "metadata": {
    "slideshow": {
     "slide_type": "fragment"
    }
   },
   "source": [
    "In python every method which works on object receives the object *as the first argument*, by convention, called `self`."
   ]
  },
  {
   "cell_type": "code",
   "execution_count": 22,
   "id": "1212e079-b265-4c51-ad98-d11e4d5ad1a3",
   "metadata": {
    "slideshow": {
     "slide_type": "fragment"
    }
   },
   "outputs": [
    {
     "data": {
      "text/plain": [
       "'MICHAEL'"
      ]
     },
     "execution_count": 22,
     "metadata": {},
     "output_type": "execute_result"
    }
   ],
   "source": [
    "\"Michael\".upper()"
   ]
  },
  {
   "cell_type": "markdown",
   "id": "561c8bcf-ca0c-4273-b11e-016e1a0e9af0",
   "metadata": {
    "slideshow": {
     "slide_type": "fragment"
    }
   },
   "source": [
    "Compare with:"
   ]
  },
  {
   "cell_type": "code",
   "execution_count": 24,
   "id": "645aa492-9a1d-49bb-9f3a-a82012c7da6a",
   "metadata": {
    "slideshow": {
     "slide_type": "fragment"
    }
   },
   "outputs": [
    {
     "data": {
      "text/plain": [
       "'MICAHEL'"
      ]
     },
     "execution_count": 24,
     "metadata": {},
     "output_type": "execute_result"
    }
   ],
   "source": [
    "self = \"Micahel\"\n",
    "str.upper(self)"
   ]
  },
  {
   "cell_type": "code",
   "execution_count": 21,
   "id": "ff5cf25f-50ee-4669-99dd-50a46a3b1a99",
   "metadata": {
    "slideshow": {
     "slide_type": "slide"
    }
   },
   "outputs": [],
   "source": [
    "class Journal:\n",
    "    def __init__(self,  name_arg, page_arg):\n",
    "        self.name = name_arg\n",
    "        self.page = page_arg\n",
    "        \n",
    "j1 = Journal(\"Michael's\", \"happy!\") # self = j1\n",
    "j2 = Journal(\"Even's\", \"sad!\") # self = j2"
   ]
  },
  {
   "cell_type": "code",
   "execution_count": 19,
   "id": "35781a8f-89e9-40e7-8a72-81914817a418",
   "metadata": {
    "slideshow": {
     "slide_type": "fragment"
    }
   },
   "outputs": [
    {
     "data": {
      "text/plain": [
       "\"Michael's\""
      ]
     },
     "execution_count": 19,
     "metadata": {},
     "output_type": "execute_result"
    }
   ],
   "source": [
    "j1.name"
   ]
  },
  {
   "cell_type": "code",
   "execution_count": 20,
   "id": "bd53b579-c78b-480d-8e16-405bd7b21eec",
   "metadata": {
    "slideshow": {
     "slide_type": "fragment"
    }
   },
   "outputs": [
    {
     "data": {
      "text/plain": [
       "\"Even's\""
      ]
     },
     "execution_count": 20,
     "metadata": {},
     "output_type": "execute_result"
    }
   ],
   "source": [
    "j2.name"
   ]
  },
  {
   "cell_type": "markdown",
   "id": "bc1f537c-c07c-43a5-a316-ed5cb8c34590",
   "metadata": {
    "slideshow": {
     "slide_type": "slide"
    }
   },
   "source": [
    "## How do you define additional behaviour?"
   ]
  },
  {
   "cell_type": "markdown",
   "id": "e31784ed-564f-48c8-8be2-b07bb40b730c",
   "metadata": {
    "slideshow": {
     "slide_type": "fragment"
    }
   },
   "source": [
    "You can add additional behaviour to templates:"
   ]
  },
  {
   "cell_type": "code",
   "execution_count": 25,
   "id": "ab458c6d-a1e4-416b-ab54-2258263517eb",
   "metadata": {
    "slideshow": {
     "slide_type": "fragment"
    }
   },
   "outputs": [],
   "source": [
    "class Journal:\n",
    "    def __init__(self,  name_arg, page_arg):\n",
    "        self.name = name_arg\n",
    "        self.page = page_arg\n",
    "        \n",
    "    def words(self):\n",
    "        return self.page.split()"
   ]
  },
  {
   "cell_type": "code",
   "execution_count": 39,
   "id": "ee850be0-2b30-4189-991d-ea32a6382cdd",
   "metadata": {
    "slideshow": {
     "slide_type": "slide"
    }
   },
   "outputs": [],
   "source": [
    "j1 = Journal(\"Micahel's Journal\", \"I am happy\")\n",
    "j2 = Journal(\"Alice's Journal\", \"I am sad!\")"
   ]
  },
  {
   "cell_type": "code",
   "execution_count": 40,
   "id": "a422f4ca-4c57-47a7-bb2a-107344df2285",
   "metadata": {
    "slideshow": {
     "slide_type": "fragment"
    }
   },
   "outputs": [
    {
     "data": {
      "text/plain": [
       "'I am happy'"
      ]
     },
     "execution_count": 40,
     "metadata": {},
     "output_type": "execute_result"
    }
   ],
   "source": [
    "j1.page"
   ]
  },
  {
   "cell_type": "code",
   "execution_count": 27,
   "id": "3ec9cc54-6cc1-4974-9992-93199f4f00b9",
   "metadata": {
    "slideshow": {
     "slide_type": "fragment"
    }
   },
   "outputs": [
    {
     "data": {
      "text/plain": [
       "['I', 'am', 'happy']"
      ]
     },
     "execution_count": 27,
     "metadata": {},
     "output_type": "execute_result"
    }
   ],
   "source": [
    "j1.page.split()"
   ]
  },
  {
   "cell_type": "markdown",
   "id": "24d49d26-cd4b-45a6-84a0-487746c0e711",
   "metadata": {
    "slideshow": {
     "slide_type": "slide"
    }
   },
   "source": [
    "Consider `j1.page.split()` defined as `self.page.split()`:"
   ]
  },
  {
   "cell_type": "code",
   "execution_count": 28,
   "id": "bbd69ff7-e121-4cdc-81a6-fca30018c4e7",
   "metadata": {
    "scrolled": true,
    "slideshow": {
     "slide_type": "fragment"
    }
   },
   "outputs": [
    {
     "data": {
      "text/plain": [
       "['I', 'am', 'happy']"
      ]
     },
     "execution_count": 28,
     "metadata": {},
     "output_type": "execute_result"
    }
   ],
   "source": [
    "j1.words()"
   ]
  },
  {
   "cell_type": "markdown",
   "id": "81fbd6f6-b0cb-4fa6-9593-1ba769525371",
   "metadata": {
    "slideshow": {
     "slide_type": "fragment"
    }
   },
   "source": [
    "And now, on `j2` we see `self` has become `j2`:"
   ]
  },
  {
   "cell_type": "code",
   "execution_count": 41,
   "id": "013cd1b4-b57f-43ed-94f5-534211b087db",
   "metadata": {
    "slideshow": {
     "slide_type": "fragment"
    }
   },
   "outputs": [
    {
     "data": {
      "text/plain": [
       "['I', 'am', 'sad!']"
      ]
     },
     "execution_count": 41,
     "metadata": {},
     "output_type": "execute_result"
    }
   ],
   "source": [
    "j2.words()"
   ]
  },
  {
   "cell_type": "markdown",
   "id": "7090971c-e50b-4342-957f-370c499c3c0f",
   "metadata": {
    "slideshow": {
     "slide_type": "slide"
    }
   },
   "source": [
    "## How do you read a class definition?"
   ]
  },
  {
   "cell_type": "code",
   "execution_count": 44,
   "id": "15e9346a-520a-410d-9900-c895f05edaba",
   "metadata": {
    "slideshow": {
     "slide_type": "fragment"
    }
   },
   "outputs": [],
   "source": [
    "# every Journal object\n",
    "class Journal:\n",
    "    # automatically\n",
    "    def __init__(self,  name_arg, page_arg):\n",
    "        # has the fields\n",
    "        self.name = name_arg # name\n",
    "        self.page = page_arg # page\n",
    "        \n",
    "    # ...and can...\n",
    "    \n",
    "    # provide its page's words\n",
    "    def words(self):\n",
    "        return self.page.split()"
   ]
  },
  {
   "cell_type": "markdown",
   "id": "981d88e3-8af3-4f64-b6e1-108a535c94fb",
   "metadata": {
    "slideshow": {
     "slide_type": "slide"
    }
   },
   "source": [
    "## How do you design with this system?"
   ]
  },
  {
   "cell_type": "markdown",
   "id": "d47ced2d-4230-41c4-8090-9fa0a6a8c955",
   "metadata": {
    "slideshow": {
     "slide_type": "fragment"
    }
   },
   "source": [
    "* The __init__ : What attributes does a person have?\n",
    "* The methods:  What can a person do / what can we do with a person?\n",
    "\n",
    "```\n",
    "* Person\n",
    "    * has:\n",
    "        * hr\n",
    "        * bp\n",
    "    * can:\n",
    "        * predict_prognosis()\n",
    "```\n"
   ]
  },
  {
   "cell_type": "code",
   "execution_count": 36,
   "id": "638a18f8-188f-4968-bd90-8abb55ba351b",
   "metadata": {
    "slideshow": {
     "slide_type": "slide"
    }
   },
   "outputs": [],
   "source": [
    "class Person:\n",
    "    def __init__(self, hr, bp):\n",
    "        self.heart_rate = hr\n",
    "        self.blood_pressure = bp\n",
    "        \n",
    "    def predict_prognosis(self):\n",
    "        return 0.1 * self.heart_rate + 0.1 * self.blood_pressure + 5\n",
    "    "
   ]
  },
  {
   "cell_type": "code",
   "execution_count": 37,
   "id": "677cbe0e-1b7f-4a5a-bc35-e387c3985862",
   "metadata": {
    "slideshow": {
     "slide_type": "fragment"
    }
   },
   "outputs": [
    {
     "data": {
      "text/plain": [
       "23.0"
      ]
     },
     "execution_count": 37,
     "metadata": {},
     "output_type": "execute_result"
    }
   ],
   "source": [
    "me = Person(60, 120)\n",
    "me.predict_prognosis()"
   ]
  },
  {
   "cell_type": "code",
   "execution_count": 38,
   "id": "a887925b-be5d-479a-92bb-1464d6ce02f5",
   "metadata": {
    "slideshow": {
     "slide_type": "fragment"
    }
   },
   "outputs": [
    {
     "data": {
      "text/plain": [
       "40.0"
      ]
     },
     "execution_count": 38,
     "metadata": {},
     "output_type": "execute_result"
    }
   ],
   "source": [
    "me = Person(160, 190)\n",
    "me.predict_prognosis()"
   ]
  },
  {
   "cell_type": "markdown",
   "id": "a92219b3-f901-4039-b56e-b386e1a24cb5",
   "metadata": {
    "slideshow": {
     "slide_type": "slide"
    }
   },
   "source": [
    "# Functional Programming"
   ]
  },
  {
   "cell_type": "markdown",
   "id": "ef236a57-68bb-4e5d-af5b-914305d76174",
   "metadata": {
    "slideshow": {
     "slide_type": "fragment"
    }
   },
   "source": [
    "## Overview\n",
    "\n",
    "* What is a programming paradigm?\n",
    "    * What is OO?\n",
    "    * What is functional programming?\n",
    "* What are functions (vs., procedures)?\n",
    "* How do I use...\n",
    "    * functions\n",
    "    * functions as arguments\n",
    "    * functions as transforms\n",
    "    * comprehensions\n",
    "* Why is functional programming useful?"
   ]
  },
  {
   "cell_type": "markdown",
   "id": "7631bcdf-6236-43fa-9671-f4ebd866ea89",
   "metadata": {
    "slideshow": {
     "slide_type": "slide"
    }
   },
   "source": [
    "## What is a Programming Paradigm?\n",
    "\n",
    "def., a way of thinking about how we write code...\n",
    "\n",
    "How do I translate a problem domain into an application domain?\n",
    "\n",
    "Problem Domain:\n",
    "* concepts\n",
    "* processes\n",
    "* objects\n",
    "* ...\n",
    "    \n",
    "Application Domain:\n",
    "* loops, if/else\n",
    "* class, def..."
   ]
  },
  {
   "cell_type": "markdown",
   "id": "94207732-1eee-4837-9536-770e7279a259",
   "metadata": {
    "slideshow": {
     "slide_type": "slide"
    }
   },
   "source": [
    "### Classical Object-Orientation\n",
    "\n",
    "* What are the concrete objects in our problem?\n",
    "    * Object -> Object\n",
    "* What do they have in common? (class)\n",
    "    * What fixed properties are in common? (self.attribute)\n",
    "    * What behaviours are in common? (self.behaviour())\n",
    "* How do they differ?\n",
    "    * Are these differences *specializations*?\n",
    "        * inheritance & polymorphism\n",
    "\n",
    "* Application Domain:\n",
    "    * `class`, `obj.name`, `obj.say()`\n",
    "    * `class Person(Worker):`\n",
    "    "
   ]
  },
  {
   "cell_type": "markdown",
   "id": "e8913857-328b-4a59-a3c8-4e75af5db5a5",
   "metadata": {
    "slideshow": {
     "slide_type": "slide"
    }
   },
   "source": [
    "### Functional Programming\n",
    "\n",
    "We use *functions* as the main element of our program. A function is a `def` *which only* returns. OR: its an operation which takes *some input* to *some output* without doing anything else. \n",
    "\n",
    "* IN -> f() -> OUT\n",
    "\n",
    "* What are the *observations* (, examples) in our problem -- what is the *data **Set** *?\n",
    "* What datasets do we start with?\n",
    "* What datasets do we want to get to?\n",
    "* What processes are involved in this transformation?\n",
    "    * Can these processes be expressed as a simple sequence of transformations?\n",
    "    \n",
    "* Application Domain:\n",
    "    * `def`, `return`\n",
    "    * `[ ... ]`\n",
    "    * `map`, `flatMap`, `reduce`, ...\n",
    "    "
   ]
  },
  {
   "cell_type": "markdown",
   "id": "23495649-83dc-4798-8cbe-6bba7ead3745",
   "metadata": {
    "slideshow": {
     "slide_type": "slide"
    }
   },
   "source": [
    "### How do I choose?\n",
    "\n",
    "Object-orientation is preffered by large scale software development projects, as *class* structure helps structure a large scale program. And, often, code is only dealing with on object at a time. (eg., a user) \n",
    "\n",
    "Functional programming is preffered by data applications, as we're often dealing with whole datasets and *thinking* in terms of how we can transform them. "
   ]
  },
  {
   "cell_type": "markdown",
   "id": "7438f5c7-58af-4aa4-b732-c6b5be0ef2bd",
   "metadata": {
    "slideshow": {
     "slide_type": "slide"
    }
   },
   "source": [
    "## The Syntax and Ideas of Functional Programming"
   ]
  },
  {
   "cell_type": "markdown",
   "id": "6e14ec13-2a3e-4781-a6ce-cacc737d19ed",
   "metadata": {
    "slideshow": {
     "slide_type": "slide"
    }
   },
   "source": [
    "### Functions vs. Procedures\n",
    "\n",
    "Functions are not \"functions\".\n",
    "\n",
    "\"Function\" tends to mean *any old behaviour*. In FP, *function* has a technical defintion which is... \n",
    "\n",
    "def., any operation which could be a mathematical formula \n",
    "\n",
    "def., pure transformation\n",
    "\n",
    "def., pure *means* having no side-effects\n",
    "\n",
    "def., side-effects are any effect of a function which cannot be caputred by its return value"
   ]
  },
  {
   "cell_type": "markdown",
   "id": "e0daeeaf-bdae-4dbe-8164-0445ca766b37",
   "metadata": {
    "slideshow": {
     "slide_type": "slide"
    }
   },
   "source": [
    "### Procedure\n",
    "A sequence of actions which effect the world, typically, by modifying a device (eg., screen/disk).\n",
    "\n",
    "(NB. *world* here, roughly, means anything external to the running program)."
   ]
  },
  {
   "cell_type": "code",
   "execution_count": 1,
   "id": "10b65ccd-f7f0-4ecc-9304-80bbc8edd9c4",
   "metadata": {
    "slideshow": {
     "slide_type": "fragment"
    }
   },
   "outputs": [],
   "source": [
    "def record_message(name):\n",
    "    print(name, '!', file=open('messages', 'w'))"
   ]
  },
  {
   "cell_type": "code",
   "execution_count": 2,
   "id": "c203e236-633d-4d6c-a178-53b9e397c467",
   "metadata": {
    "slideshow": {
     "slide_type": "fragment"
    }
   },
   "outputs": [],
   "source": [
    "record_message(\"Michael\")"
   ]
  },
  {
   "cell_type": "code",
   "execution_count": 3,
   "id": "7c2704f2-da44-49f1-ab6e-fbe941238de6",
   "metadata": {
    "slideshow": {
     "slide_type": "fragment"
    }
   },
   "outputs": [
    {
     "name": "stdout",
     "output_type": "stream",
     "text": [
      "Michael !\n",
      "\n"
     ]
    }
   ],
   "source": [
    "print(open('messages').read())"
   ]
  },
  {
   "cell_type": "markdown",
   "id": "5ae4eaa2-3753-4698-866f-622789f8a257",
   "metadata": {
    "slideshow": {
     "slide_type": "slide"
    }
   },
   "source": [
    "Consider replacing `record_message` with its return value, `None`..."
   ]
  },
  {
   "cell_type": "code",
   "execution_count": 11,
   "id": "bef63c14-0a61-4851-ab19-0cc91c7b4519",
   "metadata": {
    "slideshow": {
     "slide_type": "fragment"
    }
   },
   "outputs": [],
   "source": [
    "result = record_message(\"MIchael\")"
   ]
  },
  {
   "cell_type": "code",
   "execution_count": 10,
   "id": "32d99b9f-8a42-4d38-ba0c-8de2fa95e432",
   "metadata": {
    "slideshow": {
     "slide_type": "fragment"
    }
   },
   "outputs": [
    {
     "data": {
      "text/plain": [
       "True"
      ]
     },
     "execution_count": 10,
     "metadata": {},
     "output_type": "execute_result"
    }
   ],
   "source": [
    "result is None"
   ]
  },
  {
   "cell_type": "markdown",
   "id": "0b674794-cb52-4a2c-90a7-4063a3db3cfa",
   "metadata": {
    "slideshow": {
     "slide_type": "fragment"
    }
   },
   "source": [
    "You would change the behaviour of the program.."
   ]
  },
  {
   "cell_type": "code",
   "execution_count": 12,
   "id": "055dad87-e44f-48da-9b59-ba3c6724c1bf",
   "metadata": {
    "slideshow": {
     "slide_type": "fragment"
    }
   },
   "outputs": [],
   "source": [
    "result = None"
   ]
  },
  {
   "cell_type": "markdown",
   "id": "40b51c37-610a-416a-9c9c-3dc851e692b8",
   "metadata": {
    "slideshow": {
     "slide_type": "fragment"
    }
   },
   "source": [
    "...this does not save anything to a file!"
   ]
  },
  {
   "cell_type": "markdown",
   "id": "7ba274c3-642f-4aa5-afa8-1ee171dbd876",
   "metadata": {
    "slideshow": {
     "slide_type": "slide"
    }
   },
   "source": [
    "### Function\n",
    "An input-output relationship, which may be *represented* as an algorithm which does not perform i/o or other noticable effects on the world. "
   ]
  },
  {
   "cell_type": "code",
   "execution_count": 4,
   "id": "b038048f-f64d-4cfc-b487-b252037d3a09",
   "metadata": {
    "slideshow": {
     "slide_type": "fragment"
    }
   },
   "outputs": [],
   "source": [
    "def reformat(messages):\n",
    "    fmt = []\n",
    "    for m in messages:\n",
    "        fmt.append(m.upper() + \"!\")\n",
    "    \n",
    "    return fmt"
   ]
  },
  {
   "cell_type": "code",
   "execution_count": 6,
   "id": "9d659f92-4c97-4a4b-b8a0-7c61135eb571",
   "metadata": {
    "slideshow": {
     "slide_type": "fragment"
    }
   },
   "outputs": [],
   "source": [
    "old = [\"Michael\", \"Adrian\", \"Tina\"]\n",
    "new = reformat(old)"
   ]
  },
  {
   "cell_type": "code",
   "execution_count": 7,
   "id": "e1dea885-d4b9-4877-a108-02b57ea5575f",
   "metadata": {
    "slideshow": {
     "slide_type": "fragment"
    }
   },
   "outputs": [
    {
     "data": {
      "text/plain": [
       "['MICHAEL!', 'ADRIAN!', 'TINA!']"
      ]
     },
     "execution_count": 7,
     "metadata": {},
     "output_type": "execute_result"
    }
   ],
   "source": [
    "new"
   ]
  },
  {
   "cell_type": "markdown",
   "id": "5cfae30a-0f8e-4865-ae1a-3ee76f04b1c5",
   "metadata": {
    "slideshow": {
     "slide_type": "slide"
    }
   },
   "source": [
    "Consider replacing `reformat` with its return value..."
   ]
  },
  {
   "cell_type": "code",
   "execution_count": 13,
   "id": "725760aa-dfff-4d37-a30e-c30379a8dd89",
   "metadata": {
    "slideshow": {
     "slide_type": "fragment"
    }
   },
   "outputs": [],
   "source": [
    "old = [\"Michael\", \"Adrian\", \"Tina\"]\n",
    "new = ['MICHAEL!', 'ADRIAN!', 'TINA!']"
   ]
  },
  {
   "cell_type": "markdown",
   "id": "72fafaf7-1c7e-4452-ad68-ac5ce0283d6b",
   "metadata": {
    "slideshow": {
     "slide_type": "fragment"
    }
   },
   "source": [
    "No difference..."
   ]
  },
  {
   "cell_type": "code",
   "execution_count": 14,
   "id": "76cbd73e-4fc2-458e-b0c7-e10dea43a8c5",
   "metadata": {
    "slideshow": {
     "slide_type": "fragment"
    }
   },
   "outputs": [
    {
     "data": {
      "text/plain": [
       "(['Michael', 'Adrian', 'Tina'], ['MICHAEL!', 'ADRIAN!', 'TINA!'])"
      ]
     },
     "execution_count": 14,
     "metadata": {},
     "output_type": "execute_result"
    }
   ],
   "source": [
    "old, new"
   ]
  },
  {
   "cell_type": "markdown",
   "id": "24508108-367f-44ae-9f0b-7fa4b9c036da",
   "metadata": {
    "slideshow": {
     "slide_type": "slide"
    }
   },
   "source": [
    "In mathematics *function* is just a relationship between input and output... (aka. old -> new)\n",
    "\n",
    "$f(x_1, x_2) = x_1 + x_2$ "
   ]
  },
  {
   "cell_type": "code",
   "execution_count": 15,
   "id": "93efa3d2-a505-4461-b78c-292cdddbf4c3",
   "metadata": {
    "slideshow": {
     "slide_type": "fragment"
    }
   },
   "outputs": [],
   "source": [
    "def f(x1, x2):\n",
    "    return x1 + x2"
   ]
  },
  {
   "cell_type": "code",
   "execution_count": 16,
   "id": "134ff9ba-b4ea-4e50-8d35-508149bcd9a7",
   "metadata": {
    "slideshow": {
     "slide_type": "fragment"
    }
   },
   "outputs": [],
   "source": [
    "f_relationship = {\n",
    "    (0, 0): 0,\n",
    "    (0, 1): 1,\n",
    "    (1, 0): 1,\n",
    "    (1, 1): 2,\n",
    "    #...\n",
    "}"
   ]
  },
  {
   "cell_type": "code",
   "execution_count": 17,
   "id": "6ddb608c-c705-4af3-80b5-0f8dbab21bad",
   "metadata": {
    "slideshow": {
     "slide_type": "fragment"
    }
   },
   "outputs": [
    {
     "data": {
      "text/plain": [
       "2"
      ]
     },
     "execution_count": 17,
     "metadata": {},
     "output_type": "execute_result"
    }
   ],
   "source": [
    "f(1, 1)"
   ]
  },
  {
   "cell_type": "code",
   "execution_count": 18,
   "id": "4621e5be-b24e-4c10-9455-b8244de6fbd2",
   "metadata": {
    "slideshow": {
     "slide_type": "fragment"
    }
   },
   "outputs": [
    {
     "data": {
      "text/plain": [
       "2"
      ]
     },
     "execution_count": 18,
     "metadata": {},
     "output_type": "execute_result"
    }
   ],
   "source": [
    "f_relationship[(1, 1)]"
   ]
  },
  {
   "cell_type": "markdown",
   "id": "70f6eef4-df35-4681-b536-232ce8bea7d3",
   "metadata": {
    "slideshow": {
     "slide_type": "slide"
    }
   },
   "source": [
    "We can see `reformat` the same way:"
   ]
  },
  {
   "cell_type": "code",
   "execution_count": 1,
   "id": "81843bd1-f660-43d5-a1c5-7baecc0ebb3e",
   "metadata": {
    "slideshow": {
     "slide_type": "fragment"
    }
   },
   "outputs": [],
   "source": [
    "reformat_relationship = {\n",
    "    \"Michael\" : \"MICHAEL!\",\n",
    "    \"Adrian\": \"ADRIAN!\",\n",
    "    #etc.\n",
    "}"
   ]
  },
  {
   "cell_type": "code",
   "execution_count": 2,
   "id": "af48ca12-5cea-4463-aacb-b199e7371d20",
   "metadata": {
    "slideshow": {
     "slide_type": "fragment"
    }
   },
   "outputs": [
    {
     "data": {
      "text/plain": [
       "'MICHAEL!'"
      ]
     },
     "execution_count": 2,
     "metadata": {},
     "output_type": "execute_result"
    }
   ],
   "source": [
    "reformat_relationship[\"Michael\"]"
   ]
  },
  {
   "cell_type": "markdown",
   "id": "743cb6e7-72f9-4cc8-acda-8318c19174e7",
   "metadata": {
    "slideshow": {
     "slide_type": "slide"
    }
   },
   "source": [
    "### Why is this defintion important?\n",
    "\n",
    "Procedures are \"genuine\" operations *on the world* which change it in ways that are **hard** to understand. Most procedures are i/o, ie., they access and modify input-output devices (eg., hard disk, screen, printer...). \n",
    "\n",
    "Procedure, def., a sequence of actions *which change the world* which must come in a particular order. \n",
    "\n",
    "Consider... building a report:\n",
    "* print() a page\n",
    "* send() an email\n",
    "* print() the email reply\n",
    "* staple() everything together"
   ]
  },
  {
   "cell_type": "markdown",
   "id": "ae782ba9-489a-4590-81c9-3b18a115c517",
   "metadata": {
    "slideshow": {
     "slide_type": "slide"
    }
   },
   "source": [
    "Notice:\n",
    "* any reordering is broken\n",
    "* *code* doesnt really express this necessary order\n",
    "    * nor the time each action (/procedure) takes\n",
    "    \n",
    "    "
   ]
  },
  {
   "cell_type": "markdown",
   "id": "cb0f8694-6cb9-4ea6-a15d-873d4f61d8fd",
   "metadata": {
    "slideshow": {
     "slide_type": "slide"
    }
   },
   "source": [
    "Contrast this with, eg., baking a cake:\n",
    "* ASSUME: get_ingredients() <- actions / impure / procedures\n",
    "* ingredients -> mixture -> prepare -> bake -> cool -> slice\n",
    "* ASSUME: hand_slice() <- action\n",
    "\n",
    "The \"report building actions\" are hard to reason about because their necessary order is not expressible in code, and they modify the world outside code *which we cannot see in code*, nor be very sure works the way we think."
   ]
  },
  {
   "cell_type": "markdown",
   "id": "8294496d-3cc7-4fcc-9382-5b62d1f95c91",
   "metadata": {
    "slideshow": {
     "slide_type": "slide"
    }
   },
   "source": [
    "## Using Functions"
   ]
  },
  {
   "cell_type": "markdown",
   "id": "344372f9-0a66-4873-889d-568b5475182e",
   "metadata": {
    "slideshow": {
     "slide_type": "slide"
    }
   },
   "source": [
    "#### A simple case"
   ]
  },
  {
   "cell_type": "markdown",
   "id": "e8038f13-109c-4180-b1dd-6d129800d6b8",
   "metadata": {
    "slideshow": {
     "slide_type": "fragment"
    }
   },
   "source": [
    "Sketching a functional program..."
   ]
  },
  {
   "cell_type": "code",
   "execution_count": null,
   "id": "9852d006-b935-4d22-8923-d01a89381173",
   "metadata": {
    "slideshow": {
     "slide_type": "fragment"
    }
   },
   "outputs": [],
   "source": [
    "# ingredients : List of Strings\n",
    "ingredients = ['flour', 'sugar', 'eggs']\n",
    "\n",
    "# ingredients -> mixture \n",
    "# list of str -> list of int \n",
    "def mix(ing):\n",
    "    pass\n",
    "\n",
    "# mixture -> bowl \n",
    "#  list of int -> int\n",
    "def prep(mixture):\n",
    "    pass\n",
    "\n",
    "# bowl -> cake\n",
    "def bake(bowl):\n",
    "    pass\n",
    "\n",
    "# cake -> cool cake\n",
    "def cool(cake):\n",
    "    pass\n",
    "\n",
    "# cool cake -> slice\n",
    "def slice(cake):\n",
    "    pass"
   ]
  },
  {
   "cell_type": "code",
   "execution_count": 3,
   "id": "2d354fcd-7d4f-499a-af24-f147f7a88fb6",
   "metadata": {
    "slideshow": {
     "slide_type": "slide"
    }
   },
   "outputs": [
    {
     "name": "stdout",
     "output_type": "stream",
     "text": [
      "None\n"
     ]
    }
   ],
   "source": [
    "print( # this is impure, it modifies the screen\n",
    "    \n",
    "    slice(cool(bake(prep(mix(ingredients))))) # pure, this is *the same as* its return value\n",
    "    \n",
    ")"
   ]
  },
  {
   "cell_type": "code",
   "execution_count": 1,
   "id": "afcf78c8-0ff7-47bf-a524-38dfdcb0c214",
   "metadata": {
    "slideshow": {
     "slide_type": "slide"
    }
   },
   "outputs": [],
   "source": [
    "# ingredients -> mixture\n",
    "def mix(ing):\n",
    "    amounts = []\n",
    "    for i in ing:\n",
    "        amounts.append(len(i))\n",
    "        \n",
    "    return amounts\n",
    "\n",
    "# mixture -> bowl\n",
    "def prep(mixture):\n",
    "    return sum(mixture)\n",
    "\n",
    "# bowl -> cake\n",
    "def bake(bowl):\n",
    "    return 0.8*bowl\n",
    "\n",
    "# cake -> cool cake\n",
    "def cool(cake):\n",
    "    return 0.9*cake\n",
    "\n",
    "# cool cake -> slice\n",
    "def slice(cake):\n",
    "    return cake/6.0"
   ]
  },
  {
   "cell_type": "code",
   "execution_count": 21,
   "id": "e10256f5-dfdc-4921-82e1-65df66a13c3c",
   "metadata": {
    "slideshow": {
     "slide_type": "slide"
    }
   },
   "outputs": [
    {
     "name": "stdout",
     "output_type": "stream",
     "text": [
      "1.6800000000000004\n"
     ]
    }
   ],
   "source": [
    "# ingredients : List of Strings\n",
    "ingredients = ['flour', 'sugar', 'eggs']\n",
    "\n",
    "\n",
    "print( # this is impure, it modifies the screen\n",
    "    \n",
    "    slice(cool(bake(prep(mix(ingredients))))) # pure, this is *the same as* its return value\n",
    "    \n",
    ")"
   ]
  },
  {
   "cell_type": "code",
   "execution_count": 4,
   "id": "a2853616-ba8e-4c23-a092-5f6a07ed00aa",
   "metadata": {
    "slideshow": {
     "slide_type": "fragment"
    }
   },
   "outputs": [
    {
     "data": {
      "text/plain": [
       "1.6800000000000004"
      ]
     },
     "execution_count": 4,
     "metadata": {},
     "output_type": "execute_result"
    }
   ],
   "source": [
    "(0.9*0.8*sum( [len('flour'), len('sugar'), len('eggs')]))/6.0"
   ]
  },
  {
   "cell_type": "markdown",
   "id": "eae6676f-8e9e-4b34-bf02-94ab80ccd201",
   "metadata": {
    "slideshow": {
     "slide_type": "slide"
    }
   },
   "source": [
    "---"
   ]
  },
  {
   "cell_type": "markdown",
   "id": "aeca3357-9c17-450e-8940-843c46043c5f",
   "metadata": {
    "slideshow": {
     "slide_type": "slide"
    }
   },
   "source": [
    "### Python Functional Data Processing"
   ]
  },
  {
   "cell_type": "markdown",
   "id": "854a5b53-65cd-4504-9cd8-32ad6d34b0ba",
   "metadata": {
    "slideshow": {
     "slide_type": "fragment"
    }
   },
   "source": [
    "In base python we often want to repeat a process for each entry in a collection..."
   ]
  },
  {
   "cell_type": "code",
   "execution_count": 12,
   "id": "3b935bd0-b3d8-4eb9-9ea3-6ce73677e228",
   "metadata": {
    "slideshow": {
     "slide_type": "fragment"
    }
   },
   "outputs": [],
   "source": [
    "prices = [1, 4, 65, 13]"
   ]
  },
  {
   "cell_type": "code",
   "execution_count": 13,
   "id": "ba2f68c6-1d01-49ee-b993-a1f93c81f032",
   "metadata": {
    "slideshow": {
     "slide_type": "fragment"
    }
   },
   "outputs": [
    {
     "name": "stdout",
     "output_type": "stream",
     "text": [
      "1\n",
      "4\n",
      "65\n",
      "13\n"
     ]
    }
   ],
   "source": [
    "for p in prices:\n",
    "    print(p)"
   ]
  },
  {
   "cell_type": "markdown",
   "id": "f324fd4c-10f3-4749-a7eb-b2166b5f219f",
   "metadata": {
    "slideshow": {
     "slide_type": "fragment"
    }
   },
   "source": [
    "When processing data, more specifically, we want to create a new collection *derived* from this existing one..."
   ]
  },
  {
   "cell_type": "code",
   "execution_count": 14,
   "id": "1475262e-63e4-45db-a72b-8dead66982a3",
   "metadata": {
    "slideshow": {
     "slide_type": "fragment"
    }
   },
   "outputs": [],
   "source": [
    "profits = []\n",
    "profit_percent = 0.05\n",
    "\n",
    "for p in prices:\n",
    "    profits.append( p * profit_percent)"
   ]
  },
  {
   "cell_type": "code",
   "execution_count": 15,
   "id": "91724efe-8f6a-4fbd-8821-49a320d1818e",
   "metadata": {
    "slideshow": {
     "slide_type": "fragment"
    }
   },
   "outputs": [
    {
     "data": {
      "text/plain": [
       "[0.05, 0.2, 3.25, 0.65]"
      ]
     },
     "execution_count": 15,
     "metadata": {},
     "output_type": "execute_result"
    }
   ],
   "source": [
    "profits"
   ]
  },
  {
   "cell_type": "markdown",
   "id": "52fffcee-ee23-4cdf-93ea-5fef0178beec",
   "metadata": {
    "slideshow": {
     "slide_type": "slide"
    }
   },
   "source": [
    "Above we understanding obtaining `profits` from `prices`, *algorithmically*: as a sequence of steps.\n",
    "\n",
    "```\n",
    "1. obtain first price\n",
    "2. multiply it by a ratio\n",
    "3. append it to a list\n",
    "4. next price\n",
    "5. ....\n",
    "```\n",
    "\n",
    "Thinking this way is useful for software engineering but not data analysis, which is more mathematical.\n",
    "\n",
    "We would really like \"multiply all prices by 0.05\"... who cares how it's done. "
   ]
  },
  {
   "cell_type": "code",
   "execution_count": 16,
   "id": "949fbb6b-ccae-44e3-acee-76b37ff6eac4",
   "metadata": {
    "slideshow": {
     "slide_type": "fragment"
    }
   },
   "outputs": [
    {
     "data": {
      "text/plain": [
       "[0.05, 0.2, 3.25, 0.65]"
      ]
     },
     "execution_count": 16,
     "metadata": {},
     "output_type": "execute_result"
    }
   ],
   "source": [
    "[ p * 0.05   for p in prices ]"
   ]
  },
  {
   "cell_type": "markdown",
   "id": "4a87ab3f-2dcc-44aa-9580-d6c2eb955057",
   "metadata": {
    "slideshow": {
     "slide_type": "fragment"
    }
   },
   "source": [
    "This syntax is called a \"comprehension\" and is essentially a python syntax for the SELECT sql command."
   ]
  },
  {
   "cell_type": "markdown",
   "id": "ffe51ebd-4ba6-44d5-a3ce-4540a82c4e30",
   "metadata": {
    "slideshow": {
     "slide_type": "fragment"
    }
   },
   "source": [
    "```python\n",
    "    NEW_LIST = [  CHANGE(ELEMENT)  for ELEMENT in OLD_LIST ]\n",
    "```"
   ]
  },
  {
   "cell_type": "markdown",
   "id": "6a83f9f5-5208-46ed-90e6-0fc95028225e",
   "metadata": {
    "slideshow": {
     "slide_type": "slide"
    }
   },
   "source": [
    "## How do I write a comprehension?"
   ]
  },
  {
   "cell_type": "markdown",
   "id": "edc65f89-ed2d-4c00-886f-b4a285fff5fc",
   "metadata": {
    "slideshow": {
     "slide_type": "fragment"
    }
   },
   "source": [
    "Comprehensions are often best written (and read) right-to-left, "
   ]
  },
  {
   "cell_type": "markdown",
   "id": "39077383-a66e-4fc0-b0aa-724b3946a746",
   "metadata": {
    "slideshow": {
     "slide_type": "fragment"
    }
   },
   "source": [
    "* write in the original collection\n",
    "```python\n",
    "[  ...  prices ]\n",
    "```\n",
    "\n",
    "* name each element\n",
    "```python\n",
    "[  ... for p in  prices ]\n",
    "```\n",
    "\n",
    "* write the \"transformation\" (ie., the operation which computes the *new* element)\n",
    "```python\n",
    "[  p * 0.05 for p in  prices ]\n",
    "```\n",
    "\n",
    "* NB. this does not change prices, just like SELECT, we get a new collection returned"
   ]
  },
  {
   "cell_type": "markdown",
   "id": "a3ccdfe5-d591-4985-a984-1fa4f1d66c11",
   "metadata": {
    "slideshow": {
     "slide_type": "fragment"
    }
   },
   "source": [
    "**Good idea to start with a comprehension which doesn't change anything (ie., SELECT *)**"
   ]
  },
  {
   "cell_type": "markdown",
   "id": "70791748",
   "metadata": {
    "slideshow": {
     "slide_type": "slide"
    }
   },
   "source": [
    "# <center>END</center>"
   ]
  }
 ],
 "metadata": {
  "celltoolbar": "Slideshow",
  "kernelspec": {
   "display_name": "Python 3.9",
   "language": "python",
   "name": "python3"
  },
  "language_info": {
   "codemirror_mode": {
    "name": "ipython",
    "version": 3
   },
   "file_extension": ".py",
   "mimetype": "text/x-python",
   "name": "python",
   "nbconvert_exporter": "python",
   "pygments_lexer": "ipython3",
   "version": "3.9.6"
  }
 },
 "nbformat": 4,
 "nbformat_minor": 5
}
