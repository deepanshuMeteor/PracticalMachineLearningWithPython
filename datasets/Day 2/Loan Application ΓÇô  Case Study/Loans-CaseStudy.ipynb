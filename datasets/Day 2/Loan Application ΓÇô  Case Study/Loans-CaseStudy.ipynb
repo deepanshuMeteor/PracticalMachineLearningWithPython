{
 "cells": [
  {
   "cell_type": "markdown",
   "metadata": {
    "slideshow": {
     "slide_type": "slide"
    }
   },
   "source": [
    "# Machine Learning: An Overview by Example"
   ]
  },
  {
   "cell_type": "markdown",
   "metadata": {
    "slideshow": {
     "slide_type": "subslide"
    }
   },
   "source": [
    "# The Problem\n",
    "\n",
    "* Loan data for every customer who borrowed £1000 for 12mo\n",
    "\n",
    "*\tExamples/cases = row = single customer/loan.\n",
    "*\tFeatures = columns = fields = characteristics of customer/loan.\n",
    "*   Target = the characteristic/column you’re trying to predict/understand\n",
    "*\tProblem: what model best describes the relationship of the features to the target?\n",
    "*\tStep 1: learn pattern (model) from data which describes features relationship to target\n",
    "*\tStep 2: use pattern to guess unknown target from known features \n"
   ]
  },
  {
   "cell_type": "markdown",
   "metadata": {
    "slideshow": {
     "slide_type": "subslide"
    }
   },
   "source": [
    "## How do you do Machine Learning?\n",
    "\n",
    "* In practice the \"learning\" step in a project is a very small number of programming lines (often one or two)\n",
    "* Most time is spent exploring and preparing the data so that the scientist is aware of what analysis may be done\n",
    "* And to rephrase the data to be compatible with the kind of analysis they wish to perform\n",
    "\n",
    "### Python\n",
    "* programming language\n",
    "* libraries\n",
    "* batteries included"
   ]
  },
  {
   "cell_type": "code",
   "execution_count": 1,
   "metadata": {
    "slideshow": {
     "slide_type": "subslide"
    }
   },
   "outputs": [],
   "source": [
    "import numpy as np\n",
    "import pandas as pd\n",
    "import seaborn as sns\n",
    "import sklearn.linear_model as lm\n",
    "from sklearn import preprocessing\n"
   ]
  },
  {
   "cell_type": "markdown",
   "metadata": {
    "slideshow": {
     "slide_type": "slide"
    }
   },
   "source": [
    "### Domain Understanding\n",
    "\n",
    "* understand the problem\n",
    "* concepts and causes <- cannot be determined from data\n",
    "\n",
    "### Data Understanding"
   ]
  },
  {
   "cell_type": "code",
   "execution_count": 2,
   "metadata": {
    "scrolled": true,
    "slideshow": {
     "slide_type": "subslide"
    }
   },
   "outputs": [
    {
     "data": {
      "text/html": [
       "<div>\n",
       "<style scoped>\n",
       "    .dataframe tbody tr th:only-of-type {\n",
       "        vertical-align: middle;\n",
       "    }\n",
       "\n",
       "    .dataframe tbody tr th {\n",
       "        vertical-align: top;\n",
       "    }\n",
       "\n",
       "    .dataframe thead th {\n",
       "        text-align: right;\n",
       "    }\n",
       "</style>\n",
       "<table border=\"1\" class=\"dataframe\">\n",
       "  <thead>\n",
       "    <tr style=\"text-align: right;\">\n",
       "      <th></th>\n",
       "      <th>ID</th>\n",
       "      <th>Income</th>\n",
       "      <th>Term</th>\n",
       "      <th>Balance</th>\n",
       "      <th>Debt</th>\n",
       "      <th>Score</th>\n",
       "      <th>Default</th>\n",
       "    </tr>\n",
       "  </thead>\n",
       "  <tbody>\n",
       "    <tr>\n",
       "      <th>458</th>\n",
       "      <td>916</td>\n",
       "      <td>21400.0</td>\n",
       "      <td>Short Term</td>\n",
       "      <td>1150.0</td>\n",
       "      <td>0.0</td>\n",
       "      <td>162.0</td>\n",
       "      <td>False</td>\n",
       "    </tr>\n",
       "    <tr>\n",
       "      <th>800</th>\n",
       "      <td>29</td>\n",
       "      <td>81900.0</td>\n",
       "      <td>Long Term</td>\n",
       "      <td>3020.0</td>\n",
       "      <td>7620.0</td>\n",
       "      <td>818.0</td>\n",
       "      <td>False</td>\n",
       "    </tr>\n",
       "    <tr>\n",
       "      <th>738</th>\n",
       "      <td>744</td>\n",
       "      <td>63400.0</td>\n",
       "      <td>Short Term</td>\n",
       "      <td>1580.0</td>\n",
       "      <td>1468.0</td>\n",
       "      <td>902.0</td>\n",
       "      <td>False</td>\n",
       "    </tr>\n",
       "  </tbody>\n",
       "</table>\n",
       "</div>"
      ],
      "text/plain": [
       "      ID   Income        Term  Balance    Debt  Score  Default\n",
       "458  916  21400.0  Short Term   1150.0     0.0  162.0    False\n",
       "800   29  81900.0   Long Term   3020.0  7620.0  818.0    False\n",
       "738  744  63400.0  Short Term   1580.0  1468.0  902.0    False"
      ]
     },
     "execution_count": 2,
     "metadata": {},
     "output_type": "execute_result"
    }
   ],
   "source": [
    "data = pd.read_csv('loan_data.csv')\n",
    "data.sample(3)"
   ]
  },
  {
   "cell_type": "markdown",
   "metadata": {
    "slideshow": {
     "slide_type": "fragment"
    }
   },
   "source": [
    "\n",
    "```\n",
    " \"ID\",         Customer ID\n",
    " \"Income\",     Annual Pre-Tax Income on-application\n",
    " \"Term\" ,      Short or Long Term (6mo or 12mo)\n",
    " \"Balance\",    Current Account Balance on-application\n",
    " \"Debt\" ,      Outstanding Debt on-application\n",
    " \"Score\",      Credit Score (from referencing agency)\n",
    " \"Default\"     Observed Default (True = Default, False = Settle\n",
    "```"
   ]
  },
  {
   "cell_type": "code",
   "execution_count": 3,
   "metadata": {
    "slideshow": {
     "slide_type": "subslide"
    }
   },
   "outputs": [
    {
     "data": {
      "text/html": [
       "<div>\n",
       "<style scoped>\n",
       "    .dataframe tbody tr th:only-of-type {\n",
       "        vertical-align: middle;\n",
       "    }\n",
       "\n",
       "    .dataframe tbody tr th {\n",
       "        vertical-align: top;\n",
       "    }\n",
       "\n",
       "    .dataframe thead th {\n",
       "        text-align: right;\n",
       "    }\n",
       "</style>\n",
       "<table border=\"1\" class=\"dataframe\">\n",
       "  <thead>\n",
       "    <tr style=\"text-align: right;\">\n",
       "      <th></th>\n",
       "      <th>ID</th>\n",
       "      <th>Income</th>\n",
       "      <th>Balance</th>\n",
       "      <th>Debt</th>\n",
       "      <th>Score</th>\n",
       "    </tr>\n",
       "  </thead>\n",
       "  <tbody>\n",
       "    <tr>\n",
       "      <th>count</th>\n",
       "      <td>856.0</td>\n",
       "      <td>856.0</td>\n",
       "      <td>856.0</td>\n",
       "      <td>856.0</td>\n",
       "      <td>836.0</td>\n",
       "    </tr>\n",
       "    <tr>\n",
       "      <th>mean</th>\n",
       "      <td>497.0</td>\n",
       "      <td>29882.0</td>\n",
       "      <td>1214.0</td>\n",
       "      <td>644.0</td>\n",
       "      <td>451.0</td>\n",
       "    </tr>\n",
       "    <tr>\n",
       "      <th>std</th>\n",
       "      <td>288.0</td>\n",
       "      <td>13976.0</td>\n",
       "      <td>588.0</td>\n",
       "      <td>1150.0</td>\n",
       "      <td>269.0</td>\n",
       "    </tr>\n",
       "    <tr>\n",
       "      <th>min</th>\n",
       "      <td>1.0</td>\n",
       "      <td>11800.0</td>\n",
       "      <td>140.0</td>\n",
       "      <td>0.0</td>\n",
       "      <td>0.0</td>\n",
       "    </tr>\n",
       "    <tr>\n",
       "      <th>25%</th>\n",
       "      <td>246.0</td>\n",
       "      <td>19800.0</td>\n",
       "      <td>910.0</td>\n",
       "      <td>0.0</td>\n",
       "      <td>243.0</td>\n",
       "    </tr>\n",
       "    <tr>\n",
       "      <th>50%</th>\n",
       "      <td>494.0</td>\n",
       "      <td>22900.0</td>\n",
       "      <td>1120.0</td>\n",
       "      <td>65.0</td>\n",
       "      <td>376.0</td>\n",
       "    </tr>\n",
       "    <tr>\n",
       "      <th>75%</th>\n",
       "      <td>747.0</td>\n",
       "      <td>39025.0</td>\n",
       "      <td>1370.0</td>\n",
       "      <td>959.0</td>\n",
       "      <td>647.0</td>\n",
       "    </tr>\n",
       "    <tr>\n",
       "      <th>max</th>\n",
       "      <td>1000.0</td>\n",
       "      <td>86000.0</td>\n",
       "      <td>6020.0</td>\n",
       "      <td>12891.0</td>\n",
       "      <td>1000.0</td>\n",
       "    </tr>\n",
       "  </tbody>\n",
       "</table>\n",
       "</div>"
      ],
      "text/plain": [
       "           ID   Income  Balance     Debt   Score\n",
       "count   856.0    856.0    856.0    856.0   836.0\n",
       "mean    497.0  29882.0   1214.0    644.0   451.0\n",
       "std     288.0  13976.0    588.0   1150.0   269.0\n",
       "min       1.0  11800.0    140.0      0.0     0.0\n",
       "25%     246.0  19800.0    910.0      0.0   243.0\n",
       "50%     494.0  22900.0   1120.0     65.0   376.0\n",
       "75%     747.0  39025.0   1370.0    959.0   647.0\n",
       "max    1000.0  86000.0   6020.0  12891.0  1000.0"
      ]
     },
     "execution_count": 3,
     "metadata": {},
     "output_type": "execute_result"
    }
   ],
   "source": [
    "# Summary Statistics\n",
    "data.describe().round()"
   ]
  },
  {
   "cell_type": "markdown",
   "metadata": {
    "slideshow": {
     "slide_type": "subslide"
    }
   },
   "source": [
    "#### Investigating Debt"
   ]
  },
  {
   "cell_type": "code",
   "execution_count": 4,
   "metadata": {
    "scrolled": true,
    "slideshow": {
     "slide_type": "subslide"
    }
   },
   "outputs": [
    {
     "data": {
      "text/plain": [
       "<matplotlib.axes._subplots.AxesSubplot at 0x7fe232e57e50>"
      ]
     },
     "execution_count": 4,
     "metadata": {},
     "output_type": "execute_result"
    },
    {
     "data": {
      "image/png": "[encoded data removed]",
      "text/plain": [
       "<Figure size 432x288 with 1 Axes>"
      ]
     },
     "metadata": {
      "needs_background": "light"
     },
     "output_type": "display_data"
    }
   ],
   "source": [
    "sns.violinplot(x=\"Default\", y=\"Debt\", data=data)"
   ]
  },
  {
   "cell_type": "markdown",
   "metadata": {
    "slideshow": {
     "slide_type": "slide"
    }
   },
   "source": [
    "### Data Preparation\n",
    "#### Cleaning"
   ]
  },
  {
   "cell_type": "code",
   "execution_count": 5,
   "metadata": {
    "slideshow": {
     "slide_type": "subslide"
    }
   },
   "outputs": [
    {
     "data": {
      "text/plain": [
       "ID          0\n",
       "Income      0\n",
       "Term        0\n",
       "Balance     0\n",
       "Debt        0\n",
       "Score      20\n",
       "Default     0\n",
       "dtype: int64"
      ]
     },
     "execution_count": 5,
     "metadata": {},
     "output_type": "execute_result"
    }
   ],
   "source": [
    "data.isna().sum()"
   ]
  },
  {
   "cell_type": "code",
   "execution_count": 6,
   "metadata": {
    "scrolled": false,
    "slideshow": {
     "slide_type": "subslide"
    }
   },
   "outputs": [
    {
     "data": {
      "text/html": [
       "<div>\n",
       "<style scoped>\n",
       "    .dataframe tbody tr th:only-of-type {\n",
       "        vertical-align: middle;\n",
       "    }\n",
       "\n",
       "    .dataframe tbody tr th {\n",
       "        vertical-align: top;\n",
       "    }\n",
       "\n",
       "    .dataframe thead th {\n",
       "        text-align: right;\n",
       "    }\n",
       "</style>\n",
       "<table border=\"1\" class=\"dataframe\">\n",
       "  <thead>\n",
       "    <tr style=\"text-align: right;\">\n",
       "      <th></th>\n",
       "      <th>ID</th>\n",
       "      <th>Income</th>\n",
       "      <th>Balance</th>\n",
       "      <th>Debt</th>\n",
       "      <th>Score</th>\n",
       "    </tr>\n",
       "  </thead>\n",
       "  <tbody>\n",
       "    <tr>\n",
       "      <th>count</th>\n",
       "      <td>836.0</td>\n",
       "      <td>836.0</td>\n",
       "      <td>836.0</td>\n",
       "      <td>836.0</td>\n",
       "      <td>836.0</td>\n",
       "    </tr>\n",
       "    <tr>\n",
       "      <th>mean</th>\n",
       "      <td>496.0</td>\n",
       "      <td>29907.0</td>\n",
       "      <td>1219.0</td>\n",
       "      <td>648.0</td>\n",
       "      <td>451.0</td>\n",
       "    </tr>\n",
       "    <tr>\n",
       "      <th>std</th>\n",
       "      <td>289.0</td>\n",
       "      <td>14021.0</td>\n",
       "      <td>593.0</td>\n",
       "      <td>1154.0</td>\n",
       "      <td>269.0</td>\n",
       "    </tr>\n",
       "    <tr>\n",
       "      <th>min</th>\n",
       "      <td>1.0</td>\n",
       "      <td>11800.0</td>\n",
       "      <td>140.0</td>\n",
       "      <td>0.0</td>\n",
       "      <td>0.0</td>\n",
       "    </tr>\n",
       "    <tr>\n",
       "      <th>25%</th>\n",
       "      <td>246.0</td>\n",
       "      <td>19775.0</td>\n",
       "      <td>910.0</td>\n",
       "      <td>0.0</td>\n",
       "      <td>243.0</td>\n",
       "    </tr>\n",
       "    <tr>\n",
       "      <th>50%</th>\n",
       "      <td>494.0</td>\n",
       "      <td>22900.0</td>\n",
       "      <td>1120.0</td>\n",
       "      <td>71.0</td>\n",
       "      <td>376.0</td>\n",
       "    </tr>\n",
       "    <tr>\n",
       "      <th>75%</th>\n",
       "      <td>748.0</td>\n",
       "      <td>39025.0</td>\n",
       "      <td>1380.0</td>\n",
       "      <td>966.0</td>\n",
       "      <td>647.0</td>\n",
       "    </tr>\n",
       "    <tr>\n",
       "      <th>max</th>\n",
       "      <td>1000.0</td>\n",
       "      <td>86000.0</td>\n",
       "      <td>6020.0</td>\n",
       "      <td>12891.0</td>\n",
       "      <td>1000.0</td>\n",
       "    </tr>\n",
       "  </tbody>\n",
       "</table>\n",
       "</div>"
      ],
      "text/plain": [
       "           ID   Income  Balance     Debt   Score\n",
       "count   836.0    836.0    836.0    836.0   836.0\n",
       "mean    496.0  29907.0   1219.0    648.0   451.0\n",
       "std     289.0  14021.0    593.0   1154.0   269.0\n",
       "min       1.0  11800.0    140.0      0.0     0.0\n",
       "25%     246.0  19775.0    910.0      0.0   243.0\n",
       "50%     494.0  22900.0   1120.0     71.0   376.0\n",
       "75%     748.0  39025.0   1380.0    966.0   647.0\n",
       "max    1000.0  86000.0   6020.0  12891.0  1000.0"
      ]
     },
     "execution_count": 6,
     "metadata": {},
     "output_type": "execute_result"
    }
   ],
   "source": [
    "df = data.dropna()\n",
    "df.describe().round()"
   ]
  },
  {
   "cell_type": "markdown",
   "metadata": {
    "slideshow": {
     "slide_type": "subslide"
    }
   },
   "source": [
    "### Remove unwanted fields"
   ]
  },
  {
   "cell_type": "markdown",
   "metadata": {
    "slideshow": {
     "slide_type": "fragment"
    }
   },
   "source": [
    "df.drop(\"ID\", axis=1, inplace = True)"
   ]
  },
  {
   "cell_type": "markdown",
   "metadata": {
    "slideshow": {
     "slide_type": "subslide"
    }
   },
   "source": [
    "### Encoding"
   ]
  },
  {
   "cell_type": "code",
   "execution_count": 7,
   "metadata": {
    "slideshow": {
     "slide_type": "fragment"
    }
   },
   "outputs": [],
   "source": [
    "le = preprocessing.LabelEncoder()\n",
    "df = df.apply(le.fit_transform)"
   ]
  },
  {
   "cell_type": "markdown",
   "metadata": {
    "slideshow": {
     "slide_type": "subslide"
    }
   },
   "source": [
    "### Splitting Data"
   ]
  },
  {
   "cell_type": "code",
   "execution_count": 8,
   "metadata": {
    "slideshow": {
     "slide_type": "fragment"
    }
   },
   "outputs": [],
   "source": [
    "from sklearn.model_selection import train_test_split\n",
    "\n",
    "# we make our test set\n",
    "X_train, X_test, y_train, y_test = train_test_split(df.iloc[:,1:6], df['Default'], test_size=0.3, random_state=1)\n"
   ]
  },
  {
   "cell_type": "markdown",
   "metadata": {
    "slideshow": {
     "slide_type": "slide"
    }
   },
   "source": [
    "### Modelling\n",
    "* logistic regression = learning a simple boundary in the data \n",
    "\n",
    "\n",
    "\n"
   ]
  },
  {
   "cell_type": "markdown",
   "metadata": {
    "slideshow": {
     "slide_type": "fragment"
    }
   },
   "source": [
    "* classifier \n",
    "* \"fit\" means \"learn\" \n",
    "* once learnt the model may be reused"
   ]
  },
  {
   "cell_type": "code",
   "execution_count": 9,
   "metadata": {
    "scrolled": true,
    "slideshow": {
     "slide_type": "fragment"
    }
   },
   "outputs": [
    {
     "data": {
      "text/plain": [
       "LogisticRegression(C=100000.0, max_iter=1000)"
      ]
     },
     "execution_count": 9,
     "metadata": {},
     "output_type": "execute_result"
    }
   ],
   "source": [
    "clf = lm.LogisticRegression(C=1e5, solver='lbfgs', max_iter=1000)\n",
    "\n",
    "clf.fit(X_train, y_train)"
   ]
  },
  {
   "cell_type": "markdown",
   "metadata": {
    "slideshow": {
     "slide_type": "fragment"
    }
   },
   "source": [
    "* newton-cg — It's slow for large datasets\n",
    "* lbfgs — Stands for Limited-memory Broyden–Fletcher–Goldfarb–Shanno. \n",
    "it saves memory. It isn't super fast with large data sets. It is the default solver as of Scikit-learn version 0.22.0.\n",
    "* liblinear — Library for Large Linear Classification.  It is the default solver prior to v0.22.0. It performs pretty well with high dimensionality. It does have a number of drawbacks. It can get stuck, is unable to run in parallel, and can only solve multi-class logistic regression with one-vs.-rest.\n",
    "* sag — Stochastic Average Gradient descent.  Fast for big datasets.\n",
    "* saga — Extension of sag that also allows for L1 regularization. Should generally train faster than sag."
   ]
  },
  {
   "cell_type": "markdown",
   "metadata": {
    "slideshow": {
     "slide_type": "subslide"
    }
   },
   "source": [
    "### Make Predictions"
   ]
  },
  {
   "cell_type": "code",
   "execution_count": 10,
   "metadata": {
    "slideshow": {
     "slide_type": "fragment"
    }
   },
   "outputs": [
    {
     "name": "stdout",
     "output_type": "stream",
     "text": [
      "0.3223007605543684\n"
     ]
    }
   ],
   "source": [
    "p_settle, p_default = clf.predict_proba(X_train.loc[1,:].to_numpy().reshape(-1, 5))[0]\n",
    "print(p_default)"
   ]
  },
  {
   "cell_type": "code",
   "execution_count": 11,
   "metadata": {
    "slideshow": {
     "slide_type": "fragment"
    }
   },
   "outputs": [
    {
     "name": "stdout",
     "output_type": "stream",
     "text": [
      "0\n"
     ]
    }
   ],
   "source": [
    "prediction = clf.predict(X_train.loc[1,:].to_numpy().reshape(-1, 5))[0]\n",
    "print(prediction)"
   ]
  },
  {
   "cell_type": "markdown",
   "metadata": {
    "slideshow": {
     "slide_type": "slide"
    }
   },
   "source": [
    "### Evaluation\n",
    "\n",
    "* The standard way of evaluating the accuracy of a model is by holding some of the intial data back, and asking it to predict it\n"
   ]
  },
  {
   "cell_type": "markdown",
   "metadata": {
    "slideshow": {
     "slide_type": "subslide"
    }
   },
   "source": [
    "### Confusion Matrix\n",
    "![alt text](cmtpfp.png \"Confusion Matrix\")"
   ]
  },
  {
   "cell_type": "markdown",
   "metadata": {
    "slideshow": {
     "slide_type": "subslide"
    }
   },
   "source": [
    "### Accuracy\n",
    "\n",
    "- It is simply the ratio of correctly predicted observations.\n",
    "- Using accuracy is only good for symmetric data sets where the class distribution is 50/50 and the cost of false positives and false negatives are roughly the same.\n",
    "- Example: you are building a model which predicts whether a device is defective: \n",
    "- The class distribution is such that 6 in 1000 devices is truly defective (positive). \n",
    "- A model which simply returns “negative” – i.e. not defective – all the time gets it right 99.4% of the time and therefore has an accuracy of 0.994, when in fact it never correctly identifies a defective device!"
   ]
  },
  {
   "cell_type": "markdown",
   "metadata": {
    "slideshow": {
     "slide_type": "subslide"
    }
   },
   "source": [
    "### Precision\n",
    "- Precision looks at the ratio of correct positive observations.\n",
    "- The formula is True Positives / (True Positives + False Positives).\n",
    "- Note that the denominator is the count of all positive predictions, including positive observations of events which were in fact negative.\n",
    "- Example: you are building a model which predicts whether a device is defective. let's assume our model predicts 8 out of 1000 devices being faulty. If only 5 of those 8 are truly defective the precision is 5/8 = 0.625."
   ]
  },
  {
   "cell_type": "markdown",
   "metadata": {
    "slideshow": {
     "slide_type": "subslide"
    }
   },
   "source": [
    "### Recall\n",
    "\n",
    "- Recall is also known as sensitivity or true positive rate. It’s the ratio of correctly predicted positive events.\n",
    "- Recall is calculated as True Positives / (True Positives + False Negatives).\n",
    "- Note that the denominator is the count of all positive events, regardless whether they were correctly predicted by the model.\n",
    "- Using the same example as before, we already knew that 6 out of 1000 devices are truly defective. The model correctly predicted 5 of them. (It also predicted 3 incorrectly, but for the recall measure that’s not important). The recall therefore is 5/6 = 0.833."
   ]
  },
  {
   "cell_type": "markdown",
   "metadata": {
    "slideshow": {
     "slide_type": "subslide"
    }
   },
   "source": [
    "### Comparing Precision and Recall\n",
    "\n",
    "![alt text](precision_recall.png \"Putting it all together\")"
   ]
  },
  {
   "cell_type": "markdown",
   "metadata": {
    "slideshow": {
     "slide_type": "subslide"
    }
   },
   "source": [
    "### F1-score\n",
    "\n",
    "- The F1 Score is the weighted average of Precision and Recall. \n",
    "- Therefore, this score takes both false positives and false negatives into account. \n",
    "- Intuitively it is not as easy to understand as accuracy, but F1 is usually more useful than accuracy, especially if you have an uneven class distribution. \n",
    "- It works best if false positives and false negatives have similar cost. \n",
    "- If the cost of false positives and false negatives are very different, it’s better to look at both Precision and Recall.\n",
    "- The formula for F1 Score is 2*(Recall * Precision)/(Recall + Precision)"
   ]
  },
  {
   "cell_type": "markdown",
   "metadata": {
    "slideshow": {
     "slide_type": "subslide"
    }
   },
   "source": [
    "### Putting it all together\n",
    "\n",
    "![alt text](performance.png \"Putting it all together\")"
   ]
  },
  {
   "cell_type": "code",
   "execution_count": 12,
   "metadata": {
    "slideshow": {
     "slide_type": "subslide"
    }
   },
   "outputs": [
    {
     "name": "stdout",
     "output_type": "stream",
     "text": [
      "              precision    recall  f1-score   support\n",
      "\n",
      "     Settles       0.90      1.00      0.95       219\n",
      "    Defaults       1.00      0.22      0.36        32\n",
      "\n",
      "    accuracy                           0.90       251\n",
      "   macro avg       0.95      0.61      0.65       251\n",
      "weighted avg       0.91      0.90      0.87       251\n",
      "\n"
     ]
    }
   ],
   "source": [
    "from sklearn.metrics import classification_report\n",
    "\n",
    "default_guess_unseen = clf.predict(X_test)\n",
    "default_known_unseen = y_test\n",
    "\n",
    "\n",
    "print(classification_report(default_known_unseen, default_guess_unseen,target_names=[\"Settles\", \"Defaults\"]))\n"
   ]
  },
  {
   "cell_type": "markdown",
   "metadata": {
    "slideshow": {
     "slide_type": "fragment"
    }
   },
   "source": [
    "* precision: of everything we labelled correctly, what % are defaults\n",
    "* recall: of everything labelled \"default\", what % are defaults"
   ]
  },
  {
   "cell_type": "markdown",
   "metadata": {
    "slideshow": {
     "slide_type": "subslide"
    }
   },
   "source": [
    "### Confusion Matrix\n",
    "\n",
    "![alt text](cm01.png \"Confusion Matrix\")"
   ]
  }
 ],
 "metadata": {
  "celltoolbar": "Slideshow",
  "kernelspec": {
   "display_name": "Python 3",
   "language": "python",
   "name": "python3"
  },
  "language_info": {
   "codemirror_mode": {
    "name": "ipython",
    "version": 3
   },
   "file_extension": ".py",
   "mimetype": "text/x-python",
   "name": "python",
   "nbconvert_exporter": "python",
   "pygments_lexer": "ipython3",
   "version": "3.7.4"
  }
 },
 "nbformat": 4,
 "nbformat_minor": 2
}
