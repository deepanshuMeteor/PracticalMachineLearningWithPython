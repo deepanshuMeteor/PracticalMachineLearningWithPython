{
 "cells": [
  {
   "cell_type": "markdown",
   "metadata": {
    "collapsed": true,
    "slideshow": {
     "slide_type": "slide"
    }
   },
   "source": [
    "## Learning Objectives\n",
    "\n",
    "We learn a whole lot today! \n",
    "\n",
    "1. We learn about parametric models and we get to use one in practice\n",
    "2. We learn about linear regression and how it fits into the ML picture\n"
   ]
  },
  {
   "cell_type": "markdown",
   "metadata": {
    "slideshow": {
     "slide_type": "slide"
    }
   },
   "source": [
    "## Linear Regression\n",
    "\n",
    "Linear regression is the most used model in practice, and it is our first parametric model, it has parameters which is calls weights and the algorithm associated with Linear regression concerns itself with finding what those weights will be.\n",
    "\n",
    "In two dimensions Linear regression is easy to explain:\n",
    "\n",
    "<blockquote>\n",
    "Find the line of best fit through the X and y points.\n",
    "</blockquote>\n"
   ]
  },
  {
   "cell_type": "markdown",
   "metadata": {
    "slideshow": {
     "slide_type": "skip"
    }
   },
   "source": [
    "In more than two dimensions it becomes:\n",
    "\n",
    "<blockquote>\n",
    "Find the hyperplane of best fit through the X and y points.\n",
    "</blockquote>\n"
   ]
  },
  {
   "cell_type": "markdown",
   "metadata": {
    "slideshow": {
     "slide_type": "slide"
    }
   },
   "source": [
    "Let's explore what using linear regression feels like:"
   ]
  },
  {
   "cell_type": "code",
   "execution_count": 1,
   "metadata": {
    "slideshow": {
     "slide_type": "subslide"
    }
   },
   "outputs": [
    {
     "name": "stdout",
     "output_type": "stream",
     "text": [
      ".. _boston_dataset:\n",
      "\n",
      "Boston house prices dataset\n",
      "---------------------------\n",
      "\n",
      "**Data Set Characteristics:**  \n",
      "\n",
      "    :Number of Instances: 506 \n",
      "\n",
      "    :Number of Attributes: 13 numeric/categorical predictive. Median Value (attribute 14) is usually the target.\n",
      "\n",
      "    :Attribute Information (in order):\n",
      "        - CRIM     per capita crime rate by town\n",
      "        - ZN       proportion of residential land zoned for lots over 25,000 sq.ft.\n",
      "        - INDUS    proportion of non-retail business acres per town\n",
      "        - CHAS     Charles River dummy variable (= 1 if tract bounds river; 0 otherwise)\n",
      "        - NOX      nitric oxides concentration (parts per 10 million)\n",
      "        - RM       average number of rooms per dwelling\n",
      "        - AGE      proportion of owner-occupied units built prior to 1940\n",
      "        - DIS      weighted distances to five Boston employment centres\n",
      "        - RAD      index of accessibility to radial highways\n",
      "        - TAX      full-value property-tax rate per $10,000\n",
      "        - PTRATIO  pupil-teacher ratio by town\n",
      "        - B        1000(Bk - 0.63)^2 where Bk is the proportion of blacks by town\n",
      "        - LSTAT    % lower status of the population\n",
      "        - MEDV     Median value of owner-occupied homes in $1000's\n",
      "\n",
      "    :Missing Attribute Values: None\n",
      "\n",
      "    :Creator: Harrison, D. and Rubinfeld, D.L.\n",
      "\n",
      "This is a copy of UCI ML housing dataset.\n",
      "https://archive.ics.uci.edu/ml/machine-learning-databases/housing/\n",
      "\n",
      "\n",
      "This dataset was taken from the StatLib library which is maintained at Carnegie Mellon University.\n",
      "\n",
      "The Boston house-price data of Harrison, D. and Rubinfeld, D.L. 'Hedonic\n",
      "prices and the demand for clean air', J. Environ. Economics & Management,\n",
      "vol.5, 81-102, 1978.   Used in Belsley, Kuh & Welsch, 'Regression diagnostics\n",
      "...', Wiley, 1980.   N.B. Various transformations are used in the table on\n",
      "pages 244-261 of the latter.\n",
      "\n",
      "The Boston house-price data has been used in many machine learning papers that address regression\n",
      "problems.   \n",
      "     \n",
      ".. topic:: References\n",
      "\n",
      "   - Belsley, Kuh & Welsch, 'Regression diagnostics: Identifying Influential Data and Sources of Collinearity', Wiley, 1980. 244-261.\n",
      "   - Quinlan,R. (1993). Combining Instance-Based and Model-Based Learning. In Proceedings on the Tenth International Conference of Machine Learning, 236-243, University of Massachusetts, Amherst. Morgan Kaufmann.\n",
      "\n"
     ]
    }
   ],
   "source": [
    "from sklearn.datasets import load_boston\n",
    "\n",
    "boston_data = load_boston()\n",
    "\n",
    "print(boston_data['DESCR'])"
   ]
  },
  {
   "cell_type": "code",
   "execution_count": 2,
   "metadata": {
    "slideshow": {
     "slide_type": "subslide"
    }
   },
   "outputs": [
    {
     "name": "stdout",
     "output_type": "stream",
     "text": [
      "(506, 13)\n",
      "(506,)\n",
      "['CRIM' 'ZN' 'INDUS' 'CHAS' 'NOX' 'RM' 'AGE' 'DIS' 'RAD' 'TAX' 'PTRATIO'\n",
      " 'B' 'LSTAT']\n"
     ]
    }
   ],
   "source": [
    "print (boston_data['data'].shape)\n",
    "print (boston_data['target'].shape)\n",
    "print (boston_data['feature_names'])"
   ]
  },
  {
   "cell_type": "code",
   "execution_count": 3,
   "metadata": {
    "slideshow": {
     "slide_type": "subslide"
    }
   },
   "outputs": [],
   "source": [
    "from sklearn.model_selection import train_test_split\n",
    "\n",
    "# we make our test set\n",
    "X_train, X_test, y_train, y_test = train_test_split(boston_data['data'], boston_data['target'], test_size=0.2, random_state=1)\n",
    "\n",
    "# and we make our validation set\n",
    "X_train, X_val, y_train, y_val = train_test_split(X_train, y_train, test_size=0.2, random_state=1)"
   ]
  },
  {
   "cell_type": "markdown",
   "metadata": {
    "slideshow": {
     "slide_type": "subslide"
    }
   },
   "source": [
    "Training Dataset: The sample of data used to fit the model.\n",
    "\n",
    "Validation Dataset: The sample of data used to provide an unbiased evaluation of a model fit on the training dataset while tuning model hyperparameters. Model doesn't learn from this.\n",
    "\n",
    "Test Dataset: The sample of data used to provide an unbiased evaluation of a final model fit on the training dataset."
   ]
  },
  {
   "cell_type": "code",
   "execution_count": 4,
   "metadata": {
    "scrolled": true,
    "slideshow": {
     "slide_type": "fragment"
    }
   },
   "outputs": [
    {
     "name": "stdout",
     "output_type": "stream",
     "text": [
      "(323, 13) (81, 13) (102, 13)\n"
     ]
    }
   ],
   "source": [
    "print(X_train.shape, X_val.shape, X_test.shape)"
   ]
  },
  {
   "cell_type": "markdown",
   "metadata": {
    "slideshow": {
     "slide_type": "subslide"
    }
   },
   "source": [
    "Let's visualize how using linear regression would work. Let's first look to see which features are the most correlated with the target:"
   ]
  },
  {
   "cell_type": "code",
   "execution_count": 5,
   "metadata": {
    "slideshow": {
     "slide_type": "fragment"
    }
   },
   "outputs": [],
   "source": [
    "import pandas as pd\n",
    "import numpy as np\n",
    "\n",
    "full_data = np.append(X_train, y_train.reshape(-1, 1), axis=-1)\n",
    "\n",
    "full_df = pd.DataFrame(data=full_data, columns=np.append(boston_data['feature_names'], 'target'))"
   ]
  },
  {
   "cell_type": "markdown",
   "metadata": {
    "slideshow": {
     "slide_type": "slide"
    }
   },
   "source": [
    "### EDA with Pandas Profiler"
   ]
  },
  {
   "cell_type": "code",
   "execution_count": 6,
   "metadata": {
    "scrolled": true,
    "slideshow": {
     "slide_type": "skip"
    }
   },
   "outputs": [
    {
     "name": "stdout",
     "output_type": "stream",
     "text": [
      "Requirement already satisfied: pandas-profiling in /Users/kofiglover/opt/anaconda3/lib/python3.7/site-packages (2.4.0)\n",
      "Requirement already satisfied: notebook in /Users/kofiglover/opt/anaconda3/lib/python3.7/site-packages (6.0.1)\n",
      "Requirement already satisfied: matplotlib>=1.4 in /Users/kofiglover/opt/anaconda3/lib/python3.7/site-packages (from pandas-profiling) (3.1.1)\n",
      "Requirement already satisfied: pandas>=0.19 in /Users/kofiglover/opt/anaconda3/lib/python3.7/site-packages (from pandas-profiling) (0.25.1)\n",
      "Requirement already satisfied: phik>=0.9.8 in /Users/kofiglover/opt/anaconda3/lib/python3.7/site-packages (from pandas-profiling) (0.9.8)\n",
      "Requirement already satisfied: missingno>=0.4.2 in /Users/kofiglover/opt/anaconda3/lib/python3.7/site-packages (from pandas-profiling) (0.4.2)\n",
      "Requirement already satisfied: jinja2>=2.8 in /Users/kofiglover/opt/anaconda3/lib/python3.7/site-packages (from pandas-profiling) (2.10.3)\n",
      "Requirement already satisfied: htmlmin>=0.1.12 in /Users/kofiglover/opt/anaconda3/lib/python3.7/site-packages (from pandas-profiling) (0.1.12)\n",
      "Requirement already satisfied: astropy in /Users/kofiglover/opt/anaconda3/lib/python3.7/site-packages (from pandas-profiling) (3.2.2)\n",
      "Requirement already satisfied: confuse>=1.0.0 in /Users/kofiglover/opt/anaconda3/lib/python3.7/site-packages (from pandas-profiling) (1.0.0)\n",
      "Requirement already satisfied: Send2Trash in /Users/kofiglover/opt/anaconda3/lib/python3.7/site-packages (from notebook) (1.5.0)\n",
      "Requirement already satisfied: jupyter-client>=5.3.1 in /Users/kofiglover/opt/anaconda3/lib/python3.7/site-packages (from notebook) (5.3.3)\n",
      "Requirement already satisfied: tornado>=5.0 in /Users/kofiglover/opt/anaconda3/lib/python3.7/site-packages (from notebook) (6.0.3)\n",
      "Requirement already satisfied: nbformat in /Users/kofiglover/opt/anaconda3/lib/python3.7/site-packages (from notebook) (4.4.0)\n",
      "Requirement already satisfied: terminado>=0.8.1 in /Users/kofiglover/opt/anaconda3/lib/python3.7/site-packages (from notebook) (0.8.2)\n",
      "Requirement already satisfied: ipykernel in /Users/kofiglover/opt/anaconda3/lib/python3.7/site-packages (from notebook) (5.1.2)\n",
      "Requirement already satisfied: pyzmq>=17 in /Users/kofiglover/opt/anaconda3/lib/python3.7/site-packages (from notebook) (18.1.0)\n",
      "Requirement already satisfied: nbconvert in /Users/kofiglover/opt/anaconda3/lib/python3.7/site-packages (from notebook) (5.6.0)\n",
      "Requirement already satisfied: ipython-genutils in /Users/kofiglover/opt/anaconda3/lib/python3.7/site-packages (from notebook) (0.2.0)\n",
      "Requirement already satisfied: traitlets>=4.2.1 in /Users/kofiglover/opt/anaconda3/lib/python3.7/site-packages (from notebook) (4.3.3)\n",
      "Requirement already satisfied: jupyter-core>=4.4.0 in /Users/kofiglover/opt/anaconda3/lib/python3.7/site-packages (from notebook) (4.5.0)\n",
      "Requirement already satisfied: prometheus-client in /Users/kofiglover/opt/anaconda3/lib/python3.7/site-packages (from notebook) (0.7.1)\n",
      "Requirement already satisfied: cycler>=0.10 in /Users/kofiglover/opt/anaconda3/lib/python3.7/site-packages (from matplotlib>=1.4->pandas-profiling) (0.10.0)\n",
      "Requirement already satisfied: kiwisolver>=1.0.1 in /Users/kofiglover/opt/anaconda3/lib/python3.7/site-packages (from matplotlib>=1.4->pandas-profiling) (1.1.0)\n",
      "Requirement already satisfied: pyparsing!=2.0.4,!=2.1.2,!=2.1.6,>=2.0.1 in /Users/kofiglover/opt/anaconda3/lib/python3.7/site-packages (from matplotlib>=1.4->pandas-profiling) (2.4.2)\n",
      "Requirement already satisfied: python-dateutil>=2.1 in /Users/kofiglover/opt/anaconda3/lib/python3.7/site-packages (from matplotlib>=1.4->pandas-profiling) (2.8.0)\n",
      "Requirement already satisfied: numpy>=1.11 in /Users/kofiglover/opt/anaconda3/lib/python3.7/site-packages (from matplotlib>=1.4->pandas-profiling) (1.17.2)\n",
      "Requirement already satisfied: pytz>=2017.2 in /Users/kofiglover/opt/anaconda3/lib/python3.7/site-packages (from pandas>=0.19->pandas-profiling) (2019.3)\n",
      "Requirement already satisfied: scipy>=1.1.0 in /Users/kofiglover/opt/anaconda3/lib/python3.7/site-packages (from phik>=0.9.8->pandas-profiling) (1.3.1)\n",
      "Requirement already satisfied: numba>=0.38.1 in /Users/kofiglover/opt/anaconda3/lib/python3.7/site-packages (from phik>=0.9.8->pandas-profiling) (0.45.1)\n",
      "Requirement already satisfied: pytest>=4.0.2 in /Users/kofiglover/opt/anaconda3/lib/python3.7/site-packages (from phik>=0.9.8->pandas-profiling) (5.2.1)\n",
      "Requirement already satisfied: pytest-pylint>=0.13.0 in /Users/kofiglover/opt/anaconda3/lib/python3.7/site-packages (from phik>=0.9.8->pandas-profiling) (0.14.1)\n",
      "Requirement already satisfied: seaborn in /Users/kofiglover/opt/anaconda3/lib/python3.7/site-packages (from missingno>=0.4.2->pandas-profiling) (0.9.0)\n",
      "Requirement already satisfied: MarkupSafe>=0.23 in /Users/kofiglover/opt/anaconda3/lib/python3.7/site-packages (from jinja2>=2.8->pandas-profiling) (1.1.1)\n",
      "Requirement already satisfied: pyyaml in /Users/kofiglover/opt/anaconda3/lib/python3.7/site-packages (from confuse>=1.0.0->pandas-profiling) (5.1.2)\n",
      "Requirement already satisfied: jsonschema!=2.5.0,>=2.4 in /Users/kofiglover/opt/anaconda3/lib/python3.7/site-packages (from nbformat->notebook) (3.0.2)\n",
      "Requirement already satisfied: ipython>=5.0.0 in /Users/kofiglover/opt/anaconda3/lib/python3.7/site-packages (from ipykernel->notebook) (7.8.0)\n",
      "Requirement already satisfied: bleach in /Users/kofiglover/opt/anaconda3/lib/python3.7/site-packages (from nbconvert->notebook) (3.1.0)\n",
      "Requirement already satisfied: pygments in /Users/kofiglover/opt/anaconda3/lib/python3.7/site-packages (from nbconvert->notebook) (2.4.2)\n",
      "Requirement already satisfied: entrypoints>=0.2.2 in /Users/kofiglover/opt/anaconda3/lib/python3.7/site-packages (from nbconvert->notebook) (0.3)\n",
      "Requirement already satisfied: testpath in /Users/kofiglover/opt/anaconda3/lib/python3.7/site-packages (from nbconvert->notebook) (0.4.2)\n",
      "Requirement already satisfied: mistune<2,>=0.8.1 in /Users/kofiglover/opt/anaconda3/lib/python3.7/site-packages (from nbconvert->notebook) (0.8.4)\n",
      "Requirement already satisfied: defusedxml in /Users/kofiglover/opt/anaconda3/lib/python3.7/site-packages (from nbconvert->notebook) (0.6.0)\n",
      "Requirement already satisfied: pandocfilters>=1.4.1 in /Users/kofiglover/opt/anaconda3/lib/python3.7/site-packages (from nbconvert->notebook) (1.4.2)\n",
      "Requirement already satisfied: six in /Users/kofiglover/opt/anaconda3/lib/python3.7/site-packages (from traitlets>=4.2.1->notebook) (1.12.0)\n",
      "Requirement already satisfied: decorator in /Users/kofiglover/opt/anaconda3/lib/python3.7/site-packages (from traitlets>=4.2.1->notebook) (4.4.0)\n",
      "Requirement already satisfied: setuptools in /Users/kofiglover/opt/anaconda3/lib/python3.7/site-packages (from kiwisolver>=1.0.1->matplotlib>=1.4->pandas-profiling) (41.4.0)\n",
      "Requirement already satisfied: llvmlite>=0.29.0dev0 in /Users/kofiglover/opt/anaconda3/lib/python3.7/site-packages (from numba>=0.38.1->phik>=0.9.8->pandas-profiling) (0.29.0)\n",
      "Requirement already satisfied: py>=1.5.0 in /Users/kofiglover/opt/anaconda3/lib/python3.7/site-packages (from pytest>=4.0.2->phik>=0.9.8->pandas-profiling) (1.8.0)\n",
      "Requirement already satisfied: packaging in /Users/kofiglover/opt/anaconda3/lib/python3.7/site-packages (from pytest>=4.0.2->phik>=0.9.8->pandas-profiling) (19.2)\n",
      "Requirement already satisfied: attrs>=17.4.0 in /Users/kofiglover/opt/anaconda3/lib/python3.7/site-packages (from pytest>=4.0.2->phik>=0.9.8->pandas-profiling) (19.2.0)\n",
      "Requirement already satisfied: more-itertools>=4.0.0 in /Users/kofiglover/opt/anaconda3/lib/python3.7/site-packages (from pytest>=4.0.2->phik>=0.9.8->pandas-profiling) (7.2.0)\n",
      "Requirement already satisfied: atomicwrites>=1.0 in /Users/kofiglover/opt/anaconda3/lib/python3.7/site-packages (from pytest>=4.0.2->phik>=0.9.8->pandas-profiling) (1.3.0)\n",
      "Requirement already satisfied: pluggy<1.0,>=0.12 in /Users/kofiglover/opt/anaconda3/lib/python3.7/site-packages (from pytest>=4.0.2->phik>=0.9.8->pandas-profiling) (0.13.0)\n",
      "Requirement already satisfied: wcwidth in /Users/kofiglover/opt/anaconda3/lib/python3.7/site-packages (from pytest>=4.0.2->phik>=0.9.8->pandas-profiling) (0.1.7)\n",
      "Requirement already satisfied: importlib-metadata>=0.12 in /Users/kofiglover/opt/anaconda3/lib/python3.7/site-packages (from pytest>=4.0.2->phik>=0.9.8->pandas-profiling) (0.23)\n",
      "Requirement already satisfied: pylint>=1.4.5 in /Users/kofiglover/opt/anaconda3/lib/python3.7/site-packages (from pytest-pylint>=0.13.0->phik>=0.9.8->pandas-profiling) (2.4.2)\n"
     ]
    },
    {
     "name": "stdout",
     "output_type": "stream",
     "text": [
      "Requirement already satisfied: pyrsistent>=0.14.0 in /Users/kofiglover/opt/anaconda3/lib/python3.7/site-packages (from jsonschema!=2.5.0,>=2.4->nbformat->notebook) (0.15.4)\n",
      "Requirement already satisfied: pexpect; sys_platform != \"win32\" in /Users/kofiglover/opt/anaconda3/lib/python3.7/site-packages (from ipython>=5.0.0->ipykernel->notebook) (4.7.0)\n",
      "Requirement already satisfied: pickleshare in /Users/kofiglover/opt/anaconda3/lib/python3.7/site-packages (from ipython>=5.0.0->ipykernel->notebook) (0.7.5)\n",
      "Requirement already satisfied: prompt-toolkit<2.1.0,>=2.0.0 in /Users/kofiglover/opt/anaconda3/lib/python3.7/site-packages (from ipython>=5.0.0->ipykernel->notebook) (2.0.10)\n",
      "Requirement already satisfied: appnope; sys_platform == \"darwin\" in /Users/kofiglover/opt/anaconda3/lib/python3.7/site-packages (from ipython>=5.0.0->ipykernel->notebook) (0.1.0)\n",
      "Requirement already satisfied: jedi>=0.10 in /Users/kofiglover/opt/anaconda3/lib/python3.7/site-packages (from ipython>=5.0.0->ipykernel->notebook) (0.15.1)\n",
      "Requirement already satisfied: backcall in /Users/kofiglover/opt/anaconda3/lib/python3.7/site-packages (from ipython>=5.0.0->ipykernel->notebook) (0.1.0)\n",
      "Requirement already satisfied: webencodings in /Users/kofiglover/opt/anaconda3/lib/python3.7/site-packages (from bleach->nbconvert->notebook) (0.5.1)\n",
      "Requirement already satisfied: zipp>=0.5 in /Users/kofiglover/opt/anaconda3/lib/python3.7/site-packages (from importlib-metadata>=0.12->pytest>=4.0.2->phik>=0.9.8->pandas-profiling) (0.6.0)\n",
      "Requirement already satisfied: astroid<2.4,>=2.3.0 in /Users/kofiglover/opt/anaconda3/lib/python3.7/site-packages (from pylint>=1.4.5->pytest-pylint>=0.13.0->phik>=0.9.8->pandas-profiling) (2.3.1)\n",
      "Requirement already satisfied: isort<5,>=4.2.5 in /Users/kofiglover/opt/anaconda3/lib/python3.7/site-packages (from pylint>=1.4.5->pytest-pylint>=0.13.0->phik>=0.9.8->pandas-profiling) (4.3.21)\n",
      "Requirement already satisfied: mccabe<0.7,>=0.6 in /Users/kofiglover/opt/anaconda3/lib/python3.7/site-packages (from pylint>=1.4.5->pytest-pylint>=0.13.0->phik>=0.9.8->pandas-profiling) (0.6.1)\n",
      "Requirement already satisfied: ptyprocess>=0.5 in /Users/kofiglover/opt/anaconda3/lib/python3.7/site-packages (from pexpect; sys_platform != \"win32\"->ipython>=5.0.0->ipykernel->notebook) (0.6.0)\n",
      "Requirement already satisfied: parso>=0.5.0 in /Users/kofiglover/opt/anaconda3/lib/python3.7/site-packages (from jedi>=0.10->ipython>=5.0.0->ipykernel->notebook) (0.5.1)\n",
      "Requirement already satisfied: typed-ast<1.5,>=1.4.0; implementation_name == \"cpython\" and python_version < \"3.8\" in /Users/kofiglover/opt/anaconda3/lib/python3.7/site-packages (from astroid<2.4,>=2.3.0->pylint>=1.4.5->pytest-pylint>=0.13.0->phik>=0.9.8->pandas-profiling) (1.4.1)\n",
      "Requirement already satisfied: wrapt==1.11.* in /Users/kofiglover/opt/anaconda3/lib/python3.7/site-packages (from astroid<2.4,>=2.3.0->pylint>=1.4.5->pytest-pylint>=0.13.0->phik>=0.9.8->pandas-profiling) (1.11.2)\n",
      "Requirement already satisfied: lazy-object-proxy==1.4.* in /Users/kofiglover/opt/anaconda3/lib/python3.7/site-packages (from astroid<2.4,>=2.3.0->pylint>=1.4.5->pytest-pylint>=0.13.0->phik>=0.9.8->pandas-profiling) (1.4.2)\n",
      "Note: you may need to restart the kernel to use updated packages.\n"
     ]
    }
   ],
   "source": [
    "pip install pandas-profiling notebook"
   ]
  },
  {
   "cell_type": "code",
   "execution_count": 7,
   "metadata": {
    "slideshow": {
     "slide_type": "skip"
    }
   },
   "outputs": [],
   "source": [
    "from pandas_profiling import ProfileReport"
   ]
  },
  {
   "cell_type": "code",
   "execution_count": 8,
   "metadata": {
    "slideshow": {
     "slide_type": "skip"
    }
   },
   "outputs": [],
   "source": [
    "profile = ProfileReport(full_df, title='Pandas Profiling Report')"
   ]
  },
  {
   "cell_type": "code",
   "execution_count": 9,
   "metadata": {
    "slideshow": {
     "slide_type": "slide"
    }
   },
   "outputs": [
    {
     "data": {
      "application/vnd.jupyter.widget-view+json": {
       "model_id": "3066be848dde4fb5b94880a0ff4d39a3",
       "version_major": 2,
       "version_minor": 0
      },
      "text/plain": [
       "Tab(children=(HTML(value='<div id=\"overview-content\" class=\"row variable spacing\">\\n    <div class=\"row\">\\n   …"
      ]
     },
     "metadata": {},
     "output_type": "display_data"
    },
    {
     "data": {
      "text/html": [
       "Report generated with <a href=\"https://github.com/pandas-profiling/pandas-profiling\">pandas-profiling</a>."
      ],
      "text/plain": [
       "<IPython.core.display.HTML object>"
      ]
     },
     "metadata": {},
     "output_type": "display_data"
    },
    {
     "data": {
      "text/plain": []
     },
     "execution_count": 9,
     "metadata": {},
     "output_type": "execute_result"
    }
   ],
   "source": [
    "profile"
   ]
  },
  {
   "cell_type": "markdown",
   "metadata": {
    "slideshow": {
     "slide_type": "slide"
    }
   },
   "source": [
    "### Manual Pair Plots"
   ]
  },
  {
   "cell_type": "code",
   "execution_count": 10,
   "metadata": {
    "slideshow": {
     "slide_type": "subslide"
    }
   },
   "outputs": [
    {
     "data": {
      "image/png": "[encoded data removed]",
      "text/plain": [
       "<Figure size 432x288 with 2 Axes>"
      ]
     },
     "metadata": {
      "needs_background": "light"
     },
     "output_type": "display_data"
    }
   ],
   "source": [
    "%matplotlib inline\n",
    "import seaborn as sns\n",
    "\n",
    "g = sns.heatmap(full_df.corr())\n",
    "g = g.set_xticklabels(g.get_xticklabels(), rotation=90)"
   ]
  },
  {
   "cell_type": "markdown",
   "metadata": {
    "slideshow": {
     "slide_type": "subslide"
    }
   },
   "source": [
    "We can see that some of the most correlated columns are: RM and LSTAT"
   ]
  },
  {
   "cell_type": "code",
   "execution_count": 11,
   "metadata": {
    "slideshow": {
     "slide_type": "subslide"
    }
   },
   "outputs": [
    {
     "data": {
      "text/plain": [
       "<seaborn.axisgrid.PairGrid at 0x1a2a0e33d0>"
      ]
     },
     "execution_count": 11,
     "metadata": {},
     "output_type": "execute_result"
    },
    {
     "data": {
      "image/png": "[encoded data removed]",
      "text/plain": [
       "<Figure size 540x540 with 12 Axes>"
      ]
     },
     "metadata": {
      "needs_background": "light"
     },
     "output_type": "display_data"
    }
   ],
   "source": [
    "sns.pairplot(full_df[['RM', 'LSTAT', 'target']], kind='reg')"
   ]
  },
  {
   "cell_type": "markdown",
   "metadata": {
    "slideshow": {
     "slide_type": "subslide"
    }
   },
   "source": [
    "One of the weaknesses with linear regression however is that it cannot naively capture non-linear interactions. So perhaps two of the features above interact in a specific way, linear regression cannot find this out on its own.\n",
    "\n",
    "Let's finish by doing the linear regression and then expaining its most common error measure:"
   ]
  },
  {
   "cell_type": "markdown",
   "metadata": {},
   "source": [
    "### Train Model"
   ]
  },
  {
   "cell_type": "code",
   "execution_count": 12,
   "metadata": {},
   "outputs": [],
   "source": [
    "#put code for training model here"
   ]
  },
  {
   "cell_type": "markdown",
   "metadata": {},
   "source": [
    "### Evaluate Model"
   ]
  },
  {
   "cell_type": "code",
   "execution_count": 13,
   "metadata": {},
   "outputs": [],
   "source": [
    "# put code to test/evaluate your model here"
   ]
  },
  {
   "cell_type": "markdown",
   "metadata": {
    "slideshow": {
     "slide_type": "subslide"
    }
   },
   "source": [
    "Hint: use score to measure R squared: this gives you the percent of the variance that the model explains. You would be happy to get a model with over .8 r squared (note that sklearn returns the negative r squared. \n",
    "\n",
    "Find the Mean Absolute Error using the relevant function from sklearn.metrics"
   ]
  },
  {
   "cell_type": "markdown",
   "metadata": {
    "slideshow": {
     "slide_type": "subslide"
    }
   },
   "source": [
    "## How'd we do\n",
    "\n",
    "We showed two measures: r-squared and MAE:\n",
    "\n",
    "* Mean Absolute Error: the MAE is how off we are on average. This is generally more business interpretable than MSE\n",
    "* R squared: this gives you the percent of the variance that the model explains. You would be happy to get a model with over .8 r squared (note the sklearn returns the negative r squared.\n",
    "\n"
   ]
  },
  {
   "cell_type": "markdown",
   "metadata": {
    "collapsed": true,
    "slideshow": {
     "slide_type": "slide"
    }
   },
   "source": [
    "## Learning Objectives\n",
    "\n",
    "We learn a whole lot today! \n",
    "\n",
    "1. We learn about parametric models and we get to use one in practice\n",
    "2. We learn about linear regression and how it fits into the ML picture\n"
   ]
  }
 ],
 "metadata": {
  "celltoolbar": "Slideshow",
  "kernelspec": {
   "display_name": "Python 3",
   "language": "python",
   "name": "python3"
  },
  "language_info": {
   "codemirror_mode": {
    "name": "ipython",
    "version": 3
   },
   "file_extension": ".py",
   "mimetype": "text/x-python",
   "name": "python",
   "nbconvert_exporter": "python",
   "pygments_lexer": "ipython3",
   "version": "3.7.4"
  }
 },
 "nbformat": 4,
 "nbformat_minor": 2
}
