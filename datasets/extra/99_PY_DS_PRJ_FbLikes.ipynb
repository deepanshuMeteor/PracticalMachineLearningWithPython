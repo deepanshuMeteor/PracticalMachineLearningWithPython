{
 "cells": [
  {
   "cell_type": "markdown",
   "id": "cffcc668",
   "metadata": {},
   "source": [
    "# Amazon Product Graph Analysis: Project\n",
    "## Background & Hints"
   ]
  },
  {
   "cell_type": "markdown",
   "id": "8f0e37dd",
   "metadata": {},
   "source": [
    "### Problem: Predicting Personal Traits from Facebook Likes\n",
    "#### A General Schema\n",
    "\n",
    "* get facebook like data\n",
    "    * $x$ derived from $L$ = likes\n",
    "    * $y$ derived from $T$ = traits\n",
    "\n",
    "* reduce dimensions of data  (`PCA`)\n",
    "* build prediction models\n",
    "    * linear regression\n",
    "    * logistic regression\n",
    "* evaluate accuracy\n",
    "    * standard statistical measures\n",
    "    * comparison with other methods (eg., iq tests, etc.)"
   ]
  },
  {
   "cell_type": "markdown",
   "id": "0b65f79f",
   "metadata": {},
   "source": [
    "## Simulating Data"
   ]
  },
  {
   "cell_type": "markdown",
   "id": "0fa48e12",
   "metadata": {},
   "source": [
    "When simulating data you start with random simulations of $y$ and generate correlating $X$s. To do this, you just use $y$ in generating $X$. "
   ]
  },
  {
   "cell_type": "markdown",
   "id": "0249ae1d",
   "metadata": {},
   "source": [
    "## Simulating Like Data"
   ]
  },
  {
   "cell_type": "markdown",
   "id": "7e6509c8",
   "metadata": {},
   "source": [
    "$L \\in \\{0, 1\\}^{N_{l}*N_{u}}$"
   ]
  },
  {
   "cell_type": "code",
   "execution_count": 10,
   "id": "75bd8b5c",
   "metadata": {},
   "outputs": [],
   "source": [
    "import numpy as np"
   ]
  },
  {
   "cell_type": "code",
   "execution_count": 138,
   "id": "c9f20ba6",
   "metadata": {},
   "outputs": [],
   "source": [
    "N_likes = 55_000 // 100\n",
    "N_users = 10_000_000 // 100\n",
    "D_like = [0, 1]"
   ]
  },
  {
   "cell_type": "code",
   "execution_count": 160,
   "id": "7b802e72",
   "metadata": {},
   "outputs": [
    {
     "data": {
      "text/plain": [
       "0.0018181818181818182"
      ]
     },
     "execution_count": 160,
     "metadata": {},
     "output_type": "execute_result"
    }
   ],
   "source": [
    "(100 / 55_000) "
   ]
  },
  {
   "cell_type": "code",
   "execution_count": 141,
   "id": "0199963f",
   "metadata": {},
   "outputs": [
    {
     "data": {
      "text/plain": [
       "55000000"
      ]
     },
     "execution_count": 141,
     "metadata": {},
     "output_type": "execute_result"
    }
   ],
   "source": [
    "N_likes * N_users"
   ]
  },
  {
   "cell_type": "code",
   "execution_count": 139,
   "id": "6145d904",
   "metadata": {},
   "outputs": [],
   "source": [
    "L = np.random.choice(D_like, size=(N_users, N_likes))\n",
    "T_age = np.random.normal(30, 5, size=N_users) \n",
    "T_drugs = np.random.choice([0, 1], p=[0.85, 0.15], size=N_users) "
   ]
  },
  {
   "cell_type": "markdown",
   "id": "ac22a80e",
   "metadata": {},
   "source": [
    "## Machine Learning Methodology"
   ]
  },
  {
   "cell_type": "code",
   "execution_count": 109,
   "id": "f9c0fa83",
   "metadata": {},
   "outputs": [],
   "source": [
    "from sklearn.decomposition import PCA\n",
    "\n",
    "L_pca = PCA(100).fit_transform(L)"
   ]
  },
  {
   "cell_type": "code",
   "execution_count": 108,
   "id": "c4bf7fc4",
   "metadata": {},
   "outputs": [],
   "source": [
    "from sklearn.linear_model import LinearRegression"
   ]
  },
  {
   "cell_type": "code",
   "execution_count": 123,
   "id": "07b6c898",
   "metadata": {},
   "outputs": [],
   "source": [
    "X = L_pca\n",
    "y = T_age"
   ]
  },
  {
   "cell_type": "code",
   "execution_count": 124,
   "id": "f376b5fe",
   "metadata": {},
   "outputs": [],
   "source": [
    "age_model = LinearRegression().fit(X, y)"
   ]
  },
  {
   "cell_type": "code",
   "execution_count": 125,
   "id": "22e9f545",
   "metadata": {},
   "outputs": [
    {
     "data": {
      "text/plain": [
       "0.0925904260963839"
      ]
     },
     "execution_count": 125,
     "metadata": {},
     "output_type": "execute_result"
    }
   ],
   "source": [
    "age_model.score(X, y) * 100"
   ]
  },
  {
   "cell_type": "code",
   "execution_count": 115,
   "id": "bef36f7b",
   "metadata": {},
   "outputs": [],
   "source": [
    "from sklearn.model_selection import cross_val_score"
   ]
  },
  {
   "cell_type": "code",
   "execution_count": 118,
   "id": "56329ee7",
   "metadata": {},
   "outputs": [
    {
     "data": {
      "text/plain": [
       "-0.13801025656344112"
      ]
     },
     "execution_count": 118,
     "metadata": {},
     "output_type": "execute_result"
    }
   ],
   "source": [
    "cross_val_score(LinearRegression(), X, y).mean() * 100"
   ]
  },
  {
   "cell_type": "markdown",
   "id": "2b0cd424",
   "metadata": {},
   "source": [
    "---"
   ]
  },
  {
   "cell_type": "code",
   "execution_count": 120,
   "id": "1ebbcb55",
   "metadata": {},
   "outputs": [],
   "source": [
    "from sklearn.linear_model import LogisticRegression"
   ]
  },
  {
   "cell_type": "code",
   "execution_count": 130,
   "id": "c0f209a9",
   "metadata": {},
   "outputs": [],
   "source": [
    "X = L_pca\n",
    "y = T_drugs\n",
    "\n",
    "drug_model = LogisticRegression().fit(X, y)"
   ]
  },
  {
   "cell_type": "code",
   "execution_count": 128,
   "id": "bae7786e",
   "metadata": {},
   "outputs": [
    {
     "data": {
      "text/plain": [
       "0.85009"
      ]
     },
     "execution_count": 128,
     "metadata": {},
     "output_type": "execute_result"
    }
   ],
   "source": [
    "drug_model.score(X, y)"
   ]
  },
  {
   "cell_type": "markdown",
   "id": "0c12f4a1",
   "metadata": {},
   "source": [
    "Why is this $85\\%$? Note both `X` and `y` are independelty randomly generate..."
   ]
  },
  {
   "cell_type": "code",
   "execution_count": 133,
   "id": "2d4b2333",
   "metadata": {},
   "outputs": [
    {
     "data": {
      "text/plain": [
       "0.85009"
      ]
     },
     "execution_count": 133,
     "metadata": {},
     "output_type": "execute_result"
    }
   ],
   "source": [
    "1 - y.mean()"
   ]
  },
  {
   "cell_type": "markdown",
   "id": "9634795a",
   "metadata": {},
   "source": [
    "It's just alwayas predicting `1`. "
   ]
  },
  {
   "cell_type": "markdown",
   "id": "d9e825cb",
   "metadata": {},
   "source": [
    "```py\n",
    "\n",
    "from sklearn.metrics import roc_curve, auc\n",
    "\n",
    "fpr, tpr, thresholds = roc_curve(y, drug_model.predict(X), pos_label=2)\n",
    "auc(fpr, tpr)\n",
    "\n",
    "```"
   ]
  },
  {
   "cell_type": "markdown",
   "id": "7443fbce",
   "metadata": {},
   "source": [
    "---"
   ]
  },
  {
   "cell_type": "code",
   "execution_count": null,
   "id": "090f8b5e",
   "metadata": {},
   "outputs": [],
   "source": [
    "L"
   ]
  },
  {
   "cell_type": "code",
   "execution_count": 28,
   "id": "4382d69c",
   "metadata": {},
   "outputs": [
    {
     "data": {
      "text/plain": [
       "(10000, 55)"
      ]
     },
     "execution_count": 28,
     "metadata": {},
     "output_type": "execute_result"
    }
   ],
   "source": [
    "L.shape"
   ]
  },
  {
   "cell_type": "code",
   "execution_count": null,
   "id": "7522539d",
   "metadata": {},
   "outputs": [],
   "source": []
  },
  {
   "cell_type": "code",
   "execution_count": 43,
   "id": "1a3d3e73",
   "metadata": {},
   "outputs": [],
   "source": [
    "T_age = np.random.normal(30, 5, N_users).astype(int)"
   ]
  },
  {
   "cell_type": "code",
   "execution_count": 44,
   "id": "8f3d629f",
   "metadata": {},
   "outputs": [
    {
     "data": {
      "text/plain": [
       "array([28, 37, 13, ..., 38, 33, 27])"
      ]
     },
     "execution_count": 44,
     "metadata": {},
     "output_type": "execute_result"
    }
   ],
   "source": [
    "T_age"
   ]
  },
  {
   "cell_type": "code",
   "execution_count": 66,
   "id": "c1fdd2cf",
   "metadata": {},
   "outputs": [
    {
     "data": {
      "text/plain": [
       "array([0, 1, 0, ..., 0, 1, 1])"
      ]
     },
     "execution_count": 66,
     "metadata": {},
     "output_type": "execute_result"
    }
   ],
   "source": [
    "np.random.choice([0, 1], size=N_users)"
   ]
  },
  {
   "cell_type": "code",
   "execution_count": 100,
   "id": "d58c4420",
   "metadata": {},
   "outputs": [],
   "source": [
    "y_age_vector =  (\n",
    "    \n",
    "    (T_age >= 45) * np.random.choice([0, 1], size=N_users)\n",
    "              \n",
    ").astype(int).reshape(-1, 1)"
   ]
  },
  {
   "cell_type": "code",
   "execution_count": 101,
   "id": "ce607cd4",
   "metadata": {},
   "outputs": [],
   "source": [
    "X5 = L[:, :5] * y_age_vector"
   ]
  },
  {
   "cell_type": "code",
   "execution_count": 93,
   "id": "7f32f9f9",
   "metadata": {},
   "outputs": [],
   "source": [
    "from sklearn.decomposition import PCA"
   ]
  },
  {
   "cell_type": "code",
   "execution_count": 94,
   "id": "c7f3550a",
   "metadata": {},
   "outputs": [],
   "source": [
    "x5_pca = PCA(1).fit_transform(X5)"
   ]
  },
  {
   "cell_type": "code",
   "execution_count": 95,
   "id": "c1e52953",
   "metadata": {},
   "outputs": [],
   "source": [
    "from sklearn.linear_model import LinearRegression"
   ]
  },
  {
   "cell_type": "code",
   "execution_count": 96,
   "id": "cfa7151d",
   "metadata": {},
   "outputs": [
    {
     "data": {
      "text/plain": [
       "array([11.11163829])"
      ]
     },
     "execution_count": 96,
     "metadata": {},
     "output_type": "execute_result"
    }
   ],
   "source": [
    "LinearRegression().fit(x5_pca, T_age).coef_"
   ]
  },
  {
   "cell_type": "code",
   "execution_count": 97,
   "id": "d731bc0a",
   "metadata": {},
   "outputs": [],
   "source": [
    "%matplotlib inline\n",
    "import seaborn as sns"
   ]
  },
  {
   "cell_type": "code",
   "execution_count": 98,
   "id": "6120c400",
   "metadata": {},
   "outputs": [
    {
     "data": {
      "text/plain": [
       "<AxesSubplot:>"
      ]
     },
     "execution_count": 98,
     "metadata": {},
     "output_type": "execute_result"
    },
    {
     "data": {
      "image/png": "[encoded data removed]",
      "text/plain": [
       "<Figure size 432x288 with 1 Axes>"
      ]
     },
     "metadata": {
      "needs_background": "light"
     },
     "output_type": "display_data"
    }
   ],
   "source": [
    "sns.regplot(x=x5_pca, y=T_age)"
   ]
  },
  {
   "cell_type": "markdown",
   "id": "ab0ddb1a",
   "metadata": {},
   "source": [
    "---"
   ]
  },
  {
   "cell_type": "code",
   "execution_count": 145,
   "id": "d570e959",
   "metadata": {},
   "outputs": [],
   "source": [
    "class SparseMatrix:\n",
    "    def __init__(self):\n",
    "        self.indexs_of_one = [\n",
    "            (0, 1), (300, 300), (12, 78)\n",
    "        ]\n",
    "        \n",
    "    def __getitem__(self, index):\n",
    "        if index in self.indexs_of_one:\n",
    "            return 1\n",
    "        else:\n",
    "            return 0"
   ]
  },
  {
   "cell_type": "code",
   "execution_count": 150,
   "id": "1edcf180",
   "metadata": {},
   "outputs": [
    {
     "data": {
      "text/plain": [
       "1"
      ]
     },
     "execution_count": 150,
     "metadata": {},
     "output_type": "execute_result"
    }
   ],
   "source": [
    "M = SparseMatrix()\n",
    "M[0, 1]"
   ]
  },
  {
   "cell_type": "code",
   "execution_count": 151,
   "id": "477d73a3",
   "metadata": {},
   "outputs": [
    {
     "data": {
      "text/plain": [
       "1"
      ]
     },
     "execution_count": 151,
     "metadata": {},
     "output_type": "execute_result"
    }
   ],
   "source": [
    "M[300, 300]"
   ]
  },
  {
   "cell_type": "code",
   "execution_count": 152,
   "id": "8251e26e",
   "metadata": {},
   "outputs": [
    {
     "data": {
      "text/plain": [
       "0"
      ]
     },
     "execution_count": 152,
     "metadata": {},
     "output_type": "execute_result"
    }
   ],
   "source": [
    "M[0, 34343]"
   ]
  },
  {
   "cell_type": "code",
   "execution_count": null,
   "id": "79b06c2c",
   "metadata": {},
   "outputs": [],
   "source": []
  }
 ],
 "metadata": {
  "kernelspec": {
   "display_name": "Python 3.9",
   "language": "python",
   "name": "python3"
  },
  "language_info": {
   "codemirror_mode": {
    "name": "ipython",
    "version": 3
   },
   "file_extension": ".py",
   "mimetype": "text/x-python",
   "name": "python",
   "nbconvert_exporter": "python",
   "pygments_lexer": "ipython3",
   "version": "3.9.6"
  }
 },
 "nbformat": 4,
 "nbformat_minor": 5
}
