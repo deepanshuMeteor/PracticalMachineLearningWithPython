{
 "cells": [
  {
   "cell_type": "markdown",
   "id": "ae9564fe",
   "metadata": {},
   "source": [
    "# Core Python Review"
   ]
  },
  {
   "cell_type": "markdown",
   "id": "7d80d877",
   "metadata": {},
   "source": [
    "## Part 1"
   ]
  },
  {
   "cell_type": "markdown",
   "id": "dd0352b6",
   "metadata": {},
   "source": [
    "* print"
   ]
  },
  {
   "cell_type": "code",
   "execution_count": 55,
   "id": "38f2012c",
   "metadata": {},
   "outputs": [
    {
     "name": "stdout",
     "output_type": "stream",
     "text": [
      "Word with Spaces\n"
     ]
    }
   ],
   "source": [
    "print(\"Word\", \"with Spaces\")"
   ]
  },
  {
   "cell_type": "code",
   "execution_count": 57,
   "id": "f265484b",
   "metadata": {},
   "outputs": [
    {
     "name": "stdout",
     "output_type": "stream",
     "text": [
      "Hello\n",
      "\n",
      "Goodbye\n"
     ]
    }
   ],
   "source": [
    "print(\"Hello\")\n",
    "print()\n",
    "print(\"Goodbye\")"
   ]
  },
  {
   "cell_type": "code",
   "execution_count": 58,
   "id": "6fe475f3",
   "metadata": {},
   "outputs": [
    {
     "name": "stdout",
     "output_type": "stream",
     "text": [
      "['Hobbies', '...']\n"
     ]
    }
   ],
   "source": [
    "print([\"Hobbies\", \"...\"])"
   ]
  },
  {
   "cell_type": "markdown",
   "id": "dc4a66f1",
   "metadata": {},
   "source": [
    "* lists and tuples"
   ]
  },
  {
   "cell_type": "code",
   "execution_count": 1,
   "id": "42272304",
   "metadata": {},
   "outputs": [],
   "source": [
    "health = [\n",
    "    (\"Mon\", 60, 120, \"GOOD\"),\n",
    "    (\"Tue\", 64, 130, \"BAD\"),\n",
    "    (\"Wed\", 62, 140, \"BAD\"),\n",
    "    (\"Thu\", 69, 125, \"GOOD\"),\n",
    "    (\"Fri\", 61, 120, \"GOOD\"),\n",
    "]"
   ]
  },
  {
   "cell_type": "code",
   "execution_count": 4,
   "id": "a9993f7c",
   "metadata": {},
   "outputs": [
    {
     "name": "stdout",
     "output_type": "stream",
     "text": [
      "('Mon', 60, 120, 'GOOD')\n"
     ]
    }
   ],
   "source": [
    "print(health[0])"
   ]
  },
  {
   "cell_type": "code",
   "execution_count": 6,
   "id": "69a16492",
   "metadata": {},
   "outputs": [
    {
     "name": "stdout",
     "output_type": "stream",
     "text": [
      "('Mon', 60, 120, 'GOOD')\n",
      "('Tue', 64, 130, 'BAD')\n",
      "('Wed', 62, 140, 'BAD')\n",
      "('Thu', 69, 125, 'GOOD')\n",
      "('Fri', 61, 120, 'GOOD')\n"
     ]
    }
   ],
   "source": [
    "for row in health:\n",
    "    print(row)"
   ]
  },
  {
   "cell_type": "markdown",
   "id": "53bcbdc3",
   "metadata": {},
   "source": [
    "* decision-making with tests, "
   ]
  },
  {
   "cell_type": "code",
   "execution_count": 52,
   "id": "2da0b8e4",
   "metadata": {},
   "outputs": [
    {
     "name": "stdout",
     "output_type": "stream",
     "text": [
      "GOOD GOOD\n",
      "BAD BAD\n",
      "GOOD BAD\n",
      "GOOD GOOD\n",
      "GOOD GOOD\n"
     ]
    }
   ],
   "source": [
    "hr_cutoff = 63\n",
    "bp_cutoff = 125\n",
    "\n",
    "#   row = health[0]\n",
    "#   row = health[1], ...\n",
    "#   row = health[]\n",
    "for row in health:\n",
    "    \n",
    "    if (row[1] > hr_cutoff) and (row[2] > bp_cutoff):\n",
    "        # print(row)\n",
    "        print(\"BAD\", row[-1])\n",
    "    else:\n",
    "        # print(row)\n",
    "        print(\"GOOD\", row[-1])"
   ]
  },
  {
   "cell_type": "markdown",
   "id": "3dd0ba67",
   "metadata": {},
   "source": [
    "* lists and dictionaries"
   ]
  },
  {
   "cell_type": "code",
   "execution_count": 33,
   "id": "f3e83440",
   "metadata": {},
   "outputs": [],
   "source": [
    "crime = [\n",
    "    {\"area\": \"London\", \"crime\": \"Theft\", \"value\": 1_000},\n",
    "    {\"area\": \"Leeds\", \"crime\": \"Mugging\", \"value\": 200},\n",
    "    {\"area\": \"London\", \"crime\": \"Theft\", \"value\": 1_000},\n",
    "    {\"area\": \"Leeds\", \"crime\": \"Mugging\", \"value\": 20},\n",
    "    {\"area\": \"Leeds\", \"crime\": \"Mugging\", \"value\": 30},\n",
    "]"
   ]
  },
  {
   "cell_type": "markdown",
   "id": "4fbf25bd",
   "metadata": {},
   "source": [
    "* indexing"
   ]
  },
  {
   "cell_type": "code",
   "execution_count": 34,
   "id": "762d023f",
   "metadata": {},
   "outputs": [
    {
     "name": "stdout",
     "output_type": "stream",
     "text": [
      "{'area': 'Leeds', 'crime': 'Mugging', 'value': 20}\n"
     ]
    }
   ],
   "source": [
    "print(crime[-2])"
   ]
  },
  {
   "cell_type": "markdown",
   "id": "93386a00",
   "metadata": {},
   "source": [
    "* finding an entry using a dictionary's *key*, `area`, "
   ]
  },
  {
   "cell_type": "code",
   "execution_count": 45,
   "id": "cd2fad8a",
   "metadata": {},
   "outputs": [],
   "source": [
    "leeds_mugging = crime[-1]"
   ]
  },
  {
   "cell_type": "code",
   "execution_count": 48,
   "id": "bf013c99",
   "metadata": {},
   "outputs": [
    {
     "data": {
      "text/plain": [
       "'Leeds'"
      ]
     },
     "execution_count": 48,
     "metadata": {},
     "output_type": "execute_result"
    }
   ],
   "source": [
    "leeds_mugging['area']"
   ]
  },
  {
   "cell_type": "code",
   "execution_count": 43,
   "id": "7003b571",
   "metadata": {},
   "outputs": [
    {
     "name": "stdout",
     "output_type": "stream",
     "text": [
      "Leeds\n"
     ]
    }
   ],
   "source": [
    "print(crime[-1]['area'])"
   ]
  },
  {
   "cell_type": "markdown",
   "id": "81179a28",
   "metadata": {},
   "source": [
    "* loops"
   ]
  },
  {
   "cell_type": "code",
   "execution_count": 35,
   "id": "0894fd95",
   "metadata": {
    "scrolled": true
   },
   "outputs": [
    {
     "name": "stdout",
     "output_type": "stream",
     "text": [
      "{'area': 'London', 'crime': 'Theft', 'value': 1000}\n",
      "{'area': 'Leeds', 'crime': 'Mugging', 'value': 200}\n",
      "{'area': 'London', 'crime': 'Theft', 'value': 1000}\n",
      "{'area': 'Leeds', 'crime': 'Mugging', 'value': 20}\n",
      "{'area': 'Leeds', 'crime': 'Mugging', 'value': 30}\n"
     ]
    }
   ],
   "source": [
    "for row in crime:\n",
    "    print(row)"
   ]
  },
  {
   "cell_type": "code",
   "execution_count": 36,
   "id": "5943c903",
   "metadata": {},
   "outputs": [
    {
     "name": "stdout",
     "output_type": "stream",
     "text": [
      "THEFT Theft\n",
      "MUGGING Mugging\n",
      "THEFT Theft\n",
      "MUGGING Mugging\n",
      "MUGGING Mugging\n"
     ]
    }
   ],
   "source": [
    "for row in crime:\n",
    "    # print(row['value'], row['crime'])\n",
    "    \n",
    "    if row['value'] >= 1000:\n",
    "        print('THEFT', row['crime'])\n",
    "    else:\n",
    "        print('MUGGING', row['crime'])"
   ]
  },
  {
   "cell_type": "markdown",
   "id": "caa08dd8",
   "metadata": {},
   "source": [
    "---"
   ]
  },
  {
   "cell_type": "markdown",
   "id": "bbc08e7f",
   "metadata": {},
   "source": [
    "## EXTRA: Part 1"
   ]
  },
  {
   "cell_type": "markdown",
   "id": "cf927636",
   "metadata": {},
   "source": [
    "* comprehensions"
   ]
  },
  {
   "cell_type": "code",
   "execution_count": 37,
   "id": "6785056f",
   "metadata": {
    "scrolled": true
   },
   "outputs": [
    {
     "data": {
      "text/plain": [
       "[{'area': 'London', 'crime': 'Theft', 'value': 1000},\n",
       " {'area': 'Leeds', 'crime': 'Mugging', 'value': 200},\n",
       " {'area': 'London', 'crime': 'Theft', 'value': 1000},\n",
       " {'area': 'Leeds', 'crime': 'Mugging', 'value': 20},\n",
       " {'area': 'Leeds', 'crime': 'Mugging', 'value': 30}]"
      ]
     },
     "execution_count": 37,
     "metadata": {},
     "output_type": "execute_result"
    }
   ],
   "source": [
    "crime"
   ]
  },
  {
   "cell_type": "code",
   "execution_count": 38,
   "id": "0edd624b",
   "metadata": {
    "scrolled": true
   },
   "outputs": [
    {
     "data": {
      "text/plain": [
       "True"
      ]
     },
     "execution_count": 38,
     "metadata": {},
     "output_type": "execute_result"
    }
   ],
   "source": [
    "[ row for row in crime ] == crime"
   ]
  },
  {
   "cell_type": "code",
   "execution_count": 39,
   "id": "788ffa93",
   "metadata": {},
   "outputs": [
    {
     "data": {
      "text/plain": [
       "['London', 'Leeds', 'London', 'Leeds', 'Leeds']"
      ]
     },
     "execution_count": 39,
     "metadata": {},
     "output_type": "execute_result"
    }
   ],
   "source": [
    "[ row['area'] for row in crime ]"
   ]
  },
  {
   "cell_type": "markdown",
   "id": "1dc7c39a",
   "metadata": {},
   "source": [
    "* imports"
   ]
  },
  {
   "cell_type": "code",
   "execution_count": 40,
   "id": "d507b885",
   "metadata": {},
   "outputs": [],
   "source": [
    "from statistics import mode"
   ]
  },
  {
   "cell_type": "code",
   "execution_count": 41,
   "id": "42e3e0d8",
   "metadata": {},
   "outputs": [
    {
     "data": {
      "text/plain": [
       "'Leeds'"
      ]
     },
     "execution_count": 41,
     "metadata": {},
     "output_type": "execute_result"
    }
   ],
   "source": [
    "mode([ row['area'] for row in crime ])"
   ]
  },
  {
   "cell_type": "markdown",
   "id": "7250367c",
   "metadata": {},
   "source": [
    "---"
   ]
  },
  {
   "cell_type": "markdown",
   "id": "db6e77ba",
   "metadata": {},
   "source": [
    "## Review Exercise (30 - 45min)"
   ]
  },
  {
   "cell_type": "markdown",
   "id": "a8f3ec7c",
   "metadata": {},
   "source": [
    "* Stretch exercise\n",
    "    * compare every person in this list with every other person\n",
    "    * think about a way of judging whether two people are similar\n",
    "        * Q. print() whether they are similar\n",
    "        * Harder Q. group similar people into common sets (lists)\n",
    "            * HINT: choose the number of similar groups first, eg., split into 3"
   ]
  },
  {
   "cell_type": "code",
   "execution_count": 91,
   "id": "04ed3b91",
   "metadata": {},
   "outputs": [],
   "source": [
    "people = [\n",
    "    # age, budget, like1, like2, like3 \n",
    "    (1, 18, 180, True,  False, True),\n",
    "    (2, 28, 210, False, False, True),\n",
    "    (3, 38, 185, True,  True,  True),\n",
    "    (4, 19, 250, False, False, True),\n",
    "    (5, 42, 500, False, False, False),\n",
    "]"
   ]
  },
  {
   "cell_type": "code",
   "execution_count": 93,
   "id": "12e0ebd9",
   "metadata": {},
   "outputs": [
    {
     "name": "stdout",
     "output_type": "stream",
     "text": [
      "(1, 18, 180, True, False, True) (2, 28, 210, False, False, True)\n",
      "(1, 18, 180, True, False, True) (3, 38, 185, True, True, True)\n",
      "(1, 18, 180, True, False, True) (4, 19, 250, False, False, True)\n",
      "(1, 18, 180, True, False, True) (5, 42, 500, False, False, False)\n",
      "(2, 28, 210, False, False, True) (1, 18, 180, True, False, True)\n",
      "(2, 28, 210, False, False, True) (3, 38, 185, True, True, True)\n",
      "(2, 28, 210, False, False, True) (4, 19, 250, False, False, True)\n",
      "(2, 28, 210, False, False, True) (5, 42, 500, False, False, False)\n",
      "(3, 38, 185, True, True, True) (1, 18, 180, True, False, True)\n",
      "(3, 38, 185, True, True, True) (2, 28, 210, False, False, True)\n",
      "(3, 38, 185, True, True, True) (4, 19, 250, False, False, True)\n",
      "(3, 38, 185, True, True, True) (5, 42, 500, False, False, False)\n",
      "(4, 19, 250, False, False, True) (1, 18, 180, True, False, True)\n",
      "(4, 19, 250, False, False, True) (2, 28, 210, False, False, True)\n",
      "(4, 19, 250, False, False, True) (3, 38, 185, True, True, True)\n",
      "(4, 19, 250, False, False, True) (5, 42, 500, False, False, False)\n",
      "(5, 42, 500, False, False, False) (1, 18, 180, True, False, True)\n",
      "(5, 42, 500, False, False, False) (2, 28, 210, False, False, True)\n",
      "(5, 42, 500, False, False, False) (3, 38, 185, True, True, True)\n",
      "(5, 42, 500, False, False, False) (4, 19, 250, False, False, True)\n"
     ]
    }
   ],
   "source": [
    "for me in people:\n",
    "    for you in people:\n",
    "        if me[0] == you[0]:\n",
    "            continue\n",
    "            \n",
    "        print(me, you)"
   ]
  },
  {
   "cell_type": "code",
   "execution_count": 85,
   "id": "b0d7b92b",
   "metadata": {},
   "outputs": [
    {
     "name": "stdout",
     "output_type": "stream",
     "text": [
      "1 2\n",
      "2 3\n",
      "34 5\n",
      "1 2\n",
      "2 3\n",
      "34 5\n"
     ]
    }
   ],
   "source": [
    "data = [(1, 2), (2, 3), (34, 5)]\n",
    "\n",
    "\n",
    "for element in data:\n",
    "           #x         #y\n",
    "    print(element[0], element[1])\n",
    "    \n",
    "    \n",
    "\n",
    "# x = data[0][0] ... data[1][0] ... data[2][0]\n",
    "# y = data[0][1] ... data[1][1] ... data[2][1]\n",
    "\n",
    "for (x, y) in data:\n",
    "    print(x, y)"
   ]
  },
  {
   "cell_type": "code",
   "execution_count": 62,
   "id": "3bd386b7",
   "metadata": {},
   "outputs": [
    {
     "name": "stdout",
     "output_type": "stream",
     "text": [
      "(18, 180, True, False, True) (18, 180, True, False, True)\n",
      "(18, 180, True, False, True) (28, 210, False, False, True)\n",
      "(18, 180, True, False, True) (38, 185, True, True, True)\n",
      "(18, 180, True, False, True) (19, 250, False, False, True)\n",
      "(18, 180, True, False, True) (42, 500, False, False, False)\n",
      "(28, 210, False, False, True) (18, 180, True, False, True)\n",
      "(28, 210, False, False, True) (28, 210, False, False, True)\n",
      "(28, 210, False, False, True) (38, 185, True, True, True)\n",
      "(28, 210, False, False, True) (19, 250, False, False, True)\n",
      "(28, 210, False, False, True) (42, 500, False, False, False)\n",
      "(38, 185, True, True, True) (18, 180, True, False, True)\n",
      "(38, 185, True, True, True) (28, 210, False, False, True)\n",
      "(38, 185, True, True, True) (38, 185, True, True, True)\n",
      "(38, 185, True, True, True) (19, 250, False, False, True)\n",
      "(38, 185, True, True, True) (42, 500, False, False, False)\n",
      "(19, 250, False, False, True) (18, 180, True, False, True)\n",
      "(19, 250, False, False, True) (28, 210, False, False, True)\n",
      "(19, 250, False, False, True) (38, 185, True, True, True)\n",
      "(19, 250, False, False, True) (19, 250, False, False, True)\n",
      "(19, 250, False, False, True) (42, 500, False, False, False)\n",
      "(42, 500, False, False, False) (18, 180, True, False, True)\n",
      "(42, 500, False, False, False) (28, 210, False, False, True)\n",
      "(42, 500, False, False, False) (38, 185, True, True, True)\n",
      "(42, 500, False, False, False) (19, 250, False, False, True)\n",
      "(42, 500, False, False, False) (42, 500, False, False, False)\n"
     ]
    }
   ],
   "source": [
    "for me in people:\n",
    "    for you in people:\n",
    "        print(me, you)"
   ]
  },
  {
   "cell_type": "code",
   "execution_count": 69,
   "id": "caf593f8",
   "metadata": {},
   "outputs": [
    {
     "data": {
      "text/plain": [
       "(1, 0)"
      ]
     },
     "execution_count": 69,
     "metadata": {},
     "output_type": "execute_result"
    }
   ],
   "source": [
    "int(10 < 20), int(20 < 10)"
   ]
  },
  {
   "cell_type": "code",
   "execution_count": 87,
   "id": "d23a6c94",
   "metadata": {},
   "outputs": [
    {
     "data": {
      "text/plain": [
       "[0, 1, 2]"
      ]
     },
     "execution_count": 87,
     "metadata": {},
     "output_type": "execute_result"
    }
   ],
   "source": [
    "list(range(3))"
   ]
  },
  {
   "cell_type": "code",
   "execution_count": 89,
   "id": "18885234",
   "metadata": {
    "scrolled": true
   },
   "outputs": [
    {
     "name": "stdout",
     "output_type": "stream",
     "text": [
      "0\n",
      "1\n"
     ]
    }
   ],
   "source": [
    "# step1\n",
    "for i in range(3):\n",
    "    \n",
    "    # step 2\n",
    "    if i == 2:\n",
    "        # step 3\n",
    "        continue # skip: goto step1\n",
    "    else:\n",
    "        # step 4\n",
    "        print(i)\n",
    "        \n",
    "        \n",
    "# i==0: 1, 2, 4, 1\n",
    "# i==2: 1, 2, 3, 1"
   ]
  },
  {
   "cell_type": "code",
   "execution_count": 90,
   "id": "bf13e8cb",
   "metadata": {},
   "outputs": [
    {
     "name": "stdout",
     "output_type": "stream",
     "text": [
      "A (18, 180, True, False, True)\n",
      "B (28, 210, False, False, True)\n",
      "SAME 3\n",
      "A (18, 180, True, False, True)\n",
      "B (38, 185, True, True, True)\n",
      "SAME 3\n",
      "A (18, 180, True, False, True)\n",
      "B (19, 250, False, False, True)\n",
      "SAME 3\n",
      "DIFF\n",
      "A (28, 210, False, False, True)\n",
      "B (18, 180, True, False, True)\n",
      "SAME 3\n",
      "A (28, 210, False, False, True)\n",
      "B (38, 185, True, True, True)\n",
      "SAME 3\n",
      "A (28, 210, False, False, True)\n",
      "B (19, 250, False, False, True)\n",
      "SAME 4\n",
      "DIFF\n",
      "A (38, 185, True, True, True)\n",
      "B (18, 180, True, False, True)\n",
      "SAME 3\n",
      "A (38, 185, True, True, True)\n",
      "B (28, 210, False, False, True)\n",
      "SAME 3\n",
      "DIFF\n",
      "DIFF\n",
      "A (19, 250, False, False, True)\n",
      "B (18, 180, True, False, True)\n",
      "SAME 3\n",
      "A (19, 250, False, False, True)\n",
      "B (28, 210, False, False, True)\n",
      "SAME 4\n",
      "DIFF\n",
      "DIFF\n",
      "DIFF\n",
      "DIFF\n",
      "DIFF\n",
      "DIFF\n"
     ]
    }
   ],
   "source": [
    "cutoff_age = 10\n",
    "cutoff_budget = 25\n",
    "base_score = 2\n",
    "\n",
    "group4 = []\n",
    "group3 = []\n",
    "\n",
    "# for == repeat for-each element in people\n",
    "\n",
    "# eg., (42,  500,     False,  False,  False) \n",
    "for   (ageA, budgetA, like1A, like2A, like3A) in people:\n",
    "    for (ageB, budgetB, like1B, like2B, like3B)  in people:\n",
    "        \n",
    "        points  = 0\n",
    "        points += int( abs(ageA - ageB) <= cutoff_age )\n",
    "        points += int( abs(budgetA - budgetB) <= cutoff_budget )\n",
    "        points += int( like1A == like1B )\n",
    "        points += int( like2A == like2B)\n",
    "        points += int( like3A == like3B)\n",
    "        \n",
    "        # points == 5 when both people are the same person\n",
    "        if points == 5:\n",
    "            continue\n",
    "        elif points > base_score:\n",
    "            print( \"A\", (ageA, budgetA, like1A, like2A, like3A) )\n",
    "            print( \"B\", (ageB, budgetB, like1B, like2B, like3B) )\n",
    "            print(\"SAME\", points)\n",
    "            \n",
    "            if points == 3:\n",
    "                group3.append(  (\n",
    "                     (ageA, budgetA, like1A, like2A, like3A),\n",
    "                     (ageB, budgetB, like1B, like2B, like3B)\n",
    "                ))\n",
    "            else:\n",
    "                group4.append(  (\n",
    "                     (ageA, budgetA, like1A, like2A, like3A),\n",
    "                     (ageB, budgetB, like1B, like2B, like3B)\n",
    "                ))\n",
    "        else:\n",
    "            print(\"DIFF\")\n",
    "        "
   ]
  },
  {
   "cell_type": "markdown",
   "id": "306b58a0",
   "metadata": {},
   "source": [
    "---"
   ]
  },
  {
   "cell_type": "markdown",
   "id": "db51c41c",
   "metadata": {},
   "source": [
    "### Error Handling"
   ]
  },
  {
   "cell_type": "code",
   "execution_count": 99,
   "id": "0f025a52",
   "metadata": {},
   "outputs": [
    {
     "name": "stdout",
     "output_type": "stream",
     "text": [
      "START\n",
      "A\n"
     ]
    },
    {
     "ename": "IndexError",
     "evalue": "tuple index out of range",
     "output_type": "error",
     "traceback": [
      "\u001b[0;31m---------------------------------------------------------------------------\u001b[0m",
      "\u001b[0;31mIndexError\u001b[0m                                Traceback (most recent call last)",
      "\u001b[0;32m<ipython-input-99-d9ba71e52e3b>\u001b[0m in \u001b[0;36m<module>\u001b[0;34m\u001b[0m\n\u001b[1;32m      3\u001b[0m \u001b[0;32mfor\u001b[0m \u001b[0mp\u001b[0m \u001b[0;32min\u001b[0m \u001b[0mpeople\u001b[0m\u001b[0;34m:\u001b[0m\u001b[0;34m\u001b[0m\u001b[0;34m\u001b[0m\u001b[0m\n\u001b[1;32m      4\u001b[0m     \u001b[0mprint\u001b[0m\u001b[0;34m(\u001b[0m\u001b[0;34m\"A\"\u001b[0m\u001b[0;34m)\u001b[0m\u001b[0;34m\u001b[0m\u001b[0;34m\u001b[0m\u001b[0m\n\u001b[0;32m----> 5\u001b[0;31m     \u001b[0mp\u001b[0m\u001b[0;34m[\u001b[0m\u001b[0;36m6\u001b[0m\u001b[0;34m]\u001b[0m \u001b[0;31m# error: TERMINATE\u001b[0m\u001b[0;34m\u001b[0m\u001b[0;34m\u001b[0m\u001b[0m\n\u001b[0m\u001b[1;32m      6\u001b[0m \u001b[0;34m\u001b[0m\u001b[0m\n\u001b[1;32m      7\u001b[0m \u001b[0;34m\u001b[0m\u001b[0m\n",
      "\u001b[0;31mIndexError\u001b[0m: tuple index out of range"
     ]
    }
   ],
   "source": [
    "print(\"START\")\n",
    "\n",
    "for p in people:\n",
    "    print(\"A\")\n",
    "    print(p[6]) # error: TERMINATE\n",
    "    \n",
    "    \n",
    "    print(\"B\")\n",
    "    \n",
    "    \n",
    "print(\"END\")"
   ]
  },
  {
   "cell_type": "code",
   "execution_count": 100,
   "id": "63b8f48d",
   "metadata": {},
   "outputs": [
    {
     "name": "stdout",
     "output_type": "stream",
     "text": [
      "START\n",
      "A\n",
      "0\n",
      "B\n",
      "A\n",
      "0\n",
      "B\n",
      "A\n",
      "0\n",
      "B\n",
      "A\n",
      "0\n",
      "B\n",
      "A\n",
      "0\n",
      "B\n",
      "END\n"
     ]
    }
   ],
   "source": [
    "print(\"START\")\n",
    "\n",
    "for p in people:\n",
    "    print(\"A\")\n",
    "    \n",
    "    try:\n",
    "        print(p[6]) \n",
    "    except:\n",
    "        print(0)\n",
    "    \n",
    "    \n",
    "    print(\"B\")\n",
    "    \n",
    "    \n",
    "print(\"END\")"
   ]
  },
  {
   "cell_type": "code",
   "execution_count": 111,
   "id": "4c9ace5e",
   "metadata": {},
   "outputs": [],
   "source": [
    "missing = [60, 0, None, 20, 10, None]"
   ]
  },
  {
   "cell_type": "code",
   "execution_count": 113,
   "id": "9081bb91",
   "metadata": {},
   "outputs": [
    {
     "name": "stdout",
     "output_type": "stream",
     "text": [
      "1.6666666666666667\n"
     ]
    },
    {
     "ename": "ZeroDivisionError",
     "evalue": "division by zero",
     "output_type": "error",
     "traceback": [
      "\u001b[0;31m---------------------------------------------------------------------------\u001b[0m",
      "\u001b[0;31mZeroDivisionError\u001b[0m                         Traceback (most recent call last)",
      "\u001b[0;32m<ipython-input-113-ea6153aff379>\u001b[0m in \u001b[0;36m<module>\u001b[0;34m\u001b[0m\n\u001b[1;32m      1\u001b[0m \u001b[0;32mfor\u001b[0m \u001b[0me\u001b[0m \u001b[0;32min\u001b[0m \u001b[0mmissing\u001b[0m\u001b[0;34m:\u001b[0m\u001b[0;34m\u001b[0m\u001b[0;34m\u001b[0m\u001b[0m\n\u001b[0;32m----> 2\u001b[0;31m     \u001b[0mresult\u001b[0m \u001b[0;34m=\u001b[0m \u001b[0;36m100\u001b[0m\u001b[0;34m/\u001b[0m\u001b[0me\u001b[0m  \u001b[0;31m# ZeroDivisionError\u001b[0m\u001b[0;34m\u001b[0m\u001b[0;34m\u001b[0m\u001b[0m\n\u001b[0m\u001b[1;32m      3\u001b[0m     \u001b[0mprint\u001b[0m\u001b[0;34m(\u001b[0m\u001b[0mresult\u001b[0m\u001b[0;34m)\u001b[0m\u001b[0;34m\u001b[0m\u001b[0;34m\u001b[0m\u001b[0m\n",
      "\u001b[0;31mZeroDivisionError\u001b[0m: division by zero"
     ]
    }
   ],
   "source": [
    "for e in missing:\n",
    "    result = 100/e  # ZeroDivisionError\n",
    "    print(result)"
   ]
  },
  {
   "cell_type": "code",
   "execution_count": 110,
   "id": "7dedafed",
   "metadata": {},
   "outputs": [
    {
     "name": "stdout",
     "output_type": "stream",
     "text": [
      "1.6666666666666667\n",
      "3.3333333333333335\n"
     ]
    },
    {
     "ename": "TypeError",
     "evalue": "unsupported operand type(s) for /: 'int' and 'NoneType'",
     "output_type": "error",
     "traceback": [
      "\u001b[0;31m---------------------------------------------------------------------------\u001b[0m",
      "\u001b[0;31mTypeError\u001b[0m                                 Traceback (most recent call last)",
      "\u001b[0;32m<ipython-input-110-f874ab530ef5>\u001b[0m in \u001b[0;36m<module>\u001b[0;34m\u001b[0m\n\u001b[1;32m      1\u001b[0m \u001b[0;32mfor\u001b[0m \u001b[0me\u001b[0m \u001b[0;32min\u001b[0m \u001b[0mmissing\u001b[0m\u001b[0;34m:\u001b[0m\u001b[0;34m\u001b[0m\u001b[0;34m\u001b[0m\u001b[0m\n\u001b[0;32m----> 2\u001b[0;31m     \u001b[0mresult\u001b[0m \u001b[0;34m=\u001b[0m \u001b[0;36m100\u001b[0m\u001b[0;34m/\u001b[0m\u001b[0me\u001b[0m \u001b[0;31m# TypeError\u001b[0m\u001b[0;34m\u001b[0m\u001b[0;34m\u001b[0m\u001b[0m\n\u001b[0m\u001b[1;32m      3\u001b[0m     \u001b[0mprint\u001b[0m\u001b[0;34m(\u001b[0m\u001b[0mresult\u001b[0m\u001b[0;34m)\u001b[0m\u001b[0;34m\u001b[0m\u001b[0;34m\u001b[0m\u001b[0m\n",
      "\u001b[0;31mTypeError\u001b[0m: unsupported operand type(s) for /: 'int' and 'NoneType'"
     ]
    }
   ],
   "source": [
    "for e in missing:\n",
    "    result = 100/e # TypeError\n",
    "    print(result)"
   ]
  },
  {
   "cell_type": "code",
   "execution_count": 108,
   "id": "3cfb9917",
   "metadata": {},
   "outputs": [
    {
     "name": "stdout",
     "output_type": "stream",
     "text": [
      "1.6666666666666667\n",
      "3.3333333333333335\n",
      "5.0\n",
      "10.0\n"
     ]
    }
   ],
   "source": [
    "for e in missing:\n",
    "    try:\n",
    "        result = 100/e\n",
    "        print(result)\n",
    "    except:\n",
    "        pass # do nothing"
   ]
  },
  {
   "cell_type": "code",
   "execution_count": 115,
   "id": "14dda1e8",
   "metadata": {},
   "outputs": [
    {
     "data": {
      "text/plain": [
       "[60, 0, None, 20, 10, None]"
      ]
     },
     "execution_count": 115,
     "metadata": {},
     "output_type": "execute_result"
    }
   ],
   "source": [
    "missing"
   ]
  },
  {
   "cell_type": "code",
   "execution_count": 117,
   "id": "f2432cb6",
   "metadata": {},
   "outputs": [
    {
     "ename": "TypeError",
     "evalue": "unsupported operand type(s) for /: 'int' and 'NoneType'",
     "output_type": "error",
     "traceback": [
      "\u001b[0;31m---------------------------------------------------------------------------\u001b[0m",
      "\u001b[0;31mTypeError\u001b[0m                                 Traceback (most recent call last)",
      "\u001b[0;32m<ipython-input-117-2a1d33bce481>\u001b[0m in \u001b[0;36m<module>\u001b[0;34m\u001b[0m\n\u001b[0;32m----> 1\u001b[0;31m \u001b[0;36m10\u001b[0m\u001b[0;34m/\u001b[0m\u001b[0;32mNone\u001b[0m\u001b[0;34m\u001b[0m\u001b[0;34m\u001b[0m\u001b[0m\n\u001b[0m",
      "\u001b[0;31mTypeError\u001b[0m: unsupported operand type(s) for /: 'int' and 'NoneType'"
     ]
    }
   ],
   "source": [
    "10/None"
   ]
  },
  {
   "cell_type": "code",
   "execution_count": 118,
   "id": "df12d229",
   "metadata": {},
   "outputs": [
    {
     "name": "stdout",
     "output_type": "stream",
     "text": [
      "1.6666666666666667\n",
      "0\n",
      "5.0\n",
      "10.0\n"
     ]
    }
   ],
   "source": [
    "for e in missing:\n",
    "    try:\n",
    "        result = 100/e\n",
    "        print(result)\n",
    "    except TypeError: # None, so ignore\n",
    "        pass\n",
    "    except ZeroDivisionError: # 0, so report 0\n",
    "        print(0)"
   ]
  },
  {
   "cell_type": "markdown",
   "id": "d2ba06cc",
   "metadata": {},
   "source": [
    "---"
   ]
  },
  {
   "cell_type": "code",
   "execution_count": 121,
   "id": "5e7af4c7",
   "metadata": {},
   "outputs": [
    {
     "name": "stdout",
     "output_type": "stream",
     "text": [
      "My Error\n"
     ]
    }
   ],
   "source": [
    "def h():\n",
    "    raise Exception(\"My Error\")\n",
    "    \n",
    "def g():\n",
    "    h()\n",
    "    \n",
    "def f():\n",
    "    g()\n",
    "    \n",
    "try:\n",
    "    f()\n",
    "except Exception as e:\n",
    "    print(e)"
   ]
  }
 ],
 "metadata": {
  "kernelspec": {
   "display_name": "Python 3.9",
   "language": "python",
   "name": "python3"
  },
  "language_info": {
   "codemirror_mode": {
    "name": "ipython",
    "version": 3
   },
   "file_extension": ".py",
   "mimetype": "text/x-python",
   "name": "python",
   "nbconvert_exporter": "python",
   "pygments_lexer": "ipython3",
   "version": "3.9.6"
  }
 },
 "nbformat": 4,
 "nbformat_minor": 5
}
