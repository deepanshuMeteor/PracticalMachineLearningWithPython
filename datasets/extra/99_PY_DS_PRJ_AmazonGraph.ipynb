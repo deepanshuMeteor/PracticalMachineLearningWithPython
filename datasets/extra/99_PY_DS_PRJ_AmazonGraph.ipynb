{
 "cells": [
  {
   "cell_type": "markdown",
   "id": "e23dac3b",
   "metadata": {},
   "source": [
    "# Amazon Product Graph Analysis: Project\n",
    "## Background & Hints"
   ]
  },
  {
   "cell_type": "markdown",
   "id": "0fcce035",
   "metadata": {},
   "source": [
    "### Problem: Product Recommendation\n",
    "\n",
    "#### A General Schema\n",
    "* given I have a new user, $x$ and a graph of user-products $G$,\n",
    "    * filter the graph to record only liked products, $F = filtered(G)$\n",
    "    * find a community of users $C$ which is similar to $x$\n",
    "        * $C = community(x, F)$ using $similar(user, x)$\n",
    "    * find the products this community likes, $L$, that $x$ hasnt liked\n",
    "    * rank these, $rank(L)$\n",
    "    * recommend the top $n$ products, $R$\n",
    "    \n",
    "#### A Simple Example    \n",
    "* a simple example of this \"general approach\", is:\n",
    "    * $C$ the single most similar user\n",
    "        * $similarity(u_{new user}, v_{existing user})$ is just their ratio of co-purchased products\n",
    "        * $community()$ selects one user, ie., `max() similarity()`\n",
    "    * $L$ is just the products they like that $x$ hasnt seen \n",
    "    * $R = rank(L)$ is ranked by general popularity/review score "
   ]
  },
  {
   "cell_type": "markdown",
   "id": "630ffdde",
   "metadata": {},
   "source": [
    "## Example 1: Max Jaccard"
   ]
  },
  {
   "cell_type": "markdown",
   "id": "a95274fb",
   "metadata": {},
   "source": [
    "### Similarity Example: Jaccard Similarity"
   ]
  },
  {
   "cell_type": "markdown",
   "id": "1f8157ee",
   "metadata": {},
   "source": [
    "The ratio of co-liked to co-possible products,"
   ]
  },
  {
   "cell_type": "code",
   "execution_count": 68,
   "id": "98938f1d",
   "metadata": {},
   "outputs": [
    {
     "data": {
      "text/plain": [
       "{'Bread'}"
      ]
     },
     "execution_count": 68,
     "metadata": {},
     "output_type": "execute_result"
    }
   ],
   "source": [
    "shared_liked = {'Bread', 'Wine'} & {'Bread', 'Coffee'}; shared_liked"
   ]
  },
  {
   "cell_type": "code",
   "execution_count": 69,
   "id": "dc1bf125",
   "metadata": {
    "scrolled": true
   },
   "outputs": [
    {
     "data": {
      "text/plain": [
       "{'Bread', 'Coffee', 'Wine'}"
      ]
     },
     "execution_count": 69,
     "metadata": {},
     "output_type": "execute_result"
    }
   ],
   "source": [
    "all_liked = {'Bread', 'Wine'} | {'Bread', 'Coffee'}; all_liked"
   ]
  },
  {
   "cell_type": "code",
   "execution_count": 71,
   "id": "8a7c7e49",
   "metadata": {
    "scrolled": true
   },
   "outputs": [
    {
     "data": {
      "text/plain": [
       "0.3333333333333333"
      ]
     },
     "execution_count": 71,
     "metadata": {},
     "output_type": "execute_result"
    }
   ],
   "source": [
    "len(shared_liked) / len(all_liked)"
   ]
  },
  {
   "cell_type": "markdown",
   "id": "7507d704",
   "metadata": {},
   "source": [
    "Consider a filtered graph `F`, which is an unweighted graph that just stores products users like (ie., they only have edges to products they rate highly),"
   ]
  },
  {
   "cell_type": "code",
   "execution_count": 117,
   "id": "b2fd6f9a",
   "metadata": {},
   "outputs": [],
   "source": [
    "F = {\n",
    "    \"Alice\": {\"Coffee\", \"Bread\", \"Tea\"},\n",
    "    \"Eve\":   {\"Bread\", \"TV\", \"Film\", \"Pastry\"},\n",
    "    # Eve : {\"Bread\"}\n",
    "}"
   ]
  },
  {
   "cell_type": "markdown",
   "id": "cbccc670",
   "metadata": {},
   "source": [
    "A new user comes along for which we have to products they like, "
   ]
  },
  {
   "cell_type": "code",
   "execution_count": 76,
   "id": "bc936b9d",
   "metadata": {},
   "outputs": [],
   "source": [
    "x =  { \"Bob\":   {\"Wine\", \"Bread\"} }"
   ]
  },
  {
   "cell_type": "markdown",
   "id": "a2e2f42d",
   "metadata": {},
   "source": [
    "Their similarity to \"Eve\" is,"
   ]
  },
  {
   "cell_type": "code",
   "execution_count": 108,
   "id": "aecd6be7",
   "metadata": {},
   "outputs": [
    {
     "data": {
      "text/plain": [
       "0.2"
      ]
     },
     "execution_count": 108,
     "metadata": {},
     "output_type": "execute_result"
    }
   ],
   "source": [
    "similarity(F[\"Eve\"], x[\"Bob\"])"
   ]
  },
  {
   "cell_type": "markdown",
   "id": "057cb186",
   "metadata": {},
   "source": [
    "We can rank all users in `F` by how similar they are to bob,"
   ]
  },
  {
   "cell_type": "code",
   "execution_count": 109,
   "id": "8e43b01f",
   "metadata": {},
   "outputs": [],
   "source": [
    "ranked = {}\n",
    "for user in F:\n",
    "    ranked[user] = similarity(x[\"Bob\"], F[user])"
   ]
  },
  {
   "cell_type": "code",
   "execution_count": 110,
   "id": "295daed8",
   "metadata": {},
   "outputs": [
    {
     "data": {
      "text/plain": [
       "{'Alice': 0.25, 'Eve': 0.2}"
      ]
     },
     "execution_count": 110,
     "metadata": {},
     "output_type": "execute_result"
    }
   ],
   "source": [
    "ranked"
   ]
  },
  {
   "cell_type": "code",
   "execution_count": 111,
   "id": "666be4cc",
   "metadata": {},
   "outputs": [
    {
     "data": {
      "text/plain": [
       "(0.25, 0.2)"
      ]
     },
     "execution_count": 111,
     "metadata": {},
     "output_type": "execute_result"
    }
   ],
   "source": [
    "ranked.get(\"Alice\"), ranked.get(\"Eve\")"
   ]
  },
  {
   "cell_type": "code",
   "execution_count": 81,
   "id": "547604e5",
   "metadata": {},
   "outputs": [
    {
     "data": {
      "text/plain": [
       "'Alice'"
      ]
     },
     "execution_count": 81,
     "metadata": {},
     "output_type": "execute_result"
    }
   ],
   "source": [
    "max(ranked, key=ranked.get) "
   ]
  },
  {
   "cell_type": "markdown",
   "id": "21f2a66e",
   "metadata": {},
   "source": [
    "### The Solution"
   ]
  },
  {
   "cell_type": "markdown",
   "id": "39ae4d03",
   "metadata": {},
   "source": [
    "As algorithms,"
   ]
  },
  {
   "cell_type": "code",
   "execution_count": 94,
   "id": "34882a0e",
   "metadata": {},
   "outputs": [],
   "source": [
    "def similarity(user_new, user_existing):\n",
    "    return len(user_new & user_existing) / len(user_existing | user_new)\n",
    "    \n",
    "def community(x, f):\n",
    "    ranked = { user : similarity(x, f[user]) for user in f}\n",
    "    return max(ranked, key=ranked.get)\n",
    "        \n",
    "    \n",
    "def rank(products):\n",
    "    # non-realistic rank\n",
    "    return { p: len(p) for p in products }"
   ]
  },
  {
   "cell_type": "code",
   "execution_count": 95,
   "id": "03832c35",
   "metadata": {},
   "outputs": [
    {
     "data": {
      "text/plain": [
       "'Alice'"
      ]
     },
     "execution_count": 95,
     "metadata": {},
     "output_type": "execute_result"
    }
   ],
   "source": [
    "C = community(x[\"Bob\"], F); C"
   ]
  },
  {
   "cell_type": "code",
   "execution_count": 96,
   "id": "3754d312",
   "metadata": {},
   "outputs": [
    {
     "data": {
      "text/plain": [
       "{'Coffee', 'Tea'}"
      ]
     },
     "execution_count": 96,
     "metadata": {},
     "output_type": "execute_result"
    }
   ],
   "source": [
    "L = G[C] - x[\"Bob\"]; L"
   ]
  },
  {
   "cell_type": "code",
   "execution_count": 97,
   "id": "49542051",
   "metadata": {},
   "outputs": [
    {
     "data": {
      "text/plain": [
       "{'Coffee': 6, 'Tea': 3}"
      ]
     },
     "execution_count": 97,
     "metadata": {},
     "output_type": "execute_result"
    }
   ],
   "source": [
    "rank(L)"
   ]
  },
  {
   "cell_type": "markdown",
   "id": "39cca91c",
   "metadata": {},
   "source": [
    "And in one go,"
   ]
  },
  {
   "cell_type": "code",
   "execution_count": 115,
   "id": "f0c1f0be",
   "metadata": {},
   "outputs": [
    {
     "name": "stdout",
     "output_type": "stream",
     "text": [
      "{'Coffee': 6, 'Tea': 3}\n"
     ]
    }
   ],
   "source": [
    "\n",
    "F = {\n",
    "    \"Alice\": {\"Coffee\", \"Bread\", \"Tea\"},\n",
    "    \"Eve\":   {\"Bread\", \"TV\", \"Film\", \"Pastry\"},\n",
    "}\n",
    "x =  { \"Bob\":   {\"Wine\", \"Bread\"} }\n",
    "\n",
    "C = community(x[\"Bob\"], F)\n",
    "L = F[C] - x[\"Bob\"]\n",
    "R = rank(L)\n",
    "print(R)"
   ]
  },
  {
   "cell_type": "markdown",
   "id": "a4a806b0",
   "metadata": {},
   "source": [
    "### Exercise: Start with a weight graph"
   ]
  },
  {
   "cell_type": "markdown",
   "id": "0de567d7",
   "metadata": {},
   "source": [
    "Write an algorithm, `filtered(graph)` which takes an edgelist `G` and produces a filtered graph `F`, ie., `F = filtered(G)`. The filtered graph is a dictionary, `{user: set of LIKED products}`."
   ]
  },
  {
   "cell_type": "code",
   "execution_count": 102,
   "id": "efd375de",
   "metadata": {},
   "outputs": [],
   "source": [
    "from random import choice"
   ]
  },
  {
   "cell_type": "code",
   "execution_count": 107,
   "id": "51dd304c",
   "metadata": {},
   "outputs": [
    {
     "data": {
      "text/plain": [
       "[('Alice', 'Wine', 5),\n",
       " ('Fred', 'Wine', 2),\n",
       " ('Charlie', 'Milk', 0),\n",
       " ('Fred', 'Cheese', 6),\n",
       " ('Charlie', 'Milk', 9),\n",
       " ('Eve', 'Wine', 2),\n",
       " ('Charlie', 'Cheese', 8),\n",
       " ('Dan', 'Wine', 1),\n",
       " ('Eve', 'Cheese', 3),\n",
       " ('Dan', 'Milk', 8)]"
      ]
     },
     "execution_count": 107,
     "metadata": {},
     "output_type": "execute_result"
    }
   ],
   "source": [
    "users = [\"Alice\", \"Eve\", \"Charlie\", \"Dan\", \"Fred\"]\n",
    "products = [\"Bread\", \"Wine\", \"Milk\", \"Cheese\"]\n",
    "\n",
    "G = [(choice(users), choice(products), choice(range(0, 10))) for _ in range(10)]; G"
   ]
  },
  {
   "cell_type": "markdown",
   "id": "e028b68d",
   "metadata": {},
   "source": [
    "## PROJECT: Community Graph Detection"
   ]
  },
  {
   "cell_type": "markdown",
   "id": "5600ac14",
   "metadata": {},
   "source": [
    "##### MiniExecise\n",
    "* Read the follwing paper up *until* **Section 4.3**, ie., stop at `pg4`\n",
    "    * http://snap.stanford.edu/class/cs224w-2018/reports/CS224W-2018-82.pdf"
   ]
  },
  {
   "cell_type": "markdown",
   "id": "b406b953",
   "metadata": {},
   "source": [
    "---"
   ]
  },
  {
   "cell_type": "markdown",
   "id": "dcf2d63c",
   "metadata": {},
   "source": [
    "#### Project Brief\n",
    "\n",
    "* Using the amazon paper as inspiration, follow their steps to complete a product recommendation \n",
    "\n",
    "```python    \n",
    "    datasets = amz_get_data() # start from some tabular data\n",
    "    G = amz_table_to_graph(datasets) # create a graph\n",
    "    F = amz_filter_graph(G) # filter the graph to relevant user-products\n",
    "    C = amz_community(F) # use a community detection, eg., off-the-shelf in networkx\n",
    "    L = amz_products_of(C) # find their products\n",
    "    R = amz_rank(L)[:10] # rank them somewhat reasonably using the original tabular\n",
    "```\n",
    "\n",
    "* either use either:\n",
    "    * the movie-review `ratings.db` provided\n",
    "    * the reference dataset (if available) from the amazon paper\n",
    "        * link: https://jmcauley.ucsd.edu/data/amazon/\n",
    "        * if its messy, feel free to simulate \n",
    "    * or, simulate according to the schema they provide\n"
   ]
  },
  {
   "cell_type": "markdown",
   "id": "d65df4fc",
   "metadata": {},
   "source": [
    "* strech goal, if you've used the amazon dataset:\n",
    "    * what happens if we replace the incoming tabular datasets with users/ratings?\n",
    "        * ie., a user-movie graph \n",
    "    * roughly, this code should be agnostic to what the nodes are\n",
    "        * (ie., if `rank` is just using ratings, etc. and not item-specific products)"
   ]
  },
  {
   "cell_type": "markdown",
   "id": "07b3e74b",
   "metadata": {},
   "source": [
    "----"
   ]
  },
  {
   "cell_type": "markdown",
   "id": "96d0d58c",
   "metadata": {},
   "source": [
    "```python\n",
    "product = [\n",
    "    (pid, ptype) ...\n",
    "]\n",
    "\n",
    "reviews = [\n",
    "   (uid, helpf, rating) ...\n",
    "]\n",
    "```"
   ]
  },
  {
   "cell_type": "markdown",
   "id": "143f202d",
   "metadata": {},
   "source": [
    "From this dataset we need to produce a bipartite graph $G$ which contains two types of node: products, users. It is bipartite because only edges between these two types of node is allowed."
   ]
  },
  {
   "cell_type": "markdown",
   "id": "b7ba167c",
   "metadata": {},
   "source": [
    "```python\n",
    "\n",
    "def amz_table_to_graph(product, reviews):\n",
    "    pass\n",
    "    \n",
    "G = amz_table_to_graph(product, reviews) \n",
    "\n",
    "# aka, \n",
    "G = [\n",
    "    (uid, pid, rating, ...) # st. rating > 4\n",
    "]\n",
    "\n",
    "```"
   ]
  },
  {
   "cell_type": "markdown",
   "id": "8ec62b03",
   "metadata": {},
   "source": [
    "```python\n",
    "\n",
    "def amz_filter_graph(user, graph):\n",
    "    pass\n",
    "\n",
    "F = amz_filter_graph(user, G)\n",
    "\n",
    "# aka., \n",
    "F = {\n",
    "    uid : {pid, pid, ...} # st. pids are common \n",
    "}\n",
    "\n",
    "```"
   ]
  },
  {
   "cell_type": "markdown",
   "id": "9e9344b7",
   "metadata": {},
   "source": [
    "* https://networkx.org/documentation/stable/reference/algorithms/community.html"
   ]
  },
  {
   "cell_type": "markdown",
   "id": "914a625b",
   "metadata": {},
   "source": [
    "```python\n",
    "C = community(F)\n",
    "```\n",
    "\n",
    "```python\n",
    "def rank(products):\n",
    "    ranked = []\n",
    "    for product in products:\n",
    "        # scale\n",
    "        weight_popularity = scale_popularity * ...\n",
    "        weight_centrality = scale_centrality * ...\n",
    "        weight_helpfulness = scale_helpfulness * ...\n",
    "        weight_rating = scale_rating * ... \n",
    "        \n",
    "        ranked.append((\n",
    "            weight_popularity *\n",
    "            weight_centrality *\n",
    "            weight_helpfulness *\n",
    "            weight_rating\n",
    "        ), product)\n",
    "        \n",
    "    return sorted(ranked)\n",
    "        \n",
    "        \n",
    "L = products_of(C)\n",
    "R = rank(L)[:10]\n",
    "```"
   ]
  },
  {
   "cell_type": "markdown",
   "id": "37725984",
   "metadata": {},
   "source": [
    "---"
   ]
  },
  {
   "cell_type": "markdown",
   "id": "2a582a28",
   "metadata": {},
   "source": [
    "```python\n",
    "\n",
    "\n",
    "# this is rough pseduo-code, maybe args/names/order will change\n",
    "def recommend(user):\n",
    "    datasets = amz_get_data()\n",
    "    G = amz_table_to_graph(user, datasets)\n",
    "    F = amz_filter_graph(user, G)\n",
    "    C = amz_community(user, F)\n",
    "    L = amz_products_of(C)\n",
    "    R = amz_rank(L)[:10]\n",
    "```    "
   ]
  },
  {
   "cell_type": "markdown",
   "id": "d0ae871e",
   "metadata": {},
   "source": [
    "## HINTS:\n",
    "* maybe: \n",
    "    * define all of these functions to work in the naive way the *sample problem* shows!\n",
    "    * this will confirm the flow/method is aprox. correct\n",
    "        * then tweak \"to better match the paper\""
   ]
  },
  {
   "cell_type": "markdown",
   "id": "01937ec9",
   "metadata": {},
   "source": [
    "---"
   ]
  },
  {
   "cell_type": "markdown",
   "id": "4876aa19",
   "metadata": {},
   "source": [
    "## Appendix: Streaming"
   ]
  },
  {
   "cell_type": "markdown",
   "id": "631f4937",
   "metadata": {},
   "source": [
    "```python\n",
    "\n",
    "stream = [\n",
    "    { \"Bob\":   {\"Wine\", \"Bread\"} },\n",
    "    { \"Bob\":   {\"Wine\", \"Bread\"} },\n",
    "    { \"Bob\":   {\"Wine\", \"Bread\"} },\n",
    "]\n",
    "\n",
    "for event in stream:\n",
    "    C = community(event[\"Bob\"], G)\n",
    "    L = G[C] - x_new[\"Bob\"]\n",
    "    R = rank(L)\n",
    "    G.update(event[\"Bob\"])\n",
    "    \n",
    "```"
   ]
  },
  {
   "cell_type": "code",
   "execution_count": null,
   "id": "248dc036",
   "metadata": {},
   "outputs": [],
   "source": []
  }
 ],
 "metadata": {
  "kernelspec": {
   "display_name": "Python 3.9",
   "language": "python",
   "name": "python3"
  },
  "language_info": {
   "codemirror_mode": {
    "name": "ipython",
    "version": 3
   },
   "file_extension": ".py",
   "mimetype": "text/x-python",
   "name": "python",
   "nbconvert_exporter": "python",
   "pygments_lexer": "ipython3",
   "version": "3.9.6"
  }
 },
 "nbformat": 4,
 "nbformat_minor": 5
}
