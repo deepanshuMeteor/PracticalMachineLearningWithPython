{
 "cells": [
  {
   "cell_type": "code",
   "execution_count": 67,
   "metadata": {},
   "outputs": [],
   "source": [
    "def file_read(file_name):\n",
    "    \"\"\"\n",
    "    Takes a file name, returns a list of sentences in the file, ; and . removed\n",
    "    \"\"\"\n",
    "    f = open(file_name, \"r\")\n",
    "    s = \"\"\n",
    "    for line in f:\n",
    "        s += line\n",
    "        \n",
    "    f.close() \n",
    "        \n",
    "    s = [x.strip() for x in s.replace(\";\", \".\").split(\".\") if len(x) != 0 ]\n",
    "        \n",
    "    \n",
    "    return s\n",
    "    "
   ]
  },
  {
   "cell_type": "code",
   "execution_count": 68,
   "metadata": {},
   "outputs": [],
   "source": [
    "def capitalize_sentences(l):\n",
    "    \"\"\" \n",
    "    Takes in a list of strings, returns the list with the first letters capitalized\n",
    "    \"\"\"\n",
    "\n",
    "    return [x.capitalize() if x[0].isalpha() else x[0] + x[1:].capitalize() for x in l]"
   ]
  },
  {
   "cell_type": "code",
   "execution_count": 69,
   "metadata": {},
   "outputs": [],
   "source": [
    "def single_space_after_commas(l):\n",
    "    \"\"\"\n",
    "    Takes in a list of sentences, returns a list of sentences, with each sentence having one space after each comma\n",
    "    \"\"\"\n",
    "    new_l = []\n",
    "    for s in l:\n",
    "        if \",\" in s:\n",
    "            new_s_list = [x.strip() for x in s.split(\",\")]\n",
    "            new_s = \", \".join(new_s_list)\n",
    "            new_l.append(new_s)\n",
    "        else:\n",
    "            new_l.append(s)\n",
    "            \n",
    "    return new_l\n",
    "            "
   ]
  },
  {
   "cell_type": "code",
   "execution_count": 72,
   "metadata": {},
   "outputs": [],
   "source": [
    "sentencs = capitalize_sentences(file_read(\"Text Sample 1.txt\"))"
   ]
  },
  {
   "cell_type": "code",
   "execution_count": 73,
   "metadata": {},
   "outputs": [],
   "source": [
    "sentences = single_space_after_commas(sentencs)"
   ]
  },
  {
   "cell_type": "code",
   "execution_count": 74,
   "metadata": {},
   "outputs": [
    {
     "name": "stdout",
     "output_type": "stream",
     "text": [
      "Jack and jill were walking up the hill on the way to the supermarket to get some mineral water when jack tripped over a pothole in the road.  He fell down and broke his smartphone.  “Oh dear!” said jack.  Actually, he didn’t say “oh dear”, he used some words that jill was sure his mother wouldn’t approve of and went on to make some descriptive comments on what he thought of the state of the roads leading up the hill.  “Awful”, was one of the more polite words.  Jill was so shocked that she didn’t look where she was going and fell down, too, tumbling all the way down the hill.  Jack got up and went home to mend his phone.  Jill suggested using her granny’s remedy of vinegar and brown paper to fix the phone.  Jack replied with a comment that got him grounded for a week during which time he repaired his phone with duct tape and superglue but it was never the same again.\n"
     ]
    }
   ],
   "source": [
    "print(\".  \".join(sentences) + \".\")"
   ]
  },
  {
   "cell_type": "code",
   "execution_count": null,
   "metadata": {},
   "outputs": [],
   "source": []
  }
 ],
 "metadata": {
  "kernelspec": {
   "display_name": "Python 3",
   "language": "python",
   "name": "python3"
  },
  "language_info": {
   "codemirror_mode": {
    "name": "ipython",
    "version": 3
   },
   "file_extension": ".py",
   "mimetype": "text/x-python",
   "name": "python",
   "nbconvert_exporter": "python",
   "pygments_lexer": "ipython3",
   "version": "3.7.3"
  }
 },
 "nbformat": 4,
 "nbformat_minor": 2
}
