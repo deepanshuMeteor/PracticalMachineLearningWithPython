{
 "cells": [
  {
   "cell_type": "markdown",
   "id": "ac788bc8",
   "metadata": {},
   "source": [
    "# Machine Learning Methodology: Review"
   ]
  },
  {
   "cell_type": "markdown",
   "id": "b57b5006",
   "metadata": {},
   "source": [
    "### Review of Review..."
   ]
  },
  {
   "cell_type": "markdown",
   "id": "5f99475f",
   "metadata": {},
   "source": [
    "----"
   ]
  },
  {
   "cell_type": "code",
   "execution_count": 1,
   "id": "21e81887",
   "metadata": {},
   "outputs": [],
   "source": [
    "import seaborn as sns"
   ]
  },
  {
   "cell_type": "code",
   "execution_count": 3,
   "id": "069f70de",
   "metadata": {},
   "outputs": [],
   "source": [
    "tips = sns.load_dataset('tips')"
   ]
  },
  {
   "cell_type": "markdown",
   "id": "ead591ba",
   "metadata": {},
   "source": [
    "---"
   ]
  },
  {
   "cell_type": "markdown",
   "id": "fbad8b02",
   "metadata": {},
   "source": [
    "Choose $X, y$,"
   ]
  },
  {
   "cell_type": "code",
   "execution_count": 4,
   "id": "8046742a",
   "metadata": {},
   "outputs": [],
   "source": [
    "features = ['total_bill', 'size']\n",
    "target = 'tip'"
   ]
  },
  {
   "cell_type": "code",
   "execution_count": 5,
   "id": "a11bb6f9",
   "metadata": {},
   "outputs": [],
   "source": [
    "X = tips[features]\n",
    "y = tips[target]"
   ]
  },
  {
   "cell_type": "markdown",
   "id": "c3a8171b",
   "metadata": {},
   "source": [
    "Choose $\\mathcal{Alg}$, "
   ]
  },
  {
   "cell_type": "code",
   "execution_count": 7,
   "id": "055fc66e",
   "metadata": {},
   "outputs": [],
   "source": [
    "from sklearn.neighbors import KNeighborsRegressor"
   ]
  },
  {
   "cell_type": "markdown",
   "id": "462ee516",
   "metadata": {},
   "source": [
    "Run $\\mathcal{Alg}$, produces $\\hat{f}$,\n"
   ]
  },
  {
   "cell_type": "code",
   "execution_count": 12,
   "id": "7cb78562",
   "metadata": {},
   "outputs": [],
   "source": [
    "model = KNeighborsRegressor().fit(X, y)"
   ]
  },
  {
   "cell_type": "markdown",
   "id": "2f73f3af",
   "metadata": {},
   "source": [
    "Run $\\hat{f}$ on some new data,"
   ]
  },
  {
   "cell_type": "code",
   "execution_count": 13,
   "id": "0294532e",
   "metadata": {},
   "outputs": [
    {
     "data": {
      "text/plain": [
       "array([3.42, 4.18, 3.19])"
      ]
     },
     "execution_count": 13,
     "metadata": {},
     "output_type": "execute_result"
    }
   ],
   "source": [
    "model.predict(X.sample(3))"
   ]
  },
  {
   "cell_type": "markdown",
   "id": "387cdcd5",
   "metadata": {},
   "source": [
    "Score $\\hat{f}$ on $(X,y)$, "
   ]
  },
  {
   "cell_type": "code",
   "execution_count": 10,
   "id": "bb671c31",
   "metadata": {},
   "outputs": [
    {
     "data": {
      "text/plain": [
       "0.5679457239089669"
      ]
     },
     "execution_count": 10,
     "metadata": {},
     "output_type": "execute_result"
    }
   ],
   "source": [
    "model.score(X, y)"
   ]
  },
  {
   "cell_type": "markdown",
   "id": "b9840293",
   "metadata": {},
   "source": [
    "## Evaluating the Model  (BETTER)"
   ]
  },
  {
   "cell_type": "markdown",
   "id": "ae5d4c82",
   "metadata": {},
   "source": [
    "Is $k = 1$ *really* this good?!"
   ]
  },
  {
   "cell_type": "code",
   "execution_count": 14,
   "id": "66d10698",
   "metadata": {},
   "outputs": [
    {
     "data": {
      "text/plain": [
       "0.9896142080482307"
      ]
     },
     "execution_count": 14,
     "metadata": {},
     "output_type": "execute_result"
    }
   ],
   "source": [
    "k = 1\n",
    "\n",
    "KNeighborsRegressor(k).fit(X, y).score(X, y)"
   ]
  },
  {
   "cell_type": "markdown",
   "id": "0e5cd08e",
   "metadata": {},
   "source": [
    "...no..."
   ]
  },
  {
   "cell_type": "code",
   "execution_count": 26,
   "id": "dd6a708c",
   "metadata": {},
   "outputs": [],
   "source": [
    "from sklearn.model_selection import train_test_split\n",
    "\n",
    "Xtr, Xte, ytr, yte = train_test_split(X, y)"
   ]
  },
  {
   "cell_type": "markdown",
   "id": "0feaee88",
   "metadata": {},
   "source": [
    "We reveal $k = 1$ is terrible! (at predicting data it hasnt seen...),"
   ]
  },
  {
   "cell_type": "code",
   "execution_count": 27,
   "id": "01515803",
   "metadata": {},
   "outputs": [
    {
     "data": {
      "text/plain": [
       "-0.013137576113335658"
      ]
     },
     "execution_count": 27,
     "metadata": {},
     "output_type": "execute_result"
    }
   ],
   "source": [
    "KNeighborsRegressor(k).fit(Xtr, ytr).score(Xte, yte)"
   ]
  },
  {
   "cell_type": "markdown",
   "id": "20e13a2e",
   "metadata": {},
   "source": [
    "## Choosing a better model"
   ]
  },
  {
   "cell_type": "code",
   "execution_count": 28,
   "id": "ef12d1da",
   "metadata": {},
   "outputs": [],
   "source": [
    "from sklearn.model_selection import cross_val_score"
   ]
  },
  {
   "cell_type": "code",
   "execution_count": 32,
   "id": "512727ac",
   "metadata": {},
   "outputs": [
    {
     "data": {
      "text/plain": [
       "-0.15178047875949685"
      ]
     },
     "execution_count": 32,
     "metadata": {},
     "output_type": "execute_result"
    }
   ],
   "source": [
    "cross_val_score(KNeighborsRegressor(k), Xtr, ytr).mean()"
   ]
  },
  {
   "cell_type": "code",
   "execution_count": 33,
   "id": "4062f9b1",
   "metadata": {},
   "outputs": [],
   "source": [
    "scores = [ \n",
    "    (cross_val_score(KNeighborsRegressor(k), X, y).mean(), k) for k in range(1, 101)\n",
    "]"
   ]
  },
  {
   "cell_type": "code",
   "execution_count": 35,
   "id": "7c949685",
   "metadata": {},
   "outputs": [
    {
     "data": {
      "text/plain": [
       "[(-0.10635534714203265, 1),\n",
       " (0.1894834336950311, 2),\n",
       " (0.27574577453984617, 3),\n",
       " (0.30657023670664224, 4),\n",
       " (0.3167983849057186, 5)]"
      ]
     },
     "execution_count": 35,
     "metadata": {},
     "output_type": "execute_result"
    }
   ],
   "source": [
    "scores[:5]"
   ]
  },
  {
   "cell_type": "code",
   "execution_count": 37,
   "id": "cd969d12",
   "metadata": {},
   "outputs": [],
   "source": [
    "val_score, k_best = max(scores)"
   ]
  },
  {
   "cell_type": "code",
   "execution_count": 43,
   "id": "7fbc6454",
   "metadata": {},
   "outputs": [
    {
     "data": {
      "text/plain": [
       "22"
      ]
     },
     "execution_count": 43,
     "metadata": {},
     "output_type": "execute_result"
    }
   ],
   "source": [
    "k_best"
   ]
  },
  {
   "cell_type": "code",
   "execution_count": 41,
   "id": "f8bf7f9b",
   "metadata": {},
   "outputs": [],
   "source": [
    "%matplotlib inline\n",
    "import seaborn as sns"
   ]
  },
  {
   "cell_type": "code",
   "execution_count": 42,
   "id": "a0ad4d92",
   "metadata": {},
   "outputs": [
    {
     "data": {
      "text/plain": [
       "<AxesSubplot:>"
      ]
     },
     "execution_count": 42,
     "metadata": {},
     "output_type": "execute_result"
    },
    {
     "data": {
      "image/png": "[encoded data removed]",
      "text/plain": [
       "<Figure size 432x288 with 1 Axes>"
      ]
     },
     "metadata": {
      "needs_background": "light"
     },
     "output_type": "display_data"
    }
   ],
   "source": [
    "sns.lineplot(\n",
    "    x=[ k for s, k in scores ],\n",
    "    y=[ s for s, k in scores ]\n",
    ")"
   ]
  },
  {
   "cell_type": "markdown",
   "id": "16fb8398",
   "metadata": {},
   "source": [
    "## Getting the Best Model"
   ]
  },
  {
   "cell_type": "markdown",
   "id": "7fabccbe",
   "metadata": {},
   "source": [
    "The final *performance* (or \"score\") for the approach we've taken,"
   ]
  },
  {
   "cell_type": "code",
   "execution_count": 54,
   "id": "7c5911ab",
   "metadata": {},
   "outputs": [
    {
     "data": {
      "text/plain": [
       "0.42"
      ]
     },
     "execution_count": 54,
     "metadata": {},
     "output_type": "execute_result"
    }
   ],
   "source": [
    "KNeighborsRegressor(k_best).fit(Xtr, ytr).score(Xte, yte).round(2)"
   ]
  },
  {
   "cell_type": "markdown",
   "id": "5d2dda59",
   "metadata": {},
   "source": [
    "## Deployment"
   ]
  },
  {
   "cell_type": "markdown",
   "id": "9cd288a9",
   "metadata": {},
   "source": [
    "In practice we retrain on *all* of the historical data (even though we have no score/performance for this model), "
   ]
  },
  {
   "cell_type": "code",
   "execution_count": 48,
   "id": "8e46006b",
   "metadata": {},
   "outputs": [],
   "source": [
    "best_model = KNeighborsRegressor(k_best).fit(X, y)"
   ]
  },
  {
   "cell_type": "markdown",
   "id": "d0d561c4",
   "metadata": {},
   "source": [
    "...but this is likely to just be better as we have more data in $(X, y)$."
   ]
  },
  {
   "cell_type": "code",
   "execution_count": 49,
   "id": "16147c07",
   "metadata": {},
   "outputs": [
    {
     "data": {
      "text/plain": [
       "array([3.19454545, 3.815     , 3.67136364])"
      ]
     },
     "execution_count": 49,
     "metadata": {},
     "output_type": "execute_result"
    }
   ],
   "source": [
    "best_model.predict(X.sample(3))"
   ]
  },
  {
   "cell_type": "markdown",
   "id": "7070a59a",
   "metadata": {},
   "source": [
    "----"
   ]
  },
  {
   "cell_type": "markdown",
   "id": "9193073a",
   "metadata": {},
   "source": [
    "We *can* score again on the original dataset, but this is extremely misleading and not to be used for anyhting. But it is an interesting curiosity..."
   ]
  },
  {
   "cell_type": "code",
   "execution_count": 51,
   "id": "db8c06f2",
   "metadata": {},
   "outputs": [
    {
     "data": {
      "text/plain": [
       "0.4359603799407272"
      ]
     },
     "execution_count": 51,
     "metadata": {},
     "output_type": "execute_result"
    }
   ],
   "source": [
    "best_model.score(X, y)"
   ]
  }
 ],
 "metadata": {
  "kernelspec": {
   "display_name": "Python 3.9",
   "language": "python",
   "name": "python3"
  },
  "language_info": {
   "codemirror_mode": {
    "name": "ipython",
    "version": 3
   },
   "file_extension": ".py",
   "mimetype": "text/x-python",
   "name": "python",
   "nbconvert_exporter": "python",
   "pygments_lexer": "ipython3",
   "version": "3.9.6"
  }
 },
 "nbformat": 4,
 "nbformat_minor": 5
}
