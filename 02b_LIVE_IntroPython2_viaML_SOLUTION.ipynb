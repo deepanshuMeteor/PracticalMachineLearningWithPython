{
 "cells": [
  {
   "cell_type": "markdown",
   "id": "a0c03bff",
   "metadata": {},
   "source": [
    "# An Introduction to Python: Part 2 -- <font color=red>SOLUTION</font>\n",
    "### with a Machine Learning Context"
   ]
  },
  {
   "cell_type": "markdown",
   "id": "1124e4f1",
   "metadata": {},
   "source": [
    "Recall the problem from `Part 1`, "
   ]
  },
  {
   "cell_type": "markdown",
   "id": "88044acf",
   "metadata": {},
   "source": [
    "## The Problem"
   ]
  },
  {
   "cell_type": "markdown",
   "id": "40b18ed9",
   "metadata": {},
   "source": [
    "* Domain: Crime\n",
    "    * Dataset: history of crimes\n",
    "        * $(X, y)$\n",
    "        * $X$ features crime/person\n",
    "        * $y$ target violent yes/no\n",
    "    * <font color=red>Goal: risk of violence</font>\n",
    "        * classify a new suspect into \"VIOLENT\" or \"NONVIOLENT\"\n",
    "        * probability of being violent\n",
    "* Known Features $X$\n",
    "    * Criminal Record\n",
    "        * $X_0$ number of crimes\n",
    "    * Personal Details\n",
    "        * $X_1$ Area\n",
    "        * $X_2$ Age\n",
    "        * $X_3$ In Care System? \n",
    "* Unknown Target $y$\n",
    "    * $y$ is whether you are a violent offender"
   ]
  },
  {
   "cell_type": "markdown",
   "id": "ae9e884d",
   "metadata": {},
   "source": [
    "With the datasets,"
   ]
  },
  {
   "cell_type": "code",
   "execution_count": 4,
   "id": "507c4184",
   "metadata": {},
   "outputs": [],
   "source": [
    "X = [\n",
    "    (3, \"London\", 30, False),\n",
    "    (4, \"London\", 20, True),\n",
    "    (0, \"Manchester\", 18, True),\n",
    "    (1, \"Manchester\", None, False), # could be a list [,,,,]\n",
    "    (2, \"Manchester\", 50, False),\n",
    "]"
   ]
  },
  {
   "cell_type": "code",
   "execution_count": 5,
   "id": "ca636034",
   "metadata": {},
   "outputs": [],
   "source": [
    "y = [\n",
    "    True, \n",
    "    True, \n",
    "    False, \n",
    "    False, \n",
    "    False\n",
    "]"
   ]
  },
  {
   "cell_type": "code",
   "execution_count": 6,
   "id": "2e012fc4",
   "metadata": {},
   "outputs": [
    {
     "data": {
      "text/plain": [
       "True"
      ]
     },
     "execution_count": 6,
     "metadata": {},
     "output_type": "execute_result"
    }
   ],
   "source": [
    "len(y) == len(X)"
   ]
  },
  {
   "cell_type": "markdown",
   "id": "0e8ef4b9",
   "metadata": {},
   "source": [
    "### The Solution\n",
    "\n",
    "* Score each $X$ in terms of how \"violent\" it is\n",
    "    * add up all the scores\n",
    "* We compare this total score to some cutoff (we can choose)\n",
    "    * if you cross the threshold, you're violent"
   ]
  },
  {
   "cell_type": "markdown",
   "id": "59d184da",
   "metadata": {},
   "source": [
    "We define `suspect` to be the first entry in `X` for convenience in illustrating this process of scoring,"
   ]
  },
  {
   "cell_type": "code",
   "execution_count": 7,
   "id": "567627a0",
   "metadata": {},
   "outputs": [
    {
     "data": {
      "text/plain": [
       "(3, 'London', 30, False)"
      ]
     },
     "execution_count": 7,
     "metadata": {},
     "output_type": "execute_result"
    }
   ],
   "source": [
    "suspect = X[0]\n",
    "suspect"
   ]
  },
  {
   "cell_type": "markdown",
   "id": "f209448a",
   "metadata": {},
   "source": [
    "`score` is a *dictionary*, is a key-value datastructure. A KV data structure tags values by \"keys\", typically strings. "
   ]
  },
  {
   "cell_type": "code",
   "execution_count": 8,
   "id": "24a314c1",
   "metadata": {},
   "outputs": [],
   "source": [
    "score = {\n",
    "    'crimes' : 4, # weight\n",
    "    'age'    : 3,\n",
    "    'in_care': 10\n",
    "}"
   ]
  },
  {
   "cell_type": "markdown",
   "id": "fc0d94ca",
   "metadata": {},
   "source": [
    "**Q. Define a `nonviolent_score` dictionary with alterantive entries.** "
   ]
  },
  {
   "cell_type": "code",
   "execution_count": 9,
   "id": "6e9e485a",
   "metadata": {},
   "outputs": [],
   "source": [
    "nonviolent_score = {\n",
    "    'crimes': 3,\n",
    "    'age': 2, \n",
    "    'in_care' : 0\n",
    "}"
   ]
  },
  {
   "cell_type": "markdown",
   "id": "69d16486",
   "metadata": {},
   "source": [
    "You can find the value if you know the key,"
   ]
  },
  {
   "cell_type": "code",
   "execution_count": 10,
   "id": "c1e2ef4d",
   "metadata": {},
   "outputs": [
    {
     "data": {
      "text/plain": [
       "4"
      ]
     },
     "execution_count": 10,
     "metadata": {},
     "output_type": "execute_result"
    }
   ],
   "source": [
    "score['crimes'] # index = key"
   ]
  },
  {
   "cell_type": "markdown",
   "id": "df30a64d",
   "metadata": {},
   "source": [
    "**Q. `print()` all the entries of your nonviolent dictionary .**"
   ]
  },
  {
   "cell_type": "code",
   "execution_count": 11,
   "id": "a137f2ab",
   "metadata": {},
   "outputs": [
    {
     "name": "stdout",
     "output_type": "stream",
     "text": [
      "3\n",
      "2\n",
      "0\n"
     ]
    }
   ],
   "source": [
    "print(nonviolent_score['crimes'])\n",
    "print(nonviolent_score['age'])\n",
    "print(nonviolent_score['in_care'])"
   ]
  },
  {
   "cell_type": "markdown",
   "id": "24bd7531",
   "metadata": {},
   "source": [
    "Note the index isnt a position, its a string *key*. "
   ]
  },
  {
   "cell_type": "markdown",
   "id": "938a3a68",
   "metadata": {},
   "source": [
    "A score is computed from weights multiplied by each feature of an observation, $X$, "
   ]
  },
  {
   "cell_type": "code",
   "execution_count": 12,
   "id": "b4482a99",
   "metadata": {},
   "outputs": [],
   "source": [
    "total_score = (\n",
    "    score['crimes']  * suspect[0] + \n",
    "    score['age']     * suspect[2] + \n",
    "    score['in_care'] * suspect[3]\n",
    ")"
   ]
  },
  {
   "cell_type": "markdown",
   "id": "56253a05",
   "metadata": {},
   "source": [
    "We look up the weights in `score` and multiply by the entires in a particular $X$, ie., the `suspect`. "
   ]
  },
  {
   "cell_type": "markdown",
   "id": "a8797a6a",
   "metadata": {},
   "source": [
    "**Q. Calculate a `total_nonviolent_score` using your nonviolent dictionary and `suspect` .**"
   ]
  },
  {
   "cell_type": "code",
   "execution_count": 13,
   "id": "0dc53f42",
   "metadata": {},
   "outputs": [],
   "source": [
    "total_nonviolent_score = (\n",
    "    nonviolent_score['crimes']  * suspect[0] + \n",
    "    nonviolent_score['age']     * suspect[2] + \n",
    "    nonviolent_score['in_care'] * suspect[3]\n",
    ")"
   ]
  },
  {
   "cell_type": "code",
   "execution_count": 14,
   "id": "77b0c13d",
   "metadata": {},
   "outputs": [
    {
     "data": {
      "text/plain": [
       "69"
      ]
     },
     "execution_count": 14,
     "metadata": {},
     "output_type": "execute_result"
    }
   ],
   "source": [
    "total_nonviolent_score"
   ]
  },
  {
   "cell_type": "markdown",
   "id": "c1a2a586",
   "metadata": {},
   "source": [
    "---"
   ]
  },
  {
   "cell_type": "markdown",
   "id": "343ded63",
   "metadata": {},
   "source": [
    "In python calculations cannot run across multiple lines, as the end of a line is a statement terminator (ends the action).\n",
    "\n",
    "If you want to run across mutliple lines you can use paranethese,"
   ]
  },
  {
   "cell_type": "code",
   "execution_count": 19,
   "id": "a85f91aa",
   "metadata": {},
   "outputs": [
    {
     "ename": "SyntaxError",
     "evalue": "invalid syntax (<ipython-input-19-57f8c229afcc>, line 1)",
     "output_type": "error",
     "traceback": [
      "\u001b[0;36m  File \u001b[0;32m\"<ipython-input-19-57f8c229afcc>\"\u001b[0;36m, line \u001b[0;32m1\u001b[0m\n\u001b[0;31m    1 +\u001b[0m\n\u001b[0m        ^\u001b[0m\n\u001b[0;31mSyntaxError\u001b[0m\u001b[0;31m:\u001b[0m invalid syntax\n"
     ]
    }
   ],
   "source": [
    "1 + \n",
    "1"
   ]
  },
  {
   "cell_type": "code",
   "execution_count": 20,
   "id": "fde73792",
   "metadata": {},
   "outputs": [
    {
     "data": {
      "text/plain": [
       "2"
      ]
     },
     "execution_count": 20,
     "metadata": {},
     "output_type": "execute_result"
    }
   ],
   "source": [
    "(1 + \n",
    "1)"
   ]
  },
  {
   "cell_type": "markdown",
   "id": "ece6e731",
   "metadata": {},
   "source": [
    "In python whitespace is ignored between any pair of brackets, `()`, `[]`, `{}`, ... "
   ]
  },
  {
   "cell_type": "markdown",
   "id": "b32a1c75",
   "metadata": {},
   "source": [
    "---"
   ]
  },
  {
   "cell_type": "markdown",
   "id": "54e0e5b8",
   "metadata": {},
   "source": [
    "We now have a total score,"
   ]
  },
  {
   "cell_type": "code",
   "execution_count": 22,
   "id": "e78c9016",
   "metadata": {},
   "outputs": [
    {
     "data": {
      "text/plain": [
       "102"
      ]
     },
     "execution_count": 22,
     "metadata": {},
     "output_type": "execute_result"
    }
   ],
   "source": [
    "total_score"
   ]
  },
  {
   "cell_type": "markdown",
   "id": "f31cfc18",
   "metadata": {},
   "source": [
    "We compare this to some chosen cutoff to *predict*  if they are violent; ie., we *classify* them,"
   ]
  },
  {
   "cell_type": "code",
   "execution_count": 23,
   "id": "2b5ca494",
   "metadata": {},
   "outputs": [
    {
     "name": "stdout",
     "output_type": "stream",
     "text": [
      "VIOLENT\n"
     ]
    }
   ],
   "source": [
    "cutoff = 100\n",
    "\n",
    "if total_score > cutoff:\n",
    "    print(\"VIOLENT\")\n",
    "else:\n",
    "    print(\"NONVIOLENT\")"
   ]
  },
  {
   "cell_type": "markdown",
   "id": "03446871",
   "metadata": {},
   "source": [
    "**Q. Create an `if-else` decision which judges nonviolence; ie., use your `nonviolent_score` and your own `nonviolent_cutoff`.**"
   ]
  },
  {
   "cell_type": "code",
   "execution_count": 15,
   "id": "0cc50aa2",
   "metadata": {},
   "outputs": [
    {
     "name": "stdout",
     "output_type": "stream",
     "text": [
      "VIOLENT\n"
     ]
    }
   ],
   "source": [
    "cutoff = 100\n",
    "\n",
    "if total_nonviolent_score > cutoff:\n",
    "    print(\"NONVIOLENT\")\n",
    "else:\n",
    "    print(\"VIOLENT\")"
   ]
  },
  {
   "cell_type": "markdown",
   "id": "c6d2fed6",
   "metadata": {},
   "source": [
    "### Improving the Weights\n",
    "\n",
    "\n",
    "The chosen weights above were just based on intution, eg., that crimes are \"`4` important\". \n",
    "\n",
    "Let's compute them from the data."
   ]
  },
  {
   "cell_type": "code",
   "execution_count": 29,
   "id": "c74f22dd",
   "metadata": {},
   "outputs": [
    {
     "data": {
      "text/plain": [
       "[True, True, False, False, False]"
      ]
     },
     "execution_count": 29,
     "metadata": {},
     "output_type": "execute_result"
    }
   ],
   "source": [
    "y"
   ]
  },
  {
   "cell_type": "code",
   "execution_count": 28,
   "id": "ff655fb7",
   "metadata": {},
   "outputs": [
    {
     "data": {
      "text/plain": [
       "[(3, 'London', 30, False),\n",
       " (4, 'London', 20, True),\n",
       " (0, 'Manchester', 18, True),\n",
       " (1, 'Manchester', None, False),\n",
       " (2, 'Manchester', 50, False)]"
      ]
     },
     "execution_count": 28,
     "metadata": {},
     "output_type": "execute_result"
    }
   ],
   "source": [
    "X"
   ]
  },
  {
   "cell_type": "markdown",
   "id": "9aaa42f8",
   "metadata": {},
   "source": [
    "**Q. What locations do all violent crimials belong to?**"
   ]
  },
  {
   "cell_type": "markdown",
   "id": "ac3b58f3",
   "metadata": {},
   "source": [
    "\"London\""
   ]
  },
  {
   "cell_type": "markdown",
   "id": "3be4e970",
   "metadata": {},
   "source": [
    "### How many crimes *are associated with* violence?\n",
    "\n",
    "Notice in `y` the first two rows are \"violent\", so the number of crimes \"associated with violent\" is `mean(3, 4)`. \n",
    "\n",
    "We require knowing $y$ as we consider $X$ -- we only want to inspect $X$ entires if they're violent. \n",
    "\n",
    "We can use `zip()`."
   ]
  },
  {
   "cell_type": "markdown",
   "id": "cde4092b",
   "metadata": {},
   "source": [
    "----"
   ]
  },
  {
   "cell_type": "markdown",
   "id": "659698a5",
   "metadata": {},
   "source": [
    "#### Streaming Operations"
   ]
  },
  {
   "cell_type": "markdown",
   "id": "f9e07027",
   "metadata": {},
   "source": [
    "The functions below (`range()` etc.) *compute values*, **on-demand**. Simply: when you loop over them, they give a value. \n",
    "\n",
    "This is efficient in that you don't pre-store any values. These are called generators (\"generating\"). "
   ]
  },
  {
   "cell_type": "code",
   "execution_count": 30,
   "id": "05de6470",
   "metadata": {},
   "outputs": [
    {
     "data": {
      "text/plain": [
       "range(0, 10)"
      ]
     },
     "execution_count": 30,
     "metadata": {},
     "output_type": "execute_result"
    }
   ],
   "source": [
    "range(0, 10)"
   ]
  },
  {
   "cell_type": "code",
   "execution_count": 125,
   "id": "b874512c",
   "metadata": {},
   "outputs": [
    {
     "name": "stdout",
     "output_type": "stream",
     "text": [
      "0 Ho\n",
      "1 Ho\n",
      "2 Ho\n"
     ]
    }
   ],
   "source": [
    "for i in range(0, 3):\n",
    "    print(i, \"Ho\")"
   ]
  },
  {
   "cell_type": "markdown",
   "id": "128ee3fe",
   "metadata": {},
   "source": [
    "**Q. `print()` the numbers in the `range(-5, 5)` using a `for`-loop.**"
   ]
  },
  {
   "cell_type": "code",
   "execution_count": 17,
   "id": "f2367381",
   "metadata": {},
   "outputs": [
    {
     "name": "stdout",
     "output_type": "stream",
     "text": [
      "-5\n",
      "-4\n",
      "-3\n",
      "-2\n",
      "-1\n",
      "0\n",
      "1\n",
      "2\n",
      "3\n",
      "4\n"
     ]
    }
   ],
   "source": [
    "for i in range(-5, 5):\n",
    "    print(i)"
   ]
  },
  {
   "cell_type": "markdown",
   "id": "7a7cea8e",
   "metadata": {},
   "source": [
    "Using `list` with a generator shows all the elements at once,"
   ]
  },
  {
   "cell_type": "code",
   "execution_count": 42,
   "id": "31761a11",
   "metadata": {},
   "outputs": [
    {
     "data": {
      "text/plain": [
       "[0, 1, 2]"
      ]
     },
     "execution_count": 42,
     "metadata": {},
     "output_type": "execute_result"
    }
   ],
   "source": [
    "list(range(0, 3))"
   ]
  },
  {
   "cell_type": "markdown",
   "id": "c8f9b4e6",
   "metadata": {},
   "source": [
    "**Q. `list()` the numbers in the `range(-5, 5)`.**"
   ]
  },
  {
   "cell_type": "code",
   "execution_count": 18,
   "id": "a1d06db1",
   "metadata": {},
   "outputs": [
    {
     "data": {
      "text/plain": [
       "[-5, -4, -3, -2, -1, 0, 1, 2, 3, 4]"
      ]
     },
     "execution_count": 18,
     "metadata": {},
     "output_type": "execute_result"
    }
   ],
   "source": [
    "list(range(-5, 5))"
   ]
  },
  {
   "cell_type": "markdown",
   "id": "2775679f",
   "metadata": {},
   "source": [
    "`range()` is often used when looping for a fixed number of iterations...\n",
    "\n",
    "Eg., consider simulating a dataset and generating 10 points, "
   ]
  },
  {
   "cell_type": "code",
   "execution_count": 48,
   "id": "042c693f",
   "metadata": {},
   "outputs": [
    {
     "data": {
      "text/plain": [
       "[1, 3, 5, 7, 9, 11, 13, 15, 17, 19]"
      ]
     },
     "execution_count": 48,
     "metadata": {},
     "output_type": "execute_result"
    }
   ],
   "source": [
    "new = []\n",
    "for x in range(0, 10):\n",
    "    new.append( 2 * x + 1 )\n",
    "new"
   ]
  },
  {
   "cell_type": "markdown",
   "id": "a79fd7a3",
   "metadata": {},
   "source": [
    "##### Aside: More Generators"
   ]
  },
  {
   "cell_type": "markdown",
   "id": "edd64018",
   "metadata": {},
   "source": [
    "Other generators include `zip`, and `enumerate`, "
   ]
  },
  {
   "cell_type": "code",
   "execution_count": 126,
   "id": "3f417dc3",
   "metadata": {},
   "outputs": [
    {
     "data": {
      "text/plain": [
       "<zip at 0x7ff3783b8140>"
      ]
     },
     "execution_count": 126,
     "metadata": {},
     "output_type": "execute_result"
    }
   ],
   "source": [
    "zip(X, y) # we consider below"
   ]
  },
  {
   "cell_type": "markdown",
   "id": "5ed23f57",
   "metadata": {},
   "source": [
    "`enumerate` computes an index and draws an element from an original dataset,"
   ]
  },
  {
   "cell_type": "code",
   "execution_count": 127,
   "id": "8e74c84a",
   "metadata": {},
   "outputs": [
    {
     "data": {
      "text/plain": [
       "<enumerate at 0x7ff3783c4cc0>"
      ]
     },
     "execution_count": 127,
     "metadata": {},
     "output_type": "execute_result"
    }
   ],
   "source": [
    "enumerate(X)"
   ]
  },
  {
   "cell_type": "code",
   "execution_count": 49,
   "id": "9e11e55b",
   "metadata": {},
   "outputs": [
    {
     "name": "stdout",
     "output_type": "stream",
     "text": [
      "0 A\n",
      "1 B\n",
      "2 C\n"
     ]
    }
   ],
   "source": [
    "for index, entry in enumerate(\"ABC\"):\n",
    "    print(index, entry)"
   ]
  },
  {
   "cell_type": "markdown",
   "id": "d4803b2f",
   "metadata": {},
   "source": [
    "`zip()` takes two-or-more collections and provides, on demand, an element from each,"
   ]
  },
  {
   "cell_type": "code",
   "execution_count": 37,
   "id": "b5acce11",
   "metadata": {},
   "outputs": [
    {
     "name": "stdout",
     "output_type": "stream",
     "text": [
      "A 1 True\n",
      "B 2 True\n",
      "C 3 None\n"
     ]
    }
   ],
   "source": [
    "for a, b, c in zip(\"ABC\", [1,2,3], (True, True, None)):\n",
    "    print(a, b, c)"
   ]
  },
  {
   "cell_type": "code",
   "execution_count": 38,
   "id": "b60c2734",
   "metadata": {
    "scrolled": true
   },
   "outputs": [
    {
     "name": "stdout",
     "output_type": "stream",
     "text": [
      "A 1 True\n",
      "B 2 True\n",
      "C 3 None\n"
     ]
    }
   ],
   "source": [
    "letters = \"ABC\"\n",
    "numbers = [1,2,3]\n",
    "labels = (True, True, None)\n",
    "\n",
    "abc = zip(letters, numbers, labels)\n",
    "\n",
    "for a, b, c in abc:\n",
    "    print(a, b, c)"
   ]
  },
  {
   "cell_type": "markdown",
   "id": "6860f159",
   "metadata": {},
   "source": [
    "**Q. Define a list of `colors` and `numbers`, using `zip()` and `for`, `print()`, a color and number from each list.**"
   ]
  },
  {
   "cell_type": "code",
   "execution_count": 19,
   "id": "876bbdc7",
   "metadata": {},
   "outputs": [
    {
     "name": "stdout",
     "output_type": "stream",
     "text": [
      "R 2\n",
      "G 4\n",
      "B 5\n"
     ]
    }
   ],
   "source": [
    "colors = [\"R\", \"G\", \"B\"]\n",
    "numbers = [2, 4, 5]\n",
    "\n",
    "for c, n in zip(colors, numbers):\n",
    "    print(c, n)"
   ]
  },
  {
   "cell_type": "markdown",
   "id": "72140c8a",
   "metadata": {},
   "source": [
    "**Q. Define a list of `suspect_names` and `crime_loctions`, using `zip()` and `for`, `print()` one from each.**"
   ]
  },
  {
   "cell_type": "code",
   "execution_count": 21,
   "id": "6fd8b49f",
   "metadata": {},
   "outputs": [
    {
     "name": "stdout",
     "output_type": "stream",
     "text": [
      "Alice Liverpool\n",
      "Eve Glasgow\n"
     ]
    }
   ],
   "source": [
    "suspect_names = [\"Alice\", \"Eve\"]\n",
    "crime_locations = [\"Liverpool\", \"Glasgow\"]\n",
    "\n",
    "for name, location in zip(suspect_names, crime_locations):\n",
    "    print(name, location)"
   ]
  },
  {
   "cell_type": "markdown",
   "id": "796ad2b8",
   "metadata": {},
   "source": [
    "##### Aside: Understanding `zip`"
   ]
  },
  {
   "cell_type": "markdown",
   "id": "2e082a1a",
   "metadata": {},
   "source": [
    "If you use `list()` to convert a generator to a list, it will force the generator to compute all entires (ie., generate them)..."
   ]
  },
  {
   "cell_type": "code",
   "execution_count": 39,
   "id": "9d680f30",
   "metadata": {},
   "outputs": [
    {
     "data": {
      "text/plain": [
       "[('A', 1, True), ('B', 2, True), ('C', 3, None)]"
      ]
     },
     "execution_count": 39,
     "metadata": {},
     "output_type": "execute_result"
    }
   ],
   "source": [
    "list(zip(letters, numbers, labels))"
   ]
  },
  {
   "cell_type": "markdown",
   "id": "8bd1d344",
   "metadata": {},
   "source": [
    "You can see what it's generating. A new list of tuples of three elements, each entry coming from the original."
   ]
  },
  {
   "cell_type": "code",
   "execution_count": 41,
   "id": "62752afa",
   "metadata": {},
   "outputs": [
    {
     "data": {
      "text/plain": [
       "[('A', 1, True), ('B', 2, True)]"
      ]
     },
     "execution_count": 41,
     "metadata": {},
     "output_type": "execute_result"
    }
   ],
   "source": [
    "[(letters[0], numbers[0], labels[0]), \n",
    " (letters[1], numbers[1], labels[1]), \n",
    "]"
   ]
  },
  {
   "cell_type": "markdown",
   "id": "49e25013",
   "metadata": {},
   "source": [
    "Understanding this is not essential for using `zip`. "
   ]
  },
  {
   "cell_type": "markdown",
   "id": "ad6008f0",
   "metadata": {},
   "source": [
    "---"
   ]
  },
  {
   "cell_type": "markdown",
   "id": "963394c3",
   "metadata": {},
   "source": [
    "#### Solving the Problem"
   ]
  },
  {
   "cell_type": "markdown",
   "id": "d75ac059",
   "metadata": {},
   "source": [
    "Recall we are aiming for realistic weights for `score`, "
   ]
  },
  {
   "cell_type": "code",
   "execution_count": 51,
   "id": "67a6edf7",
   "metadata": {
    "scrolled": true
   },
   "outputs": [
    {
     "data": {
      "text/plain": [
       "[True, True, False, False, False]"
      ]
     },
     "execution_count": 51,
     "metadata": {},
     "output_type": "execute_result"
    }
   ],
   "source": [
    "y"
   ]
  },
  {
   "cell_type": "code",
   "execution_count": 50,
   "id": "946e5c73",
   "metadata": {},
   "outputs": [
    {
     "data": {
      "text/plain": [
       "[(3, 'London', 30, False),\n",
       " (4, 'London', 20, True),\n",
       " (0, 'Manchester', 18, True),\n",
       " (1, 'Manchester', None, False),\n",
       " (2, 'Manchester', 50, False)]"
      ]
     },
     "execution_count": 50,
     "metadata": {},
     "output_type": "execute_result"
    }
   ],
   "source": [
    "X"
   ]
  },
  {
   "cell_type": "code",
   "execution_count": 52,
   "id": "e1a80dfc",
   "metadata": {},
   "outputs": [
    {
     "data": {
      "text/plain": [
       "{'crimes': 4, 'age': 3, 'in_care': 10}"
      ]
     },
     "execution_count": 52,
     "metadata": {},
     "output_type": "execute_result"
    }
   ],
   "source": [
    "score"
   ]
  },
  {
   "cell_type": "markdown",
   "id": "b239c65d",
   "metadata": {},
   "source": [
    "The idea:\n",
    "\n",
    "* consider every entry in $X$ and $y$\n",
    "    * if $y$ is True, ie., the suspect is violent\n",
    "    * then keep their number of crimes ( the zero entry in the suspect)\n",
    "        * keep = append to an empty list"
   ]
  },
  {
   "cell_type": "code",
   "execution_count": 22,
   "id": "55a024b8",
   "metadata": {},
   "outputs": [],
   "source": [
    "vcrimes = [] # empty list\n",
    "\n",
    "for suspect, is_violent in zip(X, y):\n",
    "    if is_violent: \n",
    "        vcrimes.append(suspect[0]) # keep"
   ]
  },
  {
   "cell_type": "markdown",
   "id": "cd3802ef",
   "metadata": {},
   "source": [
    "**Q. Define another empty list called `vlocations` before the loop, and `.append` the supects location (ie., `suspect[2]`).** "
   ]
  },
  {
   "cell_type": "code",
   "execution_count": 25,
   "id": "023e801f",
   "metadata": {},
   "outputs": [],
   "source": [
    "vcrimes = [] # empty list\n",
    "vlocations = []\n",
    "\n",
    "for suspect, is_violent in zip(X, y):\n",
    "    if is_violent: \n",
    "        vcrimes.append(suspect[0]) # keep\n",
    "        vlocations.append(suspect[1])"
   ]
  },
  {
   "cell_type": "code",
   "execution_count": 26,
   "id": "5dd215d1",
   "metadata": {},
   "outputs": [
    {
     "data": {
      "text/plain": [
       "[3, 4]"
      ]
     },
     "execution_count": 26,
     "metadata": {},
     "output_type": "execute_result"
    }
   ],
   "source": [
    "vcrimes # compare with X and y above, its the first two entries "
   ]
  },
  {
   "cell_type": "markdown",
   "id": "36388376",
   "metadata": {},
   "source": [
    "**Q. `print()` your `vlocations`.**"
   ]
  },
  {
   "cell_type": "code",
   "execution_count": 27,
   "id": "825db111",
   "metadata": {},
   "outputs": [
    {
     "name": "stdout",
     "output_type": "stream",
     "text": [
      "['London', 'London']\n"
     ]
    }
   ],
   "source": [
    "print(vlocations)"
   ]
  },
  {
   "cell_type": "markdown",
   "id": "ae76c7ea",
   "metadata": {},
   "source": [
    "We will take the `mean` of the violent crimes as the weight.\n",
    "\n",
    "We can use `sum, len` or **import** a `mean` function,"
   ]
  },
  {
   "cell_type": "code",
   "execution_count": 29,
   "id": "a53cc25e",
   "metadata": {},
   "outputs": [],
   "source": [
    "# mean = ...statistics... # ie., a variable definition\n",
    "from statistics import mean"
   ]
  },
  {
   "cell_type": "markdown",
   "id": "7247f758",
   "metadata": {},
   "source": [
    "The statistics library (module) in python contains various statistical functions.\n",
    "\n",
    "`from library import abc` load the library (run some python files), \"make available\" some things they define. "
   ]
  },
  {
   "cell_type": "code",
   "execution_count": 60,
   "id": "7bffc87f",
   "metadata": {},
   "outputs": [
    {
     "data": {
      "text/plain": [
       "3.5"
      ]
     },
     "execution_count": 60,
     "metadata": {},
     "output_type": "execute_result"
    }
   ],
   "source": [
    "mean(vcrimes)"
   ]
  },
  {
   "cell_type": "markdown",
   "id": "1e214fd8",
   "metadata": {},
   "source": [
    "**Q. Show the `mean()` of the `range()` `-100` to `100`.**"
   ]
  },
  {
   "cell_type": "code",
   "execution_count": 32,
   "id": "a3296dcb",
   "metadata": {},
   "outputs": [
    {
     "data": {
      "text/plain": [
       "[-10, -9, -8, -7, -6, -5, -4, -3, -2, -1, 0, 1, 2, 3, 4, 5, 6, 7, 8, 9]"
      ]
     },
     "execution_count": 32,
     "metadata": {},
     "output_type": "execute_result"
    }
   ],
   "source": [
    "list(range(-10, 10))"
   ]
  },
  {
   "cell_type": "code",
   "execution_count": 31,
   "id": "7d0d8c3f",
   "metadata": {},
   "outputs": [
    {
     "data": {
      "text/plain": [
       "-0.5"
      ]
     },
     "execution_count": 31,
     "metadata": {},
     "output_type": "execute_result"
    }
   ],
   "source": [
    "mean(range(-100, 100))"
   ]
  },
  {
   "cell_type": "markdown",
   "id": "3b074e59",
   "metadata": {},
   "source": [
    "...Why?"
   ]
  },
  {
   "cell_type": "code",
   "execution_count": 34,
   "id": "808a0e4e",
   "metadata": {
    "scrolled": true
   },
   "outputs": [
    {
     "data": {
      "text/plain": [
       "-0.5"
      ]
     },
     "execution_count": 34,
     "metadata": {},
     "output_type": "execute_result"
    }
   ],
   "source": [
    "(-100 + 99)/2"
   ]
  },
  {
   "cell_type": "markdown",
   "id": "7da9ad5d",
   "metadata": {},
   "source": [
    "**Q. What is `mean(range(0, 1_000, 100))`, why?**"
   ]
  },
  {
   "cell_type": "code",
   "execution_count": 41,
   "id": "c62ab784",
   "metadata": {},
   "outputs": [
    {
     "data": {
      "text/plain": [
       "450"
      ]
     },
     "execution_count": 41,
     "metadata": {},
     "output_type": "execute_result"
    }
   ],
   "source": [
    "mean(range(0, 1_000, 100)) # underscore is option, it's just ignored!"
   ]
  },
  {
   "cell_type": "code",
   "execution_count": 42,
   "id": "8742629f",
   "metadata": {},
   "outputs": [
    {
     "data": {
      "text/plain": [
       "[0, 100, 200, 300, 400, 500, 600, 700, 800, 900]"
      ]
     },
     "execution_count": 42,
     "metadata": {},
     "output_type": "execute_result"
    }
   ],
   "source": [
    "list(range(0, 1_000, 100))"
   ]
  },
  {
   "cell_type": "code",
   "execution_count": 43,
   "id": "26e9fd25",
   "metadata": {},
   "outputs": [
    {
     "data": {
      "text/plain": [
       "450.0"
      ]
     },
     "execution_count": 43,
     "metadata": {},
     "output_type": "execute_result"
    }
   ],
   "source": [
    "(0 + 900)/2"
   ]
  },
  {
   "cell_type": "markdown",
   "id": "92a82869",
   "metadata": {},
   "source": [
    "We update `crimes` in `score` to be this data-evidenced one,"
   ]
  },
  {
   "cell_type": "code",
   "execution_count": 62,
   "id": "dbd34259",
   "metadata": {},
   "outputs": [],
   "source": [
    "score['crimes'] = mean(vcrimes)"
   ]
  },
  {
   "cell_type": "code",
   "execution_count": 64,
   "id": "a99ce5cb",
   "metadata": {},
   "outputs": [
    {
     "data": {
      "text/plain": [
       "{'crimes': 3.5, 'age': 3, 'in_care': 10}"
      ]
     },
     "execution_count": 64,
     "metadata": {},
     "output_type": "execute_result"
    }
   ],
   "source": [
    "score"
   ]
  },
  {
   "cell_type": "markdown",
   "id": "ad50e4f1",
   "metadata": {},
   "source": [
    "### Making the Scores Realistic\n",
    "\n",
    "The remaining task is to compute a weight for every $X$ entry which is derived from the data. \n",
    "\n",
    "* `mean(violent crimes)`\n",
    "* `mode(violent locations)`\n",
    "* `mean(violent ages)`\n",
    "* `mean(violent in_cares)`\n",
    "\n",
    "To compute these means we will create a new dataset called `violents` which keeps only violent suspects. "
   ]
  },
  {
   "cell_type": "code",
   "execution_count": 59,
   "id": "a3b50fc7",
   "metadata": {},
   "outputs": [],
   "source": [
    "violents = {\n",
    "    'crimes': [],\n",
    "    'locations': [],\n",
    "    'ages': [],\n",
    "    'in_cares': []\n",
    "}"
   ]
  },
  {
   "cell_type": "markdown",
   "id": "55ba2029",
   "metadata": {},
   "source": [
    "`violents` is a *dictionary* which holds four separate lists. Each will contain just the violent suspect data for each feature (type of $X$). "
   ]
  },
  {
   "cell_type": "code",
   "execution_count": 60,
   "id": "ba89f898",
   "metadata": {},
   "outputs": [],
   "source": [
    "for suspect, is_violent in zip(X, y):\n",
    "    if is_violent:\n",
    "        violents['crimes'].append(suspect[0]) # number of crimes\n",
    "        violents['locations'].append(suspect[1]) # location\n",
    "        violents['ages'].append(suspect[2]) # age\n",
    "        violents['in_cares'].append(suspect[3]) # in_care?"
   ]
  },
  {
   "cell_type": "markdown",
   "id": "ad681f4a",
   "metadata": {},
   "source": [
    "**Q. Modify the loop above, `print()` the `suspect`'s details.**"
   ]
  },
  {
   "cell_type": "code",
   "execution_count": 61,
   "id": "b935a5c3",
   "metadata": {},
   "outputs": [
    {
     "name": "stdout",
     "output_type": "stream",
     "text": [
      "VIOLENT\n",
      "(3, 'London', 30, False)\n",
      "VIOLENT\n",
      "(4, 'London', 20, True)\n",
      "NONVIOLENT\n",
      "(0, 'Manchester', 18, True)\n",
      "NONVIOLENT\n",
      "(1, 'Manchester', None, False)\n",
      "NONVIOLENT\n",
      "(2, 'Manchester', 50, False)\n"
     ]
    }
   ],
   "source": [
    "for suspect, is_violent in zip(X, y):\n",
    "    if is_violent:\n",
    "        print(\"VIOLENT\")\n",
    "        print(suspect)\n",
    "        violents['crimes'].append(suspect[0]) # number of crimes\n",
    "        violents['locations'].append(suspect[1]) # location\n",
    "        violents['ages'].append(suspect[2]) # age\n",
    "        violents['in_cares'].append(suspect[3]) # in_care?\n",
    "    else: # extra\n",
    "        print(\"NONVIOLENT\")\n",
    "        print(suspect)"
   ]
  },
  {
   "cell_type": "markdown",
   "id": "b821ef08",
   "metadata": {},
   "source": [
    "---"
   ]
  },
  {
   "cell_type": "markdown",
   "id": "11aca502",
   "metadata": {},
   "source": [
    "Aside recall that in a loop the variable being defined, here eg., `suspect` is just each entry in `X`,"
   ]
  },
  {
   "cell_type": "code",
   "execution_count": 62,
   "id": "20fd16ae",
   "metadata": {},
   "outputs": [
    {
     "data": {
      "text/plain": [
       "3"
      ]
     },
     "execution_count": 62,
     "metadata": {},
     "output_type": "execute_result"
    }
   ],
   "source": [
    "suspect = X[0]\n",
    "suspect[0] # the number of crimes of the suspect"
   ]
  },
  {
   "cell_type": "markdown",
   "id": "c9e2d5b9",
   "metadata": {},
   "source": [
    "`suspect[0]` is the first entry, *in*, the first entry of `X`, ie., the number of crimes."
   ]
  },
  {
   "cell_type": "code",
   "execution_count": 63,
   "id": "871b8738",
   "metadata": {},
   "outputs": [
    {
     "data": {
      "text/plain": [
       "(3, 'London', 30, False)"
      ]
     },
     "execution_count": 63,
     "metadata": {},
     "output_type": "execute_result"
    }
   ],
   "source": [
    "X[0]"
   ]
  },
  {
   "cell_type": "markdown",
   "id": "734e56d7",
   "metadata": {},
   "source": [
    "---"
   ]
  },
  {
   "cell_type": "markdown",
   "id": "32b434a6",
   "metadata": {},
   "source": [
    "`violents` now contains just the right data,"
   ]
  },
  {
   "cell_type": "code",
   "execution_count": 64,
   "id": "b6b321be",
   "metadata": {},
   "outputs": [
    {
     "data": {
      "text/plain": [
       "{'crimes': [3, 4, 3, 4],\n",
       " 'locations': ['London', 'London', 'London', 'London'],\n",
       " 'ages': [30, 20, 30, 20],\n",
       " 'in_cares': [False, True, False, True]}"
      ]
     },
     "execution_count": 64,
     "metadata": {},
     "output_type": "execute_result"
    }
   ],
   "source": [
    "violents"
   ]
  },
  {
   "cell_type": "code",
   "execution_count": 65,
   "id": "efcd90e5",
   "metadata": {},
   "outputs": [],
   "source": [
    "from statistics import mode"
   ]
  },
  {
   "cell_type": "markdown",
   "id": "14852d3e",
   "metadata": {},
   "source": [
    "These are still not good weights, as the `mode()` is some text -- and the `mean()`s all have different sizes. "
   ]
  },
  {
   "cell_type": "code",
   "execution_count": 66,
   "id": "dc29960f",
   "metadata": {},
   "outputs": [
    {
     "name": "stdout",
     "output_type": "stream",
     "text": [
      "3.5\n",
      "London\n",
      "25\n",
      "0.5\n"
     ]
    }
   ],
   "source": [
    "print(mean(violents['crimes']))\n",
    "print(mode(violents['locations']))\n",
    "print(mean(violents['ages']))\n",
    "print(mean(violents['in_cares']))\n"
   ]
  },
  {
   "cell_type": "code",
   "execution_count": 69,
   "id": "191bab02",
   "metadata": {},
   "outputs": [
    {
     "data": {
      "text/plain": [
       "[3, 4, 3, 4]"
      ]
     },
     "execution_count": 69,
     "metadata": {},
     "output_type": "execute_result"
    }
   ],
   "source": [
    "violents['crimes']"
   ]
  },
  {
   "cell_type": "markdown",
   "id": "64662907",
   "metadata": {},
   "source": [
    "**Q. Import the `stdev` function from `statistics` and `print()` the standard deviation of the violent suspect's crimes, ages and in_cares.**"
   ]
  },
  {
   "cell_type": "code",
   "execution_count": 70,
   "id": "bac22e6b",
   "metadata": {},
   "outputs": [
    {
     "data": {
      "text/plain": [
       "0.5773502691896257"
      ]
     },
     "execution_count": 70,
     "metadata": {},
     "output_type": "execute_result"
    }
   ],
   "source": [
    "from statistics import stdev\n",
    "\n",
    "stdev(violents['crimes'])"
   ]
  },
  {
   "cell_type": "markdown",
   "id": "3051d4fb",
   "metadata": {},
   "source": [
    "What would a uniform score be?"
   ]
  },
  {
   "cell_type": "code",
   "execution_count": 97,
   "id": "26a725ef",
   "metadata": {},
   "outputs": [
    {
     "data": {
      "text/plain": [
       "[(3, 'London', 30, False),\n",
       " (4, 'London', 20, True),\n",
       " (0, 'Manchester', 18, True),\n",
       " (1, 'Manchester', None, False),\n",
       " (2, 'Manchester', 50, False)]"
      ]
     },
     "execution_count": 97,
     "metadata": {},
     "output_type": "execute_result"
    }
   ],
   "source": [
    "X"
   ]
  },
  {
   "cell_type": "markdown",
   "id": "084a19f7",
   "metadata": {},
   "source": [
    "Let's rescale them,"
   ]
  },
  {
   "cell_type": "markdown",
   "id": "8b3feadd",
   "metadata": {},
   "source": [
    "* Crimes are on the scale, aprox. `0 to 10`\n",
    "* Ages, 0 to 100\n",
    "    * /10  puts it on `0 to 10`\n",
    "* In Care just 0, 1\n",
    "    * `*10` puts it on `0 to 10`"
   ]
  },
  {
   "cell_type": "code",
   "execution_count": 98,
   "id": "6d9402e8",
   "metadata": {},
   "outputs": [
    {
     "name": "stdout",
     "output_type": "stream",
     "text": [
      "3.5\n",
      "London\n",
      "2.5\n",
      "5.0\n"
     ]
    }
   ],
   "source": [
    "print(mean(violents['crimes']))\n",
    "print(mode(violents['locations']))\n",
    "print(mean(violents['ages'])/10)\n",
    "print(10 * mean(violents['in_cares']))\n"
   ]
  },
  {
   "cell_type": "markdown",
   "id": "ea231462",
   "metadata": {},
   "source": [
    "We can't multiply by a location...\n",
    "\n",
    "Let's compare the suspect location to the `mode()` of all violent-suspect locations,"
   ]
  },
  {
   "cell_type": "code",
   "execution_count": 100,
   "id": "56b4883d",
   "metadata": {},
   "outputs": [
    {
     "data": {
      "text/plain": [
       "False"
      ]
     },
     "execution_count": 100,
     "metadata": {},
     "output_type": "execute_result"
    }
   ],
   "source": [
    "\"Manchester\" == mode(violents['locations'])"
   ]
  },
  {
   "cell_type": "markdown",
   "id": "d5a4bc14",
   "metadata": {},
   "source": [
    "Since `False` is `0` and `True` is `1`, -- we can just multiply by `10`, "
   ]
  },
  {
   "cell_type": "code",
   "execution_count": 105,
   "id": "43a84344",
   "metadata": {},
   "outputs": [
    {
     "data": {
      "text/plain": [
       "0"
      ]
     },
     "execution_count": 105,
     "metadata": {},
     "output_type": "execute_result"
    }
   ],
   "source": [
    "10 * (\"Manchester\" == mode(violents['locations']))"
   ]
  },
  {
   "cell_type": "code",
   "execution_count": 102,
   "id": "8cc85fcb",
   "metadata": {},
   "outputs": [
    {
     "data": {
      "text/plain": [
       "10"
      ]
     },
     "execution_count": 102,
     "metadata": {},
     "output_type": "execute_result"
    }
   ],
   "source": [
    "10 * (\"London\" == mode(violents['locations']))"
   ]
  },
  {
   "cell_type": "markdown",
   "id": "ae36b7d2",
   "metadata": {},
   "source": [
    "##### The Final Score"
   ]
  },
  {
   "cell_type": "code",
   "execution_count": 72,
   "id": "cda9860b",
   "metadata": {},
   "outputs": [],
   "source": [
    "score = {\n",
    "    'crime'   : mean(violents['crimes']),\n",
    "    'location': mode(violents['locations']),\n",
    "    'age'     : mean(violents['ages'])/10,\n",
    "    'in_care' : 10 * mean(violents['in_cares'])\n",
    "}\n"
   ]
  },
  {
   "cell_type": "markdown",
   "id": "f45761f9",
   "metadata": {},
   "source": [
    "Let's use this to compute a score for a new suspect,"
   ]
  },
  {
   "cell_type": "code",
   "execution_count": 73,
   "id": "bdf20600",
   "metadata": {},
   "outputs": [],
   "source": [
    "new_suspect = (2, \"Manchester\", 23, True)"
   ]
  },
  {
   "cell_type": "code",
   "execution_count": 74,
   "id": "590df3cd",
   "metadata": {},
   "outputs": [],
   "source": [
    "new_suspect_score = ( \n",
    "    new_suspect[0] * score['crime'] +\n",
    "    new_suspect[2] * score['age'] + \n",
    "    new_suspect[3] * score['in_care'] + \n",
    "    \n",
    "    10 * ( new_suspect[1] == score['location'])\n",
    ")"
   ]
  },
  {
   "cell_type": "markdown",
   "id": "9455f8d7",
   "metadata": {},
   "source": [
    "**Q. `print()` each part of the score for this `new_suspect` ie., their crimes score, their ages score, etc.**"
   ]
  },
  {
   "cell_type": "code",
   "execution_count": 77,
   "id": "50cf858d",
   "metadata": {},
   "outputs": [
    {
     "name": "stdout",
     "output_type": "stream",
     "text": [
      "SCORES\n",
      "Crime 7.0\n",
      "Age 57.5\n",
      "Care 5.0\n",
      "Location 0\n"
     ]
    }
   ],
   "source": [
    "print(\"SCORES\")\n",
    "print(\"Crime\",    new_suspect[0] * score['crime'] )\n",
    "print(\"Age\",    new_suspect[2] * score['age']  )\n",
    "print(\"Care\",    new_suspect[3] * score['in_care']  )\n",
    "    \n",
    "print(\"Location\",    10 * ( new_suspect[1] == score['location']) )\n"
   ]
  },
  {
   "cell_type": "code",
   "execution_count": 120,
   "id": "5885240d",
   "metadata": {
    "scrolled": true
   },
   "outputs": [
    {
     "data": {
      "text/plain": [
       "69.5"
      ]
     },
     "execution_count": 120,
     "metadata": {},
     "output_type": "execute_result"
    }
   ],
   "source": [
    "new_suspect_score"
   ]
  },
  {
   "cell_type": "markdown",
   "id": "e695258b",
   "metadata": {},
   "source": [
    "We predict they are violent if they score exceeds some cutoff, "
   ]
  },
  {
   "cell_type": "code",
   "execution_count": 118,
   "id": "1de2500d",
   "metadata": {},
   "outputs": [
    {
     "name": "stdout",
     "output_type": "stream",
     "text": [
      "NON_VIOLENT\n"
     ]
    }
   ],
   "source": [
    "cutoff = 100 # we can derive this from the data + judgement\n",
    "\n",
    "if new_suspect_score > cutoff:\n",
    "    print(\"VIOLENT\")\n",
    "else:\n",
    "    print(\"NON_VIOLENT\")"
   ]
  },
  {
   "cell_type": "markdown",
   "id": "12ecb311",
   "metadata": {},
   "source": [
    "Aside: we can change the cutoff to be more \"sensitive\" or less to the risk of violence. "
   ]
  },
  {
   "cell_type": "markdown",
   "id": "598d0746",
   "metadata": {},
   "source": [
    "**Q. Reflect on this problem. We started with $X$ features of crimes and $y$, whether the  offender was violent. We used averages over $X$ partitioned by $y$ to compute a score -- and used this score to classify whether a new suspect was violent. What are the benefits/flaws of such an approach?**"
   ]
  },
  {
   "cell_type": "markdown",
   "id": "98c80876",
   "metadata": {},
   "source": [
    "#### Benefit: Informative\n",
    "\n",
    "We use knowbable information which *does* seem to related to whether people are violent. We are able to capture some measure which helps us make a deicision. "
   ]
  },
  {
   "cell_type": "markdown",
   "id": "e4f33082",
   "metadata": {},
   "source": [
    "#### Problem: Irrelevant\n",
    "\n",
    "This measure *isnt* genuinely informative if $X$ is \"irrelvant\" to $y$  (eg., non-causal) -- we need to know whether the measures here are accidents or meaningful. \n",
    "\n",
    "\n",
    "#### Problem: Ethically Wrong & Irrelevant\n",
    "\n",
    "Eg., It is likely that locations correlated with eg., areas of *over-policing*. And so it is unclear whether location data accurately captures crime rates. "
   ]
  },
  {
   "cell_type": "markdown",
   "id": "cf1ec342",
   "metadata": {},
   "source": [
    "#### Problem: Encoding & Care"
   ]
  },
  {
   "cell_type": "markdown",
   "id": "cb44d505",
   "metadata": {},
   "source": [
    "The formula for care converts a boolean (0, 1) into a number by multiplying by 10, "
   ]
  },
  {
   "cell_type": "code",
   "execution_count": 82,
   "id": "04a3b68a",
   "metadata": {},
   "outputs": [
    {
     "data": {
      "text/plain": [
       "(3, 'London', 30, False)"
      ]
     },
     "execution_count": 82,
     "metadata": {},
     "output_type": "execute_result"
    }
   ],
   "source": [
    "suspect = X[0]\n",
    "suspect"
   ]
  },
  {
   "cell_type": "code",
   "execution_count": 83,
   "id": "ecf9ab0b",
   "metadata": {},
   "outputs": [
    {
     "data": {
      "text/plain": [
       "0"
      ]
     },
     "execution_count": 83,
     "metadata": {},
     "output_type": "execute_result"
    }
   ],
   "source": [
    "10 * suspect[-1]"
   ]
  },
  {
   "cell_type": "markdown",
   "id": "65d7d981",
   "metadata": {},
   "source": [
    "Any means of representing a category (care) as a number is always quite abitary. But... we could investigate better ways to do it!\n",
    "\n",
    "Consider here, eg., being in care has a \"0 or BIG\" boost which can have a disproportionate impact on offenders near the threshold. "
   ]
  },
  {
   "cell_type": "markdown",
   "id": "28d80469",
   "metadata": {},
   "source": [
    "#### Problem: Population Size & Choice\n",
    "\n",
    "* We require more information/data to improve score\n",
    "* More features/data "
   ]
  },
  {
   "cell_type": "markdown",
   "id": "91abff69",
   "metadata": {},
   "source": [
    "---"
   ]
  },
  {
   "cell_type": "markdown",
   "id": "7ea9ec3a",
   "metadata": {},
   "source": [
    "## Stretch Questions\n",
    "\n",
    "Learners with an existing background in this area...\n",
    "\n",
    "1. Create a new notebook .\n",
    "2. Choose a different problem domain.\n",
    "3. Consider a dataset of features $X$, targets $y$ .\n",
    "4. Produce a score-based classification system for your own dataset. \n",
    "\n",
    "Eg. Health, Sleep Quality, X = ...(HR, BP, Hours), y = [GOOD, BAD, OK]... .\n",
    "\n",
    "\n",
    "\n",
    "EXTRA: revise the scoring system to use `Counter` (see below). "
   ]
  },
  {
   "cell_type": "markdown",
   "id": "434cba58",
   "metadata": {},
   "source": [
    "### Appendix\n",
    "\n",
    "\n",
    "There is a `Counter` utility in python which will process a dataset and produce a dictionary whose keys are the *unqiue* elements of your dataset and whose values are their counts.\n",
    "\n",
    "You could use to score the location rather than using just the mode. \n"
   ]
  },
  {
   "cell_type": "code",
   "execution_count": 121,
   "id": "98cdc857",
   "metadata": {},
   "outputs": [],
   "source": [
    "from collections import Counter"
   ]
  },
  {
   "cell_type": "code",
   "execution_count": 122,
   "id": "53674f5e",
   "metadata": {},
   "outputs": [
    {
     "data": {
      "text/plain": [
       "Counter({'London': 2, 'Manchester': 1, 'Liverpool': 1})"
      ]
     },
     "execution_count": 122,
     "metadata": {},
     "output_type": "execute_result"
    }
   ],
   "source": [
    "Counter([\"London\", \"London\", \"Manchester\", \"Liverpool\"])"
   ]
  }
 ],
 "metadata": {
  "kernelspec": {
   "display_name": "Python 3.9",
   "language": "python",
   "name": "python3"
  },
  "language_info": {
   "codemirror_mode": {
    "name": "ipython",
    "version": 3
   },
   "file_extension": ".py",
   "mimetype": "text/x-python",
   "name": "python",
   "nbconvert_exporter": "python",
   "pygments_lexer": "ipython3",
   "version": "3.9.6"
  }
 },
 "nbformat": 4,
 "nbformat_minor": 5
}
