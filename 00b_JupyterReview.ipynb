{
 "cells": [
  {
   "cell_type": "markdown",
   "metadata": {
    "slideshow": {
     "slide_type": "slide"
    }
   },
   "source": [
    "# Python for Data Science & Analysis \n",
    "## Notes 1.0, Jupyter"
   ]
  },
  {
   "cell_type": "markdown",
   "metadata": {
    "slideshow": {
     "slide_type": "slide"
    }
   },
   "source": [
    "---\n",
    "### Objectives\n",
    "* Start jupyter notebook\n",
    "* Create a new notebook\n",
    "* Rename a notebook\n",
    "* Add a text cell\n",
    "* Add a code cell\n",
    "* Run cells\n",
    "---"
   ]
  },
  {
   "cell_type": "markdown",
   "metadata": {
    "slideshow": {
     "slide_type": "slide"
    }
   },
   "source": [
    "## What is Anaconda?"
   ]
  },
  {
   "cell_type": "markdown",
   "metadata": {
    "slideshow": {
     "slide_type": "fragment"
    }
   },
   "source": [
    "Anaconda is a collection of python packages, programms and other software for data analysis & data science."
   ]
  },
  {
   "cell_type": "markdown",
   "metadata": {
    "slideshow": {
     "slide_type": "fragment"
    }
   },
   "source": [
    "## What is jupyter notebook?"
   ]
  },
  {
   "cell_type": "markdown",
   "metadata": {
    "slideshow": {
     "slide_type": "fragment"
    }
   },
   "source": [
    "A notebook is a documentation or commentary-first style of programming, where the key elements are explanations & comments. The code is less important, and often only small amounts. "
   ]
  },
  {
   "cell_type": "markdown",
   "metadata": {
    "slideshow": {
     "slide_type": "slide"
    }
   },
   "source": [
    "## How do I start Anaconda?"
   ]
  },
  {
   "cell_type": "markdown",
   "metadata": {
    "slideshow": {
     "slide_type": "fragment"
    }
   },
   "source": [
    "Start Menu > Anaconda Navigator"
   ]
  },
  {
   "cell_type": "markdown",
   "metadata": {
    "slideshow": {
     "slide_type": "fragment"
    }
   },
   "source": [
    "## How do I start jupyter notebook?"
   ]
  },
  {
   "cell_type": "markdown",
   "metadata": {
    "slideshow": {
     "slide_type": "fragment"
    }
   },
   "source": [
    "In Anaconda Navigator, press `LAUNCH` underneath the jupyter notebook icon...\n",
    "\n",
    "<img src=images/jupyter/jupyter.png width=300px/>"
   ]
  },
  {
   "cell_type": "markdown",
   "metadata": {
    "slideshow": {
     "slide_type": "slide"
    }
   },
   "source": [
    "## How do I use the file browser?"
   ]
  },
  {
   "cell_type": "markdown",
   "metadata": {
    "slideshow": {
     "slide_type": "fragment"
    }
   },
   "source": [
    "Jupyter notebook starts with a file browser that displays files on your system. \n",
    "\n",
    "eg., browse to your documents folder in jupyter."
   ]
  },
  {
   "cell_type": "markdown",
   "metadata": {
    "slideshow": {
     "slide_type": "slide"
    }
   },
   "source": [
    "## How do I create notebooks?"
   ]
  },
  {
   "cell_type": "markdown",
   "metadata": {
    "slideshow": {
     "slide_type": "fragment"
    }
   },
   "source": [
    "In your documents folder, go to the `NEW` button, and press `Python3`."
   ]
  },
  {
   "cell_type": "markdown",
   "metadata": {
    "slideshow": {
     "slide_type": "-"
    }
   },
   "source": [
    "<img src=images/jupyter/newnotebook.png width=700px/>"
   ]
  },
  {
   "cell_type": "markdown",
   "metadata": {
    "slideshow": {
     "slide_type": "fragment"
    }
   },
   "source": [
    "Jupyter will create a new notebook called `Untitled`."
   ]
  },
  {
   "cell_type": "markdown",
   "metadata": {
    "slideshow": {
     "slide_type": "slide"
    }
   },
   "source": [
    "## How do I rename a notebook?"
   ]
  },
  {
   "cell_type": "markdown",
   "metadata": {
    "slideshow": {
     "slide_type": "fragment"
    }
   },
   "source": [
    "Click on the title and a renaming box will appear, choose, eg., `MyNotes`. "
   ]
  },
  {
   "cell_type": "markdown",
   "metadata": {
    "slideshow": {
     "slide_type": "fragment"
    }
   },
   "source": [
    "<img src=images/jupyter/rename.png width=500px />"
   ]
  },
  {
   "cell_type": "markdown",
   "metadata": {
    "slideshow": {
     "slide_type": "slide"
    }
   },
   "source": [
    "## How do I add and modify cells?"
   ]
  },
  {
   "cell_type": "markdown",
   "metadata": {
    "slideshow": {
     "slide_type": "fragment"
    }
   },
   "source": [
    "### command mode: ESC (blue bar)\n",
    "- `arrows` move around notebook\n",
    "- `m` -- markdown / text cell\n",
    "- `y` -- code cell / python cell\n",
    "- `a` -- insert cell above\n",
    "- `b` -- insert cell below\n",
    "- `dd` -- delete cell\n",
    "- `z` -- undo delete\n",
    "- `CTRL+ENTER` to run\n",
    "- `SHITT+ENTER` to run & move one cell below\n",
    "    "
   ]
  },
  {
   "cell_type": "markdown",
   "metadata": {
    "slideshow": {
     "slide_type": "slide"
    }
   },
   "source": [
    "## How do I edit the contents of cells?"
   ]
  },
  {
   "cell_type": "markdown",
   "metadata": {
    "slideshow": {
     "slide_type": "fragment"
    }
   },
   "source": [
    "### edit mode:  ENTER (green bar)\n",
    "- type\n",
    "- `arrows` to move around text\n",
    "- `CTRL+ENTER` run cell\n",
    "- `SHIFT+ENTER` run cell & move one cell below"
   ]
  },
  {
   "cell_type": "markdown",
   "metadata": {
    "slideshow": {
     "slide_type": "slide"
    }
   },
   "source": [
    "## How do I add python code to a notebook?"
   ]
  },
  {
   "cell_type": "markdown",
   "metadata": {
    "slideshow": {
     "slide_type": "fragment"
    }
   },
   "source": [
    "Add a cell (eg., press `b`) and press `ENTER` to edit..."
   ]
  },
  {
   "cell_type": "code",
   "execution_count": 1,
   "metadata": {
    "slideshow": {
     "slide_type": "fragment"
    }
   },
   "outputs": [
    {
     "name": "stdout",
     "output_type": "stream",
     "text": [
      "4\n"
     ]
    }
   ],
   "source": [
    "print(2 ** 2)\n"
   ]
  },
  {
   "cell_type": "markdown",
   "metadata": {
    "slideshow": {
     "slide_type": "fragment"
    }
   },
   "source": [
    "## How do I run a python code cell?"
   ]
  },
  {
   "cell_type": "markdown",
   "metadata": {
    "slideshow": {
     "slide_type": "fragment"
    }
   },
   "source": [
    "Press `CTRL + ENTER` or the <i class=\"fa-step-forward fa\"></i> RUN button"
   ]
  },
  {
   "cell_type": "markdown",
   "metadata": {
    "slideshow": {
     "slide_type": "slide"
    }
   },
   "source": [
    "## What happens when I run a code cell in jupyter?\n",
    "\n",
    "Jupyter always `print()`s the **last line...**"
   ]
  },
  {
   "cell_type": "code",
   "execution_count": 2,
   "metadata": {
    "slideshow": {
     "slide_type": "fragment"
    }
   },
   "outputs": [
    {
     "data": {
      "text/plain": [
       "5"
      ]
     },
     "execution_count": 2,
     "metadata": {},
     "output_type": "execute_result"
    }
   ],
   "source": [
    "5"
   ]
  },
  {
   "cell_type": "markdown",
   "metadata": {
    "slideshow": {
     "slide_type": "fragment"
    }
   },
   "source": [
    "In an ordinary python program, you have `print()` everything you wish to show on the screen. "
   ]
  },
  {
   "cell_type": "markdown",
   "metadata": {
    "slideshow": {
     "slide_type": "slide"
    }
   },
   "source": [
    "## How do I add a text cell?"
   ]
  },
  {
   "cell_type": "markdown",
   "metadata": {
    "slideshow": {
     "slide_type": "fragment"
    }
   },
   "source": [
    "Add a cell, change type to markdown"
   ]
  },
  {
   "cell_type": "markdown",
   "metadata": {
    "slideshow": {
     "slide_type": "fragment"
    }
   },
   "source": [
    "<img src=images/jupyter/textcell.png width=500px/>"
   ]
  },
  {
   "cell_type": "markdown",
   "metadata": {
    "slideshow": {
     "slide_type": "fragment"
    }
   },
   "source": [
    "or press `m` in COMMAND MODE."
   ]
  },
  {
   "cell_type": "markdown",
   "metadata": {
    "slideshow": {
     "slide_type": "slide"
    }
   },
   "source": [
    "## How do I get help?"
   ]
  },
  {
   "cell_type": "markdown",
   "metadata": {
    "slideshow": {
     "slide_type": "fragment"
    }
   },
   "source": [
    "* `command?`\n",
    "* `command??`\n",
    "* `help(command)`"
   ]
  },
  {
   "cell_type": "markdown",
   "metadata": {
    "slideshow": {
     "slide_type": "slide"
    }
   },
   "source": [
    "## How do I get live feedback on my code?\n",
    "\n",
    "`SHIFT-TAB` provides live autocomplete... "
   ]
  },
  {
   "cell_type": "code",
   "execution_count": 3,
   "metadata": {
    "slideshow": {
     "slide_type": "fragment"
    }
   },
   "outputs": [],
   "source": [
    "import pandas as pd\n",
    "import seaborn as sns"
   ]
  },
  {
   "cell_type": "markdown",
   "metadata": {
    "slideshow": {
     "slide_type": "fragment"
    }
   },
   "source": [
    "    pd.Da"
   ]
  },
  {
   "cell_type": "markdown",
   "metadata": {
    "slideshow": {
     "slide_type": "-"
    }
   },
   "source": [
    "<img src=images/jupyter/intellisense.png width=300px/>"
   ]
  },
  {
   "cell_type": "markdown",
   "metadata": {
    "slideshow": {
     "slide_type": "slide"
    }
   },
   "source": [
    "## How do I find the arguments of a function?"
   ]
  },
  {
   "cell_type": "code",
   "execution_count": 4,
   "metadata": {
    "slideshow": {
     "slide_type": "fragment"
    }
   },
   "outputs": [],
   "source": [
    "import statistics\n",
    "statistics.mean?\n"
   ]
  },
  {
   "cell_type": "markdown",
   "metadata": {
    "slideshow": {
     "slide_type": "slide"
    }
   },
   "source": [
    "## How do I stop jupyter from printing the last line of a cell?\n",
    "\n",
    "Use `;`"
   ]
  },
  {
   "cell_type": "code",
   "execution_count": 5,
   "metadata": {
    "slideshow": {
     "slide_type": "fragment"
    }
   },
   "outputs": [
    {
     "data": {
      "text/plain": [
       "5"
      ]
     },
     "execution_count": 5,
     "metadata": {},
     "output_type": "execute_result"
    }
   ],
   "source": [
    "5\n"
   ]
  },
  {
   "cell_type": "code",
   "execution_count": 6,
   "metadata": {
    "slideshow": {
     "slide_type": "fragment"
    }
   },
   "outputs": [],
   "source": [
    "5;\n"
   ]
  },
  {
   "cell_type": "markdown",
   "metadata": {
    "slideshow": {
     "slide_type": "skip"
    }
   },
   "source": [
    "## EXTRA: How do I see the source code of a function?"
   ]
  },
  {
   "cell_type": "code",
   "execution_count": 7,
   "metadata": {
    "slideshow": {
     "slide_type": "skip"
    }
   },
   "outputs": [],
   "source": [
    "import statistics\n",
    "statistics.mean??\n"
   ]
  },
  {
   "cell_type": "markdown",
   "metadata": {
    "slideshow": {
     "slide_type": "slide"
    }
   },
   "source": [
    "## How do I run command line programs within jupyter?"
   ]
  },
  {
   "cell_type": "markdown",
   "metadata": {
    "slideshow": {
     "slide_type": "-"
    }
   },
   "source": [
    "On unix system, `ls`:"
   ]
  },
  {
   "cell_type": "code",
   "execution_count": 8,
   "metadata": {
    "slideshow": {
     "slide_type": "fragment"
    }
   },
   "outputs": [
    {
     "name": "stdout",
     "output_type": "stream",
     "text": [
      "LIVE_01_JupyterReview.ipynb\n",
      "LIVE_312_SQL_CSV.ipynb\n",
      "LIVE_31_SQL.ipynb\n",
      "LIVE_32_Spark.ipynb\n",
      "LIVE_331_Pandas.ipynb\n",
      "LIVE_411_EDA_Pandas.ipynb\n",
      "LIVE_412_EDA_Visuals.ipynb\n",
      "LIVE_413_EDA_Plotly.ipynb\n",
      "LIVE_42_Text.ipynb\n",
      "NHS_Workbook.ipynb\n",
      "QAZNHS2_Overview.ipynb\n",
      "datasets\n",
      "images\n",
      "notes\n",
      "reference\n",
      "titanic.db\n",
      "workbook\n"
     ]
    }
   ],
   "source": [
    "!ls\n"
   ]
  },
  {
   "cell_type": "markdown",
   "metadata": {
    "slideshow": {
     "slide_type": "slide"
    }
   },
   "source": [
    "##   How do I run command line programs within jupyter?"
   ]
  },
  {
   "cell_type": "markdown",
   "metadata": {
    "slideshow": {
     "slide_type": "-"
    }
   },
   "source": [
    "On windows, `dir`:"
   ]
  },
  {
   "cell_type": "code",
   "execution_count": 9,
   "metadata": {
    "slideshow": {
     "slide_type": "fragment"
    }
   },
   "outputs": [
    {
     "name": "stdout",
     "output_type": "stream",
     "text": [
      " Volume in drive D is KUN-D\n",
      " Volume Serial Number is EA49-7B93\n",
      "\n",
      " Directory of D:\\DATA\\QA\\20201029 - znhspython\\20201116 - Data Analysis - KH\n",
      "\n",
      "16/11/2020  11:03    <DIR>          .\n",
      "16/11/2020  11:03    <DIR>          ..\n",
      "16/11/2020  11:02    <DIR>          .ipynb_checkpoints\n",
      "16/11/2020  10:53    <DIR>          datasets\n",
      "16/11/2020  10:53    <DIR>          images\n",
      "16/11/2020  11:03            13,318 LIVE_01_JupyterReview.ipynb\n",
      "12/11/2020  12:03             7,841 LIVE_312_SQL_CSV.ipynb\n",
      "12/11/2020  11:48            34,406 LIVE_31_SQL.ipynb\n",
      "16/11/2020  09:50            23,555 LIVE_32_Spark.ipynb\n",
      "13/11/2020  10:46            69,103 LIVE_331_Pandas.ipynb\n",
      "13/11/2020  11:18            50,595 LIVE_411_EDA_Pandas.ipynb\n",
      "13/11/2020  11:45           197,591 LIVE_412_EDA_Visuals.ipynb\n",
      "13/11/2020  14:34         5,021,192 LIVE_413_EDA_Plotly.ipynb\n",
      "13/11/2020  16:05            28,835 LIVE_42_Text.ipynb\n",
      "13/11/2020  16:05            52,313 NHS_Workbook.ipynb\n",
      "16/11/2020  10:53    <DIR>          notes\n",
      "16/11/2020  09:48             7,637 QAZNHS2_Overview.ipynb\n",
      "16/11/2020  10:53    <DIR>          reference\n",
      "12/11/2020  11:55            12,288 titanic.db\n",
      "16/11/2020  10:53    <DIR>          workbook\n",
      "              12 File(s)      5,518,674 bytes\n",
      "               8 Dir(s)  80,285,663,232 bytes free\n"
     ]
    }
   ],
   "source": [
    "!dir\n"
   ]
  },
  {
   "cell_type": "code",
   "execution_count": 10,
   "metadata": {
    "slideshow": {
     "slide_type": "skip"
    }
   },
   "outputs": [
    {
     "name": "stdout",
     "output_type": "stream",
     "text": [
      "survived,pclass,sex,age,sibsp,parch,fare,embarked,class,who,adult_male,deck,embark_town,alive,alone\n",
      "0,3,male,22.0,1,0,7.25,S,Third,man,True,,Southampton,no,False\n",
      "1,1,female,38.0,1,0,71.2833,C,First,woman,False,C,Cherbourg,yes,False\n",
      "1,3,female,26.0,0,0,7.925,S,Third,woman,False,,Southampton,yes,True\n",
      "1,1,female,35.0,1,0,53.1,S,First,woman,False,C,Southampton,yes,False\n",
      "0,3,male,35.0,0,0,8.05,S,Third,man,True,,Southampton,no,True\n",
      "0,3,male,,0,0,8.4583,Q,Third,man,True,,Queenstown,no,True\n",
      "0,1,male,54.0,0,0,51.8625,S,First,man,True,E,Southampton,no,True\n",
      "0,3,male,2.0,3,1,21.075,S,Third,child,False,,Southampton,no,False\n",
      "1,3,female,27.0,0,2,11.1333,S,Third,woman,False,,Southampton,yes,False\n"
     ]
    }
   ],
   "source": [
    "!head datasets/titanic.csv\n"
   ]
  },
  {
   "cell_type": "markdown",
   "metadata": {
    "slideshow": {
     "slide_type": "slide"
    }
   },
   "source": [
    "## How do I install python packages with jupyter?"
   ]
  },
  {
   "cell_type": "code",
   "execution_count": 11,
   "metadata": {
    "slideshow": {
     "slide_type": "fragment"
    }
   },
   "outputs": [
    {
     "name": "stdout",
     "output_type": "stream",
     "text": [
      "Requirement already satisfied: plotly in c:\\users\\kunal\\anaconda3\\lib\\site-packages (4.10.0)\n",
      "Collecting pyspark\n",
      "  Downloading pyspark-3.0.1.tar.gz (204.2 MB)\n",
      "Requirement already satisfied: six in c:\\users\\kunal\\anaconda3\\lib\\site-packages (from plotly) (1.14.0)\n",
      "Requirement already satisfied: retrying>=1.3.3 in c:\\users\\kunal\\anaconda3\\lib\\site-packages (from plotly) (1.3.3)\n",
      "Collecting py4j==0.10.9\n",
      "  Downloading py4j-0.10.9-py2.py3-none-any.whl (198 kB)\n",
      "Building wheels for collected packages: pyspark\n",
      "  Building wheel for pyspark (setup.py): started\n",
      "  Building wheel for pyspark (setup.py): still running...\n",
      "  Building wheel for pyspark (setup.py): finished with status 'done'\n",
      "  Created wheel for pyspark: filename=pyspark-3.0.1-py2.py3-none-any.whl size=204612248 sha256=1b2290e8f6b057db0a550acca13fe3f96234f9ee0333cab325e9cf9ffca1a6b7\n",
      "  Stored in directory: c:\\users\\kunal\\appdata\\local\\pip\\cache\\wheels\\32\\d6\\81\\b226c0fb07391610277bc3e3fcc50b24bae5040b71d9dba360\n",
      "Successfully built pyspark\n",
      "Installing collected packages: py4j, pyspark\n",
      "Successfully installed py4j-0.10.9 pyspark-3.0.1\n"
     ]
    }
   ],
   "source": [
    "!pip install plotly pyspark\n"
   ]
  },
  {
   "cell_type": "markdown",
   "metadata": {
    "slideshow": {
     "slide_type": "slide"
    }
   },
   "source": [
    "## Exercise (5 min)\n",
    "\n",
    "#### Q1\n",
    "* Download any courseware to your documents folder\n",
    "\n",
    "#### Q2\n",
    "* Create a new notebook\n",
    "* Add a text cell (`b`, `m`)\n",
    "    * set it to contain `# My Notes`\n",
    "    * run it with `CTRL+ENTER`\n",
    "* Add a code cell (`b`)\n",
    "    * containing `print(2 ** 2)`\n",
    "    * run with `CTRL+ENTER`\n",
    "    \n",
    "#### EXTRA: Q3\n",
    "\n",
    "* try `help()` on:\n",
    "    * str.upper\n",
    "    * len\n",
    "* try `?` on:\n",
    "    * str.upper\n",
    "    * str.replace\n",
    "    * ...\n",
    "* try `dir()` on\n",
    "    * \"Michael\"\n",
    "    "
   ]
  }
 ],
 "metadata": {
  "kernelspec": {
   "display_name": "Python 3.9",
   "language": "python",
   "name": "python3"
  },
  "language_info": {
   "codemirror_mode": {
    "name": "ipython",
    "version": 3
   },
   "file_extension": ".py",
   "mimetype": "text/x-python",
   "name": "python",
   "nbconvert_exporter": "python",
   "pygments_lexer": "ipython3",
   "version": "3.9.6"
  }
 },
 "nbformat": 4,
 "nbformat_minor": 4
}
