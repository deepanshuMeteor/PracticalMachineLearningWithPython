{
 "cells": [
  {
   "cell_type": "markdown",
   "id": "dc917ace",
   "metadata": {},
   "source": [
    "# An Introduction to Machine Learning\n",
    "### with a Python Machine Learning Context"
   ]
  },
  {
   "cell_type": "markdown",
   "id": "de0c5947",
   "metadata": {},
   "source": [
    "# Part 1: ML"
   ]
  },
  {
   "cell_type": "markdown",
   "id": "4cf3aa80",
   "metadata": {},
   "source": [
    "##### Review: Probability\n",
    "\n",
    "Recall, the meaning of $P(Q|A)$, is how *confident* we are in a particular answer to a $Q$usestion given particular $A$ssumptions...\n",
    "\n",
    "$$P(Question?|Assumptions)$$"
   ]
  },
  {
   "cell_type": "markdown",
   "id": "aa064368",
   "metadata": {},
   "source": [
    "All probability is conditional, ie., contains assumptions -- but when writing $P(Q)$ we mean \"assuming the relevant background information\" -- ie., we are implicit about the assumptions."
   ]
  },
  {
   "cell_type": "markdown",
   "id": "e668e89b",
   "metadata": {},
   "source": [
    "## What is Machine Learning?"
   ]
  },
  {
   "cell_type": "markdown",
   "id": "79b6583d",
   "metadata": {},
   "source": [
    "* Computational Statitical Inference\n",
    "* Answering/Estimating Probabilities with Alg + (Historical) Data"
   ]
  },
  {
   "cell_type": "markdown",
   "id": "d7b93b0e",
   "metadata": {},
   "source": [
    "* Historical Dataset\n",
    "    * $(X, y)$\n",
    "    * $X$ observable **features**\n",
    "    * $y$ (future) unobservable prediction **target**\n",
    "    \n",
    "    \n",
    "* Goal estimate these:\n",
    "    * $P(C | B)$\n",
    "        * how confident are we in some claim/question about $C$\n",
    "            * given some assumed claim $B$\n",
    "    * $P(Y | X)$\n",
    "        * How probable is it someone is violent ($y$) given we know their characteristics $X$?\n",
    "    * $P(X)$\n",
    "        * What's the most common location (in our dataset)?\n",
    "        * How often are people in care (in our dataset)?"
   ]
  },
  {
   "cell_type": "markdown",
   "id": "c0aa2002",
   "metadata": {},
   "source": [
    "In machine learning the key \"assumption\", A, is an associative statitical model, $\\hat{f}$."
   ]
  },
  {
   "cell_type": "markdown",
   "id": "675678af",
   "metadata": {},
   "source": [
    "Eg., What's the probability that someone is violent ($y$) given known characteristics $X$ and a scoring model $f$ (we drive from averages in the historical data). \n",
    "\n",
    "$P(Y|X, \\hat{f}) = \\hat{f}(X) >= 100 = w_0X_0 + w_1X_2 + \\dots >= 100$"
   ]
  },
  {
   "cell_type": "markdown",
   "id": "0f1af434",
   "metadata": {},
   "source": [
    "Aside: `^` means \"estimate\", `f` some function (\"a relationship\"). "
   ]
  },
  {
   "cell_type": "markdown",
   "id": "6445899a",
   "metadata": {},
   "source": [
    "Recall, using the crimes example, "
   ]
  },
  {
   "cell_type": "code",
   "execution_count": 12,
   "id": "5b1d4f7d",
   "metadata": {},
   "outputs": [],
   "source": [
    "weights = {'crimes' : 3, 'age': 5 } # basically \"the model\""
   ]
  },
  {
   "cell_type": "code",
   "execution_count": 13,
   "id": "94f580a7",
   "metadata": {},
   "outputs": [],
   "source": [
    "newX = (4, 30) # claims about the suspect"
   ]
  },
  {
   "cell_type": "markdown",
   "id": "5dbf4fe8",
   "metadata": {},
   "source": [
    "The probability calculation, "
   ]
  },
  {
   "cell_type": "code",
   "execution_count": 14,
   "id": "1fe08306",
   "metadata": {},
   "outputs": [],
   "source": [
    "Py = (weights['crimes'] * newX[0] + weights['age'] * newX[1]) >= 100"
   ]
  },
  {
   "cell_type": "code",
   "execution_count": 15,
   "id": "0805e18d",
   "metadata": {},
   "outputs": [
    {
     "data": {
      "text/plain": [
       "True"
      ]
     },
     "execution_count": 15,
     "metadata": {},
     "output_type": "execute_result"
    }
   ],
   "source": [
    "Py"
   ]
  },
  {
   "cell_type": "markdown",
   "id": "1e599041",
   "metadata": {},
   "source": [
    "## What types of Machine Learning are there?"
   ]
  },
  {
   "cell_type": "markdown",
   "id": "56539de6",
   "metadata": {},
   "source": [
    "Three major problem categories in Machine Learning are regression, classification and clustering.\n",
    "\n",
    "* Supervised\n",
    "    * \"You have the answers\" \n",
    "        * Both $(X, y)$\n",
    "            * $y$ are the *historical* answers to the question you're asking\n",
    "        * Almost always asking: $P(Y|X)$\n",
    "    * <font color=red>Regression</font>\n",
    "        * $y$ is quantity\n",
    "        * Eg., \n",
    "            * $y \\in [0, 100]$\n",
    "            * predicting eg., age from a height \n",
    "    * <font color=red>Classification</font>\n",
    "        * $y$ is a category (, label)\n",
    "        * Eg., binary classification \n",
    "            * $y \\in \\{True, False\\}$\n",
    "            * Predict Violent|NonViolent \n",
    "* Unsupervised\n",
    "    * <font color=red>Clustering</font>\n",
    "        * There is no $y$, we are not predicting\n",
    "        * We are analysing patterns/groupings in $X$ only \n",
    "            "
   ]
  },
  {
   "cell_type": "markdown",
   "id": "f7d43c9a",
   "metadata": {},
   "source": [
    "#### Example: Films & Ages"
   ]
  },
  {
   "cell_type": "code",
   "execution_count": 19,
   "id": "f89b3464",
   "metadata": {},
   "outputs": [],
   "source": [
    "X = [\n",
    "    (18, 7), # age, film rating\n",
    "    (19, 8),\n",
    "    (21, 9),\n",
    "]"
   ]
  },
  {
   "cell_type": "markdown",
   "id": "a9224801",
   "metadata": {},
   "source": [
    "#### Regression"
   ]
  },
  {
   "cell_type": "markdown",
   "id": "1dc1b613",
   "metadata": {},
   "source": [
    "Predict $y$ which is a quantity,"
   ]
  },
  {
   "cell_type": "code",
   "execution_count": 20,
   "id": "b5028eda",
   "metadata": {},
   "outputs": [],
   "source": [
    "y = [14, 12, 18] # amount spent on sweets"
   ]
  },
  {
   "cell_type": "markdown",
   "id": "0d3a23e0",
   "metadata": {},
   "source": [
    "#### Classification"
   ]
  },
  {
   "cell_type": "markdown",
   "id": "be812a3d",
   "metadata": {},
   "source": [
    "Predict $y$ which is a cateogry,"
   ]
  },
  {
   "cell_type": "code",
   "execution_count": 21,
   "id": "ff1b1eb8",
   "metadata": {},
   "outputs": [],
   "source": [
    "y = [\"Transformers\", \"Transfomers\", \"James Bond\"]"
   ]
  },
  {
   "cell_type": "markdown",
   "id": "6e5d7a2a",
   "metadata": {},
   "source": [
    "* **Clustering** (Unsupervised)"
   ]
  },
  {
   "cell_type": "code",
   "execution_count": 23,
   "id": "ac534cdd",
   "metadata": {},
   "outputs": [],
   "source": [
    "y = None"
   ]
  },
  {
   "cell_type": "markdown",
   "id": "b06e0dbf",
   "metadata": {},
   "source": [
    "## How are machine learning problems solved?"
   ]
  },
  {
   "cell_type": "markdown",
   "id": "a0e75b25",
   "metadata": {},
   "source": [
    "* We have $(X, y)$\n",
    "* We need $\\hat{y} = \\hat{f}(X)$\n",
    "    * $\\hat{f}$ is missing!\n",
    "    \n",
    "    \n",
    "The purpose of a machine learning algorithm is to consider the dataset $(X, y)$ and produce a model $\\hat{f}$ which enables you to compute $y$ from $X$. \n",
    "\n",
    "* Examples of Algorithms\n",
    "    * Simple Linear Regression Algorithm\n",
    "    * $k$ Neartest Neighbors\n",
    "    * Neural Networks\n",
    "    * others...\n",
    "    \n",
    "* Note: they all have the same job!\n",
    "    * $ (X, y) \\rightarrow \\mathcal{Alg} \\rightarrow \\hat{f} $"
   ]
  },
  {
   "cell_type": "markdown",
   "id": "37ae89da",
   "metadata": {},
   "source": [
    "### Example: Simple Linear Regression"
   ]
  },
  {
   "cell_type": "markdown",
   "id": "af34d48d",
   "metadata": {},
   "source": [
    "Predict: graduate salary from university ranking."
   ]
  },
  {
   "cell_type": "code",
   "execution_count": 6,
   "id": "a58bf4ae",
   "metadata": {},
   "outputs": [],
   "source": [
    "X_points = [98, 67, 34, 59, 23]\n",
    "y_salary = [45, 30, 17, 29, 15]"
   ]
  },
  {
   "cell_type": "code",
   "execution_count": 7,
   "id": "3c6f6049",
   "metadata": {},
   "outputs": [
    {
     "data": {
      "text/plain": [
       "<AxesSubplot:>"
      ]
     },
     "execution_count": 7,
     "metadata": {},
     "output_type": "execute_result"
    },
    {
     "data": {
      "image/png": "[encoded data removed]",
      "text/plain": [
       "<Figure size 432x288 with 1 Axes>"
      ]
     },
     "metadata": {
      "needs_background": "light"
     },
     "output_type": "display_data"
    }
   ],
   "source": [
    "%matplotlib inline\n",
    "import seaborn as sns\n",
    "\n",
    "\n",
    "sns.scatterplot(x=X_points, y=y_salary)"
   ]
  },
  {
   "cell_type": "markdown",
   "id": "9727a3a5",
   "metadata": {},
   "source": [
    "We start guessing a line at random, by randomly generating a `slope` and `intercept`, "
   ]
  },
  {
   "cell_type": "code",
   "execution_count": 8,
   "id": "c06d008a",
   "metadata": {},
   "outputs": [],
   "source": [
    "from random import randint\n",
    "\n",
    "slope = randint(-3, 3)\n",
    "intercept = randint(-3, 3)"
   ]
  },
  {
   "cell_type": "markdown",
   "id": "3e0646b9",
   "metadata": {},
   "source": [
    "**Q. Show the `slope` and the `intercept`.**"
   ]
  },
  {
   "cell_type": "code",
   "execution_count": 9,
   "id": "daea9b12",
   "metadata": {},
   "outputs": [
    {
     "name": "stdout",
     "output_type": "stream",
     "text": [
      "1 1\n"
     ]
    }
   ],
   "source": [
    "print(slope, intercept)"
   ]
  },
  {
   "cell_type": "markdown",
   "id": "5c97b1e7",
   "metadata": {},
   "source": [
    "**Q. Define two new ones `slope_small` and `intercept_small` which are the originals divided by 10.**"
   ]
  },
  {
   "cell_type": "code",
   "execution_count": 10,
   "id": "f49db3fb",
   "metadata": {},
   "outputs": [
    {
     "name": "stdout",
     "output_type": "stream",
     "text": [
      "0.1 0.1\n"
     ]
    }
   ],
   "source": [
    "slope_small = slope / 10\n",
    "intercept_small = intercept / 10\n",
    "\n",
    "print(slope_small, intercept_small)"
   ]
  },
  {
   "cell_type": "markdown",
   "id": "569b9391",
   "metadata": {},
   "source": [
    "To compute the predictions using these *parameters* (ie., `slope`, `intercept`), we loop over the original dataset `X` and compute predictions for `y`. "
   ]
  },
  {
   "cell_type": "code",
   "execution_count": 11,
   "id": "ec097a1a",
   "metadata": {},
   "outputs": [],
   "source": [
    "predictions = []\n",
    "for x in X_points:\n",
    "    predictions.append(slope * x + intercept)"
   ]
  },
  {
   "cell_type": "markdown",
   "id": "bf03348a",
   "metadata": {},
   "source": [
    "**Q. Write a loop to compute `predictions_small`, ie., a list of predictons using your `slope_small` and `intercept_small`.**"
   ]
  },
  {
   "cell_type": "code",
   "execution_count": 12,
   "id": "08ca62f9",
   "metadata": {},
   "outputs": [],
   "source": [
    "predictions_small = []\n",
    "\n",
    "for x in X_points:\n",
    "    predictions_small.append(slope_small * x + intercept_small)"
   ]
  },
  {
   "cell_type": "markdown",
   "id": "905c6e9b",
   "metadata": {},
   "source": [
    "Aside, comparing, "
   ]
  },
  {
   "cell_type": "code",
   "execution_count": 15,
   "id": "b2828530",
   "metadata": {},
   "outputs": [
    {
     "name": "stdout",
     "output_type": "stream",
     "text": [
      "[45, 30, 17, 29, 15]\n"
     ]
    }
   ],
   "source": [
    "print(y_salary)"
   ]
  },
  {
   "cell_type": "code",
   "execution_count": 14,
   "id": "5c6a2a8b",
   "metadata": {},
   "outputs": [
    {
     "name": "stdout",
     "output_type": "stream",
     "text": [
      "[9.9, 6.8, 3.5000000000000004, 6.0, 2.4000000000000004]\n"
     ]
    }
   ],
   "source": [
    "print(predictions_small)"
   ]
  },
  {
   "cell_type": "markdown",
   "id": "092dc6b4",
   "metadata": {},
   "source": [
    "We draw both the original $(X, y)$ and our predictions for $y$ ($\\hat{y}$)."
   ]
  },
  {
   "cell_type": "code",
   "execution_count": 45,
   "id": "a6efdd0a",
   "metadata": {},
   "outputs": [
    {
     "data": {
      "text/plain": [
       "<AxesSubplot:>"
      ]
     },
     "execution_count": 45,
     "metadata": {},
     "output_type": "execute_result"
    },
    {
     "data": {
      "image/png": "[encoded data removed]",
      "text/plain": [
       "<Figure size 432x288 with 1 Axes>"
      ]
     },
     "metadata": {
      "needs_background": "light"
     },
     "output_type": "display_data"
    }
   ],
   "source": [
    "sns.scatterplot(x=X_points, y=y_salary)\n",
    "sns.lineplot(x=X_points, y=predictions, color=\"red\")"
   ]
  },
  {
   "cell_type": "markdown",
   "id": "d9d24954",
   "metadata": {},
   "source": [
    "**Q. The code `sns.lineplot(x=xs, y=ys)` adds a line to a graph using `xs` as the $x$ values and `y` as the $y$ values. Add a line of your `predictions_small`.**"
   ]
  },
  {
   "cell_type": "code",
   "execution_count": 17,
   "id": "eff6cbf9",
   "metadata": {},
   "outputs": [
    {
     "data": {
      "text/plain": [
       "<AxesSubplot:>"
      ]
     },
     "execution_count": 17,
     "metadata": {},
     "output_type": "execute_result"
    },
    {
     "data": {
      "image/png": "[encoded data removed]",
      "text/plain": [
       "<Figure size 432x288 with 1 Axes>"
      ]
     },
     "metadata": {
      "needs_background": "light"
     },
     "output_type": "display_data"
    }
   ],
   "source": [
    "sns.scatterplot(x=X_points, y=y_salary)\n",
    "sns.lineplot(x=X_points, y=predictions, color=\"red\")\n",
    "sns.lineplot(x=X_points, y=predictions_small, color=\"green\")"
   ]
  },
  {
   "cell_type": "markdown",
   "id": "949b918d",
   "metadata": {},
   "source": [
    "##### Trying lots"
   ]
  },
  {
   "cell_type": "markdown",
   "id": "d3146c12",
   "metadata": {},
   "source": [
    "Rather than try one pair of parameters, we can try, eg., `3 * 3`, "
   ]
  },
  {
   "cell_type": "code",
   "execution_count": 24,
   "id": "ca5812c3",
   "metadata": {},
   "outputs": [
    {
     "data": {
      "image/png": "[encoded data removed]",
      "text/plain": [
       "<Figure size 432x288 with 1 Axes>"
      ]
     },
     "metadata": {
      "needs_background": "light"
     },
     "output_type": "display_data"
    }
   ],
   "source": [
    "from random import randint\n",
    "\n",
    "\n",
    "# we dont use `slope_attempt`, its just a counter of our attempts\n",
    "for slope_attempt in range(0, 3):\n",
    "    slope = randint(-10, 10)/10 # -1.0, -0.9, .. to 1    \n",
    "\n",
    "    for intercept_attempt in range(0, 3):\n",
    "        intercept = randint(-10, 10)/10 \n",
    "\n",
    "        predictions = []\n",
    "        for x in X_points:\n",
    "            predictions.append(slope * x + intercept)\n",
    "\n",
    "        sns.scatterplot(x=X_points, y=y_salary, color=\"red\")\n",
    "        sns.lineplot(x=X_points, y=predictions)"
   ]
  },
  {
   "cell_type": "markdown",
   "id": "da5e60f2",
   "metadata": {},
   "source": [
    "**Q. Run the code above a few times until a line happens to \"look good\".**"
   ]
  },
  {
   "cell_type": "markdown",
   "id": "2b2ff000",
   "metadata": {},
   "source": [
    "**Q. Show the `predictions` and the original `y`.**"
   ]
  },
  {
   "cell_type": "code",
   "execution_count": 25,
   "id": "7b9692f4",
   "metadata": {},
   "outputs": [
    {
     "name": "stdout",
     "output_type": "stream",
     "text": [
      "[59.099999999999994, 40.49999999999999, 20.7, 35.699999999999996, 14.1]\n"
     ]
    }
   ],
   "source": [
    "print(predictions)"
   ]
  },
  {
   "cell_type": "code",
   "execution_count": 26,
   "id": "7364fba7",
   "metadata": {},
   "outputs": [
    {
     "name": "stdout",
     "output_type": "stream",
     "text": [
      "[45, 30, 17, 29, 15]\n"
     ]
    }
   ],
   "source": [
    "print(y_salary)"
   ]
  },
  {
   "cell_type": "markdown",
   "id": "d5468df5",
   "metadata": {},
   "source": [
    "**Q. By importing `mean`, `stdev` from statitics show the mean/stdev of the `predictions` and the `y`. Are they close?**"
   ]
  },
  {
   "cell_type": "code",
   "execution_count": 27,
   "id": "b0bb582b",
   "metadata": {},
   "outputs": [],
   "source": [
    "from statistics import mean, stdev"
   ]
  },
  {
   "cell_type": "code",
   "execution_count": 28,
   "id": "35a99f9b",
   "metadata": {},
   "outputs": [
    {
     "data": {
      "text/plain": [
       "(34.019999999999996, 17.663861412499813)"
      ]
     },
     "execution_count": 28,
     "metadata": {},
     "output_type": "execute_result"
    }
   ],
   "source": [
    "mean(predictions), stdev(predictions)"
   ]
  },
  {
   "cell_type": "code",
   "execution_count": 29,
   "id": "1ff6d575",
   "metadata": {},
   "outputs": [
    {
     "data": {
      "text/plain": [
       "(27.2, 12.049896265113654)"
      ]
     },
     "execution_count": 29,
     "metadata": {},
     "output_type": "execute_result"
    }
   ],
   "source": [
    "mean(y_salary), stdev(y_salary)"
   ]
  },
  {
   "cell_type": "markdown",
   "id": "a4deff5a",
   "metadata": {},
   "source": [
    "#### Choosing the best line"
   ]
  },
  {
   "cell_type": "markdown",
   "id": "5de1f3d5",
   "metadata": {},
   "source": [
    "We try $100$ slopes, and for each slope, $100$ intercepts *at random* in the interval $[-1.0, 1.0]$.\n",
    "\n",
    "For each attempt we loop through each historical $X$ and compute a prediction $\\hat{y}$ using the guessed `slope` and `intercept`. In order to choose the best parameters we also track the errors.\n",
    "\n",
    "The errors are computed by comparing the prediction $\\hat{y}$ with the historical observation $y$ (from the historical dataset `y_salary`). \n",
    "\n",
    "To compute the error we use `abs()` which ignores the sign, ie., whether the predictions are above/below the historical data. Without this, the \"best line\" is always the most negative. \n",
    "\n",
    "Having computed the predictions using `slope` and `intercept`, *and* having computed the error using $y$, we remember the *total error* and which parameters gave that error. "
   ]
  },
  {
   "cell_type": "code",
   "execution_count": 30,
   "id": "eb922dca",
   "metadata": {},
   "outputs": [],
   "source": [
    "from random import randint\n",
    "\n",
    "\n",
    "attempts = []\n",
    "for slope_attempt in range(0, 100):\n",
    "    slope = randint(-10, 10)/10    \n",
    "\n",
    "    for intercept_attempt in range(0, 100):\n",
    "        intercept = randint(-10, 10)/10 \n",
    "\n",
    "        predictions = []\n",
    "        errors = []\n",
    "        for x, y in zip(X_points, y_salary):\n",
    "            yhat = slope * x + intercept  # NOTE: only using x\n",
    "            \n",
    "            errors.append( abs(y - yhat) ) #NOTE: use historical y to judge error\n",
    "            predictions.append(yhat)\n",
    "            \n",
    "        attempts.append(\n",
    "            (sum(errors), (slope, intercept))\n",
    "        )"
   ]
  },
  {
   "cell_type": "markdown",
   "id": "bea914a5",
   "metadata": {},
   "source": [
    "The `min()` function provides the element in a dataset which has the minimum first entry in the element. Here the first entry is the error, and the second entry is the parameters.\n",
    "\n",
    "So `min(attempts)` gives us the best parameters,"
   ]
  },
  {
   "cell_type": "code",
   "execution_count": 31,
   "id": "257ae50c",
   "metadata": {},
   "outputs": [
    {
     "data": {
      "text/plain": [
       "(11.0, (0.5, -0.5))"
      ]
     },
     "execution_count": 31,
     "metadata": {},
     "output_type": "execute_result"
    }
   ],
   "source": [
    "min(attempts)\n"
   ]
  },
  {
   "cell_type": "code",
   "execution_count": 32,
   "id": "c8c84ea7",
   "metadata": {},
   "outputs": [],
   "source": [
    "info = min(attempts)\n",
    "\n",
    "best_slope = info[1][0]\n",
    "best_intercept = info[1][1]"
   ]
  },
  {
   "cell_type": "markdown",
   "id": "976c444e",
   "metadata": {},
   "source": [
    "**Q. Show the `best_slope` and `best_intercept`.**"
   ]
  },
  {
   "cell_type": "code",
   "execution_count": 33,
   "id": "5f51e6e1",
   "metadata": {},
   "outputs": [
    {
     "name": "stdout",
     "output_type": "stream",
     "text": [
      "0.5 -0.5\n"
     ]
    }
   ],
   "source": [
    "print(best_slope, best_intercept)"
   ]
  },
  {
   "cell_type": "markdown",
   "id": "42b762d4",
   "metadata": {},
   "source": [
    "**Q. Using a loop, compute predictions for `X_points` using `best_slope` and `best_intercept` (see your code from earlier).**"
   ]
  },
  {
   "cell_type": "code",
   "execution_count": 36,
   "id": "8ae8b125",
   "metadata": {},
   "outputs": [],
   "source": [
    "best_predictions = []\n",
    "\n",
    "for x in X_points:\n",
    "    best_predictions.append(best_slope * x + best_intercept)"
   ]
  },
  {
   "cell_type": "code",
   "execution_count": 38,
   "id": "ec61482c",
   "metadata": {},
   "outputs": [
    {
     "data": {
      "text/plain": [
       "[45, 30, 17, 29, 15]"
      ]
     },
     "execution_count": 38,
     "metadata": {},
     "output_type": "execute_result"
    }
   ],
   "source": [
    "y_salary"
   ]
  },
  {
   "cell_type": "code",
   "execution_count": 37,
   "id": "ab546bb2",
   "metadata": {
    "scrolled": true
   },
   "outputs": [
    {
     "data": {
      "text/plain": [
       "[48.5, 33.0, 16.5, 29.0, 11.0]"
      ]
     },
     "execution_count": 37,
     "metadata": {},
     "output_type": "execute_result"
    }
   ],
   "source": [
    "best_predictions"
   ]
  },
  {
   "cell_type": "markdown",
   "id": "47c287cf",
   "metadata": {},
   "source": [
    "**EXTRA: Q. Modify your loop to loop over `zip(X_points, y_salary)`, and hence get an `x` and `y`. Keep track of the `best_errors` for each point (`best_errors.append( abs(y - yhat) )`) in a seperate list. Report the `mean` and `stdev` of the errors.**"
   ]
  },
  {
   "cell_type": "code",
   "execution_count": 39,
   "id": "e98ceab6",
   "metadata": {},
   "outputs": [],
   "source": [
    "best_predictions = []\n",
    "best_errors = []\n",
    "\n",
    "for x, y in zip(X_points, y_salary):\n",
    "    yhat = best_slope * x + best_intercept\n",
    "    error = abs(yhat - y)\n",
    "    \n",
    "    best_predictions.append(yhat)\n",
    "    best_errors.append(error)"
   ]
  },
  {
   "cell_type": "code",
   "execution_count": 40,
   "id": "86fa4297",
   "metadata": {},
   "outputs": [
    {
     "data": {
      "text/plain": [
       "(2.2, 1.8234582528810468)"
      ]
     },
     "execution_count": 40,
     "metadata": {},
     "output_type": "execute_result"
    }
   ],
   "source": [
    "mean(best_errors), stdev(best_errors)"
   ]
  },
  {
   "cell_type": "markdown",
   "id": "674c8e6b",
   "metadata": {},
   "source": [
    "We can see this by comparing the predictions to the known values, "
   ]
  },
  {
   "cell_type": "code",
   "execution_count": 38,
   "id": "9e7009bb",
   "metadata": {},
   "outputs": [
    {
     "data": {
      "text/plain": [
       "[45, 30, 17, 29, 15]"
      ]
     },
     "execution_count": 38,
     "metadata": {},
     "output_type": "execute_result"
    }
   ],
   "source": [
    "y_salary"
   ]
  },
  {
   "cell_type": "code",
   "execution_count": 37,
   "id": "b88eede4",
   "metadata": {
    "scrolled": true
   },
   "outputs": [
    {
     "data": {
      "text/plain": [
       "[48.5, 33.0, 16.5, 29.0, 11.0]"
      ]
     },
     "execution_count": 37,
     "metadata": {},
     "output_type": "execute_result"
    }
   ],
   "source": [
    "best_predictions"
   ]
  },
  {
   "cell_type": "markdown",
   "id": "862878d7",
   "metadata": {},
   "source": [
    "---"
   ]
  },
  {
   "cell_type": "markdown",
   "id": "b448b058",
   "metadata": {},
   "source": [
    "Aside: this can be written more easily,"
   ]
  },
  {
   "cell_type": "code",
   "execution_count": 67,
   "id": "ae508efe",
   "metadata": {},
   "outputs": [],
   "source": [
    "(error, (best_slope, best_intercept)) = min(attempts) # (11.0, (0.5, -0.5))"
   ]
  },
  {
   "cell_type": "markdown",
   "id": "510c1272",
   "metadata": {},
   "source": [
    "(In python you can assign multiple variables at once by matching up the pattern on LHS with the RHS). "
   ]
  },
  {
   "cell_type": "code",
   "execution_count": 68,
   "id": "b825635b",
   "metadata": {},
   "outputs": [
    {
     "data": {
      "text/plain": [
       "0.5"
      ]
     },
     "execution_count": 68,
     "metadata": {},
     "output_type": "execute_result"
    }
   ],
   "source": [
    "best_slope"
   ]
  },
  {
   "cell_type": "markdown",
   "id": "c89197b7",
   "metadata": {},
   "source": [
    "---"
   ]
  },
  {
   "cell_type": "markdown",
   "id": "09e749e6",
   "metadata": {},
   "source": [
    "Knowing the `best_slope` and the `best_intercept` we can now visualize our solution. We recompute the predictions and show alongside the original $(X, y)$."
   ]
  },
  {
   "cell_type": "code",
   "execution_count": 71,
   "id": "f3cd4ea6",
   "metadata": {},
   "outputs": [],
   "source": [
    "predictions = []\n",
    "for x in X_points:\n",
    "    yhat = best_slope * x + best_intercept\n",
    "    \n",
    "    \n",
    "    predictions.append(yhat)"
   ]
  },
  {
   "cell_type": "code",
   "execution_count": 72,
   "id": "7116708b",
   "metadata": {},
   "outputs": [
    {
     "data": {
      "text/plain": [
       "<AxesSubplot:>"
      ]
     },
     "execution_count": 72,
     "metadata": {},
     "output_type": "execute_result"
    },
    {
     "data": {
      "image/png": "[encoded data removed]",
      "text/plain": [
       "<Figure size 432x288 with 1 Axes>"
      ]
     },
     "metadata": {
      "needs_background": "light"
     },
     "output_type": "display_data"
    }
   ],
   "source": [
    "sns.scatterplot(x=X_points, y=y_salary, color=\"black\")\n",
    "sns.lineplot(x=X_points, y=predictions, color=\"red\")"
   ]
  },
  {
   "cell_type": "markdown",
   "id": "539fbf5f",
   "metadata": {},
   "source": [
    "#### Computing a Prediction"
   ]
  },
  {
   "cell_type": "markdown",
   "id": "9d6230fc",
   "metadata": {},
   "source": [
    "Suppose a new university comes along with a ranking of `67.5` points. What will the average salary of a graduate be?"
   ]
  },
  {
   "cell_type": "code",
   "execution_count": 76,
   "id": "76c6f6f4",
   "metadata": {},
   "outputs": [],
   "source": [
    "X_new_university = 67.5\n",
    "\n",
    "yhat_unknown_salary = (best_slope * X_new_university) + best_intercept"
   ]
  },
  {
   "cell_type": "markdown",
   "id": "6b5c21bb",
   "metadata": {},
   "source": [
    "The prediction is $£33, 250$ per year,"
   ]
  },
  {
   "cell_type": "code",
   "execution_count": 75,
   "id": "a3d9258b",
   "metadata": {},
   "outputs": [
    {
     "data": {
      "text/plain": [
       "33.25"
      ]
     },
     "execution_count": 75,
     "metadata": {},
     "output_type": "execute_result"
    }
   ],
   "source": [
    "yhat_unknown_salary"
   ]
  },
  {
   "cell_type": "markdown",
   "id": "2cf379a2",
   "metadata": {},
   "source": [
    "**Q. The formula for the model is $\\hat{f}(x; \\beta_{slope}, \\beta_{intercept})  = \\beta_{slope}x + \\beta_{intercept}$. Describe how the algorithm above produced the $\\beta$ values.**"
   ]
  },
  {
   "cell_type": "markdown",
   "id": "0f26a3e2",
   "metadata": {},
   "source": [
    "The algorithm above tried many $\\beta$ parameters at random, and kept the pair which led to the best predictions on the known historical dataset. "
   ]
  },
  {
   "cell_type": "markdown",
   "id": "4d027cd0",
   "metadata": {},
   "source": [
    "### Aside: Improving the Algorithm"
   ]
  },
  {
   "cell_type": "markdown",
   "id": "13072816",
   "metadata": {},
   "source": [
    "```python\n",
    "attempts = []\n",
    "slope = randint(-10, 10)/10    # start at random\n",
    "for slope_attempt in range(0, 100):    \n",
    "    # sketching a better method: move slope based on how far away\n",
    "    slope -= 0.1 * sum(errors)\n",
    "    intercept = randint(-10, 10)/10  # start at random\n",
    "    \n",
    "    for intercept_attempt in range(0, 100):\n",
    "        # sketching a better method: move intercept based on errors\n",
    "        intercept -= 0.1 * sum(errors)\n",
    "        predictions = []\n",
    "        errors = []\n",
    "        for x, y in zip(X_points, y_salary):\n",
    "            yhat = slope * x + intercept \n",
    "            \n",
    "            errors.append( abs(y - yhat) ) \n",
    "            predictions.append(yhat)\n",
    "        attempts.append(\n",
    "            (sum(errors), (slope, intercept))\n",
    "        )\n",
    "        \n",
    "```"
   ]
  },
  {
   "cell_type": "markdown",
   "id": "ae97beeb",
   "metadata": {},
   "source": [
    "## What is Supervised Learning?"
   ]
  },
  {
   "cell_type": "markdown",
   "id": "48a2e8c1",
   "metadata": {},
   "source": [
    "Supervised learning is predicting a $y$ given an $X$. \n",
    "\n",
    "The approach is to find a model $\\hat{f}$, derived from a historical dataset, which can compute $\\hat{y}$ from some $X$ where the $y$ is unknown. "
   ]
  },
  {
   "cell_type": "markdown",
   "id": "06327e7c",
   "metadata": {},
   "source": [
    "**Q. Look at the formula for $\\hat{f}$ above from linear regression. What parts, in the formula, did the algorithm produce?**"
   ]
  },
  {
   "cell_type": "markdown",
   "id": "6b31c5e8",
   "metadata": {},
   "source": [
    "$\\beta$ -- ie., the slope and intercept. "
   ]
  },
  {
   "cell_type": "markdown",
   "id": "8e32ca79",
   "metadata": {},
   "source": [
    "### Reflection \n",
    "\n",
    "* Dataset\n",
    "    * $(X, y)$\n",
    "        * $X$ university ranking points\n",
    "        * $y$ graduate salary\n",
    "    * Algorithm \n",
    "        * try lots (1000) of straight lines randomly\n",
    "        * compute errors for each point in the historical dataset\n",
    "        * select the line with the minimum error\n",
    "    * Model = (slope, intercept)\n",
    "* Solution\n",
    "    * New X Point\n",
    "        * newX * best_slope + best_intercept"
   ]
  },
  {
   "cell_type": "markdown",
   "id": "e08a1248",
   "metadata": {},
   "source": [
    "Compare,"
   ]
  },
  {
   "cell_type": "markdown",
   "id": "06695189",
   "metadata": {},
   "source": [
    " $ (X, y) \\rightarrow \\mathcal{Alg} \\rightarrow \\hat{f} $\n",
    " \n",
    "`(X_points, y_salary) -> for ... randint(), randint() -> (best_slope, best_intercept)`"
   ]
  },
  {
   "cell_type": "markdown",
   "id": "9e2a8c9a",
   "metadata": {},
   "source": [
    "### Example: K-Nearest Neighbors"
   ]
  },
  {
   "cell_type": "markdown",
   "id": "5955b438",
   "metadata": {},
   "source": [
    "Consider a classification example, $X$ as above, $y$ is whether you are employeed after 6 months,"
   ]
  },
  {
   "cell_type": "code",
   "execution_count": 75,
   "id": "ab02d1b4",
   "metadata": {},
   "outputs": [
    {
     "data": {
      "text/plain": [
       "[98, 67, 34, 59, 23]"
      ]
     },
     "execution_count": 75,
     "metadata": {},
     "output_type": "execute_result"
    }
   ],
   "source": [
    "X_points"
   ]
  },
  {
   "cell_type": "code",
   "execution_count": 76,
   "id": "41e0dab6",
   "metadata": {},
   "outputs": [],
   "source": [
    "y_employeed = [True, True, False, False, False]"
   ]
  },
  {
   "cell_type": "markdown",
   "id": "464292aa",
   "metadata": {},
   "source": [
    "The kNN algorithm is:\n",
    "\n",
    "1. in the learning phase when we are produce $\\hat{f}$\n",
    "    * we just remember the dataset \n",
    "2. in the prediction phase we\n",
    "    * look up the most similar $X$ point\n",
    "    * and use *that's points* $y$ "
   ]
  },
  {
   "cell_type": "markdown",
   "id": "6046d69b",
   "metadata": {},
   "source": [
    "* The learning phase, $\\hat{f}$ is just a database,"
   ]
  },
  {
   "cell_type": "code",
   "execution_count": 77,
   "id": "c289ebd0",
   "metadata": {},
   "outputs": [],
   "source": [
    "fhat_db = {\n",
    "    \"Points\": X_points,\n",
    "    \"Employeed\": y_employeed\n",
    "}"
   ]
  },
  {
   "cell_type": "markdown",
   "id": "ac637710",
   "metadata": {},
   "source": [
    "**Q. Consider a move review example: $X$ is sweet-spend and $y$ is film-rating. Define a dictionary called `film_db` with two entries for the historical data; choose some intuitive values of your own**.  "
   ]
  },
  {
   "cell_type": "code",
   "execution_count": 78,
   "id": "334d169d",
   "metadata": {},
   "outputs": [],
   "source": [
    "film_db = {\n",
    "    'sweets': [10, 20, 15],\n",
    "    'rating': [7, 8, 9]\n",
    "}"
   ]
  },
  {
   "cell_type": "markdown",
   "id": "0fd9fb67",
   "metadata": {},
   "source": [
    "* Prediction"
   ]
  },
  {
   "cell_type": "code",
   "execution_count": 79,
   "id": "d00676f9",
   "metadata": {},
   "outputs": [],
   "source": [
    "X_new_uni = 79"
   ]
  },
  {
   "cell_type": "markdown",
   "id": "70695ad7",
   "metadata": {},
   "source": [
    "**Q. define a `X_new_sweets` which is an amount spent on sweets for a customer before theyve watched a film**"
   ]
  },
  {
   "cell_type": "code",
   "execution_count": 80,
   "id": "cd9706b4",
   "metadata": {},
   "outputs": [],
   "source": [
    "X_new_sweet = 17"
   ]
  },
  {
   "cell_type": "markdown",
   "id": "f27e0d14",
   "metadata": {},
   "source": [
    "`y_ranked` is a list of historical `y` values which are ranked by how close the new `X` was to the correponding historical `X`, "
   ]
  },
  {
   "cell_type": "code",
   "execution_count": 81,
   "id": "1c763566",
   "metadata": {},
   "outputs": [],
   "source": [
    "y_ranked = []\n",
    "for x, y in zip(fhat_db[\"Points\"], fhat_db[\"Employeed\"]):\n",
    "    distance = abs(X_new_uni - x)\n",
    "    \n",
    "    \n",
    "    y_ranked.append( (distance, y) )"
   ]
  },
  {
   "cell_type": "markdown",
   "id": "df7fda2d",
   "metadata": {},
   "source": [
    "**Q. copy/paste the above loop: (1) change `y_ranked` to `ratings_ranked`; (2) modify the `zip` so it loops over your `film_db`; (3) change `X_new_uni` to your new X for sweets.**"
   ]
  },
  {
   "cell_type": "code",
   "execution_count": 82,
   "id": "3d36e497",
   "metadata": {},
   "outputs": [],
   "source": [
    "ratings_ranked = []\n",
    "for x, y in zip(film_db[\"sweets\"], film_db[\"rating\"]):\n",
    "    distance = abs(X_new_sweet - x)\n",
    "    \n",
    "    \n",
    "    ratings_ranked.append( (distance, y) )"
   ]
  },
  {
   "cell_type": "code",
   "execution_count": 83,
   "id": "ae765c16",
   "metadata": {},
   "outputs": [
    {
     "name": "stdout",
     "output_type": "stream",
     "text": [
      "[(7, 7), (3, 8), (2, 9)]\n"
     ]
    }
   ],
   "source": [
    "print(ratings_ranked)"
   ]
  },
  {
   "cell_type": "markdown",
   "id": "2cb1ae95",
   "metadata": {},
   "source": [
    "The prediction is the `y` for the closest `X`, here we use `min()` to find it, "
   ]
  },
  {
   "cell_type": "code",
   "execution_count": 84,
   "id": "bb021d82",
   "metadata": {},
   "outputs": [],
   "source": [
    "error, yhat_employeed = min(y_ranked)"
   ]
  },
  {
   "cell_type": "markdown",
   "id": "14da7ff4",
   "metadata": {},
   "source": [
    "**Q. what is your prediction `yhat_rating` for your `ratings_ranked` ?**"
   ]
  },
  {
   "cell_type": "code",
   "execution_count": 85,
   "id": "ed167387",
   "metadata": {},
   "outputs": [
    {
     "data": {
      "text/plain": [
       "(2, 9)"
      ]
     },
     "execution_count": 85,
     "metadata": {},
     "output_type": "execute_result"
    }
   ],
   "source": [
    "min(ratings_ranked)"
   ]
  },
  {
   "cell_type": "markdown",
   "id": "a4b612ab",
   "metadata": {},
   "source": [
    "We predict, for `X_new_sweet = 17` a film rating of, "
   ]
  },
  {
   "cell_type": "code",
   "execution_count": 86,
   "id": "22050806",
   "metadata": {},
   "outputs": [
    {
     "data": {
      "text/plain": [
       "9"
      ]
     },
     "execution_count": 86,
     "metadata": {},
     "output_type": "execute_result"
    }
   ],
   "source": [
    "min(ratings_ranked)[1]"
   ]
  },
  {
   "cell_type": "markdown",
   "id": "26c5a792",
   "metadata": {},
   "source": [
    "At the uni given by `X_new_uni` you will be employeed after 6 months,"
   ]
  },
  {
   "cell_type": "code",
   "execution_count": 87,
   "id": "2aa15cf6",
   "metadata": {},
   "outputs": [
    {
     "data": {
      "text/plain": [
       "True"
      ]
     },
     "execution_count": 87,
     "metadata": {},
     "output_type": "execute_result"
    }
   ],
   "source": [
    "yhat_employeed"
   ]
  },
  {
   "cell_type": "markdown",
   "id": "dab5b869",
   "metadata": {},
   "source": [
    "### Improving the Algorithm"
   ]
  },
  {
   "cell_type": "markdown",
   "id": "7efa94c9",
   "metadata": {},
   "source": [
    "Rather than choosing the single most similar point in the database, we can choose the $k$ most similar ($k$ is up to us...), "
   ]
  },
  {
   "cell_type": "code",
   "execution_count": 88,
   "id": "0115c06a",
   "metadata": {},
   "outputs": [],
   "source": [
    "k = 3\n",
    "top = sorted(y_ranked)[0:k] # sort & choose `0` to `k` entries\n",
    "\n",
    "\n",
    "# loop over the first few and keep their `y`\n",
    "votes = []\n",
    "for error, y in top:\n",
    "    votes.append(y)\n",
    "  "
   ]
  },
  {
   "cell_type": "markdown",
   "id": "9cd65b6e",
   "metadata": {},
   "source": [
    "**Q. Show `votes`. What will the `mode()` be?**"
   ]
  },
  {
   "cell_type": "code",
   "execution_count": 89,
   "id": "705e8894",
   "metadata": {},
   "outputs": [
    {
     "name": "stdout",
     "output_type": "stream",
     "text": [
      "[True, True, False]\n"
     ]
    }
   ],
   "source": [
    "print(votes)"
   ]
  },
  {
   "cell_type": "markdown",
   "id": "f66d20d2",
   "metadata": {},
   "source": [
    "Mode, `True`"
   ]
  },
  {
   "cell_type": "markdown",
   "id": "e6de564f",
   "metadata": {},
   "source": [
    "We use `mode()` to select the most popular `y`,"
   ]
  },
  {
   "cell_type": "code",
   "execution_count": 92,
   "id": "ffdc8e8e",
   "metadata": {},
   "outputs": [
    {
     "data": {
      "text/plain": [
       "9"
      ]
     },
     "execution_count": 92,
     "metadata": {},
     "output_type": "execute_result"
    }
   ],
   "source": [
    "from statistics import mode  \n",
    "mode(votes)"
   ]
  },
  {
   "cell_type": "markdown",
   "id": "42e8c23c",
   "metadata": {},
   "source": [
    "**Q. reporduce the loop above for your own `ratings_ranked` and show the `mode()` and `mean()` -- which is better?.**"
   ]
  },
  {
   "cell_type": "code",
   "execution_count": 90,
   "id": "c9402aa5",
   "metadata": {},
   "outputs": [],
   "source": [
    "k = 3\n",
    "top = sorted(ratings_ranked)[0:k] # sort & choose `0` to `k` entries\n",
    "\n",
    "\n",
    "# loop over the first few and keep their `y`\n",
    "votes = []\n",
    "for error, y in top:\n",
    "    votes.append(y)\n",
    "  "
   ]
  },
  {
   "cell_type": "code",
   "execution_count": 94,
   "id": "df036790",
   "metadata": {},
   "outputs": [
    {
     "data": {
      "text/plain": [
       "[9, 8, 7]"
      ]
     },
     "execution_count": 94,
     "metadata": {},
     "output_type": "execute_result"
    }
   ],
   "source": [
    "votes"
   ]
  },
  {
   "cell_type": "code",
   "execution_count": 96,
   "id": "d1601f0a",
   "metadata": {},
   "outputs": [
    {
     "name": "stdout",
     "output_type": "stream",
     "text": [
      "9\n",
      "8\n"
     ]
    }
   ],
   "source": [
    "print(mode(votes))\n",
    "print(mean(votes))"
   ]
  },
  {
   "cell_type": "markdown",
   "id": "7710d7f4",
   "metadata": {},
   "source": [
    "Mode = most popular film rating in $k$ simular users. Mean = their average. In this case `mean()` is typically more accurate. "
   ]
  },
  {
   "cell_type": "markdown",
   "id": "3cc72ae6",
   "metadata": {},
   "source": [
    "Aside: if `False` had ben more popular, we would vote false, "
   ]
  },
  {
   "cell_type": "markdown",
   "id": "3e5529bc",
   "metadata": {},
   "source": [
    "Suppose, I had chosen $k = 5$, "
   ]
  },
  {
   "cell_type": "code",
   "execution_count": 113,
   "id": "551d4562",
   "metadata": {},
   "outputs": [
    {
     "data": {
      "text/plain": [
       "[(12, True), (19, True), (20, False), (45, False), (56, False)]"
      ]
     },
     "execution_count": 113,
     "metadata": {},
     "output_type": "execute_result"
    }
   ],
   "source": [
    "sorted(y_ranked)[0:5]"
   ]
  },
  {
   "cell_type": "markdown",
   "id": "0aac5cb8",
   "metadata": {},
   "source": [
    "The prediction changes to `False`, "
   ]
  },
  {
   "cell_type": "code",
   "execution_count": 114,
   "id": "b7ee44d7",
   "metadata": {},
   "outputs": [
    {
     "data": {
      "text/plain": [
       "False"
      ]
     },
     "execution_count": 114,
     "metadata": {},
     "output_type": "execute_result"
    }
   ],
   "source": [
    "votes_k5 = []\n",
    "\n",
    "for error, y in sorted(y_ranked)[0:5]:\n",
    "    votes_k5.append(y)\n",
    "    \n",
    "mode(votes_k5)"
   ]
  },
  {
   "cell_type": "markdown",
   "id": "ca9ddf65",
   "metadata": {},
   "source": [
    "There is no correct choice of `k`. A higher `k` leads to more \"generic\" predictions which are close to the whole average of all historical data. A lower `k` leads to more \"highly varied\" predictions which are often over-sentitive to random variations in the data.\n",
    "\n",
    "Eg., `k=1` then you're just selecting one entry in your historical database -- you'd be predicting a future person's $y$ (eg., liking of a film) based on a *single historical persons'* view. "
   ]
  },
  {
   "cell_type": "markdown",
   "id": "35a76c2b",
   "metadata": {},
   "source": [
    "---"
   ]
  },
  {
   "cell_type": "code",
   "execution_count": null,
   "id": "c8f52ace",
   "metadata": {},
   "outputs": [],
   "source": []
  }
 ],
 "metadata": {
  "kernelspec": {
   "display_name": "Python 3.9",
   "language": "python",
   "name": "python3"
  },
  "language_info": {
   "codemirror_mode": {
    "name": "ipython",
    "version": 3
   },
   "file_extension": ".py",
   "mimetype": "text/x-python",
   "name": "python",
   "nbconvert_exporter": "python",
   "pygments_lexer": "ipython3",
   "version": "3.9.6"
  }
 },
 "nbformat": 4,
 "nbformat_minor": 5
}
