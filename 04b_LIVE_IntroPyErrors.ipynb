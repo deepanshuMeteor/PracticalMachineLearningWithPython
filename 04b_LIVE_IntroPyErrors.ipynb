{
 "cells": [
  {
   "cell_type": "markdown",
   "metadata": {},
   "source": [
    "# Introduction to Python \n",
    "### Notes 1.1, Introduction to Error Handling\n",
    "---\n",
    "\n",
    "## Objectives\n",
    "\n",
    "---"
   ]
  },
  {
   "cell_type": "markdown",
   "metadata": {},
   "source": [
    "## What situations cause errors in python?"
   ]
  },
  {
   "cell_type": "markdown",
   "metadata": {},
   "source": [
    "## Name Erorr"
   ]
  },
  {
   "cell_type": "code",
   "execution_count": 2,
   "metadata": {},
   "outputs": [
    {
     "ename": "NameError",
     "evalue": "name 'undefined_variable' is not defined",
     "output_type": "error",
     "traceback": [
      "\u001b[0;31m---------------------------------------------------------------------------\u001b[0m",
      "\u001b[0;31mNameError\u001b[0m                                 Traceback (most recent call last)",
      "\u001b[0;32m<ipython-input-2-4c6d5bf4bce5>\u001b[0m in \u001b[0;36m<module>\u001b[0;34m\u001b[0m\n\u001b[0;32m----> 1\u001b[0;31m \u001b[0mundefined_variable\u001b[0m\u001b[0;34m\u001b[0m\u001b[0;34m\u001b[0m\u001b[0m\n\u001b[0m",
      "\u001b[0;31mNameError\u001b[0m: name 'undefined_variable' is not defined"
     ]
    }
   ],
   "source": [
    "undefined_variable"
   ]
  },
  {
   "cell_type": "markdown",
   "metadata": {},
   "source": [
    "## Type Errors"
   ]
  },
  {
   "cell_type": "code",
   "execution_count": 1,
   "metadata": {},
   "outputs": [
    {
     "ename": "TypeError",
     "evalue": "can only concatenate str (not \"int\") to str",
     "output_type": "error",
     "traceback": [
      "\u001b[0;31m---------------------------------------------------------------------------\u001b[0m",
      "\u001b[0;31mTypeError\u001b[0m                                 Traceback (most recent call last)",
      "\u001b[0;32m<ipython-input-1-dd2e45ac631f>\u001b[0m in \u001b[0;36m<module>\u001b[0;34m\u001b[0m\n\u001b[1;32m      1\u001b[0m \u001b[0mname\u001b[0m \u001b[0;34m=\u001b[0m \u001b[0;34m\"Mciahel\"\u001b[0m\u001b[0;34m\u001b[0m\u001b[0;34m\u001b[0m\u001b[0m\n\u001b[0;32m----> 2\u001b[0;31m \u001b[0mname\u001b[0m \u001b[0;34m+\u001b[0m \u001b[0;36m2\u001b[0m\u001b[0;34m\u001b[0m\u001b[0;34m\u001b[0m\u001b[0m\n\u001b[0m",
      "\u001b[0;31mTypeError\u001b[0m: can only concatenate str (not \"int\") to str"
     ]
    }
   ],
   "source": [
    "name = \"Mciahel\"\n",
    "name + 2"
   ]
  },
  {
   "cell_type": "markdown",
   "metadata": {},
   "source": [
    "### Key Errors"
   ]
  },
  {
   "cell_type": "code",
   "execution_count": 15,
   "metadata": {},
   "outputs": [],
   "source": [
    "me = {\n",
    "    \"name\": \"Michael\"\n",
    "}"
   ]
  },
  {
   "cell_type": "code",
   "execution_count": 16,
   "metadata": {},
   "outputs": [
    {
     "ename": "KeyError",
     "evalue": "'age'",
     "output_type": "error",
     "traceback": [
      "\u001b[0;31m---------------------------------------------------------------------------\u001b[0m",
      "\u001b[0;31mKeyError\u001b[0m                                  Traceback (most recent call last)",
      "\u001b[0;32m<ipython-input-16-2f10ee883572>\u001b[0m in \u001b[0;36m<module>\u001b[0;34m\u001b[0m\n\u001b[0;32m----> 1\u001b[0;31m \u001b[0mme\u001b[0m\u001b[0;34m[\u001b[0m\u001b[0;34m\"age\"\u001b[0m\u001b[0;34m]\u001b[0m\u001b[0;34m\u001b[0m\u001b[0;34m\u001b[0m\u001b[0m\n\u001b[0m",
      "\u001b[0;31mKeyError\u001b[0m: 'age'"
     ]
    }
   ],
   "source": [
    "me[\"age\"]"
   ]
  },
  {
   "cell_type": "markdown",
   "metadata": {},
   "source": [
    "### Zero Division Error"
   ]
  },
  {
   "cell_type": "code",
   "execution_count": 17,
   "metadata": {},
   "outputs": [
    {
     "name": "stdout",
     "output_type": "stream",
     "text": [
      "above\n"
     ]
    },
    {
     "ename": "ZeroDivisionError",
     "evalue": "division by zero",
     "output_type": "error",
     "traceback": [
      "\u001b[0;31m---------------------------------------------------------------------------\u001b[0m",
      "\u001b[0;31mZeroDivisionError\u001b[0m                         Traceback (most recent call last)",
      "\u001b[0;32m<ipython-input-17-f6886d837167>\u001b[0m in \u001b[0;36m<module>\u001b[0;34m\u001b[0m\n\u001b[1;32m      4\u001b[0m \u001b[0mn\u001b[0m \u001b[0;34m=\u001b[0m \u001b[0;36m0\u001b[0m\u001b[0;34m\u001b[0m\u001b[0;34m\u001b[0m\u001b[0m\n\u001b[1;32m      5\u001b[0m \u001b[0;34m\u001b[0m\u001b[0m\n\u001b[0;32m----> 6\u001b[0;31m \u001b[0mhr\u001b[0m\u001b[0;34m/\u001b[0m\u001b[0mn\u001b[0m            \u001b[0;31m# <- terminates here\u001b[0m\u001b[0;34m\u001b[0m\u001b[0;34m\u001b[0m\u001b[0m\n\u001b[0m\u001b[1;32m      7\u001b[0m \u001b[0;34m\u001b[0m\u001b[0m\n\u001b[1;32m      8\u001b[0m \u001b[0mprint\u001b[0m\u001b[0;34m(\u001b[0m\u001b[0;34m\"below\"\u001b[0m\u001b[0;34m)\u001b[0m\u001b[0;34m\u001b[0m\u001b[0;34m\u001b[0m\u001b[0m\n",
      "\u001b[0;31mZeroDivisionError\u001b[0m: division by zero"
     ]
    }
   ],
   "source": [
    "print(\"above\")\n",
    "\n",
    "hr = 60\n",
    "n = 0\n",
    "\n",
    "hr/n            # <- terminates here\n",
    "\n",
    "print(\"below\")"
   ]
  },
  {
   "cell_type": "markdown",
   "metadata": {},
   "source": [
    "## What are errors?"
   ]
  },
  {
   "cell_type": "markdown",
   "metadata": {},
   "source": [
    "An error (or exception) is a program-terminating situation. A situatin which causes the program to stop. \n",
    "\n",
    "Whenever your program terminates due to an error, python provides a data object that describes this situation. "
   ]
  },
  {
   "cell_type": "markdown",
   "metadata": {},
   "source": [
    "## How do I handle an error?"
   ]
  },
  {
   "cell_type": "code",
   "execution_count": 18,
   "metadata": {},
   "outputs": [
    {
     "name": "stdout",
     "output_type": "stream",
     "text": [
      "above\n",
      "below\n"
     ]
    }
   ],
   "source": [
    "print(\"above\")\n",
    "\n",
    "try:\n",
    "    this_is_not_here\n",
    "except:\n",
    "    pass  # do nothing\n",
    "\n",
    "print(\"below\")"
   ]
  },
  {
   "cell_type": "code",
   "execution_count": 19,
   "metadata": {},
   "outputs": [
    {
     "name": "stdout",
     "output_type": "stream",
     "text": [
      "above\n",
      "data is missing\n",
      "below\n"
     ]
    }
   ],
   "source": [
    "print(\"above\")\n",
    "\n",
    "try:                           # protect the following lines\n",
    "    this_is_not_here\n",
    "except:                        # run only if error\n",
    "    print(\"data is missing\")\n",
    "\n",
    "print(\"below\")"
   ]
  },
  {
   "cell_type": "code",
   "execution_count": 27,
   "metadata": {},
   "outputs": [
    {
     "name": "stdout",
     "output_type": "stream",
     "text": [
      "above\n",
      "handling keyerror\n",
      "below\n"
     ]
    }
   ],
   "source": [
    "print(\"above\")\n",
    "try:\n",
    "    age = me[\"age\"]\n",
    "    print(age)\n",
    "    \n",
    "# type of error   \n",
    "except KeyError:  # only run this if its a KeyError!\n",
    "    print(\"handling keyerror\")\n",
    "\n",
    "print(\"below\")"
   ]
  },
  {
   "cell_type": "code",
   "execution_count": 30,
   "metadata": {},
   "outputs": [
    {
     "name": "stdout",
     "output_type": "stream",
     "text": [
      "above\n",
      "there was a zero!\n",
      "below\n"
     ]
    }
   ],
   "source": [
    "print(\"above\")\n",
    "\n",
    "\n",
    "try:\n",
    "    10/0             # the first error STOPS the try-code\n",
    "    \n",
    "    age = me[\"age\"]\n",
    "    print(age)\n",
    "    \n",
    "except KeyError:  \n",
    "    print(\"handling keyerror\")\n",
    "\n",
    "except ZeroDivisionError:  # we land here\n",
    "    print(\"there was a zero!\")\n",
    "    #... there was a ZeroDivisionError first!\n",
    "    \n",
    "print(\"below\")"
   ]
  },
  {
   "cell_type": "markdown",
   "metadata": {},
   "source": [
    "### Key Error"
   ]
  },
  {
   "cell_type": "markdown",
   "metadata": {},
   "source": [
    "The variable below `ke` is an error object, which -- here -- contains the key that was missing:"
   ]
  },
  {
   "cell_type": "code",
   "execution_count": 32,
   "metadata": {},
   "outputs": [
    {
     "name": "stdout",
     "output_type": "stream",
     "text": [
      "There was a KeyError, missing key: 'age'\n"
     ]
    }
   ],
   "source": [
    "try:\n",
    "    age = me[\"age\"]\n",
    "    print(age)\n",
    "    \n",
    "# type of error    variable\n",
    "except KeyError as ke:\n",
    "    print(\"There was a KeyError, missing key:\", ke)"
   ]
  },
  {
   "cell_type": "markdown",
   "metadata": {},
   "source": [
    "In the code above, we use the `try` keyword to ring-fence any region of code which could cause an error (that we are interested in handling). \n",
    "\n",
    "We follow a `try`-block with the `except` keyword which specifies the error condition (here, eg,. `KeyError`) that we want to handle. \n",
    "\n",
    "When specifying the type of error, we use the `as` keyword *to capture* the error object, which we can inspect/print/etc. "
   ]
  },
  {
   "cell_type": "markdown",
   "metadata": {},
   "source": [
    "### Zero Division Error"
   ]
  },
  {
   "cell_type": "markdown",
   "metadata": {},
   "source": [
    "Capturing the error is optional:"
   ]
  },
  {
   "cell_type": "code",
   "execution_count": 8,
   "metadata": {
    "scrolled": true
   },
   "outputs": [
    {
     "name": "stdout",
     "output_type": "stream",
     "text": [
      "above\n",
      "n was zero!\n",
      "below\n"
     ]
    }
   ],
   "source": [
    "print(\"above\")\n",
    "\n",
    "try:\n",
    "    print(hr/n)\n",
    "except ZeroDivisionError: # as z:\n",
    "    print(\"n was zero!\")\n",
    "\n",
    "print(\"below\")"
   ]
  },
  {
   "cell_type": "markdown",
   "metadata": {},
   "source": [
    "Also note here, that the program doesn't terminate!"
   ]
  },
  {
   "cell_type": "markdown",
   "metadata": {},
   "source": [
    "---"
   ]
  },
  {
   "cell_type": "markdown",
   "metadata": {},
   "source": [
    "# Appendix"
   ]
  },
  {
   "cell_type": "markdown",
   "metadata": {},
   "source": [
    "## How do I specialize my error handling code?"
   ]
  },
  {
   "cell_type": "markdown",
   "metadata": {},
   "source": [
    "The first error coniditon which matches, is triggered, and no others:"
   ]
  },
  {
   "cell_type": "code",
   "execution_count": 12,
   "metadata": {},
   "outputs": [
    {
     "name": "stdout",
     "output_type": "stream",
     "text": [
      "'age'\n"
     ]
    }
   ],
   "source": [
    "try:\n",
    "    print(me[\"age\"]) # <- this line terminates the block of code\n",
    "    print(hr/n)\n",
    "except ZeroDivisionError: # <- tries, no match\n",
    "    print(\"n was zero!\")\n",
    "except KeyError as ke:    # <- first matching\n",
    "    print(ke) \n",
    "except:\n",
    "    print(\"unknown error!\")"
   ]
  },
  {
   "cell_type": "markdown",
   "metadata": {},
   "source": [
    "## How do I cause an error?"
   ]
  },
  {
   "cell_type": "markdown",
   "metadata": {},
   "source": [
    "Above, we consider situations where python code generates the error.\n",
    "\n",
    "But we can generate errors in our own code:"
   ]
  },
  {
   "cell_type": "code",
   "execution_count": 13,
   "metadata": {},
   "outputs": [],
   "source": [
    "def ask_hr():\n",
    "    hr = float(input(\"What's your hr?\"))\n",
    "    \n",
    "    if hr < 30:\n",
    "        raise ValueError(\"Too Low!\")\n",
    "    elif hr > 300:\n",
    "        raise ValueError(\"Too High!\")\n",
    "    else:\n",
    "        return hr"
   ]
  },
  {
   "cell_type": "markdown",
   "metadata": {},
   "source": [
    "The `raise` keyword causes the error, and `ValueError` is the type of error we wish to cause. \n",
    "\n",
    "The input into the error, is the error message: here, \"Too Low!\", \"Too High!\", etc."
   ]
  },
  {
   "cell_type": "code",
   "execution_count": 14,
   "metadata": {},
   "outputs": [
    {
     "name": "stdin",
     "output_type": "stream",
     "text": [
      "What's your hr? 20\n"
     ]
    },
    {
     "ename": "ValueError",
     "evalue": "Too Low!",
     "output_type": "error",
     "traceback": [
      "\u001b[0;31m------------------------------------------------------------------------\u001b[0m",
      "\u001b[0;31mValueError\u001b[0m                             Traceback (most recent call last)",
      "\u001b[0;32m<ipython-input-14-8c58de138a8e>\u001b[0m in \u001b[0;36m<module>\u001b[0;34m\u001b[0m\n\u001b[0;32m----> 1\u001b[0;31m \u001b[0mask_hr\u001b[0m\u001b[0;34m(\u001b[0m\u001b[0;34m)\u001b[0m\u001b[0;34m\u001b[0m\u001b[0;34m\u001b[0m\u001b[0m\n\u001b[0m",
      "\u001b[0;32m<ipython-input-13-ca27c14ba012>\u001b[0m in \u001b[0;36mask_hr\u001b[0;34m()\u001b[0m\n\u001b[1;32m      3\u001b[0m \u001b[0;34m\u001b[0m\u001b[0m\n\u001b[1;32m      4\u001b[0m     \u001b[0;32mif\u001b[0m \u001b[0mhr\u001b[0m \u001b[0;34m<\u001b[0m \u001b[0;36m30\u001b[0m\u001b[0;34m:\u001b[0m\u001b[0;34m\u001b[0m\u001b[0;34m\u001b[0m\u001b[0m\n\u001b[0;32m----> 5\u001b[0;31m         \u001b[0;32mraise\u001b[0m \u001b[0mValueError\u001b[0m\u001b[0;34m(\u001b[0m\u001b[0;34m\"Too Low!\"\u001b[0m\u001b[0;34m)\u001b[0m\u001b[0;34m\u001b[0m\u001b[0;34m\u001b[0m\u001b[0m\n\u001b[0m\u001b[1;32m      6\u001b[0m     \u001b[0;32melif\u001b[0m \u001b[0mhr\u001b[0m \u001b[0;34m>\u001b[0m \u001b[0;36m300\u001b[0m\u001b[0;34m:\u001b[0m\u001b[0;34m\u001b[0m\u001b[0;34m\u001b[0m\u001b[0m\n\u001b[1;32m      7\u001b[0m         \u001b[0;32mraise\u001b[0m \u001b[0mValueError\u001b[0m\u001b[0;34m(\u001b[0m\u001b[0;34m\"Too High!\"\u001b[0m\u001b[0;34m)\u001b[0m\u001b[0;34m\u001b[0m\u001b[0;34m\u001b[0m\u001b[0m\n",
      "\u001b[0;31mValueError\u001b[0m: Too Low!"
     ]
    }
   ],
   "source": [
    "ask_hr()"
   ]
  },
  {
   "cell_type": "markdown",
   "metadata": {},
   "source": [
    "## How do I handle a `raise`d error?"
   ]
  },
  {
   "cell_type": "code",
   "execution_count": 18,
   "metadata": {},
   "outputs": [
    {
     "name": "stdin",
     "output_type": "stream",
     "text": [
      "What's your hr? 0\n"
     ]
    },
    {
     "name": "stdout",
     "output_type": "stream",
     "text": [
      "try again!\n"
     ]
    },
    {
     "name": "stdin",
     "output_type": "stream",
     "text": [
      "What's your hr? 60\n"
     ]
    }
   ],
   "source": [
    "try:\n",
    "    user_hr = ask_hr()\n",
    "except ValueError as ve:\n",
    "    print(\"try again!\")\n",
    "    user_hr = ask_hr()"
   ]
  },
  {
   "cell_type": "code",
   "execution_count": 19,
   "metadata": {},
   "outputs": [
    {
     "name": "stdout",
     "output_type": "stream",
     "text": [
      "60.0\n"
     ]
    }
   ],
   "source": [
    "print(user_hr)"
   ]
  },
  {
   "cell_type": "markdown",
   "metadata": {},
   "source": [
    "## Why `raise` an error (vs. `print()`) ?"
   ]
  },
  {
   "cell_type": "markdown",
   "metadata": {},
   "source": [
    "When we `raise` and error we communicate to another programmer that our function doesn't work, or cannot work. \n",
    "\n",
    "The user of our application should almost never see an unhandled error: we always want an `except` condition. "
   ]
  },
  {
   "cell_type": "code",
   "execution_count": 21,
   "metadata": {},
   "outputs": [],
   "source": [
    "def problem():\n",
    "    raise ValueError(\"OOPs!\")"
   ]
  },
  {
   "cell_type": "markdown",
   "metadata": {},
   "source": [
    "So when `raise`ing within `problem()`, we force the programmer who uses `problem()` to use `try/except`:"
   ]
  },
  {
   "cell_type": "code",
   "execution_count": 25,
   "metadata": {},
   "outputs": [
    {
     "name": "stdout",
     "output_type": "stream",
     "text": [
      "We cannot continue this program, we cannot recover from an error!\n"
     ]
    }
   ],
   "source": [
    "try: \n",
    "    problem()\n",
    "except:\n",
    "    print(\"We cannot continue this program, we cannot recover from an error!\")\n",
    "    # exit()"
   ]
  },
  {
   "cell_type": "markdown",
   "metadata": {},
   "source": [
    "## Exercise"
   ]
  },
  {
   "cell_type": "markdown",
   "metadata": {},
   "source": [
    "Using `try` and `except KeyError`, handle the following error by displaying a message about a missing column..."
   ]
  },
  {
   "cell_type": "code",
   "execution_count": 5,
   "metadata": {},
   "outputs": [
    {
     "name": "stdout",
     "output_type": "stream",
     "text": [
      "REPORT START:\n",
      "missing column\n",
      "REPORT END\n"
     ]
    }
   ],
   "source": [
    "import pandas as pd\n",
    "\n",
    "print(\"REPORT START:\")\n",
    "\n",
    "try:\n",
    "    \n",
    "    ti = pd.read_csv('datasets/titanic.csv')\n",
    "    ti['MissingColumn']\n",
    "    \n",
    "except KeyError:\n",
    "    print(\"missing column\")\n",
    "    \n",
    "except FileNotFoundError:\n",
    "    print(\"missing file\")\n",
    "    \n",
    "print(\"REPORT END\")"
   ]
  },
  {
   "cell_type": "markdown",
   "metadata": {},
   "source": [
    "---"
   ]
  },
  {
   "cell_type": "markdown",
   "metadata": {},
   "source": [
    "Consider the following code which processes a dataset which could cause an error when a calculation is made:"
   ]
  },
  {
   "cell_type": "code",
   "execution_count": 12,
   "metadata": {},
   "outputs": [
    {
     "name": "stdout",
     "output_type": "stream",
     "text": [
      "10.0\n",
      "5.0\n",
      "3.3333333333333335\n"
     ]
    }
   ],
   "source": [
    "dataset = [10, 20, 0, 30, 0]\n",
    "metric = 100\n",
    "\n",
    "for d in dataset:\n",
    "    try:\n",
    "        print(metric / d)\n",
    "    except:\n",
    "        pass # do nothing\n",
    "    \n",
    "\n"
   ]
  },
  {
   "cell_type": "code",
   "execution_count": 37,
   "metadata": {},
   "outputs": [
    {
     "name": "stdout",
     "output_type": "stream",
     "text": [
      "metric was invalid, resetting the value\n"
     ]
    }
   ],
   "source": [
    "# SOFTWARE ENGINEER DESIGNS FUNCTION:\n",
    "def check_valid():\n",
    "    if metric >= 100:\n",
    "        raise ValueError(\"metric must be <100\")\n",
    "\n",
    "# FUNCTION USER (eg., ANALYST) HANDLES PROBLEMS\n",
    "try:\n",
    "    check_valid()\n",
    "except:\n",
    "    print(\"metric was invalid, resetting the value\")\n",
    "    \n",
    "    metric = 100 # set metric to valid level"
   ]
  },
  {
   "cell_type": "code",
   "execution_count": null,
   "metadata": {},
   "outputs": [],
   "source": [
    "|"
   ]
  }
 ],
 "metadata": {
  "kernelspec": {
   "display_name": "Python 3.9",
   "language": "python",
   "name": "python3"
  },
  "language_info": {
   "codemirror_mode": {
    "name": "ipython",
    "version": 3
   },
   "file_extension": ".py",
   "mimetype": "text/x-python",
   "name": "python",
   "nbconvert_exporter": "python",
   "pygments_lexer": "ipython3",
   "version": "3.9.6"
  }
 },
 "nbformat": 4,
 "nbformat_minor": 4
}
