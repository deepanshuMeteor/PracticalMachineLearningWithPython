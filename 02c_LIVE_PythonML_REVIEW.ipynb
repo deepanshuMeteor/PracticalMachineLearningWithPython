{
 "cells": [
  {
   "cell_type": "markdown",
   "id": "1e5e695d",
   "metadata": {},
   "source": [
    "# Python Programming: Review\n",
    "### with ML, DS"
   ]
  },
  {
   "cell_type": "markdown",
   "id": "eff1f1bf",
   "metadata": {},
   "source": [
    "Store, Products\n",
    "\n",
    "What will sell *well* based on location in the store *and* price?"
   ]
  },
  {
   "cell_type": "markdown",
   "id": "b0d65f5a",
   "metadata": {},
   "source": [
    "$X : (X_0, X_1) : $ (Location, Price)"
   ]
  },
  {
   "cell_type": "code",
   "execution_count": 1,
   "id": "9e22f970",
   "metadata": {},
   "outputs": [],
   "source": [
    "X = [\n",
    "    (0, 1),\n",
    "    (0, 1.50),\n",
    "    (1, 1),\n",
    "    (1, 1.50),\n",
    "    (2, 1),\n",
    "    (2, 1.50),\n",
    "]"
   ]
  },
  {
   "cell_type": "code",
   "execution_count": 4,
   "id": "07ba7967",
   "metadata": {},
   "outputs": [
    {
     "data": {
      "text/plain": [
       "6"
      ]
     },
     "execution_count": 4,
     "metadata": {},
     "output_type": "execute_result"
    }
   ],
   "source": [
    "len(X)"
   ]
  },
  {
   "cell_type": "markdown",
   "id": "831b5e9f",
   "metadata": {},
   "source": [
    "### Regression\n",
    "\n",
    "$y$ : Quantity"
   ]
  },
  {
   "cell_type": "markdown",
   "id": "d8ec3fe0",
   "metadata": {},
   "source": [
    "$y$ number of items sold / month,"
   ]
  },
  {
   "cell_type": "code",
   "execution_count": 3,
   "id": "5cd38f7a",
   "metadata": {},
   "outputs": [],
   "source": [
    "y_orders = [\n",
    "    10,\n",
    "    12,\n",
    "    8,\n",
    "    6,\n",
    "    5,\n",
    "    4\n",
    "]"
   ]
  },
  {
   "cell_type": "markdown",
   "id": "ad87592c",
   "metadata": {},
   "source": [
    "Attempting a solution,"
   ]
  },
  {
   "cell_type": "markdown",
   "id": "43f59987",
   "metadata": {},
   "source": [
    "$\\hat{y}$ is a guess for $y$, "
   ]
  },
  {
   "cell_type": "code",
   "execution_count": 21,
   "id": "7902f08d",
   "metadata": {},
   "outputs": [
    {
     "name": "stdout",
     "output_type": "stream",
     "text": [
      "8 10\n",
      "7.5 12\n",
      "6 8\n",
      "5.5 6\n",
      "4 5\n",
      "3.5 4\n"
     ]
    }
   ],
   "source": [
    "base = 9\n",
    "location_weight = -2\n",
    "price_weight = -1\n",
    "\n",
    "\n",
    "for (x0, x1), y in zip(X, y_orders):\n",
    "    yhat = location_weight * x0 + price_weight * x1 + base\n",
    "    \n",
    "    print(yhat, y)"
   ]
  },
  {
   "cell_type": "markdown",
   "id": "f390e596",
   "metadata": {},
   "source": [
    "Keeping track of the errors, predictions,"
   ]
  },
  {
   "cell_type": "code",
   "execution_count": 37,
   "id": "780ec978",
   "metadata": {},
   "outputs": [],
   "source": [
    "base = 9\n",
    "location_weight = -2\n",
    "price_weight = -1\n",
    "\n",
    "\n",
    "predictions = []\n",
    "errors = []\n",
    "\n",
    "for (x0, x1), y in zip(X, y_orders):\n",
    "    yhat = location_weight * x0 + price_weight * x1 + base\n",
    "    \n",
    "    predictions.append(yhat)\n",
    "    errors.append(abs(y - yhat)) # abs = throw away sign"
   ]
  },
  {
   "cell_type": "code",
   "execution_count": 38,
   "id": "25541922",
   "metadata": {},
   "outputs": [
    {
     "data": {
      "text/plain": [
       "10.5"
      ]
     },
     "execution_count": 38,
     "metadata": {},
     "output_type": "execute_result"
    }
   ],
   "source": [
    "sum(errors)"
   ]
  },
  {
   "cell_type": "markdown",
   "id": "95c70d96",
   "metadata": {},
   "source": [
    "### Classification"
   ]
  },
  {
   "cell_type": "markdown",
   "id": "43ba6470",
   "metadata": {},
   "source": [
    "$y$ : (True, False)"
   ]
  },
  {
   "cell_type": "code",
   "execution_count": 75,
   "id": "6f46afcb",
   "metadata": {},
   "outputs": [],
   "source": [
    "y_like = [\n",
    "    True,\n",
    "    True,\n",
    "    True, \n",
    "    False, \n",
    "    False,\n",
    "    False\n",
    "]"
   ]
  },
  {
   "cell_type": "code",
   "execution_count": 76,
   "id": "6bbc0908",
   "metadata": {},
   "outputs": [
    {
     "data": {
      "text/plain": [
       "[(0, 1), (0, 1.5), (1, 1), (1, 1.5), (2, 1), (2, 1.5)]"
      ]
     },
     "execution_count": 76,
     "metadata": {},
     "output_type": "execute_result"
    }
   ],
   "source": [
    "X"
   ]
  },
  {
   "cell_type": "markdown",
   "id": "067c242e",
   "metadata": {},
   "source": [
    "\"Decision-Tree\" algorithmic solution,"
   ]
  },
  {
   "cell_type": "code",
   "execution_count": 129,
   "id": "8196d4c0",
   "metadata": {},
   "outputs": [],
   "source": [
    "predictions_like = []\n",
    "errors_like = []\n",
    "\n",
    "\n",
    "for (x_loc, x_price), y in zip(X, y_like):\n",
    "    yhat = None\n",
    "    \n",
    "    if x_loc <= 0:\n",
    "        yhat = True\n",
    "    elif x_price -1 <= 0:\n",
    "        yhat = True\n",
    "    else:\n",
    "        yhat = False\n",
    "    \n",
    "    predictions_like.append(yhat)\n",
    "    errors_like.append( int(y != yhat) )\n",
    "        "
   ]
  },
  {
   "cell_type": "code",
   "execution_count": 130,
   "id": "2582d614",
   "metadata": {},
   "outputs": [
    {
     "data": {
      "text/plain": [
       "[True, True, True, False, True, False]"
      ]
     },
     "execution_count": 130,
     "metadata": {},
     "output_type": "execute_result"
    }
   ],
   "source": [
    "predictions_like"
   ]
  },
  {
   "cell_type": "code",
   "execution_count": 131,
   "id": "af07ee12",
   "metadata": {},
   "outputs": [
    {
     "data": {
      "text/plain": [
       "1"
      ]
     },
     "execution_count": 131,
     "metadata": {},
     "output_type": "execute_result"
    }
   ],
   "source": [
    "sum(errors_like)"
   ]
  },
  {
   "cell_type": "markdown",
   "id": "70b9aa4c",
   "metadata": {},
   "source": [
    "#### Aside: Using logical operators,"
   ]
  },
  {
   "cell_type": "code",
   "execution_count": 138,
   "id": "8afa24bd",
   "metadata": {},
   "outputs": [
    {
     "name": "stdout",
     "output_type": "stream",
     "text": [
      "True True\n",
      "True True\n",
      "True True\n",
      "False False\n",
      "False True\n",
      "False False\n"
     ]
    }
   ],
   "source": [
    "for (x_loc, x_price), y in zip(X, y_like):\n",
    "    yhat = (x_loc <= 0) or (x_price -1 <= 0)\n",
    "    \n",
    "    print(y, yhat)\n",
    "    \n",
    "    # Q. this formula produces the same predictions, why?\n",
    "    # yhat = bool((x_loc <= 0) + (x_price -1 <= 0))"
   ]
  },
  {
   "cell_type": "markdown",
   "id": "e76432ac",
   "metadata": {},
   "source": [
    "### Classification: Score-based solution,"
   ]
  },
  {
   "cell_type": "code",
   "execution_count": 87,
   "id": "2bb6ad1e",
   "metadata": {},
   "outputs": [],
   "source": [
    "score_like = {'location': 3, 'price': 2, 'base': -7}"
   ]
  },
  {
   "cell_type": "code",
   "execution_count": 88,
   "id": "450b8ae9",
   "metadata": {},
   "outputs": [
    {
     "data": {
      "text/plain": [
       "[True, True, True, False, False, False]"
      ]
     },
     "execution_count": 88,
     "metadata": {},
     "output_type": "execute_result"
    }
   ],
   "source": [
    "y_like"
   ]
  },
  {
   "cell_type": "code",
   "execution_count": 89,
   "id": "98ca8017",
   "metadata": {},
   "outputs": [
    {
     "name": "stdout",
     "output_type": "stream",
     "text": [
      "2\n",
      "3.0\n",
      "5\n",
      "6.0\n",
      "8\n",
      "9.0\n"
     ]
    }
   ],
   "source": [
    "for (x0, x1) in X:\n",
    "    print(x0 * score_like['location']  + x1 * score_like['price'])"
   ]
  },
  {
   "cell_type": "code",
   "execution_count": 90,
   "id": "c535c5df",
   "metadata": {},
   "outputs": [],
   "source": [
    "predictions_score = []"
   ]
  },
  {
   "cell_type": "code",
   "execution_count": 91,
   "id": "ef91cfcf",
   "metadata": {},
   "outputs": [],
   "source": [
    "for (x0, x1) in X:\n",
    "    score = x0 * score_like['location']  + x1 * score_like['price'] + score_like['base']\n",
    "    \n",
    "    predictions_score.append( score < 0 )"
   ]
  },
  {
   "cell_type": "code",
   "execution_count": 92,
   "id": "1d63b111",
   "metadata": {},
   "outputs": [
    {
     "data": {
      "text/plain": [
       "[True, True, True, False, False, False]"
      ]
     },
     "execution_count": 92,
     "metadata": {},
     "output_type": "execute_result"
    }
   ],
   "source": [
    "y_like"
   ]
  },
  {
   "cell_type": "code",
   "execution_count": 93,
   "id": "d7c2db6c",
   "metadata": {},
   "outputs": [
    {
     "data": {
      "text/plain": [
       "[True, True, True, True, False, False]"
      ]
     },
     "execution_count": 93,
     "metadata": {},
     "output_type": "execute_result"
    }
   ],
   "source": [
    "predictions_score"
   ]
  },
  {
   "cell_type": "markdown",
   "id": "8ac865db",
   "metadata": {},
   "source": [
    "## Reflections"
   ]
  },
  {
   "cell_type": "markdown",
   "id": "db832514",
   "metadata": {},
   "source": [
    "$(X, y) \\rightarrow \\mathcal{Alg} \\rightarrow (w, b) \\rightarrow \\hat{y} = f(X; w, b)$"
   ]
  },
  {
   "cell_type": "markdown",
   "id": "f52d14be",
   "metadata": {},
   "source": [
    "A prediction function $\\hat{f}$ which produces guesses for $y$, $\\hat{y}$ uses the parameters $(w,b)$ directly to compute the quantity of interest,"
   ]
  },
  {
   "cell_type": "markdown",
   "id": "37e4675c",
   "metadata": {},
   "source": [
    "$\\hat{y} = \\hat{f}(X) = w_0x_0 + w_1x_1 + b$ "
   ]
  },
  {
   "cell_type": "markdown",
   "id": "cd119866",
   "metadata": {},
   "source": [
    "In the case of classification we can reuse this same prediction function to produce a *score* which we then *test* to give us `True`,`False`, "
   ]
  },
  {
   "cell_type": "markdown",
   "id": "9a39b833",
   "metadata": {},
   "source": [
    "$\\hat{y} = \\hat{f}(X) = (w_0x_0 + w_1x_1 + b) < 0 $ "
   ]
  },
  {
   "cell_type": "markdown",
   "id": "03a266ec",
   "metadata": {},
   "source": [
    "Other approaches will use $(w, b)$ differently,"
   ]
  },
  {
   "cell_type": "markdown",
   "id": "295619f5",
   "metadata": {},
   "source": [
    "Aproximiately, recall the formula for the decision tree is something like,"
   ]
  },
  {
   "cell_type": "markdown",
   "id": "e7c6794b",
   "metadata": {},
   "source": [
    "```python\n",
    "    yhat = (x_loc <= 0) or (x_price -1 <= 0)\n",
    "```"
   ]
  },
  {
   "cell_type": "markdown",
   "id": "f0479b86",
   "metadata": {},
   "source": [
    "$\\hat{y} = \\hat{f}(X) = \\mathbb{1}(x_0 + w_0 <= 0) + \\mathbb{1}(x_1 + w_1 <= 0)$"
   ]
  },
  {
   "cell_type": "markdown",
   "id": "bc3f757b",
   "metadata": {},
   "source": [
    "Where $\\mathbb{1}(C)$ means 1 if C is `True`, `0` otherwise. "
   ]
  },
  {
   "cell_type": "markdown",
   "id": "19806e14",
   "metadata": {},
   "source": [
    "---"
   ]
  },
  {
   "cell_type": "markdown",
   "id": "d48e6eee",
   "metadata": {},
   "source": [
    "The principal question which remains is: what $\\mathcal{Alg}$ are there, and what prediction models, $\\hat{f}$, "
   ]
  },
  {
   "cell_type": "markdown",
   "id": "3c1e085f",
   "metadata": {},
   "source": [
    "$(X, y) \\rightarrow \\mathcal{Alg} \\rightarrow (w, b) \\rightarrow \\hat{y} = \\hat{f}(X; w, b)$"
   ]
  },
  {
   "cell_type": "markdown",
   "id": "e52e838f",
   "metadata": {},
   "source": [
    "## Exercise"
   ]
  },
  {
   "cell_type": "markdown",
   "id": "33b5af23",
   "metadata": {},
   "source": [
    "* Loop over `X_age_location` using `zip` as above.\n",
    "\n",
    "* Define a `age_weight`, `location_weight` and a `base`.\n",
    "\n",
    "* Use the linear formula above (age * age_weight ...) to a compute a prediction.\n",
    "\n",
    "* Revise your weights/base until your computed prediction \"is close to\" to the observed `y_holiday` entry."
   ]
  },
  {
   "cell_type": "code",
   "execution_count": 97,
   "id": "3efc2d15",
   "metadata": {},
   "outputs": [],
   "source": [
    "X_age_location = [\n",
    "    (18, 100), # age, distance from london\n",
    "    (20, 5), \n",
    "    (34, 15),\n",
    "    (52, 20),\n",
    "]\n",
    "\n",
    "y_holiday = [ # cost spent on holiday\n",
    "    100,\n",
    "    200,\n",
    "    500, \n",
    "    550\n",
    "]"
   ]
  },
  {
   "cell_type": "markdown",
   "id": "ac159e99",
   "metadata": {},
   "source": [
    "HINT: the first `zip` loop above."
   ]
  },
  {
   "cell_type": "markdown",
   "id": "0206902e",
   "metadata": {},
   "source": [
    "---"
   ]
  },
  {
   "cell_type": "markdown",
   "id": "ec34c9ce",
   "metadata": {},
   "source": [
    "#### Stretch\n",
    "* using three nested loops, find a good set of weights/base:\n",
    "\n",
    "```python\n",
    "attempts = []\n",
    "\n",
    "for a_weight in range(-10, 10):\n",
    "    for l_weight in range(-10, 10):\n",
    "        for x,y in ...\n",
    "            yhat = ... a_weight/10 ... + l_weight/10 ..  + ...\n",
    "        total_error = sum(errors)\n",
    "        \n",
    "        attempts.append( (total_error, (a_weight, l_weight) )\n",
    "                        \n",
    "min(attempts) # entry with the lowest error\n",
    "```"
   ]
  }
 ],
 "metadata": {
  "kernelspec": {
   "display_name": "Python 3.9",
   "language": "python",
   "name": "python3"
  },
  "language_info": {
   "codemirror_mode": {
    "name": "ipython",
    "version": 3
   },
   "file_extension": ".py",
   "mimetype": "text/x-python",
   "name": "python",
   "nbconvert_exporter": "python",
   "pygments_lexer": "ipython3",
   "version": "3.9.6"
  }
 },
 "nbformat": 4,
 "nbformat_minor": 5
}
