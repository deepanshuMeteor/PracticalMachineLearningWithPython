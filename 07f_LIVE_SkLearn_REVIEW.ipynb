{
 "cells": [
  {
   "cell_type": "markdown",
   "id": "82584793",
   "metadata": {},
   "source": [
    "# Introduction to Machine Learning: SkLearn"
   ]
  },
  {
   "cell_type": "markdown",
   "id": "6a4b3ae2",
   "metadata": {},
   "source": [
    "sklearn is a package of libraries, we always wish to select a specific library,"
   ]
  },
  {
   "cell_type": "code",
   "execution_count": 1,
   "id": "3a73b2db",
   "metadata": {},
   "outputs": [],
   "source": [
    "from sklearn.linear_model import LinearRegression"
   ]
  },
  {
   "cell_type": "markdown",
   "id": "63f26d3e",
   "metadata": {},
   "source": [
    "---"
   ]
  },
  {
   "cell_type": "markdown",
   "id": "4ffa65df",
   "metadata": {},
   "source": [
    "We can use, eg., seaborn to download some real-world data,"
   ]
  },
  {
   "cell_type": "code",
   "execution_count": 4,
   "id": "0816ff31",
   "metadata": {},
   "outputs": [],
   "source": [
    "import seaborn as sns\n",
    "\n",
    "tips = sns.load_dataset('tips')"
   ]
  },
  {
   "cell_type": "code",
   "execution_count": 5,
   "id": "0d180496",
   "metadata": {},
   "outputs": [
    {
     "data": {
      "text/html": [
       "<div>\n",
       "<style scoped>\n",
       "    .dataframe tbody tr th:only-of-type {\n",
       "        vertical-align: middle;\n",
       "    }\n",
       "\n",
       "    .dataframe tbody tr th {\n",
       "        vertical-align: top;\n",
       "    }\n",
       "\n",
       "    .dataframe thead th {\n",
       "        text-align: right;\n",
       "    }\n",
       "</style>\n",
       "<table border=\"1\" class=\"dataframe\">\n",
       "  <thead>\n",
       "    <tr style=\"text-align: right;\">\n",
       "      <th></th>\n",
       "      <th>total_bill</th>\n",
       "      <th>tip</th>\n",
       "      <th>sex</th>\n",
       "      <th>smoker</th>\n",
       "      <th>day</th>\n",
       "      <th>time</th>\n",
       "      <th>size</th>\n",
       "    </tr>\n",
       "  </thead>\n",
       "  <tbody>\n",
       "    <tr>\n",
       "      <th>175</th>\n",
       "      <td>32.90</td>\n",
       "      <td>3.11</td>\n",
       "      <td>Male</td>\n",
       "      <td>Yes</td>\n",
       "      <td>Sun</td>\n",
       "      <td>Dinner</td>\n",
       "      <td>2</td>\n",
       "    </tr>\n",
       "    <tr>\n",
       "      <th>88</th>\n",
       "      <td>24.71</td>\n",
       "      <td>5.85</td>\n",
       "      <td>Male</td>\n",
       "      <td>No</td>\n",
       "      <td>Thur</td>\n",
       "      <td>Lunch</td>\n",
       "      <td>2</td>\n",
       "    </tr>\n",
       "    <tr>\n",
       "      <th>44</th>\n",
       "      <td>30.40</td>\n",
       "      <td>5.60</td>\n",
       "      <td>Male</td>\n",
       "      <td>No</td>\n",
       "      <td>Sun</td>\n",
       "      <td>Dinner</td>\n",
       "      <td>4</td>\n",
       "    </tr>\n",
       "  </tbody>\n",
       "</table>\n",
       "</div>"
      ],
      "text/plain": [
       "     total_bill   tip   sex smoker   day    time  size\n",
       "175       32.90  3.11  Male    Yes   Sun  Dinner     2\n",
       "88        24.71  5.85  Male     No  Thur   Lunch     2\n",
       "44        30.40  5.60  Male     No   Sun  Dinner     4"
      ]
     },
     "execution_count": 5,
     "metadata": {},
     "output_type": "execute_result"
    }
   ],
   "source": [
    "tips.sample(3)"
   ]
  },
  {
   "cell_type": "markdown",
   "id": "64c597e1",
   "metadata": {},
   "source": [
    "...seaborn is a visualization which happens to include a dataset downloader.."
   ]
  },
  {
   "cell_type": "markdown",
   "id": "c43b937b",
   "metadata": {},
   "source": [
    "---"
   ]
  },
  {
   "cell_type": "markdown",
   "id": "5fe3b00c",
   "metadata": {},
   "source": [
    "Choosen columns for learning, "
   ]
  },
  {
   "cell_type": "code",
   "execution_count": 8,
   "id": "27d19d55",
   "metadata": {},
   "outputs": [],
   "source": [
    "features = ['total_bill', 'size']\n",
    "target = 'tip'"
   ]
  },
  {
   "cell_type": "markdown",
   "id": "0954a017",
   "metadata": {},
   "source": [
    "This gives us $(X, y)$,"
   ]
  },
  {
   "cell_type": "code",
   "execution_count": 7,
   "id": "52222d9f",
   "metadata": {},
   "outputs": [],
   "source": [
    "X = tips[features]\n",
    "y = tips[target]"
   ]
  },
  {
   "cell_type": "code",
   "execution_count": 31,
   "id": "7c2afa62",
   "metadata": {},
   "outputs": [],
   "source": [
    "X_new = X.sample(3) # pretend these are some new customers"
   ]
  },
  {
   "cell_type": "markdown",
   "id": "79291791",
   "metadata": {},
   "source": [
    "The $\\mathcal{Alg}$ here is `LinearRegression().fit`,"
   ]
  },
  {
   "cell_type": "code",
   "execution_count": 10,
   "id": "d428b635",
   "metadata": {},
   "outputs": [],
   "source": [
    "model = LinearRegression().fit(X, y)"
   ]
  },
  {
   "cell_type": "markdown",
   "id": "e947d1c7",
   "metadata": {},
   "source": [
    "The $\\hat{f}$ is `model.predict`,"
   ]
  },
  {
   "cell_type": "code",
   "execution_count": 33,
   "id": "60eabac0",
   "metadata": {},
   "outputs": [],
   "source": [
    "yhat_new = model.predict( X_new )"
   ]
  },
  {
   "cell_type": "markdown",
   "id": "b8c39eb4",
   "metadata": {},
   "source": [
    "As before, $\\hat{y} = \\hat{f}(X^{new})$"
   ]
  },
  {
   "cell_type": "code",
   "execution_count": 34,
   "id": "e02156fa",
   "metadata": {},
   "outputs": [
    {
     "data": {
      "text/plain": [
       "array([3.13277334, 2.29835331, 1.84313083])"
      ]
     },
     "execution_count": 34,
     "metadata": {},
     "output_type": "execute_result"
    }
   ],
   "source": [
    "yhat_new"
   ]
  },
  {
   "cell_type": "markdown",
   "id": "5a9aedc4",
   "metadata": {},
   "source": [
    "And we can get the total error on the historical data,"
   ]
  },
  {
   "cell_type": "code",
   "execution_count": 35,
   "id": "21b1888e",
   "metadata": {},
   "outputs": [
    {
     "data": {
      "text/plain": [
       "0.46786930879612587"
      ]
     },
     "execution_count": 35,
     "metadata": {},
     "output_type": "execute_result"
    }
   ],
   "source": [
    "model.score(X, y)"
   ]
  },
  {
   "cell_type": "markdown",
   "id": "1045a4ab",
   "metadata": {},
   "source": [
    "---"
   ]
  },
  {
   "cell_type": "markdown",
   "id": "f870f08d",
   "metadata": {},
   "source": [
    "### Aside: looking at the detials\n"
   ]
  },
  {
   "cell_type": "markdown",
   "id": "8bad58f5",
   "metadata": {},
   "source": [
    "The model parameters,"
   ]
  },
  {
   "cell_type": "code",
   "execution_count": 18,
   "id": "4e427f95",
   "metadata": {},
   "outputs": [],
   "source": [
    "(w0, w1), b = model.coef_, model.intercept_"
   ]
  },
  {
   "cell_type": "code",
   "execution_count": 23,
   "id": "7fdbd242",
   "metadata": {},
   "outputs": [],
   "source": [
    "x0, x1 = X['total_bill'], X['size']\n",
    "\n",
    "yhat = w0 * x0 + w1 * x1 + b "
   ]
  },
  {
   "cell_type": "markdown",
   "id": "c7d7fbc3",
   "metadata": {},
   "source": [
    "The average error, "
   ]
  },
  {
   "cell_type": "code",
   "execution_count": 47,
   "id": "f773da2e",
   "metadata": {},
   "outputs": [
    {
     "data": {
      "text/plain": [
       "0.7390035049097032"
      ]
     },
     "execution_count": 47,
     "metadata": {},
     "output_type": "execute_result"
    }
   ],
   "source": [
    "sum(abs(yhat - y))/len(y)"
   ]
  },
  {
   "cell_type": "code",
   "execution_count": null,
   "id": "d7ce7ac6",
   "metadata": {},
   "outputs": [],
   "source": []
  }
 ],
 "metadata": {
  "kernelspec": {
   "display_name": "Python 3.9",
   "language": "python",
   "name": "python3"
  },
  "language_info": {
   "codemirror_mode": {
    "name": "ipython",
    "version": 3
   },
   "file_extension": ".py",
   "mimetype": "text/x-python",
   "name": "python",
   "nbconvert_exporter": "python",
   "pygments_lexer": "ipython3",
   "version": "3.9.6"
  }
 },
 "nbformat": 4,
 "nbformat_minor": 5
}
