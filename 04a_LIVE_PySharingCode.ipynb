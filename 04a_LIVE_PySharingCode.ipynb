{
 "cells": [
  {
   "cell_type": "markdown",
   "metadata": {},
   "source": [
    "# Sharing Code with Python\n",
    "### Functions & Libraries"
   ]
  },
  {
   "cell_type": "markdown",
   "metadata": {},
   "source": [
    "### How do I write code which can be shared?"
   ]
  },
  {
   "cell_type": "markdown",
   "metadata": {},
   "source": [
    "This code is specific (specialized) to a particular dataset,"
   ]
  },
  {
   "cell_type": "code",
   "execution_count": 1,
   "metadata": {},
   "outputs": [
    {
     "data": {
      "text/plain": [
       "132.0"
      ]
     },
     "execution_count": 1,
     "metadata": {},
     "output_type": "execute_result"
    }
   ],
   "source": [
    "x_balance = 1_000\n",
    "x_age = 32\n",
    "x_postcode = \"SW1 1AA\"\n",
    "\n",
    "y_profit = x_balance * 0.1 + x_age\n",
    "y_profit"
   ]
  },
  {
   "cell_type": "markdown",
   "metadata": {},
   "source": [
    "We would like to share the formula above and allow anyone to reuse it, regardless of what dataset they are dealing with..."
   ]
  },
  {
   "cell_type": "code",
   "execution_count": 2,
   "metadata": {},
   "outputs": [],
   "source": [
    "def profit_formula(x_balance, x_age):\n",
    "    y_profit = x_balance * 0.1 + x_age\n",
    "    \n",
    "    return y_profit"
   ]
  },
  {
   "cell_type": "markdown",
   "metadata": {},
   "source": [
    "Once this is defined we can *reuse* this formula with a variety of different input arguments,"
   ]
  },
  {
   "cell_type": "code",
   "execution_count": 3,
   "metadata": {},
   "outputs": [
    {
     "data": {
      "text/plain": [
       "132.0"
      ]
     },
     "execution_count": 3,
     "metadata": {},
     "output_type": "execute_result"
    }
   ],
   "source": [
    "profit_formula(1_000, 32) # y_profit = 1_000 * 0.1 + 32"
   ]
  },
  {
   "cell_type": "code",
   "execution_count": 4,
   "metadata": {},
   "outputs": [
    {
     "data": {
      "text/plain": [
       "265.0"
      ]
     },
     "execution_count": 4,
     "metadata": {},
     "output_type": "execute_result"
    }
   ],
   "source": [
    "profit_formula(2_000, 65)"
   ]
  },
  {
   "cell_type": "code",
   "execution_count": 5,
   "metadata": {},
   "outputs": [
    {
     "data": {
      "text/plain": [
       "365.0"
      ]
     },
     "execution_count": 5,
     "metadata": {},
     "output_type": "execute_result"
    }
   ],
   "source": [
    "profit_formula(3_000, 65)"
   ]
  },
  {
   "cell_type": "markdown",
   "metadata": {},
   "source": [
    "### Syntax"
   ]
  },
  {
   "cell_type": "markdown",
   "metadata": {},
   "source": [
    "```python\n",
    "def NAME_OF_FUCTION(INPUT_ARGUMENTS, ...):\n",
    "    \n",
    "    OUTPUT = CODE \n",
    "    \n",
    "    return OUPUT\n",
    "    \n",
    "```"
   ]
  },
  {
   "cell_type": "code",
   "execution_count": 6,
   "metadata": {},
   "outputs": [],
   "source": [
    "input_1 = 1000\n",
    "input_2 = 32\n",
    "\n",
    "output = profit_formula(input_1, input_2)"
   ]
  },
  {
   "cell_type": "code",
   "execution_count": 7,
   "metadata": {},
   "outputs": [
    {
     "data": {
      "text/plain": [
       "132.0"
      ]
     },
     "execution_count": 7,
     "metadata": {},
     "output_type": "execute_result"
    }
   ],
   "source": [
    "output"
   ]
  },
  {
   "cell_type": "markdown",
   "metadata": {},
   "source": [
    "A function can be understood as a rewriting sytem (copy / paste)..."
   ]
  },
  {
   "cell_type": "code",
   "execution_count": 8,
   "metadata": {},
   "outputs": [],
   "source": [
    "def calc(x, y):\n",
    "    return 2 * x + y"
   ]
  },
  {
   "cell_type": "code",
   "execution_count": 9,
   "metadata": {},
   "outputs": [
    {
     "data": {
      "text/plain": [
       "40"
      ]
     },
     "execution_count": 9,
     "metadata": {},
     "output_type": "execute_result"
    }
   ],
   "source": [
    "calc(10, 20)"
   ]
  },
  {
   "cell_type": "markdown",
   "metadata": {},
   "source": [
    "#### Step 1:\n",
    " replace calc(10, 20)   with     2 * x + y\n",
    " \n",
    "#### Step 2:\n",
    "  replace x with 10\n",
    "  replace y with 20\n",
    "  \n",
    "#### Step 3:\n",
    " run 2 * 10 + 20"
   ]
  },
  {
   "cell_type": "code",
   "execution_count": 10,
   "metadata": {},
   "outputs": [
    {
     "data": {
      "text/plain": [
       "True"
      ]
     },
     "execution_count": 10,
     "metadata": {},
     "output_type": "execute_result"
    }
   ],
   "source": [
    "calc(10, 20) == 2 * 10 + 20"
   ]
  },
  {
   "cell_type": "markdown",
   "metadata": {},
   "source": [
    "A function is, on one view, just a simple means to *name* a block of reusable code so you don't have to copy/paste the formula (its code) everywhere.  "
   ]
  },
  {
   "cell_type": "markdown",
   "metadata": {},
   "source": [
    "### Other advantages of functions"
   ]
  },
  {
   "cell_type": "markdown",
   "metadata": {},
   "source": [
    "* \"black-box abstraction\"\n",
    "    * you dont need to know how a function works, to use it"
   ]
  },
  {
   "cell_type": "markdown",
   "metadata": {},
   "source": [
    "I can be a user of functions without knowing how they work,"
   ]
  },
  {
   "cell_type": "code",
   "execution_count": 11,
   "metadata": {},
   "outputs": [
    {
     "data": {
      "text/plain": [
       "'HELLO'"
      ]
     },
     "execution_count": 11,
     "metadata": {},
     "output_type": "execute_result"
    }
   ],
   "source": [
    "\"Hello\".upper()"
   ]
  },
  {
   "cell_type": "code",
   "execution_count": 12,
   "metadata": {},
   "outputs": [
    {
     "data": {
      "text/plain": [
       "21.0"
      ]
     },
     "execution_count": 12,
     "metadata": {},
     "output_type": "execute_result"
    }
   ],
   "source": [
    "profit_formula(10, 20)"
   ]
  },
  {
   "cell_type": "markdown",
   "metadata": {},
   "source": [
    ", this is essential! Programming is involves 1000s of functions, at least."
   ]
  },
  {
   "cell_type": "markdown",
   "metadata": {},
   "source": [
    "* functions are easy to share, document, reuse...\n",
    "    * I can just give a person the name of a function and what inputs it needs"
   ]
  },
  {
   "cell_type": "code",
   "execution_count": 13,
   "metadata": {},
   "outputs": [
    {
     "data": {
      "text/plain": [
       "47"
      ]
     },
     "execution_count": 13,
     "metadata": {},
     "output_type": "execute_result"
    }
   ],
   "source": [
    "calc(20, 7)"
   ]
  },
  {
   "cell_type": "markdown",
   "metadata": {},
   "source": [
    "### How do write code to share it?"
   ]
  },
  {
   "cell_type": "markdown",
   "metadata": {},
   "source": [
    "The first step to sharing code (ie., making it reusable) is turning it into a function."
   ]
  },
  {
   "cell_type": "markdown",
   "metadata": {},
   "source": [
    "Consider the code below, it isn't very reusable..."
   ]
  },
  {
   "cell_type": "code",
   "execution_count": 14,
   "metadata": {},
   "outputs": [
    {
     "name": "stdout",
     "output_type": "stream",
     "text": [
      "What's your HR?60\n",
      "What's your BP?60\n",
      "How many hours did you sleep?10\n",
      "Your HR is 60.0\n",
      "Your BP is 60.0\n",
      "Your Sleep was 10.0\n",
      "\n",
      "Your health quality was calc'd to be 0.01\n"
     ]
    }
   ],
   "source": [
    "hr = float(input(\"What's your HR?\"))\n",
    "bp = float(input(\"What's your BP?\"))\n",
    "sleep = float(input(\"How many hours did you sleep?\"))\n",
    "\n",
    "quality = round( (sleep/12 - hr/120 - bp/200)/3 , 2)\n",
    "\n",
    "print(\"Your HR is\", hr)\n",
    "print(\"Your BP is\", bp)\n",
    "print(\"Your Sleep was\", sleep)\n",
    "print()\n",
    "print(\"Your health quality was calc'd to be\", quality)"
   ]
  },
  {
   "cell_type": "code",
   "execution_count": 15,
   "metadata": {},
   "outputs": [
    {
     "name": "stdout",
     "output_type": "stream",
     "text": [
      "What's your HR?10\n",
      "What's your BP?10\n",
      "How many hours did you sleep?10\n",
      "Your HR is 10.0\n",
      "Your BP is 10.0\n",
      "Your Sleep was 10.0\n",
      "\n",
      "Your health quality was calc'd to be 0.23\n"
     ]
    }
   ],
   "source": [
    "# ASK USER FOR THEIR DATA\n",
    "hr = float(input(\"What's your HR?\"))\n",
    "bp = float(input(\"What's your BP?\"))\n",
    "sleep = float(input(\"How many hours did you sleep?\"))\n",
    "\n",
    "# COMPUTE A QUALITY\n",
    "quality = round( (sleep/12 - hr/120 - bp/200)/3 , 2)\n",
    "\n",
    "# REPORT ON USER & QUALITY\n",
    "print(\"Your HR is\", hr)\n",
    "print(\"Your BP is\", bp)\n",
    "print(\"Your Sleep was\", sleep)\n",
    "print()\n",
    "print(\"Your health quality was calc'd to be\", quality)"
   ]
  },
  {
   "cell_type": "code",
   "execution_count": 16,
   "metadata": {},
   "outputs": [],
   "source": [
    "def health_ask():\n",
    "    hr = float(input(\"What's your HR?\"))\n",
    "    bp = float(input(\"What's your BP?\"))\n",
    "    sleep = float(input(\"How many hours did you sleep?\"))\n",
    "\n",
    "def health_quality():\n",
    "    quality = round( (sleep/12 - hr/120 - bp/200)/3 , 2)\n",
    "\n",
    "def health_report():\n",
    "    print(\"Your HR is\", hr)\n",
    "    print(\"Your BP is\", bp)\n",
    "    print(\"Your Sleep was\", sleep)\n",
    "    print()\n",
    "    print(\"Your health quality was calc'd to be\", quality)"
   ]
  },
  {
   "cell_type": "markdown",
   "metadata": {},
   "source": [
    "Above we have partitioned the code into three functions (abitary, could be more or fewer, eg., one each for each question).\n",
    "\n",
    "The problem at this point is that the variables defined within the functions are part of their \"defintion\", they are *local* to those functions. They are not output'd.\n",
    "\n",
    "(Aproximately, ) the only way of getting data into a function is using the arguments, and out of a function, using `return`. "
   ]
  },
  {
   "cell_type": "code",
   "execution_count": 17,
   "metadata": {},
   "outputs": [],
   "source": [
    "def health_ask():\n",
    "    return {\n",
    "        'HR'    :   float(input(\"What's your HR?\")),\n",
    "        'BP'    :   float(input(\"What's your BP?\")),\n",
    "        'Sleep' :   float(input(\"How many hours did you sleep?\")),\n",
    "    }\n",
    "\n",
    "def health_quality(sleep, hr, bp):\n",
    "    return round( (sleep/12 - hr/120 - bp/200)/3 , 2)\n",
    "\n",
    "def health_report(sleep, hr, bp, quality):\n",
    "    print(\"Your HR is\", hr)\n",
    "    print(\"Your BP is\", bp)\n",
    "    print(\"Your Sleep was\", sleep)\n",
    "    print()\n",
    "    print(\"Your health quality was calc'd to be\", quality)"
   ]
  },
  {
   "cell_type": "markdown",
   "metadata": {},
   "source": [
    "Above we have *defined* three \"receipes\" (algorithms, formula, functions...); we have yet to **RUN** them."
   ]
  },
  {
   "cell_type": "code",
   "execution_count": 18,
   "metadata": {},
   "outputs": [
    {
     "name": "stdout",
     "output_type": "stream",
     "text": [
      "What's your HR?10\n",
      "What's your BP?10\n",
      "How many hours did you sleep?10\n"
     ]
    }
   ],
   "source": [
    "data = health_ask() # save the return'd output"
   ]
  },
  {
   "cell_type": "markdown",
   "metadata": {},
   "source": [
    "`data` is the *saved* dictionary which is computed by `health_ask()`, which we RUN previously."
   ]
  },
  {
   "cell_type": "code",
   "execution_count": 19,
   "metadata": {},
   "outputs": [
    {
     "data": {
      "text/plain": [
       "{'HR': 10.0, 'BP': 10.0, 'Sleep': 10.0}"
      ]
     },
     "execution_count": 19,
     "metadata": {},
     "output_type": "execute_result"
    }
   ],
   "source": [
    "data"
   ]
  },
  {
   "cell_type": "markdown",
   "metadata": {},
   "source": [
    "We now run `health_quaity` using `data` as its input, and *save* the output (`return`'d value) in `result`, "
   ]
  },
  {
   "cell_type": "code",
   "execution_count": 20,
   "metadata": {},
   "outputs": [],
   "source": [
    "result = health_quality(data['Sleep'], data['HR'], data['BP'])"
   ]
  },
  {
   "cell_type": "markdown",
   "metadata": {},
   "source": [
    "Finally we use `health_report` to display all these values."
   ]
  },
  {
   "cell_type": "code",
   "execution_count": 21,
   "metadata": {},
   "outputs": [
    {
     "name": "stdout",
     "output_type": "stream",
     "text": [
      "Your HR is 10.0\n",
      "Your BP is 10.0\n",
      "Your Sleep was 10.0\n",
      "\n",
      "Your health quality was calc'd to be 0.23\n"
     ]
    }
   ],
   "source": [
    "health_report(data['Sleep'], data['HR'], data['BP'], result)"
   ]
  },
  {
   "cell_type": "markdown",
   "metadata": {},
   "source": [
    "---"
   ]
  },
  {
   "cell_type": "markdown",
   "metadata": {},
   "source": [
    "In one go, **using pre-defined functions**"
   ]
  },
  {
   "cell_type": "code",
   "execution_count": 22,
   "metadata": {},
   "outputs": [
    {
     "name": "stdout",
     "output_type": "stream",
     "text": [
      "What's your HR?10\n",
      "What's your BP?10\n",
      "How many hours did you sleep?10\n",
      "Your HR is 10.0\n",
      "Your BP is 10.0\n",
      "Your Sleep was 10.0\n",
      "\n",
      "Your health quality was calc'd to be 0.23\n"
     ]
    }
   ],
   "source": [
    "data   = health_ask()\n",
    "result = health_quality(data['Sleep'], data['HR'], data['BP'])\n",
    "\n",
    "health_report(data['Sleep'], data['HR'], data['BP'], result)"
   ]
  },
  {
   "cell_type": "markdown",
   "metadata": {},
   "source": [
    "Compare this with the original, using **no functions**,"
   ]
  },
  {
   "cell_type": "code",
   "execution_count": 23,
   "metadata": {},
   "outputs": [
    {
     "name": "stdout",
     "output_type": "stream",
     "text": [
      "What's your HR?10\n",
      "What's your BP?10\n",
      "How many hours did you sleep?10\n",
      "Your HR is 10.0\n",
      "Your BP is 10.0\n",
      "Your Sleep was 10.0\n",
      "\n",
      "Your health quality was calc'd to be 0.23\n"
     ]
    }
   ],
   "source": [
    "hr = float(input(\"What's your HR?\"))\n",
    "bp = float(input(\"What's your BP?\"))\n",
    "sleep = float(input(\"How many hours did you sleep?\"))\n",
    "\n",
    "quality = round( (sleep/12 - hr/120 - bp/200)/3 , 2)\n",
    "\n",
    "print(\"Your HR is\", hr)\n",
    "print(\"Your BP is\", bp)\n",
    "print(\"Your Sleep was\", sleep)\n",
    "print()\n",
    "print(\"Your health quality was calc'd to be\", quality)"
   ]
  },
  {
   "cell_type": "markdown",
   "metadata": {},
   "source": [
    "## Why use functions for data analysis?"
   ]
  },
  {
   "cell_type": "markdown",
   "metadata": {},
   "source": [
    "Mostly, the functions will be written by a *senior* team member (or in another team), and the junior/mid-level analyst will be a *client*.\n",
    "\n",
    "It is their job simply to learn the vocabulary defined by the software staff, and to learn how these \"functions\" (words, operations) fit together.\n",
    "\n",
    "This can be much simpler than learning python."
   ]
  },
  {
   "cell_type": "markdown",
   "metadata": {},
   "source": [
    "## How do I share functions?"
   ]
  },
  {
   "cell_type": "markdown",
   "metadata": {},
   "source": [
    "In jupyter, browse to the right folder (with your notebook), NEW **text file**. Rename so it ends with `.py`.\n",
    "\n",
    "Cut/paste the function into this file, and input **just the name** (ie., not `.py`). "
   ]
  },
  {
   "cell_type": "code",
   "execution_count": 24,
   "metadata": {},
   "outputs": [],
   "source": [
    "import shared"
   ]
  },
  {
   "cell_type": "code",
   "execution_count": 25,
   "metadata": {},
   "outputs": [
    {
     "data": {
      "text/plain": [
       "40"
      ]
     },
     "execution_count": 25,
     "metadata": {},
     "output_type": "execute_result"
    }
   ],
   "source": [
    "shared.calc(10, 20) # from shared.py"
   ]
  },
  {
   "cell_type": "code",
   "execution_count": 26,
   "metadata": {},
   "outputs": [
    {
     "data": {
      "text/plain": [
       "40"
      ]
     },
     "execution_count": 26,
     "metadata": {},
     "output_type": "execute_result"
    }
   ],
   "source": [
    "calc(10, 20) # from the notebook"
   ]
  },
  {
   "cell_type": "markdown",
   "metadata": {},
   "source": [
    "In practice you shouldnt have functions in both the **module** (file) and the notebook. Whilst sketching you can, but then you share the module only."
   ]
  },
  {
   "cell_type": "code",
   "execution_count": 27,
   "metadata": {},
   "outputs": [
    {
     "data": {
      "text/plain": [
       "10"
      ]
     },
     "execution_count": 27,
     "metadata": {},
     "output_type": "execute_result"
    }
   ],
   "source": [
    "shared.X_DEFAULT"
   ]
  },
  {
   "cell_type": "markdown",
   "metadata": {},
   "source": [
    "## What are modules?\n"
   ]
  },
  {
   "cell_type": "markdown",
   "metadata": {},
   "source": [
    "Modules are plain text files that end with `.py` and contain python code. You can `import` these files which *runs* them, and any terms which are defined within, can be used as `module.term`.\n",
    "\n",
    "Eg., consider a file called `shared.py`,\n",
    "\n",
    "```python\n",
    "X_DEFAULT = 10\n",
    "Y_DEAFULT = 20\n",
    "\n",
    "def calc(x, y):\n",
    "    return 2 * x + y\n",
    "```\n",
    "\n",
    "If I write, `import shared`, then I can also write,\n",
    "\n",
    "```python\n",
    "print(shared.X_DEFAULT))\n",
    "print(shared.calc(5, 10))\n",
    "```"
   ]
  },
  {
   "cell_type": "markdown",
   "metadata": {},
   "source": [
    "## Review"
   ]
  },
  {
   "cell_type": "markdown",
   "metadata": {},
   "source": [
    "Suppose I want to share a `crimes` prediction formula which predicts the number of crimes in an area..\n",
    "\n",
    "What should I call it?\n",
    "\n",
    "`def crimes(  ....   ):`\n",
    "\n",
    "What does this formula need as input?\n",
    "\n",
    "`def crimes(population, police, wealth):`\n",
    "\n",
    "What do I need to compute?\n",
    "\n",
    "```\n",
    "    wealth_per_person = wealth/population\n",
    "    police_per_person = police/population\n",
    "    baseline_crime = 1000/population\n",
    "    \n",
    "\n",
    "    prediction = baseline_crime - wealth_per_person - police_per_person\n",
    "```\n",
    "\n",
    "What's the output? Let's `return`,\n",
    "\n",
    "```\n",
    "    \n",
    "    return prediction\n",
    "    \n",
    "    \n",
    "```"
   ]
  },
  {
   "cell_type": "markdown",
   "metadata": {},
   "source": [
    "So I write,"
   ]
  },
  {
   "cell_type": "code",
   "execution_count": 33,
   "metadata": {},
   "outputs": [],
   "source": [
    "def crimes(population, police, wealth):\n",
    "    wealth_per_person = wealth/population\n",
    "    police_per_person = police/population\n",
    "    baseline_crime = 100_000/population\n",
    "    \n",
    "    prediction = baseline_crime - wealth_per_person - police_per_person\n",
    "    \n",
    "    return prediction"
   ]
  },
  {
   "cell_type": "markdown",
   "metadata": {},
   "source": [
    "This *defines* it (putting it in a book recepies, ) -- to *RUN* the algorithm, I use the name followed by a comma-separated sequences of its inputs..."
   ]
  },
  {
   "cell_type": "code",
   "execution_count": 34,
   "metadata": {
    "scrolled": true
   },
   "outputs": [
    {
     "data": {
      "text/plain": [
       "6.4975"
      ]
     },
     "execution_count": 34,
     "metadata": {},
     "output_type": "execute_result"
    }
   ],
   "source": [
    "crimes(10_000, 25, 35_000)"
   ]
  },
  {
   "cell_type": "markdown",
   "metadata": {},
   "source": [
    "Now let me pull this code out and *share* it. \n",
    "\n",
    "1. Create a blank text file with a useful name\n",
    "2. Import the file \n",
    "3. Use the module name (ie., file name) followed by .crimes"
   ]
  },
  {
   "cell_type": "code",
   "execution_count": 35,
   "metadata": {},
   "outputs": [],
   "source": [
    "import crimestats"
   ]
  },
  {
   "cell_type": "code",
   "execution_count": 36,
   "metadata": {},
   "outputs": [
    {
     "data": {
      "text/plain": [
       "3.986666666666667"
      ]
     },
     "execution_count": 36,
     "metadata": {},
     "output_type": "execute_result"
    }
   ],
   "source": [
    "crimestats.crimes(15_000, 200, 40_000)"
   ]
  },
  {
   "cell_type": "markdown",
   "metadata": {},
   "source": [
    "## Exercise (30 min)"
   ]
  },
  {
   "cell_type": "markdown",
   "metadata": {},
   "source": [
    "Let's predict some film ratings; and let's output a report."
   ]
  },
  {
   "cell_type": "code",
   "execution_count": 37,
   "metadata": {},
   "outputs": [],
   "source": [
    "def predict_like_sandler(age, food_cost):\n",
    "    if age > 18:\n",
    "        return 'NO'\n",
    "    elif food_cost > 10:\n",
    "        return 'YES'\n",
    "    else:\n",
    "        return 'NO'"
   ]
  },
  {
   "cell_type": "code",
   "execution_count": 39,
   "metadata": {},
   "outputs": [
    {
     "data": {
      "text/plain": [
       "'YES'"
      ]
     },
     "execution_count": 39,
     "metadata": {},
     "output_type": "execute_result"
    }
   ],
   "source": [
    "predict_like_sandler(10, 15)"
   ]
  },
  {
   "cell_type": "code",
   "execution_count": 42,
   "metadata": {},
   "outputs": [],
   "source": [
    "def film_report(name, age, food_cost):\n",
    "    like = predict_like_sandler(age, food_cost)\n",
    "    \n",
    "    print(name, 'likes this film:', like)"
   ]
  },
  {
   "cell_type": "code",
   "execution_count": 43,
   "metadata": {},
   "outputs": [
    {
     "name": "stdout",
     "output_type": "stream",
     "text": [
      "Michael likes this film: NO\n"
     ]
    }
   ],
   "source": [
    "film_report('Michael', 32, 10)"
   ]
  },
  {
   "cell_type": "markdown",
   "metadata": {},
   "source": [
    "### Questions"
   ]
  },
  {
   "cell_type": "markdown",
   "metadata": {},
   "source": [
    "* Modify the definition of `predict_like_sandler` add another argument, `run_time`\n",
    "    * HINT: add an extra argument at the end of def\n",
    "        * `def .. (..., extra):`\n",
    "* Modify the middle condition so that the food costs stays high, but also require the run_time to be low\n",
    "    * HINT: (food_cost > 10) and ( .... )\n",
    "* Modify `film_report` to accept a `run_time`\n",
    "    * HINT: just like your modification to `predict_like_sandler`\n",
    "    * HINT: it should just pass it to `predict_like_sandler(..., extra)`\n",
    "    * HINT: maybe you want to print the run time too...\n",
    "        * ie., `print()` the run_time in the report"
   ]
  },
  {
   "cell_type": "markdown",
   "metadata": {},
   "source": [
    "### EXTRA\n",
    "* Extract these functions it their own module & import"
   ]
  },
  {
   "cell_type": "code",
   "execution_count": null,
   "metadata": {},
   "outputs": [],
   "source": []
  }
 ],
 "metadata": {
  "kernelspec": {
   "display_name": "Python 3.9",
   "language": "python",
   "name": "python3"
  },
  "language_info": {
   "codemirror_mode": {
    "name": "ipython",
    "version": 3
   },
   "file_extension": ".py",
   "mimetype": "text/x-python",
   "name": "python",
   "nbconvert_exporter": "python",
   "pygments_lexer": "ipython3",
   "version": "3.9.6"
  }
 },
 "nbformat": 4,
 "nbformat_minor": 4
}
