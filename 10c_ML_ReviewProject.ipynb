{
 "cells": [
  {
   "cell_type": "markdown",
   "id": "6fba9e48",
   "metadata": {},
   "source": [
    "# Project: Filling-In Missing Reviews"
   ]
  },
  {
   "cell_type": "markdown",
   "id": "a950935a",
   "metadata": {},
   "source": [
    "## The Simulation"
   ]
  },
  {
   "cell_type": "markdown",
   "id": "e75adba5",
   "metadata": {},
   "source": [
    "Below we simulate three $X$ (feature columns):\n",
    "\n",
    "* arrival delay, $30 \\pm 15$ (minutes)\n",
    "* package size, `\"S\", \"M\", \"L\"`\n",
    "* depot distance, $2.5 \\pm 0.5$ km"
   ]
  },
  {
   "cell_type": "code",
   "execution_count": 85,
   "id": "265cc288",
   "metadata": {},
   "outputs": [],
   "source": [
    "import numpy as np"
   ]
  },
  {
   "cell_type": "code",
   "execution_count": 215,
   "id": "a8a44a6e",
   "metadata": {},
   "outputs": [],
   "source": [
    "N = 1000"
   ]
  },
  {
   "cell_type": "code",
   "execution_count": 216,
   "id": "2dc3e7eb",
   "metadata": {},
   "outputs": [],
   "source": [
    "# X\n",
    "arrival_delay  = np.random.normal(30, 15, size=N) \n",
    "package_size   = np.random.choice([\"S\", \"M\", \"L\"], p=(0.85, 0.10, 0.05), size=N)\n",
    "depot_distance = np.random.normal(2.5, 0.5, size=N) + 1"
   ]
  },
  {
   "cell_type": "markdown",
   "id": "063cfac5",
   "metadata": {},
   "source": [
    "From these we simulate a rating, we ask:\n",
    "\n",
    "* which arrival delays are below 15min?\n",
    "    * if so, you get +10, if not +4\n",
    "* which packages are small/medium and arrive within 30min?\n",
    "    * if so, you get +10, if not +4\n",
    "* which customers are far from the depot and whose package arrive within 30min?\n",
    "    * if so, you get +9, if not + 4\n",
    "* and let's add in some random effects\n",
    "    * add in $0 \\pm 2$\n",
    "    \n",
    "* we scale this total to go between $0 - 10$\n",
    "    * `10 * rating/max`"
   ]
  },
  {
   "cell_type": "code",
   "execution_count": 217,
   "id": "171319df",
   "metadata": {},
   "outputs": [],
   "source": [
    "# pieces of y\n",
    "on_time    = (arrival_delay < 15)\n",
    "small_time = ((package_size == \"S\") | (package_size == \"M\")) & (arrival_delay < 30)\n",
    "tolerant   = (depot_distance > 4) & (arrival_delay < 30)\n",
    "effects    = np.random.normal(0, 2, size=N)"
   ]
  },
  {
   "cell_type": "code",
   "execution_count": 218,
   "id": "d09235f3",
   "metadata": {},
   "outputs": [],
   "source": [
    "# y\n",
    "rating = (on_time * 6 + 4) + (small_time * 6 + 4) + (tolerant * 5 + 4) + 2 + effects\n",
    "rating = (10 * rating/rating.max())"
   ]
  },
  {
   "cell_type": "code",
   "execution_count": 219,
   "id": "bbe9446f",
   "metadata": {},
   "outputs": [
    {
     "data": {
      "text/plain": [
       "(5.083495080441796, 1.4702881150722316, 10.0, 2.4095727229627166)"
      ]
     },
     "execution_count": 219,
     "metadata": {},
     "output_type": "execute_result"
    }
   ],
   "source": [
    "# Summary\n",
    "rating.mean(), rating.std(), rating.max(), rating.min()"
   ]
  },
  {
   "cell_type": "markdown",
   "id": "38b1d27b",
   "metadata": {},
   "source": [
    "----"
   ]
  },
  {
   "cell_type": "markdown",
   "id": "80b5ebc5",
   "metadata": {},
   "source": [
    "## Into a Table"
   ]
  },
  {
   "cell_type": "code",
   "execution_count": 220,
   "id": "3a546c10",
   "metadata": {},
   "outputs": [],
   "source": [
    "import pandas as pd"
   ]
  },
  {
   "cell_type": "code",
   "execution_count": 221,
   "id": "4b34b4fe",
   "metadata": {},
   "outputs": [],
   "source": [
    "review = pd.DataFrame({\n",
    "    \"Delay\": arrival_delay.round(),\n",
    "    \"Size\": package_size,\n",
    "    \"Distance\": depot_distance.round(1),\n",
    "    \"Rating\": rating.round(1)\n",
    "})"
   ]
  },
  {
   "cell_type": "code",
   "execution_count": 222,
   "id": "b6bba5c5",
   "metadata": {},
   "outputs": [
    {
     "data": {
      "text/html": [
       "<div>\n",
       "<style scoped>\n",
       "    .dataframe tbody tr th:only-of-type {\n",
       "        vertical-align: middle;\n",
       "    }\n",
       "\n",
       "    .dataframe tbody tr th {\n",
       "        vertical-align: top;\n",
       "    }\n",
       "\n",
       "    .dataframe thead th {\n",
       "        text-align: right;\n",
       "    }\n",
       "</style>\n",
       "<table border=\"1\" class=\"dataframe\">\n",
       "  <thead>\n",
       "    <tr style=\"text-align: right;\">\n",
       "      <th></th>\n",
       "      <th>Delay</th>\n",
       "      <th>Size</th>\n",
       "      <th>Distance</th>\n",
       "      <th>Rating</th>\n",
       "    </tr>\n",
       "  </thead>\n",
       "  <tbody>\n",
       "    <tr>\n",
       "      <th>86</th>\n",
       "      <td>14.0</td>\n",
       "      <td>S</td>\n",
       "      <td>3.5</td>\n",
       "      <td>7.0</td>\n",
       "    </tr>\n",
       "    <tr>\n",
       "      <th>226</th>\n",
       "      <td>41.0</td>\n",
       "      <td>L</td>\n",
       "      <td>2.5</td>\n",
       "      <td>4.6</td>\n",
       "    </tr>\n",
       "    <tr>\n",
       "      <th>93</th>\n",
       "      <td>23.0</td>\n",
       "      <td>S</td>\n",
       "      <td>3.3</td>\n",
       "      <td>5.9</td>\n",
       "    </tr>\n",
       "  </tbody>\n",
       "</table>\n",
       "</div>"
      ],
      "text/plain": [
       "     Delay Size  Distance  Rating\n",
       "86    14.0    S       3.5     7.0\n",
       "226   41.0    L       2.5     4.6\n",
       "93    23.0    S       3.3     5.9"
      ]
     },
     "execution_count": 222,
     "metadata": {},
     "output_type": "execute_result"
    }
   ],
   "source": [
    "review.sample(3)"
   ]
  },
  {
   "cell_type": "markdown",
   "id": "07ba64d6",
   "metadata": {},
   "source": [
    "#### Simulating Missing Data"
   ]
  },
  {
   "cell_type": "markdown",
   "id": "f87338b2",
   "metadata": {},
   "source": [
    "Below we obtain the indexes of a $70\\%$ sample taken at random, and set their `Rating` column to `None`, ie., missing...."
   ]
  },
  {
   "cell_type": "code",
   "execution_count": 223,
   "id": "7268de56",
   "metadata": {},
   "outputs": [],
   "source": [
    "missing_index = review['Rating'].sample(frac=0.7).index\n",
    "\n",
    "review.loc[missing_index, 'Rating'] = None"
   ]
  },
  {
   "cell_type": "markdown",
   "id": "bbc682f3",
   "metadata": {},
   "source": [
    "So now we have the final, simulated, dataset,"
   ]
  },
  {
   "cell_type": "code",
   "execution_count": 224,
   "id": "796d5236",
   "metadata": {},
   "outputs": [
    {
     "data": {
      "text/html": [
       "<div>\n",
       "<style scoped>\n",
       "    .dataframe tbody tr th:only-of-type {\n",
       "        vertical-align: middle;\n",
       "    }\n",
       "\n",
       "    .dataframe tbody tr th {\n",
       "        vertical-align: top;\n",
       "    }\n",
       "\n",
       "    .dataframe thead th {\n",
       "        text-align: right;\n",
       "    }\n",
       "</style>\n",
       "<table border=\"1\" class=\"dataframe\">\n",
       "  <thead>\n",
       "    <tr style=\"text-align: right;\">\n",
       "      <th></th>\n",
       "      <th>Delay</th>\n",
       "      <th>Size</th>\n",
       "      <th>Distance</th>\n",
       "      <th>Rating</th>\n",
       "    </tr>\n",
       "  </thead>\n",
       "  <tbody>\n",
       "    <tr>\n",
       "      <th>475</th>\n",
       "      <td>45.0</td>\n",
       "      <td>S</td>\n",
       "      <td>4.1</td>\n",
       "      <td>NaN</td>\n",
       "    </tr>\n",
       "    <tr>\n",
       "      <th>74</th>\n",
       "      <td>14.0</td>\n",
       "      <td>S</td>\n",
       "      <td>3.9</td>\n",
       "      <td>NaN</td>\n",
       "    </tr>\n",
       "    <tr>\n",
       "      <th>277</th>\n",
       "      <td>3.0</td>\n",
       "      <td>S</td>\n",
       "      <td>3.9</td>\n",
       "      <td>NaN</td>\n",
       "    </tr>\n",
       "    <tr>\n",
       "      <th>76</th>\n",
       "      <td>18.0</td>\n",
       "      <td>S</td>\n",
       "      <td>4.3</td>\n",
       "      <td>NaN</td>\n",
       "    </tr>\n",
       "    <tr>\n",
       "      <th>825</th>\n",
       "      <td>4.0</td>\n",
       "      <td>S</td>\n",
       "      <td>3.6</td>\n",
       "      <td>NaN</td>\n",
       "    </tr>\n",
       "  </tbody>\n",
       "</table>\n",
       "</div>"
      ],
      "text/plain": [
       "     Delay Size  Distance  Rating\n",
       "475   45.0    S       4.1     NaN\n",
       "74    14.0    S       3.9     NaN\n",
       "277    3.0    S       3.9     NaN\n",
       "76    18.0    S       4.3     NaN\n",
       "825    4.0    S       3.6     NaN"
      ]
     },
     "execution_count": 224,
     "metadata": {},
     "output_type": "execute_result"
    }
   ],
   "source": [
    "review.sample(5)"
   ]
  },
  {
   "cell_type": "markdown",
   "id": "64cf7ff8",
   "metadata": {},
   "source": [
    "----"
   ]
  },
  {
   "cell_type": "markdown",
   "id": "38aeec37",
   "metadata": {},
   "source": [
    "## <font color=purple> The Project </font>"
   ]
  },
  {
   "cell_type": "markdown",
   "id": "fbbb4576",
   "metadata": {},
   "source": [
    "#### Part 0: Clean the `review` dataset\n",
    "* Define a new variable `clean` which is the `review` dataset without missing data\n",
    "    * HINT: `.dropna`\n",
    "    * see the pandas notes, which discuss removing missing data\n",
    "    \n",
    "#### Part 1: Build a Linear Regression Model of the `Rating`\n",
    "* Choose `X` to be the `Delay` and `Distance` columns in the `clean` dataset\n",
    "* Choose `y` to be the `Rating` column\n",
    "* Import `LinearRegression`\n",
    "    * `.fit`, `.predict` \n",
    "* Score on the same dataset for now\n",
    "\n",
    "#### Part 2: Predict the reveiws which we don't know\n",
    "* Find the `Delay` and `Distance` parts of the rows with a missing `Rating`\n",
    "    * HINT: `review.loc[ review['Rating'].isnull(),   ['Delay', 'Distance']]`\n",
    "    * NOTE: this uses `review`, not `clean` because `clean` doesnt have missing data\n",
    "* Put this data into your `.predict` and therefore obtain the missing ratings\n",
    "* EXTRA (harder):\n",
    "    * Glue the missing ratings onto the delays and distances\n",
    "    * HINT: use `pd.DataFrame` to create \n",
    "        * `Delay`, `Distance` from your missing, `Rating` from your predictions\n",
    "        * use `pd.concat` with your `clean` data, ignoring the `Size` column\n",
    "            * HINT: `clean.drop(columns=['Size'])`\n",
    "    \n",
    "    \n",
    "#### Step 3: Obtain a cross-validated score for various models\n",
    "* Import `cross_val_score` and obtain a score for:\n",
    "    * `LinearRegression`  (from sklearn.linear_model import...)\n",
    "    * `DecisionTreeRegressor` (from sklearn.tree import ...)\n",
    "    * `KNearestRegressor` (from sklearn.neighbors import ...)\n",
    "    * HINT: `cross_val_score(KNearestRegressor(), clean[...], clean[...]).mean()`\n",
    "* Which approach produces the best score?\n",
    "\n",
    "    \n",
    "## EXTRA\n",
    "\n",
    "#### Part 4: Include `size` in your `.fit`\n",
    "\n",
    "* Import the `OrdinalEncoder`\n",
    "* `.fit` and then `.transform` the `size` column (into numbers)\n",
    "* Use the transformed column with your `.fit` and `.predict`\n",
    "    * HINT: `X_delay`, `X_distance`, `X_size_enc` \n",
    "    * HINT: `X = np.c_[X_delay, X_distance, X_size_enc]`"
   ]
  },
  {
   "cell_type": "markdown",
   "id": "f27c39bb",
   "metadata": {},
   "source": [
    "Solution template,"
   ]
  },
  {
   "cell_type": "code",
   "execution_count": 246,
   "id": "cea50538",
   "metadata": {},
   "outputs": [],
   "source": [
    "# clean the data\n",
    "\n",
    "# choose X, choose y from clean data\n",
    "\n",
    "# import linear reg\n",
    "\n",
    "# fit\n",
    "\n",
    "# find the original rows which have missing ratings\n",
    "\n",
    "# predict for those rows\n",
    "\n",
    "# use cross_val_score to compare approaches\n",
    "\n",
    "# EXTRA: include the size column, and repeat the above"
   ]
  },
  {
   "cell_type": "markdown",
   "id": "dea06a49",
   "metadata": {},
   "source": [
    "## The Solution (10 to 20 lines)"
   ]
  },
  {
   "cell_type": "code",
   "execution_count": 225,
   "id": "2760949e",
   "metadata": {
    "scrolled": true
   },
   "outputs": [
    {
     "data": {
      "text/html": [
       "<div>\n",
       "<style scoped>\n",
       "    .dataframe tbody tr th:only-of-type {\n",
       "        vertical-align: middle;\n",
       "    }\n",
       "\n",
       "    .dataframe tbody tr th {\n",
       "        vertical-align: top;\n",
       "    }\n",
       "\n",
       "    .dataframe thead th {\n",
       "        text-align: right;\n",
       "    }\n",
       "</style>\n",
       "<table border=\"1\" class=\"dataframe\">\n",
       "  <thead>\n",
       "    <tr style=\"text-align: right;\">\n",
       "      <th></th>\n",
       "      <th>Delay</th>\n",
       "      <th>Size</th>\n",
       "      <th>Distance</th>\n",
       "      <th>Rating</th>\n",
       "    </tr>\n",
       "  </thead>\n",
       "  <tbody>\n",
       "    <tr>\n",
       "      <th>531</th>\n",
       "      <td>-2.0</td>\n",
       "      <td>S</td>\n",
       "      <td>3.8</td>\n",
       "      <td>7.3</td>\n",
       "    </tr>\n",
       "  </tbody>\n",
       "</table>\n",
       "</div>"
      ],
      "text/plain": [
       "     Delay Size  Distance  Rating\n",
       "531   -2.0    S       3.8     7.3"
      ]
     },
     "execution_count": 225,
     "metadata": {},
     "output_type": "execute_result"
    }
   ],
   "source": [
    "review.sample()"
   ]
  },
  {
   "cell_type": "code",
   "execution_count": 226,
   "id": "13579db9",
   "metadata": {},
   "outputs": [],
   "source": [
    "clean = review.dropna()"
   ]
  },
  {
   "cell_type": "code",
   "execution_count": 227,
   "id": "fd42aaca",
   "metadata": {},
   "outputs": [],
   "source": [
    "X = clean[['Delay', 'Distance']]\n",
    "y = clean['Rating']"
   ]
  },
  {
   "cell_type": "code",
   "execution_count": 228,
   "id": "867ad19f",
   "metadata": {},
   "outputs": [],
   "source": [
    "from sklearn.linear_model import LinearRegression"
   ]
  },
  {
   "cell_type": "code",
   "execution_count": 229,
   "id": "023a270a",
   "metadata": {},
   "outputs": [],
   "source": [
    "lr = LinearRegression().fit(X, y)"
   ]
  },
  {
   "cell_type": "code",
   "execution_count": 230,
   "id": "e5642028",
   "metadata": {},
   "outputs": [],
   "source": [
    "missing = review.loc[ review['Rating'].isnull(),   ['Delay', 'Distance']]"
   ]
  },
  {
   "cell_type": "code",
   "execution_count": 231,
   "id": "8055831f",
   "metadata": {},
   "outputs": [],
   "source": [
    "yhat_missing = lr.predict(missing)"
   ]
  },
  {
   "cell_type": "markdown",
   "id": "7adbd642",
   "metadata": {},
   "source": [
    "---"
   ]
  },
  {
   "cell_type": "code",
   "execution_count": 232,
   "id": "7da94424",
   "metadata": {},
   "outputs": [],
   "source": [
    "%matplotlib inline\n",
    "import seaborn as sns\n",
    "\n",
    "plot_sample = clean.sample(50)"
   ]
  },
  {
   "cell_type": "code",
   "execution_count": 233,
   "id": "6985c9f0",
   "metadata": {},
   "outputs": [
    {
     "data": {
      "image/png": "[encoded data removed]",
      "text/plain": [
       "<Figure size 432x288 with 1 Axes>"
      ]
     },
     "metadata": {
      "needs_background": "light"
     },
     "output_type": "display_data"
    }
   ],
   "source": [
    "sns.regplot(x=plot_sample['Distance'], y=plot_sample['Rating']);"
   ]
  },
  {
   "cell_type": "code",
   "execution_count": 234,
   "id": "f066f2c6",
   "metadata": {},
   "outputs": [
    {
     "data": {
      "image/png": "[encoded data removed]",
      "text/plain": [
       "<Figure size 432x288 with 1 Axes>"
      ]
     },
     "metadata": {
      "needs_background": "light"
     },
     "output_type": "display_data"
    }
   ],
   "source": [
    "sns.regplot(x=plot_sample['Delay'], y=plot_sample['Rating']);"
   ]
  },
  {
   "cell_type": "markdown",
   "id": "c478e9b7",
   "metadata": {},
   "source": [
    "---"
   ]
  },
  {
   "cell_type": "markdown",
   "id": "274c5402",
   "metadata": {},
   "source": [
    "#### EXTRA: Merging the Datasets"
   ]
  },
  {
   "cell_type": "code",
   "execution_count": 235,
   "id": "a8c7ae07",
   "metadata": {},
   "outputs": [],
   "source": [
    "partial = pd.DataFrame({\n",
    "    'Delay': missing['Delay'],\n",
    "    'Distance': missing['Distance'],\n",
    "    'Rating': yhat_missing\n",
    "})"
   ]
  },
  {
   "cell_type": "code",
   "execution_count": 236,
   "id": "3cc0db6c",
   "metadata": {},
   "outputs": [],
   "source": [
    "complete = pd.concat([partial, clean.drop(columns=['Size'])])"
   ]
  },
  {
   "cell_type": "code",
   "execution_count": 237,
   "id": "866b2aa4",
   "metadata": {},
   "outputs": [
    {
     "data": {
      "text/html": [
       "<div>\n",
       "<style scoped>\n",
       "    .dataframe tbody tr th:only-of-type {\n",
       "        vertical-align: middle;\n",
       "    }\n",
       "\n",
       "    .dataframe tbody tr th {\n",
       "        vertical-align: top;\n",
       "    }\n",
       "\n",
       "    .dataframe thead th {\n",
       "        text-align: right;\n",
       "    }\n",
       "</style>\n",
       "<table border=\"1\" class=\"dataframe\">\n",
       "  <thead>\n",
       "    <tr style=\"text-align: right;\">\n",
       "      <th></th>\n",
       "      <th>Delay</th>\n",
       "      <th>Distance</th>\n",
       "      <th>Rating</th>\n",
       "    </tr>\n",
       "  </thead>\n",
       "  <tbody>\n",
       "    <tr>\n",
       "      <th>736</th>\n",
       "      <td>31.0</td>\n",
       "      <td>4.2</td>\n",
       "      <td>4.5</td>\n",
       "    </tr>\n",
       "  </tbody>\n",
       "</table>\n",
       "</div>"
      ],
      "text/plain": [
       "     Delay  Distance  Rating\n",
       "736   31.0       4.2     4.5"
      ]
     },
     "execution_count": 237,
     "metadata": {},
     "output_type": "execute_result"
    }
   ],
   "source": [
    "complete.sample()"
   ]
  },
  {
   "cell_type": "markdown",
   "id": "8d78d105",
   "metadata": {},
   "source": [
    "----"
   ]
  },
  {
   "cell_type": "code",
   "execution_count": 238,
   "id": "184e1853",
   "metadata": {},
   "outputs": [],
   "source": [
    "from sklearn.model_selection import cross_val_score"
   ]
  },
  {
   "cell_type": "code",
   "execution_count": 239,
   "id": "265be5c9",
   "metadata": {},
   "outputs": [],
   "source": [
    "from sklearn.linear_model import LinearRegression\n",
    "from sklearn.tree import DecisionTreeRegressor\n",
    "from sklearn.neighbors import KNeighborsRegressor"
   ]
  },
  {
   "cell_type": "code",
   "execution_count": 240,
   "id": "b1a7f047",
   "metadata": {},
   "outputs": [
    {
     "name": "stdout",
     "output_type": "stream",
     "text": [
      "0.5532126446931637\n",
      "0.5030025274453859\n",
      "0.6621415609765496\n"
     ]
    }
   ],
   "source": [
    "print(cross_val_score(LinearRegression(), X, y).mean())\n",
    "print(cross_val_score(DecisionTreeRegressor(), X, y).mean())\n",
    "print(cross_val_score(KNeighborsRegressor(), X, y).mean())"
   ]
  },
  {
   "cell_type": "code",
   "execution_count": 241,
   "id": "535801d0",
   "metadata": {},
   "outputs": [
    {
     "name": "stdout",
     "output_type": "stream",
     "text": [
      "2 0.6251785353942365\n",
      "3 0.6430546358151873\n",
      "4 0.662992579204082\n",
      "5 0.6621415609765496\n",
      "6 0.6798422525637612\n",
      "7 0.6951722668263253\n"
     ]
    }
   ],
   "source": [
    "for k in range(2, 8):\n",
    "    print(k, cross_val_score(KNeighborsRegressor(k), X, y).mean())"
   ]
  },
  {
   "cell_type": "markdown",
   "id": "244393ce",
   "metadata": {},
   "source": [
    "---"
   ]
  },
  {
   "cell_type": "markdown",
   "id": "a1ccabb4",
   "metadata": {},
   "source": [
    "### EXTRA: Retraining with the best Model"
   ]
  },
  {
   "cell_type": "markdown",
   "id": "7969afa9",
   "metadata": {},
   "source": [
    "Above, we determined that `KNN` with `k=3` was the most accurate model, therefore we retrain using this,"
   ]
  },
  {
   "cell_type": "code",
   "execution_count": 242,
   "id": "6bda65c9",
   "metadata": {
    "scrolled": true
   },
   "outputs": [],
   "source": [
    "model = KNeighborsRegressor(3).fit(X, y)\n",
    "yhat_better = model.predict(missing).round(1)"
   ]
  },
  {
   "cell_type": "code",
   "execution_count": 243,
   "id": "4143c18e",
   "metadata": {},
   "outputs": [],
   "source": [
    "completed = pd.concat([clean.drop(columns=['Size']),   pd.DataFrame({\n",
    "    'Delay': missing['Delay'],\n",
    "    'Distance': missing['Distance'],\n",
    "    'Rating': yhat_better\n",
    "})])"
   ]
  },
  {
   "cell_type": "code",
   "execution_count": 244,
   "id": "7111d557",
   "metadata": {},
   "outputs": [
    {
     "data": {
      "text/html": [
       "<div>\n",
       "<style scoped>\n",
       "    .dataframe tbody tr th:only-of-type {\n",
       "        vertical-align: middle;\n",
       "    }\n",
       "\n",
       "    .dataframe tbody tr th {\n",
       "        vertical-align: top;\n",
       "    }\n",
       "\n",
       "    .dataframe thead th {\n",
       "        text-align: right;\n",
       "    }\n",
       "</style>\n",
       "<table border=\"1\" class=\"dataframe\">\n",
       "  <thead>\n",
       "    <tr style=\"text-align: right;\">\n",
       "      <th></th>\n",
       "      <th>Delay</th>\n",
       "      <th>Distance</th>\n",
       "      <th>Rating</th>\n",
       "    </tr>\n",
       "  </thead>\n",
       "  <tbody>\n",
       "    <tr>\n",
       "      <th>count</th>\n",
       "      <td>1000.00000</td>\n",
       "      <td>1000.000000</td>\n",
       "      <td>1000.000000</td>\n",
       "    </tr>\n",
       "    <tr>\n",
       "      <th>mean</th>\n",
       "      <td>30.17500</td>\n",
       "      <td>3.524100</td>\n",
       "      <td>5.064464</td>\n",
       "    </tr>\n",
       "    <tr>\n",
       "      <th>std</th>\n",
       "      <td>14.75914</td>\n",
       "      <td>0.486113</td>\n",
       "      <td>1.193065</td>\n",
       "    </tr>\n",
       "    <tr>\n",
       "      <th>min</th>\n",
       "      <td>-21.00000</td>\n",
       "      <td>1.800000</td>\n",
       "      <td>1.608141</td>\n",
       "    </tr>\n",
       "    <tr>\n",
       "      <th>25%</th>\n",
       "      <td>20.00000</td>\n",
       "      <td>3.200000</td>\n",
       "      <td>4.174440</td>\n",
       "    </tr>\n",
       "    <tr>\n",
       "      <th>50%</th>\n",
       "      <td>31.00000</td>\n",
       "      <td>3.500000</td>\n",
       "      <td>5.000000</td>\n",
       "    </tr>\n",
       "    <tr>\n",
       "      <th>75%</th>\n",
       "      <td>41.00000</td>\n",
       "      <td>3.900000</td>\n",
       "      <td>5.835569</td>\n",
       "    </tr>\n",
       "    <tr>\n",
       "      <th>max</th>\n",
       "      <td>77.00000</td>\n",
       "      <td>5.000000</td>\n",
       "      <td>10.000000</td>\n",
       "    </tr>\n",
       "  </tbody>\n",
       "</table>\n",
       "</div>"
      ],
      "text/plain": [
       "            Delay     Distance       Rating\n",
       "count  1000.00000  1000.000000  1000.000000\n",
       "mean     30.17500     3.524100     5.064464\n",
       "std      14.75914     0.486113     1.193065\n",
       "min     -21.00000     1.800000     1.608141\n",
       "25%      20.00000     3.200000     4.174440\n",
       "50%      31.00000     3.500000     5.000000\n",
       "75%      41.00000     3.900000     5.835569\n",
       "max      77.00000     5.000000    10.000000"
      ]
     },
     "execution_count": 244,
     "metadata": {},
     "output_type": "execute_result"
    }
   ],
   "source": [
    "complete.describe()"
   ]
  },
  {
   "cell_type": "code",
   "execution_count": 245,
   "id": "1d42c3f9",
   "metadata": {
    "scrolled": false
   },
   "outputs": [
    {
     "data": {
      "text/html": [
       "<div>\n",
       "<style scoped>\n",
       "    .dataframe tbody tr th:only-of-type {\n",
       "        vertical-align: middle;\n",
       "    }\n",
       "\n",
       "    .dataframe tbody tr th {\n",
       "        vertical-align: top;\n",
       "    }\n",
       "\n",
       "    .dataframe thead th {\n",
       "        text-align: right;\n",
       "    }\n",
       "</style>\n",
       "<table border=\"1\" class=\"dataframe\">\n",
       "  <thead>\n",
       "    <tr style=\"text-align: right;\">\n",
       "      <th></th>\n",
       "      <th>Delay</th>\n",
       "      <th>Distance</th>\n",
       "      <th>Rating</th>\n",
       "    </tr>\n",
       "  </thead>\n",
       "  <tbody>\n",
       "    <tr>\n",
       "      <th>count</th>\n",
       "      <td>1000.00000</td>\n",
       "      <td>1000.000000</td>\n",
       "      <td>1000.000000</td>\n",
       "    </tr>\n",
       "    <tr>\n",
       "      <th>mean</th>\n",
       "      <td>30.17500</td>\n",
       "      <td>3.524100</td>\n",
       "      <td>5.086500</td>\n",
       "    </tr>\n",
       "    <tr>\n",
       "      <th>std</th>\n",
       "      <td>14.75914</td>\n",
       "      <td>0.486113</td>\n",
       "      <td>1.350315</td>\n",
       "    </tr>\n",
       "    <tr>\n",
       "      <th>min</th>\n",
       "      <td>-21.00000</td>\n",
       "      <td>1.800000</td>\n",
       "      <td>2.500000</td>\n",
       "    </tr>\n",
       "    <tr>\n",
       "      <th>25%</th>\n",
       "      <td>20.00000</td>\n",
       "      <td>3.200000</td>\n",
       "      <td>4.000000</td>\n",
       "    </tr>\n",
       "    <tr>\n",
       "      <th>50%</th>\n",
       "      <td>31.00000</td>\n",
       "      <td>3.500000</td>\n",
       "      <td>4.750000</td>\n",
       "    </tr>\n",
       "    <tr>\n",
       "      <th>75%</th>\n",
       "      <td>41.00000</td>\n",
       "      <td>3.900000</td>\n",
       "      <td>6.000000</td>\n",
       "    </tr>\n",
       "    <tr>\n",
       "      <th>max</th>\n",
       "      <td>77.00000</td>\n",
       "      <td>5.000000</td>\n",
       "      <td>10.000000</td>\n",
       "    </tr>\n",
       "  </tbody>\n",
       "</table>\n",
       "</div>"
      ],
      "text/plain": [
       "            Delay     Distance       Rating\n",
       "count  1000.00000  1000.000000  1000.000000\n",
       "mean     30.17500     3.524100     5.086500\n",
       "std      14.75914     0.486113     1.350315\n",
       "min     -21.00000     1.800000     2.500000\n",
       "25%      20.00000     3.200000     4.000000\n",
       "50%      31.00000     3.500000     4.750000\n",
       "75%      41.00000     3.900000     6.000000\n",
       "max      77.00000     5.000000    10.000000"
      ]
     },
     "execution_count": 245,
     "metadata": {},
     "output_type": "execute_result"
    }
   ],
   "source": [
    "completed.describe()"
   ]
  },
  {
   "cell_type": "markdown",
   "id": "3f449a8e",
   "metadata": {},
   "source": [
    "### EXTRA: Size"
   ]
  },
  {
   "cell_type": "code",
   "execution_count": 247,
   "id": "247c55af",
   "metadata": {},
   "outputs": [],
   "source": [
    "from sklearn.preprocessing import OrdinalEncoder"
   ]
  },
  {
   "cell_type": "code",
   "execution_count": 287,
   "id": "31eae118",
   "metadata": {},
   "outputs": [
    {
     "data": {
      "text/plain": [
       "5.0"
      ]
     },
     "execution_count": 287,
     "metadata": {},
     "output_type": "execute_result"
    }
   ],
   "source": [
    "# starting with the review dataset we obtain a cleaned version: ie., no missing data\n",
    "clean = review.dropna()\n",
    "\n",
    "\n",
    "# we choose X, y\n",
    "X_numeric = clean[['Delay', 'Distance']]\n",
    "y = clean['Rating']\n",
    "\n",
    "# the non-numeric X: transform\n",
    "enc = OrdinalEncoder().fit(clean[['Size']])\n",
    "X_size = enc.transform(clean[['Size']]) # numbers for the non-numeric\n",
    "\n",
    "# the total X combining both numeric and transformed\n",
    "X = np.c_[X_numeric, X_size]\n",
    "\n",
    "\n",
    "\n",
    "#### CHOOOSE A BETTER MODEL: (aside: use cross_val_score on different approaches)\n",
    "\n",
    "# we train X,y\n",
    "\n",
    "model = KNeighborsRegressor(3).fit(X, y)\n",
    "\n",
    "# predict for the missing data: we have to transform the Size col in the original\n",
    "missing = review.loc[ review['Rating'].isnull(),   ['Delay', 'Distance', 'Size']]\n",
    "\n",
    "#### // CHOOSE A BETTER MODEL: replace with better model\n",
    "\n",
    "\n",
    "# the Xs for which we don't know their y\n",
    "X_unknown = np.c_[\n",
    "    missing[['Delay', 'Distance']], \n",
    "    enc.transform(missing[['Size']])\n",
    "]\n",
    "\n",
    "# we have the unknown ratings\n",
    "yhat  = full_model.predict(X_unknown).round(1)\n",
    "\n",
    "\n",
    "# glue the clean dataset (has no missing), with the missing + predictions\n",
    "completed = pd.concat([\n",
    "    clean,\n",
    "    pd.DataFrame({\n",
    "        'Delay': missing['Delay'],\n",
    "        'Distance': missing['Distance'],\n",
    "        'Size': missing['Size'],\n",
    "        'Rating': yhat,\n",
    "    })\n",
    "])\n",
    "\n",
    "\n",
    "completed['Rating'].mean().round()"
   ]
  },
  {
   "cell_type": "markdown",
   "id": "610d9e40",
   "metadata": {},
   "source": [
    "* refer to ML notebooks, Pandas, ..."
   ]
  },
  {
   "cell_type": "code",
   "execution_count": null,
   "id": "bec8d47e",
   "metadata": {},
   "outputs": [],
   "source": []
  }
 ],
 "metadata": {
  "kernelspec": {
   "display_name": "Python 3.9",
   "language": "python",
   "name": "python3"
  },
  "language_info": {
   "codemirror_mode": {
    "name": "ipython",
    "version": 3
   },
   "file_extension": ".py",
   "mimetype": "text/x-python",
   "name": "python",
   "nbconvert_exporter": "python",
   "pygments_lexer": "ipython3",
   "version": "3.9.6"
  }
 },
 "nbformat": 4,
 "nbformat_minor": 5
}
