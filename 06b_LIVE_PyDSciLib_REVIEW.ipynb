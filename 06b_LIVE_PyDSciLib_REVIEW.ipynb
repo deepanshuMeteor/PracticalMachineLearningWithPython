{
 "cells": [
  {
   "cell_type": "markdown",
   "id": "8e2d89e1",
   "metadata": {},
   "source": [
    "# Python Data Science Libraries"
   ]
  },
  {
   "cell_type": "markdown",
   "id": "4adbb59f",
   "metadata": {},
   "source": [
    "### The Libraries"
   ]
  },
  {
   "cell_type": "markdown",
   "id": "7e17b557",
   "metadata": {},
   "source": [
    "NumPy fast arrays,"
   ]
  },
  {
   "cell_type": "code",
   "execution_count": 1,
   "id": "064ec3e4",
   "metadata": {},
   "outputs": [],
   "source": [
    "import numpy as np"
   ]
  },
  {
   "cell_type": "code",
   "execution_count": 7,
   "id": "1e43804c",
   "metadata": {},
   "outputs": [
    {
     "data": {
      "text/plain": [
       "10.002521757060444"
      ]
     },
     "execution_count": 7,
     "metadata": {},
     "output_type": "execute_result"
    }
   ],
   "source": [
    "np.random.normal(10, 5, 1_000_000).mean()"
   ]
  },
  {
   "cell_type": "code",
   "execution_count": 15,
   "id": "7577b7a8",
   "metadata": {},
   "outputs": [],
   "source": [
    "age = np.random.normal(18, 3, 100)\n",
    "price = 0.1 * age + 2.5 + np.random.normal(0, 0.1, 100)"
   ]
  },
  {
   "cell_type": "markdown",
   "id": "ef7021ae",
   "metadata": {},
   "source": [
    "Seaborn for easy visualization,"
   ]
  },
  {
   "cell_type": "code",
   "execution_count": 16,
   "id": "2195e877",
   "metadata": {},
   "outputs": [],
   "source": [
    "%matplotlib inline"
   ]
  },
  {
   "cell_type": "code",
   "execution_count": 17,
   "id": "d11aebd3",
   "metadata": {},
   "outputs": [],
   "source": [
    "import seaborn as sns"
   ]
  },
  {
   "cell_type": "code",
   "execution_count": 18,
   "id": "7c609596",
   "metadata": {},
   "outputs": [
    {
     "data": {
      "text/plain": [
       "<AxesSubplot:>"
      ]
     },
     "execution_count": 18,
     "metadata": {},
     "output_type": "execute_result"
    },
    {
     "data": {
      "image/png": "[encoded data removed]",
      "text/plain": [
       "<Figure size 432x288 with 1 Axes>"
      ]
     },
     "metadata": {
      "needs_background": "light"
     },
     "output_type": "display_data"
    }
   ],
   "source": [
    "sns.scatterplot(x=age, y=price)"
   ]
  },
  {
   "cell_type": "markdown",
   "id": "cab87e95",
   "metadata": {},
   "source": [
    "Pandas for tabular data,"
   ]
  },
  {
   "cell_type": "code",
   "execution_count": 3,
   "id": "20f56ea5",
   "metadata": {},
   "outputs": [],
   "source": [
    "import pandas as pd"
   ]
  },
  {
   "cell_type": "code",
   "execution_count": 20,
   "id": "d6009845",
   "metadata": {},
   "outputs": [],
   "source": [
    "tips = pd.read_csv('datasets/tips.csv')"
   ]
  },
  {
   "cell_type": "code",
   "execution_count": 23,
   "id": "0a388576",
   "metadata": {},
   "outputs": [
    {
     "name": "stdout",
     "output_type": "stream",
     "text": [
      "<class 'pandas.core.frame.DataFrame'>\n",
      "RangeIndex: 244 entries, 0 to 243\n",
      "Data columns (total 7 columns):\n",
      " #   Column      Non-Null Count  Dtype  \n",
      "---  ------      --------------  -----  \n",
      " 0   total_bill  244 non-null    float64\n",
      " 1   tip         244 non-null    float64\n",
      " 2   sex         244 non-null    object \n",
      " 3   smoker      244 non-null    object \n",
      " 4   day         244 non-null    object \n",
      " 5   time        244 non-null    object \n",
      " 6   size        244 non-null    int64  \n",
      "dtypes: float64(2), int64(1), object(4)\n",
      "memory usage: 13.5+ KB\n"
     ]
    }
   ],
   "source": [
    "tips.info()"
   ]
  },
  {
   "cell_type": "markdown",
   "id": "4c7b7185",
   "metadata": {},
   "source": [
    "Sklearn for Machine Learning,"
   ]
  },
  {
   "cell_type": "code",
   "execution_count": 25,
   "id": "138d4ad2",
   "metadata": {},
   "outputs": [],
   "source": [
    "from sklearn.linear_model import LinearRegression"
   ]
  },
  {
   "cell_type": "code",
   "execution_count": 27,
   "id": "867fc0b8",
   "metadata": {},
   "outputs": [],
   "source": [
    "model = LinearRegression().fit(tips[['total_bill', 'size']], tips['tip'])"
   ]
  },
  {
   "cell_type": "code",
   "execution_count": 29,
   "id": "fecc5ce2",
   "metadata": {},
   "outputs": [
    {
     "data": {
      "text/plain": [
       "array([10.51807181,  3.10100486,  2.17387149])"
      ]
     },
     "execution_count": 29,
     "metadata": {},
     "output_type": "execute_result"
    }
   ],
   "source": [
    "model.predict([\n",
    "    (100, 3),\n",
    "    (20, 3),\n",
    "    (10, 3),\n",
    "])"
   ]
  },
  {
   "cell_type": "markdown",
   "id": "7e1144ad",
   "metadata": {},
   "source": [
    "NetworkX for graph analysis,"
   ]
  },
  {
   "cell_type": "code",
   "execution_count": 30,
   "id": "527088eb",
   "metadata": {},
   "outputs": [],
   "source": [
    "import networkx as nx"
   ]
  },
  {
   "cell_type": "markdown",
   "id": "e0a53dae",
   "metadata": {},
   "source": [
    "Eg., we can use a pandas dataframe and phrase it in a graph structure, "
   ]
  },
  {
   "cell_type": "code",
   "execution_count": 41,
   "id": "79716670",
   "metadata": {},
   "outputs": [],
   "source": [
    "G = nx.from_pandas_edgelist(\n",
    "    tips,\n",
    "    source='day',\n",
    "    target='time',\n",
    "    edge_attr='tip',\n",
    "    create_using=nx.MultiDiGraph\n",
    ")"
   ]
  },
  {
   "cell_type": "code",
   "execution_count": 42,
   "id": "9d572374",
   "metadata": {},
   "outputs": [
    {
     "data": {
      "image/png": "[encoded data removed]",
      "text/plain": [
       "<Figure size 432x288 with 1 Axes>"
      ]
     },
     "metadata": {},
     "output_type": "display_data"
    }
   ],
   "source": [
    "nx.draw(G, with_labels=True)"
   ]
  },
  {
   "cell_type": "code",
   "execution_count": 45,
   "id": "51c7999b",
   "metadata": {},
   "outputs": [
    {
     "data": {
      "text/plain": [
       "731.5800000000002"
      ]
     },
     "execution_count": 45,
     "metadata": {},
     "output_type": "execute_result"
    }
   ],
   "source": [
    "sum([ w_weight['tip'] for (u_from, v_to, w_weight)in  G.edges(data=True) ])"
   ]
  },
  {
   "cell_type": "code",
   "execution_count": 47,
   "id": "fdba20ff",
   "metadata": {},
   "outputs": [
    {
     "data": {
      "text/plain": [
       "731.5799999999999"
      ]
     },
     "execution_count": 47,
     "metadata": {},
     "output_type": "execute_result"
    }
   ],
   "source": [
    "tips['tip'].sum()"
   ]
  },
  {
   "cell_type": "markdown",
   "id": "e0c14303",
   "metadata": {},
   "source": [
    "---"
   ]
  },
  {
   "cell_type": "code",
   "execution_count": null,
   "id": "58b47de4",
   "metadata": {},
   "outputs": [],
   "source": []
  }
 ],
 "metadata": {
  "kernelspec": {
   "display_name": "Python 3.9",
   "language": "python",
   "name": "python3"
  },
  "language_info": {
   "codemirror_mode": {
    "name": "ipython",
    "version": 3
   },
   "file_extension": ".py",
   "mimetype": "text/x-python",
   "name": "python",
   "nbconvert_exporter": "python",
   "pygments_lexer": "ipython3",
   "version": "3.9.6"
  }
 },
 "nbformat": 4,
 "nbformat_minor": 5
}
