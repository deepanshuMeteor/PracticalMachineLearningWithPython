{
 "cells": [
  {
   "cell_type": "markdown",
   "id": "df62960b",
   "metadata": {},
   "source": [
    "# Python: Functions for ML Methodology"
   ]
  },
  {
   "cell_type": "markdown",
   "id": "34ee844d",
   "metadata": {},
   "source": [
    "## Machine Learning Process"
   ]
  },
  {
   "cell_type": "markdown",
   "id": "9e77e33b",
   "metadata": {},
   "source": [
    "Recall the Machine Learning process,"
   ]
  },
  {
   "cell_type": "markdown",
   "id": "a5db9f52",
   "metadata": {},
   "source": [
    "`Data -> Algorithm -> prediction = Model(newdata, parameters)`"
   ]
  },
  {
   "cell_type": "markdown",
   "id": "a4cea4f8",
   "metadata": {},
   "source": [
    "$(X, y) \\rightarrow \\mathcal{Alg} \\rightarrow \\hat{y} = \\hat{f}(X_{new}; w, b)$"
   ]
  },
  {
   "cell_type": "markdown",
   "id": "4a906899",
   "metadata": {},
   "source": [
    "`generate_data(...) -> min(algo_linear_regression(...)) -> yhat = predict(..., w, b)`"
   ]
  },
  {
   "cell_type": "markdown",
   "id": "b5846ee5",
   "metadata": {},
   "source": [
    "## Sketching the ML Process"
   ]
  },
  {
   "cell_type": "code",
   "execution_count": 60,
   "id": "766a5bab",
   "metadata": {},
   "outputs": [],
   "source": [
    "def generate_data():\n",
    "    pass"
   ]
  },
  {
   "cell_type": "code",
   "execution_count": 67,
   "id": "1de74372",
   "metadata": {},
   "outputs": [],
   "source": [
    "def algo_linear_regression(data):\n",
    "    pass"
   ]
  },
  {
   "cell_type": "code",
   "execution_count": 68,
   "id": "97fd826e",
   "metadata": {},
   "outputs": [],
   "source": [
    "def predict(newpoint, parameters):\n",
    "    pass"
   ]
  },
  {
   "cell_type": "markdown",
   "id": "932ef78f",
   "metadata": {},
   "source": [
    "together,"
   ]
  },
  {
   "cell_type": "code",
   "execution_count": 69,
   "id": "79d679c4",
   "metadata": {},
   "outputs": [],
   "source": [
    "data = generate_data()\n",
    "parameters = algo_linear_regression(data)\n",
    "\n",
    "newpoint = 10\n",
    "prediction = predict(newpoint, parameters)"
   ]
  },
  {
   "cell_type": "markdown",
   "id": "5f564c18",
   "metadata": {},
   "source": [
    "---"
   ]
  },
  {
   "cell_type": "markdown",
   "id": "4c96f031",
   "metadata": {},
   "source": [
    "## The Data"
   ]
  },
  {
   "cell_type": "code",
   "execution_count": 12,
   "id": "77bde9cd",
   "metadata": {},
   "outputs": [],
   "source": [
    "from random import random"
   ]
  },
  {
   "cell_type": "markdown",
   "id": "6c29cb85",
   "metadata": {},
   "source": [
    "---"
   ]
  },
  {
   "cell_type": "markdown",
   "id": "f50f8f10",
   "metadata": {},
   "source": [
    "**Q. import `choice` from `random`, what does `choice([True, False])` do?**\n",
    "\n",
    "**Q. How would you use `choice` to simulate categorical data?**\n"
   ]
  },
  {
   "cell_type": "code",
   "execution_count": 13,
   "id": "8e2d2531",
   "metadata": {},
   "outputs": [
    {
     "data": {
      "text/plain": [
       "True"
      ]
     },
     "execution_count": 13,
     "metadata": {},
     "output_type": "execute_result"
    }
   ],
   "source": [
    "from random import choice\n",
    "\n",
    "choice([True, True, False])"
   ]
  },
  {
   "cell_type": "markdown",
   "id": "cf71da53",
   "metadata": {},
   "source": [
    "---"
   ]
  },
  {
   "cell_type": "markdown",
   "id": "d855373a",
   "metadata": {},
   "source": [
    "The `random()` function with the `random` module generates random numbers in `[0, 1]`,"
   ]
  },
  {
   "cell_type": "code",
   "execution_count": 14,
   "id": "57ad0338",
   "metadata": {},
   "outputs": [
    {
     "data": {
      "text/plain": [
       "0.8679371253054614"
      ]
     },
     "execution_count": 14,
     "metadata": {},
     "output_type": "execute_result"
    }
   ],
   "source": [
    "random()"
   ]
  },
  {
   "cell_type": "code",
   "execution_count": 15,
   "id": "2c065e9b",
   "metadata": {},
   "outputs": [],
   "source": [
    "def generate_data(w, b, n=5):\n",
    "    X = [ round(random(), 2) for _ in range(0, n)]\n",
    "    y = [ w * x + b for x in X ]\n",
    "    \n",
    "    return (X, y)"
   ]
  },
  {
   "cell_type": "code",
   "execution_count": 16,
   "id": "d47aec49",
   "metadata": {},
   "outputs": [
    {
     "data": {
      "text/plain": [
       "([1.0, 0.25, 0.16, 0.03, 0.26], [15.0, 7.5, 6.6, 5.3, 7.6])"
      ]
     },
     "execution_count": 16,
     "metadata": {},
     "output_type": "execute_result"
    }
   ],
   "source": [
    "generate_data(10, 5)"
   ]
  },
  {
   "cell_type": "markdown",
   "id": "fbbee7aa",
   "metadata": {},
   "source": [
    "---"
   ]
  },
  {
   "cell_type": "markdown",
   "id": "6331faf9",
   "metadata": {},
   "source": [
    "**Q. Define a new `generate_data_category` so that `y` is `True` or `False`**\n",
    "\n",
    "**HINT: use, eg., `<0` on the `w*x + b`**. "
   ]
  },
  {
   "cell_type": "code",
   "execution_count": 17,
   "id": "60b825bb",
   "metadata": {},
   "outputs": [],
   "source": [
    "def generate_data_cat(w, b, n=5):\n",
    "    X = [ round(random(), 2) for _ in range(0, n)]\n",
    "    y = [ w * x + b < 0  for x in X ]\n",
    "    \n",
    "    return (X, y)"
   ]
  },
  {
   "cell_type": "code",
   "execution_count": 20,
   "id": "e222ff02",
   "metadata": {},
   "outputs": [
    {
     "data": {
      "text/plain": [
       "([0.36, 0.51, 0.01, 0.8, 0.03], [True, False, True, False, True])"
      ]
     },
     "execution_count": 20,
     "metadata": {},
     "output_type": "execute_result"
    }
   ],
   "source": [
    "generate_data_cat(10, -5)"
   ]
  },
  {
   "cell_type": "markdown",
   "id": "dcf4da5e",
   "metadata": {},
   "source": [
    "---"
   ]
  },
  {
   "cell_type": "markdown",
   "id": "1792c18e",
   "metadata": {},
   "source": [
    "## The Algorithm"
   ]
  },
  {
   "cell_type": "markdown",
   "id": "ded0f84a",
   "metadata": {},
   "source": [
    "We would like to guess $w, b$ until we get close to the \"true\" ones, "
   ]
  },
  {
   "cell_type": "code",
   "execution_count": 31,
   "id": "d6346649",
   "metadata": {},
   "outputs": [],
   "source": [
    "def algo_linear_regression(X, y):\n",
    "    history = []\n",
    "    \n",
    "    for wguess in range(0, 100):\n",
    "        for bguess in range(0, 100):\n",
    "            error = sum([ abs(y - (wguess * x + bguess)) for x, y in zip(X, y)])\n",
    "            \n",
    "            history.append( (error, (wguess, bguess)))\n",
    "            \n",
    "    return history "
   ]
  },
  {
   "cell_type": "markdown",
   "id": "6e0ae899",
   "metadata": {},
   "source": [
    "---"
   ]
  },
  {
   "cell_type": "markdown",
   "id": "d1781c8f",
   "metadata": {},
   "source": [
    "**Q. EXTRA: define `algo_cat_score` which works with a category `y` (ie., `True`, `False`).**\n",
    "\n",
    "**Q. HINT: modify `yhat` to use `<0`.**"
   ]
  },
  {
   "cell_type": "code",
   "execution_count": 43,
   "id": "14a41556",
   "metadata": {},
   "outputs": [],
   "source": [
    "def algo_linear_regression(X, y):\n",
    "    history = []\n",
    "    \n",
    "    for wguess in range(-100, 100):\n",
    "        for bguess in range(-100, 100):\n",
    "            error = sum([ abs(y - ((wguess * x + bguess) < 0)) for x, y in zip(X, y)])\n",
    "            \n",
    "            history.append( (error, (wguess, bguess)))\n",
    "            \n",
    "    return history "
   ]
  },
  {
   "cell_type": "code",
   "execution_count": 45,
   "id": "d221c62e",
   "metadata": {},
   "outputs": [
    {
     "data": {
      "text/plain": [
       "(0, (2, -1))"
      ]
     },
     "execution_count": 45,
     "metadata": {},
     "output_type": "execute_result"
    }
   ],
   "source": [
    "X_sample, y_cat = generate_data_cat(10, -5)\n",
    "\n",
    "min(algo_linear_regression(X_sample, y_cat))"
   ]
  },
  {
   "cell_type": "code",
   "execution_count": 46,
   "id": "117c9d8f",
   "metadata": {},
   "outputs": [
    {
     "data": {
      "text/plain": [
       "([0.83, 0.63, 0.33, 0.07, 0.86], [False, False, True, True, False])"
      ]
     },
     "execution_count": 46,
     "metadata": {},
     "output_type": "execute_result"
    }
   ],
   "source": [
    "X_sample, y_cat"
   ]
  },
  {
   "cell_type": "markdown",
   "id": "8799323a",
   "metadata": {},
   "source": [
    "Note that `2, -1` acutally also just works, "
   ]
  },
  {
   "cell_type": "code",
   "execution_count": 47,
   "id": "20966018",
   "metadata": {
    "scrolled": false
   },
   "outputs": [
    {
     "data": {
      "text/plain": [
       "[False, False, True, True, False]"
      ]
     },
     "execution_count": 47,
     "metadata": {},
     "output_type": "execute_result"
    }
   ],
   "source": [
    "[(2 * x - 1) < 0 for x in X_sample ] "
   ]
  },
  {
   "cell_type": "markdown",
   "id": "f8b5885b",
   "metadata": {},
   "source": [
    "---"
   ]
  },
  {
   "cell_type": "markdown",
   "id": "1d327844",
   "metadata": {},
   "source": [
    "With the functions above we can now `generate_data`,"
   ]
  },
  {
   "cell_type": "code",
   "execution_count": 42,
   "id": "d964eb16",
   "metadata": {},
   "outputs": [],
   "source": [
    "X_discount, y_spent = generate_data(10, 5)"
   ]
  },
  {
   "cell_type": "markdown",
   "id": "c2900f40",
   "metadata": {},
   "source": [
    "Let's inspect the first five entries, "
   ]
  },
  {
   "cell_type": "code",
   "execution_count": 43,
   "id": "0c5d40d2",
   "metadata": {},
   "outputs": [
    {
     "data": {
      "text/plain": [
       "[0.23, 0.43, 0.18, 0.81, 0.25]"
      ]
     },
     "execution_count": 43,
     "metadata": {},
     "output_type": "execute_result"
    }
   ],
   "source": [
    "X_discount[:5]"
   ]
  },
  {
   "cell_type": "code",
   "execution_count": 44,
   "id": "b9bef651",
   "metadata": {},
   "outputs": [
    {
     "data": {
      "text/plain": [
       "[7.300000000000001, 9.3, 6.8, 13.100000000000001, 7.5]"
      ]
     },
     "execution_count": 44,
     "metadata": {},
     "output_type": "execute_result"
    }
   ],
   "source": [
    "y_spent[:5]"
   ]
  },
  {
   "cell_type": "markdown",
   "id": "305cfd1b",
   "metadata": {},
   "source": [
    "## The Algorithm on The Data:  \"Learning\""
   ]
  },
  {
   "cell_type": "markdown",
   "id": "28e800ad",
   "metadata": {},
   "source": [
    "Using `algo_linear_regression(X_discount, y_spent)` we can get a list with lots of $w, b$ attempts and the associated error, "
   ]
  },
  {
   "cell_type": "code",
   "execution_count": 45,
   "id": "7d549f80",
   "metadata": {},
   "outputs": [],
   "source": [
    "trials = algo_linear_regression(X_discount, y_spent)"
   ]
  },
  {
   "cell_type": "markdown",
   "id": "b4de0418",
   "metadata": {},
   "source": [
    "The first five trials, "
   ]
  },
  {
   "cell_type": "code",
   "execution_count": 46,
   "id": "ab077476",
   "metadata": {
    "scrolled": true
   },
   "outputs": [
    {
     "data": {
      "text/plain": [
       "[(44.0, (0, 0)),\n",
       " (39.0, (0, 1)),\n",
       " (34.0, (0, 2)),\n",
       " (29.000000000000004, (0, 3)),\n",
       " (24.000000000000004, (0, 4))]"
      ]
     },
     "execution_count": 46,
     "metadata": {},
     "output_type": "execute_result"
    }
   ],
   "source": [
    "trials[:5]"
   ]
  },
  {
   "cell_type": "markdown",
   "id": "d51b9ee9",
   "metadata": {},
   "source": [
    "`min` provides the entry with the minimum error (because error is the first number), "
   ]
  },
  {
   "cell_type": "code",
   "execution_count": 48,
   "id": "c0baeeac",
   "metadata": {},
   "outputs": [
    {
     "data": {
      "text/plain": [
       "(0.0, (10, 5))"
      ]
     },
     "execution_count": 48,
     "metadata": {},
     "output_type": "execute_result"
    }
   ],
   "source": [
    "min(trials)"
   ]
  },
  {
   "cell_type": "markdown",
   "id": "ad695de5",
   "metadata": {},
   "source": [
    "We can assign multiple variables at once, if we match the pattern of what we are assigning,"
   ]
  },
  {
   "cell_type": "code",
   "execution_count": 49,
   "id": "28b2a6ec",
   "metadata": {},
   "outputs": [],
   "source": [
    "error, (wbest, bbest) = min(trials)"
   ]
  },
  {
   "cell_type": "code",
   "execution_count": 51,
   "id": "3112810f",
   "metadata": {},
   "outputs": [
    {
     "name": "stdout",
     "output_type": "stream",
     "text": [
      "10 5\n"
     ]
    }
   ],
   "source": [
    "print(wbest, bbest)"
   ]
  },
  {
   "cell_type": "markdown",
   "id": "9a5b9a59",
   "metadata": {},
   "source": [
    "## Prediction"
   ]
  },
  {
   "cell_type": "markdown",
   "id": "d7c14e4f",
   "metadata": {},
   "source": [
    "To predict for a new point we use the $w, b$ we found by minimizing the error,"
   ]
  },
  {
   "cell_type": "code",
   "execution_count": 40,
   "id": "5fbfe9e3",
   "metadata": {},
   "outputs": [],
   "source": [
    "def predict(x, w, b):\n",
    "    return w * x + b"
   ]
  },
  {
   "cell_type": "markdown",
   "id": "5d69e3ff",
   "metadata": {},
   "source": [
    "---"
   ]
  },
  {
   "cell_type": "markdown",
   "id": "c3d04f29",
   "metadata": {},
   "source": [
    "**Q. define a `predict_cat` function which predicts using a score, ie., `<0`**. "
   ]
  },
  {
   "cell_type": "code",
   "execution_count": 21,
   "id": "148e894f",
   "metadata": {},
   "outputs": [],
   "source": [
    "def predict_cat(x, w, b):\n",
    "    return (w * x + b) < 0"
   ]
  },
  {
   "cell_type": "code",
   "execution_count": 23,
   "id": "495a844b",
   "metadata": {},
   "outputs": [
    {
     "data": {
      "text/plain": [
       "False"
      ]
     },
     "execution_count": 23,
     "metadata": {},
     "output_type": "execute_result"
    }
   ],
   "source": [
    "predict_cat(5, 10, -5)"
   ]
  },
  {
   "cell_type": "code",
   "execution_count": 28,
   "id": "7f5e2afd",
   "metadata": {},
   "outputs": [
    {
     "data": {
      "text/plain": [
       "True"
      ]
     },
     "execution_count": 28,
     "metadata": {},
     "output_type": "execute_result"
    }
   ],
   "source": [
    "predict_cat(0, 10, -5)"
   ]
  },
  {
   "cell_type": "markdown",
   "id": "74e3a3ef",
   "metadata": {},
   "source": [
    "---"
   ]
  },
  {
   "cell_type": "markdown",
   "id": "fd3807a6",
   "metadata": {},
   "source": [
    "Here, for $x_{discount} = 0.5$, $\\hat{y}_{spend} = £10$,"
   ]
  },
  {
   "cell_type": "code",
   "execution_count": 52,
   "id": "64a5a57e",
   "metadata": {},
   "outputs": [],
   "source": [
    "yhat = predict(0.5, wbest, bbest)"
   ]
  },
  {
   "cell_type": "code",
   "execution_count": 53,
   "id": "92cbcfe4",
   "metadata": {},
   "outputs": [
    {
     "data": {
      "text/plain": [
       "10.0"
      ]
     },
     "execution_count": 53,
     "metadata": {},
     "output_type": "execute_result"
    }
   ],
   "source": [
    "yhat"
   ]
  },
  {
   "cell_type": "markdown",
   "id": "f6631b38",
   "metadata": {},
   "source": [
    "---"
   ]
  },
  {
   "cell_type": "markdown",
   "id": "9fd12ea3",
   "metadata": {},
   "source": [
    "## Stretch Exercise\n",
    "\n",
    "Having answered the questions above, use your three functions for categorical data to: \n",
    "\n",
    "1. generate categorical data; \n",
    "\n",
    "2. find a best (w, b) for classifying/scoring it; \n",
    "\n",
    "3. predict using your best (w,b) with your prediction function. "
   ]
  },
  {
   "cell_type": "code",
   "execution_count": 50,
   "id": "3946c6d5",
   "metadata": {},
   "outputs": [],
   "source": [
    "def algo_linear_regression(X, y):\n",
    "    history = []\n",
    "    \n",
    "    for wguess in range(-100, 100):\n",
    "        for bguess in range(-100, 100):\n",
    "            error = sum([ \n",
    "                abs(y - predict_cat(x, wguess, bguess)) \n",
    "                    for x, y in zip(X, y)\n",
    "            ])\n",
    "            \n",
    "            history.append( (error, (wguess, bguess)))\n",
    "            \n",
    "    return history "
   ]
  }
 ],
 "metadata": {
  "kernelspec": {
   "display_name": "Python 3.9",
   "language": "python",
   "name": "python3"
  },
  "language_info": {
   "codemirror_mode": {
    "name": "ipython",
    "version": 3
   },
   "file_extension": ".py",
   "mimetype": "text/x-python",
   "name": "python",
   "nbconvert_exporter": "python",
   "pygments_lexer": "ipython3",
   "version": "3.9.6"
  }
 },
 "nbformat": 4,
 "nbformat_minor": 5
}
