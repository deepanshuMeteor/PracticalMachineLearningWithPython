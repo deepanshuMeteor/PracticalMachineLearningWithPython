{
 "cells": [
  {
   "cell_type": "markdown",
   "metadata": {},
   "source": [
    "# Python Data Processing"
   ]
  },
  {
   "cell_type": "markdown",
   "metadata": {},
   "source": [
    "When processing data sets we almost always want to repeat the same operation *for every element* of that dataset.."
   ]
  },
  {
   "cell_type": "code",
   "execution_count": 1,
   "metadata": {},
   "outputs": [],
   "source": [
    "balances = [1_000, 2_500, 10_678, -2_000]"
   ]
  },
  {
   "cell_type": "code",
   "execution_count": 3,
   "metadata": {},
   "outputs": [],
   "source": [
    "decisions = [0, 1, 1, 0]  # 0 = No, 1 = Yes"
   ]
  },
  {
   "cell_type": "markdown",
   "metadata": {},
   "source": [
    "We could copy/paste,"
   ]
  },
  {
   "cell_type": "code",
   "execution_count": 9,
   "metadata": {},
   "outputs": [
    {
     "name": "stdout",
     "output_type": "stream",
     "text": [
      "2500 Yes\n",
      "10678 Yes\n"
     ]
    }
   ],
   "source": [
    "entry = balances[0]\n",
    "if entry > 1_500:\n",
    "    print(entry, \"Yes\")\n",
    "    \n",
    "entry = balances[1]\n",
    "if entry > 1_500:\n",
    "    print(entry, \"Yes\")\n",
    "    \n",
    "    \n",
    "entry = balances[2]\n",
    "if entry > 1_500:\n",
    "    print(entry, \"Yes\")\n",
    "    \n",
    "    \n",
    "entry = balances[3]\n",
    "if entry > 1_500:\n",
    "    print(entry, \"Yes\")"
   ]
  },
  {
   "cell_type": "markdown",
   "metadata": {},
   "source": [
    "This approach isnt sustainable, in general, we wont know how many entries in the collection there will be (eg. consider a database, file, etc.). "
   ]
  },
  {
   "cell_type": "markdown",
   "metadata": {},
   "source": [
    "Python has a *looping* (repeating) syntax which works on datasets,"
   ]
  },
  {
   "cell_type": "code",
   "execution_count": 44,
   "metadata": {
    "scrolled": true
   },
   "outputs": [
    {
     "name": "stdout",
     "output_type": "stream",
     "text": [
      "2500 Yes\n",
      "10678 Yes\n"
     ]
    }
   ],
   "source": [
    "for entry in balances:  # entry = balances[index], REPEAT:\n",
    "    if entry > 1_500:\n",
    "        print(entry, \"Yes\")"
   ]
  },
  {
   "cell_type": "code",
   "execution_count": 12,
   "metadata": {},
   "outputs": [
    {
     "data": {
      "text/plain": [
       "[1000, 2500, 10678, -2000]"
      ]
     },
     "execution_count": 12,
     "metadata": {},
     "output_type": "execute_result"
    }
   ],
   "source": [
    "balances"
   ]
  },
  {
   "cell_type": "markdown",
   "metadata": {},
   "source": [
    "Consider the example below, which repeats `print()` for every entry in `balances`, "
   ]
  },
  {
   "cell_type": "code",
   "execution_count": 14,
   "metadata": {},
   "outputs": [
    {
     "name": "stdout",
     "output_type": "stream",
     "text": [
      "1000\n",
      "2500\n",
      "10678\n",
      "-2000\n"
     ]
    }
   ],
   "source": [
    "# b = balances[index]\n",
    "for b in balances:\n",
    "    # repeat this code for each entry in balances\n",
    "    print(b)"
   ]
  },
  {
   "cell_type": "markdown",
   "metadata": {},
   "source": [
    "### English Algorithms in Python"
   ]
  },
  {
   "cell_type": "markdown",
   "metadata": {},
   "source": [
    "Suppose, in english, I want to:\n",
    "\n",
    "```\n",
    "FOR EACH ENTRY, CALL IT b, \n",
    "    IN THE DATASET balances\n",
    "        REPORT THE VALUE of b\n",
    "            \n",
    "```\n",
    "---\n",
    "```\n",
    "FOR EACH ENTRY, CALL IT balance,\n",
    "    IN THE DATASET balances    \n",
    "            REPORT THE balance \n",
    "            AND WHETHER THE balance is MORE THAN 100\n",
    "            \n",
    "```\n",
    "---\n",
    "```\n",
    "FOR EACH ENTRY, CALL IT customer_balance,\n",
    "    IN THE DATASET balances    \n",
    "            REPORT WHETHER THE customer_balance is POSITIVE\n",
    "            \n",
    "```"
   ]
  },
  {
   "cell_type": "markdown",
   "metadata": {},
   "source": [
    "Let's write those in python,"
   ]
  },
  {
   "cell_type": "code",
   "execution_count": 15,
   "metadata": {},
   "outputs": [
    {
     "name": "stdout",
     "output_type": "stream",
     "text": [
      "1000\n",
      "2500\n",
      "10678\n",
      "-2000\n"
     ]
    }
   ],
   "source": [
    "for b  in balances:\n",
    "    print(b)"
   ]
  },
  {
   "cell_type": "code",
   "execution_count": 19,
   "metadata": {},
   "outputs": [
    {
     "name": "stdout",
     "output_type": "stream",
     "text": [
      "1000 is more than 100\n",
      "2500 is more than 100\n",
      "10678 is more than 100\n"
     ]
    }
   ],
   "source": [
    "for balance in balances:\n",
    "    if balance > 100:\n",
    "        print(balance, \"is more than 100\")"
   ]
  },
  {
   "cell_type": "code",
   "execution_count": 45,
   "metadata": {},
   "outputs": [
    {
     "name": "stdout",
     "output_type": "stream",
     "text": [
      "-2000 is positive\n",
      "-2000 is positive\n",
      "-2000 is positive\n"
     ]
    }
   ],
   "source": [
    "for customer_balance  in balances:\n",
    "    if customer_balance > 0:\n",
    "        print(customer, \"is positive\")"
   ]
  },
  {
   "cell_type": "markdown",
   "metadata": {},
   "source": [
    "## Understanding the Syntax"
   ]
  },
  {
   "cell_type": "markdown",
   "metadata": {},
   "source": [
    "```python\n",
    "\n",
    "for TEMPORARY_NAME_OF_ENTRY in EXISTING_DATASET\n",
    "REPEAT:\n",
    "        CODE_TO_REPEAT( TEMPORARY_NAME_OF_ENTRY )\n",
    "\n",
    "```"
   ]
  },
  {
   "cell_type": "markdown",
   "metadata": {},
   "source": [
    "We can loop over lots of different types of collections,"
   ]
  },
  {
   "cell_type": "code",
   "execution_count": 22,
   "metadata": {},
   "outputs": [],
   "source": [
    "names = [\"Alice\", \"Eve\", \"Bob\"]"
   ]
  },
  {
   "cell_type": "code",
   "execution_count": 42,
   "metadata": {},
   "outputs": [
    {
     "name": "stdout",
     "output_type": "stream",
     "text": [
      "A\n",
      "E\n",
      "B\n"
     ]
    }
   ],
   "source": [
    "for n in names: \n",
    "    print(n[0].upper()) # uppercase first letter"
   ]
  },
  {
   "cell_type": "code",
   "execution_count": 43,
   "metadata": {},
   "outputs": [
    {
     "name": "stdout",
     "output_type": "stream",
     "text": [
      "The price is £2.00\n",
      "The price is £54.00\n",
      "The price is £7.00\n"
     ]
    }
   ],
   "source": [
    "prices = [2, 54, 7]\n",
    "\n",
    "for p in prices:\n",
    "    print(f\"The price is £{p}.00\")"
   ]
  },
  {
   "cell_type": "markdown",
   "metadata": {},
   "source": [
    "## Exercise\n",
    "\n",
    "### Part 1\n",
    "Consider the survey below which asks several questions and records their answers..."
   ]
  },
  {
   "cell_type": "code",
   "execution_count": 39,
   "metadata": {},
   "outputs": [],
   "source": [
    "questions = [\n",
    "    \"How happy are you working from home (/5)?\",\n",
    "    \"How technical is technical is your job (/5)?\",\n",
    "    \"To what degree have you saved money (-5, 5)?\",    \n",
    "]"
   ]
  },
  {
   "cell_type": "code",
   "execution_count": 40,
   "metadata": {},
   "outputs": [
    {
     "name": "stdout",
     "output_type": "stream",
     "text": [
      "How happy are you working from home (/5)?5\n",
      "How technical is technical is your job (/5)?4\n",
      "To what degree have you saved money (-5, 5)?3\n"
     ]
    }
   ],
   "source": [
    "answers = []\n",
    "\n",
    "for q in questions:\n",
    "    answer = input(q)\n",
    "    \n",
    "    answers.append(answer)"
   ]
  },
  {
   "cell_type": "code",
   "execution_count": 41,
   "metadata": {},
   "outputs": [
    {
     "data": {
      "text/plain": [
       "['5', '4', '3']"
      ]
     },
     "execution_count": 41,
     "metadata": {},
     "output_type": "execute_result"
    }
   ],
   "source": [
    "answers"
   ]
  },
  {
   "cell_type": "markdown",
   "metadata": {},
   "source": [
    "* Modify the above loop to \n",
    "    * store the `float()` of your answer\n",
    "        * HINT: use `float()` on anwers\n",
    "    * print the answer \n",
    "        * EXTRA: f\"\" to add a little formatting\n",
    "        * eg., \"Your answer was...\""
   ]
  },
  {
   "cell_type": "markdown",
   "metadata": {},
   "source": [
    "### Part 2"
   ]
  },
  {
   "cell_type": "markdown",
   "metadata": {},
   "source": [
    "* write a loop over the `answers` variable \n",
    "    * if any answer is more than 3, report \"That's Bad!\"\n",
    "    * otherwise, report \"That's GOOD!\"\n",
    "    \n",
    "* HINT:\n",
    "```python\n",
    "for .. in ..: \n",
    "    if ....:\n",
    "    ...\n",
    "    else:\n",
    "    ...\n",
    "```"
   ]
  },
  {
   "cell_type": "markdown",
   "metadata": {},
   "source": [
    "## Advanced: Built-In Operations for Looping"
   ]
  },
  {
   "cell_type": "markdown",
   "metadata": {},
   "source": [
    "Python has some built-in operations that help us when looping some specific situations,\n",
    "\n",
    "* `zip()`\n",
    "* `range()`\n",
    "* others\n",
    "    * `enumerate()`\n"
   ]
  },
  {
   "cell_type": "code",
   "execution_count": 47,
   "metadata": {},
   "outputs": [
    {
     "name": "stdout",
     "output_type": "stream",
     "text": [
      "0\n",
      "2\n",
      "4\n",
      "6\n",
      "8\n"
     ]
    }
   ],
   "source": [
    "for i in range(0, 10, 2):\n",
    "    print(i)"
   ]
  },
  {
   "cell_type": "code",
   "execution_count": 49,
   "metadata": {},
   "outputs": [
    {
     "name": "stdout",
     "output_type": "stream",
     "text": [
      "10 R\n",
      "23 G\n",
      "13 B\n"
     ]
    }
   ],
   "source": [
    "numbers = [10, 23, 13]\n",
    "colors = [\"R\", \"G\", \"B\"]\n",
    "\n",
    "for n, c in zip(numbers, colors):\n",
    "    print(n, c)"
   ]
  },
  {
   "cell_type": "code",
   "execution_count": 51,
   "metadata": {},
   "outputs": [
    {
     "name": "stdout",
     "output_type": "stream",
     "text": [
      "0 10 R\n",
      "1 23 G\n",
      "2 13 B\n"
     ]
    }
   ],
   "source": [
    "numbers = [10, 23, 13]\n",
    "colors = [\"R\", \"G\", \"B\"]\n",
    "\n",
    "for i, n, c in zip(range(0, 3), numbers, colors):\n",
    "    print(i, n, c)"
   ]
  },
  {
   "cell_type": "code",
   "execution_count": 55,
   "metadata": {},
   "outputs": [
    {
     "name": "stdout",
     "output_type": "stream",
     "text": [
      "0 R\n",
      "1 G\n",
      "2 B\n"
     ]
    }
   ],
   "source": [
    "colors = [\"R\", \"G\", \"B\"]\n",
    "\n",
    "for i, c in enumerate(colors): # enumerate = range + zip\n",
    "    print(i, c)"
   ]
  }
 ],
 "metadata": {
  "kernelspec": {
   "display_name": "Python 3.9",
   "language": "python",
   "name": "python3"
  },
  "language_info": {
   "codemirror_mode": {
    "name": "ipython",
    "version": 3
   },
   "file_extension": ".py",
   "mimetype": "text/x-python",
   "name": "python",
   "nbconvert_exporter": "python",
   "pygments_lexer": "ipython3",
   "version": "3.9.6"
  }
 },
 "nbformat": 4,
 "nbformat_minor": 4
}
