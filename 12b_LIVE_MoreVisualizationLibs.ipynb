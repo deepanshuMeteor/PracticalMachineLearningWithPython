{
 "cells": [
  {
   "cell_type": "markdown",
   "metadata": {},
   "source": [
    "# Python Visualization Libraries\n",
    "\n",
    "* seaborn\n",
    "    * mainstream, standard\n",
    "    * more-or-less 2D\n",
    "    * visualization library\n",
    "    \n",
    "* plotly \n",
    "    * less mainstream\n",
    "    * often using multiple columns\n",
    "    * interactive, powerful\n",
    "    * visualization library\n",
    "    \n",
    "* plotly needs to be installed\n",
    "* seaborn included by default (in anaconda)\n",
    "\n",
    "### Overview\n",
    "\n",
    "* ploty vs seaborn\n",
    "* seaborn in more detail\n",
    "* plotly in more detial"
   ]
  },
  {
   "cell_type": "code",
   "execution_count": 1,
   "metadata": {},
   "outputs": [],
   "source": [
    "import seaborn as sns"
   ]
  },
  {
   "cell_type": "code",
   "execution_count": 35,
   "metadata": {},
   "outputs": [
    {
     "name": "stdout",
     "output_type": "stream",
     "text": [
      "Requirement already satisfied: plotly in /opt/anaconda3/lib/python3.8/site-packages (4.12.0)\r\n",
      "Requirement already satisfied: retrying>=1.3.3 in /opt/anaconda3/lib/python3.8/site-packages (from plotly) (1.3.3)\r\n",
      "Requirement already satisfied: six in /opt/anaconda3/lib/python3.8/site-packages (from plotly) (1.15.0)\r\n"
     ]
    }
   ],
   "source": [
    "!pip install  plotly"
   ]
  },
  {
   "cell_type": "markdown",
   "metadata": {},
   "source": [
    "## How do I install plotly?"
   ]
  },
  {
   "cell_type": "markdown",
   "metadata": {},
   "source": [
    "`pip` is the python package installer.\n",
    "\n",
    "`!pip` runs the `pip` program (pip is another program, not a python command). "
   ]
  },
  {
   "cell_type": "code",
   "execution_count": 1,
   "metadata": {},
   "outputs": [
    {
     "name": "stdout",
     "output_type": "stream",
     "text": [
      "Requirement already satisfied: plotly in /opt/anaconda3/lib/python3.8/site-packages (4.12.0)\r\n",
      "Requirement already satisfied: retrying>=1.3.3 in /opt/anaconda3/lib/python3.8/site-packages (from plotly) (1.3.3)\r\n",
      "Requirement already satisfied: six in /opt/anaconda3/lib/python3.8/site-packages (from plotly) (1.15.0)\r\n"
     ]
    }
   ],
   "source": [
    "!pip install plotly"
   ]
  },
  {
   "cell_type": "markdown",
   "metadata": {},
   "source": [
    "---"
   ]
  },
  {
   "cell_type": "code",
   "execution_count": 10,
   "metadata": {},
   "outputs": [],
   "source": [
    "import pandas as pd\n",
    "\n",
    "ti = pd.read_csv('datasets/titanic.csv')"
   ]
  },
  {
   "cell_type": "code",
   "execution_count": 11,
   "metadata": {},
   "outputs": [
    {
     "data": {
      "text/html": [
       "<div>\n",
       "<style scoped>\n",
       "    .dataframe tbody tr th:only-of-type {\n",
       "        vertical-align: middle;\n",
       "    }\n",
       "\n",
       "    .dataframe tbody tr th {\n",
       "        vertical-align: top;\n",
       "    }\n",
       "\n",
       "    .dataframe thead th {\n",
       "        text-align: right;\n",
       "    }\n",
       "</style>\n",
       "<table border=\"1\" class=\"dataframe\">\n",
       "  <thead>\n",
       "    <tr style=\"text-align: right;\">\n",
       "      <th></th>\n",
       "      <th>survived</th>\n",
       "      <th>pclass</th>\n",
       "      <th>sex</th>\n",
       "      <th>age</th>\n",
       "      <th>sibsp</th>\n",
       "      <th>parch</th>\n",
       "      <th>fare</th>\n",
       "      <th>embarked</th>\n",
       "      <th>class</th>\n",
       "      <th>who</th>\n",
       "      <th>adult_male</th>\n",
       "      <th>deck</th>\n",
       "      <th>embark_town</th>\n",
       "      <th>alive</th>\n",
       "      <th>alone</th>\n",
       "    </tr>\n",
       "  </thead>\n",
       "  <tbody>\n",
       "    <tr>\n",
       "      <th>467</th>\n",
       "      <td>0</td>\n",
       "      <td>1</td>\n",
       "      <td>male</td>\n",
       "      <td>56.0</td>\n",
       "      <td>0</td>\n",
       "      <td>0</td>\n",
       "      <td>26.55</td>\n",
       "      <td>S</td>\n",
       "      <td>First</td>\n",
       "      <td>man</td>\n",
       "      <td>True</td>\n",
       "      <td>NaN</td>\n",
       "      <td>Southampton</td>\n",
       "      <td>no</td>\n",
       "      <td>True</td>\n",
       "    </tr>\n",
       "  </tbody>\n",
       "</table>\n",
       "</div>"
      ],
      "text/plain": [
       "     survived  pclass   sex   age  sibsp  parch   fare embarked  class  who  \\\n",
       "467         0       1  male  56.0      0      0  26.55        S  First  man   \n",
       "\n",
       "     adult_male deck  embark_town alive  alone  \n",
       "467        True  NaN  Southampton    no   True  "
      ]
     },
     "execution_count": 11,
     "metadata": {},
     "output_type": "execute_result"
    }
   ],
   "source": [
    "ti.sample(1)"
   ]
  },
  {
   "cell_type": "markdown",
   "metadata": {},
   "source": [
    "## How do I import plotly?"
   ]
  },
  {
   "cell_type": "markdown",
   "metadata": {},
   "source": [
    "With plotly, analysts use the express API by default. (There are very sophisticated versions which software engineers and others may use to automate building visuals, etc.). "
   ]
  },
  {
   "cell_type": "code",
   "execution_count": 12,
   "metadata": {},
   "outputs": [],
   "source": [
    "import plotly.express as px"
   ]
  },
  {
   "cell_type": "markdown",
   "metadata": {},
   "source": [
    "## How do I use plotly?"
   ]
  },
  {
   "cell_type": "code",
   "execution_count": 38,
   "metadata": {},
   "outputs": [
    {
     "data": {
      "application/vnd.plotly.v1+json": {
       "config": {
        "plotlyServerURL": "https://plot.ly"
       },
       "data": [
        {
         "alignmentgroup": "True",
         "bingroup": "x",
         "hovertemplate": "survived=%{x}<br>count=%{y}<extra></extra>",
         "legendgroup": "",
         "marker": {
          "color": "#636efa"
         },
         "name": "",
         "offsetgroup": "",
         "orientation": "v",
         "showlegend": false,
         "type": "histogram",
         "x": [
          false,
          true,
          true,
          true,
          false,
          false,
          false,
          false,
          true,
          true,
          true,
          true,
          false,
          false,
          false,
          true,
          false,
          true,
          false,
          true,
          false,
          true,
          true,
          true,
          false,
          true,
          false,
          false,
          true,
          false,
          false,
          true,
          true,
          false,
          false,
          false,
          true,
          false,
          false,
          true,
          false,
          false,
          false,
          true,
          true,
          false,
          false,
          true,
          false,
          false,
          false,
          false,
          true,
          true,
          false,
          true,
          true,
          false,
          true,
          false,
          false,
          true,
          false,
          false,
          false,
          true,
          true,
          false,
          true,
          false,
          false,
          false,
          false,
          false,
          true,
          false,
          false,
          false,
          true,
          true,
          false,
          true,
          true,
          false,
          true,
          true,
          false,
          false,
          true,
          false,
          false,
          false,
          false,
          false,
          false,
          false,
          false,
          true,
          true,
          false,
          false,
          false,
          false,
          false,
          false,
          false,
          true,
          true,
          false,
          true,
          false,
          false,
          false,
          false,
          false,
          false,
          false,
          false,
          false,
          false,
          false,
          false,
          false,
          true,
          false,
          true,
          false,
          true,
          true,
          false,
          false,
          false,
          false,
          true,
          false,
          false,
          true,
          false,
          false,
          false,
          false,
          true,
          true,
          false,
          false,
          false,
          true,
          false,
          false,
          false,
          false,
          true,
          false,
          false,
          false,
          false,
          true,
          false,
          false,
          false,
          false,
          true,
          false,
          false,
          false,
          true,
          true,
          false,
          false,
          false,
          false,
          false,
          true,
          false,
          false,
          false,
          false,
          false,
          false,
          false,
          false,
          false,
          false,
          true,
          true,
          false,
          true,
          true,
          false,
          false,
          true,
          false,
          true,
          true,
          true,
          true,
          false,
          false,
          true,
          false,
          false,
          false,
          false,
          false,
          true,
          false,
          false,
          true,
          true,
          true,
          false,
          true,
          false,
          false,
          false,
          true,
          true,
          false,
          true,
          false,
          true,
          false,
          false,
          false,
          true,
          false,
          true,
          false,
          false,
          false,
          true,
          false,
          false,
          true,
          false,
          false,
          false,
          true,
          false,
          false,
          false,
          true,
          false,
          false,
          false,
          false,
          false,
          true,
          true,
          false,
          false,
          false,
          false,
          false,
          false,
          true,
          true,
          true,
          true,
          true,
          false,
          true,
          false,
          false,
          false,
          false,
          false,
          true,
          true,
          true,
          false,
          true,
          true,
          false,
          true,
          true,
          false,
          false,
          false,
          true,
          false,
          false,
          false,
          true,
          false,
          false,
          true,
          false,
          true,
          true,
          true,
          true,
          false,
          false,
          false,
          false,
          false,
          false,
          true,
          true,
          true,
          true,
          false,
          true,
          false,
          true,
          true,
          true,
          false,
          true,
          true,
          true,
          false,
          false,
          false,
          true,
          true,
          false,
          true,
          true,
          false,
          false,
          true,
          true,
          false,
          true,
          false,
          true,
          true,
          true,
          true,
          false,
          false,
          false,
          true,
          false,
          false,
          true,
          true,
          false,
          true,
          true,
          false,
          false,
          false,
          true,
          true,
          true,
          true,
          false,
          false,
          false,
          false,
          false,
          false,
          false,
          true,
          false,
          true,
          true,
          false,
          false,
          false,
          false,
          false,
          false,
          true,
          true,
          true,
          true,
          true,
          false,
          false,
          false,
          false,
          true,
          true,
          false,
          false,
          false,
          true,
          true,
          false,
          true,
          false,
          false,
          false,
          true,
          false,
          true,
          true,
          true,
          false,
          true,
          true,
          false,
          false,
          false,
          false,
          true,
          true,
          false,
          false,
          false,
          false,
          false,
          false,
          true,
          false,
          false,
          false,
          false,
          true,
          false,
          true,
          false,
          true,
          true,
          false,
          false,
          false,
          false,
          false,
          false,
          false,
          false,
          true,
          true,
          false,
          true,
          true,
          true,
          true,
          false,
          false,
          true,
          false,
          true,
          false,
          false,
          true,
          false,
          false,
          true,
          true,
          true,
          true,
          true,
          true,
          true,
          false,
          false,
          false,
          true,
          false,
          true,
          false,
          true,
          true,
          false,
          true,
          false,
          false,
          false,
          false,
          false,
          false,
          false,
          false,
          true,
          false,
          false,
          true,
          true,
          false,
          false,
          false,
          false,
          false,
          true,
          false,
          false,
          false,
          true,
          true,
          false,
          true,
          false,
          false,
          true,
          false,
          false,
          false,
          false,
          false,
          false,
          true,
          false,
          false,
          false,
          false,
          false,
          false,
          false,
          true,
          false,
          true,
          true,
          false,
          true,
          true,
          false,
          true,
          true,
          false,
          false,
          true,
          false,
          true,
          false,
          true,
          false,
          false,
          true,
          false,
          false,
          true,
          false,
          false,
          false,
          true,
          false,
          false,
          true,
          false,
          true,
          false,
          true,
          false,
          true,
          true,
          false,
          false,
          true,
          false,
          false,
          true,
          true,
          false,
          true,
          true,
          false,
          false,
          true,
          true,
          false,
          true,
          false,
          true,
          true,
          false,
          false,
          false,
          false,
          false,
          false,
          false,
          false,
          false,
          true,
          true,
          true,
          true,
          true,
          false,
          false,
          true,
          true,
          false,
          true,
          true,
          true,
          false,
          false,
          false,
          true,
          false,
          true,
          false,
          false,
          false,
          true,
          false,
          false,
          false,
          false,
          true,
          false,
          false,
          true,
          true,
          false,
          false,
          false,
          true,
          false,
          false,
          true,
          true,
          true,
          false,
          false,
          true,
          false,
          false,
          true,
          false,
          false,
          true,
          false,
          false,
          true,
          true,
          false,
          false,
          false,
          false,
          true,
          false,
          false,
          true,
          false,
          true,
          false,
          false,
          true,
          false,
          false,
          false,
          false,
          false,
          true,
          false,
          true,
          true,
          true,
          false,
          true,
          false,
          true,
          false,
          true,
          false,
          true,
          false,
          false,
          false,
          false,
          false,
          false,
          true,
          false,
          false,
          false,
          true,
          false,
          false,
          false,
          false,
          true,
          true,
          false,
          false,
          true,
          false,
          false,
          false,
          true,
          false,
          true,
          false,
          true,
          false,
          false,
          false,
          false,
          false,
          false,
          false,
          true,
          true,
          true,
          true,
          false,
          false,
          false,
          false,
          true,
          false,
          false,
          true,
          true,
          false,
          false,
          false,
          false,
          true,
          true,
          true,
          true,
          true,
          false,
          true,
          false,
          false,
          false,
          true,
          true,
          false,
          false,
          true,
          false,
          false,
          false,
          true,
          false,
          true,
          true,
          false,
          false,
          true,
          false,
          false,
          false,
          false,
          false,
          false,
          true,
          false,
          false,
          true,
          false,
          true,
          false,
          true,
          false,
          false,
          true,
          false,
          false,
          true,
          true,
          false,
          false,
          true,
          true,
          false,
          false,
          false,
          true,
          false,
          false,
          true,
          true,
          false,
          true,
          false,
          false,
          false,
          false,
          false,
          false,
          false,
          false,
          true,
          false,
          false,
          true,
          false,
          true,
          true,
          true,
          false,
          false,
          false,
          false,
          true,
          false,
          true,
          false,
          false,
          false,
          false,
          false,
          false,
          false,
          true,
          true,
          false,
          false,
          false,
          true,
          true,
          true,
          true,
          false,
          false,
          false,
          false,
          true,
          false,
          false,
          false,
          false,
          false,
          false,
          false,
          false,
          false,
          false,
          true,
          true,
          false,
          true,
          false,
          false,
          false,
          true,
          true,
          true,
          true,
          true,
          false,
          false,
          false,
          true,
          false,
          false,
          true,
          true,
          false,
          false,
          true,
          false,
          false,
          false,
          false,
          false,
          false,
          true,
          false,
          false,
          false,
          true,
          false,
          true,
          true,
          true,
          true,
          false,
          false,
          false,
          true,
          false,
          false,
          true,
          true,
          false,
          false,
          true,
          false,
          true,
          false,
          false,
          true,
          true,
          false,
          false,
          false,
          true,
          true,
          false,
          false,
          false,
          false,
          false,
          false,
          true,
          false,
          true,
          false
         ],
         "xaxis": "x",
         "yaxis": "y"
        }
       ],
       "layout": {
        "barmode": "relative",
        "legend": {
         "tracegroupgap": 0
        },
        "margin": {
         "t": 60
        },
        "template": {
         "data": {
          "bar": [
           {
            "error_x": {
             "color": "#2a3f5f"
            },
            "error_y": {
             "color": "#2a3f5f"
            },
            "marker": {
             "line": {
              "color": "#E5ECF6",
              "width": 0.5
             }
            },
            "type": "bar"
           }
          ],
          "barpolar": [
           {
            "marker": {
             "line": {
              "color": "#E5ECF6",
              "width": 0.5
             }
            },
            "type": "barpolar"
           }
          ],
          "carpet": [
           {
            "aaxis": {
             "endlinecolor": "#2a3f5f",
             "gridcolor": "white",
             "linecolor": "white",
             "minorgridcolor": "white",
             "startlinecolor": "#2a3f5f"
            },
            "baxis": {
             "endlinecolor": "#2a3f5f",
             "gridcolor": "white",
             "linecolor": "white",
             "minorgridcolor": "white",
             "startlinecolor": "#2a3f5f"
            },
            "type": "carpet"
           }
          ],
          "choropleth": [
           {
            "colorbar": {
             "outlinewidth": 0,
             "ticks": ""
            },
            "type": "choropleth"
           }
          ],
          "contour": [
           {
            "colorbar": {
             "outlinewidth": 0,
             "ticks": ""
            },
            "colorscale": [
             [
              0,
              "#0d0887"
             ],
             [
              0.1111111111111111,
              "#46039f"
             ],
             [
              0.2222222222222222,
              "#7201a8"
             ],
             [
              0.3333333333333333,
              "#9c179e"
             ],
             [
              0.4444444444444444,
              "#bd3786"
             ],
             [
              0.5555555555555556,
              "#d8576b"
             ],
             [
              0.6666666666666666,
              "#ed7953"
             ],
             [
              0.7777777777777778,
              "#fb9f3a"
             ],
             [
              0.8888888888888888,
              "#fdca26"
             ],
             [
              1,
              "#f0f921"
             ]
            ],
            "type": "contour"
           }
          ],
          "contourcarpet": [
           {
            "colorbar": {
             "outlinewidth": 0,
             "ticks": ""
            },
            "type": "contourcarpet"
           }
          ],
          "heatmap": [
           {
            "colorbar": {
             "outlinewidth": 0,
             "ticks": ""
            },
            "colorscale": [
             [
              0,
              "#0d0887"
             ],
             [
              0.1111111111111111,
              "#46039f"
             ],
             [
              0.2222222222222222,
              "#7201a8"
             ],
             [
              0.3333333333333333,
              "#9c179e"
             ],
             [
              0.4444444444444444,
              "#bd3786"
             ],
             [
              0.5555555555555556,
              "#d8576b"
             ],
             [
              0.6666666666666666,
              "#ed7953"
             ],
             [
              0.7777777777777778,
              "#fb9f3a"
             ],
             [
              0.8888888888888888,
              "#fdca26"
             ],
             [
              1,
              "#f0f921"
             ]
            ],
            "type": "heatmap"
           }
          ],
          "heatmapgl": [
           {
            "colorbar": {
             "outlinewidth": 0,
             "ticks": ""
            },
            "colorscale": [
             [
              0,
              "#0d0887"
             ],
             [
              0.1111111111111111,
              "#46039f"
             ],
             [
              0.2222222222222222,
              "#7201a8"
             ],
             [
              0.3333333333333333,
              "#9c179e"
             ],
             [
              0.4444444444444444,
              "#bd3786"
             ],
             [
              0.5555555555555556,
              "#d8576b"
             ],
             [
              0.6666666666666666,
              "#ed7953"
             ],
             [
              0.7777777777777778,
              "#fb9f3a"
             ],
             [
              0.8888888888888888,
              "#fdca26"
             ],
             [
              1,
              "#f0f921"
             ]
            ],
            "type": "heatmapgl"
           }
          ],
          "histogram": [
           {
            "marker": {
             "colorbar": {
              "outlinewidth": 0,
              "ticks": ""
             }
            },
            "type": "histogram"
           }
          ],
          "histogram2d": [
           {
            "colorbar": {
             "outlinewidth": 0,
             "ticks": ""
            },
            "colorscale": [
             [
              0,
              "#0d0887"
             ],
             [
              0.1111111111111111,
              "#46039f"
             ],
             [
              0.2222222222222222,
              "#7201a8"
             ],
             [
              0.3333333333333333,
              "#9c179e"
             ],
             [
              0.4444444444444444,
              "#bd3786"
             ],
             [
              0.5555555555555556,
              "#d8576b"
             ],
             [
              0.6666666666666666,
              "#ed7953"
             ],
             [
              0.7777777777777778,
              "#fb9f3a"
             ],
             [
              0.8888888888888888,
              "#fdca26"
             ],
             [
              1,
              "#f0f921"
             ]
            ],
            "type": "histogram2d"
           }
          ],
          "histogram2dcontour": [
           {
            "colorbar": {
             "outlinewidth": 0,
             "ticks": ""
            },
            "colorscale": [
             [
              0,
              "#0d0887"
             ],
             [
              0.1111111111111111,
              "#46039f"
             ],
             [
              0.2222222222222222,
              "#7201a8"
             ],
             [
              0.3333333333333333,
              "#9c179e"
             ],
             [
              0.4444444444444444,
              "#bd3786"
             ],
             [
              0.5555555555555556,
              "#d8576b"
             ],
             [
              0.6666666666666666,
              "#ed7953"
             ],
             [
              0.7777777777777778,
              "#fb9f3a"
             ],
             [
              0.8888888888888888,
              "#fdca26"
             ],
             [
              1,
              "#f0f921"
             ]
            ],
            "type": "histogram2dcontour"
           }
          ],
          "mesh3d": [
           {
            "colorbar": {
             "outlinewidth": 0,
             "ticks": ""
            },
            "type": "mesh3d"
           }
          ],
          "parcoords": [
           {
            "line": {
             "colorbar": {
              "outlinewidth": 0,
              "ticks": ""
             }
            },
            "type": "parcoords"
           }
          ],
          "pie": [
           {
            "automargin": true,
            "type": "pie"
           }
          ],
          "scatter": [
           {
            "marker": {
             "colorbar": {
              "outlinewidth": 0,
              "ticks": ""
             }
            },
            "type": "scatter"
           }
          ],
          "scatter3d": [
           {
            "line": {
             "colorbar": {
              "outlinewidth": 0,
              "ticks": ""
             }
            },
            "marker": {
             "colorbar": {
              "outlinewidth": 0,
              "ticks": ""
             }
            },
            "type": "scatter3d"
           }
          ],
          "scattercarpet": [
           {
            "marker": {
             "colorbar": {
              "outlinewidth": 0,
              "ticks": ""
             }
            },
            "type": "scattercarpet"
           }
          ],
          "scattergeo": [
           {
            "marker": {
             "colorbar": {
              "outlinewidth": 0,
              "ticks": ""
             }
            },
            "type": "scattergeo"
           }
          ],
          "scattergl": [
           {
            "marker": {
             "colorbar": {
              "outlinewidth": 0,
              "ticks": ""
             }
            },
            "type": "scattergl"
           }
          ],
          "scattermapbox": [
           {
            "marker": {
             "colorbar": {
              "outlinewidth": 0,
              "ticks": ""
             }
            },
            "type": "scattermapbox"
           }
          ],
          "scatterpolar": [
           {
            "marker": {
             "colorbar": {
              "outlinewidth": 0,
              "ticks": ""
             }
            },
            "type": "scatterpolar"
           }
          ],
          "scatterpolargl": [
           {
            "marker": {
             "colorbar": {
              "outlinewidth": 0,
              "ticks": ""
             }
            },
            "type": "scatterpolargl"
           }
          ],
          "scatterternary": [
           {
            "marker": {
             "colorbar": {
              "outlinewidth": 0,
              "ticks": ""
             }
            },
            "type": "scatterternary"
           }
          ],
          "surface": [
           {
            "colorbar": {
             "outlinewidth": 0,
             "ticks": ""
            },
            "colorscale": [
             [
              0,
              "#0d0887"
             ],
             [
              0.1111111111111111,
              "#46039f"
             ],
             [
              0.2222222222222222,
              "#7201a8"
             ],
             [
              0.3333333333333333,
              "#9c179e"
             ],
             [
              0.4444444444444444,
              "#bd3786"
             ],
             [
              0.5555555555555556,
              "#d8576b"
             ],
             [
              0.6666666666666666,
              "#ed7953"
             ],
             [
              0.7777777777777778,
              "#fb9f3a"
             ],
             [
              0.8888888888888888,
              "#fdca26"
             ],
             [
              1,
              "#f0f921"
             ]
            ],
            "type": "surface"
           }
          ],
          "table": [
           {
            "cells": {
             "fill": {
              "color": "#EBF0F8"
             },
             "line": {
              "color": "white"
             }
            },
            "header": {
             "fill": {
              "color": "#C8D4E3"
             },
             "line": {
              "color": "white"
             }
            },
            "type": "table"
           }
          ]
         },
         "layout": {
          "annotationdefaults": {
           "arrowcolor": "#2a3f5f",
           "arrowhead": 0,
           "arrowwidth": 1
          },
          "coloraxis": {
           "colorbar": {
            "outlinewidth": 0,
            "ticks": ""
           }
          },
          "colorscale": {
           "diverging": [
            [
             0,
             "#8e0152"
            ],
            [
             0.1,
             "#c51b7d"
            ],
            [
             0.2,
             "#de77ae"
            ],
            [
             0.3,
             "#f1b6da"
            ],
            [
             0.4,
             "#fde0ef"
            ],
            [
             0.5,
             "#f7f7f7"
            ],
            [
             0.6,
             "#e6f5d0"
            ],
            [
             0.7,
             "#b8e186"
            ],
            [
             0.8,
             "#7fbc41"
            ],
            [
             0.9,
             "#4d9221"
            ],
            [
             1,
             "#276419"
            ]
           ],
           "sequential": [
            [
             0,
             "#0d0887"
            ],
            [
             0.1111111111111111,
             "#46039f"
            ],
            [
             0.2222222222222222,
             "#7201a8"
            ],
            [
             0.3333333333333333,
             "#9c179e"
            ],
            [
             0.4444444444444444,
             "#bd3786"
            ],
            [
             0.5555555555555556,
             "#d8576b"
            ],
            [
             0.6666666666666666,
             "#ed7953"
            ],
            [
             0.7777777777777778,
             "#fb9f3a"
            ],
            [
             0.8888888888888888,
             "#fdca26"
            ],
            [
             1,
             "#f0f921"
            ]
           ],
           "sequentialminus": [
            [
             0,
             "#0d0887"
            ],
            [
             0.1111111111111111,
             "#46039f"
            ],
            [
             0.2222222222222222,
             "#7201a8"
            ],
            [
             0.3333333333333333,
             "#9c179e"
            ],
            [
             0.4444444444444444,
             "#bd3786"
            ],
            [
             0.5555555555555556,
             "#d8576b"
            ],
            [
             0.6666666666666666,
             "#ed7953"
            ],
            [
             0.7777777777777778,
             "#fb9f3a"
            ],
            [
             0.8888888888888888,
             "#fdca26"
            ],
            [
             1,
             "#f0f921"
            ]
           ]
          },
          "colorway": [
           "#636efa",
           "#EF553B",
           "#00cc96",
           "#ab63fa",
           "#FFA15A",
           "#19d3f3",
           "#FF6692",
           "#B6E880",
           "#FF97FF",
           "#FECB52"
          ],
          "font": {
           "color": "#2a3f5f"
          },
          "geo": {
           "bgcolor": "white",
           "lakecolor": "white",
           "landcolor": "#E5ECF6",
           "showlakes": true,
           "showland": true,
           "subunitcolor": "white"
          },
          "hoverlabel": {
           "align": "left"
          },
          "hovermode": "closest",
          "mapbox": {
           "style": "light"
          },
          "paper_bgcolor": "white",
          "plot_bgcolor": "#E5ECF6",
          "polar": {
           "angularaxis": {
            "gridcolor": "white",
            "linecolor": "white",
            "ticks": ""
           },
           "bgcolor": "#E5ECF6",
           "radialaxis": {
            "gridcolor": "white",
            "linecolor": "white",
            "ticks": ""
           }
          },
          "scene": {
           "xaxis": {
            "backgroundcolor": "#E5ECF6",
            "gridcolor": "white",
            "gridwidth": 2,
            "linecolor": "white",
            "showbackground": true,
            "ticks": "",
            "zerolinecolor": "white"
           },
           "yaxis": {
            "backgroundcolor": "#E5ECF6",
            "gridcolor": "white",
            "gridwidth": 2,
            "linecolor": "white",
            "showbackground": true,
            "ticks": "",
            "zerolinecolor": "white"
           },
           "zaxis": {
            "backgroundcolor": "#E5ECF6",
            "gridcolor": "white",
            "gridwidth": 2,
            "linecolor": "white",
            "showbackground": true,
            "ticks": "",
            "zerolinecolor": "white"
           }
          },
          "shapedefaults": {
           "line": {
            "color": "#2a3f5f"
           }
          },
          "ternary": {
           "aaxis": {
            "gridcolor": "white",
            "linecolor": "white",
            "ticks": ""
           },
           "baxis": {
            "gridcolor": "white",
            "linecolor": "white",
            "ticks": ""
           },
           "bgcolor": "#E5ECF6",
           "caxis": {
            "gridcolor": "white",
            "linecolor": "white",
            "ticks": ""
           }
          },
          "title": {
           "x": 0.05
          },
          "xaxis": {
           "automargin": true,
           "gridcolor": "white",
           "linecolor": "white",
           "ticks": "",
           "title": {
            "standoff": 15
           },
           "zerolinecolor": "white",
           "zerolinewidth": 2
          },
          "yaxis": {
           "automargin": true,
           "gridcolor": "white",
           "linecolor": "white",
           "ticks": "",
           "title": {
            "standoff": 15
           },
           "zerolinecolor": "white",
           "zerolinewidth": 2
          }
         }
        },
        "xaxis": {
         "anchor": "y",
         "domain": [
          0,
          1
         ],
         "title": {
          "text": "survived"
         }
        },
        "yaxis": {
         "anchor": "x",
         "domain": [
          0,
          1
         ],
         "title": {
          "text": "count"
         }
        }
       }
      },
      "text/html": [
       "<div>                            <div id=\"86335547-e3b6-4e55-9d88-5f5709163410\" class=\"plotly-graph-div\" style=\"height:525px; width:100%;\"></div>            <script type=\"text/javascript\">                require([\"plotly\"], function(Plotly) {                    window.PLOTLYENV=window.PLOTLYENV || {};                                    if (document.getElementById(\"86335547-e3b6-4e55-9d88-5f5709163410\")) {                    Plotly.newPlot(                        \"86335547-e3b6-4e55-9d88-5f5709163410\",                        [{\"alignmentgroup\": \"True\", \"bingroup\": \"x\", \"hovertemplate\": \"survived=%{x}<br>count=%{y}<extra></extra>\", \"legendgroup\": \"\", \"marker\": {\"color\": \"#636efa\"}, \"name\": \"\", \"offsetgroup\": \"\", \"orientation\": \"v\", \"showlegend\": false, \"type\": \"histogram\", \"x\": [false, true, true, true, false, false, false, false, true, true, true, true, false, false, false, true, false, true, false, true, false, true, true, true, false, true, false, false, true, false, false, true, true, false, false, false, true, false, false, true, false, false, false, true, true, false, false, true, false, false, false, false, true, true, false, true, true, false, true, false, false, true, false, false, false, true, true, false, true, false, false, false, false, false, true, false, false, false, true, true, false, true, true, false, true, true, false, false, true, false, false, false, false, false, false, false, false, true, true, false, false, false, false, false, false, false, true, true, false, true, false, false, false, false, false, false, false, false, false, false, false, false, false, true, false, true, false, true, true, false, false, false, false, true, false, false, true, false, false, false, false, true, true, false, false, false, true, false, false, false, false, true, false, false, false, false, true, false, false, false, false, true, false, false, false, true, true, false, false, false, false, false, true, false, false, false, false, false, false, false, false, false, false, true, true, false, true, true, false, false, true, false, true, true, true, true, false, false, true, false, false, false, false, false, true, false, false, true, true, true, false, true, false, false, false, true, true, false, true, false, true, false, false, false, true, false, true, false, false, false, true, false, false, true, false, false, false, true, false, false, false, true, false, false, false, false, false, true, true, false, false, false, false, false, false, true, true, true, true, true, false, true, false, false, false, false, false, true, true, true, false, true, true, false, true, true, false, false, false, true, false, false, false, true, false, false, true, false, true, true, true, true, false, false, false, false, false, false, true, true, true, true, false, true, false, true, true, true, false, true, true, true, false, false, false, true, true, false, true, true, false, false, true, true, false, true, false, true, true, true, true, false, false, false, true, false, false, true, true, false, true, true, false, false, false, true, true, true, true, false, false, false, false, false, false, false, true, false, true, true, false, false, false, false, false, false, true, true, true, true, true, false, false, false, false, true, true, false, false, false, true, true, false, true, false, false, false, true, false, true, true, true, false, true, true, false, false, false, false, true, true, false, false, false, false, false, false, true, false, false, false, false, true, false, true, false, true, true, false, false, false, false, false, false, false, false, true, true, false, true, true, true, true, false, false, true, false, true, false, false, true, false, false, true, true, true, true, true, true, true, false, false, false, true, false, true, false, true, true, false, true, false, false, false, false, false, false, false, false, true, false, false, true, true, false, false, false, false, false, true, false, false, false, true, true, false, true, false, false, true, false, false, false, false, false, false, true, false, false, false, false, false, false, false, true, false, true, true, false, true, true, false, true, true, false, false, true, false, true, false, true, false, false, true, false, false, true, false, false, false, true, false, false, true, false, true, false, true, false, true, true, false, false, true, false, false, true, true, false, true, true, false, false, true, true, false, true, false, true, true, false, false, false, false, false, false, false, false, false, true, true, true, true, true, false, false, true, true, false, true, true, true, false, false, false, true, false, true, false, false, false, true, false, false, false, false, true, false, false, true, true, false, false, false, true, false, false, true, true, true, false, false, true, false, false, true, false, false, true, false, false, true, true, false, false, false, false, true, false, false, true, false, true, false, false, true, false, false, false, false, false, true, false, true, true, true, false, true, false, true, false, true, false, true, false, false, false, false, false, false, true, false, false, false, true, false, false, false, false, true, true, false, false, true, false, false, false, true, false, true, false, true, false, false, false, false, false, false, false, true, true, true, true, false, false, false, false, true, false, false, true, true, false, false, false, false, true, true, true, true, true, false, true, false, false, false, true, true, false, false, true, false, false, false, true, false, true, true, false, false, true, false, false, false, false, false, false, true, false, false, true, false, true, false, true, false, false, true, false, false, true, true, false, false, true, true, false, false, false, true, false, false, true, true, false, true, false, false, false, false, false, false, false, false, true, false, false, true, false, true, true, true, false, false, false, false, true, false, true, false, false, false, false, false, false, false, true, true, false, false, false, true, true, true, true, false, false, false, false, true, false, false, false, false, false, false, false, false, false, false, true, true, false, true, false, false, false, true, true, true, true, true, false, false, false, true, false, false, true, true, false, false, true, false, false, false, false, false, false, true, false, false, false, true, false, true, true, true, true, false, false, false, true, false, false, true, true, false, false, true, false, true, false, false, true, true, false, false, false, true, true, false, false, false, false, false, false, true, false, true, false], \"xaxis\": \"x\", \"yaxis\": \"y\"}],                        {\"barmode\": \"relative\", \"legend\": {\"tracegroupgap\": 0}, \"margin\": {\"t\": 60}, \"template\": {\"data\": {\"bar\": [{\"error_x\": {\"color\": \"#2a3f5f\"}, \"error_y\": {\"color\": \"#2a3f5f\"}, \"marker\": {\"line\": {\"color\": \"#E5ECF6\", \"width\": 0.5}}, \"type\": \"bar\"}], \"barpolar\": [{\"marker\": {\"line\": {\"color\": \"#E5ECF6\", \"width\": 0.5}}, \"type\": \"barpolar\"}], \"carpet\": [{\"aaxis\": {\"endlinecolor\": \"#2a3f5f\", \"gridcolor\": \"white\", \"linecolor\": \"white\", \"minorgridcolor\": \"white\", \"startlinecolor\": \"#2a3f5f\"}, \"baxis\": {\"endlinecolor\": \"#2a3f5f\", \"gridcolor\": \"white\", \"linecolor\": \"white\", \"minorgridcolor\": \"white\", \"startlinecolor\": \"#2a3f5f\"}, \"type\": \"carpet\"}], \"choropleth\": [{\"colorbar\": {\"outlinewidth\": 0, \"ticks\": \"\"}, \"type\": \"choropleth\"}], \"contour\": [{\"colorbar\": {\"outlinewidth\": 0, \"ticks\": \"\"}, \"colorscale\": [[0.0, \"#0d0887\"], [0.1111111111111111, \"#46039f\"], [0.2222222222222222, \"#7201a8\"], [0.3333333333333333, \"#9c179e\"], [0.4444444444444444, \"#bd3786\"], [0.5555555555555556, \"#d8576b\"], [0.6666666666666666, \"#ed7953\"], [0.7777777777777778, \"#fb9f3a\"], [0.8888888888888888, \"#fdca26\"], [1.0, \"#f0f921\"]], \"type\": \"contour\"}], \"contourcarpet\": [{\"colorbar\": {\"outlinewidth\": 0, \"ticks\": \"\"}, \"type\": \"contourcarpet\"}], \"heatmap\": [{\"colorbar\": {\"outlinewidth\": 0, \"ticks\": \"\"}, \"colorscale\": [[0.0, \"#0d0887\"], [0.1111111111111111, \"#46039f\"], [0.2222222222222222, \"#7201a8\"], [0.3333333333333333, \"#9c179e\"], [0.4444444444444444, \"#bd3786\"], [0.5555555555555556, \"#d8576b\"], [0.6666666666666666, \"#ed7953\"], [0.7777777777777778, \"#fb9f3a\"], [0.8888888888888888, \"#fdca26\"], [1.0, \"#f0f921\"]], \"type\": \"heatmap\"}], \"heatmapgl\": [{\"colorbar\": {\"outlinewidth\": 0, \"ticks\": \"\"}, \"colorscale\": [[0.0, \"#0d0887\"], [0.1111111111111111, \"#46039f\"], [0.2222222222222222, \"#7201a8\"], [0.3333333333333333, \"#9c179e\"], [0.4444444444444444, \"#bd3786\"], [0.5555555555555556, \"#d8576b\"], [0.6666666666666666, \"#ed7953\"], [0.7777777777777778, \"#fb9f3a\"], [0.8888888888888888, \"#fdca26\"], [1.0, \"#f0f921\"]], \"type\": \"heatmapgl\"}], \"histogram\": [{\"marker\": {\"colorbar\": {\"outlinewidth\": 0, \"ticks\": \"\"}}, \"type\": \"histogram\"}], \"histogram2d\": [{\"colorbar\": {\"outlinewidth\": 0, \"ticks\": \"\"}, \"colorscale\": [[0.0, \"#0d0887\"], [0.1111111111111111, \"#46039f\"], [0.2222222222222222, \"#7201a8\"], [0.3333333333333333, \"#9c179e\"], [0.4444444444444444, \"#bd3786\"], [0.5555555555555556, \"#d8576b\"], [0.6666666666666666, \"#ed7953\"], [0.7777777777777778, \"#fb9f3a\"], [0.8888888888888888, \"#fdca26\"], [1.0, \"#f0f921\"]], \"type\": \"histogram2d\"}], \"histogram2dcontour\": [{\"colorbar\": {\"outlinewidth\": 0, \"ticks\": \"\"}, \"colorscale\": [[0.0, \"#0d0887\"], [0.1111111111111111, \"#46039f\"], [0.2222222222222222, \"#7201a8\"], [0.3333333333333333, \"#9c179e\"], [0.4444444444444444, \"#bd3786\"], [0.5555555555555556, \"#d8576b\"], [0.6666666666666666, \"#ed7953\"], [0.7777777777777778, \"#fb9f3a\"], [0.8888888888888888, \"#fdca26\"], [1.0, \"#f0f921\"]], \"type\": \"histogram2dcontour\"}], \"mesh3d\": [{\"colorbar\": {\"outlinewidth\": 0, \"ticks\": \"\"}, \"type\": \"mesh3d\"}], \"parcoords\": [{\"line\": {\"colorbar\": {\"outlinewidth\": 0, \"ticks\": \"\"}}, \"type\": \"parcoords\"}], \"pie\": [{\"automargin\": true, \"type\": \"pie\"}], \"scatter\": [{\"marker\": {\"colorbar\": {\"outlinewidth\": 0, \"ticks\": \"\"}}, \"type\": \"scatter\"}], \"scatter3d\": [{\"line\": {\"colorbar\": {\"outlinewidth\": 0, \"ticks\": \"\"}}, \"marker\": {\"colorbar\": {\"outlinewidth\": 0, \"ticks\": \"\"}}, \"type\": \"scatter3d\"}], \"scattercarpet\": [{\"marker\": {\"colorbar\": {\"outlinewidth\": 0, \"ticks\": \"\"}}, \"type\": \"scattercarpet\"}], \"scattergeo\": [{\"marker\": {\"colorbar\": {\"outlinewidth\": 0, \"ticks\": \"\"}}, \"type\": \"scattergeo\"}], \"scattergl\": [{\"marker\": {\"colorbar\": {\"outlinewidth\": 0, \"ticks\": \"\"}}, \"type\": \"scattergl\"}], \"scattermapbox\": [{\"marker\": {\"colorbar\": {\"outlinewidth\": 0, \"ticks\": \"\"}}, \"type\": \"scattermapbox\"}], \"scatterpolar\": [{\"marker\": {\"colorbar\": {\"outlinewidth\": 0, \"ticks\": \"\"}}, \"type\": \"scatterpolar\"}], \"scatterpolargl\": [{\"marker\": {\"colorbar\": {\"outlinewidth\": 0, \"ticks\": \"\"}}, \"type\": \"scatterpolargl\"}], \"scatterternary\": [{\"marker\": {\"colorbar\": {\"outlinewidth\": 0, \"ticks\": \"\"}}, \"type\": \"scatterternary\"}], \"surface\": [{\"colorbar\": {\"outlinewidth\": 0, \"ticks\": \"\"}, \"colorscale\": [[0.0, \"#0d0887\"], [0.1111111111111111, \"#46039f\"], [0.2222222222222222, \"#7201a8\"], [0.3333333333333333, \"#9c179e\"], [0.4444444444444444, \"#bd3786\"], [0.5555555555555556, \"#d8576b\"], [0.6666666666666666, \"#ed7953\"], [0.7777777777777778, \"#fb9f3a\"], [0.8888888888888888, \"#fdca26\"], [1.0, \"#f0f921\"]], \"type\": \"surface\"}], \"table\": [{\"cells\": {\"fill\": {\"color\": \"#EBF0F8\"}, \"line\": {\"color\": \"white\"}}, \"header\": {\"fill\": {\"color\": \"#C8D4E3\"}, \"line\": {\"color\": \"white\"}}, \"type\": \"table\"}]}, \"layout\": {\"annotationdefaults\": {\"arrowcolor\": \"#2a3f5f\", \"arrowhead\": 0, \"arrowwidth\": 1}, \"coloraxis\": {\"colorbar\": {\"outlinewidth\": 0, \"ticks\": \"\"}}, \"colorscale\": {\"diverging\": [[0, \"#8e0152\"], [0.1, \"#c51b7d\"], [0.2, \"#de77ae\"], [0.3, \"#f1b6da\"], [0.4, \"#fde0ef\"], [0.5, \"#f7f7f7\"], [0.6, \"#e6f5d0\"], [0.7, \"#b8e186\"], [0.8, \"#7fbc41\"], [0.9, \"#4d9221\"], [1, \"#276419\"]], \"sequential\": [[0.0, \"#0d0887\"], [0.1111111111111111, \"#46039f\"], [0.2222222222222222, \"#7201a8\"], [0.3333333333333333, \"#9c179e\"], [0.4444444444444444, \"#bd3786\"], [0.5555555555555556, \"#d8576b\"], [0.6666666666666666, \"#ed7953\"], [0.7777777777777778, \"#fb9f3a\"], [0.8888888888888888, \"#fdca26\"], [1.0, \"#f0f921\"]], \"sequentialminus\": [[0.0, \"#0d0887\"], [0.1111111111111111, \"#46039f\"], [0.2222222222222222, \"#7201a8\"], [0.3333333333333333, \"#9c179e\"], [0.4444444444444444, \"#bd3786\"], [0.5555555555555556, \"#d8576b\"], [0.6666666666666666, \"#ed7953\"], [0.7777777777777778, \"#fb9f3a\"], [0.8888888888888888, \"#fdca26\"], [1.0, \"#f0f921\"]]}, \"colorway\": [\"#636efa\", \"#EF553B\", \"#00cc96\", \"#ab63fa\", \"#FFA15A\", \"#19d3f3\", \"#FF6692\", \"#B6E880\", \"#FF97FF\", \"#FECB52\"], \"font\": {\"color\": \"#2a3f5f\"}, \"geo\": {\"bgcolor\": \"white\", \"lakecolor\": \"white\", \"landcolor\": \"#E5ECF6\", \"showlakes\": true, \"showland\": true, \"subunitcolor\": \"white\"}, \"hoverlabel\": {\"align\": \"left\"}, \"hovermode\": \"closest\", \"mapbox\": {\"style\": \"light\"}, \"paper_bgcolor\": \"white\", \"plot_bgcolor\": \"#E5ECF6\", \"polar\": {\"angularaxis\": {\"gridcolor\": \"white\", \"linecolor\": \"white\", \"ticks\": \"\"}, \"bgcolor\": \"#E5ECF6\", \"radialaxis\": {\"gridcolor\": \"white\", \"linecolor\": \"white\", \"ticks\": \"\"}}, \"scene\": {\"xaxis\": {\"backgroundcolor\": \"#E5ECF6\", \"gridcolor\": \"white\", \"gridwidth\": 2, \"linecolor\": \"white\", \"showbackground\": true, \"ticks\": \"\", \"zerolinecolor\": \"white\"}, \"yaxis\": {\"backgroundcolor\": \"#E5ECF6\", \"gridcolor\": \"white\", \"gridwidth\": 2, \"linecolor\": \"white\", \"showbackground\": true, \"ticks\": \"\", \"zerolinecolor\": \"white\"}, \"zaxis\": {\"backgroundcolor\": \"#E5ECF6\", \"gridcolor\": \"white\", \"gridwidth\": 2, \"linecolor\": \"white\", \"showbackground\": true, \"ticks\": \"\", \"zerolinecolor\": \"white\"}}, \"shapedefaults\": {\"line\": {\"color\": \"#2a3f5f\"}}, \"ternary\": {\"aaxis\": {\"gridcolor\": \"white\", \"linecolor\": \"white\", \"ticks\": \"\"}, \"baxis\": {\"gridcolor\": \"white\", \"linecolor\": \"white\", \"ticks\": \"\"}, \"bgcolor\": \"#E5ECF6\", \"caxis\": {\"gridcolor\": \"white\", \"linecolor\": \"white\", \"ticks\": \"\"}}, \"title\": {\"x\": 0.05}, \"xaxis\": {\"automargin\": true, \"gridcolor\": \"white\", \"linecolor\": \"white\", \"ticks\": \"\", \"title\": {\"standoff\": 15}, \"zerolinecolor\": \"white\", \"zerolinewidth\": 2}, \"yaxis\": {\"automargin\": true, \"gridcolor\": \"white\", \"linecolor\": \"white\", \"ticks\": \"\", \"title\": {\"standoff\": 15}, \"zerolinecolor\": \"white\", \"zerolinewidth\": 2}}}, \"xaxis\": {\"anchor\": \"y\", \"domain\": [0.0, 1.0], \"title\": {\"text\": \"survived\"}}, \"yaxis\": {\"anchor\": \"x\", \"domain\": [0.0, 1.0], \"title\": {\"text\": \"count\"}}},                        {\"responsive\": true}                    ).then(function(){\n",
       "                            \n",
       "var gd = document.getElementById('86335547-e3b6-4e55-9d88-5f5709163410');\n",
       "var x = new MutationObserver(function (mutations, observer) {{\n",
       "        var display = window.getComputedStyle(gd).display;\n",
       "        if (!display || display === 'none') {{\n",
       "            console.log([gd, 'removed!']);\n",
       "            Plotly.purge(gd);\n",
       "            observer.disconnect();\n",
       "        }}\n",
       "}});\n",
       "\n",
       "// Listen for the removal of the full notebook cells\n",
       "var notebookContainer = gd.closest('#notebook-container');\n",
       "if (notebookContainer) {{\n",
       "    x.observe(notebookContainer, {childList: true});\n",
       "}}\n",
       "\n",
       "// Listen for the clearing of the current output cell\n",
       "var outputEl = gd.closest('.output');\n",
       "if (outputEl) {{\n",
       "    x.observe(outputEl, {childList: true});\n",
       "}}\n",
       "\n",
       "                        })                };                });            </script>        </div>"
      ]
     },
     "metadata": {},
     "output_type": "display_data"
    }
   ],
   "source": [
    "px.histogram(ti, x='survived')"
   ]
  },
  {
   "cell_type": "code",
   "execution_count": 24,
   "metadata": {},
   "outputs": [],
   "source": [
    "ti['survived'] = ti['survived'].astype(bool)"
   ]
  },
  {
   "cell_type": "code",
   "execution_count": 25,
   "metadata": {},
   "outputs": [
    {
     "data": {
      "application/vnd.plotly.v1+json": {
       "config": {
        "plotlyServerURL": "https://plot.ly"
       },
       "data": [
        {
         "alignmentgroup": "True",
         "bingroup": "x",
         "hovertemplate": "survived=%{x}<br>count=%{y}<extra></extra>",
         "legendgroup": "",
         "marker": {
          "color": "#636efa"
         },
         "name": "",
         "offsetgroup": "",
         "orientation": "v",
         "showlegend": false,
         "type": "histogram",
         "x": [
          false,
          true,
          true,
          true,
          false,
          false,
          false,
          false,
          true,
          true,
          true,
          true,
          false,
          false,
          false,
          true,
          false,
          true,
          false,
          true,
          false,
          true,
          true,
          true,
          false,
          true,
          false,
          false,
          true,
          false,
          false,
          true,
          true,
          false,
          false,
          false,
          true,
          false,
          false,
          true,
          false,
          false,
          false,
          true,
          true,
          false,
          false,
          true,
          false,
          false,
          false,
          false,
          true,
          true,
          false,
          true,
          true,
          false,
          true,
          false,
          false,
          true,
          false,
          false,
          false,
          true,
          true,
          false,
          true,
          false,
          false,
          false,
          false,
          false,
          true,
          false,
          false,
          false,
          true,
          true,
          false,
          true,
          true,
          false,
          true,
          true,
          false,
          false,
          true,
          false,
          false,
          false,
          false,
          false,
          false,
          false,
          false,
          true,
          true,
          false,
          false,
          false,
          false,
          false,
          false,
          false,
          true,
          true,
          false,
          true,
          false,
          false,
          false,
          false,
          false,
          false,
          false,
          false,
          false,
          false,
          false,
          false,
          false,
          true,
          false,
          true,
          false,
          true,
          true,
          false,
          false,
          false,
          false,
          true,
          false,
          false,
          true,
          false,
          false,
          false,
          false,
          true,
          true,
          false,
          false,
          false,
          true,
          false,
          false,
          false,
          false,
          true,
          false,
          false,
          false,
          false,
          true,
          false,
          false,
          false,
          false,
          true,
          false,
          false,
          false,
          true,
          true,
          false,
          false,
          false,
          false,
          false,
          true,
          false,
          false,
          false,
          false,
          false,
          false,
          false,
          false,
          false,
          false,
          true,
          true,
          false,
          true,
          true,
          false,
          false,
          true,
          false,
          true,
          true,
          true,
          true,
          false,
          false,
          true,
          false,
          false,
          false,
          false,
          false,
          true,
          false,
          false,
          true,
          true,
          true,
          false,
          true,
          false,
          false,
          false,
          true,
          true,
          false,
          true,
          false,
          true,
          false,
          false,
          false,
          true,
          false,
          true,
          false,
          false,
          false,
          true,
          false,
          false,
          true,
          false,
          false,
          false,
          true,
          false,
          false,
          false,
          true,
          false,
          false,
          false,
          false,
          false,
          true,
          true,
          false,
          false,
          false,
          false,
          false,
          false,
          true,
          true,
          true,
          true,
          true,
          false,
          true,
          false,
          false,
          false,
          false,
          false,
          true,
          true,
          true,
          false,
          true,
          true,
          false,
          true,
          true,
          false,
          false,
          false,
          true,
          false,
          false,
          false,
          true,
          false,
          false,
          true,
          false,
          true,
          true,
          true,
          true,
          false,
          false,
          false,
          false,
          false,
          false,
          true,
          true,
          true,
          true,
          false,
          true,
          false,
          true,
          true,
          true,
          false,
          true,
          true,
          true,
          false,
          false,
          false,
          true,
          true,
          false,
          true,
          true,
          false,
          false,
          true,
          true,
          false,
          true,
          false,
          true,
          true,
          true,
          true,
          false,
          false,
          false,
          true,
          false,
          false,
          true,
          true,
          false,
          true,
          true,
          false,
          false,
          false,
          true,
          true,
          true,
          true,
          false,
          false,
          false,
          false,
          false,
          false,
          false,
          true,
          false,
          true,
          true,
          false,
          false,
          false,
          false,
          false,
          false,
          true,
          true,
          true,
          true,
          true,
          false,
          false,
          false,
          false,
          true,
          true,
          false,
          false,
          false,
          true,
          true,
          false,
          true,
          false,
          false,
          false,
          true,
          false,
          true,
          true,
          true,
          false,
          true,
          true,
          false,
          false,
          false,
          false,
          true,
          true,
          false,
          false,
          false,
          false,
          false,
          false,
          true,
          false,
          false,
          false,
          false,
          true,
          false,
          true,
          false,
          true,
          true,
          false,
          false,
          false,
          false,
          false,
          false,
          false,
          false,
          true,
          true,
          false,
          true,
          true,
          true,
          true,
          false,
          false,
          true,
          false,
          true,
          false,
          false,
          true,
          false,
          false,
          true,
          true,
          true,
          true,
          true,
          true,
          true,
          false,
          false,
          false,
          true,
          false,
          true,
          false,
          true,
          true,
          false,
          true,
          false,
          false,
          false,
          false,
          false,
          false,
          false,
          false,
          true,
          false,
          false,
          true,
          true,
          false,
          false,
          false,
          false,
          false,
          true,
          false,
          false,
          false,
          true,
          true,
          false,
          true,
          false,
          false,
          true,
          false,
          false,
          false,
          false,
          false,
          false,
          true,
          false,
          false,
          false,
          false,
          false,
          false,
          false,
          true,
          false,
          true,
          true,
          false,
          true,
          true,
          false,
          true,
          true,
          false,
          false,
          true,
          false,
          true,
          false,
          true,
          false,
          false,
          true,
          false,
          false,
          true,
          false,
          false,
          false,
          true,
          false,
          false,
          true,
          false,
          true,
          false,
          true,
          false,
          true,
          true,
          false,
          false,
          true,
          false,
          false,
          true,
          true,
          false,
          true,
          true,
          false,
          false,
          true,
          true,
          false,
          true,
          false,
          true,
          true,
          false,
          false,
          false,
          false,
          false,
          false,
          false,
          false,
          false,
          true,
          true,
          true,
          true,
          true,
          false,
          false,
          true,
          true,
          false,
          true,
          true,
          true,
          false,
          false,
          false,
          true,
          false,
          true,
          false,
          false,
          false,
          true,
          false,
          false,
          false,
          false,
          true,
          false,
          false,
          true,
          true,
          false,
          false,
          false,
          true,
          false,
          false,
          true,
          true,
          true,
          false,
          false,
          true,
          false,
          false,
          true,
          false,
          false,
          true,
          false,
          false,
          true,
          true,
          false,
          false,
          false,
          false,
          true,
          false,
          false,
          true,
          false,
          true,
          false,
          false,
          true,
          false,
          false,
          false,
          false,
          false,
          true,
          false,
          true,
          true,
          true,
          false,
          true,
          false,
          true,
          false,
          true,
          false,
          true,
          false,
          false,
          false,
          false,
          false,
          false,
          true,
          false,
          false,
          false,
          true,
          false,
          false,
          false,
          false,
          true,
          true,
          false,
          false,
          true,
          false,
          false,
          false,
          true,
          false,
          true,
          false,
          true,
          false,
          false,
          false,
          false,
          false,
          false,
          false,
          true,
          true,
          true,
          true,
          false,
          false,
          false,
          false,
          true,
          false,
          false,
          true,
          true,
          false,
          false,
          false,
          false,
          true,
          true,
          true,
          true,
          true,
          false,
          true,
          false,
          false,
          false,
          true,
          true,
          false,
          false,
          true,
          false,
          false,
          false,
          true,
          false,
          true,
          true,
          false,
          false,
          true,
          false,
          false,
          false,
          false,
          false,
          false,
          true,
          false,
          false,
          true,
          false,
          true,
          false,
          true,
          false,
          false,
          true,
          false,
          false,
          true,
          true,
          false,
          false,
          true,
          true,
          false,
          false,
          false,
          true,
          false,
          false,
          true,
          true,
          false,
          true,
          false,
          false,
          false,
          false,
          false,
          false,
          false,
          false,
          true,
          false,
          false,
          true,
          false,
          true,
          true,
          true,
          false,
          false,
          false,
          false,
          true,
          false,
          true,
          false,
          false,
          false,
          false,
          false,
          false,
          false,
          true,
          true,
          false,
          false,
          false,
          true,
          true,
          true,
          true,
          false,
          false,
          false,
          false,
          true,
          false,
          false,
          false,
          false,
          false,
          false,
          false,
          false,
          false,
          false,
          true,
          true,
          false,
          true,
          false,
          false,
          false,
          true,
          true,
          true,
          true,
          true,
          false,
          false,
          false,
          true,
          false,
          false,
          true,
          true,
          false,
          false,
          true,
          false,
          false,
          false,
          false,
          false,
          false,
          true,
          false,
          false,
          false,
          true,
          false,
          true,
          true,
          true,
          true,
          false,
          false,
          false,
          true,
          false,
          false,
          true,
          true,
          false,
          false,
          true,
          false,
          true,
          false,
          false,
          true,
          true,
          false,
          false,
          false,
          true,
          true,
          false,
          false,
          false,
          false,
          false,
          false,
          true,
          false,
          true,
          false
         ],
         "xaxis": "x",
         "yaxis": "y"
        }
       ],
       "layout": {
        "barmode": "relative",
        "height": 350,
        "legend": {
         "tracegroupgap": 0
        },
        "margin": {
         "t": 60
        },
        "template": {
         "data": {
          "bar": [
           {
            "error_x": {
             "color": "#2a3f5f"
            },
            "error_y": {
             "color": "#2a3f5f"
            },
            "marker": {
             "line": {
              "color": "#E5ECF6",
              "width": 0.5
             }
            },
            "type": "bar"
           }
          ],
          "barpolar": [
           {
            "marker": {
             "line": {
              "color": "#E5ECF6",
              "width": 0.5
             }
            },
            "type": "barpolar"
           }
          ],
          "carpet": [
           {
            "aaxis": {
             "endlinecolor": "#2a3f5f",
             "gridcolor": "white",
             "linecolor": "white",
             "minorgridcolor": "white",
             "startlinecolor": "#2a3f5f"
            },
            "baxis": {
             "endlinecolor": "#2a3f5f",
             "gridcolor": "white",
             "linecolor": "white",
             "minorgridcolor": "white",
             "startlinecolor": "#2a3f5f"
            },
            "type": "carpet"
           }
          ],
          "choropleth": [
           {
            "colorbar": {
             "outlinewidth": 0,
             "ticks": ""
            },
            "type": "choropleth"
           }
          ],
          "contour": [
           {
            "colorbar": {
             "outlinewidth": 0,
             "ticks": ""
            },
            "colorscale": [
             [
              0,
              "#0d0887"
             ],
             [
              0.1111111111111111,
              "#46039f"
             ],
             [
              0.2222222222222222,
              "#7201a8"
             ],
             [
              0.3333333333333333,
              "#9c179e"
             ],
             [
              0.4444444444444444,
              "#bd3786"
             ],
             [
              0.5555555555555556,
              "#d8576b"
             ],
             [
              0.6666666666666666,
              "#ed7953"
             ],
             [
              0.7777777777777778,
              "#fb9f3a"
             ],
             [
              0.8888888888888888,
              "#fdca26"
             ],
             [
              1,
              "#f0f921"
             ]
            ],
            "type": "contour"
           }
          ],
          "contourcarpet": [
           {
            "colorbar": {
             "outlinewidth": 0,
             "ticks": ""
            },
            "type": "contourcarpet"
           }
          ],
          "heatmap": [
           {
            "colorbar": {
             "outlinewidth": 0,
             "ticks": ""
            },
            "colorscale": [
             [
              0,
              "#0d0887"
             ],
             [
              0.1111111111111111,
              "#46039f"
             ],
             [
              0.2222222222222222,
              "#7201a8"
             ],
             [
              0.3333333333333333,
              "#9c179e"
             ],
             [
              0.4444444444444444,
              "#bd3786"
             ],
             [
              0.5555555555555556,
              "#d8576b"
             ],
             [
              0.6666666666666666,
              "#ed7953"
             ],
             [
              0.7777777777777778,
              "#fb9f3a"
             ],
             [
              0.8888888888888888,
              "#fdca26"
             ],
             [
              1,
              "#f0f921"
             ]
            ],
            "type": "heatmap"
           }
          ],
          "heatmapgl": [
           {
            "colorbar": {
             "outlinewidth": 0,
             "ticks": ""
            },
            "colorscale": [
             [
              0,
              "#0d0887"
             ],
             [
              0.1111111111111111,
              "#46039f"
             ],
             [
              0.2222222222222222,
              "#7201a8"
             ],
             [
              0.3333333333333333,
              "#9c179e"
             ],
             [
              0.4444444444444444,
              "#bd3786"
             ],
             [
              0.5555555555555556,
              "#d8576b"
             ],
             [
              0.6666666666666666,
              "#ed7953"
             ],
             [
              0.7777777777777778,
              "#fb9f3a"
             ],
             [
              0.8888888888888888,
              "#fdca26"
             ],
             [
              1,
              "#f0f921"
             ]
            ],
            "type": "heatmapgl"
           }
          ],
          "histogram": [
           {
            "marker": {
             "colorbar": {
              "outlinewidth": 0,
              "ticks": ""
             }
            },
            "type": "histogram"
           }
          ],
          "histogram2d": [
           {
            "colorbar": {
             "outlinewidth": 0,
             "ticks": ""
            },
            "colorscale": [
             [
              0,
              "#0d0887"
             ],
             [
              0.1111111111111111,
              "#46039f"
             ],
             [
              0.2222222222222222,
              "#7201a8"
             ],
             [
              0.3333333333333333,
              "#9c179e"
             ],
             [
              0.4444444444444444,
              "#bd3786"
             ],
             [
              0.5555555555555556,
              "#d8576b"
             ],
             [
              0.6666666666666666,
              "#ed7953"
             ],
             [
              0.7777777777777778,
              "#fb9f3a"
             ],
             [
              0.8888888888888888,
              "#fdca26"
             ],
             [
              1,
              "#f0f921"
             ]
            ],
            "type": "histogram2d"
           }
          ],
          "histogram2dcontour": [
           {
            "colorbar": {
             "outlinewidth": 0,
             "ticks": ""
            },
            "colorscale": [
             [
              0,
              "#0d0887"
             ],
             [
              0.1111111111111111,
              "#46039f"
             ],
             [
              0.2222222222222222,
              "#7201a8"
             ],
             [
              0.3333333333333333,
              "#9c179e"
             ],
             [
              0.4444444444444444,
              "#bd3786"
             ],
             [
              0.5555555555555556,
              "#d8576b"
             ],
             [
              0.6666666666666666,
              "#ed7953"
             ],
             [
              0.7777777777777778,
              "#fb9f3a"
             ],
             [
              0.8888888888888888,
              "#fdca26"
             ],
             [
              1,
              "#f0f921"
             ]
            ],
            "type": "histogram2dcontour"
           }
          ],
          "mesh3d": [
           {
            "colorbar": {
             "outlinewidth": 0,
             "ticks": ""
            },
            "type": "mesh3d"
           }
          ],
          "parcoords": [
           {
            "line": {
             "colorbar": {
              "outlinewidth": 0,
              "ticks": ""
             }
            },
            "type": "parcoords"
           }
          ],
          "pie": [
           {
            "automargin": true,
            "type": "pie"
           }
          ],
          "scatter": [
           {
            "marker": {
             "colorbar": {
              "outlinewidth": 0,
              "ticks": ""
             }
            },
            "type": "scatter"
           }
          ],
          "scatter3d": [
           {
            "line": {
             "colorbar": {
              "outlinewidth": 0,
              "ticks": ""
             }
            },
            "marker": {
             "colorbar": {
              "outlinewidth": 0,
              "ticks": ""
             }
            },
            "type": "scatter3d"
           }
          ],
          "scattercarpet": [
           {
            "marker": {
             "colorbar": {
              "outlinewidth": 0,
              "ticks": ""
             }
            },
            "type": "scattercarpet"
           }
          ],
          "scattergeo": [
           {
            "marker": {
             "colorbar": {
              "outlinewidth": 0,
              "ticks": ""
             }
            },
            "type": "scattergeo"
           }
          ],
          "scattergl": [
           {
            "marker": {
             "colorbar": {
              "outlinewidth": 0,
              "ticks": ""
             }
            },
            "type": "scattergl"
           }
          ],
          "scattermapbox": [
           {
            "marker": {
             "colorbar": {
              "outlinewidth": 0,
              "ticks": ""
             }
            },
            "type": "scattermapbox"
           }
          ],
          "scatterpolar": [
           {
            "marker": {
             "colorbar": {
              "outlinewidth": 0,
              "ticks": ""
             }
            },
            "type": "scatterpolar"
           }
          ],
          "scatterpolargl": [
           {
            "marker": {
             "colorbar": {
              "outlinewidth": 0,
              "ticks": ""
             }
            },
            "type": "scatterpolargl"
           }
          ],
          "scatterternary": [
           {
            "marker": {
             "colorbar": {
              "outlinewidth": 0,
              "ticks": ""
             }
            },
            "type": "scatterternary"
           }
          ],
          "surface": [
           {
            "colorbar": {
             "outlinewidth": 0,
             "ticks": ""
            },
            "colorscale": [
             [
              0,
              "#0d0887"
             ],
             [
              0.1111111111111111,
              "#46039f"
             ],
             [
              0.2222222222222222,
              "#7201a8"
             ],
             [
              0.3333333333333333,
              "#9c179e"
             ],
             [
              0.4444444444444444,
              "#bd3786"
             ],
             [
              0.5555555555555556,
              "#d8576b"
             ],
             [
              0.6666666666666666,
              "#ed7953"
             ],
             [
              0.7777777777777778,
              "#fb9f3a"
             ],
             [
              0.8888888888888888,
              "#fdca26"
             ],
             [
              1,
              "#f0f921"
             ]
            ],
            "type": "surface"
           }
          ],
          "table": [
           {
            "cells": {
             "fill": {
              "color": "#EBF0F8"
             },
             "line": {
              "color": "white"
             }
            },
            "header": {
             "fill": {
              "color": "#C8D4E3"
             },
             "line": {
              "color": "white"
             }
            },
            "type": "table"
           }
          ]
         },
         "layout": {
          "annotationdefaults": {
           "arrowcolor": "#2a3f5f",
           "arrowhead": 0,
           "arrowwidth": 1
          },
          "coloraxis": {
           "colorbar": {
            "outlinewidth": 0,
            "ticks": ""
           }
          },
          "colorscale": {
           "diverging": [
            [
             0,
             "#8e0152"
            ],
            [
             0.1,
             "#c51b7d"
            ],
            [
             0.2,
             "#de77ae"
            ],
            [
             0.3,
             "#f1b6da"
            ],
            [
             0.4,
             "#fde0ef"
            ],
            [
             0.5,
             "#f7f7f7"
            ],
            [
             0.6,
             "#e6f5d0"
            ],
            [
             0.7,
             "#b8e186"
            ],
            [
             0.8,
             "#7fbc41"
            ],
            [
             0.9,
             "#4d9221"
            ],
            [
             1,
             "#276419"
            ]
           ],
           "sequential": [
            [
             0,
             "#0d0887"
            ],
            [
             0.1111111111111111,
             "#46039f"
            ],
            [
             0.2222222222222222,
             "#7201a8"
            ],
            [
             0.3333333333333333,
             "#9c179e"
            ],
            [
             0.4444444444444444,
             "#bd3786"
            ],
            [
             0.5555555555555556,
             "#d8576b"
            ],
            [
             0.6666666666666666,
             "#ed7953"
            ],
            [
             0.7777777777777778,
             "#fb9f3a"
            ],
            [
             0.8888888888888888,
             "#fdca26"
            ],
            [
             1,
             "#f0f921"
            ]
           ],
           "sequentialminus": [
            [
             0,
             "#0d0887"
            ],
            [
             0.1111111111111111,
             "#46039f"
            ],
            [
             0.2222222222222222,
             "#7201a8"
            ],
            [
             0.3333333333333333,
             "#9c179e"
            ],
            [
             0.4444444444444444,
             "#bd3786"
            ],
            [
             0.5555555555555556,
             "#d8576b"
            ],
            [
             0.6666666666666666,
             "#ed7953"
            ],
            [
             0.7777777777777778,
             "#fb9f3a"
            ],
            [
             0.8888888888888888,
             "#fdca26"
            ],
            [
             1,
             "#f0f921"
            ]
           ]
          },
          "colorway": [
           "#636efa",
           "#EF553B",
           "#00cc96",
           "#ab63fa",
           "#FFA15A",
           "#19d3f3",
           "#FF6692",
           "#B6E880",
           "#FF97FF",
           "#FECB52"
          ],
          "font": {
           "color": "#2a3f5f"
          },
          "geo": {
           "bgcolor": "white",
           "lakecolor": "white",
           "landcolor": "#E5ECF6",
           "showlakes": true,
           "showland": true,
           "subunitcolor": "white"
          },
          "hoverlabel": {
           "align": "left"
          },
          "hovermode": "closest",
          "mapbox": {
           "style": "light"
          },
          "paper_bgcolor": "white",
          "plot_bgcolor": "#E5ECF6",
          "polar": {
           "angularaxis": {
            "gridcolor": "white",
            "linecolor": "white",
            "ticks": ""
           },
           "bgcolor": "#E5ECF6",
           "radialaxis": {
            "gridcolor": "white",
            "linecolor": "white",
            "ticks": ""
           }
          },
          "scene": {
           "xaxis": {
            "backgroundcolor": "#E5ECF6",
            "gridcolor": "white",
            "gridwidth": 2,
            "linecolor": "white",
            "showbackground": true,
            "ticks": "",
            "zerolinecolor": "white"
           },
           "yaxis": {
            "backgroundcolor": "#E5ECF6",
            "gridcolor": "white",
            "gridwidth": 2,
            "linecolor": "white",
            "showbackground": true,
            "ticks": "",
            "zerolinecolor": "white"
           },
           "zaxis": {
            "backgroundcolor": "#E5ECF6",
            "gridcolor": "white",
            "gridwidth": 2,
            "linecolor": "white",
            "showbackground": true,
            "ticks": "",
            "zerolinecolor": "white"
           }
          },
          "shapedefaults": {
           "line": {
            "color": "#2a3f5f"
           }
          },
          "ternary": {
           "aaxis": {
            "gridcolor": "white",
            "linecolor": "white",
            "ticks": ""
           },
           "baxis": {
            "gridcolor": "white",
            "linecolor": "white",
            "ticks": ""
           },
           "bgcolor": "#E5ECF6",
           "caxis": {
            "gridcolor": "white",
            "linecolor": "white",
            "ticks": ""
           }
          },
          "title": {
           "x": 0.05
          },
          "xaxis": {
           "automargin": true,
           "gridcolor": "white",
           "linecolor": "white",
           "ticks": "",
           "title": {
            "standoff": 15
           },
           "zerolinecolor": "white",
           "zerolinewidth": 2
          },
          "yaxis": {
           "automargin": true,
           "gridcolor": "white",
           "linecolor": "white",
           "ticks": "",
           "title": {
            "standoff": 15
           },
           "zerolinecolor": "white",
           "zerolinewidth": 2
          }
         }
        },
        "xaxis": {
         "anchor": "y",
         "domain": [
          0,
          1
         ],
         "title": {
          "text": "survived"
         }
        },
        "yaxis": {
         "anchor": "x",
         "domain": [
          0,
          1
         ],
         "title": {
          "text": "count"
         }
        }
       }
      },
      "text/html": [
       "<div>                            <div id=\"af7f89d8-39ac-4b88-9317-e1f36fc4e890\" class=\"plotly-graph-div\" style=\"height:350px; width:100%;\"></div>            <script type=\"text/javascript\">                require([\"plotly\"], function(Plotly) {                    window.PLOTLYENV=window.PLOTLYENV || {};                                    if (document.getElementById(\"af7f89d8-39ac-4b88-9317-e1f36fc4e890\")) {                    Plotly.newPlot(                        \"af7f89d8-39ac-4b88-9317-e1f36fc4e890\",                        [{\"alignmentgroup\": \"True\", \"bingroup\": \"x\", \"hovertemplate\": \"survived=%{x}<br>count=%{y}<extra></extra>\", \"legendgroup\": \"\", \"marker\": {\"color\": \"#636efa\"}, \"name\": \"\", \"offsetgroup\": \"\", \"orientation\": \"v\", \"showlegend\": false, \"type\": \"histogram\", \"x\": [false, true, true, true, false, false, false, false, true, true, true, true, false, false, false, true, false, true, false, true, false, true, true, true, false, true, false, false, true, false, false, true, true, false, false, false, true, false, false, true, false, false, false, true, true, false, false, true, false, false, false, false, true, true, false, true, true, false, true, false, false, true, false, false, false, true, true, false, true, false, false, false, false, false, true, false, false, false, true, true, false, true, true, false, true, true, false, false, true, false, false, false, false, false, false, false, false, true, true, false, false, false, false, false, false, false, true, true, false, true, false, false, false, false, false, false, false, false, false, false, false, false, false, true, false, true, false, true, true, false, false, false, false, true, false, false, true, false, false, false, false, true, true, false, false, false, true, false, false, false, false, true, false, false, false, false, true, false, false, false, false, true, false, false, false, true, true, false, false, false, false, false, true, false, false, false, false, false, false, false, false, false, false, true, true, false, true, true, false, false, true, false, true, true, true, true, false, false, true, false, false, false, false, false, true, false, false, true, true, true, false, true, false, false, false, true, true, false, true, false, true, false, false, false, true, false, true, false, false, false, true, false, false, true, false, false, false, true, false, false, false, true, false, false, false, false, false, true, true, false, false, false, false, false, false, true, true, true, true, true, false, true, false, false, false, false, false, true, true, true, false, true, true, false, true, true, false, false, false, true, false, false, false, true, false, false, true, false, true, true, true, true, false, false, false, false, false, false, true, true, true, true, false, true, false, true, true, true, false, true, true, true, false, false, false, true, true, false, true, true, false, false, true, true, false, true, false, true, true, true, true, false, false, false, true, false, false, true, true, false, true, true, false, false, false, true, true, true, true, false, false, false, false, false, false, false, true, false, true, true, false, false, false, false, false, false, true, true, true, true, true, false, false, false, false, true, true, false, false, false, true, true, false, true, false, false, false, true, false, true, true, true, false, true, true, false, false, false, false, true, true, false, false, false, false, false, false, true, false, false, false, false, true, false, true, false, true, true, false, false, false, false, false, false, false, false, true, true, false, true, true, true, true, false, false, true, false, true, false, false, true, false, false, true, true, true, true, true, true, true, false, false, false, true, false, true, false, true, true, false, true, false, false, false, false, false, false, false, false, true, false, false, true, true, false, false, false, false, false, true, false, false, false, true, true, false, true, false, false, true, false, false, false, false, false, false, true, false, false, false, false, false, false, false, true, false, true, true, false, true, true, false, true, true, false, false, true, false, true, false, true, false, false, true, false, false, true, false, false, false, true, false, false, true, false, true, false, true, false, true, true, false, false, true, false, false, true, true, false, true, true, false, false, true, true, false, true, false, true, true, false, false, false, false, false, false, false, false, false, true, true, true, true, true, false, false, true, true, false, true, true, true, false, false, false, true, false, true, false, false, false, true, false, false, false, false, true, false, false, true, true, false, false, false, true, false, false, true, true, true, false, false, true, false, false, true, false, false, true, false, false, true, true, false, false, false, false, true, false, false, true, false, true, false, false, true, false, false, false, false, false, true, false, true, true, true, false, true, false, true, false, true, false, true, false, false, false, false, false, false, true, false, false, false, true, false, false, false, false, true, true, false, false, true, false, false, false, true, false, true, false, true, false, false, false, false, false, false, false, true, true, true, true, false, false, false, false, true, false, false, true, true, false, false, false, false, true, true, true, true, true, false, true, false, false, false, true, true, false, false, true, false, false, false, true, false, true, true, false, false, true, false, false, false, false, false, false, true, false, false, true, false, true, false, true, false, false, true, false, false, true, true, false, false, true, true, false, false, false, true, false, false, true, true, false, true, false, false, false, false, false, false, false, false, true, false, false, true, false, true, true, true, false, false, false, false, true, false, true, false, false, false, false, false, false, false, true, true, false, false, false, true, true, true, true, false, false, false, false, true, false, false, false, false, false, false, false, false, false, false, true, true, false, true, false, false, false, true, true, true, true, true, false, false, false, true, false, false, true, true, false, false, true, false, false, false, false, false, false, true, false, false, false, true, false, true, true, true, true, false, false, false, true, false, false, true, true, false, false, true, false, true, false, false, true, true, false, false, false, true, true, false, false, false, false, false, false, true, false, true, false], \"xaxis\": \"x\", \"yaxis\": \"y\"}],                        {\"barmode\": \"relative\", \"height\": 350, \"legend\": {\"tracegroupgap\": 0}, \"margin\": {\"t\": 60}, \"template\": {\"data\": {\"bar\": [{\"error_x\": {\"color\": \"#2a3f5f\"}, \"error_y\": {\"color\": \"#2a3f5f\"}, \"marker\": {\"line\": {\"color\": \"#E5ECF6\", \"width\": 0.5}}, \"type\": \"bar\"}], \"barpolar\": [{\"marker\": {\"line\": {\"color\": \"#E5ECF6\", \"width\": 0.5}}, \"type\": \"barpolar\"}], \"carpet\": [{\"aaxis\": {\"endlinecolor\": \"#2a3f5f\", \"gridcolor\": \"white\", \"linecolor\": \"white\", \"minorgridcolor\": \"white\", \"startlinecolor\": \"#2a3f5f\"}, \"baxis\": {\"endlinecolor\": \"#2a3f5f\", \"gridcolor\": \"white\", \"linecolor\": \"white\", \"minorgridcolor\": \"white\", \"startlinecolor\": \"#2a3f5f\"}, \"type\": \"carpet\"}], \"choropleth\": [{\"colorbar\": {\"outlinewidth\": 0, \"ticks\": \"\"}, \"type\": \"choropleth\"}], \"contour\": [{\"colorbar\": {\"outlinewidth\": 0, \"ticks\": \"\"}, \"colorscale\": [[0.0, \"#0d0887\"], [0.1111111111111111, \"#46039f\"], [0.2222222222222222, \"#7201a8\"], [0.3333333333333333, \"#9c179e\"], [0.4444444444444444, \"#bd3786\"], [0.5555555555555556, \"#d8576b\"], [0.6666666666666666, \"#ed7953\"], [0.7777777777777778, \"#fb9f3a\"], [0.8888888888888888, \"#fdca26\"], [1.0, \"#f0f921\"]], \"type\": \"contour\"}], \"contourcarpet\": [{\"colorbar\": {\"outlinewidth\": 0, \"ticks\": \"\"}, \"type\": \"contourcarpet\"}], \"heatmap\": [{\"colorbar\": {\"outlinewidth\": 0, \"ticks\": \"\"}, \"colorscale\": [[0.0, \"#0d0887\"], [0.1111111111111111, \"#46039f\"], [0.2222222222222222, \"#7201a8\"], [0.3333333333333333, \"#9c179e\"], [0.4444444444444444, \"#bd3786\"], [0.5555555555555556, \"#d8576b\"], [0.6666666666666666, \"#ed7953\"], [0.7777777777777778, \"#fb9f3a\"], [0.8888888888888888, \"#fdca26\"], [1.0, \"#f0f921\"]], \"type\": \"heatmap\"}], \"heatmapgl\": [{\"colorbar\": {\"outlinewidth\": 0, \"ticks\": \"\"}, \"colorscale\": [[0.0, \"#0d0887\"], [0.1111111111111111, \"#46039f\"], [0.2222222222222222, \"#7201a8\"], [0.3333333333333333, \"#9c179e\"], [0.4444444444444444, \"#bd3786\"], [0.5555555555555556, \"#d8576b\"], [0.6666666666666666, \"#ed7953\"], [0.7777777777777778, \"#fb9f3a\"], [0.8888888888888888, \"#fdca26\"], [1.0, \"#f0f921\"]], \"type\": \"heatmapgl\"}], \"histogram\": [{\"marker\": {\"colorbar\": {\"outlinewidth\": 0, \"ticks\": \"\"}}, \"type\": \"histogram\"}], \"histogram2d\": [{\"colorbar\": {\"outlinewidth\": 0, \"ticks\": \"\"}, \"colorscale\": [[0.0, \"#0d0887\"], [0.1111111111111111, \"#46039f\"], [0.2222222222222222, \"#7201a8\"], [0.3333333333333333, \"#9c179e\"], [0.4444444444444444, \"#bd3786\"], [0.5555555555555556, \"#d8576b\"], [0.6666666666666666, \"#ed7953\"], [0.7777777777777778, \"#fb9f3a\"], [0.8888888888888888, \"#fdca26\"], [1.0, \"#f0f921\"]], \"type\": \"histogram2d\"}], \"histogram2dcontour\": [{\"colorbar\": {\"outlinewidth\": 0, \"ticks\": \"\"}, \"colorscale\": [[0.0, \"#0d0887\"], [0.1111111111111111, \"#46039f\"], [0.2222222222222222, \"#7201a8\"], [0.3333333333333333, \"#9c179e\"], [0.4444444444444444, \"#bd3786\"], [0.5555555555555556, \"#d8576b\"], [0.6666666666666666, \"#ed7953\"], [0.7777777777777778, \"#fb9f3a\"], [0.8888888888888888, \"#fdca26\"], [1.0, \"#f0f921\"]], \"type\": \"histogram2dcontour\"}], \"mesh3d\": [{\"colorbar\": {\"outlinewidth\": 0, \"ticks\": \"\"}, \"type\": \"mesh3d\"}], \"parcoords\": [{\"line\": {\"colorbar\": {\"outlinewidth\": 0, \"ticks\": \"\"}}, \"type\": \"parcoords\"}], \"pie\": [{\"automargin\": true, \"type\": \"pie\"}], \"scatter\": [{\"marker\": {\"colorbar\": {\"outlinewidth\": 0, \"ticks\": \"\"}}, \"type\": \"scatter\"}], \"scatter3d\": [{\"line\": {\"colorbar\": {\"outlinewidth\": 0, \"ticks\": \"\"}}, \"marker\": {\"colorbar\": {\"outlinewidth\": 0, \"ticks\": \"\"}}, \"type\": \"scatter3d\"}], \"scattercarpet\": [{\"marker\": {\"colorbar\": {\"outlinewidth\": 0, \"ticks\": \"\"}}, \"type\": \"scattercarpet\"}], \"scattergeo\": [{\"marker\": {\"colorbar\": {\"outlinewidth\": 0, \"ticks\": \"\"}}, \"type\": \"scattergeo\"}], \"scattergl\": [{\"marker\": {\"colorbar\": {\"outlinewidth\": 0, \"ticks\": \"\"}}, \"type\": \"scattergl\"}], \"scattermapbox\": [{\"marker\": {\"colorbar\": {\"outlinewidth\": 0, \"ticks\": \"\"}}, \"type\": \"scattermapbox\"}], \"scatterpolar\": [{\"marker\": {\"colorbar\": {\"outlinewidth\": 0, \"ticks\": \"\"}}, \"type\": \"scatterpolar\"}], \"scatterpolargl\": [{\"marker\": {\"colorbar\": {\"outlinewidth\": 0, \"ticks\": \"\"}}, \"type\": \"scatterpolargl\"}], \"scatterternary\": [{\"marker\": {\"colorbar\": {\"outlinewidth\": 0, \"ticks\": \"\"}}, \"type\": \"scatterternary\"}], \"surface\": [{\"colorbar\": {\"outlinewidth\": 0, \"ticks\": \"\"}, \"colorscale\": [[0.0, \"#0d0887\"], [0.1111111111111111, \"#46039f\"], [0.2222222222222222, \"#7201a8\"], [0.3333333333333333, \"#9c179e\"], [0.4444444444444444, \"#bd3786\"], [0.5555555555555556, \"#d8576b\"], [0.6666666666666666, \"#ed7953\"], [0.7777777777777778, \"#fb9f3a\"], [0.8888888888888888, \"#fdca26\"], [1.0, \"#f0f921\"]], \"type\": \"surface\"}], \"table\": [{\"cells\": {\"fill\": {\"color\": \"#EBF0F8\"}, \"line\": {\"color\": \"white\"}}, \"header\": {\"fill\": {\"color\": \"#C8D4E3\"}, \"line\": {\"color\": \"white\"}}, \"type\": \"table\"}]}, \"layout\": {\"annotationdefaults\": {\"arrowcolor\": \"#2a3f5f\", \"arrowhead\": 0, \"arrowwidth\": 1}, \"coloraxis\": {\"colorbar\": {\"outlinewidth\": 0, \"ticks\": \"\"}}, \"colorscale\": {\"diverging\": [[0, \"#8e0152\"], [0.1, \"#c51b7d\"], [0.2, \"#de77ae\"], [0.3, \"#f1b6da\"], [0.4, \"#fde0ef\"], [0.5, \"#f7f7f7\"], [0.6, \"#e6f5d0\"], [0.7, \"#b8e186\"], [0.8, \"#7fbc41\"], [0.9, \"#4d9221\"], [1, \"#276419\"]], \"sequential\": [[0.0, \"#0d0887\"], [0.1111111111111111, \"#46039f\"], [0.2222222222222222, \"#7201a8\"], [0.3333333333333333, \"#9c179e\"], [0.4444444444444444, \"#bd3786\"], [0.5555555555555556, \"#d8576b\"], [0.6666666666666666, \"#ed7953\"], [0.7777777777777778, \"#fb9f3a\"], [0.8888888888888888, \"#fdca26\"], [1.0, \"#f0f921\"]], \"sequentialminus\": [[0.0, \"#0d0887\"], [0.1111111111111111, \"#46039f\"], [0.2222222222222222, \"#7201a8\"], [0.3333333333333333, \"#9c179e\"], [0.4444444444444444, \"#bd3786\"], [0.5555555555555556, \"#d8576b\"], [0.6666666666666666, \"#ed7953\"], [0.7777777777777778, \"#fb9f3a\"], [0.8888888888888888, \"#fdca26\"], [1.0, \"#f0f921\"]]}, \"colorway\": [\"#636efa\", \"#EF553B\", \"#00cc96\", \"#ab63fa\", \"#FFA15A\", \"#19d3f3\", \"#FF6692\", \"#B6E880\", \"#FF97FF\", \"#FECB52\"], \"font\": {\"color\": \"#2a3f5f\"}, \"geo\": {\"bgcolor\": \"white\", \"lakecolor\": \"white\", \"landcolor\": \"#E5ECF6\", \"showlakes\": true, \"showland\": true, \"subunitcolor\": \"white\"}, \"hoverlabel\": {\"align\": \"left\"}, \"hovermode\": \"closest\", \"mapbox\": {\"style\": \"light\"}, \"paper_bgcolor\": \"white\", \"plot_bgcolor\": \"#E5ECF6\", \"polar\": {\"angularaxis\": {\"gridcolor\": \"white\", \"linecolor\": \"white\", \"ticks\": \"\"}, \"bgcolor\": \"#E5ECF6\", \"radialaxis\": {\"gridcolor\": \"white\", \"linecolor\": \"white\", \"ticks\": \"\"}}, \"scene\": {\"xaxis\": {\"backgroundcolor\": \"#E5ECF6\", \"gridcolor\": \"white\", \"gridwidth\": 2, \"linecolor\": \"white\", \"showbackground\": true, \"ticks\": \"\", \"zerolinecolor\": \"white\"}, \"yaxis\": {\"backgroundcolor\": \"#E5ECF6\", \"gridcolor\": \"white\", \"gridwidth\": 2, \"linecolor\": \"white\", \"showbackground\": true, \"ticks\": \"\", \"zerolinecolor\": \"white\"}, \"zaxis\": {\"backgroundcolor\": \"#E5ECF6\", \"gridcolor\": \"white\", \"gridwidth\": 2, \"linecolor\": \"white\", \"showbackground\": true, \"ticks\": \"\", \"zerolinecolor\": \"white\"}}, \"shapedefaults\": {\"line\": {\"color\": \"#2a3f5f\"}}, \"ternary\": {\"aaxis\": {\"gridcolor\": \"white\", \"linecolor\": \"white\", \"ticks\": \"\"}, \"baxis\": {\"gridcolor\": \"white\", \"linecolor\": \"white\", \"ticks\": \"\"}, \"bgcolor\": \"#E5ECF6\", \"caxis\": {\"gridcolor\": \"white\", \"linecolor\": \"white\", \"ticks\": \"\"}}, \"title\": {\"x\": 0.05}, \"xaxis\": {\"automargin\": true, \"gridcolor\": \"white\", \"linecolor\": \"white\", \"ticks\": \"\", \"title\": {\"standoff\": 15}, \"zerolinecolor\": \"white\", \"zerolinewidth\": 2}, \"yaxis\": {\"automargin\": true, \"gridcolor\": \"white\", \"linecolor\": \"white\", \"ticks\": \"\", \"title\": {\"standoff\": 15}, \"zerolinecolor\": \"white\", \"zerolinewidth\": 2}}}, \"xaxis\": {\"anchor\": \"y\", \"domain\": [0.0, 1.0], \"title\": {\"text\": \"survived\"}}, \"yaxis\": {\"anchor\": \"x\", \"domain\": [0.0, 1.0], \"title\": {\"text\": \"count\"}}},                        {\"responsive\": true}                    ).then(function(){\n",
       "                            \n",
       "var gd = document.getElementById('af7f89d8-39ac-4b88-9317-e1f36fc4e890');\n",
       "var x = new MutationObserver(function (mutations, observer) {{\n",
       "        var display = window.getComputedStyle(gd).display;\n",
       "        if (!display || display === 'none') {{\n",
       "            console.log([gd, 'removed!']);\n",
       "            Plotly.purge(gd);\n",
       "            observer.disconnect();\n",
       "        }}\n",
       "}});\n",
       "\n",
       "// Listen for the removal of the full notebook cells\n",
       "var notebookContainer = gd.closest('#notebook-container');\n",
       "if (notebookContainer) {{\n",
       "    x.observe(notebookContainer, {childList: true});\n",
       "}}\n",
       "\n",
       "// Listen for the clearing of the current output cell\n",
       "var outputEl = gd.closest('.output');\n",
       "if (outputEl) {{\n",
       "    x.observe(outputEl, {childList: true});\n",
       "}}\n",
       "\n",
       "                        })                };                });            </script>        </div>"
      ]
     },
     "metadata": {},
     "output_type": "display_data"
    }
   ],
   "source": [
    "px.histogram(ti, x='survived', height=350)"
   ]
  },
  {
   "cell_type": "markdown",
   "metadata": {},
   "source": [
    "## How do I use plotly?"
   ]
  },
  {
   "cell_type": "markdown",
   "metadata": {},
   "source": [
    "`library.visualization(table, x='colname', y='colname', options=...)`\n",
    "\n",
    "`px.scatter(ti, x='age', y='fare', height=150)`"
   ]
  },
  {
   "cell_type": "code",
   "execution_count": 26,
   "metadata": {},
   "outputs": [
    {
     "data": {
      "application/vnd.plotly.v1+json": {
       "config": {
        "plotlyServerURL": "https://plot.ly"
       },
       "data": [
        {
         "alignmentgroup": "True",
         "bingroup": "x",
         "hovertemplate": "survived=False<br>age=%{x}<br>count=%{y}<extra></extra>",
         "legendgroup": "False",
         "marker": {
          "color": "#636efa"
         },
         "name": "False",
         "offsetgroup": "False",
         "orientation": "v",
         "showlegend": true,
         "type": "histogram",
         "x": [
          22,
          35,
          null,
          54,
          2,
          20,
          39,
          14,
          2,
          31,
          35,
          8,
          null,
          19,
          null,
          40,
          66,
          28,
          42,
          21,
          18,
          40,
          27,
          null,
          null,
          null,
          null,
          18,
          7,
          21,
          65,
          28.5,
          11,
          22,
          45,
          4,
          null,
          19,
          26,
          32,
          16,
          21,
          26,
          25,
          null,
          null,
          22,
          28,
          16,
          null,
          24,
          29,
          20,
          46,
          26,
          59,
          null,
          71,
          34,
          28,
          null,
          21,
          33,
          37,
          28,
          38,
          47,
          14.5,
          22,
          20,
          17,
          21,
          70.5,
          29,
          24,
          2,
          21,
          null,
          32.5,
          54,
          null,
          45,
          33,
          20,
          47,
          25,
          23,
          37,
          16,
          24,
          null,
          19,
          18,
          19,
          9,
          36.5,
          42,
          51,
          55.5,
          40.5,
          null,
          51,
          30,
          null,
          null,
          44,
          26,
          17,
          1,
          45,
          null,
          28,
          61,
          4,
          21,
          56,
          18,
          null,
          50,
          30,
          36,
          null,
          null,
          9,
          null,
          40,
          36,
          19,
          null,
          42,
          24,
          28,
          null,
          34,
          45.5,
          2,
          32,
          24,
          22,
          30,
          null,
          42,
          30,
          27,
          51,
          null,
          22,
          20.5,
          18,
          null,
          29,
          59,
          24,
          null,
          44,
          19,
          33,
          null,
          29,
          22,
          30,
          44,
          25,
          54,
          null,
          29,
          62,
          30,
          41,
          null,
          52,
          40,
          null,
          36,
          16,
          null,
          37,
          45,
          null,
          7,
          65,
          28,
          16,
          null,
          33,
          22,
          36,
          24,
          24,
          null,
          23.5,
          2,
          19,
          null,
          30,
          26,
          28,
          43,
          54,
          22,
          27,
          null,
          61,
          45.5,
          38,
          16,
          null,
          29,
          45,
          28,
          25,
          36,
          42,
          23,
          null,
          15,
          25,
          null,
          28,
          38,
          40,
          29,
          45,
          35,
          null,
          30,
          18,
          19,
          22,
          3,
          27,
          20,
          19,
          32,
          null,
          18,
          1,
          null,
          28,
          22,
          31,
          46,
          23,
          26,
          21,
          28,
          20,
          34,
          51,
          21,
          null,
          null,
          null,
          null,
          null,
          30,
          10,
          null,
          21,
          29,
          28,
          18,
          null,
          null,
          17,
          50,
          21,
          64,
          31,
          20,
          25,
          36,
          null,
          30,
          null,
          65,
          null,
          34,
          47,
          48,
          null,
          38,
          null,
          56,
          null,
          null,
          38,
          22,
          null,
          34,
          29,
          22,
          9,
          null,
          50,
          null,
          58,
          30,
          null,
          21,
          55,
          71,
          21,
          null,
          null,
          25,
          24,
          17,
          21,
          null,
          37,
          18,
          28,
          null,
          24,
          47,
          null,
          32,
          22,
          null,
          null,
          40.5,
          null,
          39,
          23,
          null,
          17,
          30,
          45,
          null,
          9,
          11,
          50,
          64,
          33,
          27,
          null,
          62,
          null,
          null,
          40,
          28,
          null,
          null,
          24,
          19,
          29,
          null,
          16,
          19,
          null,
          54,
          36,
          null,
          47,
          22,
          null,
          35,
          47,
          null,
          37,
          36,
          49,
          null,
          null,
          null,
          44,
          36,
          30,
          39,
          null,
          null,
          35,
          34,
          26,
          26,
          27,
          21,
          21,
          61,
          57,
          26,
          null,
          51,
          null,
          9,
          32,
          31,
          41,
          null,
          20,
          2,
          19,
          null,
          null,
          21,
          18,
          24,
          null,
          32,
          23,
          58,
          40,
          47,
          36,
          32,
          25,
          null,
          43,
          31,
          70,
          null,
          18,
          24.5,
          43,
          null,
          20,
          14,
          60,
          25,
          14,
          19,
          18,
          25,
          60,
          52,
          44,
          49,
          42,
          18,
          25,
          26,
          39,
          null,
          29,
          52,
          19,
          null,
          33,
          17,
          34,
          50,
          20,
          25,
          25,
          11,
          null,
          23,
          23,
          28.5,
          48,
          null,
          null,
          36,
          24,
          70,
          16,
          19,
          31,
          33,
          23,
          28,
          18,
          34,
          null,
          41,
          16,
          null,
          30.5,
          null,
          32,
          24,
          48,
          57,
          null,
          18,
          null,
          null,
          29,
          null,
          25,
          25,
          8,
          46,
          null,
          16,
          null,
          null,
          25,
          39,
          30,
          30,
          34,
          31,
          39,
          18,
          39,
          26,
          39,
          35,
          6,
          30.5,
          null,
          23,
          31,
          43,
          10,
          38,
          2,
          null,
          null,
          null,
          23,
          18,
          21,
          null,
          20,
          16,
          34.5,
          17,
          42,
          null,
          35,
          28,
          4,
          74,
          9,
          44,
          null,
          41,
          21,
          null,
          24,
          31,
          null,
          26,
          33,
          47,
          20,
          19,
          null,
          33,
          22,
          28,
          25,
          39,
          27,
          null,
          32
         ],
         "xaxis": "x",
         "yaxis": "y"
        },
        {
         "alignmentgroup": "True",
         "bingroup": "x",
         "hovertemplate": "survived=True<br>age=%{x}<br>count=%{y}<extra></extra>",
         "legendgroup": "True",
         "marker": {
          "color": "#EF553B"
         },
         "name": "True",
         "offsetgroup": "True",
         "orientation": "v",
         "showlegend": true,
         "type": "histogram",
         "x": [
          38,
          26,
          35,
          27,
          14,
          4,
          58,
          55,
          null,
          null,
          34,
          15,
          28,
          38,
          null,
          null,
          null,
          null,
          14,
          3,
          19,
          null,
          49,
          29,
          null,
          21,
          5,
          38,
          null,
          29,
          17,
          32,
          0.83,
          30,
          29,
          null,
          17,
          33,
          23,
          23,
          34,
          21,
          null,
          null,
          32.5,
          12,
          24,
          null,
          29,
          19,
          22,
          24,
          27,
          22,
          16,
          40,
          9,
          null,
          1,
          1,
          4,
          null,
          45,
          32,
          19,
          3,
          44,
          58,
          null,
          18,
          26,
          16,
          40,
          35,
          31,
          27,
          32,
          16,
          38,
          19,
          35,
          5,
          8,
          null,
          24,
          37,
          29,
          null,
          30,
          35,
          50,
          3,
          25,
          58,
          35,
          25,
          41,
          null,
          63,
          35,
          19,
          30,
          42,
          22,
          26,
          19,
          null,
          50,
          null,
          null,
          null,
          0.92,
          null,
          17,
          30,
          24,
          18,
          26,
          24,
          31,
          40,
          30,
          22,
          36,
          36,
          31,
          16,
          null,
          null,
          41,
          45,
          2,
          24,
          24,
          40,
          null,
          3,
          22,
          null,
          null,
          60,
          null,
          null,
          24,
          25,
          null,
          22,
          42,
          1,
          35,
          36,
          17,
          36,
          21,
          23,
          24,
          28,
          39,
          3,
          33,
          44,
          34,
          18,
          28,
          19,
          32,
          28,
          null,
          42,
          14,
          24,
          45,
          28,
          null,
          4,
          13,
          34,
          5,
          52,
          49,
          29,
          null,
          50,
          48,
          0.75,
          33,
          23,
          2,
          63,
          25,
          35,
          9,
          54,
          16,
          33,
          null,
          26,
          29,
          36,
          54,
          34,
          36,
          30,
          44,
          50,
          2,
          null,
          7,
          30,
          22,
          36,
          32,
          19,
          null,
          8,
          17,
          22,
          22,
          48,
          39,
          36,
          32,
          62,
          53,
          36,
          null,
          34,
          39,
          32,
          25,
          39,
          18,
          60,
          52,
          null,
          49,
          24,
          35,
          27,
          22,
          40,
          null,
          24,
          4,
          42,
          20,
          21,
          80,
          32,
          28,
          24,
          null,
          0.75,
          48,
          56,
          23,
          18,
          null,
          50,
          20,
          null,
          40,
          31,
          18,
          36,
          27,
          15,
          31,
          4,
          null,
          null,
          18,
          35,
          45,
          42,
          22,
          null,
          24,
          48,
          38,
          27,
          6,
          27,
          30,
          null,
          29,
          35,
          null,
          21,
          31,
          30,
          4,
          6,
          48,
          0.67,
          33,
          20,
          36,
          51,
          54,
          5,
          43,
          13,
          17,
          18,
          1,
          49,
          31,
          31,
          11,
          0.42,
          27,
          33,
          52,
          27,
          27,
          1,
          null,
          62,
          15,
          0.83,
          39,
          32,
          null,
          30,
          null,
          16,
          18,
          45,
          51,
          24,
          48,
          42,
          27,
          4,
          47,
          28,
          15,
          56,
          25,
          19,
          26
         ],
         "xaxis": "x",
         "yaxis": "y"
        }
       ],
       "layout": {
        "barmode": "relative",
        "legend": {
         "title": {
          "text": "survived"
         },
         "tracegroupgap": 0
        },
        "margin": {
         "t": 60
        },
        "template": {
         "data": {
          "bar": [
           {
            "error_x": {
             "color": "#2a3f5f"
            },
            "error_y": {
             "color": "#2a3f5f"
            },
            "marker": {
             "line": {
              "color": "#E5ECF6",
              "width": 0.5
             }
            },
            "type": "bar"
           }
          ],
          "barpolar": [
           {
            "marker": {
             "line": {
              "color": "#E5ECF6",
              "width": 0.5
             }
            },
            "type": "barpolar"
           }
          ],
          "carpet": [
           {
            "aaxis": {
             "endlinecolor": "#2a3f5f",
             "gridcolor": "white",
             "linecolor": "white",
             "minorgridcolor": "white",
             "startlinecolor": "#2a3f5f"
            },
            "baxis": {
             "endlinecolor": "#2a3f5f",
             "gridcolor": "white",
             "linecolor": "white",
             "minorgridcolor": "white",
             "startlinecolor": "#2a3f5f"
            },
            "type": "carpet"
           }
          ],
          "choropleth": [
           {
            "colorbar": {
             "outlinewidth": 0,
             "ticks": ""
            },
            "type": "choropleth"
           }
          ],
          "contour": [
           {
            "colorbar": {
             "outlinewidth": 0,
             "ticks": ""
            },
            "colorscale": [
             [
              0,
              "#0d0887"
             ],
             [
              0.1111111111111111,
              "#46039f"
             ],
             [
              0.2222222222222222,
              "#7201a8"
             ],
             [
              0.3333333333333333,
              "#9c179e"
             ],
             [
              0.4444444444444444,
              "#bd3786"
             ],
             [
              0.5555555555555556,
              "#d8576b"
             ],
             [
              0.6666666666666666,
              "#ed7953"
             ],
             [
              0.7777777777777778,
              "#fb9f3a"
             ],
             [
              0.8888888888888888,
              "#fdca26"
             ],
             [
              1,
              "#f0f921"
             ]
            ],
            "type": "contour"
           }
          ],
          "contourcarpet": [
           {
            "colorbar": {
             "outlinewidth": 0,
             "ticks": ""
            },
            "type": "contourcarpet"
           }
          ],
          "heatmap": [
           {
            "colorbar": {
             "outlinewidth": 0,
             "ticks": ""
            },
            "colorscale": [
             [
              0,
              "#0d0887"
             ],
             [
              0.1111111111111111,
              "#46039f"
             ],
             [
              0.2222222222222222,
              "#7201a8"
             ],
             [
              0.3333333333333333,
              "#9c179e"
             ],
             [
              0.4444444444444444,
              "#bd3786"
             ],
             [
              0.5555555555555556,
              "#d8576b"
             ],
             [
              0.6666666666666666,
              "#ed7953"
             ],
             [
              0.7777777777777778,
              "#fb9f3a"
             ],
             [
              0.8888888888888888,
              "#fdca26"
             ],
             [
              1,
              "#f0f921"
             ]
            ],
            "type": "heatmap"
           }
          ],
          "heatmapgl": [
           {
            "colorbar": {
             "outlinewidth": 0,
             "ticks": ""
            },
            "colorscale": [
             [
              0,
              "#0d0887"
             ],
             [
              0.1111111111111111,
              "#46039f"
             ],
             [
              0.2222222222222222,
              "#7201a8"
             ],
             [
              0.3333333333333333,
              "#9c179e"
             ],
             [
              0.4444444444444444,
              "#bd3786"
             ],
             [
              0.5555555555555556,
              "#d8576b"
             ],
             [
              0.6666666666666666,
              "#ed7953"
             ],
             [
              0.7777777777777778,
              "#fb9f3a"
             ],
             [
              0.8888888888888888,
              "#fdca26"
             ],
             [
              1,
              "#f0f921"
             ]
            ],
            "type": "heatmapgl"
           }
          ],
          "histogram": [
           {
            "marker": {
             "colorbar": {
              "outlinewidth": 0,
              "ticks": ""
             }
            },
            "type": "histogram"
           }
          ],
          "histogram2d": [
           {
            "colorbar": {
             "outlinewidth": 0,
             "ticks": ""
            },
            "colorscale": [
             [
              0,
              "#0d0887"
             ],
             [
              0.1111111111111111,
              "#46039f"
             ],
             [
              0.2222222222222222,
              "#7201a8"
             ],
             [
              0.3333333333333333,
              "#9c179e"
             ],
             [
              0.4444444444444444,
              "#bd3786"
             ],
             [
              0.5555555555555556,
              "#d8576b"
             ],
             [
              0.6666666666666666,
              "#ed7953"
             ],
             [
              0.7777777777777778,
              "#fb9f3a"
             ],
             [
              0.8888888888888888,
              "#fdca26"
             ],
             [
              1,
              "#f0f921"
             ]
            ],
            "type": "histogram2d"
           }
          ],
          "histogram2dcontour": [
           {
            "colorbar": {
             "outlinewidth": 0,
             "ticks": ""
            },
            "colorscale": [
             [
              0,
              "#0d0887"
             ],
             [
              0.1111111111111111,
              "#46039f"
             ],
             [
              0.2222222222222222,
              "#7201a8"
             ],
             [
              0.3333333333333333,
              "#9c179e"
             ],
             [
              0.4444444444444444,
              "#bd3786"
             ],
             [
              0.5555555555555556,
              "#d8576b"
             ],
             [
              0.6666666666666666,
              "#ed7953"
             ],
             [
              0.7777777777777778,
              "#fb9f3a"
             ],
             [
              0.8888888888888888,
              "#fdca26"
             ],
             [
              1,
              "#f0f921"
             ]
            ],
            "type": "histogram2dcontour"
           }
          ],
          "mesh3d": [
           {
            "colorbar": {
             "outlinewidth": 0,
             "ticks": ""
            },
            "type": "mesh3d"
           }
          ],
          "parcoords": [
           {
            "line": {
             "colorbar": {
              "outlinewidth": 0,
              "ticks": ""
             }
            },
            "type": "parcoords"
           }
          ],
          "pie": [
           {
            "automargin": true,
            "type": "pie"
           }
          ],
          "scatter": [
           {
            "marker": {
             "colorbar": {
              "outlinewidth": 0,
              "ticks": ""
             }
            },
            "type": "scatter"
           }
          ],
          "scatter3d": [
           {
            "line": {
             "colorbar": {
              "outlinewidth": 0,
              "ticks": ""
             }
            },
            "marker": {
             "colorbar": {
              "outlinewidth": 0,
              "ticks": ""
             }
            },
            "type": "scatter3d"
           }
          ],
          "scattercarpet": [
           {
            "marker": {
             "colorbar": {
              "outlinewidth": 0,
              "ticks": ""
             }
            },
            "type": "scattercarpet"
           }
          ],
          "scattergeo": [
           {
            "marker": {
             "colorbar": {
              "outlinewidth": 0,
              "ticks": ""
             }
            },
            "type": "scattergeo"
           }
          ],
          "scattergl": [
           {
            "marker": {
             "colorbar": {
              "outlinewidth": 0,
              "ticks": ""
             }
            },
            "type": "scattergl"
           }
          ],
          "scattermapbox": [
           {
            "marker": {
             "colorbar": {
              "outlinewidth": 0,
              "ticks": ""
             }
            },
            "type": "scattermapbox"
           }
          ],
          "scatterpolar": [
           {
            "marker": {
             "colorbar": {
              "outlinewidth": 0,
              "ticks": ""
             }
            },
            "type": "scatterpolar"
           }
          ],
          "scatterpolargl": [
           {
            "marker": {
             "colorbar": {
              "outlinewidth": 0,
              "ticks": ""
             }
            },
            "type": "scatterpolargl"
           }
          ],
          "scatterternary": [
           {
            "marker": {
             "colorbar": {
              "outlinewidth": 0,
              "ticks": ""
             }
            },
            "type": "scatterternary"
           }
          ],
          "surface": [
           {
            "colorbar": {
             "outlinewidth": 0,
             "ticks": ""
            },
            "colorscale": [
             [
              0,
              "#0d0887"
             ],
             [
              0.1111111111111111,
              "#46039f"
             ],
             [
              0.2222222222222222,
              "#7201a8"
             ],
             [
              0.3333333333333333,
              "#9c179e"
             ],
             [
              0.4444444444444444,
              "#bd3786"
             ],
             [
              0.5555555555555556,
              "#d8576b"
             ],
             [
              0.6666666666666666,
              "#ed7953"
             ],
             [
              0.7777777777777778,
              "#fb9f3a"
             ],
             [
              0.8888888888888888,
              "#fdca26"
             ],
             [
              1,
              "#f0f921"
             ]
            ],
            "type": "surface"
           }
          ],
          "table": [
           {
            "cells": {
             "fill": {
              "color": "#EBF0F8"
             },
             "line": {
              "color": "white"
             }
            },
            "header": {
             "fill": {
              "color": "#C8D4E3"
             },
             "line": {
              "color": "white"
             }
            },
            "type": "table"
           }
          ]
         },
         "layout": {
          "annotationdefaults": {
           "arrowcolor": "#2a3f5f",
           "arrowhead": 0,
           "arrowwidth": 1
          },
          "coloraxis": {
           "colorbar": {
            "outlinewidth": 0,
            "ticks": ""
           }
          },
          "colorscale": {
           "diverging": [
            [
             0,
             "#8e0152"
            ],
            [
             0.1,
             "#c51b7d"
            ],
            [
             0.2,
             "#de77ae"
            ],
            [
             0.3,
             "#f1b6da"
            ],
            [
             0.4,
             "#fde0ef"
            ],
            [
             0.5,
             "#f7f7f7"
            ],
            [
             0.6,
             "#e6f5d0"
            ],
            [
             0.7,
             "#b8e186"
            ],
            [
             0.8,
             "#7fbc41"
            ],
            [
             0.9,
             "#4d9221"
            ],
            [
             1,
             "#276419"
            ]
           ],
           "sequential": [
            [
             0,
             "#0d0887"
            ],
            [
             0.1111111111111111,
             "#46039f"
            ],
            [
             0.2222222222222222,
             "#7201a8"
            ],
            [
             0.3333333333333333,
             "#9c179e"
            ],
            [
             0.4444444444444444,
             "#bd3786"
            ],
            [
             0.5555555555555556,
             "#d8576b"
            ],
            [
             0.6666666666666666,
             "#ed7953"
            ],
            [
             0.7777777777777778,
             "#fb9f3a"
            ],
            [
             0.8888888888888888,
             "#fdca26"
            ],
            [
             1,
             "#f0f921"
            ]
           ],
           "sequentialminus": [
            [
             0,
             "#0d0887"
            ],
            [
             0.1111111111111111,
             "#46039f"
            ],
            [
             0.2222222222222222,
             "#7201a8"
            ],
            [
             0.3333333333333333,
             "#9c179e"
            ],
            [
             0.4444444444444444,
             "#bd3786"
            ],
            [
             0.5555555555555556,
             "#d8576b"
            ],
            [
             0.6666666666666666,
             "#ed7953"
            ],
            [
             0.7777777777777778,
             "#fb9f3a"
            ],
            [
             0.8888888888888888,
             "#fdca26"
            ],
            [
             1,
             "#f0f921"
            ]
           ]
          },
          "colorway": [
           "#636efa",
           "#EF553B",
           "#00cc96",
           "#ab63fa",
           "#FFA15A",
           "#19d3f3",
           "#FF6692",
           "#B6E880",
           "#FF97FF",
           "#FECB52"
          ],
          "font": {
           "color": "#2a3f5f"
          },
          "geo": {
           "bgcolor": "white",
           "lakecolor": "white",
           "landcolor": "#E5ECF6",
           "showlakes": true,
           "showland": true,
           "subunitcolor": "white"
          },
          "hoverlabel": {
           "align": "left"
          },
          "hovermode": "closest",
          "mapbox": {
           "style": "light"
          },
          "paper_bgcolor": "white",
          "plot_bgcolor": "#E5ECF6",
          "polar": {
           "angularaxis": {
            "gridcolor": "white",
            "linecolor": "white",
            "ticks": ""
           },
           "bgcolor": "#E5ECF6",
           "radialaxis": {
            "gridcolor": "white",
            "linecolor": "white",
            "ticks": ""
           }
          },
          "scene": {
           "xaxis": {
            "backgroundcolor": "#E5ECF6",
            "gridcolor": "white",
            "gridwidth": 2,
            "linecolor": "white",
            "showbackground": true,
            "ticks": "",
            "zerolinecolor": "white"
           },
           "yaxis": {
            "backgroundcolor": "#E5ECF6",
            "gridcolor": "white",
            "gridwidth": 2,
            "linecolor": "white",
            "showbackground": true,
            "ticks": "",
            "zerolinecolor": "white"
           },
           "zaxis": {
            "backgroundcolor": "#E5ECF6",
            "gridcolor": "white",
            "gridwidth": 2,
            "linecolor": "white",
            "showbackground": true,
            "ticks": "",
            "zerolinecolor": "white"
           }
          },
          "shapedefaults": {
           "line": {
            "color": "#2a3f5f"
           }
          },
          "ternary": {
           "aaxis": {
            "gridcolor": "white",
            "linecolor": "white",
            "ticks": ""
           },
           "baxis": {
            "gridcolor": "white",
            "linecolor": "white",
            "ticks": ""
           },
           "bgcolor": "#E5ECF6",
           "caxis": {
            "gridcolor": "white",
            "linecolor": "white",
            "ticks": ""
           }
          },
          "title": {
           "x": 0.05
          },
          "xaxis": {
           "automargin": true,
           "gridcolor": "white",
           "linecolor": "white",
           "ticks": "",
           "title": {
            "standoff": 15
           },
           "zerolinecolor": "white",
           "zerolinewidth": 2
          },
          "yaxis": {
           "automargin": true,
           "gridcolor": "white",
           "linecolor": "white",
           "ticks": "",
           "title": {
            "standoff": 15
           },
           "zerolinecolor": "white",
           "zerolinewidth": 2
          }
         }
        },
        "xaxis": {
         "anchor": "y",
         "domain": [
          0,
          1
         ],
         "title": {
          "text": "age"
         }
        },
        "yaxis": {
         "anchor": "x",
         "domain": [
          0,
          1
         ],
         "title": {
          "text": "count"
         }
        }
       }
      },
      "text/html": [
       "<div>                            <div id=\"acaf560a-aac8-4b64-a45e-93596efc35fb\" class=\"plotly-graph-div\" style=\"height:525px; width:100%;\"></div>            <script type=\"text/javascript\">                require([\"plotly\"], function(Plotly) {                    window.PLOTLYENV=window.PLOTLYENV || {};                                    if (document.getElementById(\"acaf560a-aac8-4b64-a45e-93596efc35fb\")) {                    Plotly.newPlot(                        \"acaf560a-aac8-4b64-a45e-93596efc35fb\",                        [{\"alignmentgroup\": \"True\", \"bingroup\": \"x\", \"hovertemplate\": \"survived=False<br>age=%{x}<br>count=%{y}<extra></extra>\", \"legendgroup\": \"False\", \"marker\": {\"color\": \"#636efa\"}, \"name\": \"False\", \"offsetgroup\": \"False\", \"orientation\": \"v\", \"showlegend\": true, \"type\": \"histogram\", \"x\": [22.0, 35.0, null, 54.0, 2.0, 20.0, 39.0, 14.0, 2.0, 31.0, 35.0, 8.0, null, 19.0, null, 40.0, 66.0, 28.0, 42.0, 21.0, 18.0, 40.0, 27.0, null, null, null, null, 18.0, 7.0, 21.0, 65.0, 28.5, 11.0, 22.0, 45.0, 4.0, null, 19.0, 26.0, 32.0, 16.0, 21.0, 26.0, 25.0, null, null, 22.0, 28.0, 16.0, null, 24.0, 29.0, 20.0, 46.0, 26.0, 59.0, null, 71.0, 34.0, 28.0, null, 21.0, 33.0, 37.0, 28.0, 38.0, 47.0, 14.5, 22.0, 20.0, 17.0, 21.0, 70.5, 29.0, 24.0, 2.0, 21.0, null, 32.5, 54.0, null, 45.0, 33.0, 20.0, 47.0, 25.0, 23.0, 37.0, 16.0, 24.0, null, 19.0, 18.0, 19.0, 9.0, 36.5, 42.0, 51.0, 55.5, 40.5, null, 51.0, 30.0, null, null, 44.0, 26.0, 17.0, 1.0, 45.0, null, 28.0, 61.0, 4.0, 21.0, 56.0, 18.0, null, 50.0, 30.0, 36.0, null, null, 9.0, null, 40.0, 36.0, 19.0, null, 42.0, 24.0, 28.0, null, 34.0, 45.5, 2.0, 32.0, 24.0, 22.0, 30.0, null, 42.0, 30.0, 27.0, 51.0, null, 22.0, 20.5, 18.0, null, 29.0, 59.0, 24.0, null, 44.0, 19.0, 33.0, null, 29.0, 22.0, 30.0, 44.0, 25.0, 54.0, null, 29.0, 62.0, 30.0, 41.0, null, 52.0, 40.0, null, 36.0, 16.0, null, 37.0, 45.0, null, 7.0, 65.0, 28.0, 16.0, null, 33.0, 22.0, 36.0, 24.0, 24.0, null, 23.5, 2.0, 19.0, null, 30.0, 26.0, 28.0, 43.0, 54.0, 22.0, 27.0, null, 61.0, 45.5, 38.0, 16.0, null, 29.0, 45.0, 28.0, 25.0, 36.0, 42.0, 23.0, null, 15.0, 25.0, null, 28.0, 38.0, 40.0, 29.0, 45.0, 35.0, null, 30.0, 18.0, 19.0, 22.0, 3.0, 27.0, 20.0, 19.0, 32.0, null, 18.0, 1.0, null, 28.0, 22.0, 31.0, 46.0, 23.0, 26.0, 21.0, 28.0, 20.0, 34.0, 51.0, 21.0, null, null, null, null, null, 30.0, 10.0, null, 21.0, 29.0, 28.0, 18.0, null, null, 17.0, 50.0, 21.0, 64.0, 31.0, 20.0, 25.0, 36.0, null, 30.0, null, 65.0, null, 34.0, 47.0, 48.0, null, 38.0, null, 56.0, null, null, 38.0, 22.0, null, 34.0, 29.0, 22.0, 9.0, null, 50.0, null, 58.0, 30.0, null, 21.0, 55.0, 71.0, 21.0, null, null, 25.0, 24.0, 17.0, 21.0, null, 37.0, 18.0, 28.0, null, 24.0, 47.0, null, 32.0, 22.0, null, null, 40.5, null, 39.0, 23.0, null, 17.0, 30.0, 45.0, null, 9.0, 11.0, 50.0, 64.0, 33.0, 27.0, null, 62.0, null, null, 40.0, 28.0, null, null, 24.0, 19.0, 29.0, null, 16.0, 19.0, null, 54.0, 36.0, null, 47.0, 22.0, null, 35.0, 47.0, null, 37.0, 36.0, 49.0, null, null, null, 44.0, 36.0, 30.0, 39.0, null, null, 35.0, 34.0, 26.0, 26.0, 27.0, 21.0, 21.0, 61.0, 57.0, 26.0, null, 51.0, null, 9.0, 32.0, 31.0, 41.0, null, 20.0, 2.0, 19.0, null, null, 21.0, 18.0, 24.0, null, 32.0, 23.0, 58.0, 40.0, 47.0, 36.0, 32.0, 25.0, null, 43.0, 31.0, 70.0, null, 18.0, 24.5, 43.0, null, 20.0, 14.0, 60.0, 25.0, 14.0, 19.0, 18.0, 25.0, 60.0, 52.0, 44.0, 49.0, 42.0, 18.0, 25.0, 26.0, 39.0, null, 29.0, 52.0, 19.0, null, 33.0, 17.0, 34.0, 50.0, 20.0, 25.0, 25.0, 11.0, null, 23.0, 23.0, 28.5, 48.0, null, null, 36.0, 24.0, 70.0, 16.0, 19.0, 31.0, 33.0, 23.0, 28.0, 18.0, 34.0, null, 41.0, 16.0, null, 30.5, null, 32.0, 24.0, 48.0, 57.0, null, 18.0, null, null, 29.0, null, 25.0, 25.0, 8.0, 46.0, null, 16.0, null, null, 25.0, 39.0, 30.0, 30.0, 34.0, 31.0, 39.0, 18.0, 39.0, 26.0, 39.0, 35.0, 6.0, 30.5, null, 23.0, 31.0, 43.0, 10.0, 38.0, 2.0, null, null, null, 23.0, 18.0, 21.0, null, 20.0, 16.0, 34.5, 17.0, 42.0, null, 35.0, 28.0, 4.0, 74.0, 9.0, 44.0, null, 41.0, 21.0, null, 24.0, 31.0, null, 26.0, 33.0, 47.0, 20.0, 19.0, null, 33.0, 22.0, 28.0, 25.0, 39.0, 27.0, null, 32.0], \"xaxis\": \"x\", \"yaxis\": \"y\"}, {\"alignmentgroup\": \"True\", \"bingroup\": \"x\", \"hovertemplate\": \"survived=True<br>age=%{x}<br>count=%{y}<extra></extra>\", \"legendgroup\": \"True\", \"marker\": {\"color\": \"#EF553B\"}, \"name\": \"True\", \"offsetgroup\": \"True\", \"orientation\": \"v\", \"showlegend\": true, \"type\": \"histogram\", \"x\": [38.0, 26.0, 35.0, 27.0, 14.0, 4.0, 58.0, 55.0, null, null, 34.0, 15.0, 28.0, 38.0, null, null, null, null, 14.0, 3.0, 19.0, null, 49.0, 29.0, null, 21.0, 5.0, 38.0, null, 29.0, 17.0, 32.0, 0.83, 30.0, 29.0, null, 17.0, 33.0, 23.0, 23.0, 34.0, 21.0, null, null, 32.5, 12.0, 24.0, null, 29.0, 19.0, 22.0, 24.0, 27.0, 22.0, 16.0, 40.0, 9.0, null, 1.0, 1.0, 4.0, null, 45.0, 32.0, 19.0, 3.0, 44.0, 58.0, null, 18.0, 26.0, 16.0, 40.0, 35.0, 31.0, 27.0, 32.0, 16.0, 38.0, 19.0, 35.0, 5.0, 8.0, null, 24.0, 37.0, 29.0, null, 30.0, 35.0, 50.0, 3.0, 25.0, 58.0, 35.0, 25.0, 41.0, null, 63.0, 35.0, 19.0, 30.0, 42.0, 22.0, 26.0, 19.0, null, 50.0, null, null, null, 0.92, null, 17.0, 30.0, 24.0, 18.0, 26.0, 24.0, 31.0, 40.0, 30.0, 22.0, 36.0, 36.0, 31.0, 16.0, null, null, 41.0, 45.0, 2.0, 24.0, 24.0, 40.0, null, 3.0, 22.0, null, null, 60.0, null, null, 24.0, 25.0, null, 22.0, 42.0, 1.0, 35.0, 36.0, 17.0, 36.0, 21.0, 23.0, 24.0, 28.0, 39.0, 3.0, 33.0, 44.0, 34.0, 18.0, 28.0, 19.0, 32.0, 28.0, null, 42.0, 14.0, 24.0, 45.0, 28.0, null, 4.0, 13.0, 34.0, 5.0, 52.0, 49.0, 29.0, null, 50.0, 48.0, 0.75, 33.0, 23.0, 2.0, 63.0, 25.0, 35.0, 9.0, 54.0, 16.0, 33.0, null, 26.0, 29.0, 36.0, 54.0, 34.0, 36.0, 30.0, 44.0, 50.0, 2.0, null, 7.0, 30.0, 22.0, 36.0, 32.0, 19.0, null, 8.0, 17.0, 22.0, 22.0, 48.0, 39.0, 36.0, 32.0, 62.0, 53.0, 36.0, null, 34.0, 39.0, 32.0, 25.0, 39.0, 18.0, 60.0, 52.0, null, 49.0, 24.0, 35.0, 27.0, 22.0, 40.0, null, 24.0, 4.0, 42.0, 20.0, 21.0, 80.0, 32.0, 28.0, 24.0, null, 0.75, 48.0, 56.0, 23.0, 18.0, null, 50.0, 20.0, null, 40.0, 31.0, 18.0, 36.0, 27.0, 15.0, 31.0, 4.0, null, null, 18.0, 35.0, 45.0, 42.0, 22.0, null, 24.0, 48.0, 38.0, 27.0, 6.0, 27.0, 30.0, null, 29.0, 35.0, null, 21.0, 31.0, 30.0, 4.0, 6.0, 48.0, 0.67, 33.0, 20.0, 36.0, 51.0, 54.0, 5.0, 43.0, 13.0, 17.0, 18.0, 1.0, 49.0, 31.0, 31.0, 11.0, 0.42, 27.0, 33.0, 52.0, 27.0, 27.0, 1.0, null, 62.0, 15.0, 0.83, 39.0, 32.0, null, 30.0, null, 16.0, 18.0, 45.0, 51.0, 24.0, 48.0, 42.0, 27.0, 4.0, 47.0, 28.0, 15.0, 56.0, 25.0, 19.0, 26.0], \"xaxis\": \"x\", \"yaxis\": \"y\"}],                        {\"barmode\": \"relative\", \"legend\": {\"title\": {\"text\": \"survived\"}, \"tracegroupgap\": 0}, \"margin\": {\"t\": 60}, \"template\": {\"data\": {\"bar\": [{\"error_x\": {\"color\": \"#2a3f5f\"}, \"error_y\": {\"color\": \"#2a3f5f\"}, \"marker\": {\"line\": {\"color\": \"#E5ECF6\", \"width\": 0.5}}, \"type\": \"bar\"}], \"barpolar\": [{\"marker\": {\"line\": {\"color\": \"#E5ECF6\", \"width\": 0.5}}, \"type\": \"barpolar\"}], \"carpet\": [{\"aaxis\": {\"endlinecolor\": \"#2a3f5f\", \"gridcolor\": \"white\", \"linecolor\": \"white\", \"minorgridcolor\": \"white\", \"startlinecolor\": \"#2a3f5f\"}, \"baxis\": {\"endlinecolor\": \"#2a3f5f\", \"gridcolor\": \"white\", \"linecolor\": \"white\", \"minorgridcolor\": \"white\", \"startlinecolor\": \"#2a3f5f\"}, \"type\": \"carpet\"}], \"choropleth\": [{\"colorbar\": {\"outlinewidth\": 0, \"ticks\": \"\"}, \"type\": \"choropleth\"}], \"contour\": [{\"colorbar\": {\"outlinewidth\": 0, \"ticks\": \"\"}, \"colorscale\": [[0.0, \"#0d0887\"], [0.1111111111111111, \"#46039f\"], [0.2222222222222222, \"#7201a8\"], [0.3333333333333333, \"#9c179e\"], [0.4444444444444444, \"#bd3786\"], [0.5555555555555556, \"#d8576b\"], [0.6666666666666666, \"#ed7953\"], [0.7777777777777778, \"#fb9f3a\"], [0.8888888888888888, \"#fdca26\"], [1.0, \"#f0f921\"]], \"type\": \"contour\"}], \"contourcarpet\": [{\"colorbar\": {\"outlinewidth\": 0, \"ticks\": \"\"}, \"type\": \"contourcarpet\"}], \"heatmap\": [{\"colorbar\": {\"outlinewidth\": 0, \"ticks\": \"\"}, \"colorscale\": [[0.0, \"#0d0887\"], [0.1111111111111111, \"#46039f\"], [0.2222222222222222, \"#7201a8\"], [0.3333333333333333, \"#9c179e\"], [0.4444444444444444, \"#bd3786\"], [0.5555555555555556, \"#d8576b\"], [0.6666666666666666, \"#ed7953\"], [0.7777777777777778, \"#fb9f3a\"], [0.8888888888888888, \"#fdca26\"], [1.0, \"#f0f921\"]], \"type\": \"heatmap\"}], \"heatmapgl\": [{\"colorbar\": {\"outlinewidth\": 0, \"ticks\": \"\"}, \"colorscale\": [[0.0, \"#0d0887\"], [0.1111111111111111, \"#46039f\"], [0.2222222222222222, \"#7201a8\"], [0.3333333333333333, \"#9c179e\"], [0.4444444444444444, \"#bd3786\"], [0.5555555555555556, \"#d8576b\"], [0.6666666666666666, \"#ed7953\"], [0.7777777777777778, \"#fb9f3a\"], [0.8888888888888888, \"#fdca26\"], [1.0, \"#f0f921\"]], \"type\": \"heatmapgl\"}], \"histogram\": [{\"marker\": {\"colorbar\": {\"outlinewidth\": 0, \"ticks\": \"\"}}, \"type\": \"histogram\"}], \"histogram2d\": [{\"colorbar\": {\"outlinewidth\": 0, \"ticks\": \"\"}, \"colorscale\": [[0.0, \"#0d0887\"], [0.1111111111111111, \"#46039f\"], [0.2222222222222222, \"#7201a8\"], [0.3333333333333333, \"#9c179e\"], [0.4444444444444444, \"#bd3786\"], [0.5555555555555556, \"#d8576b\"], [0.6666666666666666, \"#ed7953\"], [0.7777777777777778, \"#fb9f3a\"], [0.8888888888888888, \"#fdca26\"], [1.0, \"#f0f921\"]], \"type\": \"histogram2d\"}], \"histogram2dcontour\": [{\"colorbar\": {\"outlinewidth\": 0, \"ticks\": \"\"}, \"colorscale\": [[0.0, \"#0d0887\"], [0.1111111111111111, \"#46039f\"], [0.2222222222222222, \"#7201a8\"], [0.3333333333333333, \"#9c179e\"], [0.4444444444444444, \"#bd3786\"], [0.5555555555555556, \"#d8576b\"], [0.6666666666666666, \"#ed7953\"], [0.7777777777777778, \"#fb9f3a\"], [0.8888888888888888, \"#fdca26\"], [1.0, \"#f0f921\"]], \"type\": \"histogram2dcontour\"}], \"mesh3d\": [{\"colorbar\": {\"outlinewidth\": 0, \"ticks\": \"\"}, \"type\": \"mesh3d\"}], \"parcoords\": [{\"line\": {\"colorbar\": {\"outlinewidth\": 0, \"ticks\": \"\"}}, \"type\": \"parcoords\"}], \"pie\": [{\"automargin\": true, \"type\": \"pie\"}], \"scatter\": [{\"marker\": {\"colorbar\": {\"outlinewidth\": 0, \"ticks\": \"\"}}, \"type\": \"scatter\"}], \"scatter3d\": [{\"line\": {\"colorbar\": {\"outlinewidth\": 0, \"ticks\": \"\"}}, \"marker\": {\"colorbar\": {\"outlinewidth\": 0, \"ticks\": \"\"}}, \"type\": \"scatter3d\"}], \"scattercarpet\": [{\"marker\": {\"colorbar\": {\"outlinewidth\": 0, \"ticks\": \"\"}}, \"type\": \"scattercarpet\"}], \"scattergeo\": [{\"marker\": {\"colorbar\": {\"outlinewidth\": 0, \"ticks\": \"\"}}, \"type\": \"scattergeo\"}], \"scattergl\": [{\"marker\": {\"colorbar\": {\"outlinewidth\": 0, \"ticks\": \"\"}}, \"type\": \"scattergl\"}], \"scattermapbox\": [{\"marker\": {\"colorbar\": {\"outlinewidth\": 0, \"ticks\": \"\"}}, \"type\": \"scattermapbox\"}], \"scatterpolar\": [{\"marker\": {\"colorbar\": {\"outlinewidth\": 0, \"ticks\": \"\"}}, \"type\": \"scatterpolar\"}], \"scatterpolargl\": [{\"marker\": {\"colorbar\": {\"outlinewidth\": 0, \"ticks\": \"\"}}, \"type\": \"scatterpolargl\"}], \"scatterternary\": [{\"marker\": {\"colorbar\": {\"outlinewidth\": 0, \"ticks\": \"\"}}, \"type\": \"scatterternary\"}], \"surface\": [{\"colorbar\": {\"outlinewidth\": 0, \"ticks\": \"\"}, \"colorscale\": [[0.0, \"#0d0887\"], [0.1111111111111111, \"#46039f\"], [0.2222222222222222, \"#7201a8\"], [0.3333333333333333, \"#9c179e\"], [0.4444444444444444, \"#bd3786\"], [0.5555555555555556, \"#d8576b\"], [0.6666666666666666, \"#ed7953\"], [0.7777777777777778, \"#fb9f3a\"], [0.8888888888888888, \"#fdca26\"], [1.0, \"#f0f921\"]], \"type\": \"surface\"}], \"table\": [{\"cells\": {\"fill\": {\"color\": \"#EBF0F8\"}, \"line\": {\"color\": \"white\"}}, \"header\": {\"fill\": {\"color\": \"#C8D4E3\"}, \"line\": {\"color\": \"white\"}}, \"type\": \"table\"}]}, \"layout\": {\"annotationdefaults\": {\"arrowcolor\": \"#2a3f5f\", \"arrowhead\": 0, \"arrowwidth\": 1}, \"coloraxis\": {\"colorbar\": {\"outlinewidth\": 0, \"ticks\": \"\"}}, \"colorscale\": {\"diverging\": [[0, \"#8e0152\"], [0.1, \"#c51b7d\"], [0.2, \"#de77ae\"], [0.3, \"#f1b6da\"], [0.4, \"#fde0ef\"], [0.5, \"#f7f7f7\"], [0.6, \"#e6f5d0\"], [0.7, \"#b8e186\"], [0.8, \"#7fbc41\"], [0.9, \"#4d9221\"], [1, \"#276419\"]], \"sequential\": [[0.0, \"#0d0887\"], [0.1111111111111111, \"#46039f\"], [0.2222222222222222, \"#7201a8\"], [0.3333333333333333, \"#9c179e\"], [0.4444444444444444, \"#bd3786\"], [0.5555555555555556, \"#d8576b\"], [0.6666666666666666, \"#ed7953\"], [0.7777777777777778, \"#fb9f3a\"], [0.8888888888888888, \"#fdca26\"], [1.0, \"#f0f921\"]], \"sequentialminus\": [[0.0, \"#0d0887\"], [0.1111111111111111, \"#46039f\"], [0.2222222222222222, \"#7201a8\"], [0.3333333333333333, \"#9c179e\"], [0.4444444444444444, \"#bd3786\"], [0.5555555555555556, \"#d8576b\"], [0.6666666666666666, \"#ed7953\"], [0.7777777777777778, \"#fb9f3a\"], [0.8888888888888888, \"#fdca26\"], [1.0, \"#f0f921\"]]}, \"colorway\": [\"#636efa\", \"#EF553B\", \"#00cc96\", \"#ab63fa\", \"#FFA15A\", \"#19d3f3\", \"#FF6692\", \"#B6E880\", \"#FF97FF\", \"#FECB52\"], \"font\": {\"color\": \"#2a3f5f\"}, \"geo\": {\"bgcolor\": \"white\", \"lakecolor\": \"white\", \"landcolor\": \"#E5ECF6\", \"showlakes\": true, \"showland\": true, \"subunitcolor\": \"white\"}, \"hoverlabel\": {\"align\": \"left\"}, \"hovermode\": \"closest\", \"mapbox\": {\"style\": \"light\"}, \"paper_bgcolor\": \"white\", \"plot_bgcolor\": \"#E5ECF6\", \"polar\": {\"angularaxis\": {\"gridcolor\": \"white\", \"linecolor\": \"white\", \"ticks\": \"\"}, \"bgcolor\": \"#E5ECF6\", \"radialaxis\": {\"gridcolor\": \"white\", \"linecolor\": \"white\", \"ticks\": \"\"}}, \"scene\": {\"xaxis\": {\"backgroundcolor\": \"#E5ECF6\", \"gridcolor\": \"white\", \"gridwidth\": 2, \"linecolor\": \"white\", \"showbackground\": true, \"ticks\": \"\", \"zerolinecolor\": \"white\"}, \"yaxis\": {\"backgroundcolor\": \"#E5ECF6\", \"gridcolor\": \"white\", \"gridwidth\": 2, \"linecolor\": \"white\", \"showbackground\": true, \"ticks\": \"\", \"zerolinecolor\": \"white\"}, \"zaxis\": {\"backgroundcolor\": \"#E5ECF6\", \"gridcolor\": \"white\", \"gridwidth\": 2, \"linecolor\": \"white\", \"showbackground\": true, \"ticks\": \"\", \"zerolinecolor\": \"white\"}}, \"shapedefaults\": {\"line\": {\"color\": \"#2a3f5f\"}}, \"ternary\": {\"aaxis\": {\"gridcolor\": \"white\", \"linecolor\": \"white\", \"ticks\": \"\"}, \"baxis\": {\"gridcolor\": \"white\", \"linecolor\": \"white\", \"ticks\": \"\"}, \"bgcolor\": \"#E5ECF6\", \"caxis\": {\"gridcolor\": \"white\", \"linecolor\": \"white\", \"ticks\": \"\"}}, \"title\": {\"x\": 0.05}, \"xaxis\": {\"automargin\": true, \"gridcolor\": \"white\", \"linecolor\": \"white\", \"ticks\": \"\", \"title\": {\"standoff\": 15}, \"zerolinecolor\": \"white\", \"zerolinewidth\": 2}, \"yaxis\": {\"automargin\": true, \"gridcolor\": \"white\", \"linecolor\": \"white\", \"ticks\": \"\", \"title\": {\"standoff\": 15}, \"zerolinecolor\": \"white\", \"zerolinewidth\": 2}}}, \"xaxis\": {\"anchor\": \"y\", \"domain\": [0.0, 1.0], \"title\": {\"text\": \"age\"}}, \"yaxis\": {\"anchor\": \"x\", \"domain\": [0.0, 1.0], \"title\": {\"text\": \"count\"}}},                        {\"responsive\": true}                    ).then(function(){\n",
       "                            \n",
       "var gd = document.getElementById('acaf560a-aac8-4b64-a45e-93596efc35fb');\n",
       "var x = new MutationObserver(function (mutations, observer) {{\n",
       "        var display = window.getComputedStyle(gd).display;\n",
       "        if (!display || display === 'none') {{\n",
       "            console.log([gd, 'removed!']);\n",
       "            Plotly.purge(gd);\n",
       "            observer.disconnect();\n",
       "        }}\n",
       "}});\n",
       "\n",
       "// Listen for the removal of the full notebook cells\n",
       "var notebookContainer = gd.closest('#notebook-container');\n",
       "if (notebookContainer) {{\n",
       "    x.observe(notebookContainer, {childList: true});\n",
       "}}\n",
       "\n",
       "// Listen for the clearing of the current output cell\n",
       "var outputEl = gd.closest('.output');\n",
       "if (outputEl) {{\n",
       "    x.observe(outputEl, {childList: true});\n",
       "}}\n",
       "\n",
       "                        })                };                });            </script>        </div>"
      ]
     },
     "metadata": {},
     "output_type": "display_data"
    }
   ],
   "source": [
    "px.histogram(ti, x='age', color='survived')"
   ]
  },
  {
   "cell_type": "markdown",
   "metadata": {},
   "source": [
    "## How do I import seaborn?"
   ]
  },
  {
   "cell_type": "code",
   "execution_count": 27,
   "metadata": {},
   "outputs": [],
   "source": [
    "import seaborn as sns"
   ]
  },
  {
   "cell_type": "markdown",
   "metadata": {},
   "source": [
    "## How do I use seaborn?"
   ]
  },
  {
   "cell_type": "code",
   "execution_count": 34,
   "metadata": {},
   "outputs": [
    {
     "data": {
      "image/png": "[encoded data removed]",
      "text/plain": [
       "<Figure size 360x360 with 1 Axes>"
      ]
     },
     "metadata": {
      "needs_background": "light"
     },
     "output_type": "display_data"
    }
   ],
   "source": [
    "sns.displot(x=ti['age']);"
   ]
  },
  {
   "cell_type": "markdown",
   "metadata": {},
   "source": [
    "`library.visualizationplot( data=table , x=..., y=..., options=...)`"
   ]
  },
  {
   "cell_type": "markdown",
   "metadata": {},
   "source": [
    "## DEMO: What are the difference between plotly and seaborn?"
   ]
  },
  {
   "cell_type": "markdown",
   "metadata": {},
   "source": [
    "* seaborn tends to be less tolerant\n",
    "    * ie., more warnings; more neurotic\n",
    "    * \"plot\" in the name of visuals\n",
    "    * when using a table you have say \"data=table\"\n"
   ]
  },
  {
   "cell_type": "markdown",
   "metadata": {},
   "source": [
    "# Part 2: The plotting libraries in detail... "
   ]
  },
  {
   "cell_type": "markdown",
   "metadata": {},
   "source": [
    "## What visuals does seaborn provide?"
   ]
  },
  {
   "cell_type": "markdown",
   "metadata": {},
   "source": [
    "Note, when providing a whole table, in seaborn, we must use `data=table`... "
   ]
  },
  {
   "cell_type": "code",
   "execution_count": 39,
   "metadata": {},
   "outputs": [
    {
     "data": {
      "text/plain": [
       "<matplotlib.axes._subplots.AxesSubplot at 0x7f92c0eddeb0>"
      ]
     },
     "execution_count": 39,
     "metadata": {},
     "output_type": "execute_result"
    },
    {
     "data": {
      "image/png": "[encoded data removed]",
      "text/plain": [
       "<Figure size 432x288 with 1 Axes>"
      ]
     },
     "metadata": {
      "needs_background": "light"
     },
     "output_type": "display_data"
    }
   ],
   "source": [
    "sns.scatterplot(data=ti, x='age', y='fare')"
   ]
  },
  {
   "cell_type": "code",
   "execution_count": 41,
   "metadata": {},
   "outputs": [
    {
     "data": {
      "image/png": "[encoded data removed]",
      "text/plain": [
       "<Figure size 432x288 with 1 Axes>"
      ]
     },
     "metadata": {
      "needs_background": "light"
     },
     "output_type": "display_data"
    }
   ],
   "source": [
    "sns.lineplot(data=ti, x='age', y='fare');"
   ]
  },
  {
   "cell_type": "markdown",
   "metadata": {},
   "source": [
    "A violinplot shows the distribution of a variable (here, `age`) grouped-by some other variable, here `survived`... "
   ]
  },
  {
   "cell_type": "code",
   "execution_count": 44,
   "metadata": {},
   "outputs": [
    {
     "data": {
      "image/png": "[encoded data removed]",
      "text/plain": [
       "<Figure size 432x288 with 1 Axes>"
      ]
     },
     "metadata": {
      "needs_background": "light"
     },
     "output_type": "display_data"
    }
   ],
   "source": [
    "sns.violinplot(data=ti, x='survived', y='age');"
   ]
  },
  {
   "cell_type": "markdown",
   "metadata": {},
   "source": [
    "The width of the blob is a measure of the frequency (count) of values at that height. Eg., \n",
    "\n",
    "* for people who died, c. 22 is the most common value\n",
    "* for people who lived, c. 35 is the most common\n",
    "\n",
    "* also note, there is a lot of very young children in the survivor group"
   ]
  },
  {
   "cell_type": "markdown",
   "metadata": {},
   "source": [
    "## What visuals does plotly provide?"
   ]
  },
  {
   "cell_type": "markdown",
   "metadata": {},
   "source": [
    "## Aside: The Power of Plotly"
   ]
  },
  {
   "cell_type": "markdown",
   "metadata": {},
   "source": [
    "A complex sample visual, just to show what's possible.\n",
    "\n",
    "Below in step1, we obtain data from plotly's inbuilt datasets; and in step2, show a visual..."
   ]
  },
  {
   "cell_type": "code",
   "execution_count": 46,
   "metadata": {},
   "outputs": [
    {
     "data": {
      "text/html": [
       "<div>\n",
       "<style scoped>\n",
       "    .dataframe tbody tr th:only-of-type {\n",
       "        vertical-align: middle;\n",
       "    }\n",
       "\n",
       "    .dataframe tbody tr th {\n",
       "        vertical-align: top;\n",
       "    }\n",
       "\n",
       "    .dataframe thead th {\n",
       "        text-align: right;\n",
       "    }\n",
       "</style>\n",
       "<table border=\"1\" class=\"dataframe\">\n",
       "  <thead>\n",
       "    <tr style=\"text-align: right;\">\n",
       "      <th></th>\n",
       "      <th>country</th>\n",
       "      <th>continent</th>\n",
       "      <th>year</th>\n",
       "      <th>lifeExp</th>\n",
       "      <th>pop</th>\n",
       "      <th>gdpPercap</th>\n",
       "      <th>iso_alpha</th>\n",
       "      <th>iso_num</th>\n",
       "      <th>LowExp</th>\n",
       "    </tr>\n",
       "  </thead>\n",
       "  <tbody>\n",
       "    <tr>\n",
       "      <th>11</th>\n",
       "      <td>Afghanistan</td>\n",
       "      <td>Asia</td>\n",
       "      <td>2007</td>\n",
       "      <td>43.828</td>\n",
       "      <td>31889923</td>\n",
       "      <td>974.580338</td>\n",
       "      <td>AFG</td>\n",
       "      <td>4</td>\n",
       "      <td>3.211707</td>\n",
       "    </tr>\n",
       "    <tr>\n",
       "      <th>23</th>\n",
       "      <td>Albania</td>\n",
       "      <td>Europe</td>\n",
       "      <td>2007</td>\n",
       "      <td>76.423</td>\n",
       "      <td>3600523</td>\n",
       "      <td>5937.029526</td>\n",
       "      <td>ALB</td>\n",
       "      <td>8</td>\n",
       "      <td>0.511885</td>\n",
       "    </tr>\n",
       "    <tr>\n",
       "      <th>35</th>\n",
       "      <td>Algeria</td>\n",
       "      <td>Africa</td>\n",
       "      <td>2007</td>\n",
       "      <td>72.301</td>\n",
       "      <td>33333216</td>\n",
       "      <td>6223.367465</td>\n",
       "      <td>DZA</td>\n",
       "      <td>12</td>\n",
       "      <td>0.853308</td>\n",
       "    </tr>\n",
       "  </tbody>\n",
       "</table>\n",
       "</div>"
      ],
      "text/plain": [
       "        country continent  year  lifeExp       pop    gdpPercap iso_alpha  \\\n",
       "11  Afghanistan      Asia  2007   43.828  31889923   974.580338       AFG   \n",
       "23      Albania    Europe  2007   76.423   3600523  5937.029526       ALB   \n",
       "35      Algeria    Africa  2007   72.301  33333216  6223.367465       DZA   \n",
       "\n",
       "    iso_num    LowExp  \n",
       "11        4  3.211707  \n",
       "23        8  0.511885  \n",
       "35       12  0.853308  "
      ]
     },
     "execution_count": 46,
     "metadata": {},
     "output_type": "execute_result"
    }
   ],
   "source": [
    "gapm = px.data.gapminder().query(\"year == 2007\")\n",
    "\n",
    "gapm['LowExp'] = (\n",
    "    (gapm['lifeExp'].max() - gapm['lifeExp'])\n",
    "    /gapm['lifeExp'].std()\n",
    ")\n",
    "\n",
    "gapm.head(3)"
   ]
  },
  {
   "cell_type": "code",
   "execution_count": 51,
   "metadata": {},
   "outputs": [
    {
     "data": {
      "application/vnd.plotly.v1+json": {
       "config": {
        "plotlyServerURL": "https://plot.ly"
       },
       "data": [
        {
         "customdata": [
          [
           43.828
          ],
          [
           76.423
          ],
          [
           72.301
          ],
          [
           42.731
          ],
          [
           75.32
          ],
          [
           81.235
          ],
          [
           79.829
          ],
          [
           75.635
          ],
          [
           64.062
          ],
          [
           79.441
          ],
          [
           56.728
          ],
          [
           65.554
          ],
          [
           74.852
          ],
          [
           50.728
          ],
          [
           72.39
          ],
          [
           73.005
          ],
          [
           52.295
          ],
          [
           49.58
          ],
          [
           59.723
          ],
          [
           50.43
          ],
          [
           80.653
          ],
          [
           44.74100000000001
          ],
          [
           50.651
          ],
          [
           78.553
          ],
          [
           72.961
          ],
          [
           72.889
          ],
          [
           65.152
          ],
          [
           46.461999999999996
          ],
          [
           55.321999999999996
          ],
          [
           78.782
          ],
          [
           48.328
          ],
          [
           75.748
          ],
          [
           78.273
          ],
          [
           76.486
          ],
          [
           78.332
          ],
          [
           54.791000000000004
          ],
          [
           72.235
          ],
          [
           74.994
          ],
          [
           71.33800000000001
          ],
          [
           71.878
          ],
          [
           51.57899999999999
          ],
          [
           58.04
          ],
          [
           52.946999999999996
          ],
          [
           79.313
          ],
          [
           80.657
          ],
          [
           56.735
          ],
          [
           59.448
          ],
          [
           79.406
          ],
          [
           60.022
          ],
          [
           79.483
          ],
          [
           70.259
          ],
          [
           56.007
          ],
          [
           46.388000000000005
          ],
          [
           60.916000000000004
          ],
          [
           70.19800000000001
          ],
          [
           82.208
          ],
          [
           73.33800000000001
          ],
          [
           81.757
          ],
          [
           64.69800000000001
          ],
          [
           70.65
          ],
          [
           70.964
          ],
          [
           59.545
          ],
          [
           78.885
          ],
          [
           80.745
          ],
          [
           80.546
          ],
          [
           72.567
          ],
          [
           82.603
          ],
          [
           72.535
          ],
          [
           54.11
          ],
          [
           67.297
          ],
          [
           78.623
          ],
          [
           77.58800000000001
          ],
          [
           71.993
          ],
          [
           42.592
          ],
          [
           45.678000000000004
          ],
          [
           73.952
          ],
          [
           59.443000000000005
          ],
          [
           48.303000000000004
          ],
          [
           74.241
          ],
          [
           54.467
          ],
          [
           64.164
          ],
          [
           72.801
          ],
          [
           76.195
          ],
          [
           66.803
          ],
          [
           74.543
          ],
          [
           71.164
          ],
          [
           42.082
          ],
          [
           62.068999999999996
          ],
          [
           52.906000000000006
          ],
          [
           63.785
          ],
          [
           79.762
          ],
          [
           80.204
          ],
          [
           72.899
          ],
          [
           56.867
          ],
          [
           46.858999999999995
          ],
          [
           80.196
          ],
          [
           75.64
          ],
          [
           65.483
          ],
          [
           75.53699999999999
          ],
          [
           71.752
          ],
          [
           71.421
          ],
          [
           71.688
          ],
          [
           75.563
          ],
          [
           78.098
          ],
          [
           78.74600000000001
          ],
          [
           76.442
          ],
          [
           72.476
          ],
          [
           46.242
          ],
          [
           65.528
          ],
          [
           72.777
          ],
          [
           63.062
          ],
          [
           74.002
          ],
          [
           42.568000000000005
          ],
          [
           79.972
          ],
          [
           74.663
          ],
          [
           77.926
          ],
          [
           48.159
          ],
          [
           49.339
          ],
          [
           80.941
          ],
          [
           72.396
          ],
          [
           58.556000000000004
          ],
          [
           39.613
          ],
          [
           80.884
          ],
          [
           81.70100000000001
          ],
          [
           74.143
          ],
          [
           78.4
          ],
          [
           52.516999999999996
          ],
          [
           70.616
          ],
          [
           58.42
          ],
          [
           69.819
          ],
          [
           73.923
          ],
          [
           71.777
          ],
          [
           51.542
          ],
          [
           79.425
          ],
          [
           78.242
          ],
          [
           76.384
          ],
          [
           73.747
          ],
          [
           74.249
          ],
          [
           73.422
          ],
          [
           62.698
          ],
          [
           42.38399999999999
          ],
          [
           43.486999999999995
          ]
         ],
         "geo": "geo",
         "hovertemplate": "LowExp=%{marker.size}<br>iso_alpha=%{location}<br>lifeExp=%{customdata[0]}<extra></extra>",
         "legendgroup": "",
         "locations": [
          "AFG",
          "ALB",
          "DZA",
          "AGO",
          "ARG",
          "AUS",
          "AUT",
          "BHR",
          "BGD",
          "BEL",
          "BEN",
          "BOL",
          "BIH",
          "BWA",
          "BRA",
          "BGR",
          "BFA",
          "BDI",
          "KHM",
          "CMR",
          "CAN",
          "CAF",
          "TCD",
          "CHL",
          "CHN",
          "COL",
          "COM",
          "COD",
          "COG",
          "CRI",
          "CIV",
          "HRV",
          "CUB",
          "CZE",
          "DNK",
          "DJI",
          "DOM",
          "ECU",
          "EGY",
          "SLV",
          "GNQ",
          "ERI",
          "ETH",
          "FIN",
          "FRA",
          "GAB",
          "GMB",
          "DEU",
          "GHA",
          "GRC",
          "GTM",
          "GIN",
          "GNB",
          "HTI",
          "HND",
          "HKG",
          "HUN",
          "ISL",
          "IND",
          "IDN",
          "IRN",
          "IRQ",
          "IRL",
          "ISR",
          "ITA",
          "JAM",
          "JPN",
          "JOR",
          "KEN",
          "KOR",
          "KOR",
          "KWT",
          "LBN",
          "LSO",
          "LBR",
          "LBY",
          "MDG",
          "MWI",
          "MYS",
          "MLI",
          "MRT",
          "MUS",
          "MEX",
          "MNG",
          "MNE",
          "MAR",
          "MOZ",
          "MMR",
          "NAM",
          "NPL",
          "NLD",
          "NZL",
          "NIC",
          "NER",
          "NGA",
          "NOR",
          "OMN",
          "PAK",
          "PAN",
          "PRY",
          "PER",
          "PHL",
          "POL",
          "PRT",
          "PRI",
          "REU",
          "ROU",
          "RWA",
          "STP",
          "SAU",
          "SEN",
          "SRB",
          "SLE",
          "SGP",
          "SVK",
          "SVN",
          "SOM",
          "ZAF",
          "ESP",
          "LKA",
          "SDN",
          "SWZ",
          "SWE",
          "CHE",
          "SYR",
          "TWN",
          "TZA",
          "THA",
          "TGO",
          "TTO",
          "TUN",
          "TUR",
          "UGA",
          "GBR",
          "USA",
          "URY",
          "VEN",
          "VNM",
          "PSE",
          "YEM",
          "ZMB",
          "ZWE"
         ],
         "marker": {
          "color": "#636efa",
          "size": [
           3.2117066307353297,
           0.5118851573937928,
           0.8533075876166435,
           3.302570387638403,
           0.6032458901778315,
           0.11331050085998494,
           0.22976851563274814,
           0.577154656427176,
           1.5357383014948742,
           0.26190628926847426,
           2.1432084866609067,
           1.412156965761615,
           0.6420100088930887,
           2.6401843676257544,
           0.8459357787156649,
           0.7949957509167684,
           2.510390833380435,
           2.7352724195170293,
           1.8951346927459534,
           2.664867503047009,
           0.16151716131357466,
           3.1360834675151783,
           2.646562224764803,
           0.33545871965127216,
           0.7986402407105104,
           0.8046039512820888,
           1.44545434978626,
           2.993534218991762,
           2.25966650143367,
           0.31649080686111386,
           2.8389747200116937,
           0.567794944002338,
           0.35865092742963184,
           0.5066669106436618,
           0.35376399793347774,
           2.3036488668990582,
           0.858774322307257,
           0.630248246376921,
           0.9330722165115011,
           0.8883443872246654,
           2.569696621842241,
           2.0345364273565933,
           2.4563861209822555,
           0.27250844139572433,
           0.16118584405959888,
           2.142628681466448,
           1.9179127539568421,
           0.2648053152407689,
           1.8703687280112051,
           0.2584274581017202,
           1.0224450457716803,
           2.2029284216901828,
           2.9996635881903275,
           1.7963193217474425,
           1.0274976338948223,
           0.0327175788301855,
           0.7674135895232184,
           0.0700735992160427,
           1.4830588581125996,
           0.9900587841954704,
           0.9640503797583106,
           1.9098783105479105,
           0.3079593875712166,
           0.15389686447211376,
           0.17037989785744773,
           0.8312749902272025,
           0,
           0.8339255282590148,
           2.360055629388569,
           1.267785472341327,
           0.3296606677066817,
           0.41538900717311766,
           0.8788190161728395,
           3.3140836622140886,
           3.058472400771168,
           0.7165563910378164,
           1.9183269005243124,
           2.841045452849047,
           0.6926187194380095,
           2.3304855644711604,
           1.5272897115184716,
           0.8118929308695728,
           0.5307702408704578,
           1.308703153207433,
           0.6676042667627782,
           0.9474845170594822,
           3.3563266120961006,
           1.7008171232886982,
           2.4597821228355143,
           1.5586820213327515,
           0.23531807963685505,
           0.19870752307244516,
           0.803775658147147,
           2.131695212085221,
           2.960650981534588,
           0.19937015758039792,
           0.5767405098597056,
           1.4180378470196988,
           0.5852719291496029,
           0.8987808807249276,
           0.9261973834914874,
           0.9040819567885521,
           0.5831183669987544,
           0.37314605729110634,
           0.3194726621469019,
           0.5103114004374049,
           0.838812457755169,
           3.011756667960473,
           1.4143105279124624,
           0.8138808343934323,
           1.6185676149890156,
           0.7124149253631096,
           3.3160715657379476,
           0.21792392380308587,
           0.657664749143482,
           0.3873926992120984,
           2.852972873992204,
           2.7552342840691173,
           0.13766231902726223,
           0.8454388028347001,
           1.9917965015936159,
           3.5608321871131356,
           0.14238358989642846,
           0.0747120407717144,
           0.7007359921604353,
           0.3481316046158751,
           2.492002725784736,
           0.9928749808542718,
           2.0030612882288192,
           1.0588899437091022,
           0.7189584411291462,
           0.8967101478875735,
           2.5727613064415236,
           0.26323155828438094,
           0.3612186361479495,
           0.5151155006200645,
           0.7335364003041153,
           0.6919560849300567,
           0.7604559271897114,
           1.6487174851008828,
           3.3313121594208708,
           3.2399514266368326
          ],
          "sizemode": "area",
          "sizeref": 0.00890208046778284
         },
         "name": "",
         "showlegend": false,
         "type": "scattergeo"
        }
       ],
       "layout": {
        "geo": {
         "center": {},
         "domain": {
          "x": [
           0,
           1
          ],
          "y": [
           0,
           1
          ]
         }
        },
        "height": 350,
        "legend": {
         "itemsizing": "constant",
         "tracegroupgap": 0
        },
        "margin": {
         "t": 60
        },
        "template": {
         "data": {
          "bar": [
           {
            "error_x": {
             "color": "#2a3f5f"
            },
            "error_y": {
             "color": "#2a3f5f"
            },
            "marker": {
             "line": {
              "color": "#E5ECF6",
              "width": 0.5
             }
            },
            "type": "bar"
           }
          ],
          "barpolar": [
           {
            "marker": {
             "line": {
              "color": "#E5ECF6",
              "width": 0.5
             }
            },
            "type": "barpolar"
           }
          ],
          "carpet": [
           {
            "aaxis": {
             "endlinecolor": "#2a3f5f",
             "gridcolor": "white",
             "linecolor": "white",
             "minorgridcolor": "white",
             "startlinecolor": "#2a3f5f"
            },
            "baxis": {
             "endlinecolor": "#2a3f5f",
             "gridcolor": "white",
             "linecolor": "white",
             "minorgridcolor": "white",
             "startlinecolor": "#2a3f5f"
            },
            "type": "carpet"
           }
          ],
          "choropleth": [
           {
            "colorbar": {
             "outlinewidth": 0,
             "ticks": ""
            },
            "type": "choropleth"
           }
          ],
          "contour": [
           {
            "colorbar": {
             "outlinewidth": 0,
             "ticks": ""
            },
            "colorscale": [
             [
              0,
              "#0d0887"
             ],
             [
              0.1111111111111111,
              "#46039f"
             ],
             [
              0.2222222222222222,
              "#7201a8"
             ],
             [
              0.3333333333333333,
              "#9c179e"
             ],
             [
              0.4444444444444444,
              "#bd3786"
             ],
             [
              0.5555555555555556,
              "#d8576b"
             ],
             [
              0.6666666666666666,
              "#ed7953"
             ],
             [
              0.7777777777777778,
              "#fb9f3a"
             ],
             [
              0.8888888888888888,
              "#fdca26"
             ],
             [
              1,
              "#f0f921"
             ]
            ],
            "type": "contour"
           }
          ],
          "contourcarpet": [
           {
            "colorbar": {
             "outlinewidth": 0,
             "ticks": ""
            },
            "type": "contourcarpet"
           }
          ],
          "heatmap": [
           {
            "colorbar": {
             "outlinewidth": 0,
             "ticks": ""
            },
            "colorscale": [
             [
              0,
              "#0d0887"
             ],
             [
              0.1111111111111111,
              "#46039f"
             ],
             [
              0.2222222222222222,
              "#7201a8"
             ],
             [
              0.3333333333333333,
              "#9c179e"
             ],
             [
              0.4444444444444444,
              "#bd3786"
             ],
             [
              0.5555555555555556,
              "#d8576b"
             ],
             [
              0.6666666666666666,
              "#ed7953"
             ],
             [
              0.7777777777777778,
              "#fb9f3a"
             ],
             [
              0.8888888888888888,
              "#fdca26"
             ],
             [
              1,
              "#f0f921"
             ]
            ],
            "type": "heatmap"
           }
          ],
          "heatmapgl": [
           {
            "colorbar": {
             "outlinewidth": 0,
             "ticks": ""
            },
            "colorscale": [
             [
              0,
              "#0d0887"
             ],
             [
              0.1111111111111111,
              "#46039f"
             ],
             [
              0.2222222222222222,
              "#7201a8"
             ],
             [
              0.3333333333333333,
              "#9c179e"
             ],
             [
              0.4444444444444444,
              "#bd3786"
             ],
             [
              0.5555555555555556,
              "#d8576b"
             ],
             [
              0.6666666666666666,
              "#ed7953"
             ],
             [
              0.7777777777777778,
              "#fb9f3a"
             ],
             [
              0.8888888888888888,
              "#fdca26"
             ],
             [
              1,
              "#f0f921"
             ]
            ],
            "type": "heatmapgl"
           }
          ],
          "histogram": [
           {
            "marker": {
             "colorbar": {
              "outlinewidth": 0,
              "ticks": ""
             }
            },
            "type": "histogram"
           }
          ],
          "histogram2d": [
           {
            "colorbar": {
             "outlinewidth": 0,
             "ticks": ""
            },
            "colorscale": [
             [
              0,
              "#0d0887"
             ],
             [
              0.1111111111111111,
              "#46039f"
             ],
             [
              0.2222222222222222,
              "#7201a8"
             ],
             [
              0.3333333333333333,
              "#9c179e"
             ],
             [
              0.4444444444444444,
              "#bd3786"
             ],
             [
              0.5555555555555556,
              "#d8576b"
             ],
             [
              0.6666666666666666,
              "#ed7953"
             ],
             [
              0.7777777777777778,
              "#fb9f3a"
             ],
             [
              0.8888888888888888,
              "#fdca26"
             ],
             [
              1,
              "#f0f921"
             ]
            ],
            "type": "histogram2d"
           }
          ],
          "histogram2dcontour": [
           {
            "colorbar": {
             "outlinewidth": 0,
             "ticks": ""
            },
            "colorscale": [
             [
              0,
              "#0d0887"
             ],
             [
              0.1111111111111111,
              "#46039f"
             ],
             [
              0.2222222222222222,
              "#7201a8"
             ],
             [
              0.3333333333333333,
              "#9c179e"
             ],
             [
              0.4444444444444444,
              "#bd3786"
             ],
             [
              0.5555555555555556,
              "#d8576b"
             ],
             [
              0.6666666666666666,
              "#ed7953"
             ],
             [
              0.7777777777777778,
              "#fb9f3a"
             ],
             [
              0.8888888888888888,
              "#fdca26"
             ],
             [
              1,
              "#f0f921"
             ]
            ],
            "type": "histogram2dcontour"
           }
          ],
          "mesh3d": [
           {
            "colorbar": {
             "outlinewidth": 0,
             "ticks": ""
            },
            "type": "mesh3d"
           }
          ],
          "parcoords": [
           {
            "line": {
             "colorbar": {
              "outlinewidth": 0,
              "ticks": ""
             }
            },
            "type": "parcoords"
           }
          ],
          "pie": [
           {
            "automargin": true,
            "type": "pie"
           }
          ],
          "scatter": [
           {
            "marker": {
             "colorbar": {
              "outlinewidth": 0,
              "ticks": ""
             }
            },
            "type": "scatter"
           }
          ],
          "scatter3d": [
           {
            "line": {
             "colorbar": {
              "outlinewidth": 0,
              "ticks": ""
             }
            },
            "marker": {
             "colorbar": {
              "outlinewidth": 0,
              "ticks": ""
             }
            },
            "type": "scatter3d"
           }
          ],
          "scattercarpet": [
           {
            "marker": {
             "colorbar": {
              "outlinewidth": 0,
              "ticks": ""
             }
            },
            "type": "scattercarpet"
           }
          ],
          "scattergeo": [
           {
            "marker": {
             "colorbar": {
              "outlinewidth": 0,
              "ticks": ""
             }
            },
            "type": "scattergeo"
           }
          ],
          "scattergl": [
           {
            "marker": {
             "colorbar": {
              "outlinewidth": 0,
              "ticks": ""
             }
            },
            "type": "scattergl"
           }
          ],
          "scattermapbox": [
           {
            "marker": {
             "colorbar": {
              "outlinewidth": 0,
              "ticks": ""
             }
            },
            "type": "scattermapbox"
           }
          ],
          "scatterpolar": [
           {
            "marker": {
             "colorbar": {
              "outlinewidth": 0,
              "ticks": ""
             }
            },
            "type": "scatterpolar"
           }
          ],
          "scatterpolargl": [
           {
            "marker": {
             "colorbar": {
              "outlinewidth": 0,
              "ticks": ""
             }
            },
            "type": "scatterpolargl"
           }
          ],
          "scatterternary": [
           {
            "marker": {
             "colorbar": {
              "outlinewidth": 0,
              "ticks": ""
             }
            },
            "type": "scatterternary"
           }
          ],
          "surface": [
           {
            "colorbar": {
             "outlinewidth": 0,
             "ticks": ""
            },
            "colorscale": [
             [
              0,
              "#0d0887"
             ],
             [
              0.1111111111111111,
              "#46039f"
             ],
             [
              0.2222222222222222,
              "#7201a8"
             ],
             [
              0.3333333333333333,
              "#9c179e"
             ],
             [
              0.4444444444444444,
              "#bd3786"
             ],
             [
              0.5555555555555556,
              "#d8576b"
             ],
             [
              0.6666666666666666,
              "#ed7953"
             ],
             [
              0.7777777777777778,
              "#fb9f3a"
             ],
             [
              0.8888888888888888,
              "#fdca26"
             ],
             [
              1,
              "#f0f921"
             ]
            ],
            "type": "surface"
           }
          ],
          "table": [
           {
            "cells": {
             "fill": {
              "color": "#EBF0F8"
             },
             "line": {
              "color": "white"
             }
            },
            "header": {
             "fill": {
              "color": "#C8D4E3"
             },
             "line": {
              "color": "white"
             }
            },
            "type": "table"
           }
          ]
         },
         "layout": {
          "annotationdefaults": {
           "arrowcolor": "#2a3f5f",
           "arrowhead": 0,
           "arrowwidth": 1
          },
          "coloraxis": {
           "colorbar": {
            "outlinewidth": 0,
            "ticks": ""
           }
          },
          "colorscale": {
           "diverging": [
            [
             0,
             "#8e0152"
            ],
            [
             0.1,
             "#c51b7d"
            ],
            [
             0.2,
             "#de77ae"
            ],
            [
             0.3,
             "#f1b6da"
            ],
            [
             0.4,
             "#fde0ef"
            ],
            [
             0.5,
             "#f7f7f7"
            ],
            [
             0.6,
             "#e6f5d0"
            ],
            [
             0.7,
             "#b8e186"
            ],
            [
             0.8,
             "#7fbc41"
            ],
            [
             0.9,
             "#4d9221"
            ],
            [
             1,
             "#276419"
            ]
           ],
           "sequential": [
            [
             0,
             "#0d0887"
            ],
            [
             0.1111111111111111,
             "#46039f"
            ],
            [
             0.2222222222222222,
             "#7201a8"
            ],
            [
             0.3333333333333333,
             "#9c179e"
            ],
            [
             0.4444444444444444,
             "#bd3786"
            ],
            [
             0.5555555555555556,
             "#d8576b"
            ],
            [
             0.6666666666666666,
             "#ed7953"
            ],
            [
             0.7777777777777778,
             "#fb9f3a"
            ],
            [
             0.8888888888888888,
             "#fdca26"
            ],
            [
             1,
             "#f0f921"
            ]
           ],
           "sequentialminus": [
            [
             0,
             "#0d0887"
            ],
            [
             0.1111111111111111,
             "#46039f"
            ],
            [
             0.2222222222222222,
             "#7201a8"
            ],
            [
             0.3333333333333333,
             "#9c179e"
            ],
            [
             0.4444444444444444,
             "#bd3786"
            ],
            [
             0.5555555555555556,
             "#d8576b"
            ],
            [
             0.6666666666666666,
             "#ed7953"
            ],
            [
             0.7777777777777778,
             "#fb9f3a"
            ],
            [
             0.8888888888888888,
             "#fdca26"
            ],
            [
             1,
             "#f0f921"
            ]
           ]
          },
          "colorway": [
           "#636efa",
           "#EF553B",
           "#00cc96",
           "#ab63fa",
           "#FFA15A",
           "#19d3f3",
           "#FF6692",
           "#B6E880",
           "#FF97FF",
           "#FECB52"
          ],
          "font": {
           "color": "#2a3f5f"
          },
          "geo": {
           "bgcolor": "white",
           "lakecolor": "white",
           "landcolor": "#E5ECF6",
           "showlakes": true,
           "showland": true,
           "subunitcolor": "white"
          },
          "hoverlabel": {
           "align": "left"
          },
          "hovermode": "closest",
          "mapbox": {
           "style": "light"
          },
          "paper_bgcolor": "white",
          "plot_bgcolor": "#E5ECF6",
          "polar": {
           "angularaxis": {
            "gridcolor": "white",
            "linecolor": "white",
            "ticks": ""
           },
           "bgcolor": "#E5ECF6",
           "radialaxis": {
            "gridcolor": "white",
            "linecolor": "white",
            "ticks": ""
           }
          },
          "scene": {
           "xaxis": {
            "backgroundcolor": "#E5ECF6",
            "gridcolor": "white",
            "gridwidth": 2,
            "linecolor": "white",
            "showbackground": true,
            "ticks": "",
            "zerolinecolor": "white"
           },
           "yaxis": {
            "backgroundcolor": "#E5ECF6",
            "gridcolor": "white",
            "gridwidth": 2,
            "linecolor": "white",
            "showbackground": true,
            "ticks": "",
            "zerolinecolor": "white"
           },
           "zaxis": {
            "backgroundcolor": "#E5ECF6",
            "gridcolor": "white",
            "gridwidth": 2,
            "linecolor": "white",
            "showbackground": true,
            "ticks": "",
            "zerolinecolor": "white"
           }
          },
          "shapedefaults": {
           "line": {
            "color": "#2a3f5f"
           }
          },
          "ternary": {
           "aaxis": {
            "gridcolor": "white",
            "linecolor": "white",
            "ticks": ""
           },
           "baxis": {
            "gridcolor": "white",
            "linecolor": "white",
            "ticks": ""
           },
           "bgcolor": "#E5ECF6",
           "caxis": {
            "gridcolor": "white",
            "linecolor": "white",
            "ticks": ""
           }
          },
          "title": {
           "x": 0.05
          },
          "xaxis": {
           "automargin": true,
           "gridcolor": "white",
           "linecolor": "white",
           "ticks": "",
           "title": {
            "standoff": 15
           },
           "zerolinecolor": "white",
           "zerolinewidth": 2
          },
          "yaxis": {
           "automargin": true,
           "gridcolor": "white",
           "linecolor": "white",
           "ticks": "",
           "title": {
            "standoff": 15
           },
           "zerolinecolor": "white",
           "zerolinewidth": 2
          }
         }
        }
       }
      },
      "text/html": [
       "<div>                            <div id=\"d422a159-cb61-4fb0-85d2-9079bfc7245f\" class=\"plotly-graph-div\" style=\"height:350px; width:100%;\"></div>            <script type=\"text/javascript\">                require([\"plotly\"], function(Plotly) {                    window.PLOTLYENV=window.PLOTLYENV || {};                                    if (document.getElementById(\"d422a159-cb61-4fb0-85d2-9079bfc7245f\")) {                    Plotly.newPlot(                        \"d422a159-cb61-4fb0-85d2-9079bfc7245f\",                        [{\"customdata\": [[43.828], [76.423], [72.301], [42.731], [75.32], [81.235], [79.829], [75.635], [64.062], [79.441], [56.728], [65.554], [74.852], [50.728], [72.39], [73.005], [52.295], [49.58], [59.723], [50.43], [80.653], [44.74100000000001], [50.651], [78.553], [72.961], [72.889], [65.152], [46.461999999999996], [55.321999999999996], [78.782], [48.328], [75.748], [78.273], [76.486], [78.332], [54.791000000000004], [72.235], [74.994], [71.33800000000001], [71.878], [51.57899999999999], [58.04], [52.946999999999996], [79.313], [80.657], [56.735], [59.448], [79.406], [60.022], [79.483], [70.259], [56.007], [46.388000000000005], [60.916000000000004], [70.19800000000001], [82.208], [73.33800000000001], [81.757], [64.69800000000001], [70.65], [70.964], [59.545], [78.885], [80.745], [80.546], [72.567], [82.603], [72.535], [54.11], [67.297], [78.623], [77.58800000000001], [71.993], [42.592], [45.678000000000004], [73.952], [59.443000000000005], [48.303000000000004], [74.241], [54.467], [64.164], [72.801], [76.195], [66.803], [74.543], [71.164], [42.082], [62.068999999999996], [52.906000000000006], [63.785], [79.762], [80.204], [72.899], [56.867], [46.858999999999995], [80.196], [75.64], [65.483], [75.53699999999999], [71.752], [71.421], [71.688], [75.563], [78.098], [78.74600000000001], [76.442], [72.476], [46.242], [65.528], [72.777], [63.062], [74.002], [42.568000000000005], [79.972], [74.663], [77.926], [48.159], [49.339], [80.941], [72.396], [58.556000000000004], [39.613], [80.884], [81.70100000000001], [74.143], [78.4], [52.516999999999996], [70.616], [58.42], [69.819], [73.923], [71.777], [51.542], [79.425], [78.242], [76.384], [73.747], [74.249], [73.422], [62.698], [42.38399999999999], [43.486999999999995]], \"geo\": \"geo\", \"hovertemplate\": \"LowExp=%{marker.size}<br>iso_alpha=%{location}<br>lifeExp=%{customdata[0]}<extra></extra>\", \"legendgroup\": \"\", \"locations\": [\"AFG\", \"ALB\", \"DZA\", \"AGO\", \"ARG\", \"AUS\", \"AUT\", \"BHR\", \"BGD\", \"BEL\", \"BEN\", \"BOL\", \"BIH\", \"BWA\", \"BRA\", \"BGR\", \"BFA\", \"BDI\", \"KHM\", \"CMR\", \"CAN\", \"CAF\", \"TCD\", \"CHL\", \"CHN\", \"COL\", \"COM\", \"COD\", \"COG\", \"CRI\", \"CIV\", \"HRV\", \"CUB\", \"CZE\", \"DNK\", \"DJI\", \"DOM\", \"ECU\", \"EGY\", \"SLV\", \"GNQ\", \"ERI\", \"ETH\", \"FIN\", \"FRA\", \"GAB\", \"GMB\", \"DEU\", \"GHA\", \"GRC\", \"GTM\", \"GIN\", \"GNB\", \"HTI\", \"HND\", \"HKG\", \"HUN\", \"ISL\", \"IND\", \"IDN\", \"IRN\", \"IRQ\", \"IRL\", \"ISR\", \"ITA\", \"JAM\", \"JPN\", \"JOR\", \"KEN\", \"KOR\", \"KOR\", \"KWT\", \"LBN\", \"LSO\", \"LBR\", \"LBY\", \"MDG\", \"MWI\", \"MYS\", \"MLI\", \"MRT\", \"MUS\", \"MEX\", \"MNG\", \"MNE\", \"MAR\", \"MOZ\", \"MMR\", \"NAM\", \"NPL\", \"NLD\", \"NZL\", \"NIC\", \"NER\", \"NGA\", \"NOR\", \"OMN\", \"PAK\", \"PAN\", \"PRY\", \"PER\", \"PHL\", \"POL\", \"PRT\", \"PRI\", \"REU\", \"ROU\", \"RWA\", \"STP\", \"SAU\", \"SEN\", \"SRB\", \"SLE\", \"SGP\", \"SVK\", \"SVN\", \"SOM\", \"ZAF\", \"ESP\", \"LKA\", \"SDN\", \"SWZ\", \"SWE\", \"CHE\", \"SYR\", \"TWN\", \"TZA\", \"THA\", \"TGO\", \"TTO\", \"TUN\", \"TUR\", \"UGA\", \"GBR\", \"USA\", \"URY\", \"VEN\", \"VNM\", \"PSE\", \"YEM\", \"ZMB\", \"ZWE\"], \"marker\": {\"color\": \"#636efa\", \"size\": [3.2117066307353297, 0.5118851573937928, 0.8533075876166435, 3.302570387638403, 0.6032458901778315, 0.11331050085998494, 0.22976851563274814, 0.577154656427176, 1.5357383014948742, 0.26190628926847426, 2.1432084866609067, 1.412156965761615, 0.6420100088930887, 2.6401843676257544, 0.8459357787156649, 0.7949957509167684, 2.510390833380435, 2.7352724195170293, 1.8951346927459534, 2.664867503047009, 0.16151716131357466, 3.1360834675151783, 2.646562224764803, 0.33545871965127216, 0.7986402407105104, 0.8046039512820888, 1.44545434978626, 2.993534218991762, 2.25966650143367, 0.31649080686111386, 2.8389747200116937, 0.567794944002338, 0.35865092742963184, 0.5066669106436618, 0.35376399793347774, 2.3036488668990582, 0.858774322307257, 0.630248246376921, 0.9330722165115011, 0.8883443872246654, 2.569696621842241, 2.0345364273565933, 2.4563861209822555, 0.27250844139572433, 0.16118584405959888, 2.142628681466448, 1.9179127539568421, 0.2648053152407689, 1.8703687280112051, 0.2584274581017202, 1.0224450457716803, 2.2029284216901828, 2.9996635881903275, 1.7963193217474425, 1.0274976338948223, 0.0327175788301855, 0.7674135895232184, 0.0700735992160427, 1.4830588581125996, 0.9900587841954704, 0.9640503797583106, 1.9098783105479105, 0.3079593875712166, 0.15389686447211376, 0.17037989785744773, 0.8312749902272025, 0.0, 0.8339255282590148, 2.360055629388569, 1.267785472341327, 0.3296606677066817, 0.41538900717311766, 0.8788190161728395, 3.3140836622140886, 3.058472400771168, 0.7165563910378164, 1.9183269005243124, 2.841045452849047, 0.6926187194380095, 2.3304855644711604, 1.5272897115184716, 0.8118929308695728, 0.5307702408704578, 1.308703153207433, 0.6676042667627782, 0.9474845170594822, 3.3563266120961006, 1.7008171232886982, 2.4597821228355143, 1.5586820213327515, 0.23531807963685505, 0.19870752307244516, 0.803775658147147, 2.131695212085221, 2.960650981534588, 0.19937015758039792, 0.5767405098597056, 1.4180378470196988, 0.5852719291496029, 0.8987808807249276, 0.9261973834914874, 0.9040819567885521, 0.5831183669987544, 0.37314605729110634, 0.3194726621469019, 0.5103114004374049, 0.838812457755169, 3.011756667960473, 1.4143105279124624, 0.8138808343934323, 1.6185676149890156, 0.7124149253631096, 3.3160715657379476, 0.21792392380308587, 0.657664749143482, 0.3873926992120984, 2.852972873992204, 2.7552342840691173, 0.13766231902726223, 0.8454388028347001, 1.9917965015936159, 3.5608321871131356, 0.14238358989642846, 0.0747120407717144, 0.7007359921604353, 0.3481316046158751, 2.492002725784736, 0.9928749808542718, 2.0030612882288192, 1.0588899437091022, 0.7189584411291462, 0.8967101478875735, 2.5727613064415236, 0.26323155828438094, 0.3612186361479495, 0.5151155006200645, 0.7335364003041153, 0.6919560849300567, 0.7604559271897114, 1.6487174851008828, 3.3313121594208708, 3.2399514266368326], \"sizemode\": \"area\", \"sizeref\": 0.00890208046778284}, \"name\": \"\", \"showlegend\": false, \"type\": \"scattergeo\"}],                        {\"geo\": {\"center\": {}, \"domain\": {\"x\": [0.0, 1.0], \"y\": [0.0, 1.0]}}, \"height\": 350, \"legend\": {\"itemsizing\": \"constant\", \"tracegroupgap\": 0}, \"margin\": {\"t\": 60}, \"template\": {\"data\": {\"bar\": [{\"error_x\": {\"color\": \"#2a3f5f\"}, \"error_y\": {\"color\": \"#2a3f5f\"}, \"marker\": {\"line\": {\"color\": \"#E5ECF6\", \"width\": 0.5}}, \"type\": \"bar\"}], \"barpolar\": [{\"marker\": {\"line\": {\"color\": \"#E5ECF6\", \"width\": 0.5}}, \"type\": \"barpolar\"}], \"carpet\": [{\"aaxis\": {\"endlinecolor\": \"#2a3f5f\", \"gridcolor\": \"white\", \"linecolor\": \"white\", \"minorgridcolor\": \"white\", \"startlinecolor\": \"#2a3f5f\"}, \"baxis\": {\"endlinecolor\": \"#2a3f5f\", \"gridcolor\": \"white\", \"linecolor\": \"white\", \"minorgridcolor\": \"white\", \"startlinecolor\": \"#2a3f5f\"}, \"type\": \"carpet\"}], \"choropleth\": [{\"colorbar\": {\"outlinewidth\": 0, \"ticks\": \"\"}, \"type\": \"choropleth\"}], \"contour\": [{\"colorbar\": {\"outlinewidth\": 0, \"ticks\": \"\"}, \"colorscale\": [[0.0, \"#0d0887\"], [0.1111111111111111, \"#46039f\"], [0.2222222222222222, \"#7201a8\"], [0.3333333333333333, \"#9c179e\"], [0.4444444444444444, \"#bd3786\"], [0.5555555555555556, \"#d8576b\"], [0.6666666666666666, \"#ed7953\"], [0.7777777777777778, \"#fb9f3a\"], [0.8888888888888888, \"#fdca26\"], [1.0, \"#f0f921\"]], \"type\": \"contour\"}], \"contourcarpet\": [{\"colorbar\": {\"outlinewidth\": 0, \"ticks\": \"\"}, \"type\": \"contourcarpet\"}], \"heatmap\": [{\"colorbar\": {\"outlinewidth\": 0, \"ticks\": \"\"}, \"colorscale\": [[0.0, \"#0d0887\"], [0.1111111111111111, \"#46039f\"], [0.2222222222222222, \"#7201a8\"], [0.3333333333333333, \"#9c179e\"], [0.4444444444444444, \"#bd3786\"], [0.5555555555555556, \"#d8576b\"], [0.6666666666666666, \"#ed7953\"], [0.7777777777777778, \"#fb9f3a\"], [0.8888888888888888, \"#fdca26\"], [1.0, \"#f0f921\"]], \"type\": \"heatmap\"}], \"heatmapgl\": [{\"colorbar\": {\"outlinewidth\": 0, \"ticks\": \"\"}, \"colorscale\": [[0.0, \"#0d0887\"], [0.1111111111111111, \"#46039f\"], [0.2222222222222222, \"#7201a8\"], [0.3333333333333333, \"#9c179e\"], [0.4444444444444444, \"#bd3786\"], [0.5555555555555556, \"#d8576b\"], [0.6666666666666666, \"#ed7953\"], [0.7777777777777778, \"#fb9f3a\"], [0.8888888888888888, \"#fdca26\"], [1.0, \"#f0f921\"]], \"type\": \"heatmapgl\"}], \"histogram\": [{\"marker\": {\"colorbar\": {\"outlinewidth\": 0, \"ticks\": \"\"}}, \"type\": \"histogram\"}], \"histogram2d\": [{\"colorbar\": {\"outlinewidth\": 0, \"ticks\": \"\"}, \"colorscale\": [[0.0, \"#0d0887\"], [0.1111111111111111, \"#46039f\"], [0.2222222222222222, \"#7201a8\"], [0.3333333333333333, \"#9c179e\"], [0.4444444444444444, \"#bd3786\"], [0.5555555555555556, \"#d8576b\"], [0.6666666666666666, \"#ed7953\"], [0.7777777777777778, \"#fb9f3a\"], [0.8888888888888888, \"#fdca26\"], [1.0, \"#f0f921\"]], \"type\": \"histogram2d\"}], \"histogram2dcontour\": [{\"colorbar\": {\"outlinewidth\": 0, \"ticks\": \"\"}, \"colorscale\": [[0.0, \"#0d0887\"], [0.1111111111111111, \"#46039f\"], [0.2222222222222222, \"#7201a8\"], [0.3333333333333333, \"#9c179e\"], [0.4444444444444444, \"#bd3786\"], [0.5555555555555556, \"#d8576b\"], [0.6666666666666666, \"#ed7953\"], [0.7777777777777778, \"#fb9f3a\"], [0.8888888888888888, \"#fdca26\"], [1.0, \"#f0f921\"]], \"type\": \"histogram2dcontour\"}], \"mesh3d\": [{\"colorbar\": {\"outlinewidth\": 0, \"ticks\": \"\"}, \"type\": \"mesh3d\"}], \"parcoords\": [{\"line\": {\"colorbar\": {\"outlinewidth\": 0, \"ticks\": \"\"}}, \"type\": \"parcoords\"}], \"pie\": [{\"automargin\": true, \"type\": \"pie\"}], \"scatter\": [{\"marker\": {\"colorbar\": {\"outlinewidth\": 0, \"ticks\": \"\"}}, \"type\": \"scatter\"}], \"scatter3d\": [{\"line\": {\"colorbar\": {\"outlinewidth\": 0, \"ticks\": \"\"}}, \"marker\": {\"colorbar\": {\"outlinewidth\": 0, \"ticks\": \"\"}}, \"type\": \"scatter3d\"}], \"scattercarpet\": [{\"marker\": {\"colorbar\": {\"outlinewidth\": 0, \"ticks\": \"\"}}, \"type\": \"scattercarpet\"}], \"scattergeo\": [{\"marker\": {\"colorbar\": {\"outlinewidth\": 0, \"ticks\": \"\"}}, \"type\": \"scattergeo\"}], \"scattergl\": [{\"marker\": {\"colorbar\": {\"outlinewidth\": 0, \"ticks\": \"\"}}, \"type\": \"scattergl\"}], \"scattermapbox\": [{\"marker\": {\"colorbar\": {\"outlinewidth\": 0, \"ticks\": \"\"}}, \"type\": \"scattermapbox\"}], \"scatterpolar\": [{\"marker\": {\"colorbar\": {\"outlinewidth\": 0, \"ticks\": \"\"}}, \"type\": \"scatterpolar\"}], \"scatterpolargl\": [{\"marker\": {\"colorbar\": {\"outlinewidth\": 0, \"ticks\": \"\"}}, \"type\": \"scatterpolargl\"}], \"scatterternary\": [{\"marker\": {\"colorbar\": {\"outlinewidth\": 0, \"ticks\": \"\"}}, \"type\": \"scatterternary\"}], \"surface\": [{\"colorbar\": {\"outlinewidth\": 0, \"ticks\": \"\"}, \"colorscale\": [[0.0, \"#0d0887\"], [0.1111111111111111, \"#46039f\"], [0.2222222222222222, \"#7201a8\"], [0.3333333333333333, \"#9c179e\"], [0.4444444444444444, \"#bd3786\"], [0.5555555555555556, \"#d8576b\"], [0.6666666666666666, \"#ed7953\"], [0.7777777777777778, \"#fb9f3a\"], [0.8888888888888888, \"#fdca26\"], [1.0, \"#f0f921\"]], \"type\": \"surface\"}], \"table\": [{\"cells\": {\"fill\": {\"color\": \"#EBF0F8\"}, \"line\": {\"color\": \"white\"}}, \"header\": {\"fill\": {\"color\": \"#C8D4E3\"}, \"line\": {\"color\": \"white\"}}, \"type\": \"table\"}]}, \"layout\": {\"annotationdefaults\": {\"arrowcolor\": \"#2a3f5f\", \"arrowhead\": 0, \"arrowwidth\": 1}, \"coloraxis\": {\"colorbar\": {\"outlinewidth\": 0, \"ticks\": \"\"}}, \"colorscale\": {\"diverging\": [[0, \"#8e0152\"], [0.1, \"#c51b7d\"], [0.2, \"#de77ae\"], [0.3, \"#f1b6da\"], [0.4, \"#fde0ef\"], [0.5, \"#f7f7f7\"], [0.6, \"#e6f5d0\"], [0.7, \"#b8e186\"], [0.8, \"#7fbc41\"], [0.9, \"#4d9221\"], [1, \"#276419\"]], \"sequential\": [[0.0, \"#0d0887\"], [0.1111111111111111, \"#46039f\"], [0.2222222222222222, \"#7201a8\"], [0.3333333333333333, \"#9c179e\"], [0.4444444444444444, \"#bd3786\"], [0.5555555555555556, \"#d8576b\"], [0.6666666666666666, \"#ed7953\"], [0.7777777777777778, \"#fb9f3a\"], [0.8888888888888888, \"#fdca26\"], [1.0, \"#f0f921\"]], \"sequentialminus\": [[0.0, \"#0d0887\"], [0.1111111111111111, \"#46039f\"], [0.2222222222222222, \"#7201a8\"], [0.3333333333333333, \"#9c179e\"], [0.4444444444444444, \"#bd3786\"], [0.5555555555555556, \"#d8576b\"], [0.6666666666666666, \"#ed7953\"], [0.7777777777777778, \"#fb9f3a\"], [0.8888888888888888, \"#fdca26\"], [1.0, \"#f0f921\"]]}, \"colorway\": [\"#636efa\", \"#EF553B\", \"#00cc96\", \"#ab63fa\", \"#FFA15A\", \"#19d3f3\", \"#FF6692\", \"#B6E880\", \"#FF97FF\", \"#FECB52\"], \"font\": {\"color\": \"#2a3f5f\"}, \"geo\": {\"bgcolor\": \"white\", \"lakecolor\": \"white\", \"landcolor\": \"#E5ECF6\", \"showlakes\": true, \"showland\": true, \"subunitcolor\": \"white\"}, \"hoverlabel\": {\"align\": \"left\"}, \"hovermode\": \"closest\", \"mapbox\": {\"style\": \"light\"}, \"paper_bgcolor\": \"white\", \"plot_bgcolor\": \"#E5ECF6\", \"polar\": {\"angularaxis\": {\"gridcolor\": \"white\", \"linecolor\": \"white\", \"ticks\": \"\"}, \"bgcolor\": \"#E5ECF6\", \"radialaxis\": {\"gridcolor\": \"white\", \"linecolor\": \"white\", \"ticks\": \"\"}}, \"scene\": {\"xaxis\": {\"backgroundcolor\": \"#E5ECF6\", \"gridcolor\": \"white\", \"gridwidth\": 2, \"linecolor\": \"white\", \"showbackground\": true, \"ticks\": \"\", \"zerolinecolor\": \"white\"}, \"yaxis\": {\"backgroundcolor\": \"#E5ECF6\", \"gridcolor\": \"white\", \"gridwidth\": 2, \"linecolor\": \"white\", \"showbackground\": true, \"ticks\": \"\", \"zerolinecolor\": \"white\"}, \"zaxis\": {\"backgroundcolor\": \"#E5ECF6\", \"gridcolor\": \"white\", \"gridwidth\": 2, \"linecolor\": \"white\", \"showbackground\": true, \"ticks\": \"\", \"zerolinecolor\": \"white\"}}, \"shapedefaults\": {\"line\": {\"color\": \"#2a3f5f\"}}, \"ternary\": {\"aaxis\": {\"gridcolor\": \"white\", \"linecolor\": \"white\", \"ticks\": \"\"}, \"baxis\": {\"gridcolor\": \"white\", \"linecolor\": \"white\", \"ticks\": \"\"}, \"bgcolor\": \"#E5ECF6\", \"caxis\": {\"gridcolor\": \"white\", \"linecolor\": \"white\", \"ticks\": \"\"}}, \"title\": {\"x\": 0.05}, \"xaxis\": {\"automargin\": true, \"gridcolor\": \"white\", \"linecolor\": \"white\", \"ticks\": \"\", \"title\": {\"standoff\": 15}, \"zerolinecolor\": \"white\", \"zerolinewidth\": 2}, \"yaxis\": {\"automargin\": true, \"gridcolor\": \"white\", \"linecolor\": \"white\", \"ticks\": \"\", \"title\": {\"standoff\": 15}, \"zerolinecolor\": \"white\", \"zerolinewidth\": 2}}}},                        {\"responsive\": true}                    ).then(function(){\n",
       "                            \n",
       "var gd = document.getElementById('d422a159-cb61-4fb0-85d2-9079bfc7245f');\n",
       "var x = new MutationObserver(function (mutations, observer) {{\n",
       "        var display = window.getComputedStyle(gd).display;\n",
       "        if (!display || display === 'none') {{\n",
       "            console.log([gd, 'removed!']);\n",
       "            Plotly.purge(gd);\n",
       "            observer.disconnect();\n",
       "        }}\n",
       "}});\n",
       "\n",
       "// Listen for the removal of the full notebook cells\n",
       "var notebookContainer = gd.closest('#notebook-container');\n",
       "if (notebookContainer) {{\n",
       "    x.observe(notebookContainer, {childList: true});\n",
       "}}\n",
       "\n",
       "// Listen for the clearing of the current output cell\n",
       "var outputEl = gd.closest('.output');\n",
       "if (outputEl) {{\n",
       "    x.observe(outputEl, {childList: true});\n",
       "}}\n",
       "\n",
       "                        })                };                });            </script>        </div>"
      ]
     },
     "metadata": {},
     "output_type": "display_data"
    }
   ],
   "source": [
    "px.scatter_geo(gapm, locations=\"iso_alpha\", size=\"LowExp\", hover_data=[\"lifeExp\"], height=350)"
   ]
  },
  {
   "cell_type": "markdown",
   "metadata": {},
   "source": [
    "## ...."
   ]
  },
  {
   "cell_type": "code",
   "execution_count": 54,
   "metadata": {},
   "outputs": [
    {
     "data": {
      "application/vnd.plotly.v1+json": {
       "config": {
        "plotlyServerURL": "https://plot.ly"
       },
       "data": [
        {
         "hovertemplate": "age=%{x}<br>survived=%{y}<extra></extra>",
         "legendgroup": "",
         "marker": {
          "color": "#636efa",
          "symbol": "circle"
         },
         "mode": "markers",
         "name": "",
         "orientation": "h",
         "showlegend": false,
         "type": "scatter",
         "x": [
          22,
          38,
          26,
          35,
          35,
          null,
          54,
          2,
          27,
          14,
          4,
          58,
          20,
          39,
          14,
          55,
          2,
          null,
          31,
          null,
          35,
          34,
          15,
          28,
          8,
          38,
          null,
          19,
          null,
          null,
          40,
          null,
          null,
          66,
          28,
          42,
          null,
          21,
          18,
          14,
          40,
          27,
          null,
          3,
          19,
          null,
          null,
          null,
          null,
          18,
          7,
          21,
          49,
          29,
          65,
          null,
          21,
          28.5,
          5,
          11,
          22,
          38,
          45,
          4,
          null,
          null,
          29,
          19,
          17,
          26,
          32,
          16,
          21,
          26,
          32,
          25,
          null,
          null,
          0.83,
          30,
          22,
          29,
          null,
          28,
          17,
          33,
          16,
          null,
          23,
          24,
          29,
          20,
          46,
          26,
          59,
          null,
          71,
          23,
          34,
          34,
          28,
          null,
          21,
          33,
          37,
          28,
          21,
          null,
          38,
          null,
          47,
          14.5,
          22,
          20,
          17,
          21,
          70.5,
          29,
          24,
          2,
          21,
          null,
          32.5,
          32.5,
          54,
          12,
          null,
          24,
          null,
          45,
          33,
          20,
          47,
          29,
          25,
          23,
          19,
          37,
          16,
          24,
          null,
          22,
          24,
          19,
          18,
          19,
          27,
          9,
          36.5,
          42,
          51,
          22,
          55.5,
          40.5,
          null,
          51,
          16,
          30,
          null,
          null,
          44,
          40,
          26,
          17,
          1,
          9,
          null,
          45,
          null,
          28,
          61,
          4,
          1,
          21,
          56,
          18,
          null,
          50,
          30,
          36,
          null,
          null,
          9,
          1,
          4,
          null,
          null,
          45,
          40,
          36,
          32,
          19,
          19,
          3,
          44,
          58,
          null,
          42,
          null,
          24,
          28,
          null,
          34,
          45.5,
          18,
          2,
          32,
          26,
          16,
          40,
          24,
          35,
          22,
          30,
          null,
          31,
          27,
          42,
          32,
          30,
          16,
          27,
          51,
          null,
          38,
          22,
          19,
          20.5,
          18,
          null,
          35,
          29,
          59,
          5,
          24,
          null,
          44,
          8,
          19,
          33,
          null,
          null,
          29,
          22,
          30,
          44,
          25,
          24,
          37,
          54,
          null,
          29,
          62,
          30,
          41,
          29,
          null,
          30,
          35,
          50,
          null,
          3,
          52,
          40,
          null,
          36,
          16,
          25,
          58,
          35,
          null,
          25,
          41,
          37,
          null,
          63,
          45,
          null,
          7,
          35,
          65,
          28,
          16,
          19,
          null,
          33,
          30,
          22,
          42,
          22,
          26,
          19,
          36,
          24,
          24,
          null,
          23.5,
          2,
          null,
          50,
          null,
          null,
          19,
          null,
          null,
          0.92,
          null,
          17,
          30,
          30,
          24,
          18,
          26,
          28,
          43,
          26,
          24,
          54,
          31,
          40,
          22,
          27,
          30,
          22,
          null,
          36,
          61,
          36,
          31,
          16,
          null,
          45.5,
          38,
          16,
          null,
          null,
          29,
          41,
          45,
          45,
          2,
          24,
          28,
          25,
          36,
          24,
          40,
          null,
          3,
          42,
          23,
          null,
          15,
          25,
          null,
          28,
          22,
          38,
          null,
          null,
          40,
          29,
          45,
          35,
          null,
          30,
          60,
          null,
          null,
          24,
          25,
          18,
          19,
          22,
          3,
          null,
          22,
          27,
          20,
          19,
          42,
          1,
          32,
          35,
          null,
          18,
          1,
          36,
          null,
          17,
          36,
          21,
          28,
          23,
          24,
          22,
          31,
          46,
          23,
          28,
          39,
          26,
          21,
          28,
          20,
          34,
          51,
          3,
          21,
          null,
          null,
          null,
          33,
          null,
          44,
          null,
          34,
          18,
          30,
          10,
          null,
          21,
          29,
          28,
          18,
          null,
          28,
          19,
          null,
          32,
          28,
          null,
          42,
          17,
          50,
          14,
          21,
          24,
          64,
          31,
          45,
          20,
          25,
          28,
          null,
          4,
          13,
          34,
          5,
          52,
          36,
          null,
          30,
          49,
          null,
          29,
          65,
          null,
          50,
          null,
          48,
          34,
          47,
          48,
          null,
          38,
          null,
          56,
          null,
          0.75,
          null,
          38,
          33,
          23,
          22,
          null,
          34,
          29,
          22,
          2,
          9,
          null,
          50,
          63,
          25,
          null,
          35,
          58,
          30,
          9,
          null,
          21,
          55,
          71,
          21,
          null,
          54,
          null,
          25,
          24,
          17,
          21,
          null,
          37,
          16,
          18,
          33,
          null,
          28,
          26,
          29,
          null,
          36,
          54,
          24,
          47,
          34,
          null,
          36,
          32,
          30,
          22,
          null,
          44,
          null,
          40.5,
          50,
          null,
          39,
          23,
          2,
          null,
          17,
          null,
          30,
          7,
          45,
          30,
          null,
          22,
          36,
          9,
          11,
          32,
          50,
          64,
          19,
          null,
          33,
          8,
          17,
          27,
          null,
          22,
          22,
          62,
          48,
          null,
          39,
          36,
          null,
          40,
          28,
          null,
          null,
          24,
          19,
          29,
          null,
          32,
          62,
          53,
          36,
          null,
          16,
          19,
          34,
          39,
          null,
          32,
          25,
          39,
          54,
          36,
          null,
          18,
          47,
          60,
          22,
          null,
          35,
          52,
          47,
          null,
          37,
          36,
          null,
          49,
          null,
          49,
          24,
          null,
          null,
          44,
          35,
          36,
          30,
          27,
          22,
          40,
          39,
          null,
          null,
          null,
          35,
          24,
          34,
          26,
          4,
          26,
          27,
          42,
          20,
          21,
          21,
          61,
          57,
          21,
          26,
          null,
          80,
          51,
          32,
          null,
          9,
          28,
          32,
          31,
          41,
          null,
          20,
          24,
          2,
          null,
          0.75,
          48,
          19,
          56,
          null,
          23,
          null,
          18,
          21,
          null,
          18,
          24,
          null,
          32,
          23,
          58,
          50,
          40,
          47,
          36,
          20,
          32,
          25,
          null,
          43,
          null,
          40,
          31,
          70,
          31,
          null,
          18,
          24.5,
          18,
          43,
          36,
          null,
          27,
          20,
          14,
          60,
          25,
          14,
          19,
          18,
          15,
          31,
          4,
          null,
          25,
          60,
          52,
          44,
          null,
          49,
          42,
          18,
          35,
          18,
          25,
          26,
          39,
          45,
          42,
          22,
          null,
          24,
          null,
          48,
          29,
          52,
          19,
          38,
          27,
          null,
          33,
          6,
          17,
          34,
          50,
          27,
          20,
          30,
          null,
          25,
          25,
          29,
          11,
          null,
          23,
          23,
          28.5,
          48,
          35,
          null,
          null,
          null,
          36,
          21,
          24,
          31,
          70,
          16,
          30,
          19,
          31,
          4,
          6,
          33,
          23,
          48,
          0.67,
          28,
          18,
          34,
          33,
          null,
          41,
          20,
          36,
          16,
          51,
          null,
          30.5,
          null,
          32,
          24,
          48,
          57,
          null,
          54,
          18,
          null,
          5,
          null,
          43,
          13,
          17,
          29,
          null,
          25,
          25,
          18,
          8,
          1,
          46,
          null,
          16,
          null,
          null,
          25,
          39,
          49,
          31,
          30,
          30,
          34,
          31,
          11,
          0.42,
          27,
          31,
          39,
          18,
          39,
          33,
          26,
          39,
          35,
          6,
          30.5,
          null,
          23,
          31,
          43,
          10,
          52,
          27,
          38,
          27,
          2,
          null,
          null,
          1,
          null,
          62,
          15,
          0.83,
          null,
          23,
          18,
          39,
          21,
          null,
          32,
          null,
          20,
          16,
          30,
          34.5,
          17,
          42,
          null,
          35,
          28,
          null,
          4,
          74,
          9,
          16,
          44,
          18,
          45,
          51,
          24,
          null,
          41,
          21,
          48,
          null,
          24,
          42,
          27,
          31,
          null,
          4,
          26,
          47,
          33,
          47,
          28,
          15,
          20,
          19,
          null,
          56,
          25,
          33,
          22,
          28,
          25,
          39,
          27,
          19,
          null,
          26,
          32
         ],
         "xaxis": "x",
         "y": [
          false,
          true,
          true,
          true,
          false,
          false,
          false,
          false,
          true,
          true,
          true,
          true,
          false,
          false,
          false,
          true,
          false,
          true,
          false,
          true,
          false,
          true,
          true,
          true,
          false,
          true,
          false,
          false,
          true,
          false,
          false,
          true,
          true,
          false,
          false,
          false,
          true,
          false,
          false,
          true,
          false,
          false,
          false,
          true,
          true,
          false,
          false,
          true,
          false,
          false,
          false,
          false,
          true,
          true,
          false,
          true,
          true,
          false,
          true,
          false,
          false,
          true,
          false,
          false,
          false,
          true,
          true,
          false,
          true,
          false,
          false,
          false,
          false,
          false,
          true,
          false,
          false,
          false,
          true,
          true,
          false,
          true,
          true,
          false,
          true,
          true,
          false,
          false,
          true,
          false,
          false,
          false,
          false,
          false,
          false,
          false,
          false,
          true,
          true,
          false,
          false,
          false,
          false,
          false,
          false,
          false,
          true,
          true,
          false,
          true,
          false,
          false,
          false,
          false,
          false,
          false,
          false,
          false,
          false,
          false,
          false,
          false,
          false,
          true,
          false,
          true,
          false,
          true,
          true,
          false,
          false,
          false,
          false,
          true,
          false,
          false,
          true,
          false,
          false,
          false,
          false,
          true,
          true,
          false,
          false,
          false,
          true,
          false,
          false,
          false,
          false,
          true,
          false,
          false,
          false,
          false,
          true,
          false,
          false,
          false,
          false,
          true,
          false,
          false,
          false,
          true,
          true,
          false,
          false,
          false,
          false,
          false,
          true,
          false,
          false,
          false,
          false,
          false,
          false,
          false,
          false,
          false,
          false,
          true,
          true,
          false,
          true,
          true,
          false,
          false,
          true,
          false,
          true,
          true,
          true,
          true,
          false,
          false,
          true,
          false,
          false,
          false,
          false,
          false,
          true,
          false,
          false,
          true,
          true,
          true,
          false,
          true,
          false,
          false,
          false,
          true,
          true,
          false,
          true,
          false,
          true,
          false,
          false,
          false,
          true,
          false,
          true,
          false,
          false,
          false,
          true,
          false,
          false,
          true,
          false,
          false,
          false,
          true,
          false,
          false,
          false,
          true,
          false,
          false,
          false,
          false,
          false,
          true,
          true,
          false,
          false,
          false,
          false,
          false,
          false,
          true,
          true,
          true,
          true,
          true,
          false,
          true,
          false,
          false,
          false,
          false,
          false,
          true,
          true,
          true,
          false,
          true,
          true,
          false,
          true,
          true,
          false,
          false,
          false,
          true,
          false,
          false,
          false,
          true,
          false,
          false,
          true,
          false,
          true,
          true,
          true,
          true,
          false,
          false,
          false,
          false,
          false,
          false,
          true,
          true,
          true,
          true,
          false,
          true,
          false,
          true,
          true,
          true,
          false,
          true,
          true,
          true,
          false,
          false,
          false,
          true,
          true,
          false,
          true,
          true,
          false,
          false,
          true,
          true,
          false,
          true,
          false,
          true,
          true,
          true,
          true,
          false,
          false,
          false,
          true,
          false,
          false,
          true,
          true,
          false,
          true,
          true,
          false,
          false,
          false,
          true,
          true,
          true,
          true,
          false,
          false,
          false,
          false,
          false,
          false,
          false,
          true,
          false,
          true,
          true,
          false,
          false,
          false,
          false,
          false,
          false,
          true,
          true,
          true,
          true,
          true,
          false,
          false,
          false,
          false,
          true,
          true,
          false,
          false,
          false,
          true,
          true,
          false,
          true,
          false,
          false,
          false,
          true,
          false,
          true,
          true,
          true,
          false,
          true,
          true,
          false,
          false,
          false,
          false,
          true,
          true,
          false,
          false,
          false,
          false,
          false,
          false,
          true,
          false,
          false,
          false,
          false,
          true,
          false,
          true,
          false,
          true,
          true,
          false,
          false,
          false,
          false,
          false,
          false,
          false,
          false,
          true,
          true,
          false,
          true,
          true,
          true,
          true,
          false,
          false,
          true,
          false,
          true,
          false,
          false,
          true,
          false,
          false,
          true,
          true,
          true,
          true,
          true,
          true,
          true,
          false,
          false,
          false,
          true,
          false,
          true,
          false,
          true,
          true,
          false,
          true,
          false,
          false,
          false,
          false,
          false,
          false,
          false,
          false,
          true,
          false,
          false,
          true,
          true,
          false,
          false,
          false,
          false,
          false,
          true,
          false,
          false,
          false,
          true,
          true,
          false,
          true,
          false,
          false,
          true,
          false,
          false,
          false,
          false,
          false,
          false,
          true,
          false,
          false,
          false,
          false,
          false,
          false,
          false,
          true,
          false,
          true,
          true,
          false,
          true,
          true,
          false,
          true,
          true,
          false,
          false,
          true,
          false,
          true,
          false,
          true,
          false,
          false,
          true,
          false,
          false,
          true,
          false,
          false,
          false,
          true,
          false,
          false,
          true,
          false,
          true,
          false,
          true,
          false,
          true,
          true,
          false,
          false,
          true,
          false,
          false,
          true,
          true,
          false,
          true,
          true,
          false,
          false,
          true,
          true,
          false,
          true,
          false,
          true,
          true,
          false,
          false,
          false,
          false,
          false,
          false,
          false,
          false,
          false,
          true,
          true,
          true,
          true,
          true,
          false,
          false,
          true,
          true,
          false,
          true,
          true,
          true,
          false,
          false,
          false,
          true,
          false,
          true,
          false,
          false,
          false,
          true,
          false,
          false,
          false,
          false,
          true,
          false,
          false,
          true,
          true,
          false,
          false,
          false,
          true,
          false,
          false,
          true,
          true,
          true,
          false,
          false,
          true,
          false,
          false,
          true,
          false,
          false,
          true,
          false,
          false,
          true,
          true,
          false,
          false,
          false,
          false,
          true,
          false,
          false,
          true,
          false,
          true,
          false,
          false,
          true,
          false,
          false,
          false,
          false,
          false,
          true,
          false,
          true,
          true,
          true,
          false,
          true,
          false,
          true,
          false,
          true,
          false,
          true,
          false,
          false,
          false,
          false,
          false,
          false,
          true,
          false,
          false,
          false,
          true,
          false,
          false,
          false,
          false,
          true,
          true,
          false,
          false,
          true,
          false,
          false,
          false,
          true,
          false,
          true,
          false,
          true,
          false,
          false,
          false,
          false,
          false,
          false,
          false,
          true,
          true,
          true,
          true,
          false,
          false,
          false,
          false,
          true,
          false,
          false,
          true,
          true,
          false,
          false,
          false,
          false,
          true,
          true,
          true,
          true,
          true,
          false,
          true,
          false,
          false,
          false,
          true,
          true,
          false,
          false,
          true,
          false,
          false,
          false,
          true,
          false,
          true,
          true,
          false,
          false,
          true,
          false,
          false,
          false,
          false,
          false,
          false,
          true,
          false,
          false,
          true,
          false,
          true,
          false,
          true,
          false,
          false,
          true,
          false,
          false,
          true,
          true,
          false,
          false,
          true,
          true,
          false,
          false,
          false,
          true,
          false,
          false,
          true,
          true,
          false,
          true,
          false,
          false,
          false,
          false,
          false,
          false,
          false,
          false,
          true,
          false,
          false,
          true,
          false,
          true,
          true,
          true,
          false,
          false,
          false,
          false,
          true,
          false,
          true,
          false,
          false,
          false,
          false,
          false,
          false,
          false,
          true,
          true,
          false,
          false,
          false,
          true,
          true,
          true,
          true,
          false,
          false,
          false,
          false,
          true,
          false,
          false,
          false,
          false,
          false,
          false,
          false,
          false,
          false,
          false,
          true,
          true,
          false,
          true,
          false,
          false,
          false,
          true,
          true,
          true,
          true,
          true,
          false,
          false,
          false,
          true,
          false,
          false,
          true,
          true,
          false,
          false,
          true,
          false,
          false,
          false,
          false,
          false,
          false,
          true,
          false,
          false,
          false,
          true,
          false,
          true,
          true,
          true,
          true,
          false,
          false,
          false,
          true,
          false,
          false,
          true,
          true,
          false,
          false,
          true,
          false,
          true,
          false,
          false,
          true,
          true,
          false,
          false,
          false,
          true,
          true,
          false,
          false,
          false,
          false,
          false,
          false,
          true,
          false,
          true,
          false
         ],
         "yaxis": "y"
        }
       ],
       "layout": {
        "height": 250,
        "legend": {
         "tracegroupgap": 0
        },
        "margin": {
         "t": 60
        },
        "template": {
         "data": {
          "bar": [
           {
            "error_x": {
             "color": "#2a3f5f"
            },
            "error_y": {
             "color": "#2a3f5f"
            },
            "marker": {
             "line": {
              "color": "#E5ECF6",
              "width": 0.5
             }
            },
            "type": "bar"
           }
          ],
          "barpolar": [
           {
            "marker": {
             "line": {
              "color": "#E5ECF6",
              "width": 0.5
             }
            },
            "type": "barpolar"
           }
          ],
          "carpet": [
           {
            "aaxis": {
             "endlinecolor": "#2a3f5f",
             "gridcolor": "white",
             "linecolor": "white",
             "minorgridcolor": "white",
             "startlinecolor": "#2a3f5f"
            },
            "baxis": {
             "endlinecolor": "#2a3f5f",
             "gridcolor": "white",
             "linecolor": "white",
             "minorgridcolor": "white",
             "startlinecolor": "#2a3f5f"
            },
            "type": "carpet"
           }
          ],
          "choropleth": [
           {
            "colorbar": {
             "outlinewidth": 0,
             "ticks": ""
            },
            "type": "choropleth"
           }
          ],
          "contour": [
           {
            "colorbar": {
             "outlinewidth": 0,
             "ticks": ""
            },
            "colorscale": [
             [
              0,
              "#0d0887"
             ],
             [
              0.1111111111111111,
              "#46039f"
             ],
             [
              0.2222222222222222,
              "#7201a8"
             ],
             [
              0.3333333333333333,
              "#9c179e"
             ],
             [
              0.4444444444444444,
              "#bd3786"
             ],
             [
              0.5555555555555556,
              "#d8576b"
             ],
             [
              0.6666666666666666,
              "#ed7953"
             ],
             [
              0.7777777777777778,
              "#fb9f3a"
             ],
             [
              0.8888888888888888,
              "#fdca26"
             ],
             [
              1,
              "#f0f921"
             ]
            ],
            "type": "contour"
           }
          ],
          "contourcarpet": [
           {
            "colorbar": {
             "outlinewidth": 0,
             "ticks": ""
            },
            "type": "contourcarpet"
           }
          ],
          "heatmap": [
           {
            "colorbar": {
             "outlinewidth": 0,
             "ticks": ""
            },
            "colorscale": [
             [
              0,
              "#0d0887"
             ],
             [
              0.1111111111111111,
              "#46039f"
             ],
             [
              0.2222222222222222,
              "#7201a8"
             ],
             [
              0.3333333333333333,
              "#9c179e"
             ],
             [
              0.4444444444444444,
              "#bd3786"
             ],
             [
              0.5555555555555556,
              "#d8576b"
             ],
             [
              0.6666666666666666,
              "#ed7953"
             ],
             [
              0.7777777777777778,
              "#fb9f3a"
             ],
             [
              0.8888888888888888,
              "#fdca26"
             ],
             [
              1,
              "#f0f921"
             ]
            ],
            "type": "heatmap"
           }
          ],
          "heatmapgl": [
           {
            "colorbar": {
             "outlinewidth": 0,
             "ticks": ""
            },
            "colorscale": [
             [
              0,
              "#0d0887"
             ],
             [
              0.1111111111111111,
              "#46039f"
             ],
             [
              0.2222222222222222,
              "#7201a8"
             ],
             [
              0.3333333333333333,
              "#9c179e"
             ],
             [
              0.4444444444444444,
              "#bd3786"
             ],
             [
              0.5555555555555556,
              "#d8576b"
             ],
             [
              0.6666666666666666,
              "#ed7953"
             ],
             [
              0.7777777777777778,
              "#fb9f3a"
             ],
             [
              0.8888888888888888,
              "#fdca26"
             ],
             [
              1,
              "#f0f921"
             ]
            ],
            "type": "heatmapgl"
           }
          ],
          "histogram": [
           {
            "marker": {
             "colorbar": {
              "outlinewidth": 0,
              "ticks": ""
             }
            },
            "type": "histogram"
           }
          ],
          "histogram2d": [
           {
            "colorbar": {
             "outlinewidth": 0,
             "ticks": ""
            },
            "colorscale": [
             [
              0,
              "#0d0887"
             ],
             [
              0.1111111111111111,
              "#46039f"
             ],
             [
              0.2222222222222222,
              "#7201a8"
             ],
             [
              0.3333333333333333,
              "#9c179e"
             ],
             [
              0.4444444444444444,
              "#bd3786"
             ],
             [
              0.5555555555555556,
              "#d8576b"
             ],
             [
              0.6666666666666666,
              "#ed7953"
             ],
             [
              0.7777777777777778,
              "#fb9f3a"
             ],
             [
              0.8888888888888888,
              "#fdca26"
             ],
             [
              1,
              "#f0f921"
             ]
            ],
            "type": "histogram2d"
           }
          ],
          "histogram2dcontour": [
           {
            "colorbar": {
             "outlinewidth": 0,
             "ticks": ""
            },
            "colorscale": [
             [
              0,
              "#0d0887"
             ],
             [
              0.1111111111111111,
              "#46039f"
             ],
             [
              0.2222222222222222,
              "#7201a8"
             ],
             [
              0.3333333333333333,
              "#9c179e"
             ],
             [
              0.4444444444444444,
              "#bd3786"
             ],
             [
              0.5555555555555556,
              "#d8576b"
             ],
             [
              0.6666666666666666,
              "#ed7953"
             ],
             [
              0.7777777777777778,
              "#fb9f3a"
             ],
             [
              0.8888888888888888,
              "#fdca26"
             ],
             [
              1,
              "#f0f921"
             ]
            ],
            "type": "histogram2dcontour"
           }
          ],
          "mesh3d": [
           {
            "colorbar": {
             "outlinewidth": 0,
             "ticks": ""
            },
            "type": "mesh3d"
           }
          ],
          "parcoords": [
           {
            "line": {
             "colorbar": {
              "outlinewidth": 0,
              "ticks": ""
             }
            },
            "type": "parcoords"
           }
          ],
          "pie": [
           {
            "automargin": true,
            "type": "pie"
           }
          ],
          "scatter": [
           {
            "marker": {
             "colorbar": {
              "outlinewidth": 0,
              "ticks": ""
             }
            },
            "type": "scatter"
           }
          ],
          "scatter3d": [
           {
            "line": {
             "colorbar": {
              "outlinewidth": 0,
              "ticks": ""
             }
            },
            "marker": {
             "colorbar": {
              "outlinewidth": 0,
              "ticks": ""
             }
            },
            "type": "scatter3d"
           }
          ],
          "scattercarpet": [
           {
            "marker": {
             "colorbar": {
              "outlinewidth": 0,
              "ticks": ""
             }
            },
            "type": "scattercarpet"
           }
          ],
          "scattergeo": [
           {
            "marker": {
             "colorbar": {
              "outlinewidth": 0,
              "ticks": ""
             }
            },
            "type": "scattergeo"
           }
          ],
          "scattergl": [
           {
            "marker": {
             "colorbar": {
              "outlinewidth": 0,
              "ticks": ""
             }
            },
            "type": "scattergl"
           }
          ],
          "scattermapbox": [
           {
            "marker": {
             "colorbar": {
              "outlinewidth": 0,
              "ticks": ""
             }
            },
            "type": "scattermapbox"
           }
          ],
          "scatterpolar": [
           {
            "marker": {
             "colorbar": {
              "outlinewidth": 0,
              "ticks": ""
             }
            },
            "type": "scatterpolar"
           }
          ],
          "scatterpolargl": [
           {
            "marker": {
             "colorbar": {
              "outlinewidth": 0,
              "ticks": ""
             }
            },
            "type": "scatterpolargl"
           }
          ],
          "scatterternary": [
           {
            "marker": {
             "colorbar": {
              "outlinewidth": 0,
              "ticks": ""
             }
            },
            "type": "scatterternary"
           }
          ],
          "surface": [
           {
            "colorbar": {
             "outlinewidth": 0,
             "ticks": ""
            },
            "colorscale": [
             [
              0,
              "#0d0887"
             ],
             [
              0.1111111111111111,
              "#46039f"
             ],
             [
              0.2222222222222222,
              "#7201a8"
             ],
             [
              0.3333333333333333,
              "#9c179e"
             ],
             [
              0.4444444444444444,
              "#bd3786"
             ],
             [
              0.5555555555555556,
              "#d8576b"
             ],
             [
              0.6666666666666666,
              "#ed7953"
             ],
             [
              0.7777777777777778,
              "#fb9f3a"
             ],
             [
              0.8888888888888888,
              "#fdca26"
             ],
             [
              1,
              "#f0f921"
             ]
            ],
            "type": "surface"
           }
          ],
          "table": [
           {
            "cells": {
             "fill": {
              "color": "#EBF0F8"
             },
             "line": {
              "color": "white"
             }
            },
            "header": {
             "fill": {
              "color": "#C8D4E3"
             },
             "line": {
              "color": "white"
             }
            },
            "type": "table"
           }
          ]
         },
         "layout": {
          "annotationdefaults": {
           "arrowcolor": "#2a3f5f",
           "arrowhead": 0,
           "arrowwidth": 1
          },
          "coloraxis": {
           "colorbar": {
            "outlinewidth": 0,
            "ticks": ""
           }
          },
          "colorscale": {
           "diverging": [
            [
             0,
             "#8e0152"
            ],
            [
             0.1,
             "#c51b7d"
            ],
            [
             0.2,
             "#de77ae"
            ],
            [
             0.3,
             "#f1b6da"
            ],
            [
             0.4,
             "#fde0ef"
            ],
            [
             0.5,
             "#f7f7f7"
            ],
            [
             0.6,
             "#e6f5d0"
            ],
            [
             0.7,
             "#b8e186"
            ],
            [
             0.8,
             "#7fbc41"
            ],
            [
             0.9,
             "#4d9221"
            ],
            [
             1,
             "#276419"
            ]
           ],
           "sequential": [
            [
             0,
             "#0d0887"
            ],
            [
             0.1111111111111111,
             "#46039f"
            ],
            [
             0.2222222222222222,
             "#7201a8"
            ],
            [
             0.3333333333333333,
             "#9c179e"
            ],
            [
             0.4444444444444444,
             "#bd3786"
            ],
            [
             0.5555555555555556,
             "#d8576b"
            ],
            [
             0.6666666666666666,
             "#ed7953"
            ],
            [
             0.7777777777777778,
             "#fb9f3a"
            ],
            [
             0.8888888888888888,
             "#fdca26"
            ],
            [
             1,
             "#f0f921"
            ]
           ],
           "sequentialminus": [
            [
             0,
             "#0d0887"
            ],
            [
             0.1111111111111111,
             "#46039f"
            ],
            [
             0.2222222222222222,
             "#7201a8"
            ],
            [
             0.3333333333333333,
             "#9c179e"
            ],
            [
             0.4444444444444444,
             "#bd3786"
            ],
            [
             0.5555555555555556,
             "#d8576b"
            ],
            [
             0.6666666666666666,
             "#ed7953"
            ],
            [
             0.7777777777777778,
             "#fb9f3a"
            ],
            [
             0.8888888888888888,
             "#fdca26"
            ],
            [
             1,
             "#f0f921"
            ]
           ]
          },
          "colorway": [
           "#636efa",
           "#EF553B",
           "#00cc96",
           "#ab63fa",
           "#FFA15A",
           "#19d3f3",
           "#FF6692",
           "#B6E880",
           "#FF97FF",
           "#FECB52"
          ],
          "font": {
           "color": "#2a3f5f"
          },
          "geo": {
           "bgcolor": "white",
           "lakecolor": "white",
           "landcolor": "#E5ECF6",
           "showlakes": true,
           "showland": true,
           "subunitcolor": "white"
          },
          "hoverlabel": {
           "align": "left"
          },
          "hovermode": "closest",
          "mapbox": {
           "style": "light"
          },
          "paper_bgcolor": "white",
          "plot_bgcolor": "#E5ECF6",
          "polar": {
           "angularaxis": {
            "gridcolor": "white",
            "linecolor": "white",
            "ticks": ""
           },
           "bgcolor": "#E5ECF6",
           "radialaxis": {
            "gridcolor": "white",
            "linecolor": "white",
            "ticks": ""
           }
          },
          "scene": {
           "xaxis": {
            "backgroundcolor": "#E5ECF6",
            "gridcolor": "white",
            "gridwidth": 2,
            "linecolor": "white",
            "showbackground": true,
            "ticks": "",
            "zerolinecolor": "white"
           },
           "yaxis": {
            "backgroundcolor": "#E5ECF6",
            "gridcolor": "white",
            "gridwidth": 2,
            "linecolor": "white",
            "showbackground": true,
            "ticks": "",
            "zerolinecolor": "white"
           },
           "zaxis": {
            "backgroundcolor": "#E5ECF6",
            "gridcolor": "white",
            "gridwidth": 2,
            "linecolor": "white",
            "showbackground": true,
            "ticks": "",
            "zerolinecolor": "white"
           }
          },
          "shapedefaults": {
           "line": {
            "color": "#2a3f5f"
           }
          },
          "ternary": {
           "aaxis": {
            "gridcolor": "white",
            "linecolor": "white",
            "ticks": ""
           },
           "baxis": {
            "gridcolor": "white",
            "linecolor": "white",
            "ticks": ""
           },
           "bgcolor": "#E5ECF6",
           "caxis": {
            "gridcolor": "white",
            "linecolor": "white",
            "ticks": ""
           }
          },
          "title": {
           "x": 0.05
          },
          "xaxis": {
           "automargin": true,
           "gridcolor": "white",
           "linecolor": "white",
           "ticks": "",
           "title": {
            "standoff": 15
           },
           "zerolinecolor": "white",
           "zerolinewidth": 2
          },
          "yaxis": {
           "automargin": true,
           "gridcolor": "white",
           "linecolor": "white",
           "ticks": "",
           "title": {
            "standoff": 15
           },
           "zerolinecolor": "white",
           "zerolinewidth": 2
          }
         }
        },
        "xaxis": {
         "anchor": "y",
         "domain": [
          0,
          1
         ],
         "title": {
          "text": "age"
         }
        },
        "yaxis": {
         "anchor": "x",
         "domain": [
          0,
          1
         ],
         "title": {
          "text": "survived"
         }
        }
       }
      },
      "text/html": [
       "<div>                            <div id=\"427f1216-0340-4358-b157-257bcdde57ed\" class=\"plotly-graph-div\" style=\"height:250px; width:100%;\"></div>            <script type=\"text/javascript\">                require([\"plotly\"], function(Plotly) {                    window.PLOTLYENV=window.PLOTLYENV || {};                                    if (document.getElementById(\"427f1216-0340-4358-b157-257bcdde57ed\")) {                    Plotly.newPlot(                        \"427f1216-0340-4358-b157-257bcdde57ed\",                        [{\"hovertemplate\": \"age=%{x}<br>survived=%{y}<extra></extra>\", \"legendgroup\": \"\", \"marker\": {\"color\": \"#636efa\", \"symbol\": \"circle\"}, \"mode\": \"markers\", \"name\": \"\", \"orientation\": \"h\", \"showlegend\": false, \"type\": \"scatter\", \"x\": [22.0, 38.0, 26.0, 35.0, 35.0, null, 54.0, 2.0, 27.0, 14.0, 4.0, 58.0, 20.0, 39.0, 14.0, 55.0, 2.0, null, 31.0, null, 35.0, 34.0, 15.0, 28.0, 8.0, 38.0, null, 19.0, null, null, 40.0, null, null, 66.0, 28.0, 42.0, null, 21.0, 18.0, 14.0, 40.0, 27.0, null, 3.0, 19.0, null, null, null, null, 18.0, 7.0, 21.0, 49.0, 29.0, 65.0, null, 21.0, 28.5, 5.0, 11.0, 22.0, 38.0, 45.0, 4.0, null, null, 29.0, 19.0, 17.0, 26.0, 32.0, 16.0, 21.0, 26.0, 32.0, 25.0, null, null, 0.83, 30.0, 22.0, 29.0, null, 28.0, 17.0, 33.0, 16.0, null, 23.0, 24.0, 29.0, 20.0, 46.0, 26.0, 59.0, null, 71.0, 23.0, 34.0, 34.0, 28.0, null, 21.0, 33.0, 37.0, 28.0, 21.0, null, 38.0, null, 47.0, 14.5, 22.0, 20.0, 17.0, 21.0, 70.5, 29.0, 24.0, 2.0, 21.0, null, 32.5, 32.5, 54.0, 12.0, null, 24.0, null, 45.0, 33.0, 20.0, 47.0, 29.0, 25.0, 23.0, 19.0, 37.0, 16.0, 24.0, null, 22.0, 24.0, 19.0, 18.0, 19.0, 27.0, 9.0, 36.5, 42.0, 51.0, 22.0, 55.5, 40.5, null, 51.0, 16.0, 30.0, null, null, 44.0, 40.0, 26.0, 17.0, 1.0, 9.0, null, 45.0, null, 28.0, 61.0, 4.0, 1.0, 21.0, 56.0, 18.0, null, 50.0, 30.0, 36.0, null, null, 9.0, 1.0, 4.0, null, null, 45.0, 40.0, 36.0, 32.0, 19.0, 19.0, 3.0, 44.0, 58.0, null, 42.0, null, 24.0, 28.0, null, 34.0, 45.5, 18.0, 2.0, 32.0, 26.0, 16.0, 40.0, 24.0, 35.0, 22.0, 30.0, null, 31.0, 27.0, 42.0, 32.0, 30.0, 16.0, 27.0, 51.0, null, 38.0, 22.0, 19.0, 20.5, 18.0, null, 35.0, 29.0, 59.0, 5.0, 24.0, null, 44.0, 8.0, 19.0, 33.0, null, null, 29.0, 22.0, 30.0, 44.0, 25.0, 24.0, 37.0, 54.0, null, 29.0, 62.0, 30.0, 41.0, 29.0, null, 30.0, 35.0, 50.0, null, 3.0, 52.0, 40.0, null, 36.0, 16.0, 25.0, 58.0, 35.0, null, 25.0, 41.0, 37.0, null, 63.0, 45.0, null, 7.0, 35.0, 65.0, 28.0, 16.0, 19.0, null, 33.0, 30.0, 22.0, 42.0, 22.0, 26.0, 19.0, 36.0, 24.0, 24.0, null, 23.5, 2.0, null, 50.0, null, null, 19.0, null, null, 0.92, null, 17.0, 30.0, 30.0, 24.0, 18.0, 26.0, 28.0, 43.0, 26.0, 24.0, 54.0, 31.0, 40.0, 22.0, 27.0, 30.0, 22.0, null, 36.0, 61.0, 36.0, 31.0, 16.0, null, 45.5, 38.0, 16.0, null, null, 29.0, 41.0, 45.0, 45.0, 2.0, 24.0, 28.0, 25.0, 36.0, 24.0, 40.0, null, 3.0, 42.0, 23.0, null, 15.0, 25.0, null, 28.0, 22.0, 38.0, null, null, 40.0, 29.0, 45.0, 35.0, null, 30.0, 60.0, null, null, 24.0, 25.0, 18.0, 19.0, 22.0, 3.0, null, 22.0, 27.0, 20.0, 19.0, 42.0, 1.0, 32.0, 35.0, null, 18.0, 1.0, 36.0, null, 17.0, 36.0, 21.0, 28.0, 23.0, 24.0, 22.0, 31.0, 46.0, 23.0, 28.0, 39.0, 26.0, 21.0, 28.0, 20.0, 34.0, 51.0, 3.0, 21.0, null, null, null, 33.0, null, 44.0, null, 34.0, 18.0, 30.0, 10.0, null, 21.0, 29.0, 28.0, 18.0, null, 28.0, 19.0, null, 32.0, 28.0, null, 42.0, 17.0, 50.0, 14.0, 21.0, 24.0, 64.0, 31.0, 45.0, 20.0, 25.0, 28.0, null, 4.0, 13.0, 34.0, 5.0, 52.0, 36.0, null, 30.0, 49.0, null, 29.0, 65.0, null, 50.0, null, 48.0, 34.0, 47.0, 48.0, null, 38.0, null, 56.0, null, 0.75, null, 38.0, 33.0, 23.0, 22.0, null, 34.0, 29.0, 22.0, 2.0, 9.0, null, 50.0, 63.0, 25.0, null, 35.0, 58.0, 30.0, 9.0, null, 21.0, 55.0, 71.0, 21.0, null, 54.0, null, 25.0, 24.0, 17.0, 21.0, null, 37.0, 16.0, 18.0, 33.0, null, 28.0, 26.0, 29.0, null, 36.0, 54.0, 24.0, 47.0, 34.0, null, 36.0, 32.0, 30.0, 22.0, null, 44.0, null, 40.5, 50.0, null, 39.0, 23.0, 2.0, null, 17.0, null, 30.0, 7.0, 45.0, 30.0, null, 22.0, 36.0, 9.0, 11.0, 32.0, 50.0, 64.0, 19.0, null, 33.0, 8.0, 17.0, 27.0, null, 22.0, 22.0, 62.0, 48.0, null, 39.0, 36.0, null, 40.0, 28.0, null, null, 24.0, 19.0, 29.0, null, 32.0, 62.0, 53.0, 36.0, null, 16.0, 19.0, 34.0, 39.0, null, 32.0, 25.0, 39.0, 54.0, 36.0, null, 18.0, 47.0, 60.0, 22.0, null, 35.0, 52.0, 47.0, null, 37.0, 36.0, null, 49.0, null, 49.0, 24.0, null, null, 44.0, 35.0, 36.0, 30.0, 27.0, 22.0, 40.0, 39.0, null, null, null, 35.0, 24.0, 34.0, 26.0, 4.0, 26.0, 27.0, 42.0, 20.0, 21.0, 21.0, 61.0, 57.0, 21.0, 26.0, null, 80.0, 51.0, 32.0, null, 9.0, 28.0, 32.0, 31.0, 41.0, null, 20.0, 24.0, 2.0, null, 0.75, 48.0, 19.0, 56.0, null, 23.0, null, 18.0, 21.0, null, 18.0, 24.0, null, 32.0, 23.0, 58.0, 50.0, 40.0, 47.0, 36.0, 20.0, 32.0, 25.0, null, 43.0, null, 40.0, 31.0, 70.0, 31.0, null, 18.0, 24.5, 18.0, 43.0, 36.0, null, 27.0, 20.0, 14.0, 60.0, 25.0, 14.0, 19.0, 18.0, 15.0, 31.0, 4.0, null, 25.0, 60.0, 52.0, 44.0, null, 49.0, 42.0, 18.0, 35.0, 18.0, 25.0, 26.0, 39.0, 45.0, 42.0, 22.0, null, 24.0, null, 48.0, 29.0, 52.0, 19.0, 38.0, 27.0, null, 33.0, 6.0, 17.0, 34.0, 50.0, 27.0, 20.0, 30.0, null, 25.0, 25.0, 29.0, 11.0, null, 23.0, 23.0, 28.5, 48.0, 35.0, null, null, null, 36.0, 21.0, 24.0, 31.0, 70.0, 16.0, 30.0, 19.0, 31.0, 4.0, 6.0, 33.0, 23.0, 48.0, 0.67, 28.0, 18.0, 34.0, 33.0, null, 41.0, 20.0, 36.0, 16.0, 51.0, null, 30.5, null, 32.0, 24.0, 48.0, 57.0, null, 54.0, 18.0, null, 5.0, null, 43.0, 13.0, 17.0, 29.0, null, 25.0, 25.0, 18.0, 8.0, 1.0, 46.0, null, 16.0, null, null, 25.0, 39.0, 49.0, 31.0, 30.0, 30.0, 34.0, 31.0, 11.0, 0.42, 27.0, 31.0, 39.0, 18.0, 39.0, 33.0, 26.0, 39.0, 35.0, 6.0, 30.5, null, 23.0, 31.0, 43.0, 10.0, 52.0, 27.0, 38.0, 27.0, 2.0, null, null, 1.0, null, 62.0, 15.0, 0.83, null, 23.0, 18.0, 39.0, 21.0, null, 32.0, null, 20.0, 16.0, 30.0, 34.5, 17.0, 42.0, null, 35.0, 28.0, null, 4.0, 74.0, 9.0, 16.0, 44.0, 18.0, 45.0, 51.0, 24.0, null, 41.0, 21.0, 48.0, null, 24.0, 42.0, 27.0, 31.0, null, 4.0, 26.0, 47.0, 33.0, 47.0, 28.0, 15.0, 20.0, 19.0, null, 56.0, 25.0, 33.0, 22.0, 28.0, 25.0, 39.0, 27.0, 19.0, null, 26.0, 32.0], \"xaxis\": \"x\", \"y\": [false, true, true, true, false, false, false, false, true, true, true, true, false, false, false, true, false, true, false, true, false, true, true, true, false, true, false, false, true, false, false, true, true, false, false, false, true, false, false, true, false, false, false, true, true, false, false, true, false, false, false, false, true, true, false, true, true, false, true, false, false, true, false, false, false, true, true, false, true, false, false, false, false, false, true, false, false, false, true, true, false, true, true, false, true, true, false, false, true, false, false, false, false, false, false, false, false, true, true, false, false, false, false, false, false, false, true, true, false, true, false, false, false, false, false, false, false, false, false, false, false, false, false, true, false, true, false, true, true, false, false, false, false, true, false, false, true, false, false, false, false, true, true, false, false, false, true, false, false, false, false, true, false, false, false, false, true, false, false, false, false, true, false, false, false, true, true, false, false, false, false, false, true, false, false, false, false, false, false, false, false, false, false, true, true, false, true, true, false, false, true, false, true, true, true, true, false, false, true, false, false, false, false, false, true, false, false, true, true, true, false, true, false, false, false, true, true, false, true, false, true, false, false, false, true, false, true, false, false, false, true, false, false, true, false, false, false, true, false, false, false, true, false, false, false, false, false, true, true, false, false, false, false, false, false, true, true, true, true, true, false, true, false, false, false, false, false, true, true, true, false, true, true, false, true, true, false, false, false, true, false, false, false, true, false, false, true, false, true, true, true, true, false, false, false, false, false, false, true, true, true, true, false, true, false, true, true, true, false, true, true, true, false, false, false, true, true, false, true, true, false, false, true, true, false, true, false, true, true, true, true, false, false, false, true, false, false, true, true, false, true, true, false, false, false, true, true, true, true, false, false, false, false, false, false, false, true, false, true, true, false, false, false, false, false, false, true, true, true, true, true, false, false, false, false, true, true, false, false, false, true, true, false, true, false, false, false, true, false, true, true, true, false, true, true, false, false, false, false, true, true, false, false, false, false, false, false, true, false, false, false, false, true, false, true, false, true, true, false, false, false, false, false, false, false, false, true, true, false, true, true, true, true, false, false, true, false, true, false, false, true, false, false, true, true, true, true, true, true, true, false, false, false, true, false, true, false, true, true, false, true, false, false, false, false, false, false, false, false, true, false, false, true, true, false, false, false, false, false, true, false, false, false, true, true, false, true, false, false, true, false, false, false, false, false, false, true, false, false, false, false, false, false, false, true, false, true, true, false, true, true, false, true, true, false, false, true, false, true, false, true, false, false, true, false, false, true, false, false, false, true, false, false, true, false, true, false, true, false, true, true, false, false, true, false, false, true, true, false, true, true, false, false, true, true, false, true, false, true, true, false, false, false, false, false, false, false, false, false, true, true, true, true, true, false, false, true, true, false, true, true, true, false, false, false, true, false, true, false, false, false, true, false, false, false, false, true, false, false, true, true, false, false, false, true, false, false, true, true, true, false, false, true, false, false, true, false, false, true, false, false, true, true, false, false, false, false, true, false, false, true, false, true, false, false, true, false, false, false, false, false, true, false, true, true, true, false, true, false, true, false, true, false, true, false, false, false, false, false, false, true, false, false, false, true, false, false, false, false, true, true, false, false, true, false, false, false, true, false, true, false, true, false, false, false, false, false, false, false, true, true, true, true, false, false, false, false, true, false, false, true, true, false, false, false, false, true, true, true, true, true, false, true, false, false, false, true, true, false, false, true, false, false, false, true, false, true, true, false, false, true, false, false, false, false, false, false, true, false, false, true, false, true, false, true, false, false, true, false, false, true, true, false, false, true, true, false, false, false, true, false, false, true, true, false, true, false, false, false, false, false, false, false, false, true, false, false, true, false, true, true, true, false, false, false, false, true, false, true, false, false, false, false, false, false, false, true, true, false, false, false, true, true, true, true, false, false, false, false, true, false, false, false, false, false, false, false, false, false, false, true, true, false, true, false, false, false, true, true, true, true, true, false, false, false, true, false, false, true, true, false, false, true, false, false, false, false, false, false, true, false, false, false, true, false, true, true, true, true, false, false, false, true, false, false, true, true, false, false, true, false, true, false, false, true, true, false, false, false, true, true, false, false, false, false, false, false, true, false, true, false], \"yaxis\": \"y\"}],                        {\"height\": 250, \"legend\": {\"tracegroupgap\": 0}, \"margin\": {\"t\": 60}, \"template\": {\"data\": {\"bar\": [{\"error_x\": {\"color\": \"#2a3f5f\"}, \"error_y\": {\"color\": \"#2a3f5f\"}, \"marker\": {\"line\": {\"color\": \"#E5ECF6\", \"width\": 0.5}}, \"type\": \"bar\"}], \"barpolar\": [{\"marker\": {\"line\": {\"color\": \"#E5ECF6\", \"width\": 0.5}}, \"type\": \"barpolar\"}], \"carpet\": [{\"aaxis\": {\"endlinecolor\": \"#2a3f5f\", \"gridcolor\": \"white\", \"linecolor\": \"white\", \"minorgridcolor\": \"white\", \"startlinecolor\": \"#2a3f5f\"}, \"baxis\": {\"endlinecolor\": \"#2a3f5f\", \"gridcolor\": \"white\", \"linecolor\": \"white\", \"minorgridcolor\": \"white\", \"startlinecolor\": \"#2a3f5f\"}, \"type\": \"carpet\"}], \"choropleth\": [{\"colorbar\": {\"outlinewidth\": 0, \"ticks\": \"\"}, \"type\": \"choropleth\"}], \"contour\": [{\"colorbar\": {\"outlinewidth\": 0, \"ticks\": \"\"}, \"colorscale\": [[0.0, \"#0d0887\"], [0.1111111111111111, \"#46039f\"], [0.2222222222222222, \"#7201a8\"], [0.3333333333333333, \"#9c179e\"], [0.4444444444444444, \"#bd3786\"], [0.5555555555555556, \"#d8576b\"], [0.6666666666666666, \"#ed7953\"], [0.7777777777777778, \"#fb9f3a\"], [0.8888888888888888, \"#fdca26\"], [1.0, \"#f0f921\"]], \"type\": \"contour\"}], \"contourcarpet\": [{\"colorbar\": {\"outlinewidth\": 0, \"ticks\": \"\"}, \"type\": \"contourcarpet\"}], \"heatmap\": [{\"colorbar\": {\"outlinewidth\": 0, \"ticks\": \"\"}, \"colorscale\": [[0.0, \"#0d0887\"], [0.1111111111111111, \"#46039f\"], [0.2222222222222222, \"#7201a8\"], [0.3333333333333333, \"#9c179e\"], [0.4444444444444444, \"#bd3786\"], [0.5555555555555556, \"#d8576b\"], [0.6666666666666666, \"#ed7953\"], [0.7777777777777778, \"#fb9f3a\"], [0.8888888888888888, \"#fdca26\"], [1.0, \"#f0f921\"]], \"type\": \"heatmap\"}], \"heatmapgl\": [{\"colorbar\": {\"outlinewidth\": 0, \"ticks\": \"\"}, \"colorscale\": [[0.0, \"#0d0887\"], [0.1111111111111111, \"#46039f\"], [0.2222222222222222, \"#7201a8\"], [0.3333333333333333, \"#9c179e\"], [0.4444444444444444, \"#bd3786\"], [0.5555555555555556, \"#d8576b\"], [0.6666666666666666, \"#ed7953\"], [0.7777777777777778, \"#fb9f3a\"], [0.8888888888888888, \"#fdca26\"], [1.0, \"#f0f921\"]], \"type\": \"heatmapgl\"}], \"histogram\": [{\"marker\": {\"colorbar\": {\"outlinewidth\": 0, \"ticks\": \"\"}}, \"type\": \"histogram\"}], \"histogram2d\": [{\"colorbar\": {\"outlinewidth\": 0, \"ticks\": \"\"}, \"colorscale\": [[0.0, \"#0d0887\"], [0.1111111111111111, \"#46039f\"], [0.2222222222222222, \"#7201a8\"], [0.3333333333333333, \"#9c179e\"], [0.4444444444444444, \"#bd3786\"], [0.5555555555555556, \"#d8576b\"], [0.6666666666666666, \"#ed7953\"], [0.7777777777777778, \"#fb9f3a\"], [0.8888888888888888, \"#fdca26\"], [1.0, \"#f0f921\"]], \"type\": \"histogram2d\"}], \"histogram2dcontour\": [{\"colorbar\": {\"outlinewidth\": 0, \"ticks\": \"\"}, \"colorscale\": [[0.0, \"#0d0887\"], [0.1111111111111111, \"#46039f\"], [0.2222222222222222, \"#7201a8\"], [0.3333333333333333, \"#9c179e\"], [0.4444444444444444, \"#bd3786\"], [0.5555555555555556, \"#d8576b\"], [0.6666666666666666, \"#ed7953\"], [0.7777777777777778, \"#fb9f3a\"], [0.8888888888888888, \"#fdca26\"], [1.0, \"#f0f921\"]], \"type\": \"histogram2dcontour\"}], \"mesh3d\": [{\"colorbar\": {\"outlinewidth\": 0, \"ticks\": \"\"}, \"type\": \"mesh3d\"}], \"parcoords\": [{\"line\": {\"colorbar\": {\"outlinewidth\": 0, \"ticks\": \"\"}}, \"type\": \"parcoords\"}], \"pie\": [{\"automargin\": true, \"type\": \"pie\"}], \"scatter\": [{\"marker\": {\"colorbar\": {\"outlinewidth\": 0, \"ticks\": \"\"}}, \"type\": \"scatter\"}], \"scatter3d\": [{\"line\": {\"colorbar\": {\"outlinewidth\": 0, \"ticks\": \"\"}}, \"marker\": {\"colorbar\": {\"outlinewidth\": 0, \"ticks\": \"\"}}, \"type\": \"scatter3d\"}], \"scattercarpet\": [{\"marker\": {\"colorbar\": {\"outlinewidth\": 0, \"ticks\": \"\"}}, \"type\": \"scattercarpet\"}], \"scattergeo\": [{\"marker\": {\"colorbar\": {\"outlinewidth\": 0, \"ticks\": \"\"}}, \"type\": \"scattergeo\"}], \"scattergl\": [{\"marker\": {\"colorbar\": {\"outlinewidth\": 0, \"ticks\": \"\"}}, \"type\": \"scattergl\"}], \"scattermapbox\": [{\"marker\": {\"colorbar\": {\"outlinewidth\": 0, \"ticks\": \"\"}}, \"type\": \"scattermapbox\"}], \"scatterpolar\": [{\"marker\": {\"colorbar\": {\"outlinewidth\": 0, \"ticks\": \"\"}}, \"type\": \"scatterpolar\"}], \"scatterpolargl\": [{\"marker\": {\"colorbar\": {\"outlinewidth\": 0, \"ticks\": \"\"}}, \"type\": \"scatterpolargl\"}], \"scatterternary\": [{\"marker\": {\"colorbar\": {\"outlinewidth\": 0, \"ticks\": \"\"}}, \"type\": \"scatterternary\"}], \"surface\": [{\"colorbar\": {\"outlinewidth\": 0, \"ticks\": \"\"}, \"colorscale\": [[0.0, \"#0d0887\"], [0.1111111111111111, \"#46039f\"], [0.2222222222222222, \"#7201a8\"], [0.3333333333333333, \"#9c179e\"], [0.4444444444444444, \"#bd3786\"], [0.5555555555555556, \"#d8576b\"], [0.6666666666666666, \"#ed7953\"], [0.7777777777777778, \"#fb9f3a\"], [0.8888888888888888, \"#fdca26\"], [1.0, \"#f0f921\"]], \"type\": \"surface\"}], \"table\": [{\"cells\": {\"fill\": {\"color\": \"#EBF0F8\"}, \"line\": {\"color\": \"white\"}}, \"header\": {\"fill\": {\"color\": \"#C8D4E3\"}, \"line\": {\"color\": \"white\"}}, \"type\": \"table\"}]}, \"layout\": {\"annotationdefaults\": {\"arrowcolor\": \"#2a3f5f\", \"arrowhead\": 0, \"arrowwidth\": 1}, \"coloraxis\": {\"colorbar\": {\"outlinewidth\": 0, \"ticks\": \"\"}}, \"colorscale\": {\"diverging\": [[0, \"#8e0152\"], [0.1, \"#c51b7d\"], [0.2, \"#de77ae\"], [0.3, \"#f1b6da\"], [0.4, \"#fde0ef\"], [0.5, \"#f7f7f7\"], [0.6, \"#e6f5d0\"], [0.7, \"#b8e186\"], [0.8, \"#7fbc41\"], [0.9, \"#4d9221\"], [1, \"#276419\"]], \"sequential\": [[0.0, \"#0d0887\"], [0.1111111111111111, \"#46039f\"], [0.2222222222222222, \"#7201a8\"], [0.3333333333333333, \"#9c179e\"], [0.4444444444444444, \"#bd3786\"], [0.5555555555555556, \"#d8576b\"], [0.6666666666666666, \"#ed7953\"], [0.7777777777777778, \"#fb9f3a\"], [0.8888888888888888, \"#fdca26\"], [1.0, \"#f0f921\"]], \"sequentialminus\": [[0.0, \"#0d0887\"], [0.1111111111111111, \"#46039f\"], [0.2222222222222222, \"#7201a8\"], [0.3333333333333333, \"#9c179e\"], [0.4444444444444444, \"#bd3786\"], [0.5555555555555556, \"#d8576b\"], [0.6666666666666666, \"#ed7953\"], [0.7777777777777778, \"#fb9f3a\"], [0.8888888888888888, \"#fdca26\"], [1.0, \"#f0f921\"]]}, \"colorway\": [\"#636efa\", \"#EF553B\", \"#00cc96\", \"#ab63fa\", \"#FFA15A\", \"#19d3f3\", \"#FF6692\", \"#B6E880\", \"#FF97FF\", \"#FECB52\"], \"font\": {\"color\": \"#2a3f5f\"}, \"geo\": {\"bgcolor\": \"white\", \"lakecolor\": \"white\", \"landcolor\": \"#E5ECF6\", \"showlakes\": true, \"showland\": true, \"subunitcolor\": \"white\"}, \"hoverlabel\": {\"align\": \"left\"}, \"hovermode\": \"closest\", \"mapbox\": {\"style\": \"light\"}, \"paper_bgcolor\": \"white\", \"plot_bgcolor\": \"#E5ECF6\", \"polar\": {\"angularaxis\": {\"gridcolor\": \"white\", \"linecolor\": \"white\", \"ticks\": \"\"}, \"bgcolor\": \"#E5ECF6\", \"radialaxis\": {\"gridcolor\": \"white\", \"linecolor\": \"white\", \"ticks\": \"\"}}, \"scene\": {\"xaxis\": {\"backgroundcolor\": \"#E5ECF6\", \"gridcolor\": \"white\", \"gridwidth\": 2, \"linecolor\": \"white\", \"showbackground\": true, \"ticks\": \"\", \"zerolinecolor\": \"white\"}, \"yaxis\": {\"backgroundcolor\": \"#E5ECF6\", \"gridcolor\": \"white\", \"gridwidth\": 2, \"linecolor\": \"white\", \"showbackground\": true, \"ticks\": \"\", \"zerolinecolor\": \"white\"}, \"zaxis\": {\"backgroundcolor\": \"#E5ECF6\", \"gridcolor\": \"white\", \"gridwidth\": 2, \"linecolor\": \"white\", \"showbackground\": true, \"ticks\": \"\", \"zerolinecolor\": \"white\"}}, \"shapedefaults\": {\"line\": {\"color\": \"#2a3f5f\"}}, \"ternary\": {\"aaxis\": {\"gridcolor\": \"white\", \"linecolor\": \"white\", \"ticks\": \"\"}, \"baxis\": {\"gridcolor\": \"white\", \"linecolor\": \"white\", \"ticks\": \"\"}, \"bgcolor\": \"#E5ECF6\", \"caxis\": {\"gridcolor\": \"white\", \"linecolor\": \"white\", \"ticks\": \"\"}}, \"title\": {\"x\": 0.05}, \"xaxis\": {\"automargin\": true, \"gridcolor\": \"white\", \"linecolor\": \"white\", \"ticks\": \"\", \"title\": {\"standoff\": 15}, \"zerolinecolor\": \"white\", \"zerolinewidth\": 2}, \"yaxis\": {\"automargin\": true, \"gridcolor\": \"white\", \"linecolor\": \"white\", \"ticks\": \"\", \"title\": {\"standoff\": 15}, \"zerolinecolor\": \"white\", \"zerolinewidth\": 2}}}, \"xaxis\": {\"anchor\": \"y\", \"domain\": [0.0, 1.0], \"title\": {\"text\": \"age\"}}, \"yaxis\": {\"anchor\": \"x\", \"domain\": [0.0, 1.0], \"title\": {\"text\": \"survived\"}}},                        {\"responsive\": true}                    ).then(function(){\n",
       "                            \n",
       "var gd = document.getElementById('427f1216-0340-4358-b157-257bcdde57ed');\n",
       "var x = new MutationObserver(function (mutations, observer) {{\n",
       "        var display = window.getComputedStyle(gd).display;\n",
       "        if (!display || display === 'none') {{\n",
       "            console.log([gd, 'removed!']);\n",
       "            Plotly.purge(gd);\n",
       "            observer.disconnect();\n",
       "        }}\n",
       "}});\n",
       "\n",
       "// Listen for the removal of the full notebook cells\n",
       "var notebookContainer = gd.closest('#notebook-container');\n",
       "if (notebookContainer) {{\n",
       "    x.observe(notebookContainer, {childList: true});\n",
       "}}\n",
       "\n",
       "// Listen for the clearing of the current output cell\n",
       "var outputEl = gd.closest('.output');\n",
       "if (outputEl) {{\n",
       "    x.observe(outputEl, {childList: true});\n",
       "}}\n",
       "\n",
       "                        })                };                });            </script>        </div>"
      ]
     },
     "metadata": {},
     "output_type": "display_data"
    }
   ],
   "source": [
    "px.scatter(ti, x='age', y='survived', height=250)"
   ]
  },
  {
   "cell_type": "markdown",
   "metadata": {},
   "source": [
    "The `color=` *column* changes the color of the points, essentially a groupby..."
   ]
  },
  {
   "cell_type": "code",
   "execution_count": 55,
   "metadata": {},
   "outputs": [
    {
     "data": {
      "application/vnd.plotly.v1+json": {
       "config": {
        "plotlyServerURL": "https://plot.ly"
       },
       "data": [
        {
         "hovertemplate": "sex=male<br>age=%{x}<br>survived=%{y}<extra></extra>",
         "legendgroup": "male",
         "marker": {
          "color": "#636efa",
          "symbol": "circle"
         },
         "mode": "markers",
         "name": "male",
         "orientation": "h",
         "showlegend": true,
         "type": "scatter",
         "x": [
          22,
          35,
          null,
          54,
          2,
          20,
          39,
          2,
          null,
          35,
          34,
          28,
          null,
          19,
          null,
          40,
          66,
          28,
          42,
          null,
          21,
          null,
          null,
          null,
          null,
          7,
          21,
          65,
          null,
          28.5,
          11,
          22,
          45,
          4,
          null,
          null,
          19,
          26,
          32,
          21,
          26,
          32,
          25,
          null,
          null,
          0.83,
          22,
          29,
          28,
          16,
          null,
          24,
          29,
          20,
          46,
          26,
          59,
          null,
          71,
          23,
          34,
          null,
          21,
          33,
          37,
          28,
          null,
          38,
          47,
          22,
          21,
          70.5,
          29,
          24,
          21,
          null,
          32.5,
          54,
          12,
          null,
          24,
          45,
          33,
          20,
          25,
          23,
          37,
          16,
          24,
          19,
          18,
          19,
          27,
          36.5,
          42,
          51,
          55.5,
          40.5,
          null,
          51,
          30,
          null,
          null,
          44,
          26,
          17,
          1,
          9,
          null,
          28,
          61,
          4,
          21,
          56,
          18,
          null,
          30,
          36,
          null,
          9,
          1,
          null,
          45,
          40,
          36,
          19,
          3,
          null,
          42,
          28,
          null,
          34,
          45.5,
          18,
          32,
          26,
          40,
          24,
          22,
          30,
          null,
          42,
          30,
          16,
          27,
          51,
          null,
          38,
          22,
          19,
          20.5,
          18,
          29,
          59,
          24,
          44,
          19,
          33,
          29,
          22,
          30,
          44,
          37,
          54,
          null,
          62,
          30,
          null,
          3,
          52,
          40,
          36,
          16,
          25,
          null,
          25,
          37,
          null,
          7,
          65,
          28,
          16,
          19,
          null,
          33,
          30,
          22,
          42,
          36,
          24,
          null,
          23.5,
          null,
          null,
          19,
          null,
          0.92,
          30,
          28,
          43,
          54,
          22,
          27,
          null,
          61,
          45.5,
          38,
          16,
          null,
          29,
          45,
          45,
          2,
          28,
          25,
          36,
          3,
          42,
          23,
          null,
          15,
          25,
          null,
          28,
          40,
          29,
          35,
          null,
          30,
          25,
          18,
          19,
          22,
          27,
          20,
          19,
          32,
          null,
          18,
          1,
          null,
          36,
          21,
          28,
          22,
          46,
          23,
          39,
          26,
          28,
          34,
          51,
          3,
          21,
          null,
          null,
          null,
          44,
          30,
          null,
          21,
          29,
          18,
          null,
          null,
          32,
          28,
          17,
          50,
          64,
          31,
          20,
          25,
          null,
          4,
          34,
          52,
          36,
          null,
          30,
          49,
          null,
          29,
          65,
          null,
          48,
          34,
          47,
          48,
          null,
          38,
          null,
          56,
          null,
          null,
          38,
          null,
          34,
          29,
          22,
          9,
          null,
          50,
          25,
          58,
          30,
          9,
          null,
          21,
          55,
          71,
          21,
          null,
          null,
          24,
          17,
          18,
          null,
          28,
          26,
          29,
          null,
          36,
          24,
          47,
          null,
          32,
          22,
          null,
          null,
          40.5,
          null,
          39,
          23,
          null,
          17,
          45,
          null,
          32,
          50,
          64,
          null,
          33,
          8,
          17,
          27,
          null,
          22,
          62,
          null,
          null,
          40,
          28,
          null,
          24,
          19,
          null,
          32,
          62,
          36,
          16,
          19,
          32,
          54,
          36,
          null,
          47,
          60,
          22,
          null,
          35,
          47,
          37,
          36,
          49,
          null,
          49,
          null,
          null,
          44,
          35,
          36,
          30,
          27,
          null,
          null,
          35,
          34,
          26,
          27,
          42,
          20,
          21,
          21,
          61,
          57,
          26,
          null,
          80,
          51,
          32,
          null,
          32,
          31,
          null,
          20,
          null,
          48,
          19,
          56,
          null,
          null,
          21,
          24,
          null,
          23,
          58,
          50,
          40,
          47,
          36,
          20,
          32,
          25,
          null,
          43,
          31,
          70,
          31,
          null,
          18,
          24.5,
          36,
          27,
          20,
          14,
          60,
          25,
          14,
          19,
          18,
          31,
          null,
          25,
          60,
          52,
          44,
          49,
          42,
          35,
          25,
          26,
          39,
          42,
          null,
          null,
          48,
          29,
          52,
          19,
          null,
          33,
          17,
          34,
          50,
          27,
          20,
          25,
          11,
          null,
          23,
          23,
          28.5,
          35,
          null,
          null,
          null,
          36,
          24,
          31,
          70,
          16,
          19,
          31,
          6,
          33,
          23,
          0.67,
          28,
          18,
          34,
          null,
          41,
          20,
          16,
          null,
          null,
          32,
          24,
          48,
          null,
          18,
          null,
          null,
          29,
          null,
          25,
          25,
          8,
          1,
          46,
          null,
          16,
          null,
          25,
          39,
          30,
          34,
          11,
          0.42,
          27,
          31,
          39,
          39,
          26,
          39,
          35,
          30.5,
          null,
          31,
          43,
          10,
          27,
          38,
          2,
          null,
          null,
          1,
          null,
          0.83,
          null,
          23,
          18,
          21,
          null,
          32,
          null,
          20,
          16,
          34.5,
          17,
          42,
          null,
          35,
          28,
          4,
          74,
          51,
          null,
          41,
          21,
          24,
          31,
          null,
          4,
          26,
          33,
          47,
          20,
          19,
          null,
          33,
          28,
          25,
          27,
          26,
          32
         ],
         "xaxis": "x",
         "y": [
          false,
          false,
          false,
          false,
          false,
          false,
          false,
          false,
          true,
          false,
          true,
          true,
          false,
          false,
          false,
          false,
          false,
          false,
          false,
          true,
          false,
          false,
          false,
          false,
          false,
          false,
          false,
          false,
          true,
          false,
          false,
          false,
          false,
          false,
          false,
          true,
          false,
          false,
          false,
          false,
          false,
          true,
          false,
          false,
          false,
          true,
          false,
          true,
          false,
          false,
          false,
          false,
          false,
          false,
          false,
          false,
          false,
          false,
          false,
          true,
          false,
          false,
          false,
          false,
          false,
          false,
          true,
          false,
          false,
          false,
          false,
          false,
          false,
          false,
          false,
          false,
          false,
          false,
          true,
          false,
          true,
          false,
          false,
          false,
          false,
          false,
          false,
          false,
          false,
          false,
          false,
          false,
          true,
          false,
          false,
          false,
          false,
          false,
          false,
          false,
          false,
          false,
          false,
          false,
          false,
          false,
          false,
          true,
          false,
          false,
          false,
          false,
          false,
          false,
          false,
          false,
          false,
          false,
          false,
          false,
          true,
          false,
          true,
          false,
          false,
          false,
          true,
          false,
          false,
          false,
          false,
          false,
          false,
          true,
          false,
          true,
          true,
          false,
          false,
          false,
          false,
          false,
          false,
          true,
          false,
          false,
          false,
          true,
          false,
          true,
          false,
          false,
          false,
          false,
          false,
          false,
          false,
          false,
          false,
          false,
          false,
          false,
          true,
          false,
          false,
          false,
          false,
          false,
          true,
          false,
          false,
          false,
          false,
          true,
          false,
          true,
          false,
          false,
          false,
          false,
          false,
          false,
          true,
          false,
          false,
          true,
          false,
          true,
          false,
          false,
          false,
          false,
          true,
          true,
          false,
          false,
          true,
          false,
          false,
          false,
          false,
          false,
          false,
          false,
          false,
          false,
          false,
          false,
          false,
          false,
          true,
          false,
          true,
          false,
          false,
          false,
          true,
          false,
          false,
          false,
          false,
          false,
          false,
          false,
          false,
          false,
          false,
          false,
          false,
          true,
          false,
          false,
          false,
          false,
          false,
          false,
          false,
          false,
          false,
          false,
          false,
          true,
          true,
          false,
          false,
          false,
          false,
          true,
          false,
          false,
          false,
          false,
          true,
          false,
          false,
          false,
          false,
          true,
          false,
          false,
          false,
          false,
          false,
          false,
          false,
          true,
          true,
          false,
          false,
          false,
          false,
          false,
          false,
          true,
          true,
          true,
          true,
          false,
          false,
          false,
          true,
          false,
          true,
          false,
          false,
          true,
          false,
          false,
          false,
          false,
          false,
          false,
          false,
          false,
          false,
          false,
          false,
          false,
          false,
          false,
          false,
          false,
          false,
          true,
          false,
          false,
          true,
          false,
          false,
          false,
          false,
          false,
          false,
          false,
          false,
          false,
          false,
          true,
          false,
          true,
          true,
          false,
          true,
          false,
          false,
          false,
          false,
          false,
          false,
          false,
          false,
          false,
          false,
          false,
          false,
          false,
          false,
          false,
          true,
          false,
          false,
          true,
          false,
          true,
          true,
          false,
          false,
          true,
          false,
          false,
          false,
          false,
          false,
          false,
          false,
          false,
          false,
          true,
          true,
          true,
          false,
          false,
          true,
          false,
          false,
          false,
          false,
          true,
          false,
          false,
          false,
          false,
          false,
          false,
          false,
          false,
          true,
          false,
          false,
          false,
          true,
          false,
          false,
          true,
          false,
          false,
          false,
          false,
          false,
          false,
          true,
          true,
          false,
          false,
          false,
          false,
          false,
          false,
          true,
          false,
          true,
          false,
          false,
          false,
          false,
          false,
          true,
          true,
          false,
          true,
          false,
          false,
          false,
          false,
          false,
          false,
          false,
          true,
          false,
          false,
          false,
          true,
          false,
          false,
          false,
          false,
          false,
          false,
          true,
          false,
          false,
          false,
          true,
          true,
          false,
          false,
          false,
          false,
          false,
          false,
          false,
          true,
          true,
          false,
          false,
          false,
          false,
          false,
          false,
          true,
          false,
          false,
          false,
          true,
          true,
          false,
          true,
          false,
          false,
          false,
          false,
          false,
          false,
          false,
          false,
          true,
          false,
          false,
          false,
          false,
          false,
          false,
          false,
          true,
          false,
          false,
          true,
          false,
          false,
          true,
          false,
          false,
          false,
          false,
          true,
          false,
          false,
          true,
          false,
          false,
          false,
          false,
          false,
          true,
          false,
          false,
          false,
          false,
          false,
          false,
          false,
          false,
          false,
          false,
          false,
          false,
          false,
          false,
          false,
          true,
          false,
          false,
          false,
          false,
          false,
          false,
          false,
          false,
          true,
          true,
          true,
          false,
          false,
          false,
          false,
          false,
          false,
          false,
          false,
          false,
          false,
          false,
          true,
          false,
          false,
          false,
          false,
          true,
          true,
          true,
          false,
          false,
          false,
          false,
          false,
          true,
          true,
          false,
          false,
          false,
          false,
          false,
          false,
          false,
          false,
          false,
          false,
          true,
          false,
          false,
          false,
          false,
          false,
          false,
          true,
          false,
          false,
          false,
          false,
          false,
          false,
          false,
          false,
          false,
          false,
          true,
          false
         ],
         "yaxis": "y"
        },
        {
         "hovertemplate": "sex=female<br>age=%{x}<br>survived=%{y}<extra></extra>",
         "legendgroup": "female",
         "marker": {
          "color": "#EF553B",
          "symbol": "circle"
         },
         "mode": "markers",
         "name": "female",
         "orientation": "h",
         "showlegend": true,
         "type": "scatter",
         "x": [
          38,
          26,
          35,
          27,
          14,
          4,
          58,
          14,
          55,
          31,
          null,
          15,
          8,
          38,
          null,
          null,
          null,
          18,
          14,
          40,
          27,
          3,
          19,
          null,
          18,
          49,
          29,
          21,
          5,
          38,
          29,
          17,
          16,
          30,
          null,
          17,
          33,
          23,
          34,
          28,
          21,
          null,
          14.5,
          20,
          17,
          2,
          32.5,
          null,
          47,
          29,
          19,
          null,
          22,
          24,
          9,
          22,
          16,
          40,
          null,
          45,
          1,
          50,
          null,
          4,
          null,
          32,
          19,
          44,
          58,
          null,
          24,
          2,
          16,
          35,
          31,
          27,
          32,
          null,
          35,
          5,
          null,
          8,
          null,
          null,
          25,
          24,
          29,
          41,
          29,
          null,
          30,
          35,
          50,
          null,
          58,
          35,
          41,
          null,
          63,
          45,
          35,
          22,
          26,
          19,
          24,
          2,
          50,
          null,
          null,
          null,
          17,
          30,
          24,
          18,
          26,
          26,
          24,
          31,
          40,
          30,
          22,
          36,
          36,
          31,
          16,
          null,
          null,
          41,
          24,
          24,
          40,
          null,
          22,
          38,
          null,
          null,
          45,
          60,
          null,
          null,
          24,
          3,
          null,
          22,
          42,
          1,
          35,
          36,
          17,
          23,
          24,
          31,
          28,
          21,
          20,
          null,
          33,
          null,
          34,
          18,
          10,
          28,
          28,
          19,
          null,
          42,
          14,
          21,
          24,
          45,
          28,
          13,
          5,
          null,
          50,
          0.75,
          33,
          23,
          22,
          2,
          63,
          null,
          35,
          54,
          25,
          21,
          null,
          37,
          16,
          33,
          54,
          34,
          36,
          30,
          44,
          50,
          2,
          null,
          30,
          7,
          30,
          22,
          36,
          9,
          11,
          19,
          22,
          48,
          39,
          36,
          null,
          29,
          53,
          null,
          34,
          39,
          null,
          25,
          39,
          18,
          52,
          null,
          null,
          24,
          22,
          40,
          39,
          null,
          24,
          26,
          4,
          21,
          9,
          28,
          41,
          24,
          2,
          0.75,
          23,
          18,
          null,
          18,
          32,
          null,
          40,
          18,
          43,
          null,
          15,
          4,
          null,
          18,
          18,
          45,
          22,
          24,
          38,
          27,
          6,
          30,
          null,
          25,
          29,
          48,
          21,
          30,
          4,
          48,
          33,
          36,
          51,
          30.5,
          57,
          54,
          5,
          43,
          13,
          17,
          18,
          null,
          49,
          31,
          30,
          31,
          18,
          33,
          6,
          23,
          52,
          27,
          62,
          15,
          39,
          30,
          null,
          9,
          16,
          44,
          18,
          45,
          24,
          48,
          null,
          42,
          27,
          47,
          28,
          15,
          56,
          25,
          22,
          39,
          19,
          null
         ],
         "xaxis": "x",
         "y": [
          true,
          true,
          true,
          true,
          true,
          true,
          true,
          false,
          true,
          false,
          true,
          true,
          false,
          true,
          true,
          true,
          true,
          false,
          true,
          false,
          false,
          true,
          true,
          true,
          false,
          true,
          true,
          true,
          true,
          true,
          true,
          true,
          false,
          true,
          true,
          true,
          true,
          true,
          true,
          false,
          true,
          true,
          false,
          false,
          false,
          false,
          true,
          true,
          false,
          true,
          true,
          false,
          true,
          true,
          false,
          true,
          true,
          true,
          true,
          false,
          true,
          false,
          false,
          true,
          true,
          true,
          true,
          true,
          true,
          true,
          false,
          false,
          true,
          true,
          true,
          true,
          true,
          false,
          true,
          true,
          false,
          true,
          false,
          true,
          false,
          true,
          false,
          false,
          true,
          true,
          true,
          true,
          true,
          false,
          true,
          true,
          true,
          true,
          true,
          false,
          true,
          true,
          true,
          true,
          false,
          false,
          true,
          true,
          true,
          true,
          true,
          true,
          true,
          true,
          false,
          true,
          true,
          true,
          true,
          true,
          true,
          true,
          true,
          true,
          true,
          true,
          true,
          true,
          true,
          true,
          true,
          true,
          true,
          false,
          true,
          true,
          false,
          true,
          true,
          true,
          true,
          false,
          true,
          true,
          true,
          true,
          true,
          true,
          true,
          true,
          true,
          false,
          true,
          false,
          false,
          false,
          true,
          false,
          true,
          true,
          false,
          false,
          true,
          true,
          true,
          true,
          true,
          false,
          true,
          true,
          true,
          true,
          true,
          true,
          true,
          true,
          true,
          true,
          false,
          true,
          true,
          false,
          true,
          true,
          false,
          false,
          false,
          false,
          true,
          true,
          true,
          true,
          true,
          true,
          true,
          true,
          true,
          true,
          false,
          true,
          true,
          true,
          true,
          false,
          false,
          true,
          true,
          true,
          true,
          true,
          false,
          false,
          true,
          true,
          true,
          true,
          false,
          true,
          true,
          true,
          true,
          false,
          true,
          true,
          true,
          true,
          false,
          true,
          true,
          false,
          true,
          true,
          false,
          true,
          false,
          true,
          false,
          true,
          true,
          true,
          true,
          false,
          false,
          true,
          true,
          true,
          false,
          false,
          true,
          true,
          true,
          true,
          false,
          true,
          true,
          true,
          true,
          true,
          true,
          true,
          true,
          false,
          true,
          false,
          true,
          true,
          true,
          true,
          true,
          true,
          true,
          false,
          false,
          true,
          true,
          true,
          true,
          true,
          true,
          false,
          true,
          true,
          false,
          true,
          false,
          true,
          false,
          false,
          true,
          true,
          true,
          true,
          true,
          true,
          true,
          false,
          true,
          false,
          true,
          true,
          true,
          true,
          false,
          true,
          true,
          true,
          true,
          true,
          true,
          true,
          false,
          false,
          true,
          false
         ],
         "yaxis": "y"
        }
       ],
       "layout": {
        "height": 250,
        "legend": {
         "title": {
          "text": "sex"
         },
         "tracegroupgap": 0
        },
        "margin": {
         "t": 60
        },
        "template": {
         "data": {
          "bar": [
           {
            "error_x": {
             "color": "#2a3f5f"
            },
            "error_y": {
             "color": "#2a3f5f"
            },
            "marker": {
             "line": {
              "color": "#E5ECF6",
              "width": 0.5
             }
            },
            "type": "bar"
           }
          ],
          "barpolar": [
           {
            "marker": {
             "line": {
              "color": "#E5ECF6",
              "width": 0.5
             }
            },
            "type": "barpolar"
           }
          ],
          "carpet": [
           {
            "aaxis": {
             "endlinecolor": "#2a3f5f",
             "gridcolor": "white",
             "linecolor": "white",
             "minorgridcolor": "white",
             "startlinecolor": "#2a3f5f"
            },
            "baxis": {
             "endlinecolor": "#2a3f5f",
             "gridcolor": "white",
             "linecolor": "white",
             "minorgridcolor": "white",
             "startlinecolor": "#2a3f5f"
            },
            "type": "carpet"
           }
          ],
          "choropleth": [
           {
            "colorbar": {
             "outlinewidth": 0,
             "ticks": ""
            },
            "type": "choropleth"
           }
          ],
          "contour": [
           {
            "colorbar": {
             "outlinewidth": 0,
             "ticks": ""
            },
            "colorscale": [
             [
              0,
              "#0d0887"
             ],
             [
              0.1111111111111111,
              "#46039f"
             ],
             [
              0.2222222222222222,
              "#7201a8"
             ],
             [
              0.3333333333333333,
              "#9c179e"
             ],
             [
              0.4444444444444444,
              "#bd3786"
             ],
             [
              0.5555555555555556,
              "#d8576b"
             ],
             [
              0.6666666666666666,
              "#ed7953"
             ],
             [
              0.7777777777777778,
              "#fb9f3a"
             ],
             [
              0.8888888888888888,
              "#fdca26"
             ],
             [
              1,
              "#f0f921"
             ]
            ],
            "type": "contour"
           }
          ],
          "contourcarpet": [
           {
            "colorbar": {
             "outlinewidth": 0,
             "ticks": ""
            },
            "type": "contourcarpet"
           }
          ],
          "heatmap": [
           {
            "colorbar": {
             "outlinewidth": 0,
             "ticks": ""
            },
            "colorscale": [
             [
              0,
              "#0d0887"
             ],
             [
              0.1111111111111111,
              "#46039f"
             ],
             [
              0.2222222222222222,
              "#7201a8"
             ],
             [
              0.3333333333333333,
              "#9c179e"
             ],
             [
              0.4444444444444444,
              "#bd3786"
             ],
             [
              0.5555555555555556,
              "#d8576b"
             ],
             [
              0.6666666666666666,
              "#ed7953"
             ],
             [
              0.7777777777777778,
              "#fb9f3a"
             ],
             [
              0.8888888888888888,
              "#fdca26"
             ],
             [
              1,
              "#f0f921"
             ]
            ],
            "type": "heatmap"
           }
          ],
          "heatmapgl": [
           {
            "colorbar": {
             "outlinewidth": 0,
             "ticks": ""
            },
            "colorscale": [
             [
              0,
              "#0d0887"
             ],
             [
              0.1111111111111111,
              "#46039f"
             ],
             [
              0.2222222222222222,
              "#7201a8"
             ],
             [
              0.3333333333333333,
              "#9c179e"
             ],
             [
              0.4444444444444444,
              "#bd3786"
             ],
             [
              0.5555555555555556,
              "#d8576b"
             ],
             [
              0.6666666666666666,
              "#ed7953"
             ],
             [
              0.7777777777777778,
              "#fb9f3a"
             ],
             [
              0.8888888888888888,
              "#fdca26"
             ],
             [
              1,
              "#f0f921"
             ]
            ],
            "type": "heatmapgl"
           }
          ],
          "histogram": [
           {
            "marker": {
             "colorbar": {
              "outlinewidth": 0,
              "ticks": ""
             }
            },
            "type": "histogram"
           }
          ],
          "histogram2d": [
           {
            "colorbar": {
             "outlinewidth": 0,
             "ticks": ""
            },
            "colorscale": [
             [
              0,
              "#0d0887"
             ],
             [
              0.1111111111111111,
              "#46039f"
             ],
             [
              0.2222222222222222,
              "#7201a8"
             ],
             [
              0.3333333333333333,
              "#9c179e"
             ],
             [
              0.4444444444444444,
              "#bd3786"
             ],
             [
              0.5555555555555556,
              "#d8576b"
             ],
             [
              0.6666666666666666,
              "#ed7953"
             ],
             [
              0.7777777777777778,
              "#fb9f3a"
             ],
             [
              0.8888888888888888,
              "#fdca26"
             ],
             [
              1,
              "#f0f921"
             ]
            ],
            "type": "histogram2d"
           }
          ],
          "histogram2dcontour": [
           {
            "colorbar": {
             "outlinewidth": 0,
             "ticks": ""
            },
            "colorscale": [
             [
              0,
              "#0d0887"
             ],
             [
              0.1111111111111111,
              "#46039f"
             ],
             [
              0.2222222222222222,
              "#7201a8"
             ],
             [
              0.3333333333333333,
              "#9c179e"
             ],
             [
              0.4444444444444444,
              "#bd3786"
             ],
             [
              0.5555555555555556,
              "#d8576b"
             ],
             [
              0.6666666666666666,
              "#ed7953"
             ],
             [
              0.7777777777777778,
              "#fb9f3a"
             ],
             [
              0.8888888888888888,
              "#fdca26"
             ],
             [
              1,
              "#f0f921"
             ]
            ],
            "type": "histogram2dcontour"
           }
          ],
          "mesh3d": [
           {
            "colorbar": {
             "outlinewidth": 0,
             "ticks": ""
            },
            "type": "mesh3d"
           }
          ],
          "parcoords": [
           {
            "line": {
             "colorbar": {
              "outlinewidth": 0,
              "ticks": ""
             }
            },
            "type": "parcoords"
           }
          ],
          "pie": [
           {
            "automargin": true,
            "type": "pie"
           }
          ],
          "scatter": [
           {
            "marker": {
             "colorbar": {
              "outlinewidth": 0,
              "ticks": ""
             }
            },
            "type": "scatter"
           }
          ],
          "scatter3d": [
           {
            "line": {
             "colorbar": {
              "outlinewidth": 0,
              "ticks": ""
             }
            },
            "marker": {
             "colorbar": {
              "outlinewidth": 0,
              "ticks": ""
             }
            },
            "type": "scatter3d"
           }
          ],
          "scattercarpet": [
           {
            "marker": {
             "colorbar": {
              "outlinewidth": 0,
              "ticks": ""
             }
            },
            "type": "scattercarpet"
           }
          ],
          "scattergeo": [
           {
            "marker": {
             "colorbar": {
              "outlinewidth": 0,
              "ticks": ""
             }
            },
            "type": "scattergeo"
           }
          ],
          "scattergl": [
           {
            "marker": {
             "colorbar": {
              "outlinewidth": 0,
              "ticks": ""
             }
            },
            "type": "scattergl"
           }
          ],
          "scattermapbox": [
           {
            "marker": {
             "colorbar": {
              "outlinewidth": 0,
              "ticks": ""
             }
            },
            "type": "scattermapbox"
           }
          ],
          "scatterpolar": [
           {
            "marker": {
             "colorbar": {
              "outlinewidth": 0,
              "ticks": ""
             }
            },
            "type": "scatterpolar"
           }
          ],
          "scatterpolargl": [
           {
            "marker": {
             "colorbar": {
              "outlinewidth": 0,
              "ticks": ""
             }
            },
            "type": "scatterpolargl"
           }
          ],
          "scatterternary": [
           {
            "marker": {
             "colorbar": {
              "outlinewidth": 0,
              "ticks": ""
             }
            },
            "type": "scatterternary"
           }
          ],
          "surface": [
           {
            "colorbar": {
             "outlinewidth": 0,
             "ticks": ""
            },
            "colorscale": [
             [
              0,
              "#0d0887"
             ],
             [
              0.1111111111111111,
              "#46039f"
             ],
             [
              0.2222222222222222,
              "#7201a8"
             ],
             [
              0.3333333333333333,
              "#9c179e"
             ],
             [
              0.4444444444444444,
              "#bd3786"
             ],
             [
              0.5555555555555556,
              "#d8576b"
             ],
             [
              0.6666666666666666,
              "#ed7953"
             ],
             [
              0.7777777777777778,
              "#fb9f3a"
             ],
             [
              0.8888888888888888,
              "#fdca26"
             ],
             [
              1,
              "#f0f921"
             ]
            ],
            "type": "surface"
           }
          ],
          "table": [
           {
            "cells": {
             "fill": {
              "color": "#EBF0F8"
             },
             "line": {
              "color": "white"
             }
            },
            "header": {
             "fill": {
              "color": "#C8D4E3"
             },
             "line": {
              "color": "white"
             }
            },
            "type": "table"
           }
          ]
         },
         "layout": {
          "annotationdefaults": {
           "arrowcolor": "#2a3f5f",
           "arrowhead": 0,
           "arrowwidth": 1
          },
          "coloraxis": {
           "colorbar": {
            "outlinewidth": 0,
            "ticks": ""
           }
          },
          "colorscale": {
           "diverging": [
            [
             0,
             "#8e0152"
            ],
            [
             0.1,
             "#c51b7d"
            ],
            [
             0.2,
             "#de77ae"
            ],
            [
             0.3,
             "#f1b6da"
            ],
            [
             0.4,
             "#fde0ef"
            ],
            [
             0.5,
             "#f7f7f7"
            ],
            [
             0.6,
             "#e6f5d0"
            ],
            [
             0.7,
             "#b8e186"
            ],
            [
             0.8,
             "#7fbc41"
            ],
            [
             0.9,
             "#4d9221"
            ],
            [
             1,
             "#276419"
            ]
           ],
           "sequential": [
            [
             0,
             "#0d0887"
            ],
            [
             0.1111111111111111,
             "#46039f"
            ],
            [
             0.2222222222222222,
             "#7201a8"
            ],
            [
             0.3333333333333333,
             "#9c179e"
            ],
            [
             0.4444444444444444,
             "#bd3786"
            ],
            [
             0.5555555555555556,
             "#d8576b"
            ],
            [
             0.6666666666666666,
             "#ed7953"
            ],
            [
             0.7777777777777778,
             "#fb9f3a"
            ],
            [
             0.8888888888888888,
             "#fdca26"
            ],
            [
             1,
             "#f0f921"
            ]
           ],
           "sequentialminus": [
            [
             0,
             "#0d0887"
            ],
            [
             0.1111111111111111,
             "#46039f"
            ],
            [
             0.2222222222222222,
             "#7201a8"
            ],
            [
             0.3333333333333333,
             "#9c179e"
            ],
            [
             0.4444444444444444,
             "#bd3786"
            ],
            [
             0.5555555555555556,
             "#d8576b"
            ],
            [
             0.6666666666666666,
             "#ed7953"
            ],
            [
             0.7777777777777778,
             "#fb9f3a"
            ],
            [
             0.8888888888888888,
             "#fdca26"
            ],
            [
             1,
             "#f0f921"
            ]
           ]
          },
          "colorway": [
           "#636efa",
           "#EF553B",
           "#00cc96",
           "#ab63fa",
           "#FFA15A",
           "#19d3f3",
           "#FF6692",
           "#B6E880",
           "#FF97FF",
           "#FECB52"
          ],
          "font": {
           "color": "#2a3f5f"
          },
          "geo": {
           "bgcolor": "white",
           "lakecolor": "white",
           "landcolor": "#E5ECF6",
           "showlakes": true,
           "showland": true,
           "subunitcolor": "white"
          },
          "hoverlabel": {
           "align": "left"
          },
          "hovermode": "closest",
          "mapbox": {
           "style": "light"
          },
          "paper_bgcolor": "white",
          "plot_bgcolor": "#E5ECF6",
          "polar": {
           "angularaxis": {
            "gridcolor": "white",
            "linecolor": "white",
            "ticks": ""
           },
           "bgcolor": "#E5ECF6",
           "radialaxis": {
            "gridcolor": "white",
            "linecolor": "white",
            "ticks": ""
           }
          },
          "scene": {
           "xaxis": {
            "backgroundcolor": "#E5ECF6",
            "gridcolor": "white",
            "gridwidth": 2,
            "linecolor": "white",
            "showbackground": true,
            "ticks": "",
            "zerolinecolor": "white"
           },
           "yaxis": {
            "backgroundcolor": "#E5ECF6",
            "gridcolor": "white",
            "gridwidth": 2,
            "linecolor": "white",
            "showbackground": true,
            "ticks": "",
            "zerolinecolor": "white"
           },
           "zaxis": {
            "backgroundcolor": "#E5ECF6",
            "gridcolor": "white",
            "gridwidth": 2,
            "linecolor": "white",
            "showbackground": true,
            "ticks": "",
            "zerolinecolor": "white"
           }
          },
          "shapedefaults": {
           "line": {
            "color": "#2a3f5f"
           }
          },
          "ternary": {
           "aaxis": {
            "gridcolor": "white",
            "linecolor": "white",
            "ticks": ""
           },
           "baxis": {
            "gridcolor": "white",
            "linecolor": "white",
            "ticks": ""
           },
           "bgcolor": "#E5ECF6",
           "caxis": {
            "gridcolor": "white",
            "linecolor": "white",
            "ticks": ""
           }
          },
          "title": {
           "x": 0.05
          },
          "xaxis": {
           "automargin": true,
           "gridcolor": "white",
           "linecolor": "white",
           "ticks": "",
           "title": {
            "standoff": 15
           },
           "zerolinecolor": "white",
           "zerolinewidth": 2
          },
          "yaxis": {
           "automargin": true,
           "gridcolor": "white",
           "linecolor": "white",
           "ticks": "",
           "title": {
            "standoff": 15
           },
           "zerolinecolor": "white",
           "zerolinewidth": 2
          }
         }
        },
        "xaxis": {
         "anchor": "y",
         "domain": [
          0,
          1
         ],
         "title": {
          "text": "age"
         }
        },
        "yaxis": {
         "anchor": "x",
         "domain": [
          0,
          1
         ],
         "title": {
          "text": "survived"
         }
        }
       }
      },
      "text/html": [
       "<div>                            <div id=\"ef721bdb-e56a-4d26-b38e-513478121ff3\" class=\"plotly-graph-div\" style=\"height:250px; width:100%;\"></div>            <script type=\"text/javascript\">                require([\"plotly\"], function(Plotly) {                    window.PLOTLYENV=window.PLOTLYENV || {};                                    if (document.getElementById(\"ef721bdb-e56a-4d26-b38e-513478121ff3\")) {                    Plotly.newPlot(                        \"ef721bdb-e56a-4d26-b38e-513478121ff3\",                        [{\"hovertemplate\": \"sex=male<br>age=%{x}<br>survived=%{y}<extra></extra>\", \"legendgroup\": \"male\", \"marker\": {\"color\": \"#636efa\", \"symbol\": \"circle\"}, \"mode\": \"markers\", \"name\": \"male\", \"orientation\": \"h\", \"showlegend\": true, \"type\": \"scatter\", \"x\": [22.0, 35.0, null, 54.0, 2.0, 20.0, 39.0, 2.0, null, 35.0, 34.0, 28.0, null, 19.0, null, 40.0, 66.0, 28.0, 42.0, null, 21.0, null, null, null, null, 7.0, 21.0, 65.0, null, 28.5, 11.0, 22.0, 45.0, 4.0, null, null, 19.0, 26.0, 32.0, 21.0, 26.0, 32.0, 25.0, null, null, 0.83, 22.0, 29.0, 28.0, 16.0, null, 24.0, 29.0, 20.0, 46.0, 26.0, 59.0, null, 71.0, 23.0, 34.0, null, 21.0, 33.0, 37.0, 28.0, null, 38.0, 47.0, 22.0, 21.0, 70.5, 29.0, 24.0, 21.0, null, 32.5, 54.0, 12.0, null, 24.0, 45.0, 33.0, 20.0, 25.0, 23.0, 37.0, 16.0, 24.0, 19.0, 18.0, 19.0, 27.0, 36.5, 42.0, 51.0, 55.5, 40.5, null, 51.0, 30.0, null, null, 44.0, 26.0, 17.0, 1.0, 9.0, null, 28.0, 61.0, 4.0, 21.0, 56.0, 18.0, null, 30.0, 36.0, null, 9.0, 1.0, null, 45.0, 40.0, 36.0, 19.0, 3.0, null, 42.0, 28.0, null, 34.0, 45.5, 18.0, 32.0, 26.0, 40.0, 24.0, 22.0, 30.0, null, 42.0, 30.0, 16.0, 27.0, 51.0, null, 38.0, 22.0, 19.0, 20.5, 18.0, 29.0, 59.0, 24.0, 44.0, 19.0, 33.0, 29.0, 22.0, 30.0, 44.0, 37.0, 54.0, null, 62.0, 30.0, null, 3.0, 52.0, 40.0, 36.0, 16.0, 25.0, null, 25.0, 37.0, null, 7.0, 65.0, 28.0, 16.0, 19.0, null, 33.0, 30.0, 22.0, 42.0, 36.0, 24.0, null, 23.5, null, null, 19.0, null, 0.92, 30.0, 28.0, 43.0, 54.0, 22.0, 27.0, null, 61.0, 45.5, 38.0, 16.0, null, 29.0, 45.0, 45.0, 2.0, 28.0, 25.0, 36.0, 3.0, 42.0, 23.0, null, 15.0, 25.0, null, 28.0, 40.0, 29.0, 35.0, null, 30.0, 25.0, 18.0, 19.0, 22.0, 27.0, 20.0, 19.0, 32.0, null, 18.0, 1.0, null, 36.0, 21.0, 28.0, 22.0, 46.0, 23.0, 39.0, 26.0, 28.0, 34.0, 51.0, 3.0, 21.0, null, null, null, 44.0, 30.0, null, 21.0, 29.0, 18.0, null, null, 32.0, 28.0, 17.0, 50.0, 64.0, 31.0, 20.0, 25.0, null, 4.0, 34.0, 52.0, 36.0, null, 30.0, 49.0, null, 29.0, 65.0, null, 48.0, 34.0, 47.0, 48.0, null, 38.0, null, 56.0, null, null, 38.0, null, 34.0, 29.0, 22.0, 9.0, null, 50.0, 25.0, 58.0, 30.0, 9.0, null, 21.0, 55.0, 71.0, 21.0, null, null, 24.0, 17.0, 18.0, null, 28.0, 26.0, 29.0, null, 36.0, 24.0, 47.0, null, 32.0, 22.0, null, null, 40.5, null, 39.0, 23.0, null, 17.0, 45.0, null, 32.0, 50.0, 64.0, null, 33.0, 8.0, 17.0, 27.0, null, 22.0, 62.0, null, null, 40.0, 28.0, null, 24.0, 19.0, null, 32.0, 62.0, 36.0, 16.0, 19.0, 32.0, 54.0, 36.0, null, 47.0, 60.0, 22.0, null, 35.0, 47.0, 37.0, 36.0, 49.0, null, 49.0, null, null, 44.0, 35.0, 36.0, 30.0, 27.0, null, null, 35.0, 34.0, 26.0, 27.0, 42.0, 20.0, 21.0, 21.0, 61.0, 57.0, 26.0, null, 80.0, 51.0, 32.0, null, 32.0, 31.0, null, 20.0, null, 48.0, 19.0, 56.0, null, null, 21.0, 24.0, null, 23.0, 58.0, 50.0, 40.0, 47.0, 36.0, 20.0, 32.0, 25.0, null, 43.0, 31.0, 70.0, 31.0, null, 18.0, 24.5, 36.0, 27.0, 20.0, 14.0, 60.0, 25.0, 14.0, 19.0, 18.0, 31.0, null, 25.0, 60.0, 52.0, 44.0, 49.0, 42.0, 35.0, 25.0, 26.0, 39.0, 42.0, null, null, 48.0, 29.0, 52.0, 19.0, null, 33.0, 17.0, 34.0, 50.0, 27.0, 20.0, 25.0, 11.0, null, 23.0, 23.0, 28.5, 35.0, null, null, null, 36.0, 24.0, 31.0, 70.0, 16.0, 19.0, 31.0, 6.0, 33.0, 23.0, 0.67, 28.0, 18.0, 34.0, null, 41.0, 20.0, 16.0, null, null, 32.0, 24.0, 48.0, null, 18.0, null, null, 29.0, null, 25.0, 25.0, 8.0, 1.0, 46.0, null, 16.0, null, 25.0, 39.0, 30.0, 34.0, 11.0, 0.42, 27.0, 31.0, 39.0, 39.0, 26.0, 39.0, 35.0, 30.5, null, 31.0, 43.0, 10.0, 27.0, 38.0, 2.0, null, null, 1.0, null, 0.83, null, 23.0, 18.0, 21.0, null, 32.0, null, 20.0, 16.0, 34.5, 17.0, 42.0, null, 35.0, 28.0, 4.0, 74.0, 51.0, null, 41.0, 21.0, 24.0, 31.0, null, 4.0, 26.0, 33.0, 47.0, 20.0, 19.0, null, 33.0, 28.0, 25.0, 27.0, 26.0, 32.0], \"xaxis\": \"x\", \"y\": [false, false, false, false, false, false, false, false, true, false, true, true, false, false, false, false, false, false, false, true, false, false, false, false, false, false, false, false, true, false, false, false, false, false, false, true, false, false, false, false, false, true, false, false, false, true, false, true, false, false, false, false, false, false, false, false, false, false, false, true, false, false, false, false, false, false, true, false, false, false, false, false, false, false, false, false, false, false, true, false, true, false, false, false, false, false, false, false, false, false, false, false, true, false, false, false, false, false, false, false, false, false, false, false, false, false, false, true, false, false, false, false, false, false, false, false, false, false, false, false, true, false, true, false, false, false, true, false, false, false, false, false, false, true, false, true, true, false, false, false, false, false, false, true, false, false, false, true, false, true, false, false, false, false, false, false, false, false, false, false, false, false, true, false, false, false, false, false, true, false, false, false, false, true, false, true, false, false, false, false, false, false, true, false, false, true, false, true, false, false, false, false, true, true, false, false, true, false, false, false, false, false, false, false, false, false, false, false, false, false, true, false, true, false, false, false, true, false, false, false, false, false, false, false, false, false, false, false, false, true, false, false, false, false, false, false, false, false, false, false, false, true, true, false, false, false, false, true, false, false, false, false, true, false, false, false, false, true, false, false, false, false, false, false, false, true, true, false, false, false, false, false, false, true, true, true, true, false, false, false, true, false, true, false, false, true, false, false, false, false, false, false, false, false, false, false, false, false, false, false, false, false, false, true, false, false, true, false, false, false, false, false, false, false, false, false, false, true, false, true, true, false, true, false, false, false, false, false, false, false, false, false, false, false, false, false, false, false, true, false, false, true, false, true, true, false, false, true, false, false, false, false, false, false, false, false, false, true, true, true, false, false, true, false, false, false, false, true, false, false, false, false, false, false, false, false, true, false, false, false, true, false, false, true, false, false, false, false, false, false, true, true, false, false, false, false, false, false, true, false, true, false, false, false, false, false, true, true, false, true, false, false, false, false, false, false, false, true, false, false, false, true, false, false, false, false, false, false, true, false, false, false, true, true, false, false, false, false, false, false, false, true, true, false, false, false, false, false, false, true, false, false, false, true, true, false, true, false, false, false, false, false, false, false, false, true, false, false, false, false, false, false, false, true, false, false, true, false, false, true, false, false, false, false, true, false, false, true, false, false, false, false, false, true, false, false, false, false, false, false, false, false, false, false, false, false, false, false, false, true, false, false, false, false, false, false, false, false, true, true, true, false, false, false, false, false, false, false, false, false, false, false, true, false, false, false, false, true, true, true, false, false, false, false, false, true, true, false, false, false, false, false, false, false, false, false, false, true, false, false, false, false, false, false, true, false, false, false, false, false, false, false, false, false, false, true, false], \"yaxis\": \"y\"}, {\"hovertemplate\": \"sex=female<br>age=%{x}<br>survived=%{y}<extra></extra>\", \"legendgroup\": \"female\", \"marker\": {\"color\": \"#EF553B\", \"symbol\": \"circle\"}, \"mode\": \"markers\", \"name\": \"female\", \"orientation\": \"h\", \"showlegend\": true, \"type\": \"scatter\", \"x\": [38.0, 26.0, 35.0, 27.0, 14.0, 4.0, 58.0, 14.0, 55.0, 31.0, null, 15.0, 8.0, 38.0, null, null, null, 18.0, 14.0, 40.0, 27.0, 3.0, 19.0, null, 18.0, 49.0, 29.0, 21.0, 5.0, 38.0, 29.0, 17.0, 16.0, 30.0, null, 17.0, 33.0, 23.0, 34.0, 28.0, 21.0, null, 14.5, 20.0, 17.0, 2.0, 32.5, null, 47.0, 29.0, 19.0, null, 22.0, 24.0, 9.0, 22.0, 16.0, 40.0, null, 45.0, 1.0, 50.0, null, 4.0, null, 32.0, 19.0, 44.0, 58.0, null, 24.0, 2.0, 16.0, 35.0, 31.0, 27.0, 32.0, null, 35.0, 5.0, null, 8.0, null, null, 25.0, 24.0, 29.0, 41.0, 29.0, null, 30.0, 35.0, 50.0, null, 58.0, 35.0, 41.0, null, 63.0, 45.0, 35.0, 22.0, 26.0, 19.0, 24.0, 2.0, 50.0, null, null, null, 17.0, 30.0, 24.0, 18.0, 26.0, 26.0, 24.0, 31.0, 40.0, 30.0, 22.0, 36.0, 36.0, 31.0, 16.0, null, null, 41.0, 24.0, 24.0, 40.0, null, 22.0, 38.0, null, null, 45.0, 60.0, null, null, 24.0, 3.0, null, 22.0, 42.0, 1.0, 35.0, 36.0, 17.0, 23.0, 24.0, 31.0, 28.0, 21.0, 20.0, null, 33.0, null, 34.0, 18.0, 10.0, 28.0, 28.0, 19.0, null, 42.0, 14.0, 21.0, 24.0, 45.0, 28.0, 13.0, 5.0, null, 50.0, 0.75, 33.0, 23.0, 22.0, 2.0, 63.0, null, 35.0, 54.0, 25.0, 21.0, null, 37.0, 16.0, 33.0, 54.0, 34.0, 36.0, 30.0, 44.0, 50.0, 2.0, null, 30.0, 7.0, 30.0, 22.0, 36.0, 9.0, 11.0, 19.0, 22.0, 48.0, 39.0, 36.0, null, 29.0, 53.0, null, 34.0, 39.0, null, 25.0, 39.0, 18.0, 52.0, null, null, 24.0, 22.0, 40.0, 39.0, null, 24.0, 26.0, 4.0, 21.0, 9.0, 28.0, 41.0, 24.0, 2.0, 0.75, 23.0, 18.0, null, 18.0, 32.0, null, 40.0, 18.0, 43.0, null, 15.0, 4.0, null, 18.0, 18.0, 45.0, 22.0, 24.0, 38.0, 27.0, 6.0, 30.0, null, 25.0, 29.0, 48.0, 21.0, 30.0, 4.0, 48.0, 33.0, 36.0, 51.0, 30.5, 57.0, 54.0, 5.0, 43.0, 13.0, 17.0, 18.0, null, 49.0, 31.0, 30.0, 31.0, 18.0, 33.0, 6.0, 23.0, 52.0, 27.0, 62.0, 15.0, 39.0, 30.0, null, 9.0, 16.0, 44.0, 18.0, 45.0, 24.0, 48.0, null, 42.0, 27.0, 47.0, 28.0, 15.0, 56.0, 25.0, 22.0, 39.0, 19.0, null], \"xaxis\": \"x\", \"y\": [true, true, true, true, true, true, true, false, true, false, true, true, false, true, true, true, true, false, true, false, false, true, true, true, false, true, true, true, true, true, true, true, false, true, true, true, true, true, true, false, true, true, false, false, false, false, true, true, false, true, true, false, true, true, false, true, true, true, true, false, true, false, false, true, true, true, true, true, true, true, false, false, true, true, true, true, true, false, true, true, false, true, false, true, false, true, false, false, true, true, true, true, true, false, true, true, true, true, true, false, true, true, true, true, false, false, true, true, true, true, true, true, true, true, false, true, true, true, true, true, true, true, true, true, true, true, true, true, true, true, true, true, true, false, true, true, false, true, true, true, true, false, true, true, true, true, true, true, true, true, true, false, true, false, false, false, true, false, true, true, false, false, true, true, true, true, true, false, true, true, true, true, true, true, true, true, true, true, false, true, true, false, true, true, false, false, false, false, true, true, true, true, true, true, true, true, true, true, false, true, true, true, true, false, false, true, true, true, true, true, false, false, true, true, true, true, false, true, true, true, true, false, true, true, true, true, false, true, true, false, true, true, false, true, false, true, false, true, true, true, true, false, false, true, true, true, false, false, true, true, true, true, false, true, true, true, true, true, true, true, true, false, true, false, true, true, true, true, true, true, true, false, false, true, true, true, true, true, true, false, true, true, false, true, false, true, false, false, true, true, true, true, true, true, true, false, true, false, true, true, true, true, false, true, true, true, true, true, true, true, false, false, true, false], \"yaxis\": \"y\"}],                        {\"height\": 250, \"legend\": {\"title\": {\"text\": \"sex\"}, \"tracegroupgap\": 0}, \"margin\": {\"t\": 60}, \"template\": {\"data\": {\"bar\": [{\"error_x\": {\"color\": \"#2a3f5f\"}, \"error_y\": {\"color\": \"#2a3f5f\"}, \"marker\": {\"line\": {\"color\": \"#E5ECF6\", \"width\": 0.5}}, \"type\": \"bar\"}], \"barpolar\": [{\"marker\": {\"line\": {\"color\": \"#E5ECF6\", \"width\": 0.5}}, \"type\": \"barpolar\"}], \"carpet\": [{\"aaxis\": {\"endlinecolor\": \"#2a3f5f\", \"gridcolor\": \"white\", \"linecolor\": \"white\", \"minorgridcolor\": \"white\", \"startlinecolor\": \"#2a3f5f\"}, \"baxis\": {\"endlinecolor\": \"#2a3f5f\", \"gridcolor\": \"white\", \"linecolor\": \"white\", \"minorgridcolor\": \"white\", \"startlinecolor\": \"#2a3f5f\"}, \"type\": \"carpet\"}], \"choropleth\": [{\"colorbar\": {\"outlinewidth\": 0, \"ticks\": \"\"}, \"type\": \"choropleth\"}], \"contour\": [{\"colorbar\": {\"outlinewidth\": 0, \"ticks\": \"\"}, \"colorscale\": [[0.0, \"#0d0887\"], [0.1111111111111111, \"#46039f\"], [0.2222222222222222, \"#7201a8\"], [0.3333333333333333, \"#9c179e\"], [0.4444444444444444, \"#bd3786\"], [0.5555555555555556, \"#d8576b\"], [0.6666666666666666, \"#ed7953\"], [0.7777777777777778, \"#fb9f3a\"], [0.8888888888888888, \"#fdca26\"], [1.0, \"#f0f921\"]], \"type\": \"contour\"}], \"contourcarpet\": [{\"colorbar\": {\"outlinewidth\": 0, \"ticks\": \"\"}, \"type\": \"contourcarpet\"}], \"heatmap\": [{\"colorbar\": {\"outlinewidth\": 0, \"ticks\": \"\"}, \"colorscale\": [[0.0, \"#0d0887\"], [0.1111111111111111, \"#46039f\"], [0.2222222222222222, \"#7201a8\"], [0.3333333333333333, \"#9c179e\"], [0.4444444444444444, \"#bd3786\"], [0.5555555555555556, \"#d8576b\"], [0.6666666666666666, \"#ed7953\"], [0.7777777777777778, \"#fb9f3a\"], [0.8888888888888888, \"#fdca26\"], [1.0, \"#f0f921\"]], \"type\": \"heatmap\"}], \"heatmapgl\": [{\"colorbar\": {\"outlinewidth\": 0, \"ticks\": \"\"}, \"colorscale\": [[0.0, \"#0d0887\"], [0.1111111111111111, \"#46039f\"], [0.2222222222222222, \"#7201a8\"], [0.3333333333333333, \"#9c179e\"], [0.4444444444444444, \"#bd3786\"], [0.5555555555555556, \"#d8576b\"], [0.6666666666666666, \"#ed7953\"], [0.7777777777777778, \"#fb9f3a\"], [0.8888888888888888, \"#fdca26\"], [1.0, \"#f0f921\"]], \"type\": \"heatmapgl\"}], \"histogram\": [{\"marker\": {\"colorbar\": {\"outlinewidth\": 0, \"ticks\": \"\"}}, \"type\": \"histogram\"}], \"histogram2d\": [{\"colorbar\": {\"outlinewidth\": 0, \"ticks\": \"\"}, \"colorscale\": [[0.0, \"#0d0887\"], [0.1111111111111111, \"#46039f\"], [0.2222222222222222, \"#7201a8\"], [0.3333333333333333, \"#9c179e\"], [0.4444444444444444, \"#bd3786\"], [0.5555555555555556, \"#d8576b\"], [0.6666666666666666, \"#ed7953\"], [0.7777777777777778, \"#fb9f3a\"], [0.8888888888888888, \"#fdca26\"], [1.0, \"#f0f921\"]], \"type\": \"histogram2d\"}], \"histogram2dcontour\": [{\"colorbar\": {\"outlinewidth\": 0, \"ticks\": \"\"}, \"colorscale\": [[0.0, \"#0d0887\"], [0.1111111111111111, \"#46039f\"], [0.2222222222222222, \"#7201a8\"], [0.3333333333333333, \"#9c179e\"], [0.4444444444444444, \"#bd3786\"], [0.5555555555555556, \"#d8576b\"], [0.6666666666666666, \"#ed7953\"], [0.7777777777777778, \"#fb9f3a\"], [0.8888888888888888, \"#fdca26\"], [1.0, \"#f0f921\"]], \"type\": \"histogram2dcontour\"}], \"mesh3d\": [{\"colorbar\": {\"outlinewidth\": 0, \"ticks\": \"\"}, \"type\": \"mesh3d\"}], \"parcoords\": [{\"line\": {\"colorbar\": {\"outlinewidth\": 0, \"ticks\": \"\"}}, \"type\": \"parcoords\"}], \"pie\": [{\"automargin\": true, \"type\": \"pie\"}], \"scatter\": [{\"marker\": {\"colorbar\": {\"outlinewidth\": 0, \"ticks\": \"\"}}, \"type\": \"scatter\"}], \"scatter3d\": [{\"line\": {\"colorbar\": {\"outlinewidth\": 0, \"ticks\": \"\"}}, \"marker\": {\"colorbar\": {\"outlinewidth\": 0, \"ticks\": \"\"}}, \"type\": \"scatter3d\"}], \"scattercarpet\": [{\"marker\": {\"colorbar\": {\"outlinewidth\": 0, \"ticks\": \"\"}}, \"type\": \"scattercarpet\"}], \"scattergeo\": [{\"marker\": {\"colorbar\": {\"outlinewidth\": 0, \"ticks\": \"\"}}, \"type\": \"scattergeo\"}], \"scattergl\": [{\"marker\": {\"colorbar\": {\"outlinewidth\": 0, \"ticks\": \"\"}}, \"type\": \"scattergl\"}], \"scattermapbox\": [{\"marker\": {\"colorbar\": {\"outlinewidth\": 0, \"ticks\": \"\"}}, \"type\": \"scattermapbox\"}], \"scatterpolar\": [{\"marker\": {\"colorbar\": {\"outlinewidth\": 0, \"ticks\": \"\"}}, \"type\": \"scatterpolar\"}], \"scatterpolargl\": [{\"marker\": {\"colorbar\": {\"outlinewidth\": 0, \"ticks\": \"\"}}, \"type\": \"scatterpolargl\"}], \"scatterternary\": [{\"marker\": {\"colorbar\": {\"outlinewidth\": 0, \"ticks\": \"\"}}, \"type\": \"scatterternary\"}], \"surface\": [{\"colorbar\": {\"outlinewidth\": 0, \"ticks\": \"\"}, \"colorscale\": [[0.0, \"#0d0887\"], [0.1111111111111111, \"#46039f\"], [0.2222222222222222, \"#7201a8\"], [0.3333333333333333, \"#9c179e\"], [0.4444444444444444, \"#bd3786\"], [0.5555555555555556, \"#d8576b\"], [0.6666666666666666, \"#ed7953\"], [0.7777777777777778, \"#fb9f3a\"], [0.8888888888888888, \"#fdca26\"], [1.0, \"#f0f921\"]], \"type\": \"surface\"}], \"table\": [{\"cells\": {\"fill\": {\"color\": \"#EBF0F8\"}, \"line\": {\"color\": \"white\"}}, \"header\": {\"fill\": {\"color\": \"#C8D4E3\"}, \"line\": {\"color\": \"white\"}}, \"type\": \"table\"}]}, \"layout\": {\"annotationdefaults\": {\"arrowcolor\": \"#2a3f5f\", \"arrowhead\": 0, \"arrowwidth\": 1}, \"coloraxis\": {\"colorbar\": {\"outlinewidth\": 0, \"ticks\": \"\"}}, \"colorscale\": {\"diverging\": [[0, \"#8e0152\"], [0.1, \"#c51b7d\"], [0.2, \"#de77ae\"], [0.3, \"#f1b6da\"], [0.4, \"#fde0ef\"], [0.5, \"#f7f7f7\"], [0.6, \"#e6f5d0\"], [0.7, \"#b8e186\"], [0.8, \"#7fbc41\"], [0.9, \"#4d9221\"], [1, \"#276419\"]], \"sequential\": [[0.0, \"#0d0887\"], [0.1111111111111111, \"#46039f\"], [0.2222222222222222, \"#7201a8\"], [0.3333333333333333, \"#9c179e\"], [0.4444444444444444, \"#bd3786\"], [0.5555555555555556, \"#d8576b\"], [0.6666666666666666, \"#ed7953\"], [0.7777777777777778, \"#fb9f3a\"], [0.8888888888888888, \"#fdca26\"], [1.0, \"#f0f921\"]], \"sequentialminus\": [[0.0, \"#0d0887\"], [0.1111111111111111, \"#46039f\"], [0.2222222222222222, \"#7201a8\"], [0.3333333333333333, \"#9c179e\"], [0.4444444444444444, \"#bd3786\"], [0.5555555555555556, \"#d8576b\"], [0.6666666666666666, \"#ed7953\"], [0.7777777777777778, \"#fb9f3a\"], [0.8888888888888888, \"#fdca26\"], [1.0, \"#f0f921\"]]}, \"colorway\": [\"#636efa\", \"#EF553B\", \"#00cc96\", \"#ab63fa\", \"#FFA15A\", \"#19d3f3\", \"#FF6692\", \"#B6E880\", \"#FF97FF\", \"#FECB52\"], \"font\": {\"color\": \"#2a3f5f\"}, \"geo\": {\"bgcolor\": \"white\", \"lakecolor\": \"white\", \"landcolor\": \"#E5ECF6\", \"showlakes\": true, \"showland\": true, \"subunitcolor\": \"white\"}, \"hoverlabel\": {\"align\": \"left\"}, \"hovermode\": \"closest\", \"mapbox\": {\"style\": \"light\"}, \"paper_bgcolor\": \"white\", \"plot_bgcolor\": \"#E5ECF6\", \"polar\": {\"angularaxis\": {\"gridcolor\": \"white\", \"linecolor\": \"white\", \"ticks\": \"\"}, \"bgcolor\": \"#E5ECF6\", \"radialaxis\": {\"gridcolor\": \"white\", \"linecolor\": \"white\", \"ticks\": \"\"}}, \"scene\": {\"xaxis\": {\"backgroundcolor\": \"#E5ECF6\", \"gridcolor\": \"white\", \"gridwidth\": 2, \"linecolor\": \"white\", \"showbackground\": true, \"ticks\": \"\", \"zerolinecolor\": \"white\"}, \"yaxis\": {\"backgroundcolor\": \"#E5ECF6\", \"gridcolor\": \"white\", \"gridwidth\": 2, \"linecolor\": \"white\", \"showbackground\": true, \"ticks\": \"\", \"zerolinecolor\": \"white\"}, \"zaxis\": {\"backgroundcolor\": \"#E5ECF6\", \"gridcolor\": \"white\", \"gridwidth\": 2, \"linecolor\": \"white\", \"showbackground\": true, \"ticks\": \"\", \"zerolinecolor\": \"white\"}}, \"shapedefaults\": {\"line\": {\"color\": \"#2a3f5f\"}}, \"ternary\": {\"aaxis\": {\"gridcolor\": \"white\", \"linecolor\": \"white\", \"ticks\": \"\"}, \"baxis\": {\"gridcolor\": \"white\", \"linecolor\": \"white\", \"ticks\": \"\"}, \"bgcolor\": \"#E5ECF6\", \"caxis\": {\"gridcolor\": \"white\", \"linecolor\": \"white\", \"ticks\": \"\"}}, \"title\": {\"x\": 0.05}, \"xaxis\": {\"automargin\": true, \"gridcolor\": \"white\", \"linecolor\": \"white\", \"ticks\": \"\", \"title\": {\"standoff\": 15}, \"zerolinecolor\": \"white\", \"zerolinewidth\": 2}, \"yaxis\": {\"automargin\": true, \"gridcolor\": \"white\", \"linecolor\": \"white\", \"ticks\": \"\", \"title\": {\"standoff\": 15}, \"zerolinecolor\": \"white\", \"zerolinewidth\": 2}}}, \"xaxis\": {\"anchor\": \"y\", \"domain\": [0.0, 1.0], \"title\": {\"text\": \"age\"}}, \"yaxis\": {\"anchor\": \"x\", \"domain\": [0.0, 1.0], \"title\": {\"text\": \"survived\"}}},                        {\"responsive\": true}                    ).then(function(){\n",
       "                            \n",
       "var gd = document.getElementById('ef721bdb-e56a-4d26-b38e-513478121ff3');\n",
       "var x = new MutationObserver(function (mutations, observer) {{\n",
       "        var display = window.getComputedStyle(gd).display;\n",
       "        if (!display || display === 'none') {{\n",
       "            console.log([gd, 'removed!']);\n",
       "            Plotly.purge(gd);\n",
       "            observer.disconnect();\n",
       "        }}\n",
       "}});\n",
       "\n",
       "// Listen for the removal of the full notebook cells\n",
       "var notebookContainer = gd.closest('#notebook-container');\n",
       "if (notebookContainer) {{\n",
       "    x.observe(notebookContainer, {childList: true});\n",
       "}}\n",
       "\n",
       "// Listen for the clearing of the current output cell\n",
       "var outputEl = gd.closest('.output');\n",
       "if (outputEl) {{\n",
       "    x.observe(outputEl, {childList: true});\n",
       "}}\n",
       "\n",
       "                        })                };                });            </script>        </div>"
      ]
     },
     "metadata": {},
     "output_type": "display_data"
    }
   ],
   "source": [
    "px.scatter(ti, x='age', y='survived', color=\"sex\", height=250)"
   ]
  },
  {
   "cell_type": "markdown",
   "metadata": {},
   "source": [
    "The `size=` *column* determines point size, here  bigger bubbles (, points) show higher fares:"
   ]
  },
  {
   "cell_type": "code",
   "execution_count": 57,
   "metadata": {},
   "outputs": [
    {
     "data": {
      "application/vnd.plotly.v1+json": {
       "config": {
        "plotlyServerURL": "https://plot.ly"
       },
       "data": [
        {
         "hovertemplate": "sex=male<br>age=%{x}<br>survived=%{y}<br>fare=%{marker.size}<extra></extra>",
         "legendgroup": "male",
         "marker": {
          "color": "#636efa",
          "size": [
           7.25,
           8.05,
           8.4583,
           51.8625,
           21.075,
           8.05,
           31.275,
           29.125,
           13,
           26,
           13,
           35.5,
           7.225,
           263,
           7.8958,
           27.7208,
           10.5,
           82.1708,
           52,
           7.2292,
           8.05,
           7.8958,
           8.05,
           15.5,
           21.6792,
           39.6875,
           7.8,
           61.9792,
           35.5,
           7.2292,
           46.9,
           7.2292,
           83.475,
           27.9,
           27.7208,
           15.2458,
           8.1583,
           8.6625,
           10.5,
           73.5,
           14.4542,
           56.4958,
           7.65,
           7.8958,
           8.05,
           29,
           9,
           9.5,
           47.1,
           34.375,
           8.05,
           8.05,
           8.05,
           7.8542,
           61.175,
           20.575,
           7.25,
           8.05,
           34.6542,
           63.3583,
           26,
           7.8958,
           77.2875,
           8.6542,
           7.925,
           7.8958,
           7.775,
           7.8958,
           52,
           8.05,
           7.925,
           7.75,
           21,
           247.5208,
           73.5,
           8.05,
           30.0708,
           77.2875,
           11.2417,
           7.75,
           7.1417,
           6.975,
           7.8958,
           7.05,
           13,
           15.0458,
           53.1,
           9.2167,
           79.2,
           6.75,
           11.5,
           36.75,
           7.7958,
           26,
           13,
           12.525,
           8.05,
           14.5,
           7.3125,
           61.3792,
           8.05,
           8.6625,
           69.55,
           16.1,
           7.775,
           8.6625,
           39.6875,
           20.525,
           25.925,
           56.4958,
           33.5,
           29.125,
           7.925,
           30.6958,
           7.8542,
           25.4667,
           13,
           0,
           15.05,
           31.3875,
           39,
           50,
           26.55,
           15.5,
           7.8958,
           13,
           26,
           7.75,
           8.4042,
           9.5,
           69.55,
           6.4958,
           7.225,
           8.05,
           15.85,
           18.7875,
           31,
           7.05,
           7.25,
           13,
           7.75,
           27,
           10.5,
           8.05,
           13,
           8.05,
           7.8958,
           90,
           9.35,
           10.5,
           7.25,
           13,
           7.775,
           13.5,
           10.5,
           26,
           10.5,
           12.275,
           10.5,
           7.125,
           7.225,
           90,
           52.5542,
           26,
           7.25,
           26.55,
           16.1,
           7.75,
           31.3875,
           79.65,
           0,
           10.5,
           39.6875,
           7.775,
           31,
           0,
           29.7,
           0,
           29.125,
           7.75,
           7.8542,
           9.5,
           8.05,
           26,
           8.6625,
           9.5,
           7.8958,
           13,
           12.875,
           7.8958,
           27.7208,
           7.2292,
           30.5,
           23.25,
           0,
           8.05,
           151.55,
           24,
           7.8958,
           26.25,
           14,
           7.25,
           7.8958,
           69.55,
           6.2375,
           28.5,
           153.4625,
           18,
           7.8958,
           66.6,
           8.05,
           35.5,
           26,
           13,
           13,
           13,
           15.9,
           8.6625,
           9.225,
           35,
           7.2292,
           17.8,
           7.225,
           9.5,
           27.9,
           27.7208,
           7.05,
           15.5,
           7.25,
           55.4417,
           6.4958,
           8.05,
           135.6333,
           211.5,
           4.0125,
           7.775,
           7.925,
           7.8958,
           73.5,
           46.9,
           7.7292,
           120,
           7.7958,
           7.925,
           7.7958,
           26,
           10.5,
           7.925,
           8.05,
           15.85,
           21,
           7.75,
           18.75,
           7.775,
           7.8958,
           6.8583,
           0,
           7.925,
           13,
           7.8958,
           7.7333,
           7.875,
           20.2125,
           7.25,
           7.75,
           8.05,
           26.55,
           7.125,
           55.9,
           263,
           10.5,
           9.5,
           7.775,
           8.1125,
           81.8583,
           26.55,
           30.5,
           27.75,
           19.9667,
           27.75,
           89.1042,
           8.05,
           7.8958,
           26.55,
           7.75,
           26.55,
           8.05,
           38.5,
           13,
           8.05,
           7.05,
           0,
           26.55,
           7.725,
           7.25,
           8.6625,
           52,
           21,
           7.0458,
           7.5208,
           46.9,
           0,
           8.05,
           91.0792,
           29.7,
           8.05,
           15.9,
           19.9667,
           7.25,
           30.5,
           49.5042,
           8.05,
           14.4583,
           15.1,
           7.7958,
           8.6625,
           108.9,
           26.55,
           22.525,
           56.4958,
           7.75,
           8.05,
           26.2875,
           7.4958,
           34.0208,
           24.15,
           7.8958,
           7.8958,
           7.225,
           7.2292,
           7.75,
           221.7792,
           7.925,
           11.5,
           7.2292,
           7.2292,
           26.55,
           14.5,
           26,
           106.425,
           26,
           13.8625,
           20.525,
           36.75,
           110.8833,
           26,
           7.8292,
           7.225,
           26.55,
           227.525,
           7.75,
           7.8958,
           13.5,
           8.05,
           24.15,
           7.8958,
           7.2292,
           7.8542,
           10.5,
           26.3875,
           8.05,
           14.5,
           7.925,
           26,
           40.125,
           8.7125,
           15,
           79.2,
           8.05,
           8.05,
           7.125,
           7.25,
           26,
           24.15,
           0,
           7.225,
           56.9292,
           7.8958,
           42.4,
           8.05,
           26.55,
           15.55,
           7.8958,
           30.5,
           7.05,
           7.75,
           8.05,
           14.4,
           10.5,
           14.4542,
           52.5542,
           15.7417,
           7.8542,
           16.1,
           32.3208,
           12.35,
           7.8958,
           7.7333,
           30,
           7.0542,
           30.5,
           0,
           7.925,
           26.25,
           16.1,
           7.8542,
           56.4958,
           76.7292,
           7.8958,
           35.5,
           7.55,
           7.8958,
           8.4333,
           73.5,
           7.8958,
           13,
           113.275,
           133.65,
           7.225,
           25.5875,
           7.4958,
           7.925,
           73.5,
           13,
           7.775,
           8.05,
           52,
           10.5,
           13,
           0,
           7.775,
           8.05,
           512.3292,
           76.7292,
           9.225,
           46.9,
           39,
           41.5792,
           39.6875,
           10.1708,
           7.7958,
           57,
           56.4958,
           7.225,
           26.55,
           13.5,
           8.05,
           110.8833,
           7.65,
           26.2875,
           7.7417,
           7.8542,
           26,
           26.2875,
           15.2458,
           26.55,
           52,
           9.4833,
           13,
           7.65,
           15.5,
           7.775,
           7.0542,
           13,
           13,
           53.1,
           8.6625,
           26,
           18.7875,
           0,
           13,
           13,
           16.1,
           512.3292,
           7.8958,
           7.8958,
           30,
           78.85,
           16.1,
           7.925,
           71,
           20.25,
           53.1,
           7.75,
           12.475,
           9.5,
           7.8958,
           14.5,
           7.7958,
           11.5,
           8.05,
           14.5,
           7.125,
           7.2292,
           7.775,
           39.6,
           24.15,
           8.3625,
           9.5,
           7.8542,
           7.225,
           7.75,
           7.75,
           7.7375,
           30,
           23.45,
           7.05,
           7.25,
           29.125,
           20.575,
           79.2,
           7.75,
           26,
           30.6958,
           7.8958,
           13,
           7.2292,
           13,
           120,
           8.5167,
           6.975,
           7.775,
           0,
           13,
           7.8875,
           24.15,
           10.5,
           8.05,
           0,
           37.0042,
           6.45,
           27.9,
           8.6625,
           0,
           39.6875,
           6.95,
           56.4958,
           37.0042,
           7.75,
           18.75,
           7.2292,
           7.8542,
           8.3,
           8.6625,
           8.05,
           56.4958,
           29.7,
           7.925,
           10.5,
           6.4375,
           8.6625,
           7.55,
           69.55,
           7.8958,
           33,
           31.275,
           7.775,
           26.55,
           7.2292,
           14.1083,
           11.5,
           13,
           50.4958,
           9.5,
           11.1333,
           7.8958,
           5,
           9,
           9.8458,
           7.8958,
           7.8958,
           7.8958,
           10.5,
           7.05,
           13,
           30,
           7.75
          ],
          "sizemode": "area",
          "sizeref": 1.280823,
          "symbol": "circle"
         },
         "mode": "markers",
         "name": "male",
         "orientation": "h",
         "showlegend": true,
         "type": "scatter",
         "x": [
          22,
          35,
          null,
          54,
          2,
          20,
          39,
          2,
          null,
          35,
          34,
          28,
          null,
          19,
          null,
          40,
          66,
          28,
          42,
          null,
          21,
          null,
          null,
          null,
          null,
          7,
          21,
          65,
          null,
          28.5,
          11,
          22,
          45,
          4,
          null,
          null,
          19,
          26,
          32,
          21,
          26,
          32,
          25,
          null,
          null,
          0.83,
          22,
          29,
          28,
          16,
          null,
          24,
          29,
          20,
          46,
          26,
          59,
          null,
          71,
          23,
          34,
          null,
          21,
          33,
          37,
          28,
          null,
          38,
          47,
          22,
          21,
          70.5,
          29,
          24,
          21,
          null,
          32.5,
          54,
          12,
          null,
          24,
          45,
          33,
          20,
          25,
          23,
          37,
          16,
          24,
          19,
          18,
          19,
          27,
          36.5,
          42,
          51,
          55.5,
          40.5,
          null,
          51,
          30,
          null,
          null,
          44,
          26,
          17,
          1,
          9,
          null,
          28,
          61,
          4,
          21,
          56,
          18,
          null,
          30,
          36,
          null,
          9,
          1,
          null,
          45,
          40,
          36,
          19,
          3,
          null,
          42,
          28,
          null,
          34,
          45.5,
          18,
          32,
          26,
          40,
          24,
          22,
          30,
          null,
          42,
          30,
          16,
          27,
          51,
          null,
          38,
          22,
          19,
          20.5,
          18,
          29,
          59,
          24,
          44,
          19,
          33,
          29,
          22,
          30,
          44,
          37,
          54,
          null,
          62,
          30,
          null,
          3,
          52,
          40,
          36,
          16,
          25,
          null,
          25,
          37,
          null,
          7,
          65,
          28,
          16,
          19,
          null,
          33,
          30,
          22,
          42,
          36,
          24,
          null,
          23.5,
          null,
          null,
          19,
          null,
          0.92,
          30,
          28,
          43,
          54,
          22,
          27,
          null,
          61,
          45.5,
          38,
          16,
          null,
          29,
          45,
          45,
          2,
          28,
          25,
          36,
          3,
          42,
          23,
          null,
          15,
          25,
          null,
          28,
          40,
          29,
          35,
          null,
          30,
          25,
          18,
          19,
          22,
          27,
          20,
          19,
          32,
          null,
          18,
          1,
          null,
          36,
          21,
          28,
          22,
          46,
          23,
          39,
          26,
          28,
          34,
          51,
          3,
          21,
          null,
          null,
          null,
          44,
          30,
          null,
          21,
          29,
          18,
          null,
          null,
          32,
          28,
          17,
          50,
          64,
          31,
          20,
          25,
          null,
          4,
          34,
          52,
          36,
          null,
          30,
          49,
          null,
          29,
          65,
          null,
          48,
          34,
          47,
          48,
          null,
          38,
          null,
          56,
          null,
          null,
          38,
          null,
          34,
          29,
          22,
          9,
          null,
          50,
          25,
          58,
          30,
          9,
          null,
          21,
          55,
          71,
          21,
          null,
          null,
          24,
          17,
          18,
          null,
          28,
          26,
          29,
          null,
          36,
          24,
          47,
          null,
          32,
          22,
          null,
          null,
          40.5,
          null,
          39,
          23,
          null,
          17,
          45,
          null,
          32,
          50,
          64,
          null,
          33,
          8,
          17,
          27,
          null,
          22,
          62,
          null,
          null,
          40,
          28,
          null,
          24,
          19,
          null,
          32,
          62,
          36,
          16,
          19,
          32,
          54,
          36,
          null,
          47,
          60,
          22,
          null,
          35,
          47,
          37,
          36,
          49,
          null,
          49,
          null,
          null,
          44,
          35,
          36,
          30,
          27,
          null,
          null,
          35,
          34,
          26,
          27,
          42,
          20,
          21,
          21,
          61,
          57,
          26,
          null,
          80,
          51,
          32,
          null,
          32,
          31,
          null,
          20,
          null,
          48,
          19,
          56,
          null,
          null,
          21,
          24,
          null,
          23,
          58,
          50,
          40,
          47,
          36,
          20,
          32,
          25,
          null,
          43,
          31,
          70,
          31,
          null,
          18,
          24.5,
          36,
          27,
          20,
          14,
          60,
          25,
          14,
          19,
          18,
          31,
          null,
          25,
          60,
          52,
          44,
          49,
          42,
          35,
          25,
          26,
          39,
          42,
          null,
          null,
          48,
          29,
          52,
          19,
          null,
          33,
          17,
          34,
          50,
          27,
          20,
          25,
          11,
          null,
          23,
          23,
          28.5,
          35,
          null,
          null,
          null,
          36,
          24,
          31,
          70,
          16,
          19,
          31,
          6,
          33,
          23,
          0.67,
          28,
          18,
          34,
          null,
          41,
          20,
          16,
          null,
          null,
          32,
          24,
          48,
          null,
          18,
          null,
          null,
          29,
          null,
          25,
          25,
          8,
          1,
          46,
          null,
          16,
          null,
          25,
          39,
          30,
          34,
          11,
          0.42,
          27,
          31,
          39,
          39,
          26,
          39,
          35,
          30.5,
          null,
          31,
          43,
          10,
          27,
          38,
          2,
          null,
          null,
          1,
          null,
          0.83,
          null,
          23,
          18,
          21,
          null,
          32,
          null,
          20,
          16,
          34.5,
          17,
          42,
          null,
          35,
          28,
          4,
          74,
          51,
          null,
          41,
          21,
          24,
          31,
          null,
          4,
          26,
          33,
          47,
          20,
          19,
          null,
          33,
          28,
          25,
          27,
          26,
          32
         ],
         "xaxis": "x",
         "y": [
          false,
          false,
          false,
          false,
          false,
          false,
          false,
          false,
          true,
          false,
          true,
          true,
          false,
          false,
          false,
          false,
          false,
          false,
          false,
          true,
          false,
          false,
          false,
          false,
          false,
          false,
          false,
          false,
          true,
          false,
          false,
          false,
          false,
          false,
          false,
          true,
          false,
          false,
          false,
          false,
          false,
          true,
          false,
          false,
          false,
          true,
          false,
          true,
          false,
          false,
          false,
          false,
          false,
          false,
          false,
          false,
          false,
          false,
          false,
          true,
          false,
          false,
          false,
          false,
          false,
          false,
          true,
          false,
          false,
          false,
          false,
          false,
          false,
          false,
          false,
          false,
          false,
          false,
          true,
          false,
          true,
          false,
          false,
          false,
          false,
          false,
          false,
          false,
          false,
          false,
          false,
          false,
          true,
          false,
          false,
          false,
          false,
          false,
          false,
          false,
          false,
          false,
          false,
          false,
          false,
          false,
          false,
          true,
          false,
          false,
          false,
          false,
          false,
          false,
          false,
          false,
          false,
          false,
          false,
          false,
          true,
          false,
          true,
          false,
          false,
          false,
          true,
          false,
          false,
          false,
          false,
          false,
          false,
          true,
          false,
          true,
          true,
          false,
          false,
          false,
          false,
          false,
          false,
          true,
          false,
          false,
          false,
          true,
          false,
          true,
          false,
          false,
          false,
          false,
          false,
          false,
          false,
          false,
          false,
          false,
          false,
          false,
          true,
          false,
          false,
          false,
          false,
          false,
          true,
          false,
          false,
          false,
          false,
          true,
          false,
          true,
          false,
          false,
          false,
          false,
          false,
          false,
          true,
          false,
          false,
          true,
          false,
          true,
          false,
          false,
          false,
          false,
          true,
          true,
          false,
          false,
          true,
          false,
          false,
          false,
          false,
          false,
          false,
          false,
          false,
          false,
          false,
          false,
          false,
          false,
          true,
          false,
          true,
          false,
          false,
          false,
          true,
          false,
          false,
          false,
          false,
          false,
          false,
          false,
          false,
          false,
          false,
          false,
          false,
          true,
          false,
          false,
          false,
          false,
          false,
          false,
          false,
          false,
          false,
          false,
          false,
          true,
          true,
          false,
          false,
          false,
          false,
          true,
          false,
          false,
          false,
          false,
          true,
          false,
          false,
          false,
          false,
          true,
          false,
          false,
          false,
          false,
          false,
          false,
          false,
          true,
          true,
          false,
          false,
          false,
          false,
          false,
          false,
          true,
          true,
          true,
          true,
          false,
          false,
          false,
          true,
          false,
          true,
          false,
          false,
          true,
          false,
          false,
          false,
          false,
          false,
          false,
          false,
          false,
          false,
          false,
          false,
          false,
          false,
          false,
          false,
          false,
          false,
          true,
          false,
          false,
          true,
          false,
          false,
          false,
          false,
          false,
          false,
          false,
          false,
          false,
          false,
          true,
          false,
          true,
          true,
          false,
          true,
          false,
          false,
          false,
          false,
          false,
          false,
          false,
          false,
          false,
          false,
          false,
          false,
          false,
          false,
          false,
          true,
          false,
          false,
          true,
          false,
          true,
          true,
          false,
          false,
          true,
          false,
          false,
          false,
          false,
          false,
          false,
          false,
          false,
          false,
          true,
          true,
          true,
          false,
          false,
          true,
          false,
          false,
          false,
          false,
          true,
          false,
          false,
          false,
          false,
          false,
          false,
          false,
          false,
          true,
          false,
          false,
          false,
          true,
          false,
          false,
          true,
          false,
          false,
          false,
          false,
          false,
          false,
          true,
          true,
          false,
          false,
          false,
          false,
          false,
          false,
          true,
          false,
          true,
          false,
          false,
          false,
          false,
          false,
          true,
          true,
          false,
          true,
          false,
          false,
          false,
          false,
          false,
          false,
          false,
          true,
          false,
          false,
          false,
          true,
          false,
          false,
          false,
          false,
          false,
          false,
          true,
          false,
          false,
          false,
          true,
          true,
          false,
          false,
          false,
          false,
          false,
          false,
          false,
          true,
          true,
          false,
          false,
          false,
          false,
          false,
          false,
          true,
          false,
          false,
          false,
          true,
          true,
          false,
          true,
          false,
          false,
          false,
          false,
          false,
          false,
          false,
          false,
          true,
          false,
          false,
          false,
          false,
          false,
          false,
          false,
          true,
          false,
          false,
          true,
          false,
          false,
          true,
          false,
          false,
          false,
          false,
          true,
          false,
          false,
          true,
          false,
          false,
          false,
          false,
          false,
          true,
          false,
          false,
          false,
          false,
          false,
          false,
          false,
          false,
          false,
          false,
          false,
          false,
          false,
          false,
          false,
          true,
          false,
          false,
          false,
          false,
          false,
          false,
          false,
          false,
          true,
          true,
          true,
          false,
          false,
          false,
          false,
          false,
          false,
          false,
          false,
          false,
          false,
          false,
          true,
          false,
          false,
          false,
          false,
          true,
          true,
          true,
          false,
          false,
          false,
          false,
          false,
          true,
          true,
          false,
          false,
          false,
          false,
          false,
          false,
          false,
          false,
          false,
          false,
          true,
          false,
          false,
          false,
          false,
          false,
          false,
          true,
          false,
          false,
          false,
          false,
          false,
          false,
          false,
          false,
          false,
          false,
          true,
          false
         ],
         "yaxis": "y"
        },
        {
         "hovertemplate": "sex=female<br>age=%{x}<br>survived=%{y}<br>fare=%{marker.size}<extra></extra>",
         "legendgroup": "female",
         "marker": {
          "color": "#EF553B",
          "size": [
           71.2833,
           7.925,
           53.1,
           11.1333,
           30.0708,
           16.7,
           26.55,
           7.8542,
           16,
           18,
           7.225,
           8.0292,
           21.075,
           31.3875,
           7.8792,
           146.5208,
           7.75,
           18,
           11.2417,
           9.475,
           21,
           41.5792,
           7.8792,
           7.75,
           17.8,
           76.7292,
           26,
           10.5,
           27.75,
           80,
           10.5,
           7.925,
           46.9,
           12.475,
           7.7875,
           10.5,
           15.85,
           263,
           23,
           7.8958,
           7.65,
           24.15,
           14.4542,
           9.825,
           14.4583,
           31.275,
           13,
           22.3583,
           14.5,
           26,
           26.2833,
           15.2458,
           7.75,
           15.85,
           34.375,
           66.6,
           7.7333,
           15.75,
           55,
           27.9,
           11.1333,
           28.7125,
           69.55,
           22.025,
           15.5,
           13,
           7.8542,
           27.7208,
           146.5208,
           7.75,
           13,
           10.4625,
           7.75,
           21,
           113.275,
           7.925,
           76.2917,
           25.4667,
           83.475,
           31.3875,
           7.55,
           26.25,
           14.4542,
           15.5,
           7.775,
           14.5,
           10.4625,
           20.2125,
           15.2458,
           79.2,
           86.5,
           512.3292,
           26,
           7.75,
           153.4625,
           135.6333,
           19.5,
           7.75,
           77.9583,
           7.75,
           20.25,
           7.75,
           78.85,
           91.0792,
           8.85,
           151.55,
           247.5208,
           7.75,
           12.35,
           110.8833,
           108.9,
           56.9292,
           83.1583,
           262.375,
           26,
           7.8542,
           26,
           164.8667,
           134.5,
           12.35,
           29,
           135.6333,
           13,
           20.525,
           57.9792,
           23.25,
           133.65,
           134.5,
           263,
           13,
           13,
           16.1,
           55,
           13,
           7.8792,
           7.8792,
           14.4542,
           75.25,
           7.2292,
           7.75,
           69.3,
           21.075,
           82.1708,
           7.25,
           227.525,
           15.7417,
           52,
           13,
           12,
           113.275,
           16.7,
           7.8542,
           12.65,
           9.825,
           8.6625,
           25.4667,
           90,
           8.05,
           32.5,
           13,
           24.15,
           14.4,
           26,
           26,
           16.1,
           26,
           120,
           34.375,
           18.75,
           26.25,
           13,
           19.5,
           19.2583,
           51.8625,
           10.5,
           19.2583,
           27.75,
           13.7917,
           9.8375,
           12.2875,
           9.5875,
           25.4667,
           90,
           78.2667,
           151.55,
           7.75,
           7.6292,
           9.5875,
           86.5,
           26,
           59.4,
           10.5,
           26,
           93.5,
           57.9792,
           10.5,
           26,
           22.3583,
           8.6625,
           26.25,
           106.425,
           49.5,
           71,
           31.275,
           31.275,
           26,
           7.775,
           39.6,
           79.65,
           17.4,
           8.05,
           21.075,
           51.4792,
           7.75,
           13,
           55.9,
           14.4583,
           30,
           110.8833,
           79.65,
           78.2667,
           7.75,
           33,
           27,
           41.5792,
           153.4625,
           31.275,
           15.5,
           65,
           16.1,
           39,
           77.9583,
           27.9,
           13,
           39.6875,
           69.3,
           27.9,
           19.2583,
           7.55,
           23,
           7.8292,
           6.75,
           15.5,
           52,
           39,
           9.8417,
           46.9,
           8.1375,
           211.3375,
           13.4167,
           7.7333,
           227.525,
           14.4542,
           13.5,
           151.55,
           49.5042,
           227.525,
           10.5,
           33,
           21,
           7.7375,
           7.925,
           211.3375,
           34.375,
           262.375,
           13,
           23,
           65,
           86.5,
           120,
           77.9583,
           7.75,
           10.5,
           23,
           12.475,
           211.3375,
           7.2292,
           57,
           7.4958,
           69.55,
           25.9292,
           8.6833,
           24.15,
           26.25,
           7.775,
           53.1,
           31.275,
           7.925,
           93.5,
           12.475,
           80,
           14.4542,
           83.1583,
           31,
           89.1042,
           15.2458,
           39.4,
           26,
           9.35,
           164.8667,
           19.2583,
           25.9292,
           69.55,
           13,
           13.8583,
           52.5542,
           24,
           7.225,
           83.1583,
           26,
           10.5167,
           29.125,
           30,
           23.45
          ],
          "sizemode": "area",
          "sizeref": 1.280823,
          "symbol": "circle"
         },
         "mode": "markers",
         "name": "female",
         "orientation": "h",
         "showlegend": true,
         "type": "scatter",
         "x": [
          38,
          26,
          35,
          27,
          14,
          4,
          58,
          14,
          55,
          31,
          null,
          15,
          8,
          38,
          null,
          null,
          null,
          18,
          14,
          40,
          27,
          3,
          19,
          null,
          18,
          49,
          29,
          21,
          5,
          38,
          29,
          17,
          16,
          30,
          null,
          17,
          33,
          23,
          34,
          28,
          21,
          null,
          14.5,
          20,
          17,
          2,
          32.5,
          null,
          47,
          29,
          19,
          null,
          22,
          24,
          9,
          22,
          16,
          40,
          null,
          45,
          1,
          50,
          null,
          4,
          null,
          32,
          19,
          44,
          58,
          null,
          24,
          2,
          16,
          35,
          31,
          27,
          32,
          null,
          35,
          5,
          null,
          8,
          null,
          null,
          25,
          24,
          29,
          41,
          29,
          null,
          30,
          35,
          50,
          null,
          58,
          35,
          41,
          null,
          63,
          45,
          35,
          22,
          26,
          19,
          24,
          2,
          50,
          null,
          null,
          null,
          17,
          30,
          24,
          18,
          26,
          26,
          24,
          31,
          40,
          30,
          22,
          36,
          36,
          31,
          16,
          null,
          null,
          41,
          24,
          24,
          40,
          null,
          22,
          38,
          null,
          null,
          45,
          60,
          null,
          null,
          24,
          3,
          null,
          22,
          42,
          1,
          35,
          36,
          17,
          23,
          24,
          31,
          28,
          21,
          20,
          null,
          33,
          null,
          34,
          18,
          10,
          28,
          28,
          19,
          null,
          42,
          14,
          21,
          24,
          45,
          28,
          13,
          5,
          null,
          50,
          0.75,
          33,
          23,
          22,
          2,
          63,
          null,
          35,
          54,
          25,
          21,
          null,
          37,
          16,
          33,
          54,
          34,
          36,
          30,
          44,
          50,
          2,
          null,
          30,
          7,
          30,
          22,
          36,
          9,
          11,
          19,
          22,
          48,
          39,
          36,
          null,
          29,
          53,
          null,
          34,
          39,
          null,
          25,
          39,
          18,
          52,
          null,
          null,
          24,
          22,
          40,
          39,
          null,
          24,
          26,
          4,
          21,
          9,
          28,
          41,
          24,
          2,
          0.75,
          23,
          18,
          null,
          18,
          32,
          null,
          40,
          18,
          43,
          null,
          15,
          4,
          null,
          18,
          18,
          45,
          22,
          24,
          38,
          27,
          6,
          30,
          null,
          25,
          29,
          48,
          21,
          30,
          4,
          48,
          33,
          36,
          51,
          30.5,
          57,
          54,
          5,
          43,
          13,
          17,
          18,
          null,
          49,
          31,
          30,
          31,
          18,
          33,
          6,
          23,
          52,
          27,
          62,
          15,
          39,
          30,
          null,
          9,
          16,
          44,
          18,
          45,
          24,
          48,
          null,
          42,
          27,
          47,
          28,
          15,
          56,
          25,
          22,
          39,
          19,
          null
         ],
         "xaxis": "x",
         "y": [
          true,
          true,
          true,
          true,
          true,
          true,
          true,
          false,
          true,
          false,
          true,
          true,
          false,
          true,
          true,
          true,
          true,
          false,
          true,
          false,
          false,
          true,
          true,
          true,
          false,
          true,
          true,
          true,
          true,
          true,
          true,
          true,
          false,
          true,
          true,
          true,
          true,
          true,
          true,
          false,
          true,
          true,
          false,
          false,
          false,
          false,
          true,
          true,
          false,
          true,
          true,
          false,
          true,
          true,
          false,
          true,
          true,
          true,
          true,
          false,
          true,
          false,
          false,
          true,
          true,
          true,
          true,
          true,
          true,
          true,
          false,
          false,
          true,
          true,
          true,
          true,
          true,
          false,
          true,
          true,
          false,
          true,
          false,
          true,
          false,
          true,
          false,
          false,
          true,
          true,
          true,
          true,
          true,
          false,
          true,
          true,
          true,
          true,
          true,
          false,
          true,
          true,
          true,
          true,
          false,
          false,
          true,
          true,
          true,
          true,
          true,
          true,
          true,
          true,
          false,
          true,
          true,
          true,
          true,
          true,
          true,
          true,
          true,
          true,
          true,
          true,
          true,
          true,
          true,
          true,
          true,
          true,
          true,
          false,
          true,
          true,
          false,
          true,
          true,
          true,
          true,
          false,
          true,
          true,
          true,
          true,
          true,
          true,
          true,
          true,
          true,
          false,
          true,
          false,
          false,
          false,
          true,
          false,
          true,
          true,
          false,
          false,
          true,
          true,
          true,
          true,
          true,
          false,
          true,
          true,
          true,
          true,
          true,
          true,
          true,
          true,
          true,
          true,
          false,
          true,
          true,
          false,
          true,
          true,
          false,
          false,
          false,
          false,
          true,
          true,
          true,
          true,
          true,
          true,
          true,
          true,
          true,
          true,
          false,
          true,
          true,
          true,
          true,
          false,
          false,
          true,
          true,
          true,
          true,
          true,
          false,
          false,
          true,
          true,
          true,
          true,
          false,
          true,
          true,
          true,
          true,
          false,
          true,
          true,
          true,
          true,
          false,
          true,
          true,
          false,
          true,
          true,
          false,
          true,
          false,
          true,
          false,
          true,
          true,
          true,
          true,
          false,
          false,
          true,
          true,
          true,
          false,
          false,
          true,
          true,
          true,
          true,
          false,
          true,
          true,
          true,
          true,
          true,
          true,
          true,
          true,
          false,
          true,
          false,
          true,
          true,
          true,
          true,
          true,
          true,
          true,
          false,
          false,
          true,
          true,
          true,
          true,
          true,
          true,
          false,
          true,
          true,
          false,
          true,
          false,
          true,
          false,
          false,
          true,
          true,
          true,
          true,
          true,
          true,
          true,
          false,
          true,
          false,
          true,
          true,
          true,
          true,
          false,
          true,
          true,
          true,
          true,
          true,
          true,
          true,
          false,
          false,
          true,
          false
         ],
         "yaxis": "y"
        }
       ],
       "layout": {
        "height": 250,
        "legend": {
         "itemsizing": "constant",
         "title": {
          "text": "sex"
         },
         "tracegroupgap": 0
        },
        "margin": {
         "t": 60
        },
        "template": {
         "data": {
          "bar": [
           {
            "error_x": {
             "color": "#2a3f5f"
            },
            "error_y": {
             "color": "#2a3f5f"
            },
            "marker": {
             "line": {
              "color": "#E5ECF6",
              "width": 0.5
             }
            },
            "type": "bar"
           }
          ],
          "barpolar": [
           {
            "marker": {
             "line": {
              "color": "#E5ECF6",
              "width": 0.5
             }
            },
            "type": "barpolar"
           }
          ],
          "carpet": [
           {
            "aaxis": {
             "endlinecolor": "#2a3f5f",
             "gridcolor": "white",
             "linecolor": "white",
             "minorgridcolor": "white",
             "startlinecolor": "#2a3f5f"
            },
            "baxis": {
             "endlinecolor": "#2a3f5f",
             "gridcolor": "white",
             "linecolor": "white",
             "minorgridcolor": "white",
             "startlinecolor": "#2a3f5f"
            },
            "type": "carpet"
           }
          ],
          "choropleth": [
           {
            "colorbar": {
             "outlinewidth": 0,
             "ticks": ""
            },
            "type": "choropleth"
           }
          ],
          "contour": [
           {
            "colorbar": {
             "outlinewidth": 0,
             "ticks": ""
            },
            "colorscale": [
             [
              0,
              "#0d0887"
             ],
             [
              0.1111111111111111,
              "#46039f"
             ],
             [
              0.2222222222222222,
              "#7201a8"
             ],
             [
              0.3333333333333333,
              "#9c179e"
             ],
             [
              0.4444444444444444,
              "#bd3786"
             ],
             [
              0.5555555555555556,
              "#d8576b"
             ],
             [
              0.6666666666666666,
              "#ed7953"
             ],
             [
              0.7777777777777778,
              "#fb9f3a"
             ],
             [
              0.8888888888888888,
              "#fdca26"
             ],
             [
              1,
              "#f0f921"
             ]
            ],
            "type": "contour"
           }
          ],
          "contourcarpet": [
           {
            "colorbar": {
             "outlinewidth": 0,
             "ticks": ""
            },
            "type": "contourcarpet"
           }
          ],
          "heatmap": [
           {
            "colorbar": {
             "outlinewidth": 0,
             "ticks": ""
            },
            "colorscale": [
             [
              0,
              "#0d0887"
             ],
             [
              0.1111111111111111,
              "#46039f"
             ],
             [
              0.2222222222222222,
              "#7201a8"
             ],
             [
              0.3333333333333333,
              "#9c179e"
             ],
             [
              0.4444444444444444,
              "#bd3786"
             ],
             [
              0.5555555555555556,
              "#d8576b"
             ],
             [
              0.6666666666666666,
              "#ed7953"
             ],
             [
              0.7777777777777778,
              "#fb9f3a"
             ],
             [
              0.8888888888888888,
              "#fdca26"
             ],
             [
              1,
              "#f0f921"
             ]
            ],
            "type": "heatmap"
           }
          ],
          "heatmapgl": [
           {
            "colorbar": {
             "outlinewidth": 0,
             "ticks": ""
            },
            "colorscale": [
             [
              0,
              "#0d0887"
             ],
             [
              0.1111111111111111,
              "#46039f"
             ],
             [
              0.2222222222222222,
              "#7201a8"
             ],
             [
              0.3333333333333333,
              "#9c179e"
             ],
             [
              0.4444444444444444,
              "#bd3786"
             ],
             [
              0.5555555555555556,
              "#d8576b"
             ],
             [
              0.6666666666666666,
              "#ed7953"
             ],
             [
              0.7777777777777778,
              "#fb9f3a"
             ],
             [
              0.8888888888888888,
              "#fdca26"
             ],
             [
              1,
              "#f0f921"
             ]
            ],
            "type": "heatmapgl"
           }
          ],
          "histogram": [
           {
            "marker": {
             "colorbar": {
              "outlinewidth": 0,
              "ticks": ""
             }
            },
            "type": "histogram"
           }
          ],
          "histogram2d": [
           {
            "colorbar": {
             "outlinewidth": 0,
             "ticks": ""
            },
            "colorscale": [
             [
              0,
              "#0d0887"
             ],
             [
              0.1111111111111111,
              "#46039f"
             ],
             [
              0.2222222222222222,
              "#7201a8"
             ],
             [
              0.3333333333333333,
              "#9c179e"
             ],
             [
              0.4444444444444444,
              "#bd3786"
             ],
             [
              0.5555555555555556,
              "#d8576b"
             ],
             [
              0.6666666666666666,
              "#ed7953"
             ],
             [
              0.7777777777777778,
              "#fb9f3a"
             ],
             [
              0.8888888888888888,
              "#fdca26"
             ],
             [
              1,
              "#f0f921"
             ]
            ],
            "type": "histogram2d"
           }
          ],
          "histogram2dcontour": [
           {
            "colorbar": {
             "outlinewidth": 0,
             "ticks": ""
            },
            "colorscale": [
             [
              0,
              "#0d0887"
             ],
             [
              0.1111111111111111,
              "#46039f"
             ],
             [
              0.2222222222222222,
              "#7201a8"
             ],
             [
              0.3333333333333333,
              "#9c179e"
             ],
             [
              0.4444444444444444,
              "#bd3786"
             ],
             [
              0.5555555555555556,
              "#d8576b"
             ],
             [
              0.6666666666666666,
              "#ed7953"
             ],
             [
              0.7777777777777778,
              "#fb9f3a"
             ],
             [
              0.8888888888888888,
              "#fdca26"
             ],
             [
              1,
              "#f0f921"
             ]
            ],
            "type": "histogram2dcontour"
           }
          ],
          "mesh3d": [
           {
            "colorbar": {
             "outlinewidth": 0,
             "ticks": ""
            },
            "type": "mesh3d"
           }
          ],
          "parcoords": [
           {
            "line": {
             "colorbar": {
              "outlinewidth": 0,
              "ticks": ""
             }
            },
            "type": "parcoords"
           }
          ],
          "pie": [
           {
            "automargin": true,
            "type": "pie"
           }
          ],
          "scatter": [
           {
            "marker": {
             "colorbar": {
              "outlinewidth": 0,
              "ticks": ""
             }
            },
            "type": "scatter"
           }
          ],
          "scatter3d": [
           {
            "line": {
             "colorbar": {
              "outlinewidth": 0,
              "ticks": ""
             }
            },
            "marker": {
             "colorbar": {
              "outlinewidth": 0,
              "ticks": ""
             }
            },
            "type": "scatter3d"
           }
          ],
          "scattercarpet": [
           {
            "marker": {
             "colorbar": {
              "outlinewidth": 0,
              "ticks": ""
             }
            },
            "type": "scattercarpet"
           }
          ],
          "scattergeo": [
           {
            "marker": {
             "colorbar": {
              "outlinewidth": 0,
              "ticks": ""
             }
            },
            "type": "scattergeo"
           }
          ],
          "scattergl": [
           {
            "marker": {
             "colorbar": {
              "outlinewidth": 0,
              "ticks": ""
             }
            },
            "type": "scattergl"
           }
          ],
          "scattermapbox": [
           {
            "marker": {
             "colorbar": {
              "outlinewidth": 0,
              "ticks": ""
             }
            },
            "type": "scattermapbox"
           }
          ],
          "scatterpolar": [
           {
            "marker": {
             "colorbar": {
              "outlinewidth": 0,
              "ticks": ""
             }
            },
            "type": "scatterpolar"
           }
          ],
          "scatterpolargl": [
           {
            "marker": {
             "colorbar": {
              "outlinewidth": 0,
              "ticks": ""
             }
            },
            "type": "scatterpolargl"
           }
          ],
          "scatterternary": [
           {
            "marker": {
             "colorbar": {
              "outlinewidth": 0,
              "ticks": ""
             }
            },
            "type": "scatterternary"
           }
          ],
          "surface": [
           {
            "colorbar": {
             "outlinewidth": 0,
             "ticks": ""
            },
            "colorscale": [
             [
              0,
              "#0d0887"
             ],
             [
              0.1111111111111111,
              "#46039f"
             ],
             [
              0.2222222222222222,
              "#7201a8"
             ],
             [
              0.3333333333333333,
              "#9c179e"
             ],
             [
              0.4444444444444444,
              "#bd3786"
             ],
             [
              0.5555555555555556,
              "#d8576b"
             ],
             [
              0.6666666666666666,
              "#ed7953"
             ],
             [
              0.7777777777777778,
              "#fb9f3a"
             ],
             [
              0.8888888888888888,
              "#fdca26"
             ],
             [
              1,
              "#f0f921"
             ]
            ],
            "type": "surface"
           }
          ],
          "table": [
           {
            "cells": {
             "fill": {
              "color": "#EBF0F8"
             },
             "line": {
              "color": "white"
             }
            },
            "header": {
             "fill": {
              "color": "#C8D4E3"
             },
             "line": {
              "color": "white"
             }
            },
            "type": "table"
           }
          ]
         },
         "layout": {
          "annotationdefaults": {
           "arrowcolor": "#2a3f5f",
           "arrowhead": 0,
           "arrowwidth": 1
          },
          "coloraxis": {
           "colorbar": {
            "outlinewidth": 0,
            "ticks": ""
           }
          },
          "colorscale": {
           "diverging": [
            [
             0,
             "#8e0152"
            ],
            [
             0.1,
             "#c51b7d"
            ],
            [
             0.2,
             "#de77ae"
            ],
            [
             0.3,
             "#f1b6da"
            ],
            [
             0.4,
             "#fde0ef"
            ],
            [
             0.5,
             "#f7f7f7"
            ],
            [
             0.6,
             "#e6f5d0"
            ],
            [
             0.7,
             "#b8e186"
            ],
            [
             0.8,
             "#7fbc41"
            ],
            [
             0.9,
             "#4d9221"
            ],
            [
             1,
             "#276419"
            ]
           ],
           "sequential": [
            [
             0,
             "#0d0887"
            ],
            [
             0.1111111111111111,
             "#46039f"
            ],
            [
             0.2222222222222222,
             "#7201a8"
            ],
            [
             0.3333333333333333,
             "#9c179e"
            ],
            [
             0.4444444444444444,
             "#bd3786"
            ],
            [
             0.5555555555555556,
             "#d8576b"
            ],
            [
             0.6666666666666666,
             "#ed7953"
            ],
            [
             0.7777777777777778,
             "#fb9f3a"
            ],
            [
             0.8888888888888888,
             "#fdca26"
            ],
            [
             1,
             "#f0f921"
            ]
           ],
           "sequentialminus": [
            [
             0,
             "#0d0887"
            ],
            [
             0.1111111111111111,
             "#46039f"
            ],
            [
             0.2222222222222222,
             "#7201a8"
            ],
            [
             0.3333333333333333,
             "#9c179e"
            ],
            [
             0.4444444444444444,
             "#bd3786"
            ],
            [
             0.5555555555555556,
             "#d8576b"
            ],
            [
             0.6666666666666666,
             "#ed7953"
            ],
            [
             0.7777777777777778,
             "#fb9f3a"
            ],
            [
             0.8888888888888888,
             "#fdca26"
            ],
            [
             1,
             "#f0f921"
            ]
           ]
          },
          "colorway": [
           "#636efa",
           "#EF553B",
           "#00cc96",
           "#ab63fa",
           "#FFA15A",
           "#19d3f3",
           "#FF6692",
           "#B6E880",
           "#FF97FF",
           "#FECB52"
          ],
          "font": {
           "color": "#2a3f5f"
          },
          "geo": {
           "bgcolor": "white",
           "lakecolor": "white",
           "landcolor": "#E5ECF6",
           "showlakes": true,
           "showland": true,
           "subunitcolor": "white"
          },
          "hoverlabel": {
           "align": "left"
          },
          "hovermode": "closest",
          "mapbox": {
           "style": "light"
          },
          "paper_bgcolor": "white",
          "plot_bgcolor": "#E5ECF6",
          "polar": {
           "angularaxis": {
            "gridcolor": "white",
            "linecolor": "white",
            "ticks": ""
           },
           "bgcolor": "#E5ECF6",
           "radialaxis": {
            "gridcolor": "white",
            "linecolor": "white",
            "ticks": ""
           }
          },
          "scene": {
           "xaxis": {
            "backgroundcolor": "#E5ECF6",
            "gridcolor": "white",
            "gridwidth": 2,
            "linecolor": "white",
            "showbackground": true,
            "ticks": "",
            "zerolinecolor": "white"
           },
           "yaxis": {
            "backgroundcolor": "#E5ECF6",
            "gridcolor": "white",
            "gridwidth": 2,
            "linecolor": "white",
            "showbackground": true,
            "ticks": "",
            "zerolinecolor": "white"
           },
           "zaxis": {
            "backgroundcolor": "#E5ECF6",
            "gridcolor": "white",
            "gridwidth": 2,
            "linecolor": "white",
            "showbackground": true,
            "ticks": "",
            "zerolinecolor": "white"
           }
          },
          "shapedefaults": {
           "line": {
            "color": "#2a3f5f"
           }
          },
          "ternary": {
           "aaxis": {
            "gridcolor": "white",
            "linecolor": "white",
            "ticks": ""
           },
           "baxis": {
            "gridcolor": "white",
            "linecolor": "white",
            "ticks": ""
           },
           "bgcolor": "#E5ECF6",
           "caxis": {
            "gridcolor": "white",
            "linecolor": "white",
            "ticks": ""
           }
          },
          "title": {
           "x": 0.05
          },
          "xaxis": {
           "automargin": true,
           "gridcolor": "white",
           "linecolor": "white",
           "ticks": "",
           "title": {
            "standoff": 15
           },
           "zerolinecolor": "white",
           "zerolinewidth": 2
          },
          "yaxis": {
           "automargin": true,
           "gridcolor": "white",
           "linecolor": "white",
           "ticks": "",
           "title": {
            "standoff": 15
           },
           "zerolinecolor": "white",
           "zerolinewidth": 2
          }
         }
        },
        "xaxis": {
         "anchor": "y",
         "domain": [
          0,
          1
         ],
         "title": {
          "text": "age"
         }
        },
        "yaxis": {
         "anchor": "x",
         "domain": [
          0,
          1
         ],
         "title": {
          "text": "survived"
         }
        }
       }
      },
      "text/html": [
       "<div>                            <div id=\"2353d6fe-0bc6-4244-b32f-70eb98392cab\" class=\"plotly-graph-div\" style=\"height:250px; width:100%;\"></div>            <script type=\"text/javascript\">                require([\"plotly\"], function(Plotly) {                    window.PLOTLYENV=window.PLOTLYENV || {};                                    if (document.getElementById(\"2353d6fe-0bc6-4244-b32f-70eb98392cab\")) {                    Plotly.newPlot(                        \"2353d6fe-0bc6-4244-b32f-70eb98392cab\",                        [{\"hovertemplate\": \"sex=male<br>age=%{x}<br>survived=%{y}<br>fare=%{marker.size}<extra></extra>\", \"legendgroup\": \"male\", \"marker\": {\"color\": \"#636efa\", \"size\": [7.25, 8.05, 8.4583, 51.8625, 21.075, 8.05, 31.275, 29.125, 13.0, 26.0, 13.0, 35.5, 7.225, 263.0, 7.8958, 27.7208, 10.5, 82.1708, 52.0, 7.2292, 8.05, 7.8958, 8.05, 15.5, 21.6792, 39.6875, 7.8, 61.9792, 35.5, 7.2292, 46.9, 7.2292, 83.475, 27.9, 27.7208, 15.2458, 8.1583, 8.6625, 10.5, 73.5, 14.4542, 56.4958, 7.65, 7.8958, 8.05, 29.0, 9.0, 9.5, 47.1, 34.375, 8.05, 8.05, 8.05, 7.8542, 61.175, 20.575, 7.25, 8.05, 34.6542, 63.3583, 26.0, 7.8958, 77.2875, 8.6542, 7.925, 7.8958, 7.775, 7.8958, 52.0, 8.05, 7.925, 7.75, 21.0, 247.5208, 73.5, 8.05, 30.0708, 77.2875, 11.2417, 7.75, 7.1417, 6.975, 7.8958, 7.05, 13.0, 15.0458, 53.1, 9.2167, 79.2, 6.75, 11.5, 36.75, 7.7958, 26.0, 13.0, 12.525, 8.05, 14.5, 7.3125, 61.3792, 8.05, 8.6625, 69.55, 16.1, 7.775, 8.6625, 39.6875, 20.525, 25.925, 56.4958, 33.5, 29.125, 7.925, 30.6958, 7.8542, 25.4667, 13.0, 0.0, 15.05, 31.3875, 39.0, 50.0, 26.55, 15.5, 7.8958, 13.0, 26.0, 7.75, 8.4042, 9.5, 69.55, 6.4958, 7.225, 8.05, 15.85, 18.7875, 31.0, 7.05, 7.25, 13.0, 7.75, 27.0, 10.5, 8.05, 13.0, 8.05, 7.8958, 90.0, 9.35, 10.5, 7.25, 13.0, 7.775, 13.5, 10.5, 26.0, 10.5, 12.275, 10.5, 7.125, 7.225, 90.0, 52.5542, 26.0, 7.25, 26.55, 16.1, 7.75, 31.3875, 79.65, 0.0, 10.5, 39.6875, 7.775, 31.0, 0.0, 29.7, 0.0, 29.125, 7.75, 7.8542, 9.5, 8.05, 26.0, 8.6625, 9.5, 7.8958, 13.0, 12.875, 7.8958, 27.7208, 7.2292, 30.5, 23.25, 0.0, 8.05, 151.55, 24.0, 7.8958, 26.25, 14.0, 7.25, 7.8958, 69.55, 6.2375, 28.5, 153.4625, 18.0, 7.8958, 66.6, 8.05, 35.5, 26.0, 13.0, 13.0, 13.0, 15.9, 8.6625, 9.225, 35.0, 7.2292, 17.8, 7.225, 9.5, 27.9, 27.7208, 7.05, 15.5, 7.25, 55.4417, 6.4958, 8.05, 135.6333, 211.5, 4.0125, 7.775, 7.925, 7.8958, 73.5, 46.9, 7.7292, 120.0, 7.7958, 7.925, 7.7958, 26.0, 10.5, 7.925, 8.05, 15.85, 21.0, 7.75, 18.75, 7.775, 7.8958, 6.8583, 0.0, 7.925, 13.0, 7.8958, 7.7333, 7.875, 20.2125, 7.25, 7.75, 8.05, 26.55, 7.125, 55.9, 263.0, 10.5, 9.5, 7.775, 8.1125, 81.8583, 26.55, 30.5, 27.75, 19.9667, 27.75, 89.1042, 8.05, 7.8958, 26.55, 7.75, 26.55, 8.05, 38.5, 13.0, 8.05, 7.05, 0.0, 26.55, 7.725, 7.25, 8.6625, 52.0, 21.0, 7.0458, 7.5208, 46.9, 0.0, 8.05, 91.0792, 29.7, 8.05, 15.9, 19.9667, 7.25, 30.5, 49.5042, 8.05, 14.4583, 15.1, 7.7958, 8.6625, 108.9, 26.55, 22.525, 56.4958, 7.75, 8.05, 26.2875, 7.4958, 34.0208, 24.15, 7.8958, 7.8958, 7.225, 7.2292, 7.75, 221.7792, 7.925, 11.5, 7.2292, 7.2292, 26.55, 14.5, 26.0, 106.425, 26.0, 13.8625, 20.525, 36.75, 110.8833, 26.0, 7.8292, 7.225, 26.55, 227.525, 7.75, 7.8958, 13.5, 8.05, 24.15, 7.8958, 7.2292, 7.8542, 10.5, 26.3875, 8.05, 14.5, 7.925, 26.0, 40.125, 8.7125, 15.0, 79.2, 8.05, 8.05, 7.125, 7.25, 26.0, 24.15, 0.0, 7.225, 56.9292, 7.8958, 42.4, 8.05, 26.55, 15.55, 7.8958, 30.5, 7.05, 7.75, 8.05, 14.4, 10.5, 14.4542, 52.5542, 15.7417, 7.8542, 16.1, 32.3208, 12.35, 7.8958, 7.7333, 30.0, 7.0542, 30.5, 0.0, 7.925, 26.25, 16.1, 7.8542, 56.4958, 76.7292, 7.8958, 35.5, 7.55, 7.8958, 8.4333, 73.5, 7.8958, 13.0, 113.275, 133.65, 7.225, 25.5875, 7.4958, 7.925, 73.5, 13.0, 7.775, 8.05, 52.0, 10.5, 13.0, 0.0, 7.775, 8.05, 512.3292, 76.7292, 9.225, 46.9, 39.0, 41.5792, 39.6875, 10.1708, 7.7958, 57.0, 56.4958, 7.225, 26.55, 13.5, 8.05, 110.8833, 7.65, 26.2875, 7.7417, 7.8542, 26.0, 26.2875, 15.2458, 26.55, 52.0, 9.4833, 13.0, 7.65, 15.5, 7.775, 7.0542, 13.0, 13.0, 53.1, 8.6625, 26.0, 18.7875, 0.0, 13.0, 13.0, 16.1, 512.3292, 7.8958, 7.8958, 30.0, 78.85, 16.1, 7.925, 71.0, 20.25, 53.1, 7.75, 12.475, 9.5, 7.8958, 14.5, 7.7958, 11.5, 8.05, 14.5, 7.125, 7.2292, 7.775, 39.6, 24.15, 8.3625, 9.5, 7.8542, 7.225, 7.75, 7.75, 7.7375, 30.0, 23.45, 7.05, 7.25, 29.125, 20.575, 79.2, 7.75, 26.0, 30.6958, 7.8958, 13.0, 7.2292, 13.0, 120.0, 8.5167, 6.975, 7.775, 0.0, 13.0, 7.8875, 24.15, 10.5, 8.05, 0.0, 37.0042, 6.45, 27.9, 8.6625, 0.0, 39.6875, 6.95, 56.4958, 37.0042, 7.75, 18.75, 7.2292, 7.8542, 8.3, 8.6625, 8.05, 56.4958, 29.7, 7.925, 10.5, 6.4375, 8.6625, 7.55, 69.55, 7.8958, 33.0, 31.275, 7.775, 26.55, 7.2292, 14.1083, 11.5, 13.0, 50.4958, 9.5, 11.1333, 7.8958, 5.0, 9.0, 9.8458, 7.8958, 7.8958, 7.8958, 10.5, 7.05, 13.0, 30.0, 7.75], \"sizemode\": \"area\", \"sizeref\": 1.280823, \"symbol\": \"circle\"}, \"mode\": \"markers\", \"name\": \"male\", \"orientation\": \"h\", \"showlegend\": true, \"type\": \"scatter\", \"x\": [22.0, 35.0, null, 54.0, 2.0, 20.0, 39.0, 2.0, null, 35.0, 34.0, 28.0, null, 19.0, null, 40.0, 66.0, 28.0, 42.0, null, 21.0, null, null, null, null, 7.0, 21.0, 65.0, null, 28.5, 11.0, 22.0, 45.0, 4.0, null, null, 19.0, 26.0, 32.0, 21.0, 26.0, 32.0, 25.0, null, null, 0.83, 22.0, 29.0, 28.0, 16.0, null, 24.0, 29.0, 20.0, 46.0, 26.0, 59.0, null, 71.0, 23.0, 34.0, null, 21.0, 33.0, 37.0, 28.0, null, 38.0, 47.0, 22.0, 21.0, 70.5, 29.0, 24.0, 21.0, null, 32.5, 54.0, 12.0, null, 24.0, 45.0, 33.0, 20.0, 25.0, 23.0, 37.0, 16.0, 24.0, 19.0, 18.0, 19.0, 27.0, 36.5, 42.0, 51.0, 55.5, 40.5, null, 51.0, 30.0, null, null, 44.0, 26.0, 17.0, 1.0, 9.0, null, 28.0, 61.0, 4.0, 21.0, 56.0, 18.0, null, 30.0, 36.0, null, 9.0, 1.0, null, 45.0, 40.0, 36.0, 19.0, 3.0, null, 42.0, 28.0, null, 34.0, 45.5, 18.0, 32.0, 26.0, 40.0, 24.0, 22.0, 30.0, null, 42.0, 30.0, 16.0, 27.0, 51.0, null, 38.0, 22.0, 19.0, 20.5, 18.0, 29.0, 59.0, 24.0, 44.0, 19.0, 33.0, 29.0, 22.0, 30.0, 44.0, 37.0, 54.0, null, 62.0, 30.0, null, 3.0, 52.0, 40.0, 36.0, 16.0, 25.0, null, 25.0, 37.0, null, 7.0, 65.0, 28.0, 16.0, 19.0, null, 33.0, 30.0, 22.0, 42.0, 36.0, 24.0, null, 23.5, null, null, 19.0, null, 0.92, 30.0, 28.0, 43.0, 54.0, 22.0, 27.0, null, 61.0, 45.5, 38.0, 16.0, null, 29.0, 45.0, 45.0, 2.0, 28.0, 25.0, 36.0, 3.0, 42.0, 23.0, null, 15.0, 25.0, null, 28.0, 40.0, 29.0, 35.0, null, 30.0, 25.0, 18.0, 19.0, 22.0, 27.0, 20.0, 19.0, 32.0, null, 18.0, 1.0, null, 36.0, 21.0, 28.0, 22.0, 46.0, 23.0, 39.0, 26.0, 28.0, 34.0, 51.0, 3.0, 21.0, null, null, null, 44.0, 30.0, null, 21.0, 29.0, 18.0, null, null, 32.0, 28.0, 17.0, 50.0, 64.0, 31.0, 20.0, 25.0, null, 4.0, 34.0, 52.0, 36.0, null, 30.0, 49.0, null, 29.0, 65.0, null, 48.0, 34.0, 47.0, 48.0, null, 38.0, null, 56.0, null, null, 38.0, null, 34.0, 29.0, 22.0, 9.0, null, 50.0, 25.0, 58.0, 30.0, 9.0, null, 21.0, 55.0, 71.0, 21.0, null, null, 24.0, 17.0, 18.0, null, 28.0, 26.0, 29.0, null, 36.0, 24.0, 47.0, null, 32.0, 22.0, null, null, 40.5, null, 39.0, 23.0, null, 17.0, 45.0, null, 32.0, 50.0, 64.0, null, 33.0, 8.0, 17.0, 27.0, null, 22.0, 62.0, null, null, 40.0, 28.0, null, 24.0, 19.0, null, 32.0, 62.0, 36.0, 16.0, 19.0, 32.0, 54.0, 36.0, null, 47.0, 60.0, 22.0, null, 35.0, 47.0, 37.0, 36.0, 49.0, null, 49.0, null, null, 44.0, 35.0, 36.0, 30.0, 27.0, null, null, 35.0, 34.0, 26.0, 27.0, 42.0, 20.0, 21.0, 21.0, 61.0, 57.0, 26.0, null, 80.0, 51.0, 32.0, null, 32.0, 31.0, null, 20.0, null, 48.0, 19.0, 56.0, null, null, 21.0, 24.0, null, 23.0, 58.0, 50.0, 40.0, 47.0, 36.0, 20.0, 32.0, 25.0, null, 43.0, 31.0, 70.0, 31.0, null, 18.0, 24.5, 36.0, 27.0, 20.0, 14.0, 60.0, 25.0, 14.0, 19.0, 18.0, 31.0, null, 25.0, 60.0, 52.0, 44.0, 49.0, 42.0, 35.0, 25.0, 26.0, 39.0, 42.0, null, null, 48.0, 29.0, 52.0, 19.0, null, 33.0, 17.0, 34.0, 50.0, 27.0, 20.0, 25.0, 11.0, null, 23.0, 23.0, 28.5, 35.0, null, null, null, 36.0, 24.0, 31.0, 70.0, 16.0, 19.0, 31.0, 6.0, 33.0, 23.0, 0.67, 28.0, 18.0, 34.0, null, 41.0, 20.0, 16.0, null, null, 32.0, 24.0, 48.0, null, 18.0, null, null, 29.0, null, 25.0, 25.0, 8.0, 1.0, 46.0, null, 16.0, null, 25.0, 39.0, 30.0, 34.0, 11.0, 0.42, 27.0, 31.0, 39.0, 39.0, 26.0, 39.0, 35.0, 30.5, null, 31.0, 43.0, 10.0, 27.0, 38.0, 2.0, null, null, 1.0, null, 0.83, null, 23.0, 18.0, 21.0, null, 32.0, null, 20.0, 16.0, 34.5, 17.0, 42.0, null, 35.0, 28.0, 4.0, 74.0, 51.0, null, 41.0, 21.0, 24.0, 31.0, null, 4.0, 26.0, 33.0, 47.0, 20.0, 19.0, null, 33.0, 28.0, 25.0, 27.0, 26.0, 32.0], \"xaxis\": \"x\", \"y\": [false, false, false, false, false, false, false, false, true, false, true, true, false, false, false, false, false, false, false, true, false, false, false, false, false, false, false, false, true, false, false, false, false, false, false, true, false, false, false, false, false, true, false, false, false, true, false, true, false, false, false, false, false, false, false, false, false, false, false, true, false, false, false, false, false, false, true, false, false, false, false, false, false, false, false, false, false, false, true, false, true, false, false, false, false, false, false, false, false, false, false, false, true, false, false, false, false, false, false, false, false, false, false, false, false, false, false, true, false, false, false, false, false, false, false, false, false, false, false, false, true, false, true, false, false, false, true, false, false, false, false, false, false, true, false, true, true, false, false, false, false, false, false, true, false, false, false, true, false, true, false, false, false, false, false, false, false, false, false, false, false, false, true, false, false, false, false, false, true, false, false, false, false, true, false, true, false, false, false, false, false, false, true, false, false, true, false, true, false, false, false, false, true, true, false, false, true, false, false, false, false, false, false, false, false, false, false, false, false, false, true, false, true, false, false, false, true, false, false, false, false, false, false, false, false, false, false, false, false, true, false, false, false, false, false, false, false, false, false, false, false, true, true, false, false, false, false, true, false, false, false, false, true, false, false, false, false, true, false, false, false, false, false, false, false, true, true, false, false, false, false, false, false, true, true, true, true, false, false, false, true, false, true, false, false, true, false, false, false, false, false, false, false, false, false, false, false, false, false, false, false, false, false, true, false, false, true, false, false, false, false, false, false, false, false, false, false, true, false, true, true, false, true, false, false, false, false, false, false, false, false, false, false, false, false, false, false, false, true, false, false, true, false, true, true, false, false, true, false, false, false, false, false, false, false, false, false, true, true, true, false, false, true, false, false, false, false, true, false, false, false, false, false, false, false, false, true, false, false, false, true, false, false, true, false, false, false, false, false, false, true, true, false, false, false, false, false, false, true, false, true, false, false, false, false, false, true, true, false, true, false, false, false, false, false, false, false, true, false, false, false, true, false, false, false, false, false, false, true, false, false, false, true, true, false, false, false, false, false, false, false, true, true, false, false, false, false, false, false, true, false, false, false, true, true, false, true, false, false, false, false, false, false, false, false, true, false, false, false, false, false, false, false, true, false, false, true, false, false, true, false, false, false, false, true, false, false, true, false, false, false, false, false, true, false, false, false, false, false, false, false, false, false, false, false, false, false, false, false, true, false, false, false, false, false, false, false, false, true, true, true, false, false, false, false, false, false, false, false, false, false, false, true, false, false, false, false, true, true, true, false, false, false, false, false, true, true, false, false, false, false, false, false, false, false, false, false, true, false, false, false, false, false, false, true, false, false, false, false, false, false, false, false, false, false, true, false], \"yaxis\": \"y\"}, {\"hovertemplate\": \"sex=female<br>age=%{x}<br>survived=%{y}<br>fare=%{marker.size}<extra></extra>\", \"legendgroup\": \"female\", \"marker\": {\"color\": \"#EF553B\", \"size\": [71.2833, 7.925, 53.1, 11.1333, 30.0708, 16.7, 26.55, 7.8542, 16.0, 18.0, 7.225, 8.0292, 21.075, 31.3875, 7.8792, 146.5208, 7.75, 18.0, 11.2417, 9.475, 21.0, 41.5792, 7.8792, 7.75, 17.8, 76.7292, 26.0, 10.5, 27.75, 80.0, 10.5, 7.925, 46.9, 12.475, 7.7875, 10.5, 15.85, 263.0, 23.0, 7.8958, 7.65, 24.15, 14.4542, 9.825, 14.4583, 31.275, 13.0, 22.3583, 14.5, 26.0, 26.2833, 15.2458, 7.75, 15.85, 34.375, 66.6, 7.7333, 15.75, 55.0, 27.9, 11.1333, 28.7125, 69.55, 22.025, 15.5, 13.0, 7.8542, 27.7208, 146.5208, 7.75, 13.0, 10.4625, 7.75, 21.0, 113.275, 7.925, 76.2917, 25.4667, 83.475, 31.3875, 7.55, 26.25, 14.4542, 15.5, 7.775, 14.5, 10.4625, 20.2125, 15.2458, 79.2, 86.5, 512.3292, 26.0, 7.75, 153.4625, 135.6333, 19.5, 7.75, 77.9583, 7.75, 20.25, 7.75, 78.85, 91.0792, 8.85, 151.55, 247.5208, 7.75, 12.35, 110.8833, 108.9, 56.9292, 83.1583, 262.375, 26.0, 7.8542, 26.0, 164.8667, 134.5, 12.35, 29.0, 135.6333, 13.0, 20.525, 57.9792, 23.25, 133.65, 134.5, 263.0, 13.0, 13.0, 16.1, 55.0, 13.0, 7.8792, 7.8792, 14.4542, 75.25, 7.2292, 7.75, 69.3, 21.075, 82.1708, 7.25, 227.525, 15.7417, 52.0, 13.0, 12.0, 113.275, 16.7, 7.8542, 12.65, 9.825, 8.6625, 25.4667, 90.0, 8.05, 32.5, 13.0, 24.15, 14.4, 26.0, 26.0, 16.1, 26.0, 120.0, 34.375, 18.75, 26.25, 13.0, 19.5, 19.2583, 51.8625, 10.5, 19.2583, 27.75, 13.7917, 9.8375, 12.2875, 9.5875, 25.4667, 90.0, 78.2667, 151.55, 7.75, 7.6292, 9.5875, 86.5, 26.0, 59.4, 10.5, 26.0, 93.5, 57.9792, 10.5, 26.0, 22.3583, 8.6625, 26.25, 106.425, 49.5, 71.0, 31.275, 31.275, 26.0, 7.775, 39.6, 79.65, 17.4, 8.05, 21.075, 51.4792, 7.75, 13.0, 55.9, 14.4583, 30.0, 110.8833, 79.65, 78.2667, 7.75, 33.0, 27.0, 41.5792, 153.4625, 31.275, 15.5, 65.0, 16.1, 39.0, 77.9583, 27.9, 13.0, 39.6875, 69.3, 27.9, 19.2583, 7.55, 23.0, 7.8292, 6.75, 15.5, 52.0, 39.0, 9.8417, 46.9, 8.1375, 211.3375, 13.4167, 7.7333, 227.525, 14.4542, 13.5, 151.55, 49.5042, 227.525, 10.5, 33.0, 21.0, 7.7375, 7.925, 211.3375, 34.375, 262.375, 13.0, 23.0, 65.0, 86.5, 120.0, 77.9583, 7.75, 10.5, 23.0, 12.475, 211.3375, 7.2292, 57.0, 7.4958, 69.55, 25.9292, 8.6833, 24.15, 26.25, 7.775, 53.1, 31.275, 7.925, 93.5, 12.475, 80.0, 14.4542, 83.1583, 31.0, 89.1042, 15.2458, 39.4, 26.0, 9.35, 164.8667, 19.2583, 25.9292, 69.55, 13.0, 13.8583, 52.5542, 24.0, 7.225, 83.1583, 26.0, 10.5167, 29.125, 30.0, 23.45], \"sizemode\": \"area\", \"sizeref\": 1.280823, \"symbol\": \"circle\"}, \"mode\": \"markers\", \"name\": \"female\", \"orientation\": \"h\", \"showlegend\": true, \"type\": \"scatter\", \"x\": [38.0, 26.0, 35.0, 27.0, 14.0, 4.0, 58.0, 14.0, 55.0, 31.0, null, 15.0, 8.0, 38.0, null, null, null, 18.0, 14.0, 40.0, 27.0, 3.0, 19.0, null, 18.0, 49.0, 29.0, 21.0, 5.0, 38.0, 29.0, 17.0, 16.0, 30.0, null, 17.0, 33.0, 23.0, 34.0, 28.0, 21.0, null, 14.5, 20.0, 17.0, 2.0, 32.5, null, 47.0, 29.0, 19.0, null, 22.0, 24.0, 9.0, 22.0, 16.0, 40.0, null, 45.0, 1.0, 50.0, null, 4.0, null, 32.0, 19.0, 44.0, 58.0, null, 24.0, 2.0, 16.0, 35.0, 31.0, 27.0, 32.0, null, 35.0, 5.0, null, 8.0, null, null, 25.0, 24.0, 29.0, 41.0, 29.0, null, 30.0, 35.0, 50.0, null, 58.0, 35.0, 41.0, null, 63.0, 45.0, 35.0, 22.0, 26.0, 19.0, 24.0, 2.0, 50.0, null, null, null, 17.0, 30.0, 24.0, 18.0, 26.0, 26.0, 24.0, 31.0, 40.0, 30.0, 22.0, 36.0, 36.0, 31.0, 16.0, null, null, 41.0, 24.0, 24.0, 40.0, null, 22.0, 38.0, null, null, 45.0, 60.0, null, null, 24.0, 3.0, null, 22.0, 42.0, 1.0, 35.0, 36.0, 17.0, 23.0, 24.0, 31.0, 28.0, 21.0, 20.0, null, 33.0, null, 34.0, 18.0, 10.0, 28.0, 28.0, 19.0, null, 42.0, 14.0, 21.0, 24.0, 45.0, 28.0, 13.0, 5.0, null, 50.0, 0.75, 33.0, 23.0, 22.0, 2.0, 63.0, null, 35.0, 54.0, 25.0, 21.0, null, 37.0, 16.0, 33.0, 54.0, 34.0, 36.0, 30.0, 44.0, 50.0, 2.0, null, 30.0, 7.0, 30.0, 22.0, 36.0, 9.0, 11.0, 19.0, 22.0, 48.0, 39.0, 36.0, null, 29.0, 53.0, null, 34.0, 39.0, null, 25.0, 39.0, 18.0, 52.0, null, null, 24.0, 22.0, 40.0, 39.0, null, 24.0, 26.0, 4.0, 21.0, 9.0, 28.0, 41.0, 24.0, 2.0, 0.75, 23.0, 18.0, null, 18.0, 32.0, null, 40.0, 18.0, 43.0, null, 15.0, 4.0, null, 18.0, 18.0, 45.0, 22.0, 24.0, 38.0, 27.0, 6.0, 30.0, null, 25.0, 29.0, 48.0, 21.0, 30.0, 4.0, 48.0, 33.0, 36.0, 51.0, 30.5, 57.0, 54.0, 5.0, 43.0, 13.0, 17.0, 18.0, null, 49.0, 31.0, 30.0, 31.0, 18.0, 33.0, 6.0, 23.0, 52.0, 27.0, 62.0, 15.0, 39.0, 30.0, null, 9.0, 16.0, 44.0, 18.0, 45.0, 24.0, 48.0, null, 42.0, 27.0, 47.0, 28.0, 15.0, 56.0, 25.0, 22.0, 39.0, 19.0, null], \"xaxis\": \"x\", \"y\": [true, true, true, true, true, true, true, false, true, false, true, true, false, true, true, true, true, false, true, false, false, true, true, true, false, true, true, true, true, true, true, true, false, true, true, true, true, true, true, false, true, true, false, false, false, false, true, true, false, true, true, false, true, true, false, true, true, true, true, false, true, false, false, true, true, true, true, true, true, true, false, false, true, true, true, true, true, false, true, true, false, true, false, true, false, true, false, false, true, true, true, true, true, false, true, true, true, true, true, false, true, true, true, true, false, false, true, true, true, true, true, true, true, true, false, true, true, true, true, true, true, true, true, true, true, true, true, true, true, true, true, true, true, false, true, true, false, true, true, true, true, false, true, true, true, true, true, true, true, true, true, false, true, false, false, false, true, false, true, true, false, false, true, true, true, true, true, false, true, true, true, true, true, true, true, true, true, true, false, true, true, false, true, true, false, false, false, false, true, true, true, true, true, true, true, true, true, true, false, true, true, true, true, false, false, true, true, true, true, true, false, false, true, true, true, true, false, true, true, true, true, false, true, true, true, true, false, true, true, false, true, true, false, true, false, true, false, true, true, true, true, false, false, true, true, true, false, false, true, true, true, true, false, true, true, true, true, true, true, true, true, false, true, false, true, true, true, true, true, true, true, false, false, true, true, true, true, true, true, false, true, true, false, true, false, true, false, false, true, true, true, true, true, true, true, false, true, false, true, true, true, true, false, true, true, true, true, true, true, true, false, false, true, false], \"yaxis\": \"y\"}],                        {\"height\": 250, \"legend\": {\"itemsizing\": \"constant\", \"title\": {\"text\": \"sex\"}, \"tracegroupgap\": 0}, \"margin\": {\"t\": 60}, \"template\": {\"data\": {\"bar\": [{\"error_x\": {\"color\": \"#2a3f5f\"}, \"error_y\": {\"color\": \"#2a3f5f\"}, \"marker\": {\"line\": {\"color\": \"#E5ECF6\", \"width\": 0.5}}, \"type\": \"bar\"}], \"barpolar\": [{\"marker\": {\"line\": {\"color\": \"#E5ECF6\", \"width\": 0.5}}, \"type\": \"barpolar\"}], \"carpet\": [{\"aaxis\": {\"endlinecolor\": \"#2a3f5f\", \"gridcolor\": \"white\", \"linecolor\": \"white\", \"minorgridcolor\": \"white\", \"startlinecolor\": \"#2a3f5f\"}, \"baxis\": {\"endlinecolor\": \"#2a3f5f\", \"gridcolor\": \"white\", \"linecolor\": \"white\", \"minorgridcolor\": \"white\", \"startlinecolor\": \"#2a3f5f\"}, \"type\": \"carpet\"}], \"choropleth\": [{\"colorbar\": {\"outlinewidth\": 0, \"ticks\": \"\"}, \"type\": \"choropleth\"}], \"contour\": [{\"colorbar\": {\"outlinewidth\": 0, \"ticks\": \"\"}, \"colorscale\": [[0.0, \"#0d0887\"], [0.1111111111111111, \"#46039f\"], [0.2222222222222222, \"#7201a8\"], [0.3333333333333333, \"#9c179e\"], [0.4444444444444444, \"#bd3786\"], [0.5555555555555556, \"#d8576b\"], [0.6666666666666666, \"#ed7953\"], [0.7777777777777778, \"#fb9f3a\"], [0.8888888888888888, \"#fdca26\"], [1.0, \"#f0f921\"]], \"type\": \"contour\"}], \"contourcarpet\": [{\"colorbar\": {\"outlinewidth\": 0, \"ticks\": \"\"}, \"type\": \"contourcarpet\"}], \"heatmap\": [{\"colorbar\": {\"outlinewidth\": 0, \"ticks\": \"\"}, \"colorscale\": [[0.0, \"#0d0887\"], [0.1111111111111111, \"#46039f\"], [0.2222222222222222, \"#7201a8\"], [0.3333333333333333, \"#9c179e\"], [0.4444444444444444, \"#bd3786\"], [0.5555555555555556, \"#d8576b\"], [0.6666666666666666, \"#ed7953\"], [0.7777777777777778, \"#fb9f3a\"], [0.8888888888888888, \"#fdca26\"], [1.0, \"#f0f921\"]], \"type\": \"heatmap\"}], \"heatmapgl\": [{\"colorbar\": {\"outlinewidth\": 0, \"ticks\": \"\"}, \"colorscale\": [[0.0, \"#0d0887\"], [0.1111111111111111, \"#46039f\"], [0.2222222222222222, \"#7201a8\"], [0.3333333333333333, \"#9c179e\"], [0.4444444444444444, \"#bd3786\"], [0.5555555555555556, \"#d8576b\"], [0.6666666666666666, \"#ed7953\"], [0.7777777777777778, \"#fb9f3a\"], [0.8888888888888888, \"#fdca26\"], [1.0, \"#f0f921\"]], \"type\": \"heatmapgl\"}], \"histogram\": [{\"marker\": {\"colorbar\": {\"outlinewidth\": 0, \"ticks\": \"\"}}, \"type\": \"histogram\"}], \"histogram2d\": [{\"colorbar\": {\"outlinewidth\": 0, \"ticks\": \"\"}, \"colorscale\": [[0.0, \"#0d0887\"], [0.1111111111111111, \"#46039f\"], [0.2222222222222222, \"#7201a8\"], [0.3333333333333333, \"#9c179e\"], [0.4444444444444444, \"#bd3786\"], [0.5555555555555556, \"#d8576b\"], [0.6666666666666666, \"#ed7953\"], [0.7777777777777778, \"#fb9f3a\"], [0.8888888888888888, \"#fdca26\"], [1.0, \"#f0f921\"]], \"type\": \"histogram2d\"}], \"histogram2dcontour\": [{\"colorbar\": {\"outlinewidth\": 0, \"ticks\": \"\"}, \"colorscale\": [[0.0, \"#0d0887\"], [0.1111111111111111, \"#46039f\"], [0.2222222222222222, \"#7201a8\"], [0.3333333333333333, \"#9c179e\"], [0.4444444444444444, \"#bd3786\"], [0.5555555555555556, \"#d8576b\"], [0.6666666666666666, \"#ed7953\"], [0.7777777777777778, \"#fb9f3a\"], [0.8888888888888888, \"#fdca26\"], [1.0, \"#f0f921\"]], \"type\": \"histogram2dcontour\"}], \"mesh3d\": [{\"colorbar\": {\"outlinewidth\": 0, \"ticks\": \"\"}, \"type\": \"mesh3d\"}], \"parcoords\": [{\"line\": {\"colorbar\": {\"outlinewidth\": 0, \"ticks\": \"\"}}, \"type\": \"parcoords\"}], \"pie\": [{\"automargin\": true, \"type\": \"pie\"}], \"scatter\": [{\"marker\": {\"colorbar\": {\"outlinewidth\": 0, \"ticks\": \"\"}}, \"type\": \"scatter\"}], \"scatter3d\": [{\"line\": {\"colorbar\": {\"outlinewidth\": 0, \"ticks\": \"\"}}, \"marker\": {\"colorbar\": {\"outlinewidth\": 0, \"ticks\": \"\"}}, \"type\": \"scatter3d\"}], \"scattercarpet\": [{\"marker\": {\"colorbar\": {\"outlinewidth\": 0, \"ticks\": \"\"}}, \"type\": \"scattercarpet\"}], \"scattergeo\": [{\"marker\": {\"colorbar\": {\"outlinewidth\": 0, \"ticks\": \"\"}}, \"type\": \"scattergeo\"}], \"scattergl\": [{\"marker\": {\"colorbar\": {\"outlinewidth\": 0, \"ticks\": \"\"}}, \"type\": \"scattergl\"}], \"scattermapbox\": [{\"marker\": {\"colorbar\": {\"outlinewidth\": 0, \"ticks\": \"\"}}, \"type\": \"scattermapbox\"}], \"scatterpolar\": [{\"marker\": {\"colorbar\": {\"outlinewidth\": 0, \"ticks\": \"\"}}, \"type\": \"scatterpolar\"}], \"scatterpolargl\": [{\"marker\": {\"colorbar\": {\"outlinewidth\": 0, \"ticks\": \"\"}}, \"type\": \"scatterpolargl\"}], \"scatterternary\": [{\"marker\": {\"colorbar\": {\"outlinewidth\": 0, \"ticks\": \"\"}}, \"type\": \"scatterternary\"}], \"surface\": [{\"colorbar\": {\"outlinewidth\": 0, \"ticks\": \"\"}, \"colorscale\": [[0.0, \"#0d0887\"], [0.1111111111111111, \"#46039f\"], [0.2222222222222222, \"#7201a8\"], [0.3333333333333333, \"#9c179e\"], [0.4444444444444444, \"#bd3786\"], [0.5555555555555556, \"#d8576b\"], [0.6666666666666666, \"#ed7953\"], [0.7777777777777778, \"#fb9f3a\"], [0.8888888888888888, \"#fdca26\"], [1.0, \"#f0f921\"]], \"type\": \"surface\"}], \"table\": [{\"cells\": {\"fill\": {\"color\": \"#EBF0F8\"}, \"line\": {\"color\": \"white\"}}, \"header\": {\"fill\": {\"color\": \"#C8D4E3\"}, \"line\": {\"color\": \"white\"}}, \"type\": \"table\"}]}, \"layout\": {\"annotationdefaults\": {\"arrowcolor\": \"#2a3f5f\", \"arrowhead\": 0, \"arrowwidth\": 1}, \"coloraxis\": {\"colorbar\": {\"outlinewidth\": 0, \"ticks\": \"\"}}, \"colorscale\": {\"diverging\": [[0, \"#8e0152\"], [0.1, \"#c51b7d\"], [0.2, \"#de77ae\"], [0.3, \"#f1b6da\"], [0.4, \"#fde0ef\"], [0.5, \"#f7f7f7\"], [0.6, \"#e6f5d0\"], [0.7, \"#b8e186\"], [0.8, \"#7fbc41\"], [0.9, \"#4d9221\"], [1, \"#276419\"]], \"sequential\": [[0.0, \"#0d0887\"], [0.1111111111111111, \"#46039f\"], [0.2222222222222222, \"#7201a8\"], [0.3333333333333333, \"#9c179e\"], [0.4444444444444444, \"#bd3786\"], [0.5555555555555556, \"#d8576b\"], [0.6666666666666666, \"#ed7953\"], [0.7777777777777778, \"#fb9f3a\"], [0.8888888888888888, \"#fdca26\"], [1.0, \"#f0f921\"]], \"sequentialminus\": [[0.0, \"#0d0887\"], [0.1111111111111111, \"#46039f\"], [0.2222222222222222, \"#7201a8\"], [0.3333333333333333, \"#9c179e\"], [0.4444444444444444, \"#bd3786\"], [0.5555555555555556, \"#d8576b\"], [0.6666666666666666, \"#ed7953\"], [0.7777777777777778, \"#fb9f3a\"], [0.8888888888888888, \"#fdca26\"], [1.0, \"#f0f921\"]]}, \"colorway\": [\"#636efa\", \"#EF553B\", \"#00cc96\", \"#ab63fa\", \"#FFA15A\", \"#19d3f3\", \"#FF6692\", \"#B6E880\", \"#FF97FF\", \"#FECB52\"], \"font\": {\"color\": \"#2a3f5f\"}, \"geo\": {\"bgcolor\": \"white\", \"lakecolor\": \"white\", \"landcolor\": \"#E5ECF6\", \"showlakes\": true, \"showland\": true, \"subunitcolor\": \"white\"}, \"hoverlabel\": {\"align\": \"left\"}, \"hovermode\": \"closest\", \"mapbox\": {\"style\": \"light\"}, \"paper_bgcolor\": \"white\", \"plot_bgcolor\": \"#E5ECF6\", \"polar\": {\"angularaxis\": {\"gridcolor\": \"white\", \"linecolor\": \"white\", \"ticks\": \"\"}, \"bgcolor\": \"#E5ECF6\", \"radialaxis\": {\"gridcolor\": \"white\", \"linecolor\": \"white\", \"ticks\": \"\"}}, \"scene\": {\"xaxis\": {\"backgroundcolor\": \"#E5ECF6\", \"gridcolor\": \"white\", \"gridwidth\": 2, \"linecolor\": \"white\", \"showbackground\": true, \"ticks\": \"\", \"zerolinecolor\": \"white\"}, \"yaxis\": {\"backgroundcolor\": \"#E5ECF6\", \"gridcolor\": \"white\", \"gridwidth\": 2, \"linecolor\": \"white\", \"showbackground\": true, \"ticks\": \"\", \"zerolinecolor\": \"white\"}, \"zaxis\": {\"backgroundcolor\": \"#E5ECF6\", \"gridcolor\": \"white\", \"gridwidth\": 2, \"linecolor\": \"white\", \"showbackground\": true, \"ticks\": \"\", \"zerolinecolor\": \"white\"}}, \"shapedefaults\": {\"line\": {\"color\": \"#2a3f5f\"}}, \"ternary\": {\"aaxis\": {\"gridcolor\": \"white\", \"linecolor\": \"white\", \"ticks\": \"\"}, \"baxis\": {\"gridcolor\": \"white\", \"linecolor\": \"white\", \"ticks\": \"\"}, \"bgcolor\": \"#E5ECF6\", \"caxis\": {\"gridcolor\": \"white\", \"linecolor\": \"white\", \"ticks\": \"\"}}, \"title\": {\"x\": 0.05}, \"xaxis\": {\"automargin\": true, \"gridcolor\": \"white\", \"linecolor\": \"white\", \"ticks\": \"\", \"title\": {\"standoff\": 15}, \"zerolinecolor\": \"white\", \"zerolinewidth\": 2}, \"yaxis\": {\"automargin\": true, \"gridcolor\": \"white\", \"linecolor\": \"white\", \"ticks\": \"\", \"title\": {\"standoff\": 15}, \"zerolinecolor\": \"white\", \"zerolinewidth\": 2}}}, \"xaxis\": {\"anchor\": \"y\", \"domain\": [0.0, 1.0], \"title\": {\"text\": \"age\"}}, \"yaxis\": {\"anchor\": \"x\", \"domain\": [0.0, 1.0], \"title\": {\"text\": \"survived\"}}},                        {\"responsive\": true}                    ).then(function(){\n",
       "                            \n",
       "var gd = document.getElementById('2353d6fe-0bc6-4244-b32f-70eb98392cab');\n",
       "var x = new MutationObserver(function (mutations, observer) {{\n",
       "        var display = window.getComputedStyle(gd).display;\n",
       "        if (!display || display === 'none') {{\n",
       "            console.log([gd, 'removed!']);\n",
       "            Plotly.purge(gd);\n",
       "            observer.disconnect();\n",
       "        }}\n",
       "}});\n",
       "\n",
       "// Listen for the removal of the full notebook cells\n",
       "var notebookContainer = gd.closest('#notebook-container');\n",
       "if (notebookContainer) {{\n",
       "    x.observe(notebookContainer, {childList: true});\n",
       "}}\n",
       "\n",
       "// Listen for the clearing of the current output cell\n",
       "var outputEl = gd.closest('.output');\n",
       "if (outputEl) {{\n",
       "    x.observe(outputEl, {childList: true});\n",
       "}}\n",
       "\n",
       "                        })                };                });            </script>        </div>"
      ]
     },
     "metadata": {},
     "output_type": "display_data"
    }
   ],
   "source": [
    "px.scatter(ti, x='age', y='survived', color=\"sex\", size=\"fare\", height=250)"
   ]
  },
  {
   "cell_type": "markdown",
   "metadata": {},
   "source": [
    "The `violin` plot provided by plotly also has lots columns it can display:"
   ]
  },
  {
   "cell_type": "code",
   "execution_count": 58,
   "metadata": {},
   "outputs": [
    {
     "data": {
      "application/vnd.plotly.v1+json": {
       "config": {
        "plotlyServerURL": "https://plot.ly"
       },
       "data": [
        {
         "alignmentgroup": "True",
         "box": {
          "visible": false
         },
         "customdata": [
          [
           22,
           "Southampton"
          ],
          [
           35,
           "Southampton"
          ],
          [
           null,
           "Queenstown"
          ],
          [
           54,
           "Southampton"
          ],
          [
           2,
           "Southampton"
          ],
          [
           20,
           "Southampton"
          ],
          [
           39,
           "Southampton"
          ],
          [
           14,
           "Southampton"
          ],
          [
           2,
           "Queenstown"
          ],
          [
           31,
           "Southampton"
          ],
          [
           35,
           "Southampton"
          ],
          [
           8,
           "Southampton"
          ],
          [
           null,
           "Cherbourg"
          ],
          [
           19,
           "Southampton"
          ],
          [
           null,
           "Southampton"
          ],
          [
           40,
           "Cherbourg"
          ],
          [
           66,
           "Southampton"
          ],
          [
           28,
           "Cherbourg"
          ],
          [
           42,
           "Southampton"
          ],
          [
           21,
           "Southampton"
          ],
          [
           18,
           "Southampton"
          ],
          [
           40,
           "Southampton"
          ],
          [
           27,
           "Southampton"
          ],
          [
           null,
           "Cherbourg"
          ],
          [
           null,
           "Southampton"
          ],
          [
           null,
           "Queenstown"
          ],
          [
           null,
           "Cherbourg"
          ],
          [
           18,
           "Southampton"
          ],
          [
           7,
           "Southampton"
          ],
          [
           21,
           "Southampton"
          ],
          [
           65,
           "Cherbourg"
          ],
          [
           28.5,
           "Cherbourg"
          ],
          [
           11,
           "Southampton"
          ],
          [
           22,
           "Cherbourg"
          ],
          [
           45,
           "Southampton"
          ],
          [
           4,
           "Southampton"
          ],
          [
           null,
           "Cherbourg"
          ],
          [
           19,
           "Southampton"
          ],
          [
           26,
           "Southampton"
          ],
          [
           32,
           "Southampton"
          ],
          [
           16,
           "Southampton"
          ],
          [
           21,
           "Southampton"
          ],
          [
           26,
           "Cherbourg"
          ],
          [
           25,
           "Southampton"
          ],
          [
           null,
           "Southampton"
          ],
          [
           null,
           "Southampton"
          ],
          [
           22,
           "Southampton"
          ],
          [
           28,
           "Southampton"
          ],
          [
           16,
           "Southampton"
          ],
          [
           null,
           "Southampton"
          ],
          [
           24,
           "Southampton"
          ],
          [
           29,
           "Southampton"
          ],
          [
           20,
           "Southampton"
          ],
          [
           46,
           "Southampton"
          ],
          [
           26,
           "Southampton"
          ],
          [
           59,
           "Southampton"
          ],
          [
           null,
           "Southampton"
          ],
          [
           71,
           "Cherbourg"
          ],
          [
           34,
           "Southampton"
          ],
          [
           28,
           "Southampton"
          ],
          [
           null,
           "Southampton"
          ],
          [
           21,
           "Southampton"
          ],
          [
           33,
           "Southampton"
          ],
          [
           37,
           "Southampton"
          ],
          [
           28,
           "Southampton"
          ],
          [
           38,
           "Southampton"
          ],
          [
           47,
           "Southampton"
          ],
          [
           14.5,
           "Cherbourg"
          ],
          [
           22,
           "Southampton"
          ],
          [
           20,
           "Southampton"
          ],
          [
           17,
           "Cherbourg"
          ],
          [
           21,
           "Southampton"
          ],
          [
           70.5,
           "Queenstown"
          ],
          [
           29,
           "Southampton"
          ],
          [
           24,
           "Cherbourg"
          ],
          [
           2,
           "Southampton"
          ],
          [
           21,
           "Southampton"
          ],
          [
           null,
           "Southampton"
          ],
          [
           32.5,
           "Cherbourg"
          ],
          [
           54,
           "Southampton"
          ],
          [
           null,
           "Queenstown"
          ],
          [
           45,
           "Southampton"
          ],
          [
           33,
           "Cherbourg"
          ],
          [
           20,
           "Southampton"
          ],
          [
           47,
           "Southampton"
          ],
          [
           25,
           "Southampton"
          ],
          [
           23,
           "Cherbourg"
          ],
          [
           37,
           "Southampton"
          ],
          [
           16,
           "Southampton"
          ],
          [
           24,
           "Cherbourg"
          ],
          [
           null,
           "Cherbourg"
          ],
          [
           19,
           "Queenstown"
          ],
          [
           18,
           "Southampton"
          ],
          [
           19,
           "Southampton"
          ],
          [
           9,
           "Southampton"
          ],
          [
           36.5,
           "Southampton"
          ],
          [
           42,
           "Southampton"
          ],
          [
           51,
           "Southampton"
          ],
          [
           55.5,
           "Southampton"
          ],
          [
           40.5,
           "Southampton"
          ],
          [
           null,
           "Southampton"
          ],
          [
           51,
           "Cherbourg"
          ],
          [
           30,
           "Southampton"
          ],
          [
           null,
           "Southampton"
          ],
          [
           null,
           "Southampton"
          ],
          [
           44,
           "Southampton"
          ],
          [
           26,
           "Southampton"
          ],
          [
           17,
           "Southampton"
          ],
          [
           1,
           "Southampton"
          ],
          [
           45,
           "Southampton"
          ],
          [
           null,
           "Southampton"
          ],
          [
           28,
           "Southampton"
          ],
          [
           61,
           "Southampton"
          ],
          [
           4,
           "Queenstown"
          ],
          [
           21,
           "Southampton"
          ],
          [
           56,
           "Cherbourg"
          ],
          [
           18,
           "Southampton"
          ],
          [
           null,
           "Southampton"
          ],
          [
           50,
           "Cherbourg"
          ],
          [
           30,
           "Southampton"
          ],
          [
           36,
           "Southampton"
          ],
          [
           null,
           "Southampton"
          ],
          [
           null,
           "Cherbourg"
          ],
          [
           9,
           "Southampton"
          ],
          [
           null,
           "Southampton"
          ],
          [
           40,
           "Queenstown"
          ],
          [
           36,
           "Southampton"
          ],
          [
           19,
           "Southampton"
          ],
          [
           null,
           "Queenstown"
          ],
          [
           42,
           "Southampton"
          ],
          [
           24,
           "Southampton"
          ],
          [
           28,
           "Southampton"
          ],
          [
           null,
           "Southampton"
          ],
          [
           34,
           "Southampton"
          ],
          [
           45.5,
           "Cherbourg"
          ],
          [
           2,
           "Southampton"
          ],
          [
           32,
           "Southampton"
          ],
          [
           24,
           "Southampton"
          ],
          [
           22,
           "Southampton"
          ],
          [
           30,
           "Southampton"
          ],
          [
           null,
           "Queenstown"
          ],
          [
           42,
           "Southampton"
          ],
          [
           30,
           "Southampton"
          ],
          [
           27,
           "Southampton"
          ],
          [
           51,
           "Southampton"
          ],
          [
           null,
           "Southampton"
          ],
          [
           22,
           "Southampton"
          ],
          [
           20.5,
           "Southampton"
          ],
          [
           18,
           "Southampton"
          ],
          [
           null,
           "Southampton"
          ],
          [
           29,
           "Southampton"
          ],
          [
           59,
           "Southampton"
          ],
          [
           24,
           "Southampton"
          ],
          [
           null,
           "Southampton"
          ],
          [
           44,
           "Southampton"
          ],
          [
           19,
           "Southampton"
          ],
          [
           33,
           "Southampton"
          ],
          [
           null,
           "Cherbourg"
          ],
          [
           29,
           "Southampton"
          ],
          [
           22,
           "Southampton"
          ],
          [
           30,
           "Cherbourg"
          ],
          [
           44,
           "Queenstown"
          ],
          [
           25,
           "Southampton"
          ],
          [
           54,
           "Southampton"
          ],
          [
           null,
           "Southampton"
          ],
          [
           29,
           "Southampton"
          ],
          [
           62,
           "Southampton"
          ],
          [
           30,
           "Southampton"
          ],
          [
           41,
           "Southampton"
          ],
          [
           null,
           "Queenstown"
          ],
          [
           52,
           "Southampton"
          ],
          [
           40,
           "Southampton"
          ],
          [
           null,
           "Queenstown"
          ],
          [
           36,
           "Southampton"
          ],
          [
           16,
           "Southampton"
          ],
          [
           null,
           "Southampton"
          ],
          [
           37,
           "Cherbourg"
          ],
          [
           45,
           "Southampton"
          ],
          [
           null,
           "Southampton"
          ],
          [
           7,
           "Queenstown"
          ],
          [
           65,
           "Queenstown"
          ],
          [
           28,
           "Southampton"
          ],
          [
           16,
           "Southampton"
          ],
          [
           null,
           "Southampton"
          ],
          [
           33,
           "Cherbourg"
          ],
          [
           22,
           "Southampton"
          ],
          [
           36,
           "Cherbourg"
          ],
          [
           24,
           "Southampton"
          ],
          [
           24,
           "Southampton"
          ],
          [
           null,
           "Cherbourg"
          ],
          [
           23.5,
           "Cherbourg"
          ],
          [
           2,
           "Southampton"
          ],
          [
           19,
           "Southampton"
          ],
          [
           null,
           "Southampton"
          ],
          [
           30,
           "Cherbourg"
          ],
          [
           26,
           "Southampton"
          ],
          [
           28,
           "Southampton"
          ],
          [
           43,
           "Southampton"
          ],
          [
           54,
           "Southampton"
          ],
          [
           22,
           "Southampton"
          ],
          [
           27,
           "Southampton"
          ],
          [
           null,
           "Southampton"
          ],
          [
           61,
           "Southampton"
          ],
          [
           45.5,
           "Southampton"
          ],
          [
           38,
           "Southampton"
          ],
          [
           16,
           "Southampton"
          ],
          [
           null,
           "Southampton"
          ],
          [
           29,
           "Southampton"
          ],
          [
           45,
           "Southampton"
          ],
          [
           28,
           "Southampton"
          ],
          [
           25,
           "Southampton"
          ],
          [
           36,
           "Southampton"
          ],
          [
           42,
           "Southampton"
          ],
          [
           23,
           "Southampton"
          ],
          [
           null,
           "Southampton"
          ],
          [
           15,
           "Cherbourg"
          ],
          [
           25,
           "Southampton"
          ],
          [
           null,
           "Cherbourg"
          ],
          [
           28,
           "Southampton"
          ],
          [
           38,
           "Southampton"
          ],
          [
           40,
           "Southampton"
          ],
          [
           29,
           "Cherbourg"
          ],
          [
           45,
           "Cherbourg"
          ],
          [
           35,
           "Southampton"
          ],
          [
           null,
           "Queenstown"
          ],
          [
           30,
           "Southampton"
          ],
          [
           18,
           "Southampton"
          ],
          [
           19,
           "Southampton"
          ],
          [
           22,
           "Cherbourg"
          ],
          [
           3,
           "Southampton"
          ],
          [
           27,
           "Cherbourg"
          ],
          [
           20,
           "Cherbourg"
          ],
          [
           19,
           "Southampton"
          ],
          [
           32,
           "Southampton"
          ],
          [
           null,
           "Southampton"
          ],
          [
           18,
           "Southampton"
          ],
          [
           1,
           "Southampton"
          ],
          [
           null,
           "Queenstown"
          ],
          [
           28,
           "Southampton"
          ],
          [
           22,
           "Southampton"
          ],
          [
           31,
           "Southampton"
          ],
          [
           46,
           "Southampton"
          ],
          [
           23,
           "Southampton"
          ],
          [
           26,
           "Southampton"
          ],
          [
           21,
           "Southampton"
          ],
          [
           28,
           "Southampton"
          ],
          [
           20,
           "Southampton"
          ],
          [
           34,
           "Southampton"
          ],
          [
           51,
           "Southampton"
          ],
          [
           21,
           "Southampton"
          ],
          [
           null,
           "Southampton"
          ],
          [
           null,
           "Southampton"
          ],
          [
           null,
           "Queenstown"
          ],
          [
           null,
           "Southampton"
          ],
          [
           null,
           "Southampton"
          ],
          [
           30,
           "Southampton"
          ],
          [
           10,
           "Southampton"
          ],
          [
           null,
           "Cherbourg"
          ],
          [
           21,
           "Queenstown"
          ],
          [
           29,
           "Southampton"
          ],
          [
           28,
           "Southampton"
          ],
          [
           18,
           "Southampton"
          ],
          [
           null,
           "Southampton"
          ],
          [
           null,
           "Queenstown"
          ],
          [
           17,
           "Southampton"
          ],
          [
           50,
           "Southampton"
          ],
          [
           21,
           "Southampton"
          ],
          [
           64,
           "Southampton"
          ],
          [
           31,
           "Southampton"
          ],
          [
           20,
           "Southampton"
          ],
          [
           25,
           "Southampton"
          ],
          [
           36,
           "Southampton"
          ],
          [
           null,
           "Southampton"
          ],
          [
           30,
           "Cherbourg"
          ],
          [
           null,
           "Southampton"
          ],
          [
           65,
           "Southampton"
          ],
          [
           null,
           "Queenstown"
          ],
          [
           34,
           "Southampton"
          ],
          [
           47,
           "Southampton"
          ],
          [
           48,
           "Southampton"
          ],
          [
           null,
           "Southampton"
          ],
          [
           38,
           "Southampton"
          ],
          [
           null,
           "Southampton"
          ],
          [
           56,
           "Southampton"
          ],
          [
           null,
           "Queenstown"
          ],
          [
           null,
           "Southampton"
          ],
          [
           38,
           "Southampton"
          ],
          [
           22,
           "Southampton"
          ],
          [
           null,
           "Southampton"
          ],
          [
           34,
           "Southampton"
          ],
          [
           29,
           "Southampton"
          ],
          [
           22,
           "Southampton"
          ],
          [
           9,
           "Southampton"
          ],
          [
           null,
           "Southampton"
          ],
          [
           50,
           "Southampton"
          ],
          [
           null,
           "Southampton"
          ],
          [
           58,
           "Cherbourg"
          ],
          [
           30,
           "Southampton"
          ],
          [
           null,
           "Southampton"
          ],
          [
           21,
           "Southampton"
          ],
          [
           55,
           "Southampton"
          ],
          [
           71,
           "Cherbourg"
          ],
          [
           21,
           "Southampton"
          ],
          [
           null,
           "Cherbourg"
          ],
          [
           null,
           "Southampton"
          ],
          [
           25,
           "Southampton"
          ],
          [
           24,
           "Southampton"
          ],
          [
           17,
           "Southampton"
          ],
          [
           21,
           "Queenstown"
          ],
          [
           null,
           "Queenstown"
          ],
          [
           37,
           "Southampton"
          ],
          [
           18,
           "Cherbourg"
          ],
          [
           28,
           "Southampton"
          ],
          [
           null,
           "Southampton"
          ],
          [
           24,
           "Southampton"
          ],
          [
           47,
           "Southampton"
          ],
          [
           null,
           "Queenstown"
          ],
          [
           32,
           "Southampton"
          ],
          [
           22,
           "Southampton"
          ],
          [
           null,
           "Cherbourg"
          ],
          [
           null,
           "Cherbourg"
          ],
          [
           40.5,
           "Queenstown"
          ],
          [
           null,
           "Southampton"
          ],
          [
           39,
           "Southampton"
          ],
          [
           23,
           "Southampton"
          ],
          [
           null,
           "Cherbourg"
          ],
          [
           17,
           "Cherbourg"
          ],
          [
           30,
           "Southampton"
          ],
          [
           45,
           "Southampton"
          ],
          [
           null,
           "Southampton"
          ],
          [
           9,
           "Southampton"
          ],
          [
           11,
           "Southampton"
          ],
          [
           50,
           "Cherbourg"
          ],
          [
           64,
           "Southampton"
          ],
          [
           33,
           "Southampton"
          ],
          [
           27,
           "Southampton"
          ],
          [
           null,
           "Queenstown"
          ],
          [
           62,
           "Southampton"
          ],
          [
           null,
           "Cherbourg"
          ],
          [
           null,
           "Queenstown"
          ],
          [
           40,
           "Southampton"
          ],
          [
           28,
           "Southampton"
          ],
          [
           null,
           "Southampton"
          ],
          [
           null,
           "Southampton"
          ],
          [
           24,
           "Southampton"
          ],
          [
           19,
           "Southampton"
          ],
          [
           29,
           "Southampton"
          ],
          [
           null,
           "Cherbourg"
          ],
          [
           16,
           "Southampton"
          ],
          [
           19,
           "Southampton"
          ],
          [
           null,
           "Cherbourg"
          ],
          [
           54,
           "Southampton"
          ],
          [
           36,
           "Cherbourg"
          ],
          [
           null,
           "Cherbourg"
          ],
          [
           47,
           "Southampton"
          ],
          [
           22,
           "Southampton"
          ],
          [
           null,
           "Southampton"
          ],
          [
           35,
           "Southampton"
          ],
          [
           47,
           "Southampton"
          ],
          [
           null,
           "Queenstown"
          ],
          [
           37,
           "Southampton"
          ],
          [
           36,
           "Southampton"
          ],
          [
           49,
           "Southampton"
          ],
          [
           null,
           "Cherbourg"
          ],
          [
           null,
           "Southampton"
          ],
          [
           null,
           "Southampton"
          ],
          [
           44,
           "Southampton"
          ],
          [
           36,
           "Southampton"
          ],
          [
           30,
           "Southampton"
          ],
          [
           39,
           "Southampton"
          ],
          [
           null,
           "Southampton"
          ],
          [
           null,
           "Queenstown"
          ],
          [
           35,
           "Southampton"
          ],
          [
           34,
           "Southampton"
          ],
          [
           26,
           "Southampton"
          ],
          [
           26,
           "Southampton"
          ],
          [
           27,
           "Cherbourg"
          ],
          [
           21,
           "Southampton"
          ],
          [
           21,
           "Southampton"
          ],
          [
           61,
           "Southampton"
          ],
          [
           57,
           "Queenstown"
          ],
          [
           26,
           "Southampton"
          ],
          [
           null,
           "Queenstown"
          ],
          [
           51,
           "Southampton"
          ],
          [
           null,
           "Southampton"
          ],
          [
           9,
           "Southampton"
          ],
          [
           32,
           "Southampton"
          ],
          [
           31,
           "Southampton"
          ],
          [
           41,
           "Southampton"
          ],
          [
           null,
           "Southampton"
          ],
          [
           20,
           "Southampton"
          ],
          [
           2,
           "Southampton"
          ],
          [
           19,
           "Southampton"
          ],
          [
           null,
           "Southampton"
          ],
          [
           null,
           "Southampton"
          ],
          [
           21,
           "Southampton"
          ],
          [
           18,
           "Queenstown"
          ],
          [
           24,
           "Southampton"
          ],
          [
           null,
           "Southampton"
          ],
          [
           32,
           "Queenstown"
          ],
          [
           23,
           "Southampton"
          ],
          [
           58,
           "Cherbourg"
          ],
          [
           40,
           "Cherbourg"
          ],
          [
           47,
           "Southampton"
          ],
          [
           36,
           "Southampton"
          ],
          [
           32,
           "Southampton"
          ],
          [
           25,
           "Southampton"
          ],
          [
           null,
           "Southampton"
          ],
          [
           43,
           "Southampton"
          ],
          [
           31,
           "Southampton"
          ],
          [
           70,
           "Southampton"
          ],
          [
           null,
           "Southampton"
          ],
          [
           18,
           "Southampton"
          ],
          [
           24.5,
           "Southampton"
          ],
          [
           43,
           "Southampton"
          ],
          [
           null,
           "Queenstown"
          ],
          [
           20,
           "Southampton"
          ],
          [
           14,
           "Southampton"
          ],
          [
           60,
           "Southampton"
          ],
          [
           25,
           "Cherbourg"
          ],
          [
           14,
           "Southampton"
          ],
          [
           19,
           "Southampton"
          ],
          [
           18,
           "Southampton"
          ],
          [
           25,
           "Cherbourg"
          ],
          [
           60,
           "Southampton"
          ],
          [
           52,
           "Southampton"
          ],
          [
           44,
           "Southampton"
          ],
          [
           49,
           "Cherbourg"
          ],
          [
           42,
           "Southampton"
          ],
          [
           18,
           "Cherbourg"
          ],
          [
           25,
           "Queenstown"
          ],
          [
           26,
           "Southampton"
          ],
          [
           39,
           "Southampton"
          ],
          [
           null,
           "Southampton"
          ],
          [
           29,
           "Southampton"
          ],
          [
           52,
           "Southampton"
          ],
          [
           19,
           "Southampton"
          ],
          [
           null,
           "Queenstown"
          ],
          [
           33,
           "Southampton"
          ],
          [
           17,
           "Southampton"
          ],
          [
           34,
           "Southampton"
          ],
          [
           50,
           "Southampton"
          ],
          [
           20,
           "Southampton"
          ],
          [
           25,
           "Southampton"
          ],
          [
           25,
           "Southampton"
          ],
          [
           11,
           "Cherbourg"
          ],
          [
           null,
           "Southampton"
          ],
          [
           23,
           "Southampton"
          ],
          [
           23,
           "Southampton"
          ],
          [
           28.5,
           "Southampton"
          ],
          [
           48,
           "Southampton"
          ],
          [
           null,
           "Southampton"
          ],
          [
           null,
           "Southampton"
          ],
          [
           36,
           "Southampton"
          ],
          [
           24,
           "Southampton"
          ],
          [
           70,
           "Southampton"
          ],
          [
           16,
           "Southampton"
          ],
          [
           19,
           "Southampton"
          ],
          [
           31,
           "Queenstown"
          ],
          [
           33,
           "Southampton"
          ],
          [
           23,
           "Southampton"
          ],
          [
           28,
           "Southampton"
          ],
          [
           18,
           "Southampton"
          ],
          [
           34,
           "Southampton"
          ],
          [
           null,
           "Southampton"
          ],
          [
           41,
           "Southampton"
          ],
          [
           16,
           "Southampton"
          ],
          [
           null,
           "Cherbourg"
          ],
          [
           30.5,
           "Queenstown"
          ],
          [
           null,
           "Queenstown"
          ],
          [
           32,
           "Southampton"
          ],
          [
           24,
           "Southampton"
          ],
          [
           48,
           "Southampton"
          ],
          [
           57,
           "Southampton"
          ],
          [
           null,
           "Cherbourg"
          ],
          [
           18,
           "Southampton"
          ],
          [
           null,
           "Queenstown"
          ],
          [
           null,
           "Queenstown"
          ],
          [
           29,
           "Southampton"
          ],
          [
           null,
           "Southampton"
          ],
          [
           25,
           "Southampton"
          ],
          [
           25,
           "Southampton"
          ],
          [
           8,
           "Queenstown"
          ],
          [
           46,
           "Cherbourg"
          ],
          [
           null,
           "Queenstown"
          ],
          [
           16,
           "Southampton"
          ],
          [
           null,
           "Southampton"
          ],
          [
           null,
           "Cherbourg"
          ],
          [
           25,
           "Southampton"
          ],
          [
           39,
           "Southampton"
          ],
          [
           30,
           "Cherbourg"
          ],
          [
           30,
           "Southampton"
          ],
          [
           34,
           "Southampton"
          ],
          [
           31,
           "Southampton"
          ],
          [
           39,
           "Southampton"
          ],
          [
           18,
           "Southampton"
          ],
          [
           39,
           "Southampton"
          ],
          [
           26,
           "Southampton"
          ],
          [
           39,
           "Southampton"
          ],
          [
           35,
           "Southampton"
          ],
          [
           6,
           "Southampton"
          ],
          [
           30.5,
           "Southampton"
          ],
          [
           null,
           "Southampton"
          ],
          [
           23,
           "Southampton"
          ],
          [
           31,
           "Cherbourg"
          ],
          [
           43,
           "Southampton"
          ],
          [
           10,
           "Southampton"
          ],
          [
           38,
           "Southampton"
          ],
          [
           2,
           "Southampton"
          ],
          [
           null,
           "Queenstown"
          ],
          [
           null,
           "Southampton"
          ],
          [
           null,
           "Cherbourg"
          ],
          [
           23,
           "Southampton"
          ],
          [
           18,
           "Southampton"
          ],
          [
           21,
           "Southampton"
          ],
          [
           null,
           "Southampton"
          ],
          [
           20,
           "Southampton"
          ],
          [
           16,
           "Southampton"
          ],
          [
           34.5,
           "Cherbourg"
          ],
          [
           17,
           "Southampton"
          ],
          [
           42,
           "Southampton"
          ],
          [
           null,
           "Southampton"
          ],
          [
           35,
           "Cherbourg"
          ],
          [
           28,
           "Southampton"
          ],
          [
           4,
           "Southampton"
          ],
          [
           74,
           "Southampton"
          ],
          [
           9,
           "Cherbourg"
          ],
          [
           44,
           "Southampton"
          ],
          [
           null,
           "Cherbourg"
          ],
          [
           41,
           "Southampton"
          ],
          [
           21,
           "Southampton"
          ],
          [
           null,
           "Southampton"
          ],
          [
           24,
           "Southampton"
          ],
          [
           31,
           "Southampton"
          ],
          [
           null,
           "Southampton"
          ],
          [
           26,
           "Southampton"
          ],
          [
           33,
           "Southampton"
          ],
          [
           47,
           "Southampton"
          ],
          [
           20,
           "Southampton"
          ],
          [
           19,
           "Southampton"
          ],
          [
           null,
           "Southampton"
          ],
          [
           33,
           "Southampton"
          ],
          [
           22,
           "Southampton"
          ],
          [
           28,
           "Southampton"
          ],
          [
           25,
           "Southampton"
          ],
          [
           39,
           "Queenstown"
          ],
          [
           27,
           "Southampton"
          ],
          [
           null,
           "Southampton"
          ],
          [
           32,
           "Queenstown"
          ]
         ],
         "hovertemplate": "survived=False<br>sex=%{x}<br>fare=%{y}<br>age=%{customdata[0]}<br>embark_town=%{customdata[1]}<extra></extra>",
         "legendgroup": "False",
         "marker": {
          "color": "#636efa"
         },
         "name": "False",
         "offsetgroup": "False",
         "orientation": "v",
         "points": "all",
         "scalegroup": "True",
         "showlegend": true,
         "type": "violin",
         "x": [
          "male",
          "male",
          "male",
          "male",
          "male",
          "male",
          "male",
          "female",
          "male",
          "female",
          "male",
          "female",
          "male",
          "male",
          "male",
          "male",
          "male",
          "male",
          "male",
          "male",
          "female",
          "female",
          "female",
          "male",
          "male",
          "male",
          "male",
          "female",
          "male",
          "male",
          "male",
          "male",
          "male",
          "male",
          "male",
          "male",
          "male",
          "male",
          "male",
          "male",
          "female",
          "male",
          "male",
          "male",
          "male",
          "male",
          "male",
          "male",
          "male",
          "male",
          "male",
          "male",
          "male",
          "male",
          "male",
          "male",
          "male",
          "male",
          "male",
          "female",
          "male",
          "male",
          "male",
          "male",
          "male",
          "male",
          "male",
          "female",
          "male",
          "female",
          "female",
          "male",
          "male",
          "male",
          "male",
          "female",
          "male",
          "male",
          "male",
          "male",
          "male",
          "male",
          "male",
          "male",
          "female",
          "male",
          "male",
          "male",
          "male",
          "male",
          "female",
          "male",
          "male",
          "male",
          "female",
          "male",
          "male",
          "male",
          "male",
          "male",
          "male",
          "male",
          "male",
          "male",
          "male",
          "male",
          "male",
          "male",
          "male",
          "female",
          "male",
          "male",
          "male",
          "male",
          "male",
          "male",
          "male",
          "male",
          "female",
          "male",
          "male",
          "female",
          "male",
          "male",
          "male",
          "male",
          "male",
          "male",
          "male",
          "male",
          "female",
          "male",
          "male",
          "male",
          "male",
          "female",
          "male",
          "male",
          "male",
          "male",
          "male",
          "male",
          "male",
          "male",
          "male",
          "male",
          "male",
          "male",
          "male",
          "female",
          "male",
          "male",
          "male",
          "female",
          "male",
          "male",
          "male",
          "female",
          "male",
          "male",
          "male",
          "male",
          "female",
          "male",
          "male",
          "female",
          "male",
          "male",
          "female",
          "male",
          "male",
          "male",
          "female",
          "male",
          "male",
          "male",
          "male",
          "female",
          "male",
          "male",
          "male",
          "male",
          "male",
          "male",
          "male",
          "male",
          "male",
          "female",
          "male",
          "male",
          "male",
          "female",
          "male",
          "male",
          "male",
          "female",
          "male",
          "male",
          "male",
          "male",
          "male",
          "male",
          "male",
          "male",
          "male",
          "male",
          "male",
          "male",
          "male",
          "male",
          "male",
          "male",
          "male",
          "male",
          "male",
          "male",
          "male",
          "male",
          "male",
          "female",
          "male",
          "male",
          "female",
          "male",
          "male",
          "male",
          "male",
          "male",
          "male",
          "female",
          "male",
          "male",
          "male",
          "male",
          "male",
          "male",
          "male",
          "male",
          "male",
          "male",
          "female",
          "male",
          "male",
          "male",
          "female",
          "male",
          "female",
          "male",
          "male",
          "male",
          "female",
          "male",
          "male",
          "male",
          "female",
          "male",
          "female",
          "male",
          "male",
          "male",
          "female",
          "male",
          "male",
          "male",
          "male",
          "male",
          "female",
          "male",
          "male",
          "male",
          "male",
          "male",
          "male",
          "male",
          "male",
          "male",
          "male",
          "male",
          "male",
          "male",
          "male",
          "male",
          "male",
          "male",
          "male",
          "male",
          "male",
          "female",
          "male",
          "male",
          "male",
          "male",
          "male",
          "male",
          "male",
          "female",
          "male",
          "male",
          "male",
          "male",
          "male",
          "male",
          "male",
          "male",
          "male",
          "female",
          "male",
          "male",
          "female",
          "female",
          "female",
          "male",
          "male",
          "male",
          "male",
          "male",
          "male",
          "male",
          "male",
          "male",
          "male",
          "male",
          "male",
          "male",
          "male",
          "male",
          "male",
          "female",
          "male",
          "male",
          "female",
          "female",
          "male",
          "male",
          "male",
          "male",
          "male",
          "male",
          "male",
          "male",
          "male",
          "male",
          "male",
          "female",
          "male",
          "male",
          "female",
          "male",
          "male",
          "male",
          "female",
          "male",
          "male",
          "male",
          "male",
          "male",
          "male",
          "male",
          "male",
          "female",
          "male",
          "male",
          "male",
          "male",
          "male",
          "male",
          "male",
          "male",
          "male",
          "female",
          "male",
          "male",
          "male",
          "male",
          "female",
          "male",
          "male",
          "male",
          "male",
          "male",
          "male",
          "male",
          "male",
          "male",
          "male",
          "female",
          "male",
          "male",
          "female",
          "male",
          "male",
          "female",
          "male",
          "male",
          "male",
          "male",
          "female",
          "male",
          "male",
          "female",
          "male",
          "male",
          "male",
          "male",
          "male",
          "male",
          "male",
          "male",
          "male",
          "male",
          "male",
          "male",
          "male",
          "male",
          "female",
          "female",
          "male",
          "male",
          "male",
          "male",
          "male",
          "male",
          "male",
          "male",
          "male",
          "male",
          "male",
          "male",
          "male",
          "female",
          "male",
          "male",
          "male",
          "male",
          "male",
          "male",
          "male",
          "male",
          "male",
          "male",
          "male",
          "male",
          "male",
          "male",
          "female",
          "male",
          "male",
          "male",
          "male",
          "male",
          "female",
          "male",
          "male",
          "male",
          "male",
          "male",
          "male",
          "male",
          "male",
          "male",
          "male",
          "male",
          "male",
          "male",
          "male",
          "male",
          "male",
          "male",
          "female",
          "male",
          "male",
          "male",
          "male",
          "female",
          "male",
          "male",
          "male",
          "male",
          "male",
          "male",
          "male",
          "male",
          "male",
          "male",
          "male",
          "male",
          "female",
          "male",
          "male",
          "male",
          "male",
          "female",
          "male",
          "male",
          "male",
          "female",
          "male",
          "male",
          "male",
          "male",
          "female",
          "male",
          "male",
          "female",
          "male",
          "male",
          "male",
          "male",
          "male",
          "male",
          "male",
          "male",
          "male",
          "male",
          "male",
          "male",
          "male",
          "male",
          "male",
          "male",
          "male",
          "male",
          "male",
          "male",
          "male",
          "male",
          "female",
          "female",
          "male",
          "male",
          "male",
          "female",
          "male",
          "male",
          "male",
          "male",
          "male",
          "male",
          "male",
          "male",
          "male",
          "male",
          "female",
          "male",
          "male",
          "female",
          "male",
          "female",
          "male"
         ],
         "x0": " ",
         "xaxis": "x",
         "y": [
          7.25,
          8.05,
          8.4583,
          51.8625,
          21.075,
          8.05,
          31.275,
          7.8542,
          29.125,
          18,
          26,
          21.075,
          7.225,
          263,
          7.8958,
          27.7208,
          10.5,
          82.1708,
          52,
          8.05,
          18,
          9.475,
          21,
          7.8958,
          8.05,
          15.5,
          21.6792,
          17.8,
          39.6875,
          7.8,
          61.9792,
          7.2292,
          46.9,
          7.2292,
          83.475,
          27.9,
          27.7208,
          8.1583,
          8.6625,
          10.5,
          46.9,
          73.5,
          14.4542,
          7.65,
          7.8958,
          8.05,
          9,
          47.1,
          34.375,
          8.05,
          8.05,
          8.05,
          7.8542,
          61.175,
          20.575,
          7.25,
          8.05,
          34.6542,
          26,
          7.8958,
          7.8958,
          77.2875,
          8.6542,
          7.925,
          7.8958,
          7.8958,
          52,
          14.4542,
          8.05,
          9.825,
          14.4583,
          7.925,
          7.75,
          21,
          247.5208,
          31.275,
          73.5,
          8.05,
          30.0708,
          77.2875,
          7.75,
          6.975,
          7.8958,
          7.05,
          14.5,
          13,
          15.0458,
          53.1,
          9.2167,
          79.2,
          15.2458,
          6.75,
          11.5,
          36.75,
          34.375,
          26,
          13,
          12.525,
          8.05,
          14.5,
          7.3125,
          61.3792,
          8.05,
          8.6625,
          69.55,
          16.1,
          7.775,
          8.6625,
          39.6875,
          27.9,
          25.925,
          56.4958,
          33.5,
          29.125,
          7.925,
          30.6958,
          7.8542,
          25.4667,
          28.7125,
          13,
          0,
          69.55,
          15.05,
          31.3875,
          50,
          15.5,
          7.8958,
          13,
          7.75,
          8.4042,
          13,
          9.5,
          69.55,
          6.4958,
          7.225,
          10.4625,
          15.85,
          7.05,
          7.25,
          13,
          7.75,
          27,
          10.5,
          13,
          8.05,
          7.8958,
          9.35,
          7.25,
          13,
          25.4667,
          7.775,
          13.5,
          10.5,
          7.55,
          26,
          10.5,
          12.275,
          14.4542,
          10.5,
          7.125,
          7.225,
          90,
          7.775,
          26,
          7.25,
          10.4625,
          26.55,
          16.1,
          20.2125,
          7.75,
          79.65,
          0,
          7.75,
          10.5,
          39.6875,
          31,
          29.7,
          7.75,
          0,
          29.125,
          7.75,
          7.8542,
          9.5,
          26,
          8.6625,
          7.8958,
          12.875,
          8.85,
          7.8958,
          27.7208,
          7.2292,
          151.55,
          0,
          8.05,
          24,
          26,
          7.8958,
          26.25,
          14,
          7.25,
          7.8958,
          69.55,
          6.2375,
          28.5,
          153.4625,
          18,
          7.8958,
          66.6,
          35.5,
          13,
          13,
          13,
          8.6625,
          9.225,
          35,
          7.2292,
          17.8,
          7.225,
          9.5,
          13,
          27.9,
          27.7208,
          14.4542,
          7.05,
          15.5,
          7.25,
          6.4958,
          8.05,
          135.6333,
          21.075,
          211.5,
          4.0125,
          7.775,
          7.925,
          7.8958,
          73.5,
          46.9,
          7.7292,
          7.925,
          7.7958,
          7.8542,
          26,
          10.5,
          8.05,
          9.825,
          15.85,
          8.6625,
          21,
          7.75,
          7.775,
          25.4667,
          7.8958,
          6.8583,
          0,
          8.05,
          13,
          24.15,
          7.8958,
          7.7333,
          7.875,
          14.4,
          20.2125,
          7.25,
          7.75,
          7.125,
          55.9,
          34.375,
          263,
          10.5,
          9.5,
          7.775,
          27.75,
          19.9667,
          27.75,
          8.05,
          26.55,
          7.75,
          8.05,
          38.5,
          13,
          8.05,
          7.05,
          0,
          26.55,
          7.725,
          7.25,
          8.6625,
          9.8375,
          52,
          21,
          7.0458,
          7.5208,
          46.9,
          0,
          8.05,
          25.4667,
          29.7,
          8.05,
          19.9667,
          7.25,
          30.5,
          49.5042,
          8.05,
          14.4583,
          15.1,
          151.55,
          7.7958,
          8.6625,
          7.75,
          7.6292,
          9.5875,
          108.9,
          22.525,
          8.05,
          7.4958,
          34.0208,
          24.15,
          7.8958,
          7.8958,
          7.225,
          7.2292,
          7.75,
          221.7792,
          7.925,
          11.5,
          7.2292,
          7.2292,
          8.6625,
          26.55,
          14.5,
          31.275,
          31.275,
          106.425,
          26,
          20.525,
          26,
          7.8292,
          26.55,
          227.525,
          7.75,
          7.8958,
          13.5,
          8.05,
          8.05,
          24.15,
          7.8958,
          21.075,
          7.2292,
          8.05,
          14.5,
          14.4583,
          26,
          40.125,
          8.7125,
          15,
          8.05,
          8.05,
          7.125,
          7.25,
          7.75,
          26,
          24.15,
          0,
          7.225,
          7.8958,
          42.4,
          8.05,
          15.55,
          7.8958,
          31.275,
          7.05,
          7.75,
          8.05,
          14.4,
          16.1,
          10.5,
          14.4542,
          7.8542,
          16.1,
          32.3208,
          12.35,
          7.8958,
          7.7333,
          7.0542,
          0,
          27.9,
          7.925,
          26.25,
          39.6875,
          16.1,
          7.8542,
          27.9,
          7.8958,
          7.55,
          7.8958,
          8.4333,
          6.75,
          73.5,
          7.8958,
          15.5,
          13,
          113.275,
          7.225,
          25.5875,
          7.4958,
          73.5,
          13,
          7.775,
          8.05,
          52,
          10.5,
          0,
          7.775,
          8.05,
          46.9,
          8.1375,
          9.225,
          46.9,
          39,
          41.5792,
          39.6875,
          10.1708,
          7.7958,
          7.225,
          26.55,
          13.5,
          8.05,
          110.8833,
          7.65,
          14.4542,
          7.7417,
          7.8542,
          26,
          26.55,
          9.4833,
          13,
          7.65,
          15.5,
          7.775,
          7.0542,
          13,
          13,
          8.6625,
          26,
          7.925,
          18.7875,
          0,
          13,
          13,
          16.1,
          34.375,
          7.8958,
          7.8958,
          78.85,
          16.1,
          71,
          20.25,
          53.1,
          7.75,
          9.5,
          7.8958,
          7.7958,
          11.5,
          8.05,
          14.5,
          7.125,
          7.775,
          39.6,
          7.75,
          24.15,
          8.3625,
          9.5,
          7.8542,
          10.5,
          7.225,
          7.75,
          7.75,
          7.7375,
          30,
          23.45,
          7.05,
          7.25,
          29.125,
          79.2,
          7.75,
          26,
          69.55,
          30.6958,
          7.8958,
          13,
          7.2292,
          24.15,
          13,
          7.775,
          0,
          7.775,
          13,
          7.8875,
          24.15,
          10.5,
          31.275,
          8.05,
          0,
          7.925,
          37.0042,
          6.45,
          27.9,
          0,
          39.6875,
          6.95,
          56.4958,
          7.2292,
          7.8542,
          8.3,
          8.6625,
          8.05,
          7.925,
          10.5,
          6.4375,
          8.6625,
          7.55,
          69.55,
          7.8958,
          33,
          31.275,
          7.775,
          15.2458,
          26,
          7.2292,
          14.1083,
          11.5,
          69.55,
          13,
          50.4958,
          9.5,
          7.8958,
          5,
          9,
          9.8458,
          7.8958,
          7.8958,
          7.8958,
          10.5167,
          10.5,
          7.05,
          29.125,
          13,
          23.45,
          7.75
         ],
         "y0": " ",
         "yaxis": "y"
        },
        {
         "alignmentgroup": "True",
         "box": {
          "visible": false
         },
         "customdata": [
          [
           38,
           "Cherbourg"
          ],
          [
           26,
           "Southampton"
          ],
          [
           35,
           "Southampton"
          ],
          [
           27,
           "Southampton"
          ],
          [
           14,
           "Cherbourg"
          ],
          [
           4,
           "Southampton"
          ],
          [
           58,
           "Southampton"
          ],
          [
           55,
           "Southampton"
          ],
          [
           null,
           "Southampton"
          ],
          [
           null,
           "Cherbourg"
          ],
          [
           34,
           "Southampton"
          ],
          [
           15,
           "Queenstown"
          ],
          [
           28,
           "Southampton"
          ],
          [
           38,
           "Southampton"
          ],
          [
           null,
           "Queenstown"
          ],
          [
           null,
           "Cherbourg"
          ],
          [
           null,
           "Queenstown"
          ],
          [
           null,
           "Cherbourg"
          ],
          [
           14,
           "Cherbourg"
          ],
          [
           3,
           "Cherbourg"
          ],
          [
           19,
           "Queenstown"
          ],
          [
           null,
           "Queenstown"
          ],
          [
           49,
           "Cherbourg"
          ],
          [
           29,
           "Southampton"
          ],
          [
           null,
           "Southampton"
          ],
          [
           21,
           "Southampton"
          ],
          [
           5,
           "Southampton"
          ],
          [
           38,
           null
          ],
          [
           null,
           "Cherbourg"
          ],
          [
           29,
           "Southampton"
          ],
          [
           17,
           "Southampton"
          ],
          [
           32,
           "Southampton"
          ],
          [
           0.83,
           "Southampton"
          ],
          [
           30,
           "Southampton"
          ],
          [
           29,
           "Southampton"
          ],
          [
           null,
           "Queenstown"
          ],
          [
           17,
           "Southampton"
          ],
          [
           33,
           "Southampton"
          ],
          [
           23,
           "Southampton"
          ],
          [
           23,
           "Cherbourg"
          ],
          [
           34,
           "Southampton"
          ],
          [
           21,
           "Southampton"
          ],
          [
           null,
           "Southampton"
          ],
          [
           null,
           "Queenstown"
          ],
          [
           32.5,
           "Southampton"
          ],
          [
           12,
           "Cherbourg"
          ],
          [
           24,
           "Southampton"
          ],
          [
           null,
           "Cherbourg"
          ],
          [
           29,
           "Southampton"
          ],
          [
           19,
           "Southampton"
          ],
          [
           22,
           "Southampton"
          ],
          [
           24,
           "Southampton"
          ],
          [
           27,
           "Southampton"
          ],
          [
           22,
           "Southampton"
          ],
          [
           16,
           "Queenstown"
          ],
          [
           40,
           "Southampton"
          ],
          [
           9,
           "Southampton"
          ],
          [
           null,
           "Southampton"
          ],
          [
           1,
           "Southampton"
          ],
          [
           1,
           "Southampton"
          ],
          [
           4,
           "Southampton"
          ],
          [
           null,
           "Queenstown"
          ],
          [
           45,
           "Southampton"
          ],
          [
           32,
           "Southampton"
          ],
          [
           19,
           "Southampton"
          ],
          [
           3,
           "Southampton"
          ],
          [
           44,
           "Cherbourg"
          ],
          [
           58,
           "Cherbourg"
          ],
          [
           null,
           "Queenstown"
          ],
          [
           18,
           "Southampton"
          ],
          [
           26,
           "Cherbourg"
          ],
          [
           16,
           "Queenstown"
          ],
          [
           40,
           "Cherbourg"
          ],
          [
           35,
           "Southampton"
          ],
          [
           31,
           "Cherbourg"
          ],
          [
           27,
           "Southampton"
          ],
          [
           32,
           "Cherbourg"
          ],
          [
           16,
           "Southampton"
          ],
          [
           38,
           "Southampton"
          ],
          [
           19,
           "Southampton"
          ],
          [
           35,
           "Southampton"
          ],
          [
           5,
           "Southampton"
          ],
          [
           8,
           "Southampton"
          ],
          [
           null,
           "Queenstown"
          ],
          [
           24,
           "Southampton"
          ],
          [
           37,
           "Southampton"
          ],
          [
           29,
           "Cherbourg"
          ],
          [
           null,
           "Cherbourg"
          ],
          [
           30,
           "Southampton"
          ],
          [
           35,
           "Cherbourg"
          ],
          [
           50,
           "Southampton"
          ],
          [
           3,
           "Southampton"
          ],
          [
           25,
           "Southampton"
          ],
          [
           58,
           "Southampton"
          ],
          [
           35,
           "Southampton"
          ],
          [
           25,
           "Southampton"
          ],
          [
           41,
           "Southampton"
          ],
          [
           null,
           "Queenstown"
          ],
          [
           63,
           "Southampton"
          ],
          [
           35,
           "Southampton"
          ],
          [
           19,
           "Southampton"
          ],
          [
           30,
           "Southampton"
          ],
          [
           42,
           "Southampton"
          ],
          [
           22,
           "Queenstown"
          ],
          [
           26,
           "Southampton"
          ],
          [
           19,
           "Cherbourg"
          ],
          [
           null,
           "Southampton"
          ],
          [
           50,
           "Cherbourg"
          ],
          [
           null,
           "Queenstown"
          ],
          [
           null,
           "Queenstown"
          ],
          [
           null,
           "Queenstown"
          ],
          [
           0.92,
           "Southampton"
          ],
          [
           null,
           "Cherbourg"
          ],
          [
           17,
           "Cherbourg"
          ],
          [
           30,
           "Cherbourg"
          ],
          [
           24,
           "Cherbourg"
          ],
          [
           18,
           "Cherbourg"
          ],
          [
           26,
           "Southampton"
          ],
          [
           24,
           "Southampton"
          ],
          [
           31,
           "Southampton"
          ],
          [
           40,
           "Cherbourg"
          ],
          [
           30,
           "Queenstown"
          ],
          [
           22,
           "Southampton"
          ],
          [
           36,
           "Cherbourg"
          ],
          [
           36,
           "Southampton"
          ],
          [
           31,
           "Southampton"
          ],
          [
           16,
           "Cherbourg"
          ],
          [
           null,
           "Queenstown"
          ],
          [
           null,
           "Southampton"
          ],
          [
           41,
           "Cherbourg"
          ],
          [
           45,
           "Southampton"
          ],
          [
           2,
           "Southampton"
          ],
          [
           24,
           "Southampton"
          ],
          [
           24,
           "Southampton"
          ],
          [
           40,
           "Southampton"
          ],
          [
           null,
           "Southampton"
          ],
          [
           3,
           "Southampton"
          ],
          [
           22,
           "Southampton"
          ],
          [
           null,
           "Queenstown"
          ],
          [
           null,
           "Queenstown"
          ],
          [
           60,
           "Cherbourg"
          ],
          [
           null,
           "Cherbourg"
          ],
          [
           null,
           "Queenstown"
          ],
          [
           24,
           "Cherbourg"
          ],
          [
           25,
           "Cherbourg"
          ],
          [
           null,
           "Cherbourg"
          ],
          [
           22,
           "Southampton"
          ],
          [
           42,
           "Cherbourg"
          ],
          [
           1,
           "Cherbourg"
          ],
          [
           35,
           "Southampton"
          ],
          [
           36,
           "Southampton"
          ],
          [
           17,
           "Cherbourg"
          ],
          [
           36,
           "Southampton"
          ],
          [
           21,
           "Southampton"
          ],
          [
           23,
           "Cherbourg"
          ],
          [
           24,
           "Southampton"
          ],
          [
           28,
           "Southampton"
          ],
          [
           39,
           "Southampton"
          ],
          [
           3,
           "Southampton"
          ],
          [
           33,
           "Queenstown"
          ],
          [
           44,
           "Southampton"
          ],
          [
           34,
           "Southampton"
          ],
          [
           18,
           "Southampton"
          ],
          [
           28,
           "Southampton"
          ],
          [
           19,
           "Southampton"
          ],
          [
           32,
           "Southampton"
          ],
          [
           28,
           "Southampton"
          ],
          [
           null,
           "Southampton"
          ],
          [
           42,
           "Southampton"
          ],
          [
           14,
           "Southampton"
          ],
          [
           24,
           "Southampton"
          ],
          [
           45,
           "Southampton"
          ],
          [
           28,
           "Southampton"
          ],
          [
           null,
           "Southampton"
          ],
          [
           4,
           "Southampton"
          ],
          [
           13,
           "Southampton"
          ],
          [
           34,
           "Southampton"
          ],
          [
           5,
           "Cherbourg"
          ],
          [
           52,
           "Southampton"
          ],
          [
           49,
           "Cherbourg"
          ],
          [
           29,
           "Cherbourg"
          ],
          [
           null,
           "Southampton"
          ],
          [
           50,
           "Southampton"
          ],
          [
           48,
           "Southampton"
          ],
          [
           0.75,
           "Cherbourg"
          ],
          [
           33,
           "Southampton"
          ],
          [
           23,
           "Cherbourg"
          ],
          [
           2,
           "Southampton"
          ],
          [
           63,
           "Southampton"
          ],
          [
           25,
           "Cherbourg"
          ],
          [
           35,
           "Southampton"
          ],
          [
           9,
           "Southampton"
          ],
          [
           54,
           "Cherbourg"
          ],
          [
           16,
           "Southampton"
          ],
          [
           33,
           "Southampton"
          ],
          [
           null,
           "Southampton"
          ],
          [
           26,
           "Southampton"
          ],
          [
           29,
           "Queenstown"
          ],
          [
           36,
           "Southampton"
          ],
          [
           54,
           "Cherbourg"
          ],
          [
           34,
           "Southampton"
          ],
          [
           36,
           "Southampton"
          ],
          [
           30,
           "Southampton"
          ],
          [
           44,
           "Cherbourg"
          ],
          [
           50,
           "Southampton"
          ],
          [
           2,
           "Southampton"
          ],
          [
           null,
           "Cherbourg"
          ],
          [
           7,
           "Southampton"
          ],
          [
           30,
           "Cherbourg"
          ],
          [
           22,
           "Cherbourg"
          ],
          [
           36,
           "Southampton"
          ],
          [
           32,
           "Southampton"
          ],
          [
           19,
           "Southampton"
          ],
          [
           null,
           "Cherbourg"
          ],
          [
           8,
           "Southampton"
          ],
          [
           17,
           "Cherbourg"
          ],
          [
           22,
           "Cherbourg"
          ],
          [
           22,
           "Southampton"
          ],
          [
           48,
           "Cherbourg"
          ],
          [
           39,
           "Southampton"
          ],
          [
           36,
           "Southampton"
          ],
          [
           32,
           "Southampton"
          ],
          [
           62,
           "Southampton"
          ],
          [
           53,
           "Southampton"
          ],
          [
           36,
           "Southampton"
          ],
          [
           null,
           "Queenstown"
          ],
          [
           34,
           "Southampton"
          ],
          [
           39,
           "Southampton"
          ],
          [
           32,
           "Southampton"
          ],
          [
           25,
           "Southampton"
          ],
          [
           39,
           "Cherbourg"
          ],
          [
           18,
           "Southampton"
          ],
          [
           60,
           "Cherbourg"
          ],
          [
           52,
           "Cherbourg"
          ],
          [
           null,
           "Southampton"
          ],
          [
           49,
           "Cherbourg"
          ],
          [
           24,
           "Southampton"
          ],
          [
           35,
           "Cherbourg"
          ],
          [
           27,
           "Southampton"
          ],
          [
           22,
           "Cherbourg"
          ],
          [
           40,
           "Southampton"
          ],
          [
           null,
           "Queenstown"
          ],
          [
           24,
           "Southampton"
          ],
          [
           4,
           "Southampton"
          ],
          [
           42,
           "Southampton"
          ],
          [
           20,
           "Cherbourg"
          ],
          [
           21,
           "Southampton"
          ],
          [
           80,
           "Southampton"
          ],
          [
           32,
           "Cherbourg"
          ],
          [
           28,
           "Southampton"
          ],
          [
           24,
           "Cherbourg"
          ],
          [
           null,
           "Southampton"
          ],
          [
           0.75,
           "Cherbourg"
          ],
          [
           48,
           "Cherbourg"
          ],
          [
           56,
           "Cherbourg"
          ],
          [
           23,
           "Southampton"
          ],
          [
           18,
           "Southampton"
          ],
          [
           null,
           "Queenstown"
          ],
          [
           50,
           "Southampton"
          ],
          [
           20,
           "Southampton"
          ],
          [
           null,
           "Southampton"
          ],
          [
           40,
           "Southampton"
          ],
          [
           31,
           "Southampton"
          ],
          [
           18,
           "Southampton"
          ],
          [
           36,
           "Cherbourg"
          ],
          [
           27,
           "Cherbourg"
          ],
          [
           15,
           "Southampton"
          ],
          [
           31,
           "Southampton"
          ],
          [
           4,
           "Cherbourg"
          ],
          [
           null,
           "Southampton"
          ],
          [
           null,
           "Queenstown"
          ],
          [
           18,
           "Cherbourg"
          ],
          [
           35,
           "Southampton"
          ],
          [
           45,
           "Southampton"
          ],
          [
           42,
           "Southampton"
          ],
          [
           22,
           "Southampton"
          ],
          [
           null,
           "Cherbourg"
          ],
          [
           24,
           "Cherbourg"
          ],
          [
           48,
           "Southampton"
          ],
          [
           38,
           "Cherbourg"
          ],
          [
           27,
           "Southampton"
          ],
          [
           6,
           "Southampton"
          ],
          [
           27,
           "Southampton"
          ],
          [
           30,
           "Southampton"
          ],
          [
           null,
           "Queenstown"
          ],
          [
           29,
           "Southampton"
          ],
          [
           35,
           "Cherbourg"
          ],
          [
           null,
           "Southampton"
          ],
          [
           21,
           "Cherbourg"
          ],
          [
           31,
           "Southampton"
          ],
          [
           30,
           "Southampton"
          ],
          [
           4,
           "Southampton"
          ],
          [
           6,
           "Southampton"
          ],
          [
           48,
           "Southampton"
          ],
          [
           0.67,
           "Southampton"
          ],
          [
           33,
           "Southampton"
          ],
          [
           20,
           "Cherbourg"
          ],
          [
           36,
           "Southampton"
          ],
          [
           51,
           "Southampton"
          ],
          [
           54,
           "Southampton"
          ],
          [
           5,
           "Southampton"
          ],
          [
           43,
           "Southampton"
          ],
          [
           13,
           "Cherbourg"
          ],
          [
           17,
           "Southampton"
          ],
          [
           18,
           "Southampton"
          ],
          [
           1,
           "Southampton"
          ],
          [
           49,
           "Southampton"
          ],
          [
           31,
           "Southampton"
          ],
          [
           31,
           "Southampton"
          ],
          [
           11,
           "Southampton"
          ],
          [
           0.42,
           "Cherbourg"
          ],
          [
           27,
           "Southampton"
          ],
          [
           33,
           "Southampton"
          ],
          [
           52,
           "Southampton"
          ],
          [
           27,
           "Southampton"
          ],
          [
           27,
           "Southampton"
          ],
          [
           1,
           "Cherbourg"
          ],
          [
           null,
           "Queenstown"
          ],
          [
           62,
           null
          ],
          [
           15,
           "Cherbourg"
          ],
          [
           0.83,
           "Southampton"
          ],
          [
           39,
           "Cherbourg"
          ],
          [
           32,
           "Southampton"
          ],
          [
           null,
           "Cherbourg"
          ],
          [
           30,
           "Cherbourg"
          ],
          [
           null,
           "Cherbourg"
          ],
          [
           16,
           "Southampton"
          ],
          [
           18,
           "Southampton"
          ],
          [
           45,
           "Southampton"
          ],
          [
           51,
           "Southampton"
          ],
          [
           24,
           "Cherbourg"
          ],
          [
           48,
           "Southampton"
          ],
          [
           42,
           "Southampton"
          ],
          [
           27,
           "Cherbourg"
          ],
          [
           4,
           "Southampton"
          ],
          [
           47,
           "Southampton"
          ],
          [
           28,
           "Cherbourg"
          ],
          [
           15,
           "Cherbourg"
          ],
          [
           56,
           "Cherbourg"
          ],
          [
           25,
           "Southampton"
          ],
          [
           19,
           "Southampton"
          ],
          [
           26,
           "Cherbourg"
          ]
         ],
         "hovertemplate": "survived=True<br>sex=%{x}<br>fare=%{y}<br>age=%{customdata[0]}<br>embark_town=%{customdata[1]}<extra></extra>",
         "legendgroup": "True",
         "marker": {
          "color": "#EF553B"
         },
         "name": "True",
         "offsetgroup": "True",
         "orientation": "v",
         "points": "all",
         "scalegroup": "True",
         "showlegend": true,
         "type": "violin",
         "x": [
          "female",
          "female",
          "female",
          "female",
          "female",
          "female",
          "female",
          "female",
          "male",
          "female",
          "male",
          "female",
          "male",
          "female",
          "female",
          "female",
          "female",
          "male",
          "female",
          "female",
          "female",
          "female",
          "female",
          "female",
          "male",
          "female",
          "female",
          "female",
          "male",
          "female",
          "female",
          "male",
          "male",
          "female",
          "male",
          "female",
          "female",
          "female",
          "female",
          "male",
          "female",
          "female",
          "male",
          "female",
          "female",
          "male",
          "male",
          "female",
          "female",
          "female",
          "female",
          "female",
          "male",
          "female",
          "female",
          "female",
          "male",
          "female",
          "female",
          "male",
          "female",
          "female",
          "male",
          "female",
          "female",
          "male",
          "female",
          "female",
          "female",
          "male",
          "male",
          "female",
          "male",
          "female",
          "female",
          "female",
          "female",
          "male",
          "male",
          "male",
          "female",
          "female",
          "female",
          "female",
          "female",
          "male",
          "female",
          "female",
          "female",
          "female",
          "female",
          "male",
          "male",
          "female",
          "female",
          "male",
          "female",
          "female",
          "female",
          "female",
          "male",
          "male",
          "male",
          "female",
          "female",
          "female",
          "male",
          "female",
          "female",
          "male",
          "female",
          "male",
          "female",
          "female",
          "female",
          "female",
          "female",
          "female",
          "female",
          "female",
          "female",
          "female",
          "female",
          "female",
          "female",
          "female",
          "female",
          "female",
          "female",
          "female",
          "male",
          "male",
          "female",
          "female",
          "female",
          "female",
          "male",
          "female",
          "female",
          "female",
          "female",
          "female",
          "female",
          "female",
          "male",
          "female",
          "female",
          "female",
          "female",
          "female",
          "female",
          "female",
          "male",
          "male",
          "female",
          "female",
          "female",
          "male",
          "male",
          "female",
          "male",
          "female",
          "female",
          "female",
          "female",
          "male",
          "male",
          "female",
          "female",
          "female",
          "female",
          "female",
          "female",
          "male",
          "male",
          "female",
          "male",
          "female",
          "male",
          "male",
          "male",
          "female",
          "female",
          "male",
          "female",
          "female",
          "female",
          "female",
          "female",
          "male",
          "female",
          "male",
          "female",
          "female",
          "female",
          "male",
          "male",
          "male",
          "male",
          "female",
          "female",
          "female",
          "female",
          "female",
          "female",
          "female",
          "female",
          "female",
          "female",
          "female",
          "female",
          "male",
          "female",
          "male",
          "male",
          "male",
          "male",
          "female",
          "female",
          "female",
          "female",
          "male",
          "male",
          "female",
          "male",
          "female",
          "female",
          "female",
          "male",
          "female",
          "female",
          "female",
          "male",
          "female",
          "female",
          "male",
          "female",
          "male",
          "male",
          "female",
          "female",
          "female",
          "female",
          "female",
          "male",
          "male",
          "female",
          "male",
          "male",
          "female",
          "female",
          "male",
          "female",
          "male",
          "male",
          "female",
          "female",
          "female",
          "male",
          "male",
          "female",
          "female",
          "male",
          "female",
          "male",
          "male",
          "female",
          "male",
          "female",
          "male",
          "female",
          "female",
          "male",
          "female",
          "male",
          "female",
          "male",
          "female",
          "male",
          "female",
          "female",
          "female",
          "male",
          "female",
          "female",
          "female",
          "male",
          "male",
          "female",
          "male",
          "female",
          "female",
          "male",
          "female",
          "male",
          "female",
          "male",
          "female",
          "female",
          "female",
          "female",
          "female",
          "female",
          "female",
          "female",
          "male",
          "female",
          "female",
          "female",
          "male",
          "male",
          "male",
          "female",
          "female",
          "male",
          "female",
          "male",
          "male",
          "female",
          "female",
          "male",
          "female",
          "male",
          "male",
          "female",
          "female",
          "female",
          "female",
          "female",
          "male",
          "female",
          "female",
          "female",
          "female",
          "male",
          "female",
          "female",
          "female",
          "female",
          "female",
          "female",
          "male"
         ],
         "x0": " ",
         "xaxis": "x",
         "y": [
          71.2833,
          7.925,
          53.1,
          11.1333,
          30.0708,
          16.7,
          26.55,
          16,
          13,
          7.225,
          13,
          8.0292,
          35.5,
          31.3875,
          7.8792,
          146.5208,
          7.75,
          7.2292,
          11.2417,
          41.5792,
          7.8792,
          7.75,
          76.7292,
          26,
          35.5,
          10.5,
          27.75,
          80,
          15.2458,
          10.5,
          7.925,
          56.4958,
          29,
          12.475,
          9.5,
          7.7875,
          10.5,
          15.85,
          263,
          63.3583,
          23,
          7.65,
          7.775,
          24.15,
          13,
          11.2417,
          7.1417,
          22.3583,
          26,
          26.2833,
          7.75,
          15.85,
          7.7958,
          66.6,
          7.7333,
          15.75,
          20.525,
          55,
          11.1333,
          39,
          22.025,
          15.5,
          26.55,
          13,
          7.8542,
          26,
          27.7208,
          146.5208,
          7.75,
          8.05,
          18.7875,
          7.75,
          31,
          21,
          113.275,
          7.925,
          76.2917,
          8.05,
          90,
          10.5,
          83.475,
          31.3875,
          26.25,
          15.5,
          14.5,
          52.5542,
          15.2458,
          79.2,
          86.5,
          512.3292,
          26,
          31.3875,
          7.775,
          153.4625,
          135.6333,
          0,
          19.5,
          7.75,
          77.9583,
          20.25,
          8.05,
          9.5,
          13,
          7.75,
          78.85,
          91.0792,
          30.5,
          247.5208,
          7.75,
          23.25,
          12.35,
          151.55,
          110.8833,
          108.9,
          56.9292,
          83.1583,
          262.375,
          7.8542,
          26,
          164.8667,
          134.5,
          12.35,
          29,
          135.6333,
          13,
          20.525,
          57.9792,
          23.25,
          133.65,
          134.5,
          8.05,
          26,
          263,
          13,
          13,
          16.1,
          15.9,
          55,
          7.8792,
          7.8792,
          75.25,
          7.2292,
          7.75,
          69.3,
          55.4417,
          82.1708,
          7.25,
          227.525,
          15.7417,
          52,
          13,
          12,
          120,
          7.7958,
          113.275,
          16.7,
          12.65,
          7.925,
          18.75,
          90,
          7.925,
          32.5,
          13,
          26,
          26,
          8.05,
          26.55,
          16.1,
          26,
          120,
          18.75,
          26.25,
          13,
          8.1125,
          81.8583,
          19.5,
          26.55,
          19.2583,
          30.5,
          89.1042,
          7.8958,
          51.8625,
          10.5,
          26.55,
          19.2583,
          27.75,
          13.7917,
          12.2875,
          9.5875,
          91.0792,
          90,
          15.9,
          78.2667,
          86.5,
          26,
          26.55,
          56.4958,
          7.75,
          26.2875,
          59.4,
          10.5,
          26,
          93.5,
          57.9792,
          10.5,
          26,
          22.3583,
          26.25,
          106.425,
          49.5,
          71,
          26,
          26,
          13.8625,
          36.75,
          110.8833,
          7.225,
          7.775,
          39.6,
          79.65,
          17.4,
          7.8542,
          10.5,
          51.4792,
          26.3875,
          7.75,
          13,
          55.9,
          7.925,
          30,
          110.8833,
          79.65,
          79.2,
          78.2667,
          33,
          56.9292,
          27,
          26.55,
          30.5,
          41.5792,
          153.4625,
          15.5,
          65,
          39,
          52.5542,
          15.7417,
          77.9583,
          30,
          30.5,
          13,
          69.3,
          56.4958,
          19.2583,
          76.7292,
          35.5,
          7.55,
          23,
          7.8292,
          133.65,
          7.925,
          52,
          39,
          13,
          9.8417,
          512.3292,
          76.7292,
          211.3375,
          57,
          13.4167,
          56.4958,
          7.7333,
          227.525,
          26.2875,
          13.5,
          26.2875,
          151.55,
          15.2458,
          49.5042,
          52,
          227.525,
          10.5,
          33,
          53.1,
          21,
          7.7375,
          211.3375,
          512.3292,
          30,
          262.375,
          7.925,
          13,
          23,
          12.475,
          65,
          14.5,
          86.5,
          7.2292,
          120,
          77.9583,
          23,
          12.475,
          211.3375,
          7.2292,
          57,
          7.4958,
          20.575,
          25.9292,
          8.6833,
          26.25,
          120,
          8.5167,
          6.975,
          53.1,
          93.5,
          8.6625,
          12.475,
          37.0042,
          7.75,
          80,
          14.4542,
          18.75,
          83.1583,
          56.4958,
          29.7,
          31,
          89.1042,
          39.4,
          9.35,
          164.8667,
          26.55,
          19.2583,
          25.9292,
          13,
          13.8583,
          11.1333,
          52.5542,
          24,
          7.225,
          83.1583,
          26,
          30,
          30
         ],
         "y0": " ",
         "yaxis": "y"
        }
       ],
       "layout": {
        "legend": {
         "title": {
          "text": "survived"
         },
         "tracegroupgap": 0
        },
        "margin": {
         "t": 60
        },
        "template": {
         "data": {
          "bar": [
           {
            "error_x": {
             "color": "#2a3f5f"
            },
            "error_y": {
             "color": "#2a3f5f"
            },
            "marker": {
             "line": {
              "color": "#E5ECF6",
              "width": 0.5
             }
            },
            "type": "bar"
           }
          ],
          "barpolar": [
           {
            "marker": {
             "line": {
              "color": "#E5ECF6",
              "width": 0.5
             }
            },
            "type": "barpolar"
           }
          ],
          "carpet": [
           {
            "aaxis": {
             "endlinecolor": "#2a3f5f",
             "gridcolor": "white",
             "linecolor": "white",
             "minorgridcolor": "white",
             "startlinecolor": "#2a3f5f"
            },
            "baxis": {
             "endlinecolor": "#2a3f5f",
             "gridcolor": "white",
             "linecolor": "white",
             "minorgridcolor": "white",
             "startlinecolor": "#2a3f5f"
            },
            "type": "carpet"
           }
          ],
          "choropleth": [
           {
            "colorbar": {
             "outlinewidth": 0,
             "ticks": ""
            },
            "type": "choropleth"
           }
          ],
          "contour": [
           {
            "colorbar": {
             "outlinewidth": 0,
             "ticks": ""
            },
            "colorscale": [
             [
              0,
              "#0d0887"
             ],
             [
              0.1111111111111111,
              "#46039f"
             ],
             [
              0.2222222222222222,
              "#7201a8"
             ],
             [
              0.3333333333333333,
              "#9c179e"
             ],
             [
              0.4444444444444444,
              "#bd3786"
             ],
             [
              0.5555555555555556,
              "#d8576b"
             ],
             [
              0.6666666666666666,
              "#ed7953"
             ],
             [
              0.7777777777777778,
              "#fb9f3a"
             ],
             [
              0.8888888888888888,
              "#fdca26"
             ],
             [
              1,
              "#f0f921"
             ]
            ],
            "type": "contour"
           }
          ],
          "contourcarpet": [
           {
            "colorbar": {
             "outlinewidth": 0,
             "ticks": ""
            },
            "type": "contourcarpet"
           }
          ],
          "heatmap": [
           {
            "colorbar": {
             "outlinewidth": 0,
             "ticks": ""
            },
            "colorscale": [
             [
              0,
              "#0d0887"
             ],
             [
              0.1111111111111111,
              "#46039f"
             ],
             [
              0.2222222222222222,
              "#7201a8"
             ],
             [
              0.3333333333333333,
              "#9c179e"
             ],
             [
              0.4444444444444444,
              "#bd3786"
             ],
             [
              0.5555555555555556,
              "#d8576b"
             ],
             [
              0.6666666666666666,
              "#ed7953"
             ],
             [
              0.7777777777777778,
              "#fb9f3a"
             ],
             [
              0.8888888888888888,
              "#fdca26"
             ],
             [
              1,
              "#f0f921"
             ]
            ],
            "type": "heatmap"
           }
          ],
          "heatmapgl": [
           {
            "colorbar": {
             "outlinewidth": 0,
             "ticks": ""
            },
            "colorscale": [
             [
              0,
              "#0d0887"
             ],
             [
              0.1111111111111111,
              "#46039f"
             ],
             [
              0.2222222222222222,
              "#7201a8"
             ],
             [
              0.3333333333333333,
              "#9c179e"
             ],
             [
              0.4444444444444444,
              "#bd3786"
             ],
             [
              0.5555555555555556,
              "#d8576b"
             ],
             [
              0.6666666666666666,
              "#ed7953"
             ],
             [
              0.7777777777777778,
              "#fb9f3a"
             ],
             [
              0.8888888888888888,
              "#fdca26"
             ],
             [
              1,
              "#f0f921"
             ]
            ],
            "type": "heatmapgl"
           }
          ],
          "histogram": [
           {
            "marker": {
             "colorbar": {
              "outlinewidth": 0,
              "ticks": ""
             }
            },
            "type": "histogram"
           }
          ],
          "histogram2d": [
           {
            "colorbar": {
             "outlinewidth": 0,
             "ticks": ""
            },
            "colorscale": [
             [
              0,
              "#0d0887"
             ],
             [
              0.1111111111111111,
              "#46039f"
             ],
             [
              0.2222222222222222,
              "#7201a8"
             ],
             [
              0.3333333333333333,
              "#9c179e"
             ],
             [
              0.4444444444444444,
              "#bd3786"
             ],
             [
              0.5555555555555556,
              "#d8576b"
             ],
             [
              0.6666666666666666,
              "#ed7953"
             ],
             [
              0.7777777777777778,
              "#fb9f3a"
             ],
             [
              0.8888888888888888,
              "#fdca26"
             ],
             [
              1,
              "#f0f921"
             ]
            ],
            "type": "histogram2d"
           }
          ],
          "histogram2dcontour": [
           {
            "colorbar": {
             "outlinewidth": 0,
             "ticks": ""
            },
            "colorscale": [
             [
              0,
              "#0d0887"
             ],
             [
              0.1111111111111111,
              "#46039f"
             ],
             [
              0.2222222222222222,
              "#7201a8"
             ],
             [
              0.3333333333333333,
              "#9c179e"
             ],
             [
              0.4444444444444444,
              "#bd3786"
             ],
             [
              0.5555555555555556,
              "#d8576b"
             ],
             [
              0.6666666666666666,
              "#ed7953"
             ],
             [
              0.7777777777777778,
              "#fb9f3a"
             ],
             [
              0.8888888888888888,
              "#fdca26"
             ],
             [
              1,
              "#f0f921"
             ]
            ],
            "type": "histogram2dcontour"
           }
          ],
          "mesh3d": [
           {
            "colorbar": {
             "outlinewidth": 0,
             "ticks": ""
            },
            "type": "mesh3d"
           }
          ],
          "parcoords": [
           {
            "line": {
             "colorbar": {
              "outlinewidth": 0,
              "ticks": ""
             }
            },
            "type": "parcoords"
           }
          ],
          "pie": [
           {
            "automargin": true,
            "type": "pie"
           }
          ],
          "scatter": [
           {
            "marker": {
             "colorbar": {
              "outlinewidth": 0,
              "ticks": ""
             }
            },
            "type": "scatter"
           }
          ],
          "scatter3d": [
           {
            "line": {
             "colorbar": {
              "outlinewidth": 0,
              "ticks": ""
             }
            },
            "marker": {
             "colorbar": {
              "outlinewidth": 0,
              "ticks": ""
             }
            },
            "type": "scatter3d"
           }
          ],
          "scattercarpet": [
           {
            "marker": {
             "colorbar": {
              "outlinewidth": 0,
              "ticks": ""
             }
            },
            "type": "scattercarpet"
           }
          ],
          "scattergeo": [
           {
            "marker": {
             "colorbar": {
              "outlinewidth": 0,
              "ticks": ""
             }
            },
            "type": "scattergeo"
           }
          ],
          "scattergl": [
           {
            "marker": {
             "colorbar": {
              "outlinewidth": 0,
              "ticks": ""
             }
            },
            "type": "scattergl"
           }
          ],
          "scattermapbox": [
           {
            "marker": {
             "colorbar": {
              "outlinewidth": 0,
              "ticks": ""
             }
            },
            "type": "scattermapbox"
           }
          ],
          "scatterpolar": [
           {
            "marker": {
             "colorbar": {
              "outlinewidth": 0,
              "ticks": ""
             }
            },
            "type": "scatterpolar"
           }
          ],
          "scatterpolargl": [
           {
            "marker": {
             "colorbar": {
              "outlinewidth": 0,
              "ticks": ""
             }
            },
            "type": "scatterpolargl"
           }
          ],
          "scatterternary": [
           {
            "marker": {
             "colorbar": {
              "outlinewidth": 0,
              "ticks": ""
             }
            },
            "type": "scatterternary"
           }
          ],
          "surface": [
           {
            "colorbar": {
             "outlinewidth": 0,
             "ticks": ""
            },
            "colorscale": [
             [
              0,
              "#0d0887"
             ],
             [
              0.1111111111111111,
              "#46039f"
             ],
             [
              0.2222222222222222,
              "#7201a8"
             ],
             [
              0.3333333333333333,
              "#9c179e"
             ],
             [
              0.4444444444444444,
              "#bd3786"
             ],
             [
              0.5555555555555556,
              "#d8576b"
             ],
             [
              0.6666666666666666,
              "#ed7953"
             ],
             [
              0.7777777777777778,
              "#fb9f3a"
             ],
             [
              0.8888888888888888,
              "#fdca26"
             ],
             [
              1,
              "#f0f921"
             ]
            ],
            "type": "surface"
           }
          ],
          "table": [
           {
            "cells": {
             "fill": {
              "color": "#EBF0F8"
             },
             "line": {
              "color": "white"
             }
            },
            "header": {
             "fill": {
              "color": "#C8D4E3"
             },
             "line": {
              "color": "white"
             }
            },
            "type": "table"
           }
          ]
         },
         "layout": {
          "annotationdefaults": {
           "arrowcolor": "#2a3f5f",
           "arrowhead": 0,
           "arrowwidth": 1
          },
          "coloraxis": {
           "colorbar": {
            "outlinewidth": 0,
            "ticks": ""
           }
          },
          "colorscale": {
           "diverging": [
            [
             0,
             "#8e0152"
            ],
            [
             0.1,
             "#c51b7d"
            ],
            [
             0.2,
             "#de77ae"
            ],
            [
             0.3,
             "#f1b6da"
            ],
            [
             0.4,
             "#fde0ef"
            ],
            [
             0.5,
             "#f7f7f7"
            ],
            [
             0.6,
             "#e6f5d0"
            ],
            [
             0.7,
             "#b8e186"
            ],
            [
             0.8,
             "#7fbc41"
            ],
            [
             0.9,
             "#4d9221"
            ],
            [
             1,
             "#276419"
            ]
           ],
           "sequential": [
            [
             0,
             "#0d0887"
            ],
            [
             0.1111111111111111,
             "#46039f"
            ],
            [
             0.2222222222222222,
             "#7201a8"
            ],
            [
             0.3333333333333333,
             "#9c179e"
            ],
            [
             0.4444444444444444,
             "#bd3786"
            ],
            [
             0.5555555555555556,
             "#d8576b"
            ],
            [
             0.6666666666666666,
             "#ed7953"
            ],
            [
             0.7777777777777778,
             "#fb9f3a"
            ],
            [
             0.8888888888888888,
             "#fdca26"
            ],
            [
             1,
             "#f0f921"
            ]
           ],
           "sequentialminus": [
            [
             0,
             "#0d0887"
            ],
            [
             0.1111111111111111,
             "#46039f"
            ],
            [
             0.2222222222222222,
             "#7201a8"
            ],
            [
             0.3333333333333333,
             "#9c179e"
            ],
            [
             0.4444444444444444,
             "#bd3786"
            ],
            [
             0.5555555555555556,
             "#d8576b"
            ],
            [
             0.6666666666666666,
             "#ed7953"
            ],
            [
             0.7777777777777778,
             "#fb9f3a"
            ],
            [
             0.8888888888888888,
             "#fdca26"
            ],
            [
             1,
             "#f0f921"
            ]
           ]
          },
          "colorway": [
           "#636efa",
           "#EF553B",
           "#00cc96",
           "#ab63fa",
           "#FFA15A",
           "#19d3f3",
           "#FF6692",
           "#B6E880",
           "#FF97FF",
           "#FECB52"
          ],
          "font": {
           "color": "#2a3f5f"
          },
          "geo": {
           "bgcolor": "white",
           "lakecolor": "white",
           "landcolor": "#E5ECF6",
           "showlakes": true,
           "showland": true,
           "subunitcolor": "white"
          },
          "hoverlabel": {
           "align": "left"
          },
          "hovermode": "closest",
          "mapbox": {
           "style": "light"
          },
          "paper_bgcolor": "white",
          "plot_bgcolor": "#E5ECF6",
          "polar": {
           "angularaxis": {
            "gridcolor": "white",
            "linecolor": "white",
            "ticks": ""
           },
           "bgcolor": "#E5ECF6",
           "radialaxis": {
            "gridcolor": "white",
            "linecolor": "white",
            "ticks": ""
           }
          },
          "scene": {
           "xaxis": {
            "backgroundcolor": "#E5ECF6",
            "gridcolor": "white",
            "gridwidth": 2,
            "linecolor": "white",
            "showbackground": true,
            "ticks": "",
            "zerolinecolor": "white"
           },
           "yaxis": {
            "backgroundcolor": "#E5ECF6",
            "gridcolor": "white",
            "gridwidth": 2,
            "linecolor": "white",
            "showbackground": true,
            "ticks": "",
            "zerolinecolor": "white"
           },
           "zaxis": {
            "backgroundcolor": "#E5ECF6",
            "gridcolor": "white",
            "gridwidth": 2,
            "linecolor": "white",
            "showbackground": true,
            "ticks": "",
            "zerolinecolor": "white"
           }
          },
          "shapedefaults": {
           "line": {
            "color": "#2a3f5f"
           }
          },
          "ternary": {
           "aaxis": {
            "gridcolor": "white",
            "linecolor": "white",
            "ticks": ""
           },
           "baxis": {
            "gridcolor": "white",
            "linecolor": "white",
            "ticks": ""
           },
           "bgcolor": "#E5ECF6",
           "caxis": {
            "gridcolor": "white",
            "linecolor": "white",
            "ticks": ""
           }
          },
          "title": {
           "x": 0.05
          },
          "xaxis": {
           "automargin": true,
           "gridcolor": "white",
           "linecolor": "white",
           "ticks": "",
           "title": {
            "standoff": 15
           },
           "zerolinecolor": "white",
           "zerolinewidth": 2
          },
          "yaxis": {
           "automargin": true,
           "gridcolor": "white",
           "linecolor": "white",
           "ticks": "",
           "title": {
            "standoff": 15
           },
           "zerolinecolor": "white",
           "zerolinewidth": 2
          }
         }
        },
        "violinmode": "group",
        "xaxis": {
         "anchor": "y",
         "domain": [
          0,
          1
         ],
         "title": {
          "text": "sex"
         }
        },
        "yaxis": {
         "anchor": "x",
         "domain": [
          0,
          1
         ],
         "title": {
          "text": "fare"
         }
        }
       }
      },
      "text/html": [
       "<div>                            <div id=\"024b263d-4c35-4746-a04d-ae9615c55f16\" class=\"plotly-graph-div\" style=\"height:525px; width:100%;\"></div>            <script type=\"text/javascript\">                require([\"plotly\"], function(Plotly) {                    window.PLOTLYENV=window.PLOTLYENV || {};                                    if (document.getElementById(\"024b263d-4c35-4746-a04d-ae9615c55f16\")) {                    Plotly.newPlot(                        \"024b263d-4c35-4746-a04d-ae9615c55f16\",                        [{\"alignmentgroup\": \"True\", \"box\": {\"visible\": false}, \"customdata\": [[22.0, \"Southampton\"], [35.0, \"Southampton\"], [null, \"Queenstown\"], [54.0, \"Southampton\"], [2.0, \"Southampton\"], [20.0, \"Southampton\"], [39.0, \"Southampton\"], [14.0, \"Southampton\"], [2.0, \"Queenstown\"], [31.0, \"Southampton\"], [35.0, \"Southampton\"], [8.0, \"Southampton\"], [null, \"Cherbourg\"], [19.0, \"Southampton\"], [null, \"Southampton\"], [40.0, \"Cherbourg\"], [66.0, \"Southampton\"], [28.0, \"Cherbourg\"], [42.0, \"Southampton\"], [21.0, \"Southampton\"], [18.0, \"Southampton\"], [40.0, \"Southampton\"], [27.0, \"Southampton\"], [null, \"Cherbourg\"], [null, \"Southampton\"], [null, \"Queenstown\"], [null, \"Cherbourg\"], [18.0, \"Southampton\"], [7.0, \"Southampton\"], [21.0, \"Southampton\"], [65.0, \"Cherbourg\"], [28.5, \"Cherbourg\"], [11.0, \"Southampton\"], [22.0, \"Cherbourg\"], [45.0, \"Southampton\"], [4.0, \"Southampton\"], [null, \"Cherbourg\"], [19.0, \"Southampton\"], [26.0, \"Southampton\"], [32.0, \"Southampton\"], [16.0, \"Southampton\"], [21.0, \"Southampton\"], [26.0, \"Cherbourg\"], [25.0, \"Southampton\"], [null, \"Southampton\"], [null, \"Southampton\"], [22.0, \"Southampton\"], [28.0, \"Southampton\"], [16.0, \"Southampton\"], [null, \"Southampton\"], [24.0, \"Southampton\"], [29.0, \"Southampton\"], [20.0, \"Southampton\"], [46.0, \"Southampton\"], [26.0, \"Southampton\"], [59.0, \"Southampton\"], [null, \"Southampton\"], [71.0, \"Cherbourg\"], [34.0, \"Southampton\"], [28.0, \"Southampton\"], [null, \"Southampton\"], [21.0, \"Southampton\"], [33.0, \"Southampton\"], [37.0, \"Southampton\"], [28.0, \"Southampton\"], [38.0, \"Southampton\"], [47.0, \"Southampton\"], [14.5, \"Cherbourg\"], [22.0, \"Southampton\"], [20.0, \"Southampton\"], [17.0, \"Cherbourg\"], [21.0, \"Southampton\"], [70.5, \"Queenstown\"], [29.0, \"Southampton\"], [24.0, \"Cherbourg\"], [2.0, \"Southampton\"], [21.0, \"Southampton\"], [null, \"Southampton\"], [32.5, \"Cherbourg\"], [54.0, \"Southampton\"], [null, \"Queenstown\"], [45.0, \"Southampton\"], [33.0, \"Cherbourg\"], [20.0, \"Southampton\"], [47.0, \"Southampton\"], [25.0, \"Southampton\"], [23.0, \"Cherbourg\"], [37.0, \"Southampton\"], [16.0, \"Southampton\"], [24.0, \"Cherbourg\"], [null, \"Cherbourg\"], [19.0, \"Queenstown\"], [18.0, \"Southampton\"], [19.0, \"Southampton\"], [9.0, \"Southampton\"], [36.5, \"Southampton\"], [42.0, \"Southampton\"], [51.0, \"Southampton\"], [55.5, \"Southampton\"], [40.5, \"Southampton\"], [null, \"Southampton\"], [51.0, \"Cherbourg\"], [30.0, \"Southampton\"], [null, \"Southampton\"], [null, \"Southampton\"], [44.0, \"Southampton\"], [26.0, \"Southampton\"], [17.0, \"Southampton\"], [1.0, \"Southampton\"], [45.0, \"Southampton\"], [null, \"Southampton\"], [28.0, \"Southampton\"], [61.0, \"Southampton\"], [4.0, \"Queenstown\"], [21.0, \"Southampton\"], [56.0, \"Cherbourg\"], [18.0, \"Southampton\"], [null, \"Southampton\"], [50.0, \"Cherbourg\"], [30.0, \"Southampton\"], [36.0, \"Southampton\"], [null, \"Southampton\"], [null, \"Cherbourg\"], [9.0, \"Southampton\"], [null, \"Southampton\"], [40.0, \"Queenstown\"], [36.0, \"Southampton\"], [19.0, \"Southampton\"], [null, \"Queenstown\"], [42.0, \"Southampton\"], [24.0, \"Southampton\"], [28.0, \"Southampton\"], [null, \"Southampton\"], [34.0, \"Southampton\"], [45.5, \"Cherbourg\"], [2.0, \"Southampton\"], [32.0, \"Southampton\"], [24.0, \"Southampton\"], [22.0, \"Southampton\"], [30.0, \"Southampton\"], [null, \"Queenstown\"], [42.0, \"Southampton\"], [30.0, \"Southampton\"], [27.0, \"Southampton\"], [51.0, \"Southampton\"], [null, \"Southampton\"], [22.0, \"Southampton\"], [20.5, \"Southampton\"], [18.0, \"Southampton\"], [null, \"Southampton\"], [29.0, \"Southampton\"], [59.0, \"Southampton\"], [24.0, \"Southampton\"], [null, \"Southampton\"], [44.0, \"Southampton\"], [19.0, \"Southampton\"], [33.0, \"Southampton\"], [null, \"Cherbourg\"], [29.0, \"Southampton\"], [22.0, \"Southampton\"], [30.0, \"Cherbourg\"], [44.0, \"Queenstown\"], [25.0, \"Southampton\"], [54.0, \"Southampton\"], [null, \"Southampton\"], [29.0, \"Southampton\"], [62.0, \"Southampton\"], [30.0, \"Southampton\"], [41.0, \"Southampton\"], [null, \"Queenstown\"], [52.0, \"Southampton\"], [40.0, \"Southampton\"], [null, \"Queenstown\"], [36.0, \"Southampton\"], [16.0, \"Southampton\"], [null, \"Southampton\"], [37.0, \"Cherbourg\"], [45.0, \"Southampton\"], [null, \"Southampton\"], [7.0, \"Queenstown\"], [65.0, \"Queenstown\"], [28.0, \"Southampton\"], [16.0, \"Southampton\"], [null, \"Southampton\"], [33.0, \"Cherbourg\"], [22.0, \"Southampton\"], [36.0, \"Cherbourg\"], [24.0, \"Southampton\"], [24.0, \"Southampton\"], [null, \"Cherbourg\"], [23.5, \"Cherbourg\"], [2.0, \"Southampton\"], [19.0, \"Southampton\"], [null, \"Southampton\"], [30.0, \"Cherbourg\"], [26.0, \"Southampton\"], [28.0, \"Southampton\"], [43.0, \"Southampton\"], [54.0, \"Southampton\"], [22.0, \"Southampton\"], [27.0, \"Southampton\"], [null, \"Southampton\"], [61.0, \"Southampton\"], [45.5, \"Southampton\"], [38.0, \"Southampton\"], [16.0, \"Southampton\"], [null, \"Southampton\"], [29.0, \"Southampton\"], [45.0, \"Southampton\"], [28.0, \"Southampton\"], [25.0, \"Southampton\"], [36.0, \"Southampton\"], [42.0, \"Southampton\"], [23.0, \"Southampton\"], [null, \"Southampton\"], [15.0, \"Cherbourg\"], [25.0, \"Southampton\"], [null, \"Cherbourg\"], [28.0, \"Southampton\"], [38.0, \"Southampton\"], [40.0, \"Southampton\"], [29.0, \"Cherbourg\"], [45.0, \"Cherbourg\"], [35.0, \"Southampton\"], [null, \"Queenstown\"], [30.0, \"Southampton\"], [18.0, \"Southampton\"], [19.0, \"Southampton\"], [22.0, \"Cherbourg\"], [3.0, \"Southampton\"], [27.0, \"Cherbourg\"], [20.0, \"Cherbourg\"], [19.0, \"Southampton\"], [32.0, \"Southampton\"], [null, \"Southampton\"], [18.0, \"Southampton\"], [1.0, \"Southampton\"], [null, \"Queenstown\"], [28.0, \"Southampton\"], [22.0, \"Southampton\"], [31.0, \"Southampton\"], [46.0, \"Southampton\"], [23.0, \"Southampton\"], [26.0, \"Southampton\"], [21.0, \"Southampton\"], [28.0, \"Southampton\"], [20.0, \"Southampton\"], [34.0, \"Southampton\"], [51.0, \"Southampton\"], [21.0, \"Southampton\"], [null, \"Southampton\"], [null, \"Southampton\"], [null, \"Queenstown\"], [null, \"Southampton\"], [null, \"Southampton\"], [30.0, \"Southampton\"], [10.0, \"Southampton\"], [null, \"Cherbourg\"], [21.0, \"Queenstown\"], [29.0, \"Southampton\"], [28.0, \"Southampton\"], [18.0, \"Southampton\"], [null, \"Southampton\"], [null, \"Queenstown\"], [17.0, \"Southampton\"], [50.0, \"Southampton\"], [21.0, \"Southampton\"], [64.0, \"Southampton\"], [31.0, \"Southampton\"], [20.0, \"Southampton\"], [25.0, \"Southampton\"], [36.0, \"Southampton\"], [null, \"Southampton\"], [30.0, \"Cherbourg\"], [null, \"Southampton\"], [65.0, \"Southampton\"], [null, \"Queenstown\"], [34.0, \"Southampton\"], [47.0, \"Southampton\"], [48.0, \"Southampton\"], [null, \"Southampton\"], [38.0, \"Southampton\"], [null, \"Southampton\"], [56.0, \"Southampton\"], [null, \"Queenstown\"], [null, \"Southampton\"], [38.0, \"Southampton\"], [22.0, \"Southampton\"], [null, \"Southampton\"], [34.0, \"Southampton\"], [29.0, \"Southampton\"], [22.0, \"Southampton\"], [9.0, \"Southampton\"], [null, \"Southampton\"], [50.0, \"Southampton\"], [null, \"Southampton\"], [58.0, \"Cherbourg\"], [30.0, \"Southampton\"], [null, \"Southampton\"], [21.0, \"Southampton\"], [55.0, \"Southampton\"], [71.0, \"Cherbourg\"], [21.0, \"Southampton\"], [null, \"Cherbourg\"], [null, \"Southampton\"], [25.0, \"Southampton\"], [24.0, \"Southampton\"], [17.0, \"Southampton\"], [21.0, \"Queenstown\"], [null, \"Queenstown\"], [37.0, \"Southampton\"], [18.0, \"Cherbourg\"], [28.0, \"Southampton\"], [null, \"Southampton\"], [24.0, \"Southampton\"], [47.0, \"Southampton\"], [null, \"Queenstown\"], [32.0, \"Southampton\"], [22.0, \"Southampton\"], [null, \"Cherbourg\"], [null, \"Cherbourg\"], [40.5, \"Queenstown\"], [null, \"Southampton\"], [39.0, \"Southampton\"], [23.0, \"Southampton\"], [null, \"Cherbourg\"], [17.0, \"Cherbourg\"], [30.0, \"Southampton\"], [45.0, \"Southampton\"], [null, \"Southampton\"], [9.0, \"Southampton\"], [11.0, \"Southampton\"], [50.0, \"Cherbourg\"], [64.0, \"Southampton\"], [33.0, \"Southampton\"], [27.0, \"Southampton\"], [null, \"Queenstown\"], [62.0, \"Southampton\"], [null, \"Cherbourg\"], [null, \"Queenstown\"], [40.0, \"Southampton\"], [28.0, \"Southampton\"], [null, \"Southampton\"], [null, \"Southampton\"], [24.0, \"Southampton\"], [19.0, \"Southampton\"], [29.0, \"Southampton\"], [null, \"Cherbourg\"], [16.0, \"Southampton\"], [19.0, \"Southampton\"], [null, \"Cherbourg\"], [54.0, \"Southampton\"], [36.0, \"Cherbourg\"], [null, \"Cherbourg\"], [47.0, \"Southampton\"], [22.0, \"Southampton\"], [null, \"Southampton\"], [35.0, \"Southampton\"], [47.0, \"Southampton\"], [null, \"Queenstown\"], [37.0, \"Southampton\"], [36.0, \"Southampton\"], [49.0, \"Southampton\"], [null, \"Cherbourg\"], [null, \"Southampton\"], [null, \"Southampton\"], [44.0, \"Southampton\"], [36.0, \"Southampton\"], [30.0, \"Southampton\"], [39.0, \"Southampton\"], [null, \"Southampton\"], [null, \"Queenstown\"], [35.0, \"Southampton\"], [34.0, \"Southampton\"], [26.0, \"Southampton\"], [26.0, \"Southampton\"], [27.0, \"Cherbourg\"], [21.0, \"Southampton\"], [21.0, \"Southampton\"], [61.0, \"Southampton\"], [57.0, \"Queenstown\"], [26.0, \"Southampton\"], [null, \"Queenstown\"], [51.0, \"Southampton\"], [null, \"Southampton\"], [9.0, \"Southampton\"], [32.0, \"Southampton\"], [31.0, \"Southampton\"], [41.0, \"Southampton\"], [null, \"Southampton\"], [20.0, \"Southampton\"], [2.0, \"Southampton\"], [19.0, \"Southampton\"], [null, \"Southampton\"], [null, \"Southampton\"], [21.0, \"Southampton\"], [18.0, \"Queenstown\"], [24.0, \"Southampton\"], [null, \"Southampton\"], [32.0, \"Queenstown\"], [23.0, \"Southampton\"], [58.0, \"Cherbourg\"], [40.0, \"Cherbourg\"], [47.0, \"Southampton\"], [36.0, \"Southampton\"], [32.0, \"Southampton\"], [25.0, \"Southampton\"], [null, \"Southampton\"], [43.0, \"Southampton\"], [31.0, \"Southampton\"], [70.0, \"Southampton\"], [null, \"Southampton\"], [18.0, \"Southampton\"], [24.5, \"Southampton\"], [43.0, \"Southampton\"], [null, \"Queenstown\"], [20.0, \"Southampton\"], [14.0, \"Southampton\"], [60.0, \"Southampton\"], [25.0, \"Cherbourg\"], [14.0, \"Southampton\"], [19.0, \"Southampton\"], [18.0, \"Southampton\"], [25.0, \"Cherbourg\"], [60.0, \"Southampton\"], [52.0, \"Southampton\"], [44.0, \"Southampton\"], [49.0, \"Cherbourg\"], [42.0, \"Southampton\"], [18.0, \"Cherbourg\"], [25.0, \"Queenstown\"], [26.0, \"Southampton\"], [39.0, \"Southampton\"], [null, \"Southampton\"], [29.0, \"Southampton\"], [52.0, \"Southampton\"], [19.0, \"Southampton\"], [null, \"Queenstown\"], [33.0, \"Southampton\"], [17.0, \"Southampton\"], [34.0, \"Southampton\"], [50.0, \"Southampton\"], [20.0, \"Southampton\"], [25.0, \"Southampton\"], [25.0, \"Southampton\"], [11.0, \"Cherbourg\"], [null, \"Southampton\"], [23.0, \"Southampton\"], [23.0, \"Southampton\"], [28.5, \"Southampton\"], [48.0, \"Southampton\"], [null, \"Southampton\"], [null, \"Southampton\"], [36.0, \"Southampton\"], [24.0, \"Southampton\"], [70.0, \"Southampton\"], [16.0, \"Southampton\"], [19.0, \"Southampton\"], [31.0, \"Queenstown\"], [33.0, \"Southampton\"], [23.0, \"Southampton\"], [28.0, \"Southampton\"], [18.0, \"Southampton\"], [34.0, \"Southampton\"], [null, \"Southampton\"], [41.0, \"Southampton\"], [16.0, \"Southampton\"], [null, \"Cherbourg\"], [30.5, \"Queenstown\"], [null, \"Queenstown\"], [32.0, \"Southampton\"], [24.0, \"Southampton\"], [48.0, \"Southampton\"], [57.0, \"Southampton\"], [null, \"Cherbourg\"], [18.0, \"Southampton\"], [null, \"Queenstown\"], [null, \"Queenstown\"], [29.0, \"Southampton\"], [null, \"Southampton\"], [25.0, \"Southampton\"], [25.0, \"Southampton\"], [8.0, \"Queenstown\"], [46.0, \"Cherbourg\"], [null, \"Queenstown\"], [16.0, \"Southampton\"], [null, \"Southampton\"], [null, \"Cherbourg\"], [25.0, \"Southampton\"], [39.0, \"Southampton\"], [30.0, \"Cherbourg\"], [30.0, \"Southampton\"], [34.0, \"Southampton\"], [31.0, \"Southampton\"], [39.0, \"Southampton\"], [18.0, \"Southampton\"], [39.0, \"Southampton\"], [26.0, \"Southampton\"], [39.0, \"Southampton\"], [35.0, \"Southampton\"], [6.0, \"Southampton\"], [30.5, \"Southampton\"], [null, \"Southampton\"], [23.0, \"Southampton\"], [31.0, \"Cherbourg\"], [43.0, \"Southampton\"], [10.0, \"Southampton\"], [38.0, \"Southampton\"], [2.0, \"Southampton\"], [null, \"Queenstown\"], [null, \"Southampton\"], [null, \"Cherbourg\"], [23.0, \"Southampton\"], [18.0, \"Southampton\"], [21.0, \"Southampton\"], [null, \"Southampton\"], [20.0, \"Southampton\"], [16.0, \"Southampton\"], [34.5, \"Cherbourg\"], [17.0, \"Southampton\"], [42.0, \"Southampton\"], [null, \"Southampton\"], [35.0, \"Cherbourg\"], [28.0, \"Southampton\"], [4.0, \"Southampton\"], [74.0, \"Southampton\"], [9.0, \"Cherbourg\"], [44.0, \"Southampton\"], [null, \"Cherbourg\"], [41.0, \"Southampton\"], [21.0, \"Southampton\"], [null, \"Southampton\"], [24.0, \"Southampton\"], [31.0, \"Southampton\"], [null, \"Southampton\"], [26.0, \"Southampton\"], [33.0, \"Southampton\"], [47.0, \"Southampton\"], [20.0, \"Southampton\"], [19.0, \"Southampton\"], [null, \"Southampton\"], [33.0, \"Southampton\"], [22.0, \"Southampton\"], [28.0, \"Southampton\"], [25.0, \"Southampton\"], [39.0, \"Queenstown\"], [27.0, \"Southampton\"], [null, \"Southampton\"], [32.0, \"Queenstown\"]], \"hovertemplate\": \"survived=False<br>sex=%{x}<br>fare=%{y}<br>age=%{customdata[0]}<br>embark_town=%{customdata[1]}<extra></extra>\", \"legendgroup\": \"False\", \"marker\": {\"color\": \"#636efa\"}, \"name\": \"False\", \"offsetgroup\": \"False\", \"orientation\": \"v\", \"points\": \"all\", \"scalegroup\": \"True\", \"showlegend\": true, \"type\": \"violin\", \"x\": [\"male\", \"male\", \"male\", \"male\", \"male\", \"male\", \"male\", \"female\", \"male\", \"female\", \"male\", \"female\", \"male\", \"male\", \"male\", \"male\", \"male\", \"male\", \"male\", \"male\", \"female\", \"female\", \"female\", \"male\", \"male\", \"male\", \"male\", \"female\", \"male\", \"male\", \"male\", \"male\", \"male\", \"male\", \"male\", \"male\", \"male\", \"male\", \"male\", \"male\", \"female\", \"male\", \"male\", \"male\", \"male\", \"male\", \"male\", \"male\", \"male\", \"male\", \"male\", \"male\", \"male\", \"male\", \"male\", \"male\", \"male\", \"male\", \"male\", \"female\", \"male\", \"male\", \"male\", \"male\", \"male\", \"male\", \"male\", \"female\", \"male\", \"female\", \"female\", \"male\", \"male\", \"male\", \"male\", \"female\", \"male\", \"male\", \"male\", \"male\", \"male\", \"male\", \"male\", \"male\", \"female\", \"male\", \"male\", \"male\", \"male\", \"male\", \"female\", \"male\", \"male\", \"male\", \"female\", \"male\", \"male\", \"male\", \"male\", \"male\", \"male\", \"male\", \"male\", \"male\", \"male\", \"male\", \"male\", \"male\", \"male\", \"female\", \"male\", \"male\", \"male\", \"male\", \"male\", \"male\", \"male\", \"male\", \"female\", \"male\", \"male\", \"female\", \"male\", \"male\", \"male\", \"male\", \"male\", \"male\", \"male\", \"male\", \"female\", \"male\", \"male\", \"male\", \"male\", \"female\", \"male\", \"male\", \"male\", \"male\", \"male\", \"male\", \"male\", \"male\", \"male\", \"male\", \"male\", \"male\", \"male\", \"female\", \"male\", \"male\", \"male\", \"female\", \"male\", \"male\", \"male\", \"female\", \"male\", \"male\", \"male\", \"male\", \"female\", \"male\", \"male\", \"female\", \"male\", \"male\", \"female\", \"male\", \"male\", \"male\", \"female\", \"male\", \"male\", \"male\", \"male\", \"female\", \"male\", \"male\", \"male\", \"male\", \"male\", \"male\", \"male\", \"male\", \"male\", \"female\", \"male\", \"male\", \"male\", \"female\", \"male\", \"male\", \"male\", \"female\", \"male\", \"male\", \"male\", \"male\", \"male\", \"male\", \"male\", \"male\", \"male\", \"male\", \"male\", \"male\", \"male\", \"male\", \"male\", \"male\", \"male\", \"male\", \"male\", \"male\", \"male\", \"male\", \"male\", \"female\", \"male\", \"male\", \"female\", \"male\", \"male\", \"male\", \"male\", \"male\", \"male\", \"female\", \"male\", \"male\", \"male\", \"male\", \"male\", \"male\", \"male\", \"male\", \"male\", \"male\", \"female\", \"male\", \"male\", \"male\", \"female\", \"male\", \"female\", \"male\", \"male\", \"male\", \"female\", \"male\", \"male\", \"male\", \"female\", \"male\", \"female\", \"male\", \"male\", \"male\", \"female\", \"male\", \"male\", \"male\", \"male\", \"male\", \"female\", \"male\", \"male\", \"male\", \"male\", \"male\", \"male\", \"male\", \"male\", \"male\", \"male\", \"male\", \"male\", \"male\", \"male\", \"male\", \"male\", \"male\", \"male\", \"male\", \"male\", \"female\", \"male\", \"male\", \"male\", \"male\", \"male\", \"male\", \"male\", \"female\", \"male\", \"male\", \"male\", \"male\", \"male\", \"male\", \"male\", \"male\", \"male\", \"female\", \"male\", \"male\", \"female\", \"female\", \"female\", \"male\", \"male\", \"male\", \"male\", \"male\", \"male\", \"male\", \"male\", \"male\", \"male\", \"male\", \"male\", \"male\", \"male\", \"male\", \"male\", \"female\", \"male\", \"male\", \"female\", \"female\", \"male\", \"male\", \"male\", \"male\", \"male\", \"male\", \"male\", \"male\", \"male\", \"male\", \"male\", \"female\", \"male\", \"male\", \"female\", \"male\", \"male\", \"male\", \"female\", \"male\", \"male\", \"male\", \"male\", \"male\", \"male\", \"male\", \"male\", \"female\", \"male\", \"male\", \"male\", \"male\", \"male\", \"male\", \"male\", \"male\", \"male\", \"female\", \"male\", \"male\", \"male\", \"male\", \"female\", \"male\", \"male\", \"male\", \"male\", \"male\", \"male\", \"male\", \"male\", \"male\", \"male\", \"female\", \"male\", \"male\", \"female\", \"male\", \"male\", \"female\", \"male\", \"male\", \"male\", \"male\", \"female\", \"male\", \"male\", \"female\", \"male\", \"male\", \"male\", \"male\", \"male\", \"male\", \"male\", \"male\", \"male\", \"male\", \"male\", \"male\", \"male\", \"male\", \"female\", \"female\", \"male\", \"male\", \"male\", \"male\", \"male\", \"male\", \"male\", \"male\", \"male\", \"male\", \"male\", \"male\", \"male\", \"female\", \"male\", \"male\", \"male\", \"male\", \"male\", \"male\", \"male\", \"male\", \"male\", \"male\", \"male\", \"male\", \"male\", \"male\", \"female\", \"male\", \"male\", \"male\", \"male\", \"male\", \"female\", \"male\", \"male\", \"male\", \"male\", \"male\", \"male\", \"male\", \"male\", \"male\", \"male\", \"male\", \"male\", \"male\", \"male\", \"male\", \"male\", \"male\", \"female\", \"male\", \"male\", \"male\", \"male\", \"female\", \"male\", \"male\", \"male\", \"male\", \"male\", \"male\", \"male\", \"male\", \"male\", \"male\", \"male\", \"male\", \"female\", \"male\", \"male\", \"male\", \"male\", \"female\", \"male\", \"male\", \"male\", \"female\", \"male\", \"male\", \"male\", \"male\", \"female\", \"male\", \"male\", \"female\", \"male\", \"male\", \"male\", \"male\", \"male\", \"male\", \"male\", \"male\", \"male\", \"male\", \"male\", \"male\", \"male\", \"male\", \"male\", \"male\", \"male\", \"male\", \"male\", \"male\", \"male\", \"male\", \"female\", \"female\", \"male\", \"male\", \"male\", \"female\", \"male\", \"male\", \"male\", \"male\", \"male\", \"male\", \"male\", \"male\", \"male\", \"male\", \"female\", \"male\", \"male\", \"female\", \"male\", \"female\", \"male\"], \"x0\": \" \", \"xaxis\": \"x\", \"y\": [7.25, 8.05, 8.4583, 51.8625, 21.075, 8.05, 31.275, 7.8542, 29.125, 18.0, 26.0, 21.075, 7.225, 263.0, 7.8958, 27.7208, 10.5, 82.1708, 52.0, 8.05, 18.0, 9.475, 21.0, 7.8958, 8.05, 15.5, 21.6792, 17.8, 39.6875, 7.8, 61.9792, 7.2292, 46.9, 7.2292, 83.475, 27.9, 27.7208, 8.1583, 8.6625, 10.5, 46.9, 73.5, 14.4542, 7.65, 7.8958, 8.05, 9.0, 47.1, 34.375, 8.05, 8.05, 8.05, 7.8542, 61.175, 20.575, 7.25, 8.05, 34.6542, 26.0, 7.8958, 7.8958, 77.2875, 8.6542, 7.925, 7.8958, 7.8958, 52.0, 14.4542, 8.05, 9.825, 14.4583, 7.925, 7.75, 21.0, 247.5208, 31.275, 73.5, 8.05, 30.0708, 77.2875, 7.75, 6.975, 7.8958, 7.05, 14.5, 13.0, 15.0458, 53.1, 9.2167, 79.2, 15.2458, 6.75, 11.5, 36.75, 34.375, 26.0, 13.0, 12.525, 8.05, 14.5, 7.3125, 61.3792, 8.05, 8.6625, 69.55, 16.1, 7.775, 8.6625, 39.6875, 27.9, 25.925, 56.4958, 33.5, 29.125, 7.925, 30.6958, 7.8542, 25.4667, 28.7125, 13.0, 0.0, 69.55, 15.05, 31.3875, 50.0, 15.5, 7.8958, 13.0, 7.75, 8.4042, 13.0, 9.5, 69.55, 6.4958, 7.225, 10.4625, 15.85, 7.05, 7.25, 13.0, 7.75, 27.0, 10.5, 13.0, 8.05, 7.8958, 9.35, 7.25, 13.0, 25.4667, 7.775, 13.5, 10.5, 7.55, 26.0, 10.5, 12.275, 14.4542, 10.5, 7.125, 7.225, 90.0, 7.775, 26.0, 7.25, 10.4625, 26.55, 16.1, 20.2125, 7.75, 79.65, 0.0, 7.75, 10.5, 39.6875, 31.0, 29.7, 7.75, 0.0, 29.125, 7.75, 7.8542, 9.5, 26.0, 8.6625, 7.8958, 12.875, 8.85, 7.8958, 27.7208, 7.2292, 151.55, 0.0, 8.05, 24.0, 26.0, 7.8958, 26.25, 14.0, 7.25, 7.8958, 69.55, 6.2375, 28.5, 153.4625, 18.0, 7.8958, 66.6, 35.5, 13.0, 13.0, 13.0, 8.6625, 9.225, 35.0, 7.2292, 17.8, 7.225, 9.5, 13.0, 27.9, 27.7208, 14.4542, 7.05, 15.5, 7.25, 6.4958, 8.05, 135.6333, 21.075, 211.5, 4.0125, 7.775, 7.925, 7.8958, 73.5, 46.9, 7.7292, 7.925, 7.7958, 7.8542, 26.0, 10.5, 8.05, 9.825, 15.85, 8.6625, 21.0, 7.75, 7.775, 25.4667, 7.8958, 6.8583, 0.0, 8.05, 13.0, 24.15, 7.8958, 7.7333, 7.875, 14.4, 20.2125, 7.25, 7.75, 7.125, 55.9, 34.375, 263.0, 10.5, 9.5, 7.775, 27.75, 19.9667, 27.75, 8.05, 26.55, 7.75, 8.05, 38.5, 13.0, 8.05, 7.05, 0.0, 26.55, 7.725, 7.25, 8.6625, 9.8375, 52.0, 21.0, 7.0458, 7.5208, 46.9, 0.0, 8.05, 25.4667, 29.7, 8.05, 19.9667, 7.25, 30.5, 49.5042, 8.05, 14.4583, 15.1, 151.55, 7.7958, 8.6625, 7.75, 7.6292, 9.5875, 108.9, 22.525, 8.05, 7.4958, 34.0208, 24.15, 7.8958, 7.8958, 7.225, 7.2292, 7.75, 221.7792, 7.925, 11.5, 7.2292, 7.2292, 8.6625, 26.55, 14.5, 31.275, 31.275, 106.425, 26.0, 20.525, 26.0, 7.8292, 26.55, 227.525, 7.75, 7.8958, 13.5, 8.05, 8.05, 24.15, 7.8958, 21.075, 7.2292, 8.05, 14.5, 14.4583, 26.0, 40.125, 8.7125, 15.0, 8.05, 8.05, 7.125, 7.25, 7.75, 26.0, 24.15, 0.0, 7.225, 7.8958, 42.4, 8.05, 15.55, 7.8958, 31.275, 7.05, 7.75, 8.05, 14.4, 16.1, 10.5, 14.4542, 7.8542, 16.1, 32.3208, 12.35, 7.8958, 7.7333, 7.0542, 0.0, 27.9, 7.925, 26.25, 39.6875, 16.1, 7.8542, 27.9, 7.8958, 7.55, 7.8958, 8.4333, 6.75, 73.5, 7.8958, 15.5, 13.0, 113.275, 7.225, 25.5875, 7.4958, 73.5, 13.0, 7.775, 8.05, 52.0, 10.5, 0.0, 7.775, 8.05, 46.9, 8.1375, 9.225, 46.9, 39.0, 41.5792, 39.6875, 10.1708, 7.7958, 7.225, 26.55, 13.5, 8.05, 110.8833, 7.65, 14.4542, 7.7417, 7.8542, 26.0, 26.55, 9.4833, 13.0, 7.65, 15.5, 7.775, 7.0542, 13.0, 13.0, 8.6625, 26.0, 7.925, 18.7875, 0.0, 13.0, 13.0, 16.1, 34.375, 7.8958, 7.8958, 78.85, 16.1, 71.0, 20.25, 53.1, 7.75, 9.5, 7.8958, 7.7958, 11.5, 8.05, 14.5, 7.125, 7.775, 39.6, 7.75, 24.15, 8.3625, 9.5, 7.8542, 10.5, 7.225, 7.75, 7.75, 7.7375, 30.0, 23.45, 7.05, 7.25, 29.125, 79.2, 7.75, 26.0, 69.55, 30.6958, 7.8958, 13.0, 7.2292, 24.15, 13.0, 7.775, 0.0, 7.775, 13.0, 7.8875, 24.15, 10.5, 31.275, 8.05, 0.0, 7.925, 37.0042, 6.45, 27.9, 0.0, 39.6875, 6.95, 56.4958, 7.2292, 7.8542, 8.3, 8.6625, 8.05, 7.925, 10.5, 6.4375, 8.6625, 7.55, 69.55, 7.8958, 33.0, 31.275, 7.775, 15.2458, 26.0, 7.2292, 14.1083, 11.5, 69.55, 13.0, 50.4958, 9.5, 7.8958, 5.0, 9.0, 9.8458, 7.8958, 7.8958, 7.8958, 10.5167, 10.5, 7.05, 29.125, 13.0, 23.45, 7.75], \"y0\": \" \", \"yaxis\": \"y\"}, {\"alignmentgroup\": \"True\", \"box\": {\"visible\": false}, \"customdata\": [[38.0, \"Cherbourg\"], [26.0, \"Southampton\"], [35.0, \"Southampton\"], [27.0, \"Southampton\"], [14.0, \"Cherbourg\"], [4.0, \"Southampton\"], [58.0, \"Southampton\"], [55.0, \"Southampton\"], [null, \"Southampton\"], [null, \"Cherbourg\"], [34.0, \"Southampton\"], [15.0, \"Queenstown\"], [28.0, \"Southampton\"], [38.0, \"Southampton\"], [null, \"Queenstown\"], [null, \"Cherbourg\"], [null, \"Queenstown\"], [null, \"Cherbourg\"], [14.0, \"Cherbourg\"], [3.0, \"Cherbourg\"], [19.0, \"Queenstown\"], [null, \"Queenstown\"], [49.0, \"Cherbourg\"], [29.0, \"Southampton\"], [null, \"Southampton\"], [21.0, \"Southampton\"], [5.0, \"Southampton\"], [38.0, null], [null, \"Cherbourg\"], [29.0, \"Southampton\"], [17.0, \"Southampton\"], [32.0, \"Southampton\"], [0.83, \"Southampton\"], [30.0, \"Southampton\"], [29.0, \"Southampton\"], [null, \"Queenstown\"], [17.0, \"Southampton\"], [33.0, \"Southampton\"], [23.0, \"Southampton\"], [23.0, \"Cherbourg\"], [34.0, \"Southampton\"], [21.0, \"Southampton\"], [null, \"Southampton\"], [null, \"Queenstown\"], [32.5, \"Southampton\"], [12.0, \"Cherbourg\"], [24.0, \"Southampton\"], [null, \"Cherbourg\"], [29.0, \"Southampton\"], [19.0, \"Southampton\"], [22.0, \"Southampton\"], [24.0, \"Southampton\"], [27.0, \"Southampton\"], [22.0, \"Southampton\"], [16.0, \"Queenstown\"], [40.0, \"Southampton\"], [9.0, \"Southampton\"], [null, \"Southampton\"], [1.0, \"Southampton\"], [1.0, \"Southampton\"], [4.0, \"Southampton\"], [null, \"Queenstown\"], [45.0, \"Southampton\"], [32.0, \"Southampton\"], [19.0, \"Southampton\"], [3.0, \"Southampton\"], [44.0, \"Cherbourg\"], [58.0, \"Cherbourg\"], [null, \"Queenstown\"], [18.0, \"Southampton\"], [26.0, \"Cherbourg\"], [16.0, \"Queenstown\"], [40.0, \"Cherbourg\"], [35.0, \"Southampton\"], [31.0, \"Cherbourg\"], [27.0, \"Southampton\"], [32.0, \"Cherbourg\"], [16.0, \"Southampton\"], [38.0, \"Southampton\"], [19.0, \"Southampton\"], [35.0, \"Southampton\"], [5.0, \"Southampton\"], [8.0, \"Southampton\"], [null, \"Queenstown\"], [24.0, \"Southampton\"], [37.0, \"Southampton\"], [29.0, \"Cherbourg\"], [null, \"Cherbourg\"], [30.0, \"Southampton\"], [35.0, \"Cherbourg\"], [50.0, \"Southampton\"], [3.0, \"Southampton\"], [25.0, \"Southampton\"], [58.0, \"Southampton\"], [35.0, \"Southampton\"], [25.0, \"Southampton\"], [41.0, \"Southampton\"], [null, \"Queenstown\"], [63.0, \"Southampton\"], [35.0, \"Southampton\"], [19.0, \"Southampton\"], [30.0, \"Southampton\"], [42.0, \"Southampton\"], [22.0, \"Queenstown\"], [26.0, \"Southampton\"], [19.0, \"Cherbourg\"], [null, \"Southampton\"], [50.0, \"Cherbourg\"], [null, \"Queenstown\"], [null, \"Queenstown\"], [null, \"Queenstown\"], [0.92, \"Southampton\"], [null, \"Cherbourg\"], [17.0, \"Cherbourg\"], [30.0, \"Cherbourg\"], [24.0, \"Cherbourg\"], [18.0, \"Cherbourg\"], [26.0, \"Southampton\"], [24.0, \"Southampton\"], [31.0, \"Southampton\"], [40.0, \"Cherbourg\"], [30.0, \"Queenstown\"], [22.0, \"Southampton\"], [36.0, \"Cherbourg\"], [36.0, \"Southampton\"], [31.0, \"Southampton\"], [16.0, \"Cherbourg\"], [null, \"Queenstown\"], [null, \"Southampton\"], [41.0, \"Cherbourg\"], [45.0, \"Southampton\"], [2.0, \"Southampton\"], [24.0, \"Southampton\"], [24.0, \"Southampton\"], [40.0, \"Southampton\"], [null, \"Southampton\"], [3.0, \"Southampton\"], [22.0, \"Southampton\"], [null, \"Queenstown\"], [null, \"Queenstown\"], [60.0, \"Cherbourg\"], [null, \"Cherbourg\"], [null, \"Queenstown\"], [24.0, \"Cherbourg\"], [25.0, \"Cherbourg\"], [null, \"Cherbourg\"], [22.0, \"Southampton\"], [42.0, \"Cherbourg\"], [1.0, \"Cherbourg\"], [35.0, \"Southampton\"], [36.0, \"Southampton\"], [17.0, \"Cherbourg\"], [36.0, \"Southampton\"], [21.0, \"Southampton\"], [23.0, \"Cherbourg\"], [24.0, \"Southampton\"], [28.0, \"Southampton\"], [39.0, \"Southampton\"], [3.0, \"Southampton\"], [33.0, \"Queenstown\"], [44.0, \"Southampton\"], [34.0, \"Southampton\"], [18.0, \"Southampton\"], [28.0, \"Southampton\"], [19.0, \"Southampton\"], [32.0, \"Southampton\"], [28.0, \"Southampton\"], [null, \"Southampton\"], [42.0, \"Southampton\"], [14.0, \"Southampton\"], [24.0, \"Southampton\"], [45.0, \"Southampton\"], [28.0, \"Southampton\"], [null, \"Southampton\"], [4.0, \"Southampton\"], [13.0, \"Southampton\"], [34.0, \"Southampton\"], [5.0, \"Cherbourg\"], [52.0, \"Southampton\"], [49.0, \"Cherbourg\"], [29.0, \"Cherbourg\"], [null, \"Southampton\"], [50.0, \"Southampton\"], [48.0, \"Southampton\"], [0.75, \"Cherbourg\"], [33.0, \"Southampton\"], [23.0, \"Cherbourg\"], [2.0, \"Southampton\"], [63.0, \"Southampton\"], [25.0, \"Cherbourg\"], [35.0, \"Southampton\"], [9.0, \"Southampton\"], [54.0, \"Cherbourg\"], [16.0, \"Southampton\"], [33.0, \"Southampton\"], [null, \"Southampton\"], [26.0, \"Southampton\"], [29.0, \"Queenstown\"], [36.0, \"Southampton\"], [54.0, \"Cherbourg\"], [34.0, \"Southampton\"], [36.0, \"Southampton\"], [30.0, \"Southampton\"], [44.0, \"Cherbourg\"], [50.0, \"Southampton\"], [2.0, \"Southampton\"], [null, \"Cherbourg\"], [7.0, \"Southampton\"], [30.0, \"Cherbourg\"], [22.0, \"Cherbourg\"], [36.0, \"Southampton\"], [32.0, \"Southampton\"], [19.0, \"Southampton\"], [null, \"Cherbourg\"], [8.0, \"Southampton\"], [17.0, \"Cherbourg\"], [22.0, \"Cherbourg\"], [22.0, \"Southampton\"], [48.0, \"Cherbourg\"], [39.0, \"Southampton\"], [36.0, \"Southampton\"], [32.0, \"Southampton\"], [62.0, \"Southampton\"], [53.0, \"Southampton\"], [36.0, \"Southampton\"], [null, \"Queenstown\"], [34.0, \"Southampton\"], [39.0, \"Southampton\"], [32.0, \"Southampton\"], [25.0, \"Southampton\"], [39.0, \"Cherbourg\"], [18.0, \"Southampton\"], [60.0, \"Cherbourg\"], [52.0, \"Cherbourg\"], [null, \"Southampton\"], [49.0, \"Cherbourg\"], [24.0, \"Southampton\"], [35.0, \"Cherbourg\"], [27.0, \"Southampton\"], [22.0, \"Cherbourg\"], [40.0, \"Southampton\"], [null, \"Queenstown\"], [24.0, \"Southampton\"], [4.0, \"Southampton\"], [42.0, \"Southampton\"], [20.0, \"Cherbourg\"], [21.0, \"Southampton\"], [80.0, \"Southampton\"], [32.0, \"Cherbourg\"], [28.0, \"Southampton\"], [24.0, \"Cherbourg\"], [null, \"Southampton\"], [0.75, \"Cherbourg\"], [48.0, \"Cherbourg\"], [56.0, \"Cherbourg\"], [23.0, \"Southampton\"], [18.0, \"Southampton\"], [null, \"Queenstown\"], [50.0, \"Southampton\"], [20.0, \"Southampton\"], [null, \"Southampton\"], [40.0, \"Southampton\"], [31.0, \"Southampton\"], [18.0, \"Southampton\"], [36.0, \"Cherbourg\"], [27.0, \"Cherbourg\"], [15.0, \"Southampton\"], [31.0, \"Southampton\"], [4.0, \"Cherbourg\"], [null, \"Southampton\"], [null, \"Queenstown\"], [18.0, \"Cherbourg\"], [35.0, \"Southampton\"], [45.0, \"Southampton\"], [42.0, \"Southampton\"], [22.0, \"Southampton\"], [null, \"Cherbourg\"], [24.0, \"Cherbourg\"], [48.0, \"Southampton\"], [38.0, \"Cherbourg\"], [27.0, \"Southampton\"], [6.0, \"Southampton\"], [27.0, \"Southampton\"], [30.0, \"Southampton\"], [null, \"Queenstown\"], [29.0, \"Southampton\"], [35.0, \"Cherbourg\"], [null, \"Southampton\"], [21.0, \"Cherbourg\"], [31.0, \"Southampton\"], [30.0, \"Southampton\"], [4.0, \"Southampton\"], [6.0, \"Southampton\"], [48.0, \"Southampton\"], [0.67, \"Southampton\"], [33.0, \"Southampton\"], [20.0, \"Cherbourg\"], [36.0, \"Southampton\"], [51.0, \"Southampton\"], [54.0, \"Southampton\"], [5.0, \"Southampton\"], [43.0, \"Southampton\"], [13.0, \"Cherbourg\"], [17.0, \"Southampton\"], [18.0, \"Southampton\"], [1.0, \"Southampton\"], [49.0, \"Southampton\"], [31.0, \"Southampton\"], [31.0, \"Southampton\"], [11.0, \"Southampton\"], [0.42, \"Cherbourg\"], [27.0, \"Southampton\"], [33.0, \"Southampton\"], [52.0, \"Southampton\"], [27.0, \"Southampton\"], [27.0, \"Southampton\"], [1.0, \"Cherbourg\"], [null, \"Queenstown\"], [62.0, null], [15.0, \"Cherbourg\"], [0.83, \"Southampton\"], [39.0, \"Cherbourg\"], [32.0, \"Southampton\"], [null, \"Cherbourg\"], [30.0, \"Cherbourg\"], [null, \"Cherbourg\"], [16.0, \"Southampton\"], [18.0, \"Southampton\"], [45.0, \"Southampton\"], [51.0, \"Southampton\"], [24.0, \"Cherbourg\"], [48.0, \"Southampton\"], [42.0, \"Southampton\"], [27.0, \"Cherbourg\"], [4.0, \"Southampton\"], [47.0, \"Southampton\"], [28.0, \"Cherbourg\"], [15.0, \"Cherbourg\"], [56.0, \"Cherbourg\"], [25.0, \"Southampton\"], [19.0, \"Southampton\"], [26.0, \"Cherbourg\"]], \"hovertemplate\": \"survived=True<br>sex=%{x}<br>fare=%{y}<br>age=%{customdata[0]}<br>embark_town=%{customdata[1]}<extra></extra>\", \"legendgroup\": \"True\", \"marker\": {\"color\": \"#EF553B\"}, \"name\": \"True\", \"offsetgroup\": \"True\", \"orientation\": \"v\", \"points\": \"all\", \"scalegroup\": \"True\", \"showlegend\": true, \"type\": \"violin\", \"x\": [\"female\", \"female\", \"female\", \"female\", \"female\", \"female\", \"female\", \"female\", \"male\", \"female\", \"male\", \"female\", \"male\", \"female\", \"female\", \"female\", \"female\", \"male\", \"female\", \"female\", \"female\", \"female\", \"female\", \"female\", \"male\", \"female\", \"female\", \"female\", \"male\", \"female\", \"female\", \"male\", \"male\", \"female\", \"male\", \"female\", \"female\", \"female\", \"female\", \"male\", \"female\", \"female\", \"male\", \"female\", \"female\", \"male\", \"male\", \"female\", \"female\", \"female\", \"female\", \"female\", \"male\", \"female\", \"female\", \"female\", \"male\", \"female\", \"female\", \"male\", \"female\", \"female\", \"male\", \"female\", \"female\", \"male\", \"female\", \"female\", \"female\", \"male\", \"male\", \"female\", \"male\", \"female\", \"female\", \"female\", \"female\", \"male\", \"male\", \"male\", \"female\", \"female\", \"female\", \"female\", \"female\", \"male\", \"female\", \"female\", \"female\", \"female\", \"female\", \"male\", \"male\", \"female\", \"female\", \"male\", \"female\", \"female\", \"female\", \"female\", \"male\", \"male\", \"male\", \"female\", \"female\", \"female\", \"male\", \"female\", \"female\", \"male\", \"female\", \"male\", \"female\", \"female\", \"female\", \"female\", \"female\", \"female\", \"female\", \"female\", \"female\", \"female\", \"female\", \"female\", \"female\", \"female\", \"female\", \"female\", \"female\", \"female\", \"male\", \"male\", \"female\", \"female\", \"female\", \"female\", \"male\", \"female\", \"female\", \"female\", \"female\", \"female\", \"female\", \"female\", \"male\", \"female\", \"female\", \"female\", \"female\", \"female\", \"female\", \"female\", \"male\", \"male\", \"female\", \"female\", \"female\", \"male\", \"male\", \"female\", \"male\", \"female\", \"female\", \"female\", \"female\", \"male\", \"male\", \"female\", \"female\", \"female\", \"female\", \"female\", \"female\", \"male\", \"male\", \"female\", \"male\", \"female\", \"male\", \"male\", \"male\", \"female\", \"female\", \"male\", \"female\", \"female\", \"female\", \"female\", \"female\", \"male\", \"female\", \"male\", \"female\", \"female\", \"female\", \"male\", \"male\", \"male\", \"male\", \"female\", \"female\", \"female\", \"female\", \"female\", \"female\", \"female\", \"female\", \"female\", \"female\", \"female\", \"female\", \"male\", \"female\", \"male\", \"male\", \"male\", \"male\", \"female\", \"female\", \"female\", \"female\", \"male\", \"male\", \"female\", \"male\", \"female\", \"female\", \"female\", \"male\", \"female\", \"female\", \"female\", \"male\", \"female\", \"female\", \"male\", \"female\", \"male\", \"male\", \"female\", \"female\", \"female\", \"female\", \"female\", \"male\", \"male\", \"female\", \"male\", \"male\", \"female\", \"female\", \"male\", \"female\", \"male\", \"male\", \"female\", \"female\", \"female\", \"male\", \"male\", \"female\", \"female\", \"male\", \"female\", \"male\", \"male\", \"female\", \"male\", \"female\", \"male\", \"female\", \"female\", \"male\", \"female\", \"male\", \"female\", \"male\", \"female\", \"male\", \"female\", \"female\", \"female\", \"male\", \"female\", \"female\", \"female\", \"male\", \"male\", \"female\", \"male\", \"female\", \"female\", \"male\", \"female\", \"male\", \"female\", \"male\", \"female\", \"female\", \"female\", \"female\", \"female\", \"female\", \"female\", \"female\", \"male\", \"female\", \"female\", \"female\", \"male\", \"male\", \"male\", \"female\", \"female\", \"male\", \"female\", \"male\", \"male\", \"female\", \"female\", \"male\", \"female\", \"male\", \"male\", \"female\", \"female\", \"female\", \"female\", \"female\", \"male\", \"female\", \"female\", \"female\", \"female\", \"male\", \"female\", \"female\", \"female\", \"female\", \"female\", \"female\", \"male\"], \"x0\": \" \", \"xaxis\": \"x\", \"y\": [71.2833, 7.925, 53.1, 11.1333, 30.0708, 16.7, 26.55, 16.0, 13.0, 7.225, 13.0, 8.0292, 35.5, 31.3875, 7.8792, 146.5208, 7.75, 7.2292, 11.2417, 41.5792, 7.8792, 7.75, 76.7292, 26.0, 35.5, 10.5, 27.75, 80.0, 15.2458, 10.5, 7.925, 56.4958, 29.0, 12.475, 9.5, 7.7875, 10.5, 15.85, 263.0, 63.3583, 23.0, 7.65, 7.775, 24.15, 13.0, 11.2417, 7.1417, 22.3583, 26.0, 26.2833, 7.75, 15.85, 7.7958, 66.6, 7.7333, 15.75, 20.525, 55.0, 11.1333, 39.0, 22.025, 15.5, 26.55, 13.0, 7.8542, 26.0, 27.7208, 146.5208, 7.75, 8.05, 18.7875, 7.75, 31.0, 21.0, 113.275, 7.925, 76.2917, 8.05, 90.0, 10.5, 83.475, 31.3875, 26.25, 15.5, 14.5, 52.5542, 15.2458, 79.2, 86.5, 512.3292, 26.0, 31.3875, 7.775, 153.4625, 135.6333, 0.0, 19.5, 7.75, 77.9583, 20.25, 8.05, 9.5, 13.0, 7.75, 78.85, 91.0792, 30.5, 247.5208, 7.75, 23.25, 12.35, 151.55, 110.8833, 108.9, 56.9292, 83.1583, 262.375, 7.8542, 26.0, 164.8667, 134.5, 12.35, 29.0, 135.6333, 13.0, 20.525, 57.9792, 23.25, 133.65, 134.5, 8.05, 26.0, 263.0, 13.0, 13.0, 16.1, 15.9, 55.0, 7.8792, 7.8792, 75.25, 7.2292, 7.75, 69.3, 55.4417, 82.1708, 7.25, 227.525, 15.7417, 52.0, 13.0, 12.0, 120.0, 7.7958, 113.275, 16.7, 12.65, 7.925, 18.75, 90.0, 7.925, 32.5, 13.0, 26.0, 26.0, 8.05, 26.55, 16.1, 26.0, 120.0, 18.75, 26.25, 13.0, 8.1125, 81.8583, 19.5, 26.55, 19.2583, 30.5, 89.1042, 7.8958, 51.8625, 10.5, 26.55, 19.2583, 27.75, 13.7917, 12.2875, 9.5875, 91.0792, 90.0, 15.9, 78.2667, 86.5, 26.0, 26.55, 56.4958, 7.75, 26.2875, 59.4, 10.5, 26.0, 93.5, 57.9792, 10.5, 26.0, 22.3583, 26.25, 106.425, 49.5, 71.0, 26.0, 26.0, 13.8625, 36.75, 110.8833, 7.225, 7.775, 39.6, 79.65, 17.4, 7.8542, 10.5, 51.4792, 26.3875, 7.75, 13.0, 55.9, 7.925, 30.0, 110.8833, 79.65, 79.2, 78.2667, 33.0, 56.9292, 27.0, 26.55, 30.5, 41.5792, 153.4625, 15.5, 65.0, 39.0, 52.5542, 15.7417, 77.9583, 30.0, 30.5, 13.0, 69.3, 56.4958, 19.2583, 76.7292, 35.5, 7.55, 23.0, 7.8292, 133.65, 7.925, 52.0, 39.0, 13.0, 9.8417, 512.3292, 76.7292, 211.3375, 57.0, 13.4167, 56.4958, 7.7333, 227.525, 26.2875, 13.5, 26.2875, 151.55, 15.2458, 49.5042, 52.0, 227.525, 10.5, 33.0, 53.1, 21.0, 7.7375, 211.3375, 512.3292, 30.0, 262.375, 7.925, 13.0, 23.0, 12.475, 65.0, 14.5, 86.5, 7.2292, 120.0, 77.9583, 23.0, 12.475, 211.3375, 7.2292, 57.0, 7.4958, 20.575, 25.9292, 8.6833, 26.25, 120.0, 8.5167, 6.975, 53.1, 93.5, 8.6625, 12.475, 37.0042, 7.75, 80.0, 14.4542, 18.75, 83.1583, 56.4958, 29.7, 31.0, 89.1042, 39.4, 9.35, 164.8667, 26.55, 19.2583, 25.9292, 13.0, 13.8583, 11.1333, 52.5542, 24.0, 7.225, 83.1583, 26.0, 30.0, 30.0], \"y0\": \" \", \"yaxis\": \"y\"}],                        {\"legend\": {\"title\": {\"text\": \"survived\"}, \"tracegroupgap\": 0}, \"margin\": {\"t\": 60}, \"template\": {\"data\": {\"bar\": [{\"error_x\": {\"color\": \"#2a3f5f\"}, \"error_y\": {\"color\": \"#2a3f5f\"}, \"marker\": {\"line\": {\"color\": \"#E5ECF6\", \"width\": 0.5}}, \"type\": \"bar\"}], \"barpolar\": [{\"marker\": {\"line\": {\"color\": \"#E5ECF6\", \"width\": 0.5}}, \"type\": \"barpolar\"}], \"carpet\": [{\"aaxis\": {\"endlinecolor\": \"#2a3f5f\", \"gridcolor\": \"white\", \"linecolor\": \"white\", \"minorgridcolor\": \"white\", \"startlinecolor\": \"#2a3f5f\"}, \"baxis\": {\"endlinecolor\": \"#2a3f5f\", \"gridcolor\": \"white\", \"linecolor\": \"white\", \"minorgridcolor\": \"white\", \"startlinecolor\": \"#2a3f5f\"}, \"type\": \"carpet\"}], \"choropleth\": [{\"colorbar\": {\"outlinewidth\": 0, \"ticks\": \"\"}, \"type\": \"choropleth\"}], \"contour\": [{\"colorbar\": {\"outlinewidth\": 0, \"ticks\": \"\"}, \"colorscale\": [[0.0, \"#0d0887\"], [0.1111111111111111, \"#46039f\"], [0.2222222222222222, \"#7201a8\"], [0.3333333333333333, \"#9c179e\"], [0.4444444444444444, \"#bd3786\"], [0.5555555555555556, \"#d8576b\"], [0.6666666666666666, \"#ed7953\"], [0.7777777777777778, \"#fb9f3a\"], [0.8888888888888888, \"#fdca26\"], [1.0, \"#f0f921\"]], \"type\": \"contour\"}], \"contourcarpet\": [{\"colorbar\": {\"outlinewidth\": 0, \"ticks\": \"\"}, \"type\": \"contourcarpet\"}], \"heatmap\": [{\"colorbar\": {\"outlinewidth\": 0, \"ticks\": \"\"}, \"colorscale\": [[0.0, \"#0d0887\"], [0.1111111111111111, \"#46039f\"], [0.2222222222222222, \"#7201a8\"], [0.3333333333333333, \"#9c179e\"], [0.4444444444444444, \"#bd3786\"], [0.5555555555555556, \"#d8576b\"], [0.6666666666666666, \"#ed7953\"], [0.7777777777777778, \"#fb9f3a\"], [0.8888888888888888, \"#fdca26\"], [1.0, \"#f0f921\"]], \"type\": \"heatmap\"}], \"heatmapgl\": [{\"colorbar\": {\"outlinewidth\": 0, \"ticks\": \"\"}, \"colorscale\": [[0.0, \"#0d0887\"], [0.1111111111111111, \"#46039f\"], [0.2222222222222222, \"#7201a8\"], [0.3333333333333333, \"#9c179e\"], [0.4444444444444444, \"#bd3786\"], [0.5555555555555556, \"#d8576b\"], [0.6666666666666666, \"#ed7953\"], [0.7777777777777778, \"#fb9f3a\"], [0.8888888888888888, \"#fdca26\"], [1.0, \"#f0f921\"]], \"type\": \"heatmapgl\"}], \"histogram\": [{\"marker\": {\"colorbar\": {\"outlinewidth\": 0, \"ticks\": \"\"}}, \"type\": \"histogram\"}], \"histogram2d\": [{\"colorbar\": {\"outlinewidth\": 0, \"ticks\": \"\"}, \"colorscale\": [[0.0, \"#0d0887\"], [0.1111111111111111, \"#46039f\"], [0.2222222222222222, \"#7201a8\"], [0.3333333333333333, \"#9c179e\"], [0.4444444444444444, \"#bd3786\"], [0.5555555555555556, \"#d8576b\"], [0.6666666666666666, \"#ed7953\"], [0.7777777777777778, \"#fb9f3a\"], [0.8888888888888888, \"#fdca26\"], [1.0, \"#f0f921\"]], \"type\": \"histogram2d\"}], \"histogram2dcontour\": [{\"colorbar\": {\"outlinewidth\": 0, \"ticks\": \"\"}, \"colorscale\": [[0.0, \"#0d0887\"], [0.1111111111111111, \"#46039f\"], [0.2222222222222222, \"#7201a8\"], [0.3333333333333333, \"#9c179e\"], [0.4444444444444444, \"#bd3786\"], [0.5555555555555556, \"#d8576b\"], [0.6666666666666666, \"#ed7953\"], [0.7777777777777778, \"#fb9f3a\"], [0.8888888888888888, \"#fdca26\"], [1.0, \"#f0f921\"]], \"type\": \"histogram2dcontour\"}], \"mesh3d\": [{\"colorbar\": {\"outlinewidth\": 0, \"ticks\": \"\"}, \"type\": \"mesh3d\"}], \"parcoords\": [{\"line\": {\"colorbar\": {\"outlinewidth\": 0, \"ticks\": \"\"}}, \"type\": \"parcoords\"}], \"pie\": [{\"automargin\": true, \"type\": \"pie\"}], \"scatter\": [{\"marker\": {\"colorbar\": {\"outlinewidth\": 0, \"ticks\": \"\"}}, \"type\": \"scatter\"}], \"scatter3d\": [{\"line\": {\"colorbar\": {\"outlinewidth\": 0, \"ticks\": \"\"}}, \"marker\": {\"colorbar\": {\"outlinewidth\": 0, \"ticks\": \"\"}}, \"type\": \"scatter3d\"}], \"scattercarpet\": [{\"marker\": {\"colorbar\": {\"outlinewidth\": 0, \"ticks\": \"\"}}, \"type\": \"scattercarpet\"}], \"scattergeo\": [{\"marker\": {\"colorbar\": {\"outlinewidth\": 0, \"ticks\": \"\"}}, \"type\": \"scattergeo\"}], \"scattergl\": [{\"marker\": {\"colorbar\": {\"outlinewidth\": 0, \"ticks\": \"\"}}, \"type\": \"scattergl\"}], \"scattermapbox\": [{\"marker\": {\"colorbar\": {\"outlinewidth\": 0, \"ticks\": \"\"}}, \"type\": \"scattermapbox\"}], \"scatterpolar\": [{\"marker\": {\"colorbar\": {\"outlinewidth\": 0, \"ticks\": \"\"}}, \"type\": \"scatterpolar\"}], \"scatterpolargl\": [{\"marker\": {\"colorbar\": {\"outlinewidth\": 0, \"ticks\": \"\"}}, \"type\": \"scatterpolargl\"}], \"scatterternary\": [{\"marker\": {\"colorbar\": {\"outlinewidth\": 0, \"ticks\": \"\"}}, \"type\": \"scatterternary\"}], \"surface\": [{\"colorbar\": {\"outlinewidth\": 0, \"ticks\": \"\"}, \"colorscale\": [[0.0, \"#0d0887\"], [0.1111111111111111, \"#46039f\"], [0.2222222222222222, \"#7201a8\"], [0.3333333333333333, \"#9c179e\"], [0.4444444444444444, \"#bd3786\"], [0.5555555555555556, \"#d8576b\"], [0.6666666666666666, \"#ed7953\"], [0.7777777777777778, \"#fb9f3a\"], [0.8888888888888888, \"#fdca26\"], [1.0, \"#f0f921\"]], \"type\": \"surface\"}], \"table\": [{\"cells\": {\"fill\": {\"color\": \"#EBF0F8\"}, \"line\": {\"color\": \"white\"}}, \"header\": {\"fill\": {\"color\": \"#C8D4E3\"}, \"line\": {\"color\": \"white\"}}, \"type\": \"table\"}]}, \"layout\": {\"annotationdefaults\": {\"arrowcolor\": \"#2a3f5f\", \"arrowhead\": 0, \"arrowwidth\": 1}, \"coloraxis\": {\"colorbar\": {\"outlinewidth\": 0, \"ticks\": \"\"}}, \"colorscale\": {\"diverging\": [[0, \"#8e0152\"], [0.1, \"#c51b7d\"], [0.2, \"#de77ae\"], [0.3, \"#f1b6da\"], [0.4, \"#fde0ef\"], [0.5, \"#f7f7f7\"], [0.6, \"#e6f5d0\"], [0.7, \"#b8e186\"], [0.8, \"#7fbc41\"], [0.9, \"#4d9221\"], [1, \"#276419\"]], \"sequential\": [[0.0, \"#0d0887\"], [0.1111111111111111, \"#46039f\"], [0.2222222222222222, \"#7201a8\"], [0.3333333333333333, \"#9c179e\"], [0.4444444444444444, \"#bd3786\"], [0.5555555555555556, \"#d8576b\"], [0.6666666666666666, \"#ed7953\"], [0.7777777777777778, \"#fb9f3a\"], [0.8888888888888888, \"#fdca26\"], [1.0, \"#f0f921\"]], \"sequentialminus\": [[0.0, \"#0d0887\"], [0.1111111111111111, \"#46039f\"], [0.2222222222222222, \"#7201a8\"], [0.3333333333333333, \"#9c179e\"], [0.4444444444444444, \"#bd3786\"], [0.5555555555555556, \"#d8576b\"], [0.6666666666666666, \"#ed7953\"], [0.7777777777777778, \"#fb9f3a\"], [0.8888888888888888, \"#fdca26\"], [1.0, \"#f0f921\"]]}, \"colorway\": [\"#636efa\", \"#EF553B\", \"#00cc96\", \"#ab63fa\", \"#FFA15A\", \"#19d3f3\", \"#FF6692\", \"#B6E880\", \"#FF97FF\", \"#FECB52\"], \"font\": {\"color\": \"#2a3f5f\"}, \"geo\": {\"bgcolor\": \"white\", \"lakecolor\": \"white\", \"landcolor\": \"#E5ECF6\", \"showlakes\": true, \"showland\": true, \"subunitcolor\": \"white\"}, \"hoverlabel\": {\"align\": \"left\"}, \"hovermode\": \"closest\", \"mapbox\": {\"style\": \"light\"}, \"paper_bgcolor\": \"white\", \"plot_bgcolor\": \"#E5ECF6\", \"polar\": {\"angularaxis\": {\"gridcolor\": \"white\", \"linecolor\": \"white\", \"ticks\": \"\"}, \"bgcolor\": \"#E5ECF6\", \"radialaxis\": {\"gridcolor\": \"white\", \"linecolor\": \"white\", \"ticks\": \"\"}}, \"scene\": {\"xaxis\": {\"backgroundcolor\": \"#E5ECF6\", \"gridcolor\": \"white\", \"gridwidth\": 2, \"linecolor\": \"white\", \"showbackground\": true, \"ticks\": \"\", \"zerolinecolor\": \"white\"}, \"yaxis\": {\"backgroundcolor\": \"#E5ECF6\", \"gridcolor\": \"white\", \"gridwidth\": 2, \"linecolor\": \"white\", \"showbackground\": true, \"ticks\": \"\", \"zerolinecolor\": \"white\"}, \"zaxis\": {\"backgroundcolor\": \"#E5ECF6\", \"gridcolor\": \"white\", \"gridwidth\": 2, \"linecolor\": \"white\", \"showbackground\": true, \"ticks\": \"\", \"zerolinecolor\": \"white\"}}, \"shapedefaults\": {\"line\": {\"color\": \"#2a3f5f\"}}, \"ternary\": {\"aaxis\": {\"gridcolor\": \"white\", \"linecolor\": \"white\", \"ticks\": \"\"}, \"baxis\": {\"gridcolor\": \"white\", \"linecolor\": \"white\", \"ticks\": \"\"}, \"bgcolor\": \"#E5ECF6\", \"caxis\": {\"gridcolor\": \"white\", \"linecolor\": \"white\", \"ticks\": \"\"}}, \"title\": {\"x\": 0.05}, \"xaxis\": {\"automargin\": true, \"gridcolor\": \"white\", \"linecolor\": \"white\", \"ticks\": \"\", \"title\": {\"standoff\": 15}, \"zerolinecolor\": \"white\", \"zerolinewidth\": 2}, \"yaxis\": {\"automargin\": true, \"gridcolor\": \"white\", \"linecolor\": \"white\", \"ticks\": \"\", \"title\": {\"standoff\": 15}, \"zerolinecolor\": \"white\", \"zerolinewidth\": 2}}}, \"violinmode\": \"group\", \"xaxis\": {\"anchor\": \"y\", \"domain\": [0.0, 1.0], \"title\": {\"text\": \"sex\"}}, \"yaxis\": {\"anchor\": \"x\", \"domain\": [0.0, 1.0], \"title\": {\"text\": \"fare\"}}},                        {\"responsive\": true}                    ).then(function(){\n",
       "                            \n",
       "var gd = document.getElementById('024b263d-4c35-4746-a04d-ae9615c55f16');\n",
       "var x = new MutationObserver(function (mutations, observer) {{\n",
       "        var display = window.getComputedStyle(gd).display;\n",
       "        if (!display || display === 'none') {{\n",
       "            console.log([gd, 'removed!']);\n",
       "            Plotly.purge(gd);\n",
       "            observer.disconnect();\n",
       "        }}\n",
       "}});\n",
       "\n",
       "// Listen for the removal of the full notebook cells\n",
       "var notebookContainer = gd.closest('#notebook-container');\n",
       "if (notebookContainer) {{\n",
       "    x.observe(notebookContainer, {childList: true});\n",
       "}}\n",
       "\n",
       "// Listen for the clearing of the current output cell\n",
       "var outputEl = gd.closest('.output');\n",
       "if (outputEl) {{\n",
       "    x.observe(outputEl, {childList: true});\n",
       "}}\n",
       "\n",
       "                        })                };                });            </script>        </div>"
      ]
     },
     "metadata": {},
     "output_type": "display_data"
    }
   ],
   "source": [
    "px.violin(ti, \n",
    "          y=\"fare\", \n",
    "          x=\"sex\", \n",
    "          color=\"survived\", \n",
    "          points=\"all\",\n",
    "          hover_data=['age', 'embark_town']) # tool tip"
   ]
  },
  {
   "cell_type": "markdown",
   "metadata": {},
   "source": [
    "## Exercise 1: Seaborn (20 min)\n",
    "\n",
    "* Expand your Titanic Report to include visuals\n",
    "* Steps\n",
    "    * open the seaborn notes\n",
    "    * reporduce the included visuals in your own report\n",
    "    * modifiy these visuals to suit the steps you have taken earlier\n",
    "    * eg., if showing a mean of age, also plot the ages \n",
    "\n",
    "## Exercise 2: Plotly (20 min)\n",
    "\n",
    "#### Part 1: Basic Visuals (15 m)\n",
    "* expand your titanic report\n",
    "* install plotly\n",
    "    * `!pip install plotly`\n",
    "* import plotly express\n",
    "* consider your seaborn plots from earlier\n",
    "    * reporduce with plotly \n",
    "    * include more complex visuals\n",
    "        * e.g., using `size=` and `color=`\n",
    "    \n",
    "#### Part 2: Explore Plotly's Basic Charts\n",
    "* https://plotly.com/python/basic-charts/\n",
    "* Consider the plots above, and your previous exploratory work\n",
    "* Using plotly visuals, highly key insights into the titanic dataset\n",
    "* esp., include visuals *not present* in the above examples\n",
    "    * eg., include a pie chart -- is this typically a helpful visual?\n",
    "* NB.\n",
    "    * start with the titanic dataset, \n",
    "    * but consider also plotly's examples, and the datasets it uses\n",
    "    "
   ]
  },
  {
   "cell_type": "code",
   "execution_count": 64,
   "metadata": {},
   "outputs": [
    {
     "data": {
      "text/plain": [
       "<matplotlib.axes._subplots.AxesSubplot at 0x7f92d03e1a00>"
      ]
     },
     "execution_count": 64,
     "metadata": {},
     "output_type": "execute_result"
    },
    {
     "data": {
      "image/png": "[encoded data removed]",
      "text/plain": [
       "<Figure size 432x288 with 1 Axes>"
      ]
     },
     "metadata": {
      "needs_background": "light"
     },
     "output_type": "display_data"
    }
   ],
   "source": [
    "sns.regplot(data=ti, x='age', y='survived')"
   ]
  },
  {
   "cell_type": "code",
   "execution_count": 65,
   "metadata": {},
   "outputs": [
    {
     "data": {
      "application/vnd.plotly.v1+json": {
       "config": {
        "plotlyServerURL": "https://plot.ly"
       },
       "data": [
        {
         "alignmentgroup": "True",
         "bingroup": "x",
         "hovertemplate": "sex=male<br>age=%{x}<br>count=%{y}<extra></extra>",
         "legendgroup": "male",
         "marker": {
          "color": "#636efa"
         },
         "name": "male",
         "offsetgroup": "male",
         "orientation": "v",
         "showlegend": true,
         "type": "histogram",
         "x": [
          22,
          35,
          null,
          54,
          2,
          20,
          39,
          2,
          null,
          35,
          34,
          28,
          null,
          19,
          null,
          40,
          66,
          28,
          42,
          null,
          21,
          null,
          null,
          null,
          null,
          7,
          21,
          65,
          null,
          28.5,
          11,
          22,
          45,
          4,
          null,
          null,
          19,
          26,
          32,
          21,
          26,
          32,
          25,
          null,
          null,
          0.83,
          22,
          29,
          28,
          16,
          null,
          24,
          29,
          20,
          46,
          26,
          59,
          null,
          71,
          23,
          34,
          null,
          21,
          33,
          37,
          28,
          null,
          38,
          47,
          22,
          21,
          70.5,
          29,
          24,
          21,
          null,
          32.5,
          54,
          12,
          null,
          24,
          45,
          33,
          20,
          25,
          23,
          37,
          16,
          24,
          19,
          18,
          19,
          27,
          36.5,
          42,
          51,
          55.5,
          40.5,
          null,
          51,
          30,
          null,
          null,
          44,
          26,
          17,
          1,
          9,
          null,
          28,
          61,
          4,
          21,
          56,
          18,
          null,
          30,
          36,
          null,
          9,
          1,
          null,
          45,
          40,
          36,
          19,
          3,
          null,
          42,
          28,
          null,
          34,
          45.5,
          18,
          32,
          26,
          40,
          24,
          22,
          30,
          null,
          42,
          30,
          16,
          27,
          51,
          null,
          38,
          22,
          19,
          20.5,
          18,
          29,
          59,
          24,
          44,
          19,
          33,
          29,
          22,
          30,
          44,
          37,
          54,
          null,
          62,
          30,
          null,
          3,
          52,
          40,
          36,
          16,
          25,
          null,
          25,
          37,
          null,
          7,
          65,
          28,
          16,
          19,
          null,
          33,
          30,
          22,
          42,
          36,
          24,
          null,
          23.5,
          null,
          null,
          19,
          null,
          0.92,
          30,
          28,
          43,
          54,
          22,
          27,
          null,
          61,
          45.5,
          38,
          16,
          null,
          29,
          45,
          45,
          2,
          28,
          25,
          36,
          3,
          42,
          23,
          null,
          15,
          25,
          null,
          28,
          40,
          29,
          35,
          null,
          30,
          25,
          18,
          19,
          22,
          27,
          20,
          19,
          32,
          null,
          18,
          1,
          null,
          36,
          21,
          28,
          22,
          46,
          23,
          39,
          26,
          28,
          34,
          51,
          3,
          21,
          null,
          null,
          null,
          44,
          30,
          null,
          21,
          29,
          18,
          null,
          null,
          32,
          28,
          17,
          50,
          64,
          31,
          20,
          25,
          null,
          4,
          34,
          52,
          36,
          null,
          30,
          49,
          null,
          29,
          65,
          null,
          48,
          34,
          47,
          48,
          null,
          38,
          null,
          56,
          null,
          null,
          38,
          null,
          34,
          29,
          22,
          9,
          null,
          50,
          25,
          58,
          30,
          9,
          null,
          21,
          55,
          71,
          21,
          null,
          null,
          24,
          17,
          18,
          null,
          28,
          26,
          29,
          null,
          36,
          24,
          47,
          null,
          32,
          22,
          null,
          null,
          40.5,
          null,
          39,
          23,
          null,
          17,
          45,
          null,
          32,
          50,
          64,
          null,
          33,
          8,
          17,
          27,
          null,
          22,
          62,
          null,
          null,
          40,
          28,
          null,
          24,
          19,
          null,
          32,
          62,
          36,
          16,
          19,
          32,
          54,
          36,
          null,
          47,
          60,
          22,
          null,
          35,
          47,
          37,
          36,
          49,
          null,
          49,
          null,
          null,
          44,
          35,
          36,
          30,
          27,
          null,
          null,
          35,
          34,
          26,
          27,
          42,
          20,
          21,
          21,
          61,
          57,
          26,
          null,
          80,
          51,
          32,
          null,
          32,
          31,
          null,
          20,
          null,
          48,
          19,
          56,
          null,
          null,
          21,
          24,
          null,
          23,
          58,
          50,
          40,
          47,
          36,
          20,
          32,
          25,
          null,
          43,
          31,
          70,
          31,
          null,
          18,
          24.5,
          36,
          27,
          20,
          14,
          60,
          25,
          14,
          19,
          18,
          31,
          null,
          25,
          60,
          52,
          44,
          49,
          42,
          35,
          25,
          26,
          39,
          42,
          null,
          null,
          48,
          29,
          52,
          19,
          null,
          33,
          17,
          34,
          50,
          27,
          20,
          25,
          11,
          null,
          23,
          23,
          28.5,
          35,
          null,
          null,
          null,
          36,
          24,
          31,
          70,
          16,
          19,
          31,
          6,
          33,
          23,
          0.67,
          28,
          18,
          34,
          null,
          41,
          20,
          16,
          null,
          null,
          32,
          24,
          48,
          null,
          18,
          null,
          null,
          29,
          null,
          25,
          25,
          8,
          1,
          46,
          null,
          16,
          null,
          25,
          39,
          30,
          34,
          11,
          0.42,
          27,
          31,
          39,
          39,
          26,
          39,
          35,
          30.5,
          null,
          31,
          43,
          10,
          27,
          38,
          2,
          null,
          null,
          1,
          null,
          0.83,
          null,
          23,
          18,
          21,
          null,
          32,
          null,
          20,
          16,
          34.5,
          17,
          42,
          null,
          35,
          28,
          4,
          74,
          51,
          null,
          41,
          21,
          24,
          31,
          null,
          4,
          26,
          33,
          47,
          20,
          19,
          null,
          33,
          28,
          25,
          27,
          26,
          32
         ],
         "xaxis": "x",
         "yaxis": "y"
        },
        {
         "alignmentgroup": "True",
         "bingroup": "x",
         "hovertemplate": "sex=female<br>age=%{x}<br>count=%{y}<extra></extra>",
         "legendgroup": "female",
         "marker": {
          "color": "#EF553B"
         },
         "name": "female",
         "offsetgroup": "female",
         "orientation": "v",
         "showlegend": true,
         "type": "histogram",
         "x": [
          38,
          26,
          35,
          27,
          14,
          4,
          58,
          14,
          55,
          31,
          null,
          15,
          8,
          38,
          null,
          null,
          null,
          18,
          14,
          40,
          27,
          3,
          19,
          null,
          18,
          49,
          29,
          21,
          5,
          38,
          29,
          17,
          16,
          30,
          null,
          17,
          33,
          23,
          34,
          28,
          21,
          null,
          14.5,
          20,
          17,
          2,
          32.5,
          null,
          47,
          29,
          19,
          null,
          22,
          24,
          9,
          22,
          16,
          40,
          null,
          45,
          1,
          50,
          null,
          4,
          null,
          32,
          19,
          44,
          58,
          null,
          24,
          2,
          16,
          35,
          31,
          27,
          32,
          null,
          35,
          5,
          null,
          8,
          null,
          null,
          25,
          24,
          29,
          41,
          29,
          null,
          30,
          35,
          50,
          null,
          58,
          35,
          41,
          null,
          63,
          45,
          35,
          22,
          26,
          19,
          24,
          2,
          50,
          null,
          null,
          null,
          17,
          30,
          24,
          18,
          26,
          26,
          24,
          31,
          40,
          30,
          22,
          36,
          36,
          31,
          16,
          null,
          null,
          41,
          24,
          24,
          40,
          null,
          22,
          38,
          null,
          null,
          45,
          60,
          null,
          null,
          24,
          3,
          null,
          22,
          42,
          1,
          35,
          36,
          17,
          23,
          24,
          31,
          28,
          21,
          20,
          null,
          33,
          null,
          34,
          18,
          10,
          28,
          28,
          19,
          null,
          42,
          14,
          21,
          24,
          45,
          28,
          13,
          5,
          null,
          50,
          0.75,
          33,
          23,
          22,
          2,
          63,
          null,
          35,
          54,
          25,
          21,
          null,
          37,
          16,
          33,
          54,
          34,
          36,
          30,
          44,
          50,
          2,
          null,
          30,
          7,
          30,
          22,
          36,
          9,
          11,
          19,
          22,
          48,
          39,
          36,
          null,
          29,
          53,
          null,
          34,
          39,
          null,
          25,
          39,
          18,
          52,
          null,
          null,
          24,
          22,
          40,
          39,
          null,
          24,
          26,
          4,
          21,
          9,
          28,
          41,
          24,
          2,
          0.75,
          23,
          18,
          null,
          18,
          32,
          null,
          40,
          18,
          43,
          null,
          15,
          4,
          null,
          18,
          18,
          45,
          22,
          24,
          38,
          27,
          6,
          30,
          null,
          25,
          29,
          48,
          21,
          30,
          4,
          48,
          33,
          36,
          51,
          30.5,
          57,
          54,
          5,
          43,
          13,
          17,
          18,
          null,
          49,
          31,
          30,
          31,
          18,
          33,
          6,
          23,
          52,
          27,
          62,
          15,
          39,
          30,
          null,
          9,
          16,
          44,
          18,
          45,
          24,
          48,
          null,
          42,
          27,
          47,
          28,
          15,
          56,
          25,
          22,
          39,
          19,
          null
         ],
         "xaxis": "x",
         "yaxis": "y"
        }
       ],
       "layout": {
        "barmode": "relative",
        "legend": {
         "title": {
          "text": "sex"
         },
         "tracegroupgap": 0
        },
        "margin": {
         "t": 60
        },
        "template": {
         "data": {
          "bar": [
           {
            "error_x": {
             "color": "#2a3f5f"
            },
            "error_y": {
             "color": "#2a3f5f"
            },
            "marker": {
             "line": {
              "color": "#E5ECF6",
              "width": 0.5
             }
            },
            "type": "bar"
           }
          ],
          "barpolar": [
           {
            "marker": {
             "line": {
              "color": "#E5ECF6",
              "width": 0.5
             }
            },
            "type": "barpolar"
           }
          ],
          "carpet": [
           {
            "aaxis": {
             "endlinecolor": "#2a3f5f",
             "gridcolor": "white",
             "linecolor": "white",
             "minorgridcolor": "white",
             "startlinecolor": "#2a3f5f"
            },
            "baxis": {
             "endlinecolor": "#2a3f5f",
             "gridcolor": "white",
             "linecolor": "white",
             "minorgridcolor": "white",
             "startlinecolor": "#2a3f5f"
            },
            "type": "carpet"
           }
          ],
          "choropleth": [
           {
            "colorbar": {
             "outlinewidth": 0,
             "ticks": ""
            },
            "type": "choropleth"
           }
          ],
          "contour": [
           {
            "colorbar": {
             "outlinewidth": 0,
             "ticks": ""
            },
            "colorscale": [
             [
              0,
              "#0d0887"
             ],
             [
              0.1111111111111111,
              "#46039f"
             ],
             [
              0.2222222222222222,
              "#7201a8"
             ],
             [
              0.3333333333333333,
              "#9c179e"
             ],
             [
              0.4444444444444444,
              "#bd3786"
             ],
             [
              0.5555555555555556,
              "#d8576b"
             ],
             [
              0.6666666666666666,
              "#ed7953"
             ],
             [
              0.7777777777777778,
              "#fb9f3a"
             ],
             [
              0.8888888888888888,
              "#fdca26"
             ],
             [
              1,
              "#f0f921"
             ]
            ],
            "type": "contour"
           }
          ],
          "contourcarpet": [
           {
            "colorbar": {
             "outlinewidth": 0,
             "ticks": ""
            },
            "type": "contourcarpet"
           }
          ],
          "heatmap": [
           {
            "colorbar": {
             "outlinewidth": 0,
             "ticks": ""
            },
            "colorscale": [
             [
              0,
              "#0d0887"
             ],
             [
              0.1111111111111111,
              "#46039f"
             ],
             [
              0.2222222222222222,
              "#7201a8"
             ],
             [
              0.3333333333333333,
              "#9c179e"
             ],
             [
              0.4444444444444444,
              "#bd3786"
             ],
             [
              0.5555555555555556,
              "#d8576b"
             ],
             [
              0.6666666666666666,
              "#ed7953"
             ],
             [
              0.7777777777777778,
              "#fb9f3a"
             ],
             [
              0.8888888888888888,
              "#fdca26"
             ],
             [
              1,
              "#f0f921"
             ]
            ],
            "type": "heatmap"
           }
          ],
          "heatmapgl": [
           {
            "colorbar": {
             "outlinewidth": 0,
             "ticks": ""
            },
            "colorscale": [
             [
              0,
              "#0d0887"
             ],
             [
              0.1111111111111111,
              "#46039f"
             ],
             [
              0.2222222222222222,
              "#7201a8"
             ],
             [
              0.3333333333333333,
              "#9c179e"
             ],
             [
              0.4444444444444444,
              "#bd3786"
             ],
             [
              0.5555555555555556,
              "#d8576b"
             ],
             [
              0.6666666666666666,
              "#ed7953"
             ],
             [
              0.7777777777777778,
              "#fb9f3a"
             ],
             [
              0.8888888888888888,
              "#fdca26"
             ],
             [
              1,
              "#f0f921"
             ]
            ],
            "type": "heatmapgl"
           }
          ],
          "histogram": [
           {
            "marker": {
             "colorbar": {
              "outlinewidth": 0,
              "ticks": ""
             }
            },
            "type": "histogram"
           }
          ],
          "histogram2d": [
           {
            "colorbar": {
             "outlinewidth": 0,
             "ticks": ""
            },
            "colorscale": [
             [
              0,
              "#0d0887"
             ],
             [
              0.1111111111111111,
              "#46039f"
             ],
             [
              0.2222222222222222,
              "#7201a8"
             ],
             [
              0.3333333333333333,
              "#9c179e"
             ],
             [
              0.4444444444444444,
              "#bd3786"
             ],
             [
              0.5555555555555556,
              "#d8576b"
             ],
             [
              0.6666666666666666,
              "#ed7953"
             ],
             [
              0.7777777777777778,
              "#fb9f3a"
             ],
             [
              0.8888888888888888,
              "#fdca26"
             ],
             [
              1,
              "#f0f921"
             ]
            ],
            "type": "histogram2d"
           }
          ],
          "histogram2dcontour": [
           {
            "colorbar": {
             "outlinewidth": 0,
             "ticks": ""
            },
            "colorscale": [
             [
              0,
              "#0d0887"
             ],
             [
              0.1111111111111111,
              "#46039f"
             ],
             [
              0.2222222222222222,
              "#7201a8"
             ],
             [
              0.3333333333333333,
              "#9c179e"
             ],
             [
              0.4444444444444444,
              "#bd3786"
             ],
             [
              0.5555555555555556,
              "#d8576b"
             ],
             [
              0.6666666666666666,
              "#ed7953"
             ],
             [
              0.7777777777777778,
              "#fb9f3a"
             ],
             [
              0.8888888888888888,
              "#fdca26"
             ],
             [
              1,
              "#f0f921"
             ]
            ],
            "type": "histogram2dcontour"
           }
          ],
          "mesh3d": [
           {
            "colorbar": {
             "outlinewidth": 0,
             "ticks": ""
            },
            "type": "mesh3d"
           }
          ],
          "parcoords": [
           {
            "line": {
             "colorbar": {
              "outlinewidth": 0,
              "ticks": ""
             }
            },
            "type": "parcoords"
           }
          ],
          "pie": [
           {
            "automargin": true,
            "type": "pie"
           }
          ],
          "scatter": [
           {
            "marker": {
             "colorbar": {
              "outlinewidth": 0,
              "ticks": ""
             }
            },
            "type": "scatter"
           }
          ],
          "scatter3d": [
           {
            "line": {
             "colorbar": {
              "outlinewidth": 0,
              "ticks": ""
             }
            },
            "marker": {
             "colorbar": {
              "outlinewidth": 0,
              "ticks": ""
             }
            },
            "type": "scatter3d"
           }
          ],
          "scattercarpet": [
           {
            "marker": {
             "colorbar": {
              "outlinewidth": 0,
              "ticks": ""
             }
            },
            "type": "scattercarpet"
           }
          ],
          "scattergeo": [
           {
            "marker": {
             "colorbar": {
              "outlinewidth": 0,
              "ticks": ""
             }
            },
            "type": "scattergeo"
           }
          ],
          "scattergl": [
           {
            "marker": {
             "colorbar": {
              "outlinewidth": 0,
              "ticks": ""
             }
            },
            "type": "scattergl"
           }
          ],
          "scattermapbox": [
           {
            "marker": {
             "colorbar": {
              "outlinewidth": 0,
              "ticks": ""
             }
            },
            "type": "scattermapbox"
           }
          ],
          "scatterpolar": [
           {
            "marker": {
             "colorbar": {
              "outlinewidth": 0,
              "ticks": ""
             }
            },
            "type": "scatterpolar"
           }
          ],
          "scatterpolargl": [
           {
            "marker": {
             "colorbar": {
              "outlinewidth": 0,
              "ticks": ""
             }
            },
            "type": "scatterpolargl"
           }
          ],
          "scatterternary": [
           {
            "marker": {
             "colorbar": {
              "outlinewidth": 0,
              "ticks": ""
             }
            },
            "type": "scatterternary"
           }
          ],
          "surface": [
           {
            "colorbar": {
             "outlinewidth": 0,
             "ticks": ""
            },
            "colorscale": [
             [
              0,
              "#0d0887"
             ],
             [
              0.1111111111111111,
              "#46039f"
             ],
             [
              0.2222222222222222,
              "#7201a8"
             ],
             [
              0.3333333333333333,
              "#9c179e"
             ],
             [
              0.4444444444444444,
              "#bd3786"
             ],
             [
              0.5555555555555556,
              "#d8576b"
             ],
             [
              0.6666666666666666,
              "#ed7953"
             ],
             [
              0.7777777777777778,
              "#fb9f3a"
             ],
             [
              0.8888888888888888,
              "#fdca26"
             ],
             [
              1,
              "#f0f921"
             ]
            ],
            "type": "surface"
           }
          ],
          "table": [
           {
            "cells": {
             "fill": {
              "color": "#EBF0F8"
             },
             "line": {
              "color": "white"
             }
            },
            "header": {
             "fill": {
              "color": "#C8D4E3"
             },
             "line": {
              "color": "white"
             }
            },
            "type": "table"
           }
          ]
         },
         "layout": {
          "annotationdefaults": {
           "arrowcolor": "#2a3f5f",
           "arrowhead": 0,
           "arrowwidth": 1
          },
          "coloraxis": {
           "colorbar": {
            "outlinewidth": 0,
            "ticks": ""
           }
          },
          "colorscale": {
           "diverging": [
            [
             0,
             "#8e0152"
            ],
            [
             0.1,
             "#c51b7d"
            ],
            [
             0.2,
             "#de77ae"
            ],
            [
             0.3,
             "#f1b6da"
            ],
            [
             0.4,
             "#fde0ef"
            ],
            [
             0.5,
             "#f7f7f7"
            ],
            [
             0.6,
             "#e6f5d0"
            ],
            [
             0.7,
             "#b8e186"
            ],
            [
             0.8,
             "#7fbc41"
            ],
            [
             0.9,
             "#4d9221"
            ],
            [
             1,
             "#276419"
            ]
           ],
           "sequential": [
            [
             0,
             "#0d0887"
            ],
            [
             0.1111111111111111,
             "#46039f"
            ],
            [
             0.2222222222222222,
             "#7201a8"
            ],
            [
             0.3333333333333333,
             "#9c179e"
            ],
            [
             0.4444444444444444,
             "#bd3786"
            ],
            [
             0.5555555555555556,
             "#d8576b"
            ],
            [
             0.6666666666666666,
             "#ed7953"
            ],
            [
             0.7777777777777778,
             "#fb9f3a"
            ],
            [
             0.8888888888888888,
             "#fdca26"
            ],
            [
             1,
             "#f0f921"
            ]
           ],
           "sequentialminus": [
            [
             0,
             "#0d0887"
            ],
            [
             0.1111111111111111,
             "#46039f"
            ],
            [
             0.2222222222222222,
             "#7201a8"
            ],
            [
             0.3333333333333333,
             "#9c179e"
            ],
            [
             0.4444444444444444,
             "#bd3786"
            ],
            [
             0.5555555555555556,
             "#d8576b"
            ],
            [
             0.6666666666666666,
             "#ed7953"
            ],
            [
             0.7777777777777778,
             "#fb9f3a"
            ],
            [
             0.8888888888888888,
             "#fdca26"
            ],
            [
             1,
             "#f0f921"
            ]
           ]
          },
          "colorway": [
           "#636efa",
           "#EF553B",
           "#00cc96",
           "#ab63fa",
           "#FFA15A",
           "#19d3f3",
           "#FF6692",
           "#B6E880",
           "#FF97FF",
           "#FECB52"
          ],
          "font": {
           "color": "#2a3f5f"
          },
          "geo": {
           "bgcolor": "white",
           "lakecolor": "white",
           "landcolor": "#E5ECF6",
           "showlakes": true,
           "showland": true,
           "subunitcolor": "white"
          },
          "hoverlabel": {
           "align": "left"
          },
          "hovermode": "closest",
          "mapbox": {
           "style": "light"
          },
          "paper_bgcolor": "white",
          "plot_bgcolor": "#E5ECF6",
          "polar": {
           "angularaxis": {
            "gridcolor": "white",
            "linecolor": "white",
            "ticks": ""
           },
           "bgcolor": "#E5ECF6",
           "radialaxis": {
            "gridcolor": "white",
            "linecolor": "white",
            "ticks": ""
           }
          },
          "scene": {
           "xaxis": {
            "backgroundcolor": "#E5ECF6",
            "gridcolor": "white",
            "gridwidth": 2,
            "linecolor": "white",
            "showbackground": true,
            "ticks": "",
            "zerolinecolor": "white"
           },
           "yaxis": {
            "backgroundcolor": "#E5ECF6",
            "gridcolor": "white",
            "gridwidth": 2,
            "linecolor": "white",
            "showbackground": true,
            "ticks": "",
            "zerolinecolor": "white"
           },
           "zaxis": {
            "backgroundcolor": "#E5ECF6",
            "gridcolor": "white",
            "gridwidth": 2,
            "linecolor": "white",
            "showbackground": true,
            "ticks": "",
            "zerolinecolor": "white"
           }
          },
          "shapedefaults": {
           "line": {
            "color": "#2a3f5f"
           }
          },
          "ternary": {
           "aaxis": {
            "gridcolor": "white",
            "linecolor": "white",
            "ticks": ""
           },
           "baxis": {
            "gridcolor": "white",
            "linecolor": "white",
            "ticks": ""
           },
           "bgcolor": "#E5ECF6",
           "caxis": {
            "gridcolor": "white",
            "linecolor": "white",
            "ticks": ""
           }
          },
          "title": {
           "x": 0.05
          },
          "xaxis": {
           "automargin": true,
           "gridcolor": "white",
           "linecolor": "white",
           "ticks": "",
           "title": {
            "standoff": 15
           },
           "zerolinecolor": "white",
           "zerolinewidth": 2
          },
          "yaxis": {
           "automargin": true,
           "gridcolor": "white",
           "linecolor": "white",
           "ticks": "",
           "title": {
            "standoff": 15
           },
           "zerolinecolor": "white",
           "zerolinewidth": 2
          }
         }
        },
        "xaxis": {
         "anchor": "y",
         "domain": [
          0,
          1
         ],
         "title": {
          "text": "age"
         }
        },
        "yaxis": {
         "anchor": "x",
         "domain": [
          0,
          1
         ],
         "title": {
          "text": "count"
         }
        }
       }
      },
      "text/html": [
       "<div>                            <div id=\"2aa9295c-c97a-4b36-a952-4d1f3f88c530\" class=\"plotly-graph-div\" style=\"height:525px; width:100%;\"></div>            <script type=\"text/javascript\">                require([\"plotly\"], function(Plotly) {                    window.PLOTLYENV=window.PLOTLYENV || {};                                    if (document.getElementById(\"2aa9295c-c97a-4b36-a952-4d1f3f88c530\")) {                    Plotly.newPlot(                        \"2aa9295c-c97a-4b36-a952-4d1f3f88c530\",                        [{\"alignmentgroup\": \"True\", \"bingroup\": \"x\", \"hovertemplate\": \"sex=male<br>age=%{x}<br>count=%{y}<extra></extra>\", \"legendgroup\": \"male\", \"marker\": {\"color\": \"#636efa\"}, \"name\": \"male\", \"offsetgroup\": \"male\", \"orientation\": \"v\", \"showlegend\": true, \"type\": \"histogram\", \"x\": [22.0, 35.0, null, 54.0, 2.0, 20.0, 39.0, 2.0, null, 35.0, 34.0, 28.0, null, 19.0, null, 40.0, 66.0, 28.0, 42.0, null, 21.0, null, null, null, null, 7.0, 21.0, 65.0, null, 28.5, 11.0, 22.0, 45.0, 4.0, null, null, 19.0, 26.0, 32.0, 21.0, 26.0, 32.0, 25.0, null, null, 0.83, 22.0, 29.0, 28.0, 16.0, null, 24.0, 29.0, 20.0, 46.0, 26.0, 59.0, null, 71.0, 23.0, 34.0, null, 21.0, 33.0, 37.0, 28.0, null, 38.0, 47.0, 22.0, 21.0, 70.5, 29.0, 24.0, 21.0, null, 32.5, 54.0, 12.0, null, 24.0, 45.0, 33.0, 20.0, 25.0, 23.0, 37.0, 16.0, 24.0, 19.0, 18.0, 19.0, 27.0, 36.5, 42.0, 51.0, 55.5, 40.5, null, 51.0, 30.0, null, null, 44.0, 26.0, 17.0, 1.0, 9.0, null, 28.0, 61.0, 4.0, 21.0, 56.0, 18.0, null, 30.0, 36.0, null, 9.0, 1.0, null, 45.0, 40.0, 36.0, 19.0, 3.0, null, 42.0, 28.0, null, 34.0, 45.5, 18.0, 32.0, 26.0, 40.0, 24.0, 22.0, 30.0, null, 42.0, 30.0, 16.0, 27.0, 51.0, null, 38.0, 22.0, 19.0, 20.5, 18.0, 29.0, 59.0, 24.0, 44.0, 19.0, 33.0, 29.0, 22.0, 30.0, 44.0, 37.0, 54.0, null, 62.0, 30.0, null, 3.0, 52.0, 40.0, 36.0, 16.0, 25.0, null, 25.0, 37.0, null, 7.0, 65.0, 28.0, 16.0, 19.0, null, 33.0, 30.0, 22.0, 42.0, 36.0, 24.0, null, 23.5, null, null, 19.0, null, 0.92, 30.0, 28.0, 43.0, 54.0, 22.0, 27.0, null, 61.0, 45.5, 38.0, 16.0, null, 29.0, 45.0, 45.0, 2.0, 28.0, 25.0, 36.0, 3.0, 42.0, 23.0, null, 15.0, 25.0, null, 28.0, 40.0, 29.0, 35.0, null, 30.0, 25.0, 18.0, 19.0, 22.0, 27.0, 20.0, 19.0, 32.0, null, 18.0, 1.0, null, 36.0, 21.0, 28.0, 22.0, 46.0, 23.0, 39.0, 26.0, 28.0, 34.0, 51.0, 3.0, 21.0, null, null, null, 44.0, 30.0, null, 21.0, 29.0, 18.0, null, null, 32.0, 28.0, 17.0, 50.0, 64.0, 31.0, 20.0, 25.0, null, 4.0, 34.0, 52.0, 36.0, null, 30.0, 49.0, null, 29.0, 65.0, null, 48.0, 34.0, 47.0, 48.0, null, 38.0, null, 56.0, null, null, 38.0, null, 34.0, 29.0, 22.0, 9.0, null, 50.0, 25.0, 58.0, 30.0, 9.0, null, 21.0, 55.0, 71.0, 21.0, null, null, 24.0, 17.0, 18.0, null, 28.0, 26.0, 29.0, null, 36.0, 24.0, 47.0, null, 32.0, 22.0, null, null, 40.5, null, 39.0, 23.0, null, 17.0, 45.0, null, 32.0, 50.0, 64.0, null, 33.0, 8.0, 17.0, 27.0, null, 22.0, 62.0, null, null, 40.0, 28.0, null, 24.0, 19.0, null, 32.0, 62.0, 36.0, 16.0, 19.0, 32.0, 54.0, 36.0, null, 47.0, 60.0, 22.0, null, 35.0, 47.0, 37.0, 36.0, 49.0, null, 49.0, null, null, 44.0, 35.0, 36.0, 30.0, 27.0, null, null, 35.0, 34.0, 26.0, 27.0, 42.0, 20.0, 21.0, 21.0, 61.0, 57.0, 26.0, null, 80.0, 51.0, 32.0, null, 32.0, 31.0, null, 20.0, null, 48.0, 19.0, 56.0, null, null, 21.0, 24.0, null, 23.0, 58.0, 50.0, 40.0, 47.0, 36.0, 20.0, 32.0, 25.0, null, 43.0, 31.0, 70.0, 31.0, null, 18.0, 24.5, 36.0, 27.0, 20.0, 14.0, 60.0, 25.0, 14.0, 19.0, 18.0, 31.0, null, 25.0, 60.0, 52.0, 44.0, 49.0, 42.0, 35.0, 25.0, 26.0, 39.0, 42.0, null, null, 48.0, 29.0, 52.0, 19.0, null, 33.0, 17.0, 34.0, 50.0, 27.0, 20.0, 25.0, 11.0, null, 23.0, 23.0, 28.5, 35.0, null, null, null, 36.0, 24.0, 31.0, 70.0, 16.0, 19.0, 31.0, 6.0, 33.0, 23.0, 0.67, 28.0, 18.0, 34.0, null, 41.0, 20.0, 16.0, null, null, 32.0, 24.0, 48.0, null, 18.0, null, null, 29.0, null, 25.0, 25.0, 8.0, 1.0, 46.0, null, 16.0, null, 25.0, 39.0, 30.0, 34.0, 11.0, 0.42, 27.0, 31.0, 39.0, 39.0, 26.0, 39.0, 35.0, 30.5, null, 31.0, 43.0, 10.0, 27.0, 38.0, 2.0, null, null, 1.0, null, 0.83, null, 23.0, 18.0, 21.0, null, 32.0, null, 20.0, 16.0, 34.5, 17.0, 42.0, null, 35.0, 28.0, 4.0, 74.0, 51.0, null, 41.0, 21.0, 24.0, 31.0, null, 4.0, 26.0, 33.0, 47.0, 20.0, 19.0, null, 33.0, 28.0, 25.0, 27.0, 26.0, 32.0], \"xaxis\": \"x\", \"yaxis\": \"y\"}, {\"alignmentgroup\": \"True\", \"bingroup\": \"x\", \"hovertemplate\": \"sex=female<br>age=%{x}<br>count=%{y}<extra></extra>\", \"legendgroup\": \"female\", \"marker\": {\"color\": \"#EF553B\"}, \"name\": \"female\", \"offsetgroup\": \"female\", \"orientation\": \"v\", \"showlegend\": true, \"type\": \"histogram\", \"x\": [38.0, 26.0, 35.0, 27.0, 14.0, 4.0, 58.0, 14.0, 55.0, 31.0, null, 15.0, 8.0, 38.0, null, null, null, 18.0, 14.0, 40.0, 27.0, 3.0, 19.0, null, 18.0, 49.0, 29.0, 21.0, 5.0, 38.0, 29.0, 17.0, 16.0, 30.0, null, 17.0, 33.0, 23.0, 34.0, 28.0, 21.0, null, 14.5, 20.0, 17.0, 2.0, 32.5, null, 47.0, 29.0, 19.0, null, 22.0, 24.0, 9.0, 22.0, 16.0, 40.0, null, 45.0, 1.0, 50.0, null, 4.0, null, 32.0, 19.0, 44.0, 58.0, null, 24.0, 2.0, 16.0, 35.0, 31.0, 27.0, 32.0, null, 35.0, 5.0, null, 8.0, null, null, 25.0, 24.0, 29.0, 41.0, 29.0, null, 30.0, 35.0, 50.0, null, 58.0, 35.0, 41.0, null, 63.0, 45.0, 35.0, 22.0, 26.0, 19.0, 24.0, 2.0, 50.0, null, null, null, 17.0, 30.0, 24.0, 18.0, 26.0, 26.0, 24.0, 31.0, 40.0, 30.0, 22.0, 36.0, 36.0, 31.0, 16.0, null, null, 41.0, 24.0, 24.0, 40.0, null, 22.0, 38.0, null, null, 45.0, 60.0, null, null, 24.0, 3.0, null, 22.0, 42.0, 1.0, 35.0, 36.0, 17.0, 23.0, 24.0, 31.0, 28.0, 21.0, 20.0, null, 33.0, null, 34.0, 18.0, 10.0, 28.0, 28.0, 19.0, null, 42.0, 14.0, 21.0, 24.0, 45.0, 28.0, 13.0, 5.0, null, 50.0, 0.75, 33.0, 23.0, 22.0, 2.0, 63.0, null, 35.0, 54.0, 25.0, 21.0, null, 37.0, 16.0, 33.0, 54.0, 34.0, 36.0, 30.0, 44.0, 50.0, 2.0, null, 30.0, 7.0, 30.0, 22.0, 36.0, 9.0, 11.0, 19.0, 22.0, 48.0, 39.0, 36.0, null, 29.0, 53.0, null, 34.0, 39.0, null, 25.0, 39.0, 18.0, 52.0, null, null, 24.0, 22.0, 40.0, 39.0, null, 24.0, 26.0, 4.0, 21.0, 9.0, 28.0, 41.0, 24.0, 2.0, 0.75, 23.0, 18.0, null, 18.0, 32.0, null, 40.0, 18.0, 43.0, null, 15.0, 4.0, null, 18.0, 18.0, 45.0, 22.0, 24.0, 38.0, 27.0, 6.0, 30.0, null, 25.0, 29.0, 48.0, 21.0, 30.0, 4.0, 48.0, 33.0, 36.0, 51.0, 30.5, 57.0, 54.0, 5.0, 43.0, 13.0, 17.0, 18.0, null, 49.0, 31.0, 30.0, 31.0, 18.0, 33.0, 6.0, 23.0, 52.0, 27.0, 62.0, 15.0, 39.0, 30.0, null, 9.0, 16.0, 44.0, 18.0, 45.0, 24.0, 48.0, null, 42.0, 27.0, 47.0, 28.0, 15.0, 56.0, 25.0, 22.0, 39.0, 19.0, null], \"xaxis\": \"x\", \"yaxis\": \"y\"}],                        {\"barmode\": \"relative\", \"legend\": {\"title\": {\"text\": \"sex\"}, \"tracegroupgap\": 0}, \"margin\": {\"t\": 60}, \"template\": {\"data\": {\"bar\": [{\"error_x\": {\"color\": \"#2a3f5f\"}, \"error_y\": {\"color\": \"#2a3f5f\"}, \"marker\": {\"line\": {\"color\": \"#E5ECF6\", \"width\": 0.5}}, \"type\": \"bar\"}], \"barpolar\": [{\"marker\": {\"line\": {\"color\": \"#E5ECF6\", \"width\": 0.5}}, \"type\": \"barpolar\"}], \"carpet\": [{\"aaxis\": {\"endlinecolor\": \"#2a3f5f\", \"gridcolor\": \"white\", \"linecolor\": \"white\", \"minorgridcolor\": \"white\", \"startlinecolor\": \"#2a3f5f\"}, \"baxis\": {\"endlinecolor\": \"#2a3f5f\", \"gridcolor\": \"white\", \"linecolor\": \"white\", \"minorgridcolor\": \"white\", \"startlinecolor\": \"#2a3f5f\"}, \"type\": \"carpet\"}], \"choropleth\": [{\"colorbar\": {\"outlinewidth\": 0, \"ticks\": \"\"}, \"type\": \"choropleth\"}], \"contour\": [{\"colorbar\": {\"outlinewidth\": 0, \"ticks\": \"\"}, \"colorscale\": [[0.0, \"#0d0887\"], [0.1111111111111111, \"#46039f\"], [0.2222222222222222, \"#7201a8\"], [0.3333333333333333, \"#9c179e\"], [0.4444444444444444, \"#bd3786\"], [0.5555555555555556, \"#d8576b\"], [0.6666666666666666, \"#ed7953\"], [0.7777777777777778, \"#fb9f3a\"], [0.8888888888888888, \"#fdca26\"], [1.0, \"#f0f921\"]], \"type\": \"contour\"}], \"contourcarpet\": [{\"colorbar\": {\"outlinewidth\": 0, \"ticks\": \"\"}, \"type\": \"contourcarpet\"}], \"heatmap\": [{\"colorbar\": {\"outlinewidth\": 0, \"ticks\": \"\"}, \"colorscale\": [[0.0, \"#0d0887\"], [0.1111111111111111, \"#46039f\"], [0.2222222222222222, \"#7201a8\"], [0.3333333333333333, \"#9c179e\"], [0.4444444444444444, \"#bd3786\"], [0.5555555555555556, \"#d8576b\"], [0.6666666666666666, \"#ed7953\"], [0.7777777777777778, \"#fb9f3a\"], [0.8888888888888888, \"#fdca26\"], [1.0, \"#f0f921\"]], \"type\": \"heatmap\"}], \"heatmapgl\": [{\"colorbar\": {\"outlinewidth\": 0, \"ticks\": \"\"}, \"colorscale\": [[0.0, \"#0d0887\"], [0.1111111111111111, \"#46039f\"], [0.2222222222222222, \"#7201a8\"], [0.3333333333333333, \"#9c179e\"], [0.4444444444444444, \"#bd3786\"], [0.5555555555555556, \"#d8576b\"], [0.6666666666666666, \"#ed7953\"], [0.7777777777777778, \"#fb9f3a\"], [0.8888888888888888, \"#fdca26\"], [1.0, \"#f0f921\"]], \"type\": \"heatmapgl\"}], \"histogram\": [{\"marker\": {\"colorbar\": {\"outlinewidth\": 0, \"ticks\": \"\"}}, \"type\": \"histogram\"}], \"histogram2d\": [{\"colorbar\": {\"outlinewidth\": 0, \"ticks\": \"\"}, \"colorscale\": [[0.0, \"#0d0887\"], [0.1111111111111111, \"#46039f\"], [0.2222222222222222, \"#7201a8\"], [0.3333333333333333, \"#9c179e\"], [0.4444444444444444, \"#bd3786\"], [0.5555555555555556, \"#d8576b\"], [0.6666666666666666, \"#ed7953\"], [0.7777777777777778, \"#fb9f3a\"], [0.8888888888888888, \"#fdca26\"], [1.0, \"#f0f921\"]], \"type\": \"histogram2d\"}], \"histogram2dcontour\": [{\"colorbar\": {\"outlinewidth\": 0, \"ticks\": \"\"}, \"colorscale\": [[0.0, \"#0d0887\"], [0.1111111111111111, \"#46039f\"], [0.2222222222222222, \"#7201a8\"], [0.3333333333333333, \"#9c179e\"], [0.4444444444444444, \"#bd3786\"], [0.5555555555555556, \"#d8576b\"], [0.6666666666666666, \"#ed7953\"], [0.7777777777777778, \"#fb9f3a\"], [0.8888888888888888, \"#fdca26\"], [1.0, \"#f0f921\"]], \"type\": \"histogram2dcontour\"}], \"mesh3d\": [{\"colorbar\": {\"outlinewidth\": 0, \"ticks\": \"\"}, \"type\": \"mesh3d\"}], \"parcoords\": [{\"line\": {\"colorbar\": {\"outlinewidth\": 0, \"ticks\": \"\"}}, \"type\": \"parcoords\"}], \"pie\": [{\"automargin\": true, \"type\": \"pie\"}], \"scatter\": [{\"marker\": {\"colorbar\": {\"outlinewidth\": 0, \"ticks\": \"\"}}, \"type\": \"scatter\"}], \"scatter3d\": [{\"line\": {\"colorbar\": {\"outlinewidth\": 0, \"ticks\": \"\"}}, \"marker\": {\"colorbar\": {\"outlinewidth\": 0, \"ticks\": \"\"}}, \"type\": \"scatter3d\"}], \"scattercarpet\": [{\"marker\": {\"colorbar\": {\"outlinewidth\": 0, \"ticks\": \"\"}}, \"type\": \"scattercarpet\"}], \"scattergeo\": [{\"marker\": {\"colorbar\": {\"outlinewidth\": 0, \"ticks\": \"\"}}, \"type\": \"scattergeo\"}], \"scattergl\": [{\"marker\": {\"colorbar\": {\"outlinewidth\": 0, \"ticks\": \"\"}}, \"type\": \"scattergl\"}], \"scattermapbox\": [{\"marker\": {\"colorbar\": {\"outlinewidth\": 0, \"ticks\": \"\"}}, \"type\": \"scattermapbox\"}], \"scatterpolar\": [{\"marker\": {\"colorbar\": {\"outlinewidth\": 0, \"ticks\": \"\"}}, \"type\": \"scatterpolar\"}], \"scatterpolargl\": [{\"marker\": {\"colorbar\": {\"outlinewidth\": 0, \"ticks\": \"\"}}, \"type\": \"scatterpolargl\"}], \"scatterternary\": [{\"marker\": {\"colorbar\": {\"outlinewidth\": 0, \"ticks\": \"\"}}, \"type\": \"scatterternary\"}], \"surface\": [{\"colorbar\": {\"outlinewidth\": 0, \"ticks\": \"\"}, \"colorscale\": [[0.0, \"#0d0887\"], [0.1111111111111111, \"#46039f\"], [0.2222222222222222, \"#7201a8\"], [0.3333333333333333, \"#9c179e\"], [0.4444444444444444, \"#bd3786\"], [0.5555555555555556, \"#d8576b\"], [0.6666666666666666, \"#ed7953\"], [0.7777777777777778, \"#fb9f3a\"], [0.8888888888888888, \"#fdca26\"], [1.0, \"#f0f921\"]], \"type\": \"surface\"}], \"table\": [{\"cells\": {\"fill\": {\"color\": \"#EBF0F8\"}, \"line\": {\"color\": \"white\"}}, \"header\": {\"fill\": {\"color\": \"#C8D4E3\"}, \"line\": {\"color\": \"white\"}}, \"type\": \"table\"}]}, \"layout\": {\"annotationdefaults\": {\"arrowcolor\": \"#2a3f5f\", \"arrowhead\": 0, \"arrowwidth\": 1}, \"coloraxis\": {\"colorbar\": {\"outlinewidth\": 0, \"ticks\": \"\"}}, \"colorscale\": {\"diverging\": [[0, \"#8e0152\"], [0.1, \"#c51b7d\"], [0.2, \"#de77ae\"], [0.3, \"#f1b6da\"], [0.4, \"#fde0ef\"], [0.5, \"#f7f7f7\"], [0.6, \"#e6f5d0\"], [0.7, \"#b8e186\"], [0.8, \"#7fbc41\"], [0.9, \"#4d9221\"], [1, \"#276419\"]], \"sequential\": [[0.0, \"#0d0887\"], [0.1111111111111111, \"#46039f\"], [0.2222222222222222, \"#7201a8\"], [0.3333333333333333, \"#9c179e\"], [0.4444444444444444, \"#bd3786\"], [0.5555555555555556, \"#d8576b\"], [0.6666666666666666, \"#ed7953\"], [0.7777777777777778, \"#fb9f3a\"], [0.8888888888888888, \"#fdca26\"], [1.0, \"#f0f921\"]], \"sequentialminus\": [[0.0, \"#0d0887\"], [0.1111111111111111, \"#46039f\"], [0.2222222222222222, \"#7201a8\"], [0.3333333333333333, \"#9c179e\"], [0.4444444444444444, \"#bd3786\"], [0.5555555555555556, \"#d8576b\"], [0.6666666666666666, \"#ed7953\"], [0.7777777777777778, \"#fb9f3a\"], [0.8888888888888888, \"#fdca26\"], [1.0, \"#f0f921\"]]}, \"colorway\": [\"#636efa\", \"#EF553B\", \"#00cc96\", \"#ab63fa\", \"#FFA15A\", \"#19d3f3\", \"#FF6692\", \"#B6E880\", \"#FF97FF\", \"#FECB52\"], \"font\": {\"color\": \"#2a3f5f\"}, \"geo\": {\"bgcolor\": \"white\", \"lakecolor\": \"white\", \"landcolor\": \"#E5ECF6\", \"showlakes\": true, \"showland\": true, \"subunitcolor\": \"white\"}, \"hoverlabel\": {\"align\": \"left\"}, \"hovermode\": \"closest\", \"mapbox\": {\"style\": \"light\"}, \"paper_bgcolor\": \"white\", \"plot_bgcolor\": \"#E5ECF6\", \"polar\": {\"angularaxis\": {\"gridcolor\": \"white\", \"linecolor\": \"white\", \"ticks\": \"\"}, \"bgcolor\": \"#E5ECF6\", \"radialaxis\": {\"gridcolor\": \"white\", \"linecolor\": \"white\", \"ticks\": \"\"}}, \"scene\": {\"xaxis\": {\"backgroundcolor\": \"#E5ECF6\", \"gridcolor\": \"white\", \"gridwidth\": 2, \"linecolor\": \"white\", \"showbackground\": true, \"ticks\": \"\", \"zerolinecolor\": \"white\"}, \"yaxis\": {\"backgroundcolor\": \"#E5ECF6\", \"gridcolor\": \"white\", \"gridwidth\": 2, \"linecolor\": \"white\", \"showbackground\": true, \"ticks\": \"\", \"zerolinecolor\": \"white\"}, \"zaxis\": {\"backgroundcolor\": \"#E5ECF6\", \"gridcolor\": \"white\", \"gridwidth\": 2, \"linecolor\": \"white\", \"showbackground\": true, \"ticks\": \"\", \"zerolinecolor\": \"white\"}}, \"shapedefaults\": {\"line\": {\"color\": \"#2a3f5f\"}}, \"ternary\": {\"aaxis\": {\"gridcolor\": \"white\", \"linecolor\": \"white\", \"ticks\": \"\"}, \"baxis\": {\"gridcolor\": \"white\", \"linecolor\": \"white\", \"ticks\": \"\"}, \"bgcolor\": \"#E5ECF6\", \"caxis\": {\"gridcolor\": \"white\", \"linecolor\": \"white\", \"ticks\": \"\"}}, \"title\": {\"x\": 0.05}, \"xaxis\": {\"automargin\": true, \"gridcolor\": \"white\", \"linecolor\": \"white\", \"ticks\": \"\", \"title\": {\"standoff\": 15}, \"zerolinecolor\": \"white\", \"zerolinewidth\": 2}, \"yaxis\": {\"automargin\": true, \"gridcolor\": \"white\", \"linecolor\": \"white\", \"ticks\": \"\", \"title\": {\"standoff\": 15}, \"zerolinecolor\": \"white\", \"zerolinewidth\": 2}}}, \"xaxis\": {\"anchor\": \"y\", \"domain\": [0.0, 1.0], \"title\": {\"text\": \"age\"}}, \"yaxis\": {\"anchor\": \"x\", \"domain\": [0.0, 1.0], \"title\": {\"text\": \"count\"}}},                        {\"responsive\": true}                    ).then(function(){\n",
       "                            \n",
       "var gd = document.getElementById('2aa9295c-c97a-4b36-a952-4d1f3f88c530');\n",
       "var x = new MutationObserver(function (mutations, observer) {{\n",
       "        var display = window.getComputedStyle(gd).display;\n",
       "        if (!display || display === 'none') {{\n",
       "            console.log([gd, 'removed!']);\n",
       "            Plotly.purge(gd);\n",
       "            observer.disconnect();\n",
       "        }}\n",
       "}});\n",
       "\n",
       "// Listen for the removal of the full notebook cells\n",
       "var notebookContainer = gd.closest('#notebook-container');\n",
       "if (notebookContainer) {{\n",
       "    x.observe(notebookContainer, {childList: true});\n",
       "}}\n",
       "\n",
       "// Listen for the clearing of the current output cell\n",
       "var outputEl = gd.closest('.output');\n",
       "if (outputEl) {{\n",
       "    x.observe(outputEl, {childList: true});\n",
       "}}\n",
       "\n",
       "                        })                };                });            </script>        </div>"
      ]
     },
     "metadata": {},
     "output_type": "display_data"
    }
   ],
   "source": [
    "px.histogram(ti, x='age', color='sex')"
   ]
  },
  {
   "cell_type": "code",
   "execution_count": null,
   "metadata": {},
   "outputs": [],
   "source": []
  }
 ],
 "metadata": {
  "kernelspec": {
   "display_name": "Python 3",
   "language": "python",
   "name": "python3"
  },
  "language_info": {
   "codemirror_mode": {
    "name": "ipython",
    "version": 3
   },
   "file_extension": ".py",
   "mimetype": "text/x-python",
   "name": "python",
   "nbconvert_exporter": "python",
   "pygments_lexer": "ipython3",
   "version": "3.8.3"
  }
 },
 "nbformat": 4,
 "nbformat_minor": 4
}
