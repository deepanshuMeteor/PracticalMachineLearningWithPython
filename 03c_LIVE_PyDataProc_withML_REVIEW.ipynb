{
 "cells": [
  {
   "cell_type": "markdown",
   "id": "d697456d",
   "metadata": {},
   "source": [
    "# Python Data Processing"
   ]
  },
  {
   "cell_type": "markdown",
   "id": "f51271bb",
   "metadata": {},
   "source": [
    "## Comprehensions"
   ]
  },
  {
   "cell_type": "markdown",
   "id": "0849b135",
   "metadata": {},
   "source": [
    "#### Example: Regression\n",
    "\n",
    "* $y$ is a quantity\n",
    "    * $y \\in \\mathbb{R}$\n",
    "        * $\\mathbb{R}$ aproximately `float`"
   ]
  },
  {
   "cell_type": "code",
   "execution_count": 1,
   "id": "ee44bdff",
   "metadata": {},
   "outputs": [],
   "source": [
    "from random import randint"
   ]
  },
  {
   "cell_type": "code",
   "execution_count": 4,
   "id": "6d320c30",
   "metadata": {},
   "outputs": [],
   "source": [
    "X = [\n",
    "    (60, 120, 200),  # hr, bp, caffine\n",
    "    (randint(55, 100), randint(100, 140), 100 * randint(1, 10)),\n",
    "    (randint(55, 100), randint(100, 140), 100 * randint(1, 10)),\n",
    "    (randint(55, 100), randint(100, 140), 100 * randint(1, 10)),\n",
    "]"
   ]
  },
  {
   "cell_type": "code",
   "execution_count": 7,
   "id": "9939aa1d",
   "metadata": {},
   "outputs": [],
   "source": [
    "y = [ # was sleep good?\n",
    "    True, \n",
    "    True,\n",
    "    False, \n",
    "    False\n",
    "]"
   ]
  },
  {
   "cell_type": "code",
   "execution_count": 8,
   "id": "f66cf283",
   "metadata": {
    "scrolled": true
   },
   "outputs": [
    {
     "data": {
      "text/plain": [
       "[(60, 120, 200), (97, 119, 300), (76, 112, 600), (60, 104, 300)]"
      ]
     },
     "execution_count": 8,
     "metadata": {},
     "output_type": "execute_result"
    }
   ],
   "source": [
    "X"
   ]
  },
  {
   "cell_type": "markdown",
   "id": "be86bf20",
   "metadata": {},
   "source": [
    "#### Data Simulation: Generating $X$"
   ]
  },
  {
   "cell_type": "code",
   "execution_count": 10,
   "id": "4b92111a",
   "metadata": {},
   "outputs": [
    {
     "data": {
      "text/plain": [
       "[0, 1, 2, 3]"
      ]
     },
     "execution_count": 10,
     "metadata": {},
     "output_type": "execute_result"
    }
   ],
   "source": [
    "[ i for i in range(0, 4)]"
   ]
  },
  {
   "cell_type": "markdown",
   "id": "48a91408",
   "metadata": {},
   "source": [
    "By convention, when not using a variable, we name it `_`, "
   ]
  },
  {
   "cell_type": "code",
   "execution_count": 12,
   "id": "54943dc9",
   "metadata": {},
   "outputs": [
    {
     "data": {
      "text/plain": [
       "[0, 1, 2, 3]"
      ]
     },
     "execution_count": 12,
     "metadata": {},
     "output_type": "execute_result"
    }
   ],
   "source": [
    "[ _ for _ in range(0, 4)]"
   ]
  },
  {
   "cell_type": "markdown",
   "id": "62038a9d",
   "metadata": {},
   "source": [
    "We can use `range` to generate `N` data points by ignoring the output of `range` and just writing the generation code, "
   ]
  },
  {
   "cell_type": "code",
   "execution_count": 22,
   "id": "8da2ccf6",
   "metadata": {},
   "outputs": [],
   "source": [
    "X = [ (randint(60, 100), randint(100, 200), randint(0, 600)) for _ in range(0, 4)]"
   ]
  },
  {
   "cell_type": "code",
   "execution_count": 16,
   "id": "60734fed",
   "metadata": {},
   "outputs": [
    {
     "name": "stdout",
     "output_type": "stream",
     "text": [
      "[(93, 103, 600), (89, 133, 176), (96, 139, 534), (72, 102, 22)]\n"
     ]
    }
   ],
   "source": [
    "print(X)"
   ]
  },
  {
   "cell_type": "markdown",
   "id": "cc4f393d",
   "metadata": {},
   "source": [
    "### Computing $y$ from $X$"
   ]
  },
  {
   "cell_type": "markdown",
   "id": "3bef8dfe",
   "metadata": {},
   "source": [
    "Consider computing scores across $X$ based on some weighting factors, "
   ]
  },
  {
   "cell_type": "code",
   "execution_count": 18,
   "id": "34aabace",
   "metadata": {},
   "outputs": [
    {
     "data": {
      "text/plain": [
       "[(93, 103, 600), (89, 133, 176), (96, 139, 534), (72, 102, 22)]"
      ]
     },
     "execution_count": 18,
     "metadata": {},
     "output_type": "execute_result"
    }
   ],
   "source": [
    "[ x for x in X ]"
   ]
  },
  {
   "cell_type": "code",
   "execution_count": 40,
   "id": "c6bdccd2",
   "metadata": {},
   "outputs": [
    {
     "data": {
      "text/plain": [
       "[1217, 1926, 1299, 3027]"
      ]
     },
     "execution_count": 40,
     "metadata": {},
     "output_type": "execute_result"
    }
   ],
   "source": [
    "[  2*x0 + 3*x1 + 4*x2 for (x0, x1, x2) in X ]"
   ]
  },
  {
   "cell_type": "markdown",
   "id": "9e738032",
   "metadata": {},
   "source": [
    "If these scores go between `0` and `1` we can interpret them as a *probability* of $y$ being True, "
   ]
  },
  {
   "cell_type": "code",
   "execution_count": 33,
   "id": "55d5de81",
   "metadata": {},
   "outputs": [
    {
     "data": {
      "text/plain": [
       "[1.9749999999999999, 2.356666666666667, 1.815, 2.631666666666667]"
      ]
     },
     "execution_count": 33,
     "metadata": {},
     "output_type": "execute_result"
    }
   ],
   "source": [
    "[  x0/100 + x1/200 + x2/600 for (x0, x1, x2) in X ]"
   ]
  },
  {
   "cell_type": "code",
   "execution_count": 34,
   "id": "62e14778",
   "metadata": {},
   "outputs": [
    {
     "data": {
      "text/plain": [
       "[0.6583333333333333, 0.7855555555555555, 0.605, 0.8772222222222221]"
      ]
     },
     "execution_count": 34,
     "metadata": {},
     "output_type": "execute_result"
    }
   ],
   "source": [
    "[  1/3 * x0/100 + 1/3 * x1/200 + 1/3 * x2/600 for (x0, x1, x2) in X ]"
   ]
  },
  {
   "cell_type": "markdown",
   "id": "721a40e5",
   "metadata": {},
   "source": [
    "Above we are just weighing each $x$ *the same* (ie., `1, 1, 1`), we would like to weight differently, "
   ]
  },
  {
   "cell_type": "code",
   "execution_count": 37,
   "id": "9b142848",
   "metadata": {},
   "outputs": [
    {
     "data": {
      "text/plain": [
       "[-175, 352, -100, 1187]"
      ]
     },
     "execution_count": 37,
     "metadata": {},
     "output_type": "execute_result"
    }
   ],
   "source": [
    "w = [1, 2, 3]\n",
    "b = -1000\n",
    "[ (w[0]*x0) + (w[1]*x1) + (w[2]*x2) + b for (x0, x1, x2) in X ]"
   ]
  },
  {
   "cell_type": "markdown",
   "id": "59651fb0",
   "metadata": {},
   "source": [
    "To return to probabilities, we can `scale` and `weight`, "
   ]
  },
  {
   "cell_type": "code",
   "execution_count": 38,
   "id": "7d00c56b",
   "metadata": {},
   "outputs": [
    {
     "data": {
      "text/plain": [
       "[0.0026666666666666505,\n",
       " 0.047555555555555545,\n",
       " -0.021999999999999992,\n",
       " 0.10222222222222221]"
      ]
     },
     "execution_count": 38,
     "metadata": {},
     "output_type": "execute_result"
    }
   ],
   "source": [
    "scale = [(1/3 * 1/100), (1/3 * 1/200), (1/3 * 1/600)]\n",
    "\n",
    "w = [0.2, 0.4, 0.4]\n",
    "b = -0.2\n",
    "\n",
    "[ (w[0]*scale[0]*x0) + (w[1]*scale[1]*x1) + (w[2]*scale[2]*x2) + b for (x0, x1, x2) in X ]"
   ]
  },
  {
   "cell_type": "markdown",
   "id": "2adaa1bb",
   "metadata": {},
   "source": [
    "In practice, weights may often include the scale factor,"
   ]
  },
  {
   "cell_type": "code",
   "execution_count": 39,
   "id": "8b6b7d7a",
   "metadata": {},
   "outputs": [
    {
     "data": {
      "text/plain": [
       "[0.0026666666666666505,\n",
       " 0.047555555555555545,\n",
       " -0.021999999999999992,\n",
       " 0.10222222222222221]"
      ]
     },
     "execution_count": 39,
     "metadata": {},
     "output_type": "execute_result"
    }
   ],
   "source": [
    "w = [0.2 * (1/3 * 1/100), 0.4 * (1/3 * 1/200), 0.4 * (1/3 * 1/600)]\n",
    "b = -0.2\n",
    "\n",
    "[ (w[0]*x0) + (w[1]*x1) + (w[2]*x2) + b for (x0, x1, x2) in X ]"
   ]
  },
  {
   "cell_type": "markdown",
   "id": "76511717",
   "metadata": {},
   "source": [
    "The predicitons for $y$, ie., $\\hat{y}$ are whether these are `<0`, "
   ]
  },
  {
   "cell_type": "code",
   "execution_count": 41,
   "id": "6fbda62a",
   "metadata": {},
   "outputs": [
    {
     "data": {
      "text/plain": [
       "[False, False, True, False]"
      ]
     },
     "execution_count": 41,
     "metadata": {},
     "output_type": "execute_result"
    }
   ],
   "source": [
    "w = [0.2 * (1/3 * 1/100), 0.4 * (1/3 * 1/200), 0.4 * (1/3 * 1/600)]\n",
    "b = -0.2\n",
    "\n",
    "[ (w[0]*x0) + (w[1]*x1) + (w[2]*x2) + b < 0 for (x0, x1, x2) in X ]"
   ]
  },
  {
   "cell_type": "markdown",
   "id": "e747bdb6",
   "metadata": {},
   "source": [
    "## Further Comprehensions"
   ]
  },
  {
   "cell_type": "markdown",
   "id": "6d8ef9b9",
   "metadata": {},
   "source": [
    "#### Filters"
   ]
  },
  {
   "cell_type": "code",
   "execution_count": 44,
   "id": "b7e7213b",
   "metadata": {},
   "outputs": [],
   "source": [
    "X = [\n",
    "    (1, 2),\n",
    "    (None, 3),\n",
    "    (1.2, 2.4),\n",
    "]"
   ]
  },
  {
   "cell_type": "markdown",
   "id": "a780326b",
   "metadata": {},
   "source": [
    "A decision tree formula is a formula involving logical operations, "
   ]
  },
  {
   "cell_type": "code",
   "execution_count": 43,
   "id": "d749295d",
   "metadata": {},
   "outputs": [
    {
     "data": {
      "text/plain": [
       "[False, True]"
      ]
     },
     "execution_count": 43,
     "metadata": {},
     "output_type": "execute_result"
    }
   ],
   "source": [
    "[ (x0 <3) and (x1 > 2) for x0, x1 in X]"
   ]
  },
  {
   "cell_type": "markdown",
   "id": "ee611379",
   "metadata": {},
   "source": [
    "There is missing data,"
   ]
  },
  {
   "cell_type": "code",
   "execution_count": 47,
   "id": "89f314cf",
   "metadata": {},
   "outputs": [
    {
     "ename": "TypeError",
     "evalue": "'<' not supported between instances of 'NoneType' and 'int'",
     "output_type": "error",
     "traceback": [
      "\u001b[0;31m---------------------------------------------------------------------------\u001b[0m",
      "\u001b[0;31mTypeError\u001b[0m                                 Traceback (most recent call last)",
      "\u001b[0;32m<ipython-input-47-e856346f336c>\u001b[0m in \u001b[0;36m<module>\u001b[0;34m\u001b[0m\n\u001b[0;32m----> 1\u001b[0;31m \u001b[0;34m[\u001b[0m \u001b[0;34m(\u001b[0m\u001b[0mx0\u001b[0m \u001b[0;34m<\u001b[0m\u001b[0;36m3\u001b[0m\u001b[0;34m)\u001b[0m \u001b[0;32mand\u001b[0m \u001b[0;34m(\u001b[0m\u001b[0mx1\u001b[0m \u001b[0;34m>\u001b[0m \u001b[0;36m2\u001b[0m\u001b[0;34m)\u001b[0m \u001b[0;32mfor\u001b[0m \u001b[0mx0\u001b[0m\u001b[0;34m,\u001b[0m \u001b[0mx1\u001b[0m \u001b[0;32min\u001b[0m \u001b[0mX\u001b[0m\u001b[0;34m]\u001b[0m\u001b[0;34m\u001b[0m\u001b[0;34m\u001b[0m\u001b[0m\n\u001b[0m",
      "\u001b[0;32m<ipython-input-47-e856346f336c>\u001b[0m in \u001b[0;36m<listcomp>\u001b[0;34m(.0)\u001b[0m\n\u001b[0;32m----> 1\u001b[0;31m \u001b[0;34m[\u001b[0m \u001b[0;34m(\u001b[0m\u001b[0mx0\u001b[0m \u001b[0;34m<\u001b[0m\u001b[0;36m3\u001b[0m\u001b[0;34m)\u001b[0m \u001b[0;32mand\u001b[0m \u001b[0;34m(\u001b[0m\u001b[0mx1\u001b[0m \u001b[0;34m>\u001b[0m \u001b[0;36m2\u001b[0m\u001b[0;34m)\u001b[0m \u001b[0;32mfor\u001b[0m \u001b[0mx0\u001b[0m\u001b[0;34m,\u001b[0m \u001b[0mx1\u001b[0m \u001b[0;32min\u001b[0m \u001b[0mX\u001b[0m\u001b[0;34m]\u001b[0m\u001b[0;34m\u001b[0m\u001b[0;34m\u001b[0m\u001b[0m\n\u001b[0m",
      "\u001b[0;31mTypeError\u001b[0m: '<' not supported between instances of 'NoneType' and 'int'"
     ]
    }
   ],
   "source": [
    "[ (x0 <3) and (x1 > 2) for x0, x1 in X]"
   ]
  },
  {
   "cell_type": "markdown",
   "id": "59c3e6b0",
   "metadata": {},
   "source": [
    "Lets filter,"
   ]
  },
  {
   "cell_type": "code",
   "execution_count": 48,
   "id": "5f7b6c7a",
   "metadata": {},
   "outputs": [
    {
     "data": {
      "text/plain": [
       "[False, True]"
      ]
     },
     "execution_count": 48,
     "metadata": {},
     "output_type": "execute_result"
    }
   ],
   "source": [
    "[ (x0 <3) and (x1 > 2) \n",
    "     for x0, x1 in X \n",
    "     if x0 is not None\n",
    "]"
   ]
  },
  {
   "cell_type": "markdown",
   "id": "38e76e62",
   "metadata": {},
   "source": [
    "#### Dictionary Comprehensions"
   ]
  },
  {
   "cell_type": "code",
   "execution_count": 49,
   "id": "015473cf",
   "metadata": {},
   "outputs": [
    {
     "data": {
      "text/plain": [
       "['M', 'i', 'c', 'h', 'a', 'e', 'l']"
      ]
     },
     "execution_count": 49,
     "metadata": {},
     "output_type": "execute_result"
    }
   ],
   "source": [
    "[ c for c in \"Michael\"]"
   ]
  },
  {
   "cell_type": "markdown",
   "id": "383b3709",
   "metadata": {},
   "source": [
    "A dictionary comprehension has the syntax, `{ k : v ... for ... in old }`, "
   ]
  },
  {
   "cell_type": "code",
   "execution_count": 51,
   "id": "c2bab7fa",
   "metadata": {},
   "outputs": [
    {
     "data": {
      "text/plain": [
       "{'M': 0, 'i': 1, 'c': 2, 'h': 3, 'a': 4, 'e': 5, 'l': 6}"
      ]
     },
     "execution_count": 51,
     "metadata": {},
     "output_type": "execute_result"
    }
   ],
   "source": [
    "{ c : \"Michael\".index(c) for c in \"Michael\"}"
   ]
  },
  {
   "cell_type": "markdown",
   "id": "16c04f8f",
   "metadata": {},
   "source": [
    "You are required to find some formula to generate a key `k` and `v` value possible from some, eg., list,"
   ]
  },
  {
   "cell_type": "code",
   "execution_count": 54,
   "id": "8ae9a340",
   "metadata": {},
   "outputs": [
    {
     "data": {
      "text/plain": [
       "{1: 2, None: 3, 1.2: 2.4}"
      ]
     },
     "execution_count": 54,
     "metadata": {},
     "output_type": "execute_result"
    }
   ],
   "source": [
    "{ x0 : x1 for x0, x1  in X }"
   ]
  },
  {
   "cell_type": "markdown",
   "id": "38c98213",
   "metadata": {},
   "source": [
    "## Looping Idioms"
   ]
  },
  {
   "cell_type": "markdown",
   "id": "4ff9123f",
   "metadata": {},
   "source": [
    "Python has utility looping operations (aka iterators, aka \"streaming operations\") which enable different kinds of data processing patterns,"
   ]
  },
  {
   "cell_type": "code",
   "execution_count": 55,
   "id": "e4c110ae",
   "metadata": {},
   "outputs": [
    {
     "data": {
      "text/plain": [
       "range(0, 10)"
      ]
     },
     "execution_count": 55,
     "metadata": {},
     "output_type": "execute_result"
    }
   ],
   "source": [
    "range(0, 10)"
   ]
  },
  {
   "cell_type": "markdown",
   "id": "4c74a0d5",
   "metadata": {},
   "source": [
    "`range` for repetition,"
   ]
  },
  {
   "cell_type": "code",
   "execution_count": 60,
   "id": "84f8b696",
   "metadata": {},
   "outputs": [
    {
     "data": {
      "text/plain": [
       "['Ho', 'Ho', 'Ho']"
      ]
     },
     "execution_count": 60,
     "metadata": {},
     "output_type": "execute_result"
    }
   ],
   "source": [
    "[ \"Ho\" for _ in range(0, 3)]"
   ]
  },
  {
   "cell_type": "markdown",
   "id": "8df511ce",
   "metadata": {},
   "source": [
    "`zip` for combination,"
   ]
  },
  {
   "cell_type": "code",
   "execution_count": 56,
   "id": "740dc90d",
   "metadata": {},
   "outputs": [
    {
     "data": {
      "text/plain": [
       "<zip at 0x7fc470713d40>"
      ]
     },
     "execution_count": 56,
     "metadata": {},
     "output_type": "execute_result"
    }
   ],
   "source": [
    "zip(\"Micahel\", [1, 2, 3, 4])"
   ]
  },
  {
   "cell_type": "code",
   "execution_count": 62,
   "id": "ca034173",
   "metadata": {},
   "outputs": [],
   "source": [
    "X = [1, 2, 3]\n",
    "y = [True, True, False]"
   ]
  },
  {
   "cell_type": "code",
   "execution_count": 63,
   "id": "c741a8d2",
   "metadata": {},
   "outputs": [
    {
     "data": {
      "text/plain": [
       "['X is 1 and y is True ', 'X is 2 and y is True ', 'X is 3 and y is False ']"
      ]
     },
     "execution_count": 63,
     "metadata": {},
     "output_type": "execute_result"
    }
   ],
   "source": [
    "[ f\"X is {x} and y is {y} \" for x, y in zip(X, y) ]"
   ]
  },
  {
   "cell_type": "markdown",
   "id": "26386954",
   "metadata": {},
   "source": [
    "`enumerate` provides indexes, "
   ]
  },
  {
   "cell_type": "code",
   "execution_count": 57,
   "id": "b792347e",
   "metadata": {},
   "outputs": [
    {
     "data": {
      "text/plain": [
       "<enumerate at 0x7fc4604b87c0>"
      ]
     },
     "execution_count": 57,
     "metadata": {},
     "output_type": "execute_result"
    }
   ],
   "source": [
    "enumerate(X)"
   ]
  },
  {
   "cell_type": "code",
   "execution_count": 65,
   "id": "0fabe24c",
   "metadata": {},
   "outputs": [
    {
     "name": "stdout",
     "output_type": "stream",
     "text": [
      "0 (1, 2)\n",
      "1 (None, 3)\n",
      "2 (1.2, 2.4)\n"
     ]
    }
   ],
   "source": [
    "X = [\n",
    "    (1, 2),\n",
    "    (None, 3),\n",
    "    (1.2, 2.4),\n",
    "]\n",
    "\n",
    "for i, x in enumerate(X):\n",
    "    print(i, x)"
   ]
  },
  {
   "cell_type": "markdown",
   "id": "59534fcb",
   "metadata": {},
   "source": [
    "Using `list` we can convert iterators to lists which computes all the elements the iterator generates,"
   ]
  },
  {
   "cell_type": "code",
   "execution_count": 66,
   "id": "7fdce12f",
   "metadata": {},
   "outputs": [
    {
     "data": {
      "text/plain": [
       "[(1.2, 2.4), (None, 3), (1, 2)]"
      ]
     },
     "execution_count": 66,
     "metadata": {},
     "output_type": "execute_result"
    }
   ],
   "source": [
    "list(reversed(X))"
   ]
  },
  {
   "cell_type": "markdown",
   "id": "315433b5",
   "metadata": {},
   "source": [
    "...sorting,"
   ]
  },
  {
   "cell_type": "code",
   "execution_count": 59,
   "id": "275acfea",
   "metadata": {},
   "outputs": [
    {
     "data": {
      "text/plain": [
       "[False, False, True, True]"
      ]
     },
     "execution_count": 59,
     "metadata": {},
     "output_type": "execute_result"
    }
   ],
   "source": [
    "sorted(y)"
   ]
  },
  {
   "cell_type": "code",
   "execution_count": 67,
   "id": "d46afb65",
   "metadata": {},
   "outputs": [
    {
     "data": {
      "text/plain": [
       "['M', 'a', 'c', 'e', 'h', 'i', 'l']"
      ]
     },
     "execution_count": 67,
     "metadata": {},
     "output_type": "execute_result"
    }
   ],
   "source": [
    "sorted(\"Michael\")"
   ]
  },
  {
   "cell_type": "code",
   "execution_count": 69,
   "id": "f9e3d4f0",
   "metadata": {},
   "outputs": [
    {
     "data": {
      "text/plain": [
       "['l', 'i', 'h', 'e', 'c', 'a', 'M']"
      ]
     },
     "execution_count": 69,
     "metadata": {},
     "output_type": "execute_result"
    }
   ],
   "source": [
    "sorted(\"Michael\", reverse=True)"
   ]
  },
  {
   "cell_type": "markdown",
   "id": "07e095d4",
   "metadata": {},
   "source": [
    "Min'ing and Max'ing, "
   ]
  },
  {
   "cell_type": "code",
   "execution_count": 70,
   "id": "9d5c6d87",
   "metadata": {},
   "outputs": [
    {
     "data": {
      "text/plain": [
       "'M'"
      ]
     },
     "execution_count": 70,
     "metadata": {},
     "output_type": "execute_result"
    }
   ],
   "source": [
    "min(\"Micahel\")"
   ]
  },
  {
   "cell_type": "code",
   "execution_count": 71,
   "id": "06167362",
   "metadata": {},
   "outputs": [
    {
     "data": {
      "text/plain": [
       "'l'"
      ]
     },
     "execution_count": 71,
     "metadata": {},
     "output_type": "execute_result"
    }
   ],
   "source": [
    "max(\"Micahel\")"
   ]
  },
  {
   "cell_type": "markdown",
   "id": "ae6cebc8",
   "metadata": {},
   "source": [
    "Which are very useful when working with lists of tuples,"
   ]
  },
  {
   "cell_type": "code",
   "execution_count": 72,
   "id": "ac82a0ea",
   "metadata": {},
   "outputs": [],
   "source": [
    "ranked = [\n",
    "    (101, [\"SOMEDATA\", \"SOMEMORE\"]),\n",
    "    (33, [\"SOMEDATA\", \"SOMEMORE\"]),\n",
    "    (6, [\"SOMEDATA\", \"SOMEMORE\"])\n",
    "]"
   ]
  },
  {
   "cell_type": "markdown",
   "id": "66df9a69",
   "metadata": {},
   "source": [
    "`min` and `max` consider the first element only when producing a minimum or maximum,"
   ]
  },
  {
   "cell_type": "code",
   "execution_count": 73,
   "id": "354ad3ad",
   "metadata": {},
   "outputs": [
    {
     "data": {
      "text/plain": [
       "(6, ['SOMEDATA', 'SOMEMORE'])"
      ]
     },
     "execution_count": 73,
     "metadata": {},
     "output_type": "execute_result"
    }
   ],
   "source": [
    "min(ranked)"
   ]
  },
  {
   "cell_type": "code",
   "execution_count": 74,
   "id": "fad2b430",
   "metadata": {},
   "outputs": [
    {
     "data": {
      "text/plain": [
       "(101, ['SOMEDATA', 'SOMEMORE'])"
      ]
     },
     "execution_count": 74,
     "metadata": {},
     "output_type": "execute_result"
    }
   ],
   "source": [
    "max(ranked)"
   ]
  },
  {
   "cell_type": "markdown",
   "id": "cf848bf6",
   "metadata": {},
   "source": [
    "## Example"
   ]
  },
  {
   "cell_type": "markdown",
   "id": "8e2c2cca",
   "metadata": {},
   "source": [
    "Consider a case of trying lots of different `w, b` values for a dataset and recording the error associated with each."
   ]
  },
  {
   "cell_type": "code",
   "execution_count": 80,
   "id": "c6f1d9e1",
   "metadata": {},
   "outputs": [
    {
     "data": {
      "text/plain": [
       "[18, 31, 23]"
      ]
     },
     "execution_count": 80,
     "metadata": {},
     "output_type": "execute_result"
    }
   ],
   "source": [
    "X_age = [18, 31, 23]\n",
    "y_price = [2.3, 4.6, 3.2]\n",
    "\n",
    "[x  for x in X_age ]"
   ]
  },
  {
   "cell_type": "markdown",
   "id": "54debcd3",
   "metadata": {},
   "source": [
    "For example,"
   ]
  },
  {
   "cell_type": "code",
   "execution_count": 81,
   "id": "1297334f",
   "metadata": {},
   "outputs": [
    {
     "data": {
      "text/plain": [
       "[2.8, 4.1, 3.3000000000000003]"
      ]
     },
     "execution_count": 81,
     "metadata": {},
     "output_type": "execute_result"
    }
   ],
   "source": [
    "[ 0.1 * x + 1  for x in X_age ]"
   ]
  },
  {
   "cell_type": "code",
   "execution_count": 83,
   "id": "09a601b7",
   "metadata": {},
   "outputs": [
    {
     "data": {
      "text/plain": [
       "[2.8, 4.1, 3.3000000000000003]"
      ]
     },
     "execution_count": 83,
     "metadata": {},
     "output_type": "execute_result"
    }
   ],
   "source": [
    "w, b = 0.1, 1\n",
    "\n",
    "[ w * x + b for x in X_age ]"
   ]
  },
  {
   "cell_type": "markdown",
   "id": "6bba88f2",
   "metadata": {},
   "source": [
    "Let's compare with the known $y$, "
   ]
  },
  {
   "cell_type": "code",
   "execution_count": 86,
   "id": "679cdcab",
   "metadata": {},
   "outputs": [
    {
     "data": {
      "text/plain": [
       "[(2.3, 2.8), (4.6, 4.1), (3.2, 3.3000000000000003)]"
      ]
     },
     "execution_count": 86,
     "metadata": {},
     "output_type": "execute_result"
    }
   ],
   "source": [
    "[(y, (w * x + b)) for x, y in zip(X_age, y_price) ]"
   ]
  },
  {
   "cell_type": "markdown",
   "id": "a397c35e",
   "metadata": {},
   "source": [
    "The error is their difference, ignoring the sign,"
   ]
  },
  {
   "cell_type": "code",
   "execution_count": 94,
   "id": "622837a7",
   "metadata": {},
   "outputs": [
    {
     "data": {
      "text/plain": [
       "[0.5, 0.5, 0.10000000000000009]"
      ]
     },
     "execution_count": 94,
     "metadata": {},
     "output_type": "execute_result"
    }
   ],
   "source": [
    "[ abs(y - (w * x + b)) for x, y in zip(X_age, y_price) ]"
   ]
  },
  {
   "cell_type": "code",
   "execution_count": 98,
   "id": "e2c378ec",
   "metadata": {},
   "outputs": [
    {
     "data": {
      "text/plain": [
       "[0.5, 0.5, 0.10000000000000009]"
      ]
     },
     "execution_count": 98,
     "metadata": {},
     "output_type": "execute_result"
    }
   ],
   "source": [
    "[ abs(y - (w * x + b)) for x, y in zip(X_age, y_price) ]"
   ]
  },
  {
   "cell_type": "markdown",
   "id": "5b2b9899",
   "metadata": {},
   "source": [
    "Let's try lots of different $w, b$, "
   ]
  },
  {
   "cell_type": "code",
   "execution_count": 101,
   "id": "d9d3614f",
   "metadata": {},
   "outputs": [
    {
     "data": {
      "text/plain": [
       "[0.0, 0.1, 0.2, 0.3, 0.4, 0.5, 0.6, 0.7, 0.8, 0.9]"
      ]
     },
     "execution_count": 101,
     "metadata": {},
     "output_type": "execute_result"
    }
   ],
   "source": [
    "guesses = [guess/10 for guess in range(0, 10)]\n",
    "\n",
    "guesses"
   ]
  },
  {
   "cell_type": "markdown",
   "id": "bbdf1ff3",
   "metadata": {},
   "source": [
    "We can pair up guesses to give us wg and bg, "
   ]
  },
  {
   "cell_type": "code",
   "execution_count": 108,
   "id": "9b3d4608",
   "metadata": {},
   "outputs": [
    {
     "data": {
      "text/plain": [
       "[(1, 1), (1, 2), (2, 1), (2, 2)]"
      ]
     },
     "execution_count": 108,
     "metadata": {},
     "output_type": "execute_result"
    }
   ],
   "source": [
    "[(wg, bg) for wg in [1, 2] for bg in [1, 2]]"
   ]
  },
  {
   "cell_type": "markdown",
   "id": "50b0fcf4",
   "metadata": {},
   "source": [
    "This is lots,"
   ]
  },
  {
   "cell_type": "code",
   "execution_count": 114,
   "id": "9c8015ff",
   "metadata": {
    "scrolled": true
   },
   "outputs": [],
   "source": [
    "wb = [(wg, bg) for wg in guesses for bg in guesses ]"
   ]
  },
  {
   "cell_type": "code",
   "execution_count": 115,
   "id": "aadbacf6",
   "metadata": {},
   "outputs": [
    {
     "data": {
      "text/plain": [
       "100"
      ]
     },
     "execution_count": 115,
     "metadata": {},
     "output_type": "execute_result"
    }
   ],
   "source": [
    "len(wb)"
   ]
  },
  {
   "cell_type": "markdown",
   "id": "9c2192a7",
   "metadata": {},
   "source": [
    "The first 5,"
   ]
  },
  {
   "cell_type": "code",
   "execution_count": 116,
   "id": "7914257f",
   "metadata": {},
   "outputs": [
    {
     "data": {
      "text/plain": [
       "[(0.0, 0.0), (0.0, 0.1), (0.0, 0.2), (0.0, 0.3), (0.0, 0.4)]"
      ]
     },
     "execution_count": 116,
     "metadata": {},
     "output_type": "execute_result"
    }
   ],
   "source": [
    "wb[:5]"
   ]
  },
  {
   "cell_type": "code",
   "execution_count": 118,
   "id": "c8017b64",
   "metadata": {},
   "outputs": [],
   "source": [
    "trials = [ \n",
    "            ( sum([abs(y - (w * x + b)) for x, y in zip(X_age, y_price)]), (w, b) )\n",
    "            for w, b in wb\n",
    "]"
   ]
  },
  {
   "cell_type": "code",
   "execution_count": 121,
   "id": "b975f35f",
   "metadata": {},
   "outputs": [
    {
     "data": {
      "text/plain": [
       "[(10.1, (0.0, 0.0)), (9.799999999999999, (0.0, 0.1))]"
      ]
     },
     "execution_count": 121,
     "metadata": {},
     "output_type": "execute_result"
    }
   ],
   "source": [
    "trials[:2]"
   ]
  },
  {
   "cell_type": "markdown",
   "id": "cb9de353",
   "metadata": {},
   "source": [
    "Consider looking through `trials` history to find the best, `w, b`,"
   ]
  },
  {
   "cell_type": "code",
   "execution_count": 120,
   "id": "658ac234",
   "metadata": {
    "scrolled": true
   },
   "outputs": [
    {
     "data": {
      "text/plain": [
       "(1.0, (0.1, 0.9))"
      ]
     },
     "execution_count": 120,
     "metadata": {},
     "output_type": "execute_result"
    }
   ],
   "source": [
    "min(trials)"
   ]
  },
  {
   "cell_type": "markdown",
   "id": "b110b87c",
   "metadata": {},
   "source": [
    "...in one go, "
   ]
  },
  {
   "cell_type": "code",
   "execution_count": 127,
   "id": "8ca8a0af",
   "metadata": {},
   "outputs": [
    {
     "data": {
      "text/plain": [
       "(1.0, (1, 9))"
      ]
     },
     "execution_count": 127,
     "metadata": {},
     "output_type": "execute_result"
    }
   ],
   "source": [
    "min(( sum(abs(y - (w/10 * x + b/10)) for x, y in zip(X_age, y_price))\n",
    "     , (w, b)) \n",
    "    \n",
    "    for w in range(0, 10) \n",
    "    for b in range(0, 10) \n",
    ")\n"
   ]
  },
  {
   "cell_type": "markdown",
   "id": "bb62c7b2",
   "metadata": {},
   "source": [
    "Or,"
   ]
  },
  {
   "cell_type": "code",
   "execution_count": 132,
   "id": "4776e5bd",
   "metadata": {},
   "outputs": [],
   "source": [
    "def error(xs, ys, w, b):\n",
    "    return sum(abs(y - (w * x + b)) for x, y in zip(xs, ys))"
   ]
  },
  {
   "cell_type": "code",
   "execution_count": 133,
   "id": "35104856",
   "metadata": {},
   "outputs": [
    {
     "data": {
      "text/plain": [
       "(1.0, (0.1, 0.9))"
      ]
     },
     "execution_count": 133,
     "metadata": {},
     "output_type": "execute_result"
    }
   ],
   "source": [
    "min(\n",
    "    (error(X_age, y_price, w, b), (w, b)) \n",
    "    \n",
    "    for w in [i/10 for i in range(0, 10)]\n",
    "    for b in [i/10 for i in range(0, 10)]\n",
    ")\n"
   ]
  },
  {
   "cell_type": "code",
   "execution_count": null,
   "id": "2772ddc7",
   "metadata": {},
   "outputs": [],
   "source": []
  }
 ],
 "metadata": {
  "kernelspec": {
   "display_name": "Python 3.9",
   "language": "python",
   "name": "python3"
  },
  "language_info": {
   "codemirror_mode": {
    "name": "ipython",
    "version": 3
   },
   "file_extension": ".py",
   "mimetype": "text/x-python",
   "name": "python",
   "nbconvert_exporter": "python",
   "pygments_lexer": "ipython3",
   "version": "3.9.6"
  }
 },
 "nbformat": 4,
 "nbformat_minor": 5
}
