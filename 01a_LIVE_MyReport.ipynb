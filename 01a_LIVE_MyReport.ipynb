{
 "cells": [
  {
   "cell_type": "markdown",
   "id": "aa66c7df",
   "metadata": {},
   "source": [
    "## Exercise"
   ]
  },
  {
   "cell_type": "markdown",
   "id": "17626cc9",
   "metadata": {},
   "source": [
    "* browse to a folder using jupyter\n",
    "* create a new notebook\n",
    "* rename it\n",
    "    * click on the \"Untitled\" heading"
   ]
  },
  {
   "cell_type": "markdown",
   "id": "4e642432",
   "metadata": {},
   "source": [
    "**Raise hand when done.**"
   ]
  },
  {
   "cell_type": "markdown",
   "id": "148dc545",
   "metadata": {},
   "source": [
    "## Exercise\n",
    "\n",
    "* insert a cell and change to `Markdown`\n",
    "    * paste in the text formatting example\n",
    "    * RUN\n",
    "* insert a cell (leave as `Code`)\n",
    "    * paste in code example\n",
    "    * RUN\n",
    "    "
   ]
  },
  {
   "cell_type": "markdown",
   "id": "19f7a05f",
   "metadata": {},
   "source": [
    "**Raise hand when done.**"
   ]
  },
  {
   "cell_type": "markdown",
   "id": "e98cfb78",
   "metadata": {},
   "source": [
    "## Exercise (10 min)\n",
    " \n",
    "* create a new notebook\n",
    "* write a fake report for describing some analysis\n",
    "    * Eg., analysing `Age` vs `Spend` at a cinema\n",
    "    * Or, eg, change the example: profit vs. health \n",
    "* ie.,  just play around with the formatting *and python code*"
   ]
  },
  {
   "cell_type": "markdown",
   "id": "605c8737",
   "metadata": {},
   "source": [
    "# Report \n",
    "#### By Michael Burgess\n",
    "\n",
    "\n",
    "## Section One\n",
    "\n",
    "* bullet points\n",
    "    * subpoint\n",
    "    * subpoint\n",
    "* bullet points\n",
    "    1. one\n",
    "    1. two\n",
    "    1. three, `code formatting`\n",
    "    \n",
    "$\\hat{y} = \\hat{f}(X) : X \\in D_X, y \\in D_y : via \\mathcal{Alg}$\n",
    "\n",
    "<img src=/static/base/images/logo.png width=200px />\n",
    "\n",
    "\n",
    "> be the chage you wish to see in the world -- ghandi\n",
    "> more quote\n",
    "\n",
    "\n",
    "```java\n",
    "\n",
    "class Program {\n",
    "    public static void Main() { System.out.println(\"Simpe, right?!\"); \n",
    "}\n",
    "\n",
    "```\n",
    "\n",
    "---\n",
    "\n"
   ]
  },
  {
   "cell_type": "code",
   "execution_count": 5,
   "id": "e7407bc2",
   "metadata": {},
   "outputs": [
    {
     "data": {
      "text/plain": [
       "<AxesSubplot:>"
      ]
     },
     "execution_count": 5,
     "metadata": {},
     "output_type": "execute_result"
    },
    {
     "data": {
      "image/png": "[encoded data removed]",
      "text/plain": [
       "<Figure size 432x288 with 1 Axes>"
      ]
     },
     "metadata": {
      "needs_background": "light"
     },
     "output_type": "display_data"
    }
   ],
   "source": [
    "%matplotlib inline \n",
    "\n",
    "import seaborn as sns\n",
    "\n",
    "features = [7, 18, 21, 30, ] # ages\n",
    "target   = [12, 13, 10, 12]  # spend on sweets\n",
    "\n",
    "sns.scatterplot(x=features, y=target)"
   ]
  },
  {
   "cell_type": "markdown",
   "id": "58747300",
   "metadata": {},
   "source": [
    "---"
   ]
  },
  {
   "cell_type": "markdown",
   "id": "68fe11f8",
   "metadata": {},
   "source": [
    "```markdown\n",
    "\n",
    "# Report \n",
    "#### By Michael Burgess\n",
    "\n",
    "\n",
    "## Section One\n",
    "\n",
    "* bullet points\n",
    "    * subpoint\n",
    "    * subpoint\n",
    "* bullet points\n",
    "    1. one\n",
    "    1. two\n",
    "    1. three, `code formatting`\n",
    "    \n",
    "$\\hat{y} = \\hat{f}(X) : X \\in D_X, y \\in D_y : via \\mathcal{Alg}$\n",
    "\n",
    "<img src=/static/base/images/logo.png width=200px />\n",
    "\n",
    "\n",
    "> be the chage you wish to see in the world -- ghandi\n",
    "> more quote\n",
    "\n",
    "\n",
    "...```java\n",
    "\n",
    "class Program {\n",
    "    public static void Main() { System.out.println(\"Simpe, right?!\"); \n",
    "}\n",
    "\n",
    "...```\n",
    "\n",
    "---\n",
    "\n",
    "\n",
    "```"
   ]
  },
  {
   "cell_type": "code",
   "execution_count": null,
   "id": "8670c63c",
   "metadata": {},
   "outputs": [],
   "source": []
  }
 ],
 "metadata": {
  "kernelspec": {
   "display_name": "Python 3.9",
   "language": "python",
   "name": "python3"
  },
  "language_info": {
   "codemirror_mode": {
    "name": "ipython",
    "version": 3
   },
   "file_extension": ".py",
   "mimetype": "text/x-python",
   "name": "python",
   "nbconvert_exporter": "python",
   "pygments_lexer": "ipython3",
   "version": "3.9.6"
  }
 },
 "nbformat": 4,
 "nbformat_minor": 5
}
